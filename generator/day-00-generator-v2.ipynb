{
 "cells": [
  {
   "cell_type": "markdown",
   "metadata": {},
   "source": [
    "# День 00 - Сбор данных"
   ]
  },
  {
   "cell_type": "code",
   "execution_count": 84,
   "metadata": {},
   "outputs": [],
   "source": [
    "import os\n",
    "import random\n",
    "\n",
    "import numpy as np\n",
    "import pandas as pd"
   ]
  },
  {
   "cell_type": "code",
   "execution_count": 2,
   "metadata": {},
   "outputs": [],
   "source": [
    "VERSION = \"v2\""
   ]
  },
  {
   "cell_type": "code",
   "execution_count": 3,
   "metadata": {},
   "outputs": [],
   "source": [
    "random.seed(42)"
   ]
  },
  {
   "cell_type": "code",
   "execution_count": 4,
   "metadata": {},
   "outputs": [],
   "source": [
    "# Reduce memory usage\n",
    "def reduce_mem_usage(df, verbose=True):\n",
    "    numerics = ['int16', 'int32', 'int64', 'float16', 'float32', 'float64']\n",
    "    start_mem = df.memory_usage(deep=True).sum() / 1024**2    \n",
    "    for col in df.columns:\n",
    "        col_type = df[col].dtypes\n",
    "        if col_type in numerics:\n",
    "            c_min = df[col].min()\n",
    "            c_max = df[col].max()\n",
    "            if str(col_type)[:3] == 'int':  # for integers\n",
    "                if c_min > np.iinfo(np.int8).min and c_max < np.iinfo(np.int8).max:\n",
    "                    df[col] = df[col].astype(np.int8)\n",
    "                elif c_min > np.iinfo(np.int16).min and c_max < np.iinfo(np.int16).max:\n",
    "                    df[col] = df[col].astype(np.int16)\n",
    "                elif c_min > np.iinfo(np.int32).min and c_max < np.iinfo(np.int32).max:\n",
    "                    df[col] = df[col].astype(np.int32)\n",
    "                elif c_min > np.iinfo(np.int64).min and c_max < np.iinfo(np.int64).max:\n",
    "                    df[col] = df[col].astype(np.int64)  \n",
    "            else:  # for floats.\n",
    "                if c_min > np.finfo(np.float16).min and c_max < np.finfo(np.float16).max:\n",
    "                    df[col] = df[col].astype(np.float16)\n",
    "                elif c_min > np.finfo(np.float32).min and c_max < np.finfo(np.float32).max:\n",
    "                    df[col] = df[col].astype(np.float32)\n",
    "                else:\n",
    "                    df[col] = df[col].astype(np.float64)    \n",
    "    end_mem = df.memory_usage(deep=True).sum() / 1024**2\n",
    "    if verbose: print('Mem. usage decreased to {:5.2f} Mb ({:.1f}% reduction)'.format(end_mem, 100 * (start_mem - end_mem) / start_mem))\n",
    "    return df"
   ]
  },
  {
   "cell_type": "markdown",
   "metadata": {},
   "source": [
    "# Загрузка данных"
   ]
  },
  {
   "cell_type": "code",
   "execution_count": 5,
   "metadata": {},
   "outputs": [],
   "source": [
    "train = pd.read_csv('../data/raw/final_train.csv', index_col=0)"
   ]
  },
  {
   "cell_type": "code",
   "execution_count": 6,
   "metadata": {},
   "outputs": [
    {
     "data": {
      "text/html": [
       "<div>\n",
       "<style scoped>\n",
       "    .dataframe tbody tr th:only-of-type {\n",
       "        vertical-align: middle;\n",
       "    }\n",
       "\n",
       "    .dataframe tbody tr th {\n",
       "        vertical-align: top;\n",
       "    }\n",
       "\n",
       "    .dataframe thead th {\n",
       "        text-align: right;\n",
       "    }\n",
       "</style>\n",
       "<table border=\"1\" class=\"dataframe\">\n",
       "  <thead>\n",
       "    <tr style=\"text-align: right;\">\n",
       "      <th></th>\n",
       "      <th>load_dttm_dm</th>\n",
       "      <th>hflat_1m</th>\n",
       "      <th>hlid_1m</th>\n",
       "      <th>hgid_1m</th>\n",
       "      <th>lifetime_ota_1m</th>\n",
       "      <th>lifetime_shpd_1m</th>\n",
       "      <th>lifetime_iptv_1m</th>\n",
       "      <th>lifetime_tp_ota_1m</th>\n",
       "      <th>lifetime_tp_shpd_1m</th>\n",
       "      <th>lifetime_tp_iptv_1m</th>\n",
       "      <th>...</th>\n",
       "      <th>view_time_film_fantasy_2m</th>\n",
       "      <th>view_time_film_fantasy_3m</th>\n",
       "      <th>view_time_film_fantasy_p1m</th>\n",
       "      <th>view_time_film_fantasy_p2m</th>\n",
       "      <th>view_time_film_fantasy_p3m</th>\n",
       "      <th>view_time_film_fantasy_d1m</th>\n",
       "      <th>view_time_film_fantasy_d2m</th>\n",
       "      <th>view_time_film_fantasy_d3m</th>\n",
       "      <th>label</th>\n",
       "      <th>client_id</th>\n",
       "    </tr>\n",
       "  </thead>\n",
       "  <tbody>\n",
       "    <tr>\n",
       "      <th>0</th>\n",
       "      <td>2022-05-13 12:54:00.235</td>\n",
       "      <td>11726022852127600908</td>\n",
       "      <td>579093646</td>\n",
       "      <td>9107155.0</td>\n",
       "      <td>18597.0</td>\n",
       "      <td>18597.0</td>\n",
       "      <td>3031.0</td>\n",
       "      <td>18597.0</td>\n",
       "      <td>18597.0</td>\n",
       "      <td>18597.0</td>\n",
       "      <td>...</td>\n",
       "      <td>NaN</td>\n",
       "      <td>NaN</td>\n",
       "      <td>NaN</td>\n",
       "      <td>NaN</td>\n",
       "      <td>NaN</td>\n",
       "      <td>NaN</td>\n",
       "      <td>NaN</td>\n",
       "      <td>NaN</td>\n",
       "      <td>0</td>\n",
       "      <td>106606</td>\n",
       "    </tr>\n",
       "    <tr>\n",
       "      <th>1</th>\n",
       "      <td>2022-05-13 12:54:00.235</td>\n",
       "      <td>3368930564640238896</td>\n",
       "      <td>370185602</td>\n",
       "      <td>29928155.0</td>\n",
       "      <td>NaN</td>\n",
       "      <td>18597.0</td>\n",
       "      <td>18597.0</td>\n",
       "      <td>NaN</td>\n",
       "      <td>18597.0</td>\n",
       "      <td>18597.0</td>\n",
       "      <td>...</td>\n",
       "      <td>NaN</td>\n",
       "      <td>NaN</td>\n",
       "      <td>NaN</td>\n",
       "      <td>NaN</td>\n",
       "      <td>NaN</td>\n",
       "      <td>NaN</td>\n",
       "      <td>NaN</td>\n",
       "      <td>NaN</td>\n",
       "      <td>0</td>\n",
       "      <td>161596</td>\n",
       "    </tr>\n",
       "    <tr>\n",
       "      <th>2</th>\n",
       "      <td>2022-05-13 12:54:00.235</td>\n",
       "      <td>1093840297643692259</td>\n",
       "      <td>388961722</td>\n",
       "      <td>13089550.0</td>\n",
       "      <td>NaN</td>\n",
       "      <td>18597.0</td>\n",
       "      <td>366.0</td>\n",
       "      <td>NaN</td>\n",
       "      <td>18597.0</td>\n",
       "      <td>18597.0</td>\n",
       "      <td>...</td>\n",
       "      <td>NaN</td>\n",
       "      <td>NaN</td>\n",
       "      <td>NaN</td>\n",
       "      <td>NaN</td>\n",
       "      <td>NaN</td>\n",
       "      <td>NaN</td>\n",
       "      <td>NaN</td>\n",
       "      <td>NaN</td>\n",
       "      <td>0</td>\n",
       "      <td>198944</td>\n",
       "    </tr>\n",
       "    <tr>\n",
       "      <th>3</th>\n",
       "      <td>2022-05-13 12:54:00.235</td>\n",
       "      <td>14270383511494010742</td>\n",
       "      <td>367636608</td>\n",
       "      <td>18322138.0</td>\n",
       "      <td>18597.0</td>\n",
       "      <td>794.0</td>\n",
       "      <td>18597.0</td>\n",
       "      <td>18597.0</td>\n",
       "      <td>673.0</td>\n",
       "      <td>18597.0</td>\n",
       "      <td>...</td>\n",
       "      <td>NaN</td>\n",
       "      <td>NaN</td>\n",
       "      <td>NaN</td>\n",
       "      <td>NaN</td>\n",
       "      <td>NaN</td>\n",
       "      <td>NaN</td>\n",
       "      <td>NaN</td>\n",
       "      <td>NaN</td>\n",
       "      <td>0</td>\n",
       "      <td>188134</td>\n",
       "    </tr>\n",
       "    <tr>\n",
       "      <th>4</th>\n",
       "      <td>2022-05-13 12:54:00.235</td>\n",
       "      <td>918694842307981215</td>\n",
       "      <td>409108209</td>\n",
       "      <td>15069579.0</td>\n",
       "      <td>18597.0</td>\n",
       "      <td>18597.0</td>\n",
       "      <td>NaN</td>\n",
       "      <td>18597.0</td>\n",
       "      <td>18597.0</td>\n",
       "      <td>NaN</td>\n",
       "      <td>...</td>\n",
       "      <td>NaN</td>\n",
       "      <td>NaN</td>\n",
       "      <td>NaN</td>\n",
       "      <td>NaN</td>\n",
       "      <td>NaN</td>\n",
       "      <td>NaN</td>\n",
       "      <td>NaN</td>\n",
       "      <td>NaN</td>\n",
       "      <td>0</td>\n",
       "      <td>126269</td>\n",
       "    </tr>\n",
       "    <tr>\n",
       "      <th>5</th>\n",
       "      <td>2022-05-13 12:54:00.235</td>\n",
       "      <td>2580274487661669249</td>\n",
       "      <td>370131132</td>\n",
       "      <td>12585784.0</td>\n",
       "      <td>18597.0</td>\n",
       "      <td>18597.0</td>\n",
       "      <td>NaN</td>\n",
       "      <td>18597.0</td>\n",
       "      <td>18597.0</td>\n",
       "      <td>NaN</td>\n",
       "      <td>...</td>\n",
       "      <td>NaN</td>\n",
       "      <td>NaN</td>\n",
       "      <td>NaN</td>\n",
       "      <td>NaN</td>\n",
       "      <td>NaN</td>\n",
       "      <td>NaN</td>\n",
       "      <td>NaN</td>\n",
       "      <td>NaN</td>\n",
       "      <td>0</td>\n",
       "      <td>1</td>\n",
       "    </tr>\n",
       "    <tr>\n",
       "      <th>6</th>\n",
       "      <td>2022-05-13 12:54:00.235</td>\n",
       "      <td>677166249813083950</td>\n",
       "      <td>432647573</td>\n",
       "      <td>26458375.0</td>\n",
       "      <td>18597.0</td>\n",
       "      <td>18597.0</td>\n",
       "      <td>18597.0</td>\n",
       "      <td>18597.0</td>\n",
       "      <td>18597.0</td>\n",
       "      <td>18597.0</td>\n",
       "      <td>...</td>\n",
       "      <td>NaN</td>\n",
       "      <td>NaN</td>\n",
       "      <td>NaN</td>\n",
       "      <td>NaN</td>\n",
       "      <td>NaN</td>\n",
       "      <td>NaN</td>\n",
       "      <td>NaN</td>\n",
       "      <td>NaN</td>\n",
       "      <td>0</td>\n",
       "      <td>93956</td>\n",
       "    </tr>\n",
       "    <tr>\n",
       "      <th>7</th>\n",
       "      <td>2022-05-13 12:54:00.235</td>\n",
       "      <td>15486421759062996</td>\n",
       "      <td>388943532</td>\n",
       "      <td>11051427.0</td>\n",
       "      <td>NaN</td>\n",
       "      <td>18597.0</td>\n",
       "      <td>6519.0</td>\n",
       "      <td>NaN</td>\n",
       "      <td>18597.0</td>\n",
       "      <td>6519.0</td>\n",
       "      <td>...</td>\n",
       "      <td>NaN</td>\n",
       "      <td>NaN</td>\n",
       "      <td>NaN</td>\n",
       "      <td>NaN</td>\n",
       "      <td>NaN</td>\n",
       "      <td>NaN</td>\n",
       "      <td>NaN</td>\n",
       "      <td>NaN</td>\n",
       "      <td>0</td>\n",
       "      <td>36528</td>\n",
       "    </tr>\n",
       "    <tr>\n",
       "      <th>8</th>\n",
       "      <td>2022-05-13 12:54:00.235</td>\n",
       "      <td>6580846247176123020</td>\n",
       "      <td>388943532</td>\n",
       "      <td>11051427.0</td>\n",
       "      <td>18597.0</td>\n",
       "      <td>18597.0</td>\n",
       "      <td>18597.0</td>\n",
       "      <td>18597.0</td>\n",
       "      <td>18597.0</td>\n",
       "      <td>18597.0</td>\n",
       "      <td>...</td>\n",
       "      <td>NaN</td>\n",
       "      <td>NaN</td>\n",
       "      <td>NaN</td>\n",
       "      <td>NaN</td>\n",
       "      <td>NaN</td>\n",
       "      <td>NaN</td>\n",
       "      <td>NaN</td>\n",
       "      <td>NaN</td>\n",
       "      <td>0</td>\n",
       "      <td>34534</td>\n",
       "    </tr>\n",
       "    <tr>\n",
       "      <th>9</th>\n",
       "      <td>2022-05-13 12:54:00.235</td>\n",
       "      <td>4574582212156368972</td>\n",
       "      <td>370164324</td>\n",
       "      <td>4912701.0</td>\n",
       "      <td>NaN</td>\n",
       "      <td>193.0</td>\n",
       "      <td>NaN</td>\n",
       "      <td>NaN</td>\n",
       "      <td>18597.0</td>\n",
       "      <td>NaN</td>\n",
       "      <td>...</td>\n",
       "      <td>NaN</td>\n",
       "      <td>NaN</td>\n",
       "      <td>NaN</td>\n",
       "      <td>NaN</td>\n",
       "      <td>NaN</td>\n",
       "      <td>NaN</td>\n",
       "      <td>NaN</td>\n",
       "      <td>NaN</td>\n",
       "      <td>0</td>\n",
       "      <td>137210</td>\n",
       "    </tr>\n",
       "  </tbody>\n",
       "</table>\n",
       "<p>10 rows × 4369 columns</p>\n",
       "</div>"
      ],
      "text/plain": [
       "              load_dttm_dm              hflat_1m    hlid_1m     hgid_1m  \\\n",
       "0  2022-05-13 12:54:00.235  11726022852127600908  579093646   9107155.0   \n",
       "1  2022-05-13 12:54:00.235   3368930564640238896  370185602  29928155.0   \n",
       "2  2022-05-13 12:54:00.235   1093840297643692259  388961722  13089550.0   \n",
       "3  2022-05-13 12:54:00.235  14270383511494010742  367636608  18322138.0   \n",
       "4  2022-05-13 12:54:00.235    918694842307981215  409108209  15069579.0   \n",
       "5  2022-05-13 12:54:00.235   2580274487661669249  370131132  12585784.0   \n",
       "6  2022-05-13 12:54:00.235    677166249813083950  432647573  26458375.0   \n",
       "7  2022-05-13 12:54:00.235     15486421759062996  388943532  11051427.0   \n",
       "8  2022-05-13 12:54:00.235   6580846247176123020  388943532  11051427.0   \n",
       "9  2022-05-13 12:54:00.235   4574582212156368972  370164324   4912701.0   \n",
       "\n",
       "   lifetime_ota_1m  lifetime_shpd_1m  lifetime_iptv_1m  lifetime_tp_ota_1m  \\\n",
       "0          18597.0           18597.0            3031.0             18597.0   \n",
       "1              NaN           18597.0           18597.0                 NaN   \n",
       "2              NaN           18597.0             366.0                 NaN   \n",
       "3          18597.0             794.0           18597.0             18597.0   \n",
       "4          18597.0           18597.0               NaN             18597.0   \n",
       "5          18597.0           18597.0               NaN             18597.0   \n",
       "6          18597.0           18597.0           18597.0             18597.0   \n",
       "7              NaN           18597.0            6519.0                 NaN   \n",
       "8          18597.0           18597.0           18597.0             18597.0   \n",
       "9              NaN             193.0               NaN                 NaN   \n",
       "\n",
       "   lifetime_tp_shpd_1m  lifetime_tp_iptv_1m  ...  view_time_film_fantasy_2m  \\\n",
       "0              18597.0              18597.0  ...                        NaN   \n",
       "1              18597.0              18597.0  ...                        NaN   \n",
       "2              18597.0              18597.0  ...                        NaN   \n",
       "3                673.0              18597.0  ...                        NaN   \n",
       "4              18597.0                  NaN  ...                        NaN   \n",
       "5              18597.0                  NaN  ...                        NaN   \n",
       "6              18597.0              18597.0  ...                        NaN   \n",
       "7              18597.0               6519.0  ...                        NaN   \n",
       "8              18597.0              18597.0  ...                        NaN   \n",
       "9              18597.0                  NaN  ...                        NaN   \n",
       "\n",
       "   view_time_film_fantasy_3m  view_time_film_fantasy_p1m  \\\n",
       "0                        NaN                         NaN   \n",
       "1                        NaN                         NaN   \n",
       "2                        NaN                         NaN   \n",
       "3                        NaN                         NaN   \n",
       "4                        NaN                         NaN   \n",
       "5                        NaN                         NaN   \n",
       "6                        NaN                         NaN   \n",
       "7                        NaN                         NaN   \n",
       "8                        NaN                         NaN   \n",
       "9                        NaN                         NaN   \n",
       "\n",
       "   view_time_film_fantasy_p2m  view_time_film_fantasy_p3m  \\\n",
       "0                         NaN                         NaN   \n",
       "1                         NaN                         NaN   \n",
       "2                         NaN                         NaN   \n",
       "3                         NaN                         NaN   \n",
       "4                         NaN                         NaN   \n",
       "5                         NaN                         NaN   \n",
       "6                         NaN                         NaN   \n",
       "7                         NaN                         NaN   \n",
       "8                         NaN                         NaN   \n",
       "9                         NaN                         NaN   \n",
       "\n",
       "   view_time_film_fantasy_d1m  view_time_film_fantasy_d2m  \\\n",
       "0                         NaN                         NaN   \n",
       "1                         NaN                         NaN   \n",
       "2                         NaN                         NaN   \n",
       "3                         NaN                         NaN   \n",
       "4                         NaN                         NaN   \n",
       "5                         NaN                         NaN   \n",
       "6                         NaN                         NaN   \n",
       "7                         NaN                         NaN   \n",
       "8                         NaN                         NaN   \n",
       "9                         NaN                         NaN   \n",
       "\n",
       "   view_time_film_fantasy_d3m  label  client_id  \n",
       "0                         NaN      0     106606  \n",
       "1                         NaN      0     161596  \n",
       "2                         NaN      0     198944  \n",
       "3                         NaN      0     188134  \n",
       "4                         NaN      0     126269  \n",
       "5                         NaN      0          1  \n",
       "6                         NaN      0      93956  \n",
       "7                         NaN      0      36528  \n",
       "8                         NaN      0      34534  \n",
       "9                         NaN      0     137210  \n",
       "\n",
       "[10 rows x 4369 columns]"
      ]
     },
     "execution_count": 6,
     "metadata": {},
     "output_type": "execute_result"
    }
   ],
   "source": [
    "train.head(10)"
   ]
  },
  {
   "cell_type": "code",
   "execution_count": 7,
   "metadata": {},
   "outputs": [
    {
     "name": "stdout",
     "output_type": "stream",
     "text": [
      "<class 'pandas.core.frame.DataFrame'>\n",
      "Index: 160461 entries, 0 to 160460\n",
      "Columns: 4369 entries, load_dttm_dm to client_id\n",
      "dtypes: float64(4340), int64(19), object(9), uint64(1)\n",
      "memory usage: 5.2+ GB\n"
     ]
    }
   ],
   "source": [
    "train.info()"
   ]
  },
  {
   "cell_type": "code",
   "execution_count": 8,
   "metadata": {},
   "outputs": [],
   "source": [
    "val = pd.read_csv('../data/raw/final_valid.csv', index_col=0)"
   ]
  },
  {
   "cell_type": "code",
   "execution_count": 9,
   "metadata": {},
   "outputs": [
    {
     "name": "stdout",
     "output_type": "stream",
     "text": [
      "<class 'pandas.core.frame.DataFrame'>\n",
      "Index: 173304 entries, 0 to 173303\n",
      "Columns: 4369 entries, load_dttm_dm to client_id\n",
      "dtypes: float64(4314), int64(45), object(9), uint64(1)\n",
      "memory usage: 5.6+ GB\n"
     ]
    }
   ],
   "source": [
    "val.info()"
   ]
  },
  {
   "cell_type": "markdown",
   "metadata": {},
   "source": [
    "Нет данных по оттоку в тесте. **test не используем** "
   ]
  },
  {
   "cell_type": "code",
   "execution_count": 10,
   "metadata": {},
   "outputs": [],
   "source": [
    "# test = pd.read_csv('../data/raw/final_test.csv', index_col=0)"
   ]
  },
  {
   "cell_type": "code",
   "execution_count": 11,
   "metadata": {
    "scrolled": true
   },
   "outputs": [],
   "source": [
    "# test.info()"
   ]
  },
  {
   "cell_type": "code",
   "execution_count": 12,
   "metadata": {},
   "outputs": [],
   "source": [
    "# \"label\" in test.columns"
   ]
  },
  {
   "cell_type": "code",
   "execution_count": 13,
   "metadata": {},
   "outputs": [],
   "source": [
    "attr = pd.read_excel(\"../data/raw/attributes.xlsx\")"
   ]
  },
  {
   "cell_type": "code",
   "execution_count": 14,
   "metadata": {},
   "outputs": [
    {
     "data": {
      "text/html": [
       "<div>\n",
       "<style scoped>\n",
       "    .dataframe tbody tr th:only-of-type {\n",
       "        vertical-align: middle;\n",
       "    }\n",
       "\n",
       "    .dataframe tbody tr th {\n",
       "        vertical-align: top;\n",
       "    }\n",
       "\n",
       "    .dataframe thead th {\n",
       "        text-align: right;\n",
       "    }\n",
       "</style>\n",
       "<table border=\"1\" class=\"dataframe\">\n",
       "  <thead>\n",
       "    <tr style=\"text-align: right;\">\n",
       "      <th></th>\n",
       "      <th>Атрибут</th>\n",
       "      <th>Предметная область</th>\n",
       "      <th>Описание</th>\n",
       "    </tr>\n",
       "  </thead>\n",
       "  <tbody>\n",
       "    <tr>\n",
       "      <th>0</th>\n",
       "      <td>nls</td>\n",
       "      <td>NaN</td>\n",
       "      <td>лицевой счет</td>\n",
       "    </tr>\n",
       "    <tr>\n",
       "      <th>1</th>\n",
       "      <td>mrf_key</td>\n",
       "      <td>NaN</td>\n",
       "      <td>id МРФ</td>\n",
       "    </tr>\n",
       "    <tr>\n",
       "      <th>2</th>\n",
       "      <td>period_key</td>\n",
       "      <td>NaN</td>\n",
       "      <td>отчетный период</td>\n",
       "    </tr>\n",
       "    <tr>\n",
       "      <th>3</th>\n",
       "      <td>san_cnt</td>\n",
       "      <td>Агрегированные данные по IPTV (покупки, телесм...</td>\n",
       "      <td>Количество уникальных SAN</td>\n",
       "    </tr>\n",
       "    <tr>\n",
       "      <th>4</th>\n",
       "      <td>mac_cnt</td>\n",
       "      <td>Агрегированные данные по IPTV (покупки, телесм...</td>\n",
       "      <td>Количество уникальных MAC</td>\n",
       "    </tr>\n",
       "    <tr>\n",
       "      <th>...</th>\n",
       "      <td>...</td>\n",
       "      <td>...</td>\n",
       "      <td>...</td>\n",
       "    </tr>\n",
       "    <tr>\n",
       "      <th>1015</th>\n",
       "      <td>prob100</td>\n",
       "      <td>Посещение сайтов конкурентов</td>\n",
       "      <td>Количество дней с посещением сайтов конкуренто...</td>\n",
       "    </tr>\n",
       "    <tr>\n",
       "      <th>1016</th>\n",
       "      <td>min_long_days100</td>\n",
       "      <td>Посещение сайтов конкурентов</td>\n",
       "      <td>Минимальный период от посещения сайта конкурен...</td>\n",
       "    </tr>\n",
       "    <tr>\n",
       "      <th>1017</th>\n",
       "      <td>total_prob</td>\n",
       "      <td>Посещение сайтов конкурентов</td>\n",
       "      <td>Количество дней с посещением сайтов конкурентов</td>\n",
       "    </tr>\n",
       "    <tr>\n",
       "      <th>1018</th>\n",
       "      <td>weighted_prob</td>\n",
       "      <td>Посещение сайтов конкурентов</td>\n",
       "      <td>Взвешанная вероятность посещения сайтов конкур...</td>\n",
       "    </tr>\n",
       "    <tr>\n",
       "      <th>1019</th>\n",
       "      <td>weighted_prob2</td>\n",
       "      <td>Посещение сайтов конкурентов</td>\n",
       "      <td>Взвешанная вероятность посещения сайтов конкур...</td>\n",
       "    </tr>\n",
       "  </tbody>\n",
       "</table>\n",
       "<p>1020 rows × 3 columns</p>\n",
       "</div>"
      ],
      "text/plain": [
       "               Атрибут                                 Предметная область  \\\n",
       "0                  nls                                                NaN   \n",
       "1              mrf_key                                                NaN   \n",
       "2           period_key                                                NaN   \n",
       "3              san_cnt  Агрегированные данные по IPTV (покупки, телесм...   \n",
       "4              mac_cnt  Агрегированные данные по IPTV (покупки, телесм...   \n",
       "...                ...                                                ...   \n",
       "1015           prob100                       Посещение сайтов конкурентов   \n",
       "1016  min_long_days100                       Посещение сайтов конкурентов   \n",
       "1017        total_prob                       Посещение сайтов конкурентов   \n",
       "1018     weighted_prob                       Посещение сайтов конкурентов   \n",
       "1019    weighted_prob2                       Посещение сайтов конкурентов   \n",
       "\n",
       "                                               Описание  \n",
       "0                                          лицевой счет  \n",
       "1                                                id МРФ  \n",
       "2                                       отчетный период  \n",
       "3                             Количество уникальных SAN  \n",
       "4                             Количество уникальных MAC  \n",
       "...                                                 ...  \n",
       "1015  Количество дней с посещением сайтов конкуренто...  \n",
       "1016  Минимальный период от посещения сайта конкурен...  \n",
       "1017    Количество дней с посещением сайтов конкурентов  \n",
       "1018  Взвешанная вероятность посещения сайтов конкур...  \n",
       "1019  Взвешанная вероятность посещения сайтов конкур...  \n",
       "\n",
       "[1020 rows x 3 columns]"
      ]
     },
     "execution_count": 14,
     "metadata": {},
     "output_type": "execute_result"
    }
   ],
   "source": [
    "attr"
   ]
  },
  {
   "cell_type": "code",
   "execution_count": 15,
   "metadata": {},
   "outputs": [],
   "source": [
    "suffix = pd.read_table(\"../data/raw/1m, 2m etc.txt\", sep=\"\\t\", encoding=\"cp1251\")"
   ]
  },
  {
   "cell_type": "code",
   "execution_count": 16,
   "metadata": {},
   "outputs": [
    {
     "data": {
      "text/html": [
       "<div>\n",
       "<style scoped>\n",
       "    .dataframe tbody tr th:only-of-type {\n",
       "        vertical-align: middle;\n",
       "    }\n",
       "\n",
       "    .dataframe tbody tr th {\n",
       "        vertical-align: top;\n",
       "    }\n",
       "\n",
       "    .dataframe thead th {\n",
       "        text-align: right;\n",
       "    }\n",
       "</style>\n",
       "<table border=\"1\" class=\"dataframe\">\n",
       "  <thead>\n",
       "    <tr style=\"text-align: right;\">\n",
       "      <th></th>\n",
       "      <th>1m – сумма за текущий период</th>\n",
       "    </tr>\n",
       "  </thead>\n",
       "  <tbody>\n",
       "    <tr>\n",
       "      <th>0</th>\n",
       "      <td>2m – сумма за последние 2 периода</td>\n",
       "    </tr>\n",
       "    <tr>\n",
       "      <th>1</th>\n",
       "      <td>3m – сумма за последние 3 периода</td>\n",
       "    </tr>\n",
       "    <tr>\n",
       "      <th>2</th>\n",
       "      <td>p1m – сумма за прошлый период</td>\n",
       "    </tr>\n",
       "    <tr>\n",
       "      <th>3</th>\n",
       "      <td>p2m – сумма с 4-го по 3-ий период в прошлом</td>\n",
       "    </tr>\n",
       "    <tr>\n",
       "      <th>4</th>\n",
       "      <td>p3m – сумма за 6-ий по 4-ый период в прошлом</td>\n",
       "    </tr>\n",
       "    <tr>\n",
       "      <th>5</th>\n",
       "      <td>d1m – отношение 1m/p1m</td>\n",
       "    </tr>\n",
       "    <tr>\n",
       "      <th>6</th>\n",
       "      <td>d2m – отношение 2m/p2m</td>\n",
       "    </tr>\n",
       "    <tr>\n",
       "      <th>7</th>\n",
       "      <td>d3m – отношение 3m/p3m</td>\n",
       "    </tr>\n",
       "  </tbody>\n",
       "</table>\n",
       "</div>"
      ],
      "text/plain": [
       "                   1m – сумма за текущий период\n",
       "0             2m – сумма за последние 2 периода\n",
       "1             3m – сумма за последние 3 периода\n",
       "2                 p1m – сумма за прошлый период\n",
       "3   p2m – сумма с 4-го по 3-ий период в прошлом\n",
       "4  p3m – сумма за 6-ий по 4-ый период в прошлом\n",
       "5                        d1m – отношение 1m/p1m\n",
       "6                        d2m – отношение 2m/p2m\n",
       "7                        d3m – отношение 3m/p3m"
      ]
     },
     "execution_count": 16,
     "metadata": {},
     "output_type": "execute_result"
    }
   ],
   "source": [
    "suffix"
   ]
  },
  {
   "cell_type": "markdown",
   "metadata": {},
   "source": [
    "# Small EDA"
   ]
  },
  {
   "cell_type": "code",
   "execution_count": 17,
   "metadata": {},
   "outputs": [],
   "source": [
    "columns_features = pd.Series(train.columns)"
   ]
  },
  {
   "cell_type": "code",
   "execution_count": 18,
   "metadata": {},
   "outputs": [
    {
     "data": {
      "text/plain": [
       "0                     load_dttm_dm\n",
       "1                         hflat_1m\n",
       "2                          hlid_1m\n",
       "3                          hgid_1m\n",
       "4                  lifetime_ota_1m\n",
       "                   ...            \n",
       "4364    view_time_film_fantasy_d1m\n",
       "4365    view_time_film_fantasy_d2m\n",
       "4366    view_time_film_fantasy_d3m\n",
       "4367                         label\n",
       "4368                     client_id\n",
       "Length: 4369, dtype: object"
      ]
     },
     "execution_count": 18,
     "metadata": {},
     "output_type": "execute_result"
    }
   ],
   "source": [
    "columns_features"
   ]
  },
  {
   "cell_type": "code",
   "execution_count": 19,
   "metadata": {},
   "outputs": [],
   "source": [
    "didnt_match_features = columns_features[~columns_features.str.startswith(tuple(attr[\"Атрибут\"]))]"
   ]
  },
  {
   "cell_type": "code",
   "execution_count": 20,
   "metadata": {},
   "outputs": [
    {
     "data": {
      "text/plain": [
       "array(['load', 'asr', 'appm', 'view', 'label', 'client'], dtype=object)"
      ]
     },
     "execution_count": 20,
     "metadata": {},
     "output_type": "execute_result"
    }
   ],
   "source": [
    "didnt_match_features.str.split('_').apply(lambda x: x[0]).unique()"
   ]
  },
  {
   "cell_type": "code",
   "execution_count": 21,
   "metadata": {},
   "outputs": [],
   "source": [
    "didnt_match_features_v2 = didnt_match_features[~didnt_match_features.str.startswith((\"asr\", \"appm\", \"view\"))]"
   ]
  },
  {
   "cell_type": "code",
   "execution_count": 22,
   "metadata": {},
   "outputs": [
    {
     "data": {
      "text/plain": [
       "0       load_dttm_dm\n",
       "4367           label\n",
       "4368       client_id\n",
       "dtype: object"
      ]
     },
     "execution_count": 22,
     "metadata": {},
     "output_type": "execute_result"
    }
   ],
   "source": [
    "didnt_match_features_v2"
   ]
  },
  {
   "cell_type": "markdown",
   "metadata": {},
   "source": [
    "Есть описания для всех признаков кроме сегментов _\"asr\", \"appm\", \"view\"_. Они **не попадут в признаки**"
   ]
  },
  {
   "cell_type": "markdown",
   "metadata": {},
   "source": [
    "# Разделение признаков"
   ]
  },
  {
   "cell_type": "code",
   "execution_count": 23,
   "metadata": {},
   "outputs": [],
   "source": [
    "using_features = pd.read_excel(\"../data/raw/attribute.xlsx\")"
   ]
  },
  {
   "cell_type": "code",
   "execution_count": 24,
   "metadata": {},
   "outputs": [
    {
     "data": {
      "text/plain": [
       "Предметная область\n",
       "Сбои                                                      535\n",
       "Обращения клиентов                                        174\n",
       "Услуги у клиента                                          170\n",
       "Общая информация о клиенте                                 67\n",
       "Агрегированные данные по IPTV (покупки, телесмотрение)     41\n",
       "Посещение сайтов конкурентов                               25\n",
       "География                                                   7\n",
       "Name: count, dtype: int64"
      ]
     },
     "execution_count": 24,
     "metadata": {},
     "output_type": "execute_result"
    }
   ],
   "source": [
    "using_features[\"Предметная область\"].value_counts()"
   ]
  },
  {
   "cell_type": "markdown",
   "metadata": {},
   "source": [
    "## Client"
   ]
  },
  {
   "cell_type": "code",
   "execution_count": 25,
   "metadata": {},
   "outputs": [],
   "source": [
    "# Remove Some Prefix"
   ]
  },
  {
   "cell_type": "code",
   "execution_count": 26,
   "metadata": {},
   "outputs": [],
   "source": [
    "client_columns = using_features[using_features[\"Предметная область\"] == \"Общая информация о клиенте\"][\"Атрибут\"]"
   ]
  },
  {
   "cell_type": "code",
   "execution_count": 27,
   "metadata": {},
   "outputs": [
    {
     "data": {
      "text/plain": [
       "67"
      ]
     },
     "execution_count": 27,
     "metadata": {},
     "output_type": "execute_result"
    }
   ],
   "source": [
    "len(client_columns)"
   ]
  },
  {
   "cell_type": "code",
   "execution_count": 28,
   "metadata": {},
   "outputs": [],
   "source": [
    "client_columns_original = list(columns_features[columns_features.str.startswith(tuple(client_columns))].values)\n",
    "client_columns_original.extend([\"client_id\"])\n",
    "client_columns_original.extend(client_columns.values)"
   ]
  },
  {
   "cell_type": "code",
   "execution_count": 29,
   "metadata": {},
   "outputs": [],
   "source": [
    "remove_columns = set(\n",
    "    ['lifetime_iptv_1m', 'lifetime_ota_1m', 'lifetime_shpd_1m', \n",
    "    'lifetime_tp_iptv_1m', 'lifetime_tp_ota_1m', 'lifetime_tp_shpd_1m']\n",
    ")"
   ]
  },
  {
   "cell_type": "code",
   "execution_count": 30,
   "metadata": {},
   "outputs": [],
   "source": [
    "client_columns_original = list(set(client_columns_original).difference(remove_columns))"
   ]
  },
  {
   "cell_type": "code",
   "execution_count": 31,
   "metadata": {},
   "outputs": [],
   "source": [
    "client_columns_original = list(set(columns_features) & set(client_columns_original))"
   ]
  },
  {
   "cell_type": "code",
   "execution_count": 32,
   "metadata": {},
   "outputs": [
    {
     "data": {
      "text/plain": [
       "283"
      ]
     },
     "execution_count": 32,
     "metadata": {},
     "output_type": "execute_result"
    }
   ],
   "source": [
    "len(client_columns_original)"
   ]
  },
  {
   "cell_type": "markdown",
   "metadata": {},
   "source": [
    "## Geography"
   ]
  },
  {
   "cell_type": "code",
   "execution_count": 33,
   "metadata": {},
   "outputs": [],
   "source": [
    "geography_columns = using_features[using_features[\"Предметная область\"] == \"География\"][\"Атрибут\"]"
   ]
  },
  {
   "cell_type": "code",
   "execution_count": 34,
   "metadata": {},
   "outputs": [
    {
     "data": {
      "text/plain": [
       "7"
      ]
     },
     "execution_count": 34,
     "metadata": {},
     "output_type": "execute_result"
    }
   ],
   "source": [
    "len(geography_columns)"
   ]
  },
  {
   "cell_type": "code",
   "execution_count": 35,
   "metadata": {},
   "outputs": [],
   "source": [
    "geography_columns_original = list(columns_features[columns_features.str.startswith(tuple(geography_columns))].values)\n",
    "geography_columns_original.extend(geography_columns.values)"
   ]
  },
  {
   "cell_type": "code",
   "execution_count": 36,
   "metadata": {},
   "outputs": [],
   "source": [
    "geography_columns_original = list(set(columns_features) & set(geography_columns_original))"
   ]
  },
  {
   "cell_type": "code",
   "execution_count": 37,
   "metadata": {},
   "outputs": [
    {
     "data": {
      "text/plain": [
       "7"
      ]
     },
     "execution_count": 37,
     "metadata": {},
     "output_type": "execute_result"
    }
   ],
   "source": [
    "len(geography_columns_original)"
   ]
  },
  {
   "cell_type": "markdown",
   "metadata": {},
   "source": [
    "## Competitors"
   ]
  },
  {
   "cell_type": "code",
   "execution_count": 38,
   "metadata": {},
   "outputs": [],
   "source": [
    "competitors_columns = using_features[using_features[\"Предметная область\"] == \"Посещение сайтов конкурентов\"][\"Атрибут\"]"
   ]
  },
  {
   "cell_type": "code",
   "execution_count": 39,
   "metadata": {},
   "outputs": [
    {
     "data": {
      "text/plain": [
       "25"
      ]
     },
     "execution_count": 39,
     "metadata": {},
     "output_type": "execute_result"
    }
   ],
   "source": [
    "len(competitors_columns)"
   ]
  },
  {
   "cell_type": "code",
   "execution_count": 40,
   "metadata": {},
   "outputs": [],
   "source": [
    "competitors_columns_original = list(columns_features[columns_features.str.startswith(tuple(competitors_columns))].values)\n",
    "competitors_columns_original.extend(competitors_columns)"
   ]
  },
  {
   "cell_type": "code",
   "execution_count": 41,
   "metadata": {},
   "outputs": [],
   "source": [
    "competitors_columns_original = list(set(columns_features) & set(competitors_columns_original))"
   ]
  },
  {
   "cell_type": "code",
   "execution_count": 42,
   "metadata": {},
   "outputs": [
    {
     "data": {
      "text/plain": [
       "0"
      ]
     },
     "execution_count": 42,
     "metadata": {},
     "output_type": "execute_result"
    }
   ],
   "source": [
    "len(competitors_columns_original)"
   ]
  },
  {
   "cell_type": "markdown",
   "metadata": {},
   "source": [
    "Посещение сайтов конкурентов - нет этих признаков"
   ]
  },
  {
   "cell_type": "markdown",
   "metadata": {},
   "source": [
    "## Services"
   ]
  },
  {
   "cell_type": "code",
   "execution_count": 43,
   "metadata": {},
   "outputs": [],
   "source": [
    "services_columns = using_features[using_features[\"Предметная область\"] == \"Услуги у клиента\"][\"Атрибут\"]"
   ]
  },
  {
   "cell_type": "code",
   "execution_count": 44,
   "metadata": {},
   "outputs": [
    {
     "data": {
      "text/plain": [
       "170"
      ]
     },
     "execution_count": 44,
     "metadata": {},
     "output_type": "execute_result"
    }
   ],
   "source": [
    "len(services_columns)"
   ]
  },
  {
   "cell_type": "code",
   "execution_count": 45,
   "metadata": {},
   "outputs": [],
   "source": [
    "services_columns_original = list(columns_features[columns_features.str.startswith(tuple(services_columns))].values)\n",
    "services_columns_original.extend(services_columns)"
   ]
  },
  {
   "cell_type": "code",
   "execution_count": 46,
   "metadata": {},
   "outputs": [],
   "source": [
    "services_columns_original = list(set(columns_features) & set(services_columns_original))"
   ]
  },
  {
   "cell_type": "code",
   "execution_count": 47,
   "metadata": {},
   "outputs": [
    {
     "data": {
      "text/plain": [
       "1414"
      ]
     },
     "execution_count": 47,
     "metadata": {},
     "output_type": "execute_result"
    }
   ],
   "source": [
    "len(services_columns_original)"
   ]
  },
  {
   "cell_type": "markdown",
   "metadata": {},
   "source": [
    "## Appeals"
   ]
  },
  {
   "cell_type": "code",
   "execution_count": 48,
   "metadata": {},
   "outputs": [],
   "source": [
    "appeals_columns = using_features[using_features[\"Предметная область\"] == \"Обращения клиентов\"][\"Атрибут\"]"
   ]
  },
  {
   "cell_type": "code",
   "execution_count": 49,
   "metadata": {},
   "outputs": [
    {
     "data": {
      "text/plain": [
       "174"
      ]
     },
     "execution_count": 49,
     "metadata": {},
     "output_type": "execute_result"
    }
   ],
   "source": [
    "len(appeals_columns)"
   ]
  },
  {
   "cell_type": "code",
   "execution_count": 50,
   "metadata": {},
   "outputs": [],
   "source": [
    "appeals_columns_original = list(columns_features[columns_features.str.startswith(tuple(appeals_columns))].values)\n",
    "appeals_columns_original.extend(appeals_columns)"
   ]
  },
  {
   "cell_type": "code",
   "execution_count": 51,
   "metadata": {},
   "outputs": [],
   "source": [
    "appeals_columns_original = list(set(columns_features) & set(appeals_columns_original))"
   ]
  },
  {
   "cell_type": "code",
   "execution_count": 52,
   "metadata": {},
   "outputs": [
    {
     "data": {
      "text/plain": [
       "1566"
      ]
     },
     "execution_count": 52,
     "metadata": {},
     "output_type": "execute_result"
    }
   ],
   "source": [
    "len(appeals_columns_original)"
   ]
  },
  {
   "cell_type": "markdown",
   "metadata": {},
   "source": [
    "## Failures"
   ]
  },
  {
   "cell_type": "code",
   "execution_count": 53,
   "metadata": {},
   "outputs": [],
   "source": [
    "failures_columns = using_features[using_features[\"Предметная область\"] == \"Сбои\"][\"Атрибут\"]"
   ]
  },
  {
   "cell_type": "code",
   "execution_count": 54,
   "metadata": {},
   "outputs": [
    {
     "data": {
      "text/plain": [
       "535"
      ]
     },
     "execution_count": 54,
     "metadata": {},
     "output_type": "execute_result"
    }
   ],
   "source": [
    "len(failures_columns)"
   ]
  },
  {
   "cell_type": "code",
   "execution_count": 55,
   "metadata": {},
   "outputs": [],
   "source": [
    "failures_columns_original = list(columns_features[columns_features.str.startswith(tuple(failures_columns))].values)\n",
    "failures_columns_original.extend(failures_columns)"
   ]
  },
  {
   "cell_type": "code",
   "execution_count": 56,
   "metadata": {},
   "outputs": [],
   "source": [
    "failures_columns_original = list(set(columns_features) & set(failures_columns_original))"
   ]
  },
  {
   "cell_type": "code",
   "execution_count": 57,
   "metadata": {},
   "outputs": [
    {
     "data": {
      "text/plain": [
       "9"
      ]
     },
     "execution_count": 57,
     "metadata": {},
     "output_type": "execute_result"
    }
   ],
   "source": [
    "len(failures_columns_original)"
   ]
  },
  {
   "cell_type": "markdown",
   "metadata": {},
   "source": [
    "## IPTV"
   ]
  },
  {
   "cell_type": "code",
   "execution_count": 58,
   "metadata": {},
   "outputs": [],
   "source": [
    "iptv_columns = using_features[using_features[\"Предметная область\"] == \"Агрегированные данные по IPTV (покупки, телесмотрение)\"][\"Атрибут\"]"
   ]
  },
  {
   "cell_type": "code",
   "execution_count": 59,
   "metadata": {},
   "outputs": [
    {
     "data": {
      "text/plain": [
       "41"
      ]
     },
     "execution_count": 59,
     "metadata": {},
     "output_type": "execute_result"
    }
   ],
   "source": [
    "len(iptv_columns)"
   ]
  },
  {
   "cell_type": "code",
   "execution_count": 60,
   "metadata": {},
   "outputs": [],
   "source": [
    "iptv_columns_original = list(columns_features[columns_features.str.startswith(tuple(iptv_columns))].values)\n",
    "iptv_columns_original.extend(iptv_columns)"
   ]
  },
  {
   "cell_type": "code",
   "execution_count": 61,
   "metadata": {},
   "outputs": [],
   "source": [
    "iptv_columns_original = list(set(columns_features) & set(iptv_columns_original))"
   ]
  },
  {
   "cell_type": "code",
   "execution_count": 62,
   "metadata": {},
   "outputs": [
    {
     "data": {
      "text/plain": [
       "369"
      ]
     },
     "execution_count": 62,
     "metadata": {},
     "output_type": "execute_result"
    }
   ],
   "source": [
    "len(iptv_columns_original)"
   ]
  },
  {
   "cell_type": "markdown",
   "metadata": {},
   "source": [
    "## Merge Assert"
   ]
  },
  {
   "cell_type": "code",
   "execution_count": 63,
   "metadata": {},
   "outputs": [],
   "source": [
    "used_columns = client_columns_original \\\n",
    "                + geography_columns_original \\\n",
    "                + competitors_columns_original \\\n",
    "                + services_columns_original \\\n",
    "                + appeals_columns_original \\\n",
    "                + failures_columns_original \\\n",
    "                + iptv_columns_original"
   ]
  },
  {
   "cell_type": "code",
   "execution_count": 64,
   "metadata": {},
   "outputs": [
    {
     "data": {
      "text/plain": [
       "3639"
      ]
     },
     "execution_count": 64,
     "metadata": {},
     "output_type": "execute_result"
    }
   ],
   "source": [
    "len(set(used_columns))"
   ]
  },
  {
   "cell_type": "code",
   "execution_count": 65,
   "metadata": {},
   "outputs": [
    {
     "data": {
      "text/plain": [
       "4369"
      ]
     },
     "execution_count": 65,
     "metadata": {},
     "output_type": "execute_result"
    }
   ],
   "source": [
    "len(set(columns_features))"
   ]
  },
  {
   "cell_type": "code",
   "execution_count": 66,
   "metadata": {},
   "outputs": [
    {
     "data": {
      "text/plain": [
       "730"
      ]
     },
     "execution_count": 66,
     "metadata": {},
     "output_type": "execute_result"
    }
   ],
   "source": [
    "len(set(columns_features.values.tolist()) -  set(used_columns)) "
   ]
  },
  {
   "cell_type": "markdown",
   "metadata": {},
   "source": [
    "Все сходится. Все эти 730 признаков без аннотации в attributes"
   ]
  },
  {
   "cell_type": "markdown",
   "metadata": {},
   "source": [
    "# Сохраняем Train и Test (a.k.a Validation) и Ресемплинг"
   ]
  },
  {
   "cell_type": "code",
   "execution_count": 67,
   "metadata": {},
   "outputs": [],
   "source": [
    "SAVE_PATH = f\"../data/{VERSION}/\""
   ]
  },
  {
   "cell_type": "code",
   "execution_count": 68,
   "metadata": {},
   "outputs": [
    {
     "name": "stderr",
     "output_type": "stream",
     "text": [
      "/var/folders/qv/19_404_959jdcbdt74fg3hbm0000gn/T/ipykernel_14192/351966677.py:1: DeprecationWarning: DataFrameGroupBy.apply operated on the grouping columns. This behavior is deprecated, and in a future version of pandas the grouping columns will be excluded from the operation. Either pass `include_groups=False` to exclude the groupings or explicitly select the grouping columns after groupby to silence this warning.\n",
      "  train = train.groupby('label', group_keys=False).apply(lambda x: x.sample(frac=0.2))\n",
      "/var/folders/qv/19_404_959jdcbdt74fg3hbm0000gn/T/ipykernel_14192/351966677.py:2: DeprecationWarning: DataFrameGroupBy.apply operated on the grouping columns. This behavior is deprecated, and in a future version of pandas the grouping columns will be excluded from the operation. Either pass `include_groups=False` to exclude the groupings or explicitly select the grouping columns after groupby to silence this warning.\n",
      "  val = val.groupby('label', group_keys=False).apply(lambda x: x.sample(frac=0.2))\n"
     ]
    }
   ],
   "source": [
    "train = train.groupby('label', group_keys=False).apply(lambda x: x.sample(frac=0.2))\n",
    "val = val.groupby('label', group_keys=False).apply(lambda x: x.sample(frac=0.2))"
   ]
  },
  {
   "cell_type": "code",
   "execution_count": 69,
   "metadata": {},
   "outputs": [
    {
     "data": {
      "text/plain": [
       "(32092, 4369)"
      ]
     },
     "execution_count": 69,
     "metadata": {},
     "output_type": "execute_result"
    }
   ],
   "source": [
    "train.shape"
   ]
  },
  {
   "cell_type": "code",
   "execution_count": 70,
   "metadata": {},
   "outputs": [
    {
     "data": {
      "text/plain": [
       "(34661, 4369)"
      ]
     },
     "execution_count": 70,
     "metadata": {},
     "output_type": "execute_result"
    }
   ],
   "source": [
    "val.shape"
   ]
  },
  {
   "cell_type": "code",
   "execution_count": 71,
   "metadata": {},
   "outputs": [],
   "source": [
    "train[used_columns].to_csv(\"../data/v2/day01/dataset_01_06.csv\", index=False)\n",
    "val[used_columns].to_csv(\"../data/v2/day01/dataset_07_12.csv\", index=False)"
   ]
  },
  {
   "cell_type": "code",
   "execution_count": 72,
   "metadata": {},
   "outputs": [],
   "source": [
    "train[used_columns].to_csv(\"../data/v2/day02/dataset_01_06.csv\", index=False)\n",
    "val[used_columns].to_csv(\"../data/v2/day02/dataset_07_12.csv\", index=False)"
   ]
  },
  {
   "cell_type": "markdown",
   "metadata": {},
   "source": [
    "# Сохраняем все сплитованные данные"
   ]
  },
  {
   "cell_type": "markdown",
   "metadata": {},
   "source": [
    "Валидацию отставляем на **2ой день**"
   ]
  },
  {
   "cell_type": "code",
   "execution_count": 73,
   "metadata": {},
   "outputs": [],
   "source": [
    "from sklearn.model_selection import train_test_split"
   ]
  },
  {
   "cell_type": "code",
   "execution_count": 74,
   "metadata": {},
   "outputs": [],
   "source": [
    "train_01_03, train_04_06 = train_test_split(train, test_size=0.5, random_state=42)"
   ]
  },
  {
   "cell_type": "markdown",
   "metadata": {},
   "source": [
    "## Client"
   ]
  },
  {
   "cell_type": "code",
   "execution_count": 75,
   "metadata": {},
   "outputs": [],
   "source": [
    "client_columns_original.sort()"
   ]
  },
  {
   "cell_type": "code",
   "execution_count": 76,
   "metadata": {},
   "outputs": [],
   "source": [
    "client_columns_original;"
   ]
  },
  {
   "cell_type": "code",
   "execution_count": 77,
   "metadata": {},
   "outputs": [],
   "source": [
    "mapper = {\n",
    "    'client_id': \"id\",\n",
    "    \"gender_1m\": \"gender\",\n",
    "}"
   ]
  },
  {
   "cell_type": "code",
   "execution_count": 78,
   "metadata": {},
   "outputs": [],
   "source": [
    "data_client_2021_01_03 = train_01_03[client_columns_original].rename(columns=mapper)\n",
    "data_client_2021_04_06 = train_04_06[client_columns_original].rename(columns=mapper)"
   ]
  },
  {
   "cell_type": "code",
   "execution_count": 82,
   "metadata": {},
   "outputs": [
    {
     "data": {
      "text/plain": [
       "(16046, 283)"
      ]
     },
     "execution_count": 82,
     "metadata": {},
     "output_type": "execute_result"
    }
   ],
   "source": [
    "data_client_2021_01_03.shape"
   ]
  },
  {
   "cell_type": "code",
   "execution_count": 83,
   "metadata": {},
   "outputs": [
    {
     "data": {
      "text/plain": [
       "(16046, 283)"
      ]
     },
     "execution_count": 83,
     "metadata": {},
     "output_type": "execute_result"
    }
   ],
   "source": [
    "data_client_2021_04_06.shape"
   ]
  },
  {
   "cell_type": "code",
   "execution_count": 85,
   "metadata": {},
   "outputs": [],
   "source": [
    "data_client_2021_01_03.to_csv(os.path.join(SAVE_PATH, \"day00/client_2021_01_03.csv\"), index_label=False)\n",
    "data_client_2021_04_06.to_csv(os.path.join(SAVE_PATH, \"day00/client_2021_04_06.csv\"), index_label=False)"
   ]
  },
  {
   "cell_type": "markdown",
   "metadata": {},
   "source": [
    "## Geography"
   ]
  },
  {
   "cell_type": "code",
   "execution_count": 86,
   "metadata": {},
   "outputs": [],
   "source": [
    "geography_columns_original.sort()"
   ]
  },
  {
   "cell_type": "code",
   "execution_count": 87,
   "metadata": {},
   "outputs": [],
   "source": [
    "geography_columns_original;"
   ]
  },
  {
   "cell_type": "code",
   "execution_count": 88,
   "metadata": {},
   "outputs": [],
   "source": [
    "geography_columns_original.extend([\"client_id\"])"
   ]
  },
  {
   "cell_type": "code",
   "execution_count": 89,
   "metadata": {},
   "outputs": [
    {
     "data": {
      "text/plain": [
       "['hex_id10_1m',\n",
       " 'hex_id11_1m',\n",
       " 'hex_id12_1m',\n",
       " 'hex_id6_1m',\n",
       " 'hex_id7_1m',\n",
       " 'hex_id8_1m',\n",
       " 'hex_id9_1m',\n",
       " 'client_id']"
      ]
     },
     "execution_count": 89,
     "metadata": {},
     "output_type": "execute_result"
    }
   ],
   "source": [
    "geography_columns_original"
   ]
  },
  {
   "cell_type": "code",
   "execution_count": 90,
   "metadata": {},
   "outputs": [],
   "source": [
    "data_geography_2021_01_03 = train_01_03[geography_columns_original]\n",
    "data_geography_2021_04_06 = train_04_06[geography_columns_original]"
   ]
  },
  {
   "cell_type": "code",
   "execution_count": 91,
   "metadata": {},
   "outputs": [],
   "source": [
    "data_geography_2021_01_03.to_csv(os.path.join(SAVE_PATH, \"day00/geography_2021_01_03.csv\"), index_label=False)\n",
    "data_geography_2021_04_06.to_csv(os.path.join(SAVE_PATH, \"day00/geography_2021_04_06.csv\"), index_label=False)"
   ]
  },
  {
   "cell_type": "markdown",
   "metadata": {},
   "source": [
    "## Services"
   ]
  },
  {
   "cell_type": "code",
   "execution_count": 92,
   "metadata": {},
   "outputs": [],
   "source": [
    "services_columns_original.sort()"
   ]
  },
  {
   "cell_type": "code",
   "execution_count": 93,
   "metadata": {},
   "outputs": [],
   "source": [
    "services_columns_original;"
   ]
  },
  {
   "cell_type": "code",
   "execution_count": 94,
   "metadata": {},
   "outputs": [],
   "source": [
    "services_columns_original.extend([\"client_id\"])"
   ]
  },
  {
   "cell_type": "code",
   "execution_count": 95,
   "metadata": {},
   "outputs": [],
   "source": [
    "data_services_2021_01_03 = train_01_03[services_columns_original]\n",
    "data_services_2021_04_06 = train_04_06[services_columns_original]"
   ]
  },
  {
   "cell_type": "code",
   "execution_count": 96,
   "metadata": {},
   "outputs": [],
   "source": [
    "data_services_2021_01_03.to_csv(os.path.join(SAVE_PATH, \"day00/services_2021_01_03.csv\"), index_label=False)\n",
    "data_services_2021_04_06.to_csv(os.path.join(SAVE_PATH, \"day00/services_2021_04_06.csv\"), index_label=False)"
   ]
  },
  {
   "cell_type": "markdown",
   "metadata": {},
   "source": [
    "## Appeals"
   ]
  },
  {
   "cell_type": "code",
   "execution_count": 97,
   "metadata": {},
   "outputs": [],
   "source": [
    "appeals_columns_original.sort()"
   ]
  },
  {
   "cell_type": "code",
   "execution_count": 98,
   "metadata": {},
   "outputs": [],
   "source": [
    "appeals_columns_original;"
   ]
  },
  {
   "cell_type": "code",
   "execution_count": 99,
   "metadata": {},
   "outputs": [],
   "source": [
    "appeals_columns_original.extend([\"client_id\"])"
   ]
  },
  {
   "cell_type": "code",
   "execution_count": 100,
   "metadata": {},
   "outputs": [],
   "source": [
    "data_appeals_2021_01_03 = train_01_03[appeals_columns_original]\n",
    "data_appeals_2021_04_06 = train_04_06[appeals_columns_original]"
   ]
  },
  {
   "cell_type": "code",
   "execution_count": 101,
   "metadata": {},
   "outputs": [],
   "source": [
    "data_appeals_2021_01_03.to_csv(os.path.join(SAVE_PATH, \"day00/appeals_2021_01_03.csv\"), index_label=False)\n",
    "data_appeals_2021_04_06.to_csv(os.path.join(SAVE_PATH, \"day00/appeals_2021_04_06.csv\"), index_label=False)"
   ]
  },
  {
   "cell_type": "markdown",
   "metadata": {},
   "source": [
    "## Failures"
   ]
  },
  {
   "cell_type": "code",
   "execution_count": 102,
   "metadata": {},
   "outputs": [],
   "source": [
    "failures_columns_original.sort()"
   ]
  },
  {
   "cell_type": "code",
   "execution_count": 103,
   "metadata": {},
   "outputs": [],
   "source": [
    "failures_columns_original;"
   ]
  },
  {
   "cell_type": "code",
   "execution_count": 104,
   "metadata": {},
   "outputs": [],
   "source": [
    "failures_columns_original.extend([\"client_id\"])"
   ]
  },
  {
   "cell_type": "code",
   "execution_count": 105,
   "metadata": {},
   "outputs": [],
   "source": [
    "data_failures_2021_01_03 = train_01_03[failures_columns_original]\n",
    "data_failures_2021_04_06 = train_04_06[failures_columns_original]"
   ]
  },
  {
   "cell_type": "code",
   "execution_count": 106,
   "metadata": {},
   "outputs": [],
   "source": [
    "data_failures_2021_01_03.to_csv(os.path.join(SAVE_PATH, \"day00/failures_2021_01_03.csv\"), index_label=False)\n",
    "data_failures_2021_04_06.to_csv(os.path.join(SAVE_PATH, \"day00/failures_2021_04_06.csv\"), index_label=False)"
   ]
  },
  {
   "cell_type": "markdown",
   "metadata": {},
   "source": [
    "## IPTV"
   ]
  },
  {
   "cell_type": "code",
   "execution_count": 107,
   "metadata": {},
   "outputs": [],
   "source": [
    "iptv_columns_original.sort()"
   ]
  },
  {
   "cell_type": "code",
   "execution_count": 108,
   "metadata": {},
   "outputs": [],
   "source": [
    "iptv_columns_original;"
   ]
  },
  {
   "cell_type": "code",
   "execution_count": 109,
   "metadata": {},
   "outputs": [],
   "source": [
    "iptv_columns_original.extend([\"client_id\"])"
   ]
  },
  {
   "cell_type": "code",
   "execution_count": 110,
   "metadata": {},
   "outputs": [],
   "source": [
    "data_iptv_2021_01_03 = train_01_03[iptv_columns_original]\n",
    "data_iptv_2021_04_06 = train_04_06[iptv_columns_original]"
   ]
  },
  {
   "cell_type": "code",
   "execution_count": 111,
   "metadata": {},
   "outputs": [],
   "source": [
    "data_iptv_2021_01_03.to_csv(os.path.join(SAVE_PATH, \"day00/iptv_2021_01_03.csv\"), index_label=False)\n",
    "data_iptv_2021_04_06.to_csv(os.path.join(SAVE_PATH, \"day00/iptv_2021_04_06.csv\"), index_label=False)"
   ]
  }
 ],
 "metadata": {
  "kernelspec": {
   "display_name": "Python 3 (ipykernel)",
   "language": "python",
   "name": "python3"
  },
  "language_info": {
   "codemirror_mode": {
    "name": "ipython",
    "version": 3
   },
   "file_extension": ".py",
   "mimetype": "text/x-python",
   "name": "python",
   "nbconvert_exporter": "python",
   "pygments_lexer": "ipython3",
   "version": "3.9.6"
  },
  "widgets": {
   "application/vnd.jupyter.widget-state+json": {
    "state": {},
    "version_major": 2,
    "version_minor": 0
   }
  }
 },
 "nbformat": 4,
 "nbformat_minor": 4
}
