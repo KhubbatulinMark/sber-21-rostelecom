{
 "cells": [
  {
   "cell_type": "code",
   "execution_count": 1,
   "id": "65ede76f-c025-4d5e-9519-64705d67c6a2",
   "metadata": {},
   "outputs": [],
   "source": [
    "import pandas as pd\n",
    "import os\n",
    "from pyhive import hive\n",
    "import datetime\n",
    "\n",
    "from sklearn.model_selection import cross_val_score, StratifiedKFold, GridSearchCV, RandomizedSearchCV\n",
    "from sklearn.metrics import roc_auc_score, precision_score, recall_score, f1_score\n",
    "from lightgbm import LGBMClassifier, plot_metric\n",
    "import shap\n",
    "\n",
    "import random\n",
    "import pickle"
   ]
  },
  {
   "cell_type": "code",
   "execution_count": 2,
   "id": "8ee93d39-f42f-4b5f-9a3f-bea7fb0bfc92",
   "metadata": {},
   "outputs": [],
   "source": [
    "random_state = 42\n",
    "random.seed(random_state)"
   ]
  },
  {
   "cell_type": "code",
   "execution_count": 3,
   "id": "3fefd9d0-3199-4530-9410-42380926526c",
   "metadata": {},
   "outputs": [],
   "source": [
    "WORK_DIR = \"test1/ad-hoc_projects/consulters_11_june_2022\""
   ]
  },
  {
   "cell_type": "code",
   "execution_count": 4,
   "id": "051a0aff-351c-4361-a027-4342e81cb835",
   "metadata": {},
   "outputs": [],
   "source": [
    "def get_connection_hive(USER, PATH_KEYTAB, SCHEMA='dev_dm_ads', hive_config={'tez.queue.name': 'dm'}, kinit=True):\n",
    "    try:\n",
    "        if kinit:\n",
    "            os.system(f'kinit -V -k -t {PATH_KEYTAB}/{USER}.keytab {USER}@DH.RT.RU')\n",
    "            connection = hive.connect(host='ng-adh-prod-m-1.dh.rt.ru',\n",
    "                                port=10000,\n",
    "                                database=f'{SCHEMA}',\n",
    "                                username=f'{USER}',\n",
    "                                auth='KERBEROS',\n",
    "                                kerberos_service_name='hive',\n",
    "                                configuration = hive_config)\n",
    "        print('Connection: True')\n",
    "        return connection\n",
    "    except Exception as e:\n",
    "        print(e)\n",
    "        print('Connection: False (Check Kerberos Ticket)')"
   ]
  },
  {
   "cell_type": "code",
   "execution_count": 4,
   "id": "49bc4401-5794-4041-9728-a3612e798d5c",
   "metadata": {},
   "outputs": [
    {
     "name": "stdout",
     "output_type": "stream",
     "text": [
      "2020-12-01 train\n",
      "2021-05-01 valid\n",
      "2021-10-01 predict\n"
     ]
    }
   ],
   "source": [
    "period_keys = ('2020-12-01', '2021-05-01', '2021-10-01')\n",
    "names = ('train', 'valid', 'predict')\n",
    "for period_key, name in zip(period_keys, names):\n",
    "    print(period_key, name)"
   ]
  },
  {
   "cell_type": "code",
   "execution_count": 6,
   "id": "b34bfbda-c0eb-4021-a034-747ebcb5b9eb",
   "metadata": {},
   "outputs": [
    {
     "name": "stdout",
     "output_type": "stream",
     "text": [
      "00:08:09\n",
      "2020-12-01 train\n",
      "Connection: True\n",
      "Starting query\n",
      "Query succeded\n",
      "(191377, 4371)\n",
      "Time elapsed 3323.0s\n",
      "01:03:32\n",
      "2021-05-01 valid\n",
      "Connection: True\n",
      "Starting query\n",
      "Query succeded\n",
      "(195622, 4371)\n",
      "Time elapsed 3492.1s\n",
      "02:01:44\n",
      "2021-10-01 predict\n",
      "Connection: True\n",
      "Starting query\n",
      "Query succeded\n",
      "(193497, 4371)\n",
      "Time elapsed 3401.0s\n"
     ]
    }
   ],
   "source": [
    "for period_key, name in zip(period_keys, names):\n",
    "    start_time = datetime.datetime.now()\n",
    "    print(start_time.strftime(\"%H:%M:%S\"))\n",
    "    print(period_key, name)\n",
    "    with open(f'{WORK_DIR}/query.sql', 'r', encoding='utf-8') as file:\n",
    "        sql_query = file.read()   \n",
    "    sql_query = sql_query.replace('${period_key}', period_key)\n",
    "    connection = get_connection_hive(\"dm-dev-adh\", \"test1/keytab\")\n",
    "    try:\n",
    "        print('Starting query')\n",
    "        tmp_df = pd.read_sql(sql_query, connection)\n",
    "    finally:\n",
    "        connection.close\n",
    "    print('Query succeded')\n",
    "    print(tmp_df.shape)\n",
    "    tmp_df.to_csv(f'{WORK_DIR}/data/dataset_{name}.csv', index=False)\n",
    "    end_time = datetime.datetime.now()\n",
    "    print(f'Time elapsed {(end_time - start_time).total_seconds():.1f}s')"
   ]
  },
  {
   "cell_type": "markdown",
   "id": "d94a8e23-cfe5-4fc6-8ba4-727f67034bfa",
   "metadata": {},
   "source": [
    "Не забыть также выкачать лейблы, потом при сохранении датасета их присоединить\n",
    "\n",
    "Область - Воронежская"
   ]
  },
  {
   "cell_type": "code",
   "execution_count": 5,
   "id": "f1c8a50a-cd89-4775-9e94-30b898ec40f0",
   "metadata": {},
   "outputs": [
    {
     "name": "stdout",
     "output_type": "stream",
     "text": [
      "14:30:49\n",
      "2020-12-01 train\n",
      "Connection: True\n",
      "Starting query\n",
      "Query succeded\n",
      "(1672762, 2)\n",
      "Time elapsed 16.5s\n",
      "14:31:05\n",
      "2021-05-01 valid\n",
      "Connection: True\n",
      "Starting query\n",
      "Query succeded\n",
      "(1733684, 2)\n",
      "Time elapsed 16.9s\n",
      "14:31:22\n",
      "2021-10-01 predict\n",
      "Connection: True\n",
      "Starting query\n",
      "Query succeded\n",
      "(1743958, 2)\n",
      "Time elapsed 20.9s\n"
     ]
    }
   ],
   "source": [
    "for period_key, name in zip(period_keys, names):\n",
    "    start_time = datetime.datetime.now()\n",
    "    print(start_time.strftime(\"%H:%M:%S\"))\n",
    "    print(period_key, name)\n",
    "    sql_query = \"\"\"select nls, label from dev_dm_ads.actual_churn_report\n",
    "                    where mrf_key=11\n",
    "                    and period_key = '${period_key}'\"\"\"\n",
    "    sql_query = sql_query.replace('${period_key}', period_key)\n",
    "    connection = get_connection_hive(\"dm-dev-adh\", \"test1/keytab\")\n",
    "    try:\n",
    "        print('Starting query')\n",
    "        tmp_df = pd.read_sql(sql_query, connection)\n",
    "    finally:\n",
    "        connection.close\n",
    "    print('Query succeded')\n",
    "    print(tmp_df.shape)\n",
    "    tmp_df.to_csv(f'{WORK_DIR}/data/labels_{name}.csv', index=False)\n",
    "    end_time = datetime.datetime.now()\n",
    "    print(f'Time elapsed {(end_time - start_time).total_seconds():.1f}s')"
   ]
  },
  {
   "cell_type": "code",
   "execution_count": 6,
   "id": "6e7e746f-9356-4304-b7b4-781923e65c5f",
   "metadata": {},
   "outputs": [],
   "source": [
    "def exclude_features(df):\n",
    "    exclude_name = ['nls', 'mrf_key']\n",
    "    df.drop(df.dtypes[df.dtypes == 'object'].index, axis=1, inplace=True)\n",
    "    df.drop(exclude_name, axis=1, inplace=True)\n",
    "    return df"
   ]
  },
  {
   "cell_type": "code",
   "execution_count": 7,
   "id": "0a4f66fb-916f-4b68-ba15-e5ec7917638b",
   "metadata": {},
   "outputs": [],
   "source": [
    "# Попробовать и этот вариант\n",
    "def columns_to_drop(df): #удаление колоннок с ликами, типа объект\n",
    "    leak_del = [x for x in df.columns if x.startswith('charg_inst') or x.startswith('charg_sale')]\n",
    "    leak_del = leak_del + [_ for _ in df.columns if _.startswith('hgid') or _.startswith('hflat') or _.startswith('hlid')]\n",
    "    leak_del = leak_del + ['latitude_1m', 'longitude_1m', 'nls_1m']\n",
    "    categorical_columns = list(df.select_dtypes(include='object').columns) \n",
    "#     categorical_columns.remove('period_key')\n",
    "#     categorical_columns.remove('type_sample')\n",
    "#     missing_values_columns = list(df.isnull().sum()[df.isnull().sum()>50000].keys())\n",
    "    \n",
    "    print(f'number of columns to drop: {len(leak_del + categorical_columns)}')\n",
    "    return leak_del + categorical_columns"
   ]
  },
  {
   "cell_type": "code",
   "execution_count": 197,
   "id": "dbbd2507-1d1b-456c-90c6-911e63e55892",
   "metadata": {},
   "outputs": [
    {
     "name": "stdout",
     "output_type": "stream",
     "text": [
      "number of columns to drop: 71\n",
      "(160461, 4301)\n"
     ]
    }
   ],
   "source": [
    "df_train = pd.read_csv(f'{WORK_DIR}/data/dataset_train.csv')\n",
    "df_train.columns = [c.split('.')[1] if '.' in c else c for c in list(df_train.columns)]\n",
    "labels_train = pd.read_csv(f'{WORK_DIR}/data/labels_train.csv')\n",
    "df_train = df_train.merge(labels_train, on='nls', how='inner')\n",
    "# df_train = exclude_features(df_train)\n",
    "drop_cols = columns_to_drop(df_train)\n",
    "df_train.drop(drop_cols, axis=1, inplace=True)\n",
    "print(df_train.shape)"
   ]
  },
  {
   "cell_type": "code",
   "execution_count": 198,
   "id": "f0e6e431-4421-4b4e-aab4-0abbb5050f9b",
   "metadata": {},
   "outputs": [
    {
     "name": "stdout",
     "output_type": "stream",
     "text": [
      "(173304, 4301)\n"
     ]
    }
   ],
   "source": [
    "df_valid = pd.read_csv(f'{WORK_DIR}/data/dataset_valid.csv')\n",
    "df_valid.columns = [c.split('.')[1] if '.' in c else c for c in list(df_valid.columns)] \n",
    "labels_valid = pd.read_csv(f'{WORK_DIR}/data/labels_valid.csv')\n",
    "df_valid = df_valid.merge(labels_valid, on='nls', how='inner')\n",
    "# df_valid = exclude_features(df_valid)\n",
    "df_valid.drop(drop_cols, axis=1, inplace=True)\n",
    "print(df_valid.shape)"
   ]
  },
  {
   "cell_type": "code",
   "execution_count": 199,
   "id": "892df1d7-678d-42c8-af11-980cd0611d02",
   "metadata": {},
   "outputs": [
    {
     "name": "stdout",
     "output_type": "stream",
     "text": [
      "(177376, 4301)\n"
     ]
    }
   ],
   "source": [
    "df_test = pd.read_csv(f'{WORK_DIR}/data/dataset_predict.csv')\n",
    "df_test.columns = [c.split('.')[1] if '.' in c else c for c in list(df_test.columns)] \n",
    "labels_test = pd.read_csv(f'{WORK_DIR}/data/labels_predict.csv')\n",
    "df_test = df_test.merge(labels_test, on='nls', how='inner')\n",
    "df_test.drop(drop_cols, axis=1, inplace=True)\n",
    "print(df_test.shape)"
   ]
  },
  {
   "cell_type": "code",
   "execution_count": 200,
   "id": "09297147-3812-4483-8b6c-d1c745341898",
   "metadata": {},
   "outputs": [
    {
     "name": "stderr",
     "output_type": "stream",
     "text": [
      "'early_stopping_rounds' argument is deprecated and will be removed in a future release of LightGBM. Pass 'early_stopping()' callback via 'callbacks' argument instead.\n",
      "'verbose' argument is deprecated and will be removed in a future release of LightGBM. Pass 'log_evaluation()' callback via 'callbacks' argument instead.\n"
     ]
    },
    {
     "name": "stdout",
     "output_type": "stream",
     "text": [
      "[1]\ttraining's auc: 0.63868\tvalid_0's auc: 0.616385\n",
      "[2]\ttraining's auc: 0.678178\tvalid_0's auc: 0.646211\n",
      "[3]\ttraining's auc: 0.690405\tvalid_0's auc: 0.654129\n",
      "[4]\ttraining's auc: 0.698642\tvalid_0's auc: 0.657323\n",
      "[5]\ttraining's auc: 0.707182\tvalid_0's auc: 0.662003\n",
      "[6]\ttraining's auc: 0.712192\tvalid_0's auc: 0.663672\n",
      "[7]\ttraining's auc: 0.715876\tvalid_0's auc: 0.664499\n",
      "[8]\ttraining's auc: 0.719529\tvalid_0's auc: 0.666455\n",
      "[9]\ttraining's auc: 0.721797\tvalid_0's auc: 0.666713\n",
      "[10]\ttraining's auc: 0.725814\tvalid_0's auc: 0.667279\n",
      "[11]\ttraining's auc: 0.728637\tvalid_0's auc: 0.667803\n",
      "[12]\ttraining's auc: 0.733262\tvalid_0's auc: 0.667663\n",
      "[13]\ttraining's auc: 0.736003\tvalid_0's auc: 0.668186\n",
      "[14]\ttraining's auc: 0.738875\tvalid_0's auc: 0.668022\n",
      "[15]\ttraining's auc: 0.742172\tvalid_0's auc: 0.668691\n",
      "[16]\ttraining's auc: 0.745869\tvalid_0's auc: 0.66864\n",
      "[17]\ttraining's auc: 0.748801\tvalid_0's auc: 0.669281\n",
      "[18]\ttraining's auc: 0.751376\tvalid_0's auc: 0.669527\n",
      "[19]\ttraining's auc: 0.754216\tvalid_0's auc: 0.670233\n",
      "[20]\ttraining's auc: 0.756811\tvalid_0's auc: 0.671014\n",
      "[21]\ttraining's auc: 0.759368\tvalid_0's auc: 0.671375\n",
      "[22]\ttraining's auc: 0.761584\tvalid_0's auc: 0.672183\n",
      "[23]\ttraining's auc: 0.763803\tvalid_0's auc: 0.671927\n",
      "[24]\ttraining's auc: 0.765953\tvalid_0's auc: 0.672491\n",
      "[25]\ttraining's auc: 0.768368\tvalid_0's auc: 0.672657\n",
      "[26]\ttraining's auc: 0.771165\tvalid_0's auc: 0.672839\n",
      "[27]\ttraining's auc: 0.774093\tvalid_0's auc: 0.672476\n",
      "[28]\ttraining's auc: 0.776672\tvalid_0's auc: 0.672755\n",
      "[29]\ttraining's auc: 0.778527\tvalid_0's auc: 0.672904\n",
      "[30]\ttraining's auc: 0.780628\tvalid_0's auc: 0.673237\n",
      "[31]\ttraining's auc: 0.782284\tvalid_0's auc: 0.673378\n",
      "[32]\ttraining's auc: 0.784099\tvalid_0's auc: 0.674014\n",
      "[33]\ttraining's auc: 0.786381\tvalid_0's auc: 0.673788\n",
      "[34]\ttraining's auc: 0.787937\tvalid_0's auc: 0.673754\n",
      "[35]\ttraining's auc: 0.789984\tvalid_0's auc: 0.673664\n",
      "[36]\ttraining's auc: 0.791776\tvalid_0's auc: 0.673434\n",
      "[37]\ttraining's auc: 0.794053\tvalid_0's auc: 0.673073\n",
      "[38]\ttraining's auc: 0.795719\tvalid_0's auc: 0.673357\n",
      "[39]\ttraining's auc: 0.797829\tvalid_0's auc: 0.673607\n",
      "[40]\ttraining's auc: 0.7998\tvalid_0's auc: 0.673599\n",
      "[41]\ttraining's auc: 0.800949\tvalid_0's auc: 0.673352\n",
      "[42]\ttraining's auc: 0.802515\tvalid_0's auc: 0.6732\n"
     ]
    },
    {
     "data": {
      "text/plain": [
       "<AxesSubplot:title={'center':'Metric during training'}, xlabel='Iterations', ylabel='auc'>"
      ]
     },
     "execution_count": 200,
     "metadata": {},
     "output_type": "execute_result"
    },
    {
     "data": {
      "image/png": "[encoded data removed]",
      "text/plain": [
       "<Figure size 432x288 with 1 Axes>"
      ]
     },
     "metadata": {
      "needs_background": "light"
     },
     "output_type": "display_data"
    }
   ],
   "source": [
    "X_train, y_train = df_train.drop(columns=['label']), df_train.label\n",
    "X_val, y_val = df_valid.drop(columns=['label']), df_valid.label\n",
    "X_test, y_test = df_test.drop(columns=['label']), df_test.label\n",
    "lgbm_clf = LGBMClassifier(objective='binary', metric='auc',\n",
    "#                           class_weight='balanced',\n",
    "                          random_state=random_state)\n",
    "\n",
    "lgbm_clf.fit(X_train, y_train, eval_set=[(X_val, y_val), (X_train, y_train)], eval_metric='auc'\n",
    "            , verbose=True, early_stopping_rounds=10)\n",
    "\n",
    "plot_metric(lgbm_clf)"
   ]
  },
  {
   "cell_type": "code",
   "execution_count": 12,
   "id": "6558c18a-d93b-40d9-b7b1-b38b891946b4",
   "metadata": {},
   "outputs": [
    {
     "name": "stderr",
     "output_type": "stream",
     "text": [
      "LightGBM binary classifier with TreeExplainer shap values output has changed to a list of ndarray\n"
     ]
    },
    {
     "data": {
      "image/png": "[encoded data removed]",
      "text/plain": [
       "<Figure size 576x828 with 1 Axes>"
      ]
     },
     "metadata": {
      "needs_background": "light"
     },
     "output_type": "display_data"
    }
   ],
   "source": [
    "shap_test = shap.TreeExplainer(lgbm_clf).shap_values(df_valid.drop(columns=['label']))\n",
    "shap.summary_plot(shap_test, df_valid.drop(columns=['label']),\n",
    "                 max_display=25)"
   ]
  },
  {
   "cell_type": "code",
   "execution_count": 201,
   "id": "8d1f8cb5-2844-45f6-89b4-65950b1e020a",
   "metadata": {},
   "outputs": [],
   "source": [
    "feature_columns = X_train.columns\n",
    "importance = lgbm_clf.feature_importances_\n",
    "feature_importance = dict(zip(feature_columns, importance))\n",
    "sorted_feature_importance = sorted(feature_importance.items(), key = lambda x:x[1], reverse=True)\n",
    "\n",
    "number_of_features_to_use = 100\n",
    "features = [_[0] for _ in sorted_feature_importance[:number_of_features_to_use]]"
   ]
  },
  {
   "cell_type": "code",
   "execution_count": 202,
   "id": "d7df62e6-395c-4133-9c5d-83d540c93a43",
   "metadata": {},
   "outputs": [
    {
     "data": {
      "text/plain": [
       "['upks_1m',\n",
       " 'count_flat_1m',\n",
       " 'nls',\n",
       " 'age_1m',\n",
       " 'data_shpd_p2m',\n",
       " 'lifetime_1m',\n",
       " 'data_shpd_p1m',\n",
       " 'data_shpd_d1m',\n",
       " 'quality_code_1m',\n",
       " 'appm_shpd_d2m',\n",
       " 'house_reg_square_1m',\n",
       " 'year_of_deployment_1m',\n",
       " 'appm_shpd_d1m',\n",
       " 'cnt_shpd_dsl_2m',\n",
       " 'charg_abon_shpd_d2m',\n",
       " 'basic_debt_bad_sum_p3m',\n",
       " 'cnt_nls_on_hflat_1m',\n",
       " 'year_of_construction_1m',\n",
       " 'appm_shpd_1m',\n",
       " 'appm_shpd_p2m',\n",
       " 'data_shpd_p3m',\n",
       " 'balance_sum_1m',\n",
       " 'balance_sum_p2m',\n",
       " 'cadastral_price_1m',\n",
       " 'cnt_shpd_dsl_p1m',\n",
       " 'charg_period_shpd_1m',\n",
       " 'charg_abon_shpd_1m',\n",
       " 'charg_abon_shpd_d3m',\n",
       " 'data_shpd_1m',\n",
       " 'data_shpd_d3m',\n",
       " 'basic_debt_bad_sum_3m',\n",
       " 'basic_debt_bad_sum_p2m',\n",
       " 'appm_shpd_p3m',\n",
       " 'cnt_ota_d1m',\n",
       " 'charg_abon_shpd_p2m',\n",
       " 'dur_intr_p2m',\n",
       " 'dur_intr_p3m',\n",
       " 'dur_intr_t_serv_3m',\n",
       " 'dur_intr_d_in_2m',\n",
       " 'balance_sum_d1m',\n",
       " 'pay_count_p3m',\n",
       " 'avg_view_multi_1m',\n",
       " 'avg_view_multi_d3m',\n",
       " 'avg_view_ether_2m',\n",
       " 'avg_view_genre_tv_series_p3m',\n",
       " 'cnt_shpd_pon_2m',\n",
       " 'cnt_shpd_pon_p1m',\n",
       " 'charg_period_shpd_p2m',\n",
       " 'charg_abon_shpd_p3m',\n",
       " 'charg_vod_iptv_p3m',\n",
       " 'charg_period_ota_p3m',\n",
       " 'charg_ms_ota_2m',\n",
       " 'charg_ms_ota_p3m',\n",
       " 'charg_rent_shpd_p2m',\n",
       " 'dur_intr_d_in_1m',\n",
       " 'balance_sum_p3m',\n",
       " 'balance_sum_d3m',\n",
       " 'avg_view_multi_d1m',\n",
       " 'avg_view_cinema_d2m',\n",
       " 'avg_view_genre_other_d3m',\n",
       " 'appm_shpd_p1m',\n",
       " 'appm_shpd_d3m',\n",
       " 'lifetime_ota_1m',\n",
       " 'cnt_ota_d2m',\n",
       " 'charg_abon_shpd_3m',\n",
       " 'charg_period_ota_p2m',\n",
       " 'charg_ms_ota_d3m',\n",
       " 'cnt_intr_p2m',\n",
       " 'cnt_op_intr_d_in_d1m',\n",
       " 'max_dur_intr_pr_shpd_1m',\n",
       " 'max_dur_intr_pr_shpd_p3m',\n",
       " 'total_duration_1m',\n",
       " 'total_duration_p1m',\n",
       " 'avg_view_ether_p1m',\n",
       " 'avg_view_ether_d2m',\n",
       " 'avg_view_entertain_p1m',\n",
       " 'avg_view_music_1m',\n",
       " 'avg_view_cognitive_1m',\n",
       " 'avg_view_other_d3m',\n",
       " 'avg_view_genre_news_d2m',\n",
       " 'avg_view_genre_cinema_d1m',\n",
       " 'count_floors_1m',\n",
       " 'cnt_ota_d3m',\n",
       " 'cnt_shpd_pon_1m',\n",
       " 'charg_period_shpd_2m',\n",
       " 'charg_period_shpd_3m',\n",
       " 'charg_period_shpd_p3m',\n",
       " 'charg_period_shpd_d3m',\n",
       " 'charg_abon_shpd_d1m',\n",
       " 'charg_abon_iptv_p3m',\n",
       " 'charg_abon_iptv_d2m',\n",
       " 'charg_abon_iptv_d3m',\n",
       " 'charg_period_ota_p1m',\n",
       " 'charg_ms_ota_1m',\n",
       " 'charg_ms_ota_p2m',\n",
       " 'charg_vz_ota_3m',\n",
       " 'charg_mg_ota_1m',\n",
       " 'charg_mn_ota_p2m',\n",
       " 'charg_rent_shpd_2m',\n",
       " 'charg_rent_shpd_p1m']"
      ]
     },
     "execution_count": 202,
     "metadata": {},
     "output_type": "execute_result"
    }
   ],
   "source": [
    "features"
   ]
  },
  {
   "cell_type": "code",
   "execution_count": 203,
   "id": "9288282d-977c-4ba7-a3e3-077aa86ea00c",
   "metadata": {},
   "outputs": [],
   "source": [
    "X_train, y_train = df_train[features], df_train.label\n",
    "X_val, y_val = df_valid[features], df_valid.label\n",
    "X_test, y_test = df_test[features], df_test.label"
   ]
  },
  {
   "cell_type": "code",
   "execution_count": 98,
   "id": "29942643-979c-474e-af46-27c1affa0e53",
   "metadata": {},
   "outputs": [],
   "source": [
    "param_grid = {'n_estimators' : [10, 30, 50, 100],\n",
    "              'learning_rate' : [0.05, 0.1, 1],\n",
    "              'reg_lambda': [0, 0.1, 0.5],\n",
    "              'max_depth' : [3, 5, 7],\n",
    "              'num_leaves' : [10, 25, 50],              \n",
    "}\n",
    "\n",
    "lgbm_clf = LGBMClassifier(objective='binary', metric='auc',\n",
    "                          random_state=random_state )\n",
    "# searcher = GridSearchCV(estimator=lgbm_clf, param_grid=param_grid, scoring='roc_auc', n_jobs=n_jobs, cv=5, verbose=10)\n",
    "random_searcher = RandomizedSearchCV(estimator=lgbm_clf, param_distributions=param_grid, scoring='roc_auc',\n",
    "                                     cv=5, random_state=random_state, verbose=50)"
   ]
  },
  {
   "cell_type": "code",
   "execution_count": null,
   "id": "52fc8c5e-5e6a-453c-a1ac-5a0a3c160608",
   "metadata": {},
   "outputs": [],
   "source": [
    "random_searcher.fit(X_train, y_train)"
   ]
  },
  {
   "cell_type": "code",
   "execution_count": 100,
   "id": "fa9ae050-13c7-4558-8158-5894a83a0831",
   "metadata": {},
   "outputs": [
    {
     "data": {
      "text/plain": [
       "0.6701080538549585"
      ]
     },
     "execution_count": 100,
     "metadata": {},
     "output_type": "execute_result"
    }
   ],
   "source": [
    "roc_auc_score(y_val, random_searcher.best_estimator_.predict_proba(X_val)[:,1])"
   ]
  },
  {
   "cell_type": "code",
   "execution_count": 101,
   "id": "81d4796d-878b-4be2-acde-09a3ffa9724b",
   "metadata": {},
   "outputs": [
    {
     "data": {
      "text/plain": [
       "0.6689627676322711"
      ]
     },
     "execution_count": 101,
     "metadata": {},
     "output_type": "execute_result"
    }
   ],
   "source": [
    "roc_auc_score(y_test, random_searcher.best_estimator_.predict_proba(X_test)[:,1])"
   ]
  },
  {
   "cell_type": "code",
   "execution_count": null,
   "id": "711d7943-8944-4f43-bc1c-93bea026fb48",
   "metadata": {},
   "outputs": [],
   "source": [
    "best_roc_auc = 0\n",
    "for n_estimators in [10, 30, 50, 100]:\n",
    "    for learning_rate in [0.05, 0.1, 1]:\n",
    "        for reg_lambda in [0, 0.1, 0.5]:\n",
    "            for max_depth in [3, 5, 7]:\n",
    "                for num_leaves in [10, 25, 50]:\n",
    "                    parameters = {'n_estimators' : n_estimators,\n",
    "                                  'learning_rate' : learning_rate,\n",
    "                                  'reg_lambda' : reg_lambda,\n",
    "                                  'max_depth' : max_depth,\n",
    "                                  'num_leaves' : num_leaves\n",
    "                                 }\n",
    "                    print(parameters)\n",
    "                    lgbm_clf = LGBMClassifier(objective='binary', metric='auc',\n",
    "            #                           class_weight='balanced',\n",
    "                                      random_state=random_state,\n",
    "                                         **parameters)\n",
    "\n",
    "                    lgbm_clf.fit(X_train, y_train, eval_set=[(X_val, y_val), (X_train, y_train)], eval_metric='auc'\n",
    "                                , verbose=False, early_stopping_rounds=10)\n",
    "                    roc_auc = roc_auc_score(y_val, lgbm_clf.predict_proba(X_val)[:,1])\n",
    "\n",
    "                    if roc_auc > best_roc_auc:\n",
    "                        best_roc_auc = roc_auc\n",
    "                        best_parameters = parameters\n",
    "                    print(roc_auc, best_roc_auc)           "
   ]
  },
  {
   "cell_type": "code",
   "execution_count": 46,
   "id": "fe0ca50b-fb3a-445b-9b69-fea1e3b22afa",
   "metadata": {},
   "outputs": [
    {
     "data": {
      "text/plain": [
       "0.6801086892684943"
      ]
     },
     "execution_count": 46,
     "metadata": {},
     "output_type": "execute_result"
    }
   ],
   "source": [
    "best_roc_auc"
   ]
  },
  {
   "cell_type": "code",
   "execution_count": 47,
   "id": "dc2ed403-56da-4949-ae67-8c7e444d293f",
   "metadata": {},
   "outputs": [
    {
     "data": {
      "text/plain": [
       "{'n_estimators': 100,\n",
       " 'learning_rate': 0.05,\n",
       " 'reg_lambda': 0.5,\n",
       " 'max_depth': 7,\n",
       " 'num_leaves': 25}"
      ]
     },
     "execution_count": 47,
     "metadata": {},
     "output_type": "execute_result"
    }
   ],
   "source": [
    "best_parameters"
   ]
  },
  {
   "cell_type": "code",
   "execution_count": 204,
   "id": "9bc24971-9504-4593-96ff-c1d549f10dc3",
   "metadata": {},
   "outputs": [
    {
     "name": "stderr",
     "output_type": "stream",
     "text": [
      "'early_stopping_rounds' argument is deprecated and will be removed in a future release of LightGBM. Pass 'early_stopping()' callback via 'callbacks' argument instead.\n",
      "'verbose' argument is deprecated and will be removed in a future release of LightGBM. Pass 'log_evaluation()' callback via 'callbacks' argument instead.\n"
     ]
    },
    {
     "name": "stdout",
     "output_type": "stream",
     "text": [
      "[1]\ttraining's auc: 0.634518\tvalid_0's auc: 0.598291\n",
      "[2]\ttraining's auc: 0.66083\tvalid_0's auc: 0.639532\n",
      "[3]\ttraining's auc: 0.667571\tvalid_0's auc: 0.641201\n",
      "[4]\ttraining's auc: 0.682939\tvalid_0's auc: 0.650737\n",
      "[5]\ttraining's auc: 0.686274\tvalid_0's auc: 0.650664\n",
      "[6]\ttraining's auc: 0.690392\tvalid_0's auc: 0.652978\n",
      "[7]\ttraining's auc: 0.692529\tvalid_0's auc: 0.654141\n",
      "[8]\ttraining's auc: 0.696639\tvalid_0's auc: 0.658056\n",
      "[9]\ttraining's auc: 0.699946\tvalid_0's auc: 0.660444\n",
      "[10]\ttraining's auc: 0.702036\tvalid_0's auc: 0.663323\n",
      "[11]\ttraining's auc: 0.706104\tvalid_0's auc: 0.663901\n",
      "[12]\ttraining's auc: 0.706596\tvalid_0's auc: 0.664155\n",
      "[13]\ttraining's auc: 0.708024\tvalid_0's auc: 0.66507\n",
      "[14]\ttraining's auc: 0.709589\tvalid_0's auc: 0.666334\n",
      "[15]\ttraining's auc: 0.710011\tvalid_0's auc: 0.665866\n",
      "[16]\ttraining's auc: 0.711961\tvalid_0's auc: 0.66614\n",
      "[17]\ttraining's auc: 0.71256\tvalid_0's auc: 0.666124\n",
      "[18]\ttraining's auc: 0.713609\tvalid_0's auc: 0.666721\n",
      "[19]\ttraining's auc: 0.71498\tvalid_0's auc: 0.667441\n",
      "[20]\ttraining's auc: 0.716798\tvalid_0's auc: 0.668286\n",
      "[21]\ttraining's auc: 0.717793\tvalid_0's auc: 0.669155\n",
      "[22]\ttraining's auc: 0.71942\tvalid_0's auc: 0.67005\n",
      "[23]\ttraining's auc: 0.720653\tvalid_0's auc: 0.670241\n",
      "[24]\ttraining's auc: 0.721901\tvalid_0's auc: 0.670459\n",
      "[25]\ttraining's auc: 0.72281\tvalid_0's auc: 0.670908\n",
      "[26]\ttraining's auc: 0.723862\tvalid_0's auc: 0.670807\n",
      "[27]\ttraining's auc: 0.72469\tvalid_0's auc: 0.671082\n",
      "[28]\ttraining's auc: 0.725195\tvalid_0's auc: 0.671421\n",
      "[29]\ttraining's auc: 0.725598\tvalid_0's auc: 0.67138\n",
      "[30]\ttraining's auc: 0.726899\tvalid_0's auc: 0.671887\n",
      "[31]\ttraining's auc: 0.728163\tvalid_0's auc: 0.672157\n",
      "[32]\ttraining's auc: 0.729069\tvalid_0's auc: 0.672278\n",
      "[33]\ttraining's auc: 0.730254\tvalid_0's auc: 0.672401\n",
      "[34]\ttraining's auc: 0.730995\tvalid_0's auc: 0.672798\n",
      "[35]\ttraining's auc: 0.731538\tvalid_0's auc: 0.672475\n",
      "[36]\ttraining's auc: 0.732853\tvalid_0's auc: 0.672708\n",
      "[37]\ttraining's auc: 0.73323\tvalid_0's auc: 0.672655\n",
      "[38]\ttraining's auc: 0.734387\tvalid_0's auc: 0.672712\n",
      "[39]\ttraining's auc: 0.734939\tvalid_0's auc: 0.672799\n",
      "[40]\ttraining's auc: 0.73565\tvalid_0's auc: 0.673167\n",
      "[41]\ttraining's auc: 0.736657\tvalid_0's auc: 0.673335\n",
      "[42]\ttraining's auc: 0.737427\tvalid_0's auc: 0.673296\n",
      "[43]\ttraining's auc: 0.73826\tvalid_0's auc: 0.673452\n",
      "[44]\ttraining's auc: 0.739296\tvalid_0's auc: 0.673559\n",
      "[45]\ttraining's auc: 0.740211\tvalid_0's auc: 0.673821\n",
      "[46]\ttraining's auc: 0.740971\tvalid_0's auc: 0.674233\n",
      "[47]\ttraining's auc: 0.742114\tvalid_0's auc: 0.674753\n",
      "[48]\ttraining's auc: 0.742802\tvalid_0's auc: 0.675013\n",
      "[49]\ttraining's auc: 0.743323\tvalid_0's auc: 0.674978\n",
      "[50]\ttraining's auc: 0.743853\tvalid_0's auc: 0.675198\n",
      "[51]\ttraining's auc: 0.744377\tvalid_0's auc: 0.675621\n",
      "[52]\ttraining's auc: 0.74512\tvalid_0's auc: 0.675956\n",
      "[53]\ttraining's auc: 0.746186\tvalid_0's auc: 0.676106\n",
      "[54]\ttraining's auc: 0.746719\tvalid_0's auc: 0.676132\n",
      "[55]\ttraining's auc: 0.747386\tvalid_0's auc: 0.676443\n",
      "[56]\ttraining's auc: 0.748366\tvalid_0's auc: 0.676732\n",
      "[57]\ttraining's auc: 0.74944\tvalid_0's auc: 0.676788\n",
      "[58]\ttraining's auc: 0.749956\tvalid_0's auc: 0.676918\n",
      "[59]\ttraining's auc: 0.75068\tvalid_0's auc: 0.677056\n",
      "[60]\ttraining's auc: 0.751511\tvalid_0's auc: 0.677172\n",
      "[61]\ttraining's auc: 0.752061\tvalid_0's auc: 0.677717\n",
      "[62]\ttraining's auc: 0.752751\tvalid_0's auc: 0.677823\n",
      "[63]\ttraining's auc: 0.753262\tvalid_0's auc: 0.677808\n",
      "[64]\ttraining's auc: 0.753679\tvalid_0's auc: 0.678203\n",
      "[65]\ttraining's auc: 0.754239\tvalid_0's auc: 0.678309\n",
      "[66]\ttraining's auc: 0.7549\tvalid_0's auc: 0.678477\n",
      "[67]\ttraining's auc: 0.755373\tvalid_0's auc: 0.67871\n",
      "[68]\ttraining's auc: 0.755938\tvalid_0's auc: 0.678828\n",
      "[69]\ttraining's auc: 0.756428\tvalid_0's auc: 0.678839\n",
      "[70]\ttraining's auc: 0.757017\tvalid_0's auc: 0.678895\n",
      "[71]\ttraining's auc: 0.757586\tvalid_0's auc: 0.679009\n",
      "[72]\ttraining's auc: 0.758457\tvalid_0's auc: 0.678924\n",
      "[73]\ttraining's auc: 0.759055\tvalid_0's auc: 0.679201\n",
      "[74]\ttraining's auc: 0.759496\tvalid_0's auc: 0.679311\n",
      "[75]\ttraining's auc: 0.760268\tvalid_0's auc: 0.679421\n",
      "[76]\ttraining's auc: 0.760687\tvalid_0's auc: 0.679687\n",
      "[77]\ttraining's auc: 0.761547\tvalid_0's auc: 0.679734\n",
      "[78]\ttraining's auc: 0.762034\tvalid_0's auc: 0.679721\n",
      "[79]\ttraining's auc: 0.76265\tvalid_0's auc: 0.679765\n",
      "[80]\ttraining's auc: 0.763365\tvalid_0's auc: 0.679902\n",
      "[81]\ttraining's auc: 0.763889\tvalid_0's auc: 0.679911\n",
      "[82]\ttraining's auc: 0.764716\tvalid_0's auc: 0.679907\n",
      "[83]\ttraining's auc: 0.765549\tvalid_0's auc: 0.680151\n",
      "[84]\ttraining's auc: 0.765952\tvalid_0's auc: 0.680099\n",
      "[85]\ttraining's auc: 0.766556\tvalid_0's auc: 0.680149\n",
      "[86]\ttraining's auc: 0.767529\tvalid_0's auc: 0.68022\n",
      "[87]\ttraining's auc: 0.768362\tvalid_0's auc: 0.680213\n",
      "[88]\ttraining's auc: 0.769038\tvalid_0's auc: 0.680227\n",
      "[89]\ttraining's auc: 0.769934\tvalid_0's auc: 0.680167\n",
      "[90]\ttraining's auc: 0.770202\tvalid_0's auc: 0.680256\n",
      "[91]\ttraining's auc: 0.770768\tvalid_0's auc: 0.680279\n",
      "[92]\ttraining's auc: 0.77133\tvalid_0's auc: 0.680247\n",
      "[93]\ttraining's auc: 0.772261\tvalid_0's auc: 0.680236\n",
      "[94]\ttraining's auc: 0.773126\tvalid_0's auc: 0.680274\n",
      "[95]\ttraining's auc: 0.773625\tvalid_0's auc: 0.680223\n",
      "[96]\ttraining's auc: 0.774354\tvalid_0's auc: 0.680212\n",
      "[97]\ttraining's auc: 0.774955\tvalid_0's auc: 0.680255\n",
      "[98]\ttraining's auc: 0.775437\tvalid_0's auc: 0.680306\n",
      "[99]\ttraining's auc: 0.775795\tvalid_0's auc: 0.680268\n",
      "[100]\ttraining's auc: 0.776401\tvalid_0's auc: 0.680109\n"
     ]
    },
    {
     "data": {
      "text/plain": [
       "<AxesSubplot:title={'center':'Metric during training'}, xlabel='Iterations', ylabel='auc'>"
      ]
     },
     "execution_count": 204,
     "metadata": {},
     "output_type": "execute_result"
    },
    {
     "data": {
      "image/png": "[encoded data removed]",
      "text/plain": [
       "<Figure size 432x288 with 1 Axes>"
      ]
     },
     "metadata": {
      "needs_background": "light"
     },
     "output_type": "display_data"
    }
   ],
   "source": [
    "best_parameters = {'n_estimators': 100,\n",
    "                 'learning_rate': 0.05,\n",
    "                 'reg_lambda': 0.5,\n",
    "                 'max_depth': 7,\n",
    "                 'num_leaves': 25}\n",
    "\n",
    "lgbm_clf = LGBMClassifier(objective='binary', metric='auc',\n",
    "#                           class_weight='balanced',\n",
    "                          random_state=random_state,\n",
    "                         **best_parameters)\n",
    "\n",
    "lgbm_clf.fit(X_train, y_train, eval_set=[(X_val, y_val), (X_train, y_train)], eval_metric='auc'\n",
    "        , verbose=True, early_stopping_rounds=10)\n",
    "\n",
    "plot_metric(lgbm_clf)"
   ]
  },
  {
   "cell_type": "code",
   "execution_count": 205,
   "id": "d2c4d0c1-eed7-435a-b853-81de7f31c3df",
   "metadata": {},
   "outputs": [
    {
     "data": {
      "text/plain": [
       "0.6801086892684943"
      ]
     },
     "execution_count": 205,
     "metadata": {},
     "output_type": "execute_result"
    }
   ],
   "source": [
    "roc_auc_score(y_val, lgbm_clf.predict_proba(X_val)[:,1])"
   ]
  },
  {
   "cell_type": "code",
   "execution_count": 206,
   "id": "1272c5d3-35b4-4f74-b71c-6d91c079b42a",
   "metadata": {},
   "outputs": [
    {
     "data": {
      "text/plain": [
       "0.6746495168603585"
      ]
     },
     "execution_count": 206,
     "metadata": {},
     "output_type": "execute_result"
    }
   ],
   "source": [
    "roc_auc_score(y_test, lgbm_clf.predict_proba(X_test)[:,1])"
   ]
  },
  {
   "cell_type": "code",
   "execution_count": 40,
   "id": "69832b12-7701-41d1-894a-f9506e8c3733",
   "metadata": {},
   "outputs": [
    {
     "data": {
      "text/plain": [
       "0.6967430117666774"
      ]
     },
     "execution_count": 40,
     "metadata": {},
     "output_type": "execute_result"
    }
   ],
   "source": [
    "random_searcher.best_score_"
   ]
  },
  {
   "cell_type": "code",
   "execution_count": 32,
   "id": "30cb4750-9df5-4515-bd09-55b14b038250",
   "metadata": {},
   "outputs": [
    {
     "data": {
      "text/plain": [
       "{'reg_lambda': 0.5,\n",
       " 'num_leaves': 10,\n",
       " 'n_estimators': 100,\n",
       " 'max_depth': 3,\n",
       " 'learning_rate': 0.1}"
      ]
     },
     "execution_count": 32,
     "metadata": {},
     "output_type": "execute_result"
    }
   ],
   "source": [
    "random_searcher.best_params_"
   ]
  },
  {
   "cell_type": "code",
   "execution_count": 33,
   "id": "01b2c56c-8a51-4c6b-8ddb-e8140629d048",
   "metadata": {},
   "outputs": [
    {
     "data": {
      "text/plain": [
       "0.6728579341319482"
      ]
     },
     "execution_count": 33,
     "metadata": {},
     "output_type": "execute_result"
    }
   ],
   "source": [
    "roc_auc_score(y_val, random_searcher.best_estimator_.predict_proba(X_val)[:,1])"
   ]
  },
  {
   "cell_type": "code",
   "execution_count": 35,
   "id": "c4860493-6928-4d19-982f-381e6ff70d6f",
   "metadata": {},
   "outputs": [
    {
     "data": {
      "text/plain": [
       "0.6720408831530598"
      ]
     },
     "execution_count": 35,
     "metadata": {},
     "output_type": "execute_result"
    }
   ],
   "source": [
    "roc_auc_score(y_test, random_searcher.best_estimator_.predict_proba(X_test)[:,1])"
   ]
  },
  {
   "cell_type": "code",
   "execution_count": 207,
   "id": "571769bd-d617-4d79-b6fa-3c925d8e1b10",
   "metadata": {},
   "outputs": [],
   "source": [
    "predictions_val = lgbm_clf.predict_proba(X_val)[:,1]"
   ]
  },
  {
   "cell_type": "code",
   "execution_count": 211,
   "id": "ddf77fd0-7866-447d-a8cd-ae38d554d652",
   "metadata": {},
   "outputs": [],
   "source": [
    "def get_metrics(df, predictions):\n",
    "    results = pd.DataFrame(columns=['nls', 'labels', 'scores'])\n",
    "    results['nls'], results['labels'], results['scores'] = df['nls'], df['label'], predictions\n",
    "    results = results.sort_values('scores', ascending=False)\n",
    "    base_churn = results.labels.mean()\n",
    "    print(f'Shape: {df.shape}')\n",
    "    print(f'Base churn: {base_churn}')\n",
    "    print('Metrics:')\n",
    "    print(f'roc_auc: {roc_auc_score(results.labels, results.scores)}')\n",
    "    print(f'precision at 1%: {results[:len(results)//100].labels.mean()}')\n",
    "    print(f'precision at 0.1%: {results[:len(results)//1000].labels.mean()}')\n",
    "    print(f'precision at 5%: {results[:len(results)//20].labels.mean()}')\n",
    "    print(f'precision at 10%: {results[:len(results)//10].labels.mean()}')\n",
    "    \n",
    "    print(f'lift at 0.1%: {results[:len(results)//1000].labels.mean()/base_churn}')\n",
    "    print(f'lift at 1%: {results[:len(results)//100].labels.mean()/base_churn}')\n",
    "    print(f'lift at 5%: {results[:len(results)//20].labels.mean()/base_churn}')\n",
    "    print(f'lift at 10%: {results[:len(results)//10].labels.mean()/base_churn}')"
   ]
  },
  {
   "cell_type": "code",
   "execution_count": null,
   "id": "c37e2832-9ce1-4855-8c08-90d6b7ee1790",
   "metadata": {},
   "outputs": [],
   "source": []
  },
  {
   "cell_type": "code",
   "execution_count": 212,
   "id": "e94f9979-3eec-4c68-a041-9175e90111dd",
   "metadata": {},
   "outputs": [
    {
     "name": "stdout",
     "output_type": "stream",
     "text": [
      "Shape: (173304, 4301)\n",
      "Base churn: 0.04113580759820893\n",
      "Metrics:\n",
      "roc_auc: 0.6801086892684943\n",
      "precision at 1%: 0.20946335833814195\n",
      "precision at 0.1%: 0.36416184971098264\n",
      "precision at 5%: 0.12821696480092326\n",
      "precision at 10%: 0.10778995960761685\n",
      "lift at 0.1%: 8.852672913776425\n",
      "lift at 1%: 5.091995771276946\n",
      "lift at 5%: 3.1169186236301307\n",
      "lift at 10%: 2.6203438294064285\n"
     ]
    }
   ],
   "source": [
    "get_metrics(df_valid, predictions_val)"
   ]
  },
  {
   "cell_type": "code",
   "execution_count": 115,
   "id": "efac31a0-8d9d-4288-aec7-e315e6c9d86d",
   "metadata": {},
   "outputs": [],
   "source": [
    "predictions_test = lgbm_clf.predict_proba(X_test)[:,1]"
   ]
  },
  {
   "cell_type": "code",
   "execution_count": 213,
   "id": "f0b8200c-ec4c-460c-bc11-f5504ac65313",
   "metadata": {},
   "outputs": [
    {
     "name": "stdout",
     "output_type": "stream",
     "text": [
      "Shape: (177376, 4301)\n",
      "Base churn: 0.03682008839978351\n",
      "Metrics:\n",
      "roc_auc: 0.6746495168603585\n",
      "precision at 1%: 0.1900733220530175\n",
      "precision at 0.1%: 0.2655367231638418\n",
      "precision at 5%: 0.12088407758231845\n",
      "precision at 10%: 0.09477363702993742\n",
      "lift at 0.1%: 7.211735080065779\n",
      "lift at 1%: 5.1622179715933285\n",
      "lift at 5%: 3.283101231854435\n",
      "lift at 10%: 2.5739654940778105\n"
     ]
    }
   ],
   "source": [
    "get_metrics(df_test, predictions_test)"
   ]
  },
  {
   "cell_type": "markdown",
   "id": "2cb24f7c-9520-45f5-8741-a442f541e565",
   "metadata": {},
   "source": [
    "#### \"Шифрование\" нлс"
   ]
  },
  {
   "cell_type": "code",
   "execution_count": 172,
   "id": "658d03bf-7b5f-4165-a16b-697e3bee0016",
   "metadata": {},
   "outputs": [],
   "source": [
    "nls_list = list(df_train.nls) + list(df_valid.nls) + list(df_test.nls)"
   ]
  },
  {
   "cell_type": "code",
   "execution_count": 173,
   "id": "a256ffc1-5090-460e-9333-ab07ef5033a9",
   "metadata": {},
   "outputs": [
    {
     "data": {
      "text/plain": [
       "True"
      ]
     },
     "execution_count": 173,
     "metadata": {},
     "output_type": "execute_result"
    }
   ],
   "source": [
    "836010273758 in nls_list"
   ]
  },
  {
   "cell_type": "code",
   "execution_count": 174,
   "id": "9e6f8512-51ca-4861-b0bd-386caa2c4580",
   "metadata": {},
   "outputs": [
    {
     "data": {
      "text/plain": [
       "511141"
      ]
     },
     "execution_count": 174,
     "metadata": {},
     "output_type": "execute_result"
    }
   ],
   "source": [
    "len(nls_list)"
   ]
  },
  {
   "cell_type": "code",
   "execution_count": 175,
   "id": "b47ef862-709f-4f5d-bdc3-1204cf411606",
   "metadata": {},
   "outputs": [
    {
     "data": {
      "text/plain": [
       "201221"
      ]
     },
     "execution_count": 175,
     "metadata": {},
     "output_type": "execute_result"
    }
   ],
   "source": [
    "len(set(nls_list))"
   ]
  },
  {
   "cell_type": "code",
   "execution_count": 176,
   "id": "05bf57b9-22b3-412b-9bb7-1bc6b3c1ab40",
   "metadata": {},
   "outputs": [],
   "source": [
    "nls_set = set(nls_list)"
   ]
  },
  {
   "cell_type": "code",
   "execution_count": 128,
   "id": "dde03aac-7624-492e-bf4b-bfe72d68d2a7",
   "metadata": {},
   "outputs": [],
   "source": [
    "number_list = [i for i in range(1, 201222)]"
   ]
  },
  {
   "cell_type": "code",
   "execution_count": 177,
   "id": "61cb062a-eb5f-4e0a-89c8-85878a6053a1",
   "metadata": {},
   "outputs": [
    {
     "data": {
      "text/plain": [
       "201221"
      ]
     },
     "execution_count": 177,
     "metadata": {},
     "output_type": "execute_result"
    }
   ],
   "source": [
    "len(set(number_list))"
   ]
  },
  {
   "cell_type": "code",
   "execution_count": 132,
   "id": "9c39689e-b1fa-4b9a-8257-0a0e1ff773b0",
   "metadata": {},
   "outputs": [],
   "source": [
    "random.shuffle(number_list)"
   ]
  },
  {
   "cell_type": "code",
   "execution_count": 178,
   "id": "ab94acb1-e0d6-4a65-a8e9-032f3f58ed86",
   "metadata": {},
   "outputs": [],
   "source": [
    "id_to_nls = {i:j for i, j in zip(number_list, nls_set)}"
   ]
  },
  {
   "cell_type": "code",
   "execution_count": 182,
   "id": "baeb83f4-7e55-4fa1-bcda-45b72d85fc17",
   "metadata": {},
   "outputs": [],
   "source": [
    "with open(f'{WORK_DIR}/id_to_nls.pickle', 'wb') as f:\n",
    "    pickle.dump(id_to_nls, f)"
   ]
  },
  {
   "cell_type": "code",
   "execution_count": 5,
   "id": "03b9b995-8f18-405f-af41-ea4585f5f026",
   "metadata": {},
   "outputs": [],
   "source": [
    "with open(f'{WORK_DIR}/id_to_nls.pickle', 'rb') as f:\n",
    "    id_to_nls = pickle.load(f)  "
   ]
  },
  {
   "cell_type": "code",
   "execution_count": 6,
   "id": "bd9787c5-4d2f-43a5-9de7-000e497c6f3a",
   "metadata": {},
   "outputs": [
    {
     "data": {
      "text/plain": [
       "201221"
      ]
     },
     "execution_count": 6,
     "metadata": {},
     "output_type": "execute_result"
    }
   ],
   "source": [
    "len(id_to_nls)"
   ]
  },
  {
   "cell_type": "code",
   "execution_count": 7,
   "id": "fa54ae9e-08e3-4d73-9d12-a212d3a42b6b",
   "metadata": {},
   "outputs": [],
   "source": [
    "nls_to_id = {v: k for k, v in id_to_nls.items()}"
   ]
  },
  {
   "cell_type": "code",
   "execution_count": 8,
   "id": "5922fde7-a791-4d2c-9138-dbdb970f7981",
   "metadata": {},
   "outputs": [
    {
     "data": {
      "text/plain": [
       "201221"
      ]
     },
     "execution_count": 8,
     "metadata": {},
     "output_type": "execute_result"
    }
   ],
   "source": [
    "len(nls_to_id)"
   ]
  },
  {
   "cell_type": "code",
   "execution_count": 9,
   "id": "db8364fe-dae7-4ef2-a71e-92469d5e3e4a",
   "metadata": {},
   "outputs": [
    {
     "data": {
      "text/plain": [
       "158504"
      ]
     },
     "execution_count": 9,
     "metadata": {},
     "output_type": "execute_result"
    }
   ],
   "source": [
    "nls_to_id[836010273758]"
   ]
  },
  {
   "cell_type": "code",
   "execution_count": 24,
   "id": "0f1d4ba7-cbf6-450e-9b01-bed610d1f145",
   "metadata": {},
   "outputs": [],
   "source": [
    "# df_train = pd.read_csv(f'{WORK_DIR}/data/dataset_train.csv')\n",
    "# df_train.columns = [c.split('.')[1] if '.' in c else c for c in list(df_train.columns)]\n",
    "labels_train = pd.read_csv(f'{WORK_DIR}/data/labels_train.csv')\n",
    "df_train = df_train.merge(labels_train, on='nls', how='inner')"
   ]
  },
  {
   "cell_type": "code",
   "execution_count": 25,
   "id": "d0a628a2-9175-49ac-ba21-90729c83f096",
   "metadata": {},
   "outputs": [],
   "source": [
    "df_train['client_id'] = [nls_to_id[i] for i in df_train['nls']]"
   ]
  },
  {
   "cell_type": "code",
   "execution_count": 26,
   "id": "38af1690-5c23-4a01-947d-2408c5418b66",
   "metadata": {},
   "outputs": [],
   "source": [
    "df_train = df_train.drop(['nls', 'period_key', 'mrf_key', 'nls_1m'], axis=1)"
   ]
  },
  {
   "cell_type": "code",
   "execution_count": 27,
   "id": "e8f03c51-082e-4d38-8468-41a30a7f4751",
   "metadata": {},
   "outputs": [
    {
     "data": {
      "text/html": [
       "<div>\n",
       "<style scoped>\n",
       "    .dataframe tbody tr th:only-of-type {\n",
       "        vertical-align: middle;\n",
       "    }\n",
       "\n",
       "    .dataframe tbody tr th {\n",
       "        vertical-align: top;\n",
       "    }\n",
       "\n",
       "    .dataframe thead th {\n",
       "        text-align: right;\n",
       "    }\n",
       "</style>\n",
       "<table border=\"1\" class=\"dataframe\">\n",
       "  <thead>\n",
       "    <tr style=\"text-align: right;\">\n",
       "      <th></th>\n",
       "      <th>load_dttm_dm</th>\n",
       "      <th>hflat_1m</th>\n",
       "      <th>hlid_1m</th>\n",
       "      <th>hgid_1m</th>\n",
       "      <th>lifetime_ota_1m</th>\n",
       "      <th>lifetime_shpd_1m</th>\n",
       "      <th>lifetime_iptv_1m</th>\n",
       "      <th>lifetime_tp_ota_1m</th>\n",
       "      <th>lifetime_tp_shpd_1m</th>\n",
       "      <th>lifetime_tp_iptv_1m</th>\n",
       "      <th>...</th>\n",
       "      <th>view_time_film_fantasy_2m</th>\n",
       "      <th>view_time_film_fantasy_3m</th>\n",
       "      <th>view_time_film_fantasy_p1m</th>\n",
       "      <th>view_time_film_fantasy_p2m</th>\n",
       "      <th>view_time_film_fantasy_p3m</th>\n",
       "      <th>view_time_film_fantasy_d1m</th>\n",
       "      <th>view_time_film_fantasy_d2m</th>\n",
       "      <th>view_time_film_fantasy_d3m</th>\n",
       "      <th>label</th>\n",
       "      <th>client_id</th>\n",
       "    </tr>\n",
       "  </thead>\n",
       "  <tbody>\n",
       "    <tr>\n",
       "      <th>0</th>\n",
       "      <td>2022-05-13 12:54:00.235</td>\n",
       "      <td>11726022852127600908</td>\n",
       "      <td>579093646</td>\n",
       "      <td>9107155.0</td>\n",
       "      <td>18597.0</td>\n",
       "      <td>18597.0</td>\n",
       "      <td>3031.0</td>\n",
       "      <td>18597.0</td>\n",
       "      <td>18597.0</td>\n",
       "      <td>18597.0</td>\n",
       "      <td>...</td>\n",
       "      <td>NaN</td>\n",
       "      <td>NaN</td>\n",
       "      <td>NaN</td>\n",
       "      <td>NaN</td>\n",
       "      <td>NaN</td>\n",
       "      <td>NaN</td>\n",
       "      <td>NaN</td>\n",
       "      <td>NaN</td>\n",
       "      <td>0</td>\n",
       "      <td>106606</td>\n",
       "    </tr>\n",
       "    <tr>\n",
       "      <th>1</th>\n",
       "      <td>2022-05-13 12:54:00.235</td>\n",
       "      <td>3368930564640238896</td>\n",
       "      <td>370185602</td>\n",
       "      <td>29928155.0</td>\n",
       "      <td>NaN</td>\n",
       "      <td>18597.0</td>\n",
       "      <td>18597.0</td>\n",
       "      <td>NaN</td>\n",
       "      <td>18597.0</td>\n",
       "      <td>18597.0</td>\n",
       "      <td>...</td>\n",
       "      <td>NaN</td>\n",
       "      <td>NaN</td>\n",
       "      <td>NaN</td>\n",
       "      <td>NaN</td>\n",
       "      <td>NaN</td>\n",
       "      <td>NaN</td>\n",
       "      <td>NaN</td>\n",
       "      <td>NaN</td>\n",
       "      <td>0</td>\n",
       "      <td>161596</td>\n",
       "    </tr>\n",
       "    <tr>\n",
       "      <th>2</th>\n",
       "      <td>2022-05-13 12:54:00.235</td>\n",
       "      <td>1093840297643692259</td>\n",
       "      <td>388961722</td>\n",
       "      <td>13089550.0</td>\n",
       "      <td>NaN</td>\n",
       "      <td>18597.0</td>\n",
       "      <td>366.0</td>\n",
       "      <td>NaN</td>\n",
       "      <td>18597.0</td>\n",
       "      <td>18597.0</td>\n",
       "      <td>...</td>\n",
       "      <td>NaN</td>\n",
       "      <td>NaN</td>\n",
       "      <td>NaN</td>\n",
       "      <td>NaN</td>\n",
       "      <td>NaN</td>\n",
       "      <td>NaN</td>\n",
       "      <td>NaN</td>\n",
       "      <td>NaN</td>\n",
       "      <td>0</td>\n",
       "      <td>198944</td>\n",
       "    </tr>\n",
       "    <tr>\n",
       "      <th>3</th>\n",
       "      <td>2022-05-13 12:54:00.235</td>\n",
       "      <td>14270383511494010742</td>\n",
       "      <td>367636608</td>\n",
       "      <td>18322138.0</td>\n",
       "      <td>18597.0</td>\n",
       "      <td>794.0</td>\n",
       "      <td>18597.0</td>\n",
       "      <td>18597.0</td>\n",
       "      <td>673.0</td>\n",
       "      <td>18597.0</td>\n",
       "      <td>...</td>\n",
       "      <td>NaN</td>\n",
       "      <td>NaN</td>\n",
       "      <td>NaN</td>\n",
       "      <td>NaN</td>\n",
       "      <td>NaN</td>\n",
       "      <td>NaN</td>\n",
       "      <td>NaN</td>\n",
       "      <td>NaN</td>\n",
       "      <td>0</td>\n",
       "      <td>188134</td>\n",
       "    </tr>\n",
       "    <tr>\n",
       "      <th>4</th>\n",
       "      <td>2022-05-13 12:54:00.235</td>\n",
       "      <td>918694842307981215</td>\n",
       "      <td>409108209</td>\n",
       "      <td>15069579.0</td>\n",
       "      <td>18597.0</td>\n",
       "      <td>18597.0</td>\n",
       "      <td>NaN</td>\n",
       "      <td>18597.0</td>\n",
       "      <td>18597.0</td>\n",
       "      <td>NaN</td>\n",
       "      <td>...</td>\n",
       "      <td>NaN</td>\n",
       "      <td>NaN</td>\n",
       "      <td>NaN</td>\n",
       "      <td>NaN</td>\n",
       "      <td>NaN</td>\n",
       "      <td>NaN</td>\n",
       "      <td>NaN</td>\n",
       "      <td>NaN</td>\n",
       "      <td>0</td>\n",
       "      <td>126269</td>\n",
       "    </tr>\n",
       "    <tr>\n",
       "      <th>...</th>\n",
       "      <td>...</td>\n",
       "      <td>...</td>\n",
       "      <td>...</td>\n",
       "      <td>...</td>\n",
       "      <td>...</td>\n",
       "      <td>...</td>\n",
       "      <td>...</td>\n",
       "      <td>...</td>\n",
       "      <td>...</td>\n",
       "      <td>...</td>\n",
       "      <td>...</td>\n",
       "      <td>...</td>\n",
       "      <td>...</td>\n",
       "      <td>...</td>\n",
       "      <td>...</td>\n",
       "      <td>...</td>\n",
       "      <td>...</td>\n",
       "      <td>...</td>\n",
       "      <td>...</td>\n",
       "      <td>...</td>\n",
       "      <td>...</td>\n",
       "    </tr>\n",
       "    <tr>\n",
       "      <th>160456</th>\n",
       "      <td>2022-05-13 12:54:00.235</td>\n",
       "      <td>4872285945851334720</td>\n",
       "      <td>1007447731</td>\n",
       "      <td>34013211.0</td>\n",
       "      <td>NaN</td>\n",
       "      <td>18597.0</td>\n",
       "      <td>18597.0</td>\n",
       "      <td>NaN</td>\n",
       "      <td>18597.0</td>\n",
       "      <td>18597.0</td>\n",
       "      <td>...</td>\n",
       "      <td>NaN</td>\n",
       "      <td>NaN</td>\n",
       "      <td>NaN</td>\n",
       "      <td>NaN</td>\n",
       "      <td>NaN</td>\n",
       "      <td>NaN</td>\n",
       "      <td>NaN</td>\n",
       "      <td>NaN</td>\n",
       "      <td>0</td>\n",
       "      <td>77557</td>\n",
       "    </tr>\n",
       "    <tr>\n",
       "      <th>160457</th>\n",
       "      <td>2022-05-13 12:54:00.235</td>\n",
       "      <td>8195474379853621154</td>\n",
       "      <td>370376609</td>\n",
       "      <td>4123739.0</td>\n",
       "      <td>NaN</td>\n",
       "      <td>18597.0</td>\n",
       "      <td>2202.0</td>\n",
       "      <td>NaN</td>\n",
       "      <td>18597.0</td>\n",
       "      <td>18597.0</td>\n",
       "      <td>...</td>\n",
       "      <td>NaN</td>\n",
       "      <td>NaN</td>\n",
       "      <td>NaN</td>\n",
       "      <td>NaN</td>\n",
       "      <td>NaN</td>\n",
       "      <td>NaN</td>\n",
       "      <td>NaN</td>\n",
       "      <td>NaN</td>\n",
       "      <td>0</td>\n",
       "      <td>112201</td>\n",
       "    </tr>\n",
       "    <tr>\n",
       "      <th>160458</th>\n",
       "      <td>2022-05-13 12:54:00.235</td>\n",
       "      <td>17213225661961237805</td>\n",
       "      <td>995545423</td>\n",
       "      <td>100077497.0</td>\n",
       "      <td>NaN</td>\n",
       "      <td>18597.0</td>\n",
       "      <td>723.0</td>\n",
       "      <td>NaN</td>\n",
       "      <td>18597.0</td>\n",
       "      <td>18597.0</td>\n",
       "      <td>...</td>\n",
       "      <td>NaN</td>\n",
       "      <td>NaN</td>\n",
       "      <td>NaN</td>\n",
       "      <td>NaN</td>\n",
       "      <td>NaN</td>\n",
       "      <td>NaN</td>\n",
       "      <td>NaN</td>\n",
       "      <td>NaN</td>\n",
       "      <td>0</td>\n",
       "      <td>197535</td>\n",
       "    </tr>\n",
       "    <tr>\n",
       "      <th>160459</th>\n",
       "      <td>2022-05-13 12:54:00.235</td>\n",
       "      <td>11876527048412749216</td>\n",
       "      <td>1025034609</td>\n",
       "      <td>23078040.0</td>\n",
       "      <td>NaN</td>\n",
       "      <td>18597.0</td>\n",
       "      <td>1730.0</td>\n",
       "      <td>NaN</td>\n",
       "      <td>18597.0</td>\n",
       "      <td>1735.0</td>\n",
       "      <td>...</td>\n",
       "      <td>NaN</td>\n",
       "      <td>NaN</td>\n",
       "      <td>NaN</td>\n",
       "      <td>NaN</td>\n",
       "      <td>NaN</td>\n",
       "      <td>NaN</td>\n",
       "      <td>NaN</td>\n",
       "      <td>NaN</td>\n",
       "      <td>0</td>\n",
       "      <td>13840</td>\n",
       "    </tr>\n",
       "    <tr>\n",
       "      <th>160460</th>\n",
       "      <td>2022-05-13 12:54:00.235</td>\n",
       "      <td>12891370090441031718</td>\n",
       "      <td>370252945</td>\n",
       "      <td>15021374.0</td>\n",
       "      <td>NaN</td>\n",
       "      <td>18597.0</td>\n",
       "      <td>18597.0</td>\n",
       "      <td>NaN</td>\n",
       "      <td>18597.0</td>\n",
       "      <td>18597.0</td>\n",
       "      <td>...</td>\n",
       "      <td>NaN</td>\n",
       "      <td>NaN</td>\n",
       "      <td>NaN</td>\n",
       "      <td>NaN</td>\n",
       "      <td>NaN</td>\n",
       "      <td>NaN</td>\n",
       "      <td>NaN</td>\n",
       "      <td>NaN</td>\n",
       "      <td>0</td>\n",
       "      <td>55076</td>\n",
       "    </tr>\n",
       "  </tbody>\n",
       "</table>\n",
       "<p>160461 rows × 4369 columns</p>\n",
       "</div>"
      ],
      "text/plain": [
       "                   load_dttm_dm              hflat_1m     hlid_1m  \\\n",
       "0       2022-05-13 12:54:00.235  11726022852127600908   579093646   \n",
       "1       2022-05-13 12:54:00.235   3368930564640238896   370185602   \n",
       "2       2022-05-13 12:54:00.235   1093840297643692259   388961722   \n",
       "3       2022-05-13 12:54:00.235  14270383511494010742   367636608   \n",
       "4       2022-05-13 12:54:00.235    918694842307981215   409108209   \n",
       "...                         ...                   ...         ...   \n",
       "160456  2022-05-13 12:54:00.235   4872285945851334720  1007447731   \n",
       "160457  2022-05-13 12:54:00.235   8195474379853621154   370376609   \n",
       "160458  2022-05-13 12:54:00.235  17213225661961237805   995545423   \n",
       "160459  2022-05-13 12:54:00.235  11876527048412749216  1025034609   \n",
       "160460  2022-05-13 12:54:00.235  12891370090441031718   370252945   \n",
       "\n",
       "            hgid_1m  lifetime_ota_1m  lifetime_shpd_1m  lifetime_iptv_1m  \\\n",
       "0         9107155.0          18597.0           18597.0            3031.0   \n",
       "1        29928155.0              NaN           18597.0           18597.0   \n",
       "2        13089550.0              NaN           18597.0             366.0   \n",
       "3        18322138.0          18597.0             794.0           18597.0   \n",
       "4        15069579.0          18597.0           18597.0               NaN   \n",
       "...             ...              ...               ...               ...   \n",
       "160456   34013211.0              NaN           18597.0           18597.0   \n",
       "160457    4123739.0              NaN           18597.0            2202.0   \n",
       "160458  100077497.0              NaN           18597.0             723.0   \n",
       "160459   23078040.0              NaN           18597.0            1730.0   \n",
       "160460   15021374.0              NaN           18597.0           18597.0   \n",
       "\n",
       "        lifetime_tp_ota_1m  lifetime_tp_shpd_1m  lifetime_tp_iptv_1m  ...  \\\n",
       "0                  18597.0              18597.0              18597.0  ...   \n",
       "1                      NaN              18597.0              18597.0  ...   \n",
       "2                      NaN              18597.0              18597.0  ...   \n",
       "3                  18597.0                673.0              18597.0  ...   \n",
       "4                  18597.0              18597.0                  NaN  ...   \n",
       "...                    ...                  ...                  ...  ...   \n",
       "160456                 NaN              18597.0              18597.0  ...   \n",
       "160457                 NaN              18597.0              18597.0  ...   \n",
       "160458                 NaN              18597.0              18597.0  ...   \n",
       "160459                 NaN              18597.0               1735.0  ...   \n",
       "160460                 NaN              18597.0              18597.0  ...   \n",
       "\n",
       "        view_time_film_fantasy_2m  view_time_film_fantasy_3m  \\\n",
       "0                             NaN                        NaN   \n",
       "1                             NaN                        NaN   \n",
       "2                             NaN                        NaN   \n",
       "3                             NaN                        NaN   \n",
       "4                             NaN                        NaN   \n",
       "...                           ...                        ...   \n",
       "160456                        NaN                        NaN   \n",
       "160457                        NaN                        NaN   \n",
       "160458                        NaN                        NaN   \n",
       "160459                        NaN                        NaN   \n",
       "160460                        NaN                        NaN   \n",
       "\n",
       "        view_time_film_fantasy_p1m  view_time_film_fantasy_p2m  \\\n",
       "0                              NaN                         NaN   \n",
       "1                              NaN                         NaN   \n",
       "2                              NaN                         NaN   \n",
       "3                              NaN                         NaN   \n",
       "4                              NaN                         NaN   \n",
       "...                            ...                         ...   \n",
       "160456                         NaN                         NaN   \n",
       "160457                         NaN                         NaN   \n",
       "160458                         NaN                         NaN   \n",
       "160459                         NaN                         NaN   \n",
       "160460                         NaN                         NaN   \n",
       "\n",
       "        view_time_film_fantasy_p3m  view_time_film_fantasy_d1m  \\\n",
       "0                              NaN                         NaN   \n",
       "1                              NaN                         NaN   \n",
       "2                              NaN                         NaN   \n",
       "3                              NaN                         NaN   \n",
       "4                              NaN                         NaN   \n",
       "...                            ...                         ...   \n",
       "160456                         NaN                         NaN   \n",
       "160457                         NaN                         NaN   \n",
       "160458                         NaN                         NaN   \n",
       "160459                         NaN                         NaN   \n",
       "160460                         NaN                         NaN   \n",
       "\n",
       "        view_time_film_fantasy_d2m  view_time_film_fantasy_d3m  label  \\\n",
       "0                              NaN                         NaN      0   \n",
       "1                              NaN                         NaN      0   \n",
       "2                              NaN                         NaN      0   \n",
       "3                              NaN                         NaN      0   \n",
       "4                              NaN                         NaN      0   \n",
       "...                            ...                         ...    ...   \n",
       "160456                         NaN                         NaN      0   \n",
       "160457                         NaN                         NaN      0   \n",
       "160458                         NaN                         NaN      0   \n",
       "160459                         NaN                         NaN      0   \n",
       "160460                         NaN                         NaN      0   \n",
       "\n",
       "        client_id  \n",
       "0          106606  \n",
       "1          161596  \n",
       "2          198944  \n",
       "3          188134  \n",
       "4          126269  \n",
       "...           ...  \n",
       "160456      77557  \n",
       "160457     112201  \n",
       "160458     197535  \n",
       "160459      13840  \n",
       "160460      55076  \n",
       "\n",
       "[160461 rows x 4369 columns]"
      ]
     },
     "execution_count": 27,
     "metadata": {},
     "output_type": "execute_result"
    }
   ],
   "source": [
    "df_train"
   ]
  },
  {
   "cell_type": "code",
   "execution_count": 189,
   "id": "99023001-6805-4a04-9e03-ae140c485675",
   "metadata": {},
   "outputs": [],
   "source": [
    "df_train.to_csv(f'{WORK_DIR}/data/final_train.csv')"
   ]
  },
  {
   "cell_type": "code",
   "execution_count": 160,
   "id": "1c3c77a4-3940-422a-b32e-d895a0823640",
   "metadata": {},
   "outputs": [],
   "source": [
    "df_valid = pd.read_csv(f'{WORK_DIR}/data/dataset_valid.csv')\n",
    "df_valid.columns = [c.split('.')[1] if '.' in c else c for c in list(df_valid.columns)]\n",
    "labels_valid = pd.read_csv(f'{WORK_DIR}/data/labels_valid.csv')\n",
    "df_valid = df_valid.merge(labels_valid, on='nls', how='inner')"
   ]
  },
  {
   "cell_type": "code",
   "execution_count": 181,
   "id": "2598282a-b671-4f7f-8f6e-7c7e80454bd9",
   "metadata": {},
   "outputs": [],
   "source": [
    "df_valid['client_id'] = [nls_to_id[i] for i in df_valid['nls']]\n",
    "df_valid = df_valid.drop(['nls', 'period_key', 'mrf_key', 'nls_1m'], axis=1)"
   ]
  },
  {
   "cell_type": "code",
   "execution_count": 191,
   "id": "2443e1b8-a358-4377-a2d3-93fe1f837dda",
   "metadata": {},
   "outputs": [],
   "source": [
    "df_valid.to_csv(f'{WORK_DIR}/data/final_valid.csv')"
   ]
  },
  {
   "cell_type": "code",
   "execution_count": 16,
   "id": "b8b26dfb-a826-482b-9b78-c014e1d7eace",
   "metadata": {},
   "outputs": [],
   "source": [
    "df_test = pd.read_csv(f'{WORK_DIR}/data/dataset_predict.csv')\n",
    "df_test.columns = [c.split('.')[1] if '.' in c else c for c in list(df_test.columns)] \n",
    "labels_test = pd.read_csv(f'{WORK_DIR}/data/labels_predict.csv')\n",
    "df_test = df_test.merge(labels_test, on='nls', how='inner')"
   ]
  },
  {
   "cell_type": "code",
   "execution_count": 18,
   "id": "210a00b9-41bd-4f7e-863c-c7a649636ca7",
   "metadata": {},
   "outputs": [],
   "source": [
    "df_test['client_id'] = [nls_to_id[i] for i in df_test['nls']]\n",
    "# df_test = df_test.drop(['nls', 'period_key', 'mrf_key', 'nls_1m', 'label'], axis=1)\n",
    "df_test = df_test.drop(['nls', 'period_key', 'mrf_key', 'nls_1m'], axis=1)"
   ]
  },
  {
   "cell_type": "code",
   "execution_count": 19,
   "id": "9eaf5d5d-2de0-46ad-8ca9-8d66adf9b949",
   "metadata": {},
   "outputs": [
    {
     "data": {
      "text/html": [
       "<div>\n",
       "<style scoped>\n",
       "    .dataframe tbody tr th:only-of-type {\n",
       "        vertical-align: middle;\n",
       "    }\n",
       "\n",
       "    .dataframe tbody tr th {\n",
       "        vertical-align: top;\n",
       "    }\n",
       "\n",
       "    .dataframe thead th {\n",
       "        text-align: right;\n",
       "    }\n",
       "</style>\n",
       "<table border=\"1\" class=\"dataframe\">\n",
       "  <thead>\n",
       "    <tr style=\"text-align: right;\">\n",
       "      <th></th>\n",
       "      <th>load_dttm_dm</th>\n",
       "      <th>hflat_1m</th>\n",
       "      <th>hlid_1m</th>\n",
       "      <th>hgid_1m</th>\n",
       "      <th>lifetime_ota_1m</th>\n",
       "      <th>lifetime_shpd_1m</th>\n",
       "      <th>lifetime_iptv_1m</th>\n",
       "      <th>lifetime_tp_ota_1m</th>\n",
       "      <th>lifetime_tp_shpd_1m</th>\n",
       "      <th>lifetime_tp_iptv_1m</th>\n",
       "      <th>...</th>\n",
       "      <th>view_time_film_fantasy_2m</th>\n",
       "      <th>view_time_film_fantasy_3m</th>\n",
       "      <th>view_time_film_fantasy_p1m</th>\n",
       "      <th>view_time_film_fantasy_p2m</th>\n",
       "      <th>view_time_film_fantasy_p3m</th>\n",
       "      <th>view_time_film_fantasy_d1m</th>\n",
       "      <th>view_time_film_fantasy_d2m</th>\n",
       "      <th>view_time_film_fantasy_d3m</th>\n",
       "      <th>label</th>\n",
       "      <th>client_id</th>\n",
       "    </tr>\n",
       "  </thead>\n",
       "  <tbody>\n",
       "    <tr>\n",
       "      <th>0</th>\n",
       "      <td>2022-05-13 19:44:53.470</td>\n",
       "      <td>3828854658185995935</td>\n",
       "      <td>685856061</td>\n",
       "      <td>32528424.0</td>\n",
       "      <td>18901.0</td>\n",
       "      <td>18901.0</td>\n",
       "      <td>NaN</td>\n",
       "      <td>18901.0</td>\n",
       "      <td>18901.0</td>\n",
       "      <td>NaN</td>\n",
       "      <td>...</td>\n",
       "      <td>NaN</td>\n",
       "      <td>NaN</td>\n",
       "      <td>NaN</td>\n",
       "      <td>NaN</td>\n",
       "      <td>NaN</td>\n",
       "      <td>NaN</td>\n",
       "      <td>NaN</td>\n",
       "      <td>NaN</td>\n",
       "      <td>0</td>\n",
       "      <td>87887</td>\n",
       "    </tr>\n",
       "    <tr>\n",
       "      <th>1</th>\n",
       "      <td>2022-05-13 19:44:53.470</td>\n",
       "      <td>11886571843253804</td>\n",
       "      <td>370295107</td>\n",
       "      <td>34238475.0</td>\n",
       "      <td>NaN</td>\n",
       "      <td>18901.0</td>\n",
       "      <td>NaN</td>\n",
       "      <td>NaN</td>\n",
       "      <td>18901.0</td>\n",
       "      <td>NaN</td>\n",
       "      <td>...</td>\n",
       "      <td>NaN</td>\n",
       "      <td>NaN</td>\n",
       "      <td>NaN</td>\n",
       "      <td>NaN</td>\n",
       "      <td>NaN</td>\n",
       "      <td>NaN</td>\n",
       "      <td>NaN</td>\n",
       "      <td>NaN</td>\n",
       "      <td>0</td>\n",
       "      <td>65422</td>\n",
       "    </tr>\n",
       "    <tr>\n",
       "      <th>2</th>\n",
       "      <td>2022-05-13 19:44:53.470</td>\n",
       "      <td>705032194358820956</td>\n",
       "      <td>370198828</td>\n",
       "      <td>44297502.0</td>\n",
       "      <td>NaN</td>\n",
       "      <td>18901.0</td>\n",
       "      <td>NaN</td>\n",
       "      <td>NaN</td>\n",
       "      <td>18901.0</td>\n",
       "      <td>NaN</td>\n",
       "      <td>...</td>\n",
       "      <td>NaN</td>\n",
       "      <td>NaN</td>\n",
       "      <td>NaN</td>\n",
       "      <td>NaN</td>\n",
       "      <td>NaN</td>\n",
       "      <td>NaN</td>\n",
       "      <td>NaN</td>\n",
       "      <td>NaN</td>\n",
       "      <td>0</td>\n",
       "      <td>180763</td>\n",
       "    </tr>\n",
       "    <tr>\n",
       "      <th>3</th>\n",
       "      <td>2022-05-13 19:44:53.470</td>\n",
       "      <td>17638553000435880576</td>\n",
       "      <td>370148728</td>\n",
       "      <td>41077854.0</td>\n",
       "      <td>NaN</td>\n",
       "      <td>18901.0</td>\n",
       "      <td>NaN</td>\n",
       "      <td>NaN</td>\n",
       "      <td>18901.0</td>\n",
       "      <td>NaN</td>\n",
       "      <td>...</td>\n",
       "      <td>NaN</td>\n",
       "      <td>NaN</td>\n",
       "      <td>NaN</td>\n",
       "      <td>NaN</td>\n",
       "      <td>NaN</td>\n",
       "      <td>NaN</td>\n",
       "      <td>NaN</td>\n",
       "      <td>NaN</td>\n",
       "      <td>0</td>\n",
       "      <td>134312</td>\n",
       "    </tr>\n",
       "    <tr>\n",
       "      <th>4</th>\n",
       "      <td>2022-05-13 19:44:53.470</td>\n",
       "      <td>2439392963717630082</td>\n",
       "      <td>434869687</td>\n",
       "      <td>43514255.0</td>\n",
       "      <td>18901.0</td>\n",
       "      <td>151.0</td>\n",
       "      <td>NaN</td>\n",
       "      <td>18901.0</td>\n",
       "      <td>151.0</td>\n",
       "      <td>NaN</td>\n",
       "      <td>...</td>\n",
       "      <td>NaN</td>\n",
       "      <td>NaN</td>\n",
       "      <td>NaN</td>\n",
       "      <td>NaN</td>\n",
       "      <td>NaN</td>\n",
       "      <td>NaN</td>\n",
       "      <td>NaN</td>\n",
       "      <td>NaN</td>\n",
       "      <td>0</td>\n",
       "      <td>192104</td>\n",
       "    </tr>\n",
       "    <tr>\n",
       "      <th>...</th>\n",
       "      <td>...</td>\n",
       "      <td>...</td>\n",
       "      <td>...</td>\n",
       "      <td>...</td>\n",
       "      <td>...</td>\n",
       "      <td>...</td>\n",
       "      <td>...</td>\n",
       "      <td>...</td>\n",
       "      <td>...</td>\n",
       "      <td>...</td>\n",
       "      <td>...</td>\n",
       "      <td>...</td>\n",
       "      <td>...</td>\n",
       "      <td>...</td>\n",
       "      <td>...</td>\n",
       "      <td>...</td>\n",
       "      <td>...</td>\n",
       "      <td>...</td>\n",
       "      <td>...</td>\n",
       "      <td>...</td>\n",
       "      <td>...</td>\n",
       "    </tr>\n",
       "    <tr>\n",
       "      <th>177371</th>\n",
       "      <td>2022-05-13 19:44:53.470</td>\n",
       "      <td>13954492495461705486</td>\n",
       "      <td>370524927</td>\n",
       "      <td>50316933.0</td>\n",
       "      <td>NaN</td>\n",
       "      <td>18901.0</td>\n",
       "      <td>18901.0</td>\n",
       "      <td>NaN</td>\n",
       "      <td>18901.0</td>\n",
       "      <td>18901.0</td>\n",
       "      <td>...</td>\n",
       "      <td>NaN</td>\n",
       "      <td>NaN</td>\n",
       "      <td>NaN</td>\n",
       "      <td>NaN</td>\n",
       "      <td>NaN</td>\n",
       "      <td>NaN</td>\n",
       "      <td>NaN</td>\n",
       "      <td>NaN</td>\n",
       "      <td>0</td>\n",
       "      <td>32172</td>\n",
       "    </tr>\n",
       "    <tr>\n",
       "      <th>177372</th>\n",
       "      <td>2022-05-13 19:44:53.470</td>\n",
       "      <td>2755479529146546898</td>\n",
       "      <td>370306507</td>\n",
       "      <td>16954301.0</td>\n",
       "      <td>18901.0</td>\n",
       "      <td>594.0</td>\n",
       "      <td>18901.0</td>\n",
       "      <td>18901.0</td>\n",
       "      <td>594.0</td>\n",
       "      <td>18901.0</td>\n",
       "      <td>...</td>\n",
       "      <td>NaN</td>\n",
       "      <td>NaN</td>\n",
       "      <td>NaN</td>\n",
       "      <td>NaN</td>\n",
       "      <td>NaN</td>\n",
       "      <td>NaN</td>\n",
       "      <td>NaN</td>\n",
       "      <td>NaN</td>\n",
       "      <td>0</td>\n",
       "      <td>148717</td>\n",
       "    </tr>\n",
       "    <tr>\n",
       "      <th>177373</th>\n",
       "      <td>2022-05-13 19:44:53.470</td>\n",
       "      <td>9133938109827500</td>\n",
       "      <td>395330117</td>\n",
       "      <td>50345020.0</td>\n",
       "      <td>NaN</td>\n",
       "      <td>18901.0</td>\n",
       "      <td>18901.0</td>\n",
       "      <td>NaN</td>\n",
       "      <td>18901.0</td>\n",
       "      <td>18901.0</td>\n",
       "      <td>...</td>\n",
       "      <td>NaN</td>\n",
       "      <td>NaN</td>\n",
       "      <td>NaN</td>\n",
       "      <td>NaN</td>\n",
       "      <td>NaN</td>\n",
       "      <td>NaN</td>\n",
       "      <td>NaN</td>\n",
       "      <td>NaN</td>\n",
       "      <td>0</td>\n",
       "      <td>71594</td>\n",
       "    </tr>\n",
       "    <tr>\n",
       "      <th>177374</th>\n",
       "      <td>2022-05-13 19:44:53.470</td>\n",
       "      <td>2503367274253215386</td>\n",
       "      <td>1170305184</td>\n",
       "      <td>43878667.0</td>\n",
       "      <td>NaN</td>\n",
       "      <td>1171.0</td>\n",
       "      <td>18901.0</td>\n",
       "      <td>NaN</td>\n",
       "      <td>1173.0</td>\n",
       "      <td>18901.0</td>\n",
       "      <td>...</td>\n",
       "      <td>NaN</td>\n",
       "      <td>NaN</td>\n",
       "      <td>NaN</td>\n",
       "      <td>NaN</td>\n",
       "      <td>NaN</td>\n",
       "      <td>NaN</td>\n",
       "      <td>NaN</td>\n",
       "      <td>NaN</td>\n",
       "      <td>0</td>\n",
       "      <td>23605</td>\n",
       "    </tr>\n",
       "    <tr>\n",
       "      <th>177375</th>\n",
       "      <td>2022-05-13 19:44:53.470</td>\n",
       "      <td>534524032579767860</td>\n",
       "      <td>370498128</td>\n",
       "      <td>15750349.0</td>\n",
       "      <td>NaN</td>\n",
       "      <td>18901.0</td>\n",
       "      <td>NaN</td>\n",
       "      <td>NaN</td>\n",
       "      <td>18901.0</td>\n",
       "      <td>NaN</td>\n",
       "      <td>...</td>\n",
       "      <td>NaN</td>\n",
       "      <td>NaN</td>\n",
       "      <td>NaN</td>\n",
       "      <td>NaN</td>\n",
       "      <td>NaN</td>\n",
       "      <td>NaN</td>\n",
       "      <td>NaN</td>\n",
       "      <td>NaN</td>\n",
       "      <td>0</td>\n",
       "      <td>192005</td>\n",
       "    </tr>\n",
       "  </tbody>\n",
       "</table>\n",
       "<p>177376 rows × 4369 columns</p>\n",
       "</div>"
      ],
      "text/plain": [
       "                   load_dttm_dm              hflat_1m     hlid_1m     hgid_1m  \\\n",
       "0       2022-05-13 19:44:53.470   3828854658185995935   685856061  32528424.0   \n",
       "1       2022-05-13 19:44:53.470     11886571843253804   370295107  34238475.0   \n",
       "2       2022-05-13 19:44:53.470    705032194358820956   370198828  44297502.0   \n",
       "3       2022-05-13 19:44:53.470  17638553000435880576   370148728  41077854.0   \n",
       "4       2022-05-13 19:44:53.470   2439392963717630082   434869687  43514255.0   \n",
       "...                         ...                   ...         ...         ...   \n",
       "177371  2022-05-13 19:44:53.470  13954492495461705486   370524927  50316933.0   \n",
       "177372  2022-05-13 19:44:53.470   2755479529146546898   370306507  16954301.0   \n",
       "177373  2022-05-13 19:44:53.470      9133938109827500   395330117  50345020.0   \n",
       "177374  2022-05-13 19:44:53.470   2503367274253215386  1170305184  43878667.0   \n",
       "177375  2022-05-13 19:44:53.470    534524032579767860   370498128  15750349.0   \n",
       "\n",
       "        lifetime_ota_1m  lifetime_shpd_1m  lifetime_iptv_1m  \\\n",
       "0               18901.0           18901.0               NaN   \n",
       "1                   NaN           18901.0               NaN   \n",
       "2                   NaN           18901.0               NaN   \n",
       "3                   NaN           18901.0               NaN   \n",
       "4               18901.0             151.0               NaN   \n",
       "...                 ...               ...               ...   \n",
       "177371              NaN           18901.0           18901.0   \n",
       "177372          18901.0             594.0           18901.0   \n",
       "177373              NaN           18901.0           18901.0   \n",
       "177374              NaN            1171.0           18901.0   \n",
       "177375              NaN           18901.0               NaN   \n",
       "\n",
       "        lifetime_tp_ota_1m  lifetime_tp_shpd_1m  lifetime_tp_iptv_1m  ...  \\\n",
       "0                  18901.0              18901.0                  NaN  ...   \n",
       "1                      NaN              18901.0                  NaN  ...   \n",
       "2                      NaN              18901.0                  NaN  ...   \n",
       "3                      NaN              18901.0                  NaN  ...   \n",
       "4                  18901.0                151.0                  NaN  ...   \n",
       "...                    ...                  ...                  ...  ...   \n",
       "177371                 NaN              18901.0              18901.0  ...   \n",
       "177372             18901.0                594.0              18901.0  ...   \n",
       "177373                 NaN              18901.0              18901.0  ...   \n",
       "177374                 NaN               1173.0              18901.0  ...   \n",
       "177375                 NaN              18901.0                  NaN  ...   \n",
       "\n",
       "        view_time_film_fantasy_2m  view_time_film_fantasy_3m  \\\n",
       "0                             NaN                        NaN   \n",
       "1                             NaN                        NaN   \n",
       "2                             NaN                        NaN   \n",
       "3                             NaN                        NaN   \n",
       "4                             NaN                        NaN   \n",
       "...                           ...                        ...   \n",
       "177371                        NaN                        NaN   \n",
       "177372                        NaN                        NaN   \n",
       "177373                        NaN                        NaN   \n",
       "177374                        NaN                        NaN   \n",
       "177375                        NaN                        NaN   \n",
       "\n",
       "        view_time_film_fantasy_p1m  view_time_film_fantasy_p2m  \\\n",
       "0                              NaN                         NaN   \n",
       "1                              NaN                         NaN   \n",
       "2                              NaN                         NaN   \n",
       "3                              NaN                         NaN   \n",
       "4                              NaN                         NaN   \n",
       "...                            ...                         ...   \n",
       "177371                         NaN                         NaN   \n",
       "177372                         NaN                         NaN   \n",
       "177373                         NaN                         NaN   \n",
       "177374                         NaN                         NaN   \n",
       "177375                         NaN                         NaN   \n",
       "\n",
       "        view_time_film_fantasy_p3m  view_time_film_fantasy_d1m  \\\n",
       "0                              NaN                         NaN   \n",
       "1                              NaN                         NaN   \n",
       "2                              NaN                         NaN   \n",
       "3                              NaN                         NaN   \n",
       "4                              NaN                         NaN   \n",
       "...                            ...                         ...   \n",
       "177371                         NaN                         NaN   \n",
       "177372                         NaN                         NaN   \n",
       "177373                         NaN                         NaN   \n",
       "177374                         NaN                         NaN   \n",
       "177375                         NaN                         NaN   \n",
       "\n",
       "        view_time_film_fantasy_d2m  view_time_film_fantasy_d3m  label  \\\n",
       "0                              NaN                         NaN      0   \n",
       "1                              NaN                         NaN      0   \n",
       "2                              NaN                         NaN      0   \n",
       "3                              NaN                         NaN      0   \n",
       "4                              NaN                         NaN      0   \n",
       "...                            ...                         ...    ...   \n",
       "177371                         NaN                         NaN      0   \n",
       "177372                         NaN                         NaN      0   \n",
       "177373                         NaN                         NaN      0   \n",
       "177374                         NaN                         NaN      0   \n",
       "177375                         NaN                         NaN      0   \n",
       "\n",
       "        client_id  \n",
       "0           87887  \n",
       "1           65422  \n",
       "2          180763  \n",
       "3          134312  \n",
       "4          192104  \n",
       "...           ...  \n",
       "177371      32172  \n",
       "177372     148717  \n",
       "177373      71594  \n",
       "177374      23605  \n",
       "177375     192005  \n",
       "\n",
       "[177376 rows x 4369 columns]"
      ]
     },
     "execution_count": 19,
     "metadata": {},
     "output_type": "execute_result"
    }
   ],
   "source": [
    "df_test"
   ]
  },
  {
   "cell_type": "code",
   "execution_count": 21,
   "id": "ff8a5afa-c68d-48f8-b058-ba5521faec99",
   "metadata": {},
   "outputs": [],
   "source": [
    "df_test.to_csv(f'{WORK_DIR}/data/final_test.csv')"
   ]
  },
  {
   "cell_type": "code",
   "execution_count": 29,
   "id": "261114a0-8ab9-4936-858a-df2ce3de61ab",
   "metadata": {},
   "outputs": [
    {
     "data": {
      "text/plain": [
       "177376"
      ]
     },
     "execution_count": 29,
     "metadata": {},
     "output_type": "execute_result"
    }
   ],
   "source": [
    "df_test.client_id.nunique()"
   ]
  },
  {
   "cell_type": "code",
   "execution_count": null,
   "id": "586185bf-902a-4dac-9fc5-75c04706c771",
   "metadata": {},
   "outputs": [],
   "source": []
  }
 ],
 "metadata": {
  "kernelspec": {
   "display_name": "Python 3 (ipykernel)",
   "language": "python",
   "name": "python3"
  },
  "language_info": {
   "codemirror_mode": {
    "name": "ipython",
    "version": 3
   },
   "file_extension": ".py",
   "mimetype": "text/x-python",
   "name": "python",
   "nbconvert_exporter": "python",
   "pygments_lexer": "ipython3",
   "version": "3.9.6"
  }
 },
 "nbformat": 4,
 "nbformat_minor": 5
}
