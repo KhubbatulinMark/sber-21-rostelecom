{
 "cells": [
  {
   "cell_type": "markdown",
   "metadata": {
    "id": "AURT5SuZPc3t"
   },
   "source": [
    "# День 02 – Машинное обучение"
   ]
  },
  {
   "cell_type": "markdown",
   "metadata": {},
   "source": [
    "В начале импортируй библиотеки, которые понадобяться нам в работе."
   ]
  },
  {
   "cell_type": "code",
   "execution_count": 1,
   "metadata": {
    "id": "6MIhopvVPc3y"
   },
   "outputs": [],
   "source": [
    "import pandas as pd\n",
    "import numpy as np\n",
    "\n",
    "import shap\n",
    "import sklearn\n",
    "import catboost\n",
    "\n",
    "import seaborn as sns\n",
    "import matplotlib.pyplot as plt;"
   ]
  },
  {
   "cell_type": "markdown",
   "metadata": {},
   "source": [
    "Если ячейка выше у нас **не запускается**, то скорее всего у нас **не установлена какая-либо библиотека**.  **Чтобы установить библиотеку напиши**:\n",
    "`pip install scikit-learn` или `pip install catboost` или `pip install shap` "
   ]
  },
  {
   "cell_type": "code",
   "execution_count": 2,
   "metadata": {
    "id": "oKKjFRPPPc30"
   },
   "outputs": [],
   "source": [
    "sns.set_style(\"darkgrid\") #у графиков будет красивая серая подложка"
   ]
  },
  {
   "cell_type": "markdown",
   "metadata": {},
   "source": [
    "Нашу задачу по предсказанию стоимости недвижимости мы будет решать по примеру решении задачи прогнозирования прогресса диабета по данным индекса массы тела. Давай загрузим наши данные по обеим задачам."
   ]
  },
  {
   "cell_type": "markdown",
   "metadata": {},
   "source": [
    "## Загрузка данных"
   ]
  },
  {
   "cell_type": "code",
   "execution_count": 3,
   "metadata": {
    "id": "dxhM1MLjPc31"
   },
   "outputs": [],
   "source": [
    "train = pd.read_csv(\"../data/day02/dataset_01_06.csv\")\n",
    "train = train.set_index(\"client_id\")\n",
    "train = train.drop_duplicates()"
   ]
  },
  {
   "cell_type": "code",
   "execution_count": 4,
   "metadata": {},
   "outputs": [
    {
     "data": {
      "text/html": [
       "<div>\n",
       "<style scoped>\n",
       "    .dataframe tbody tr th:only-of-type {\n",
       "        vertical-align: middle;\n",
       "    }\n",
       "\n",
       "    .dataframe tbody tr th {\n",
       "        vertical-align: top;\n",
       "    }\n",
       "\n",
       "    .dataframe thead th {\n",
       "        text-align: right;\n",
       "    }\n",
       "</style>\n",
       "<table border=\"1\" class=\"dataframe\">\n",
       "  <thead>\n",
       "    <tr style=\"text-align: right;\">\n",
       "      <th></th>\n",
       "      <th>house_class_key_1m</th>\n",
       "      <th>crm_ota_count_d2m</th>\n",
       "      <th>deff_p1m</th>\n",
       "      <th>data_shpd_d3m</th>\n",
       "      <th>crm_prt_count_p2m</th>\n",
       "      <th>crm_sal_count_d1m</th>\n",
       "      <th>prepay_sum_d3m</th>\n",
       "      <th>correction_rev_sum_p2m</th>\n",
       "      <th>cnt_hflat_1m</th>\n",
       "      <th>crm_iptv_count_1m</th>\n",
       "      <th>...</th>\n",
       "      <th>avg_view_category_16_p1m</th>\n",
       "      <th>avg_view_tvmarket_d1m</th>\n",
       "      <th>avg_view_adult_p1m</th>\n",
       "      <th>avg_view_genre_news_p3m</th>\n",
       "      <th>avg_view_category_6_p2m</th>\n",
       "      <th>avg_view_inform_d1m</th>\n",
       "      <th>avg_view_adult_d1m</th>\n",
       "      <th>avg_view_genre_news_d1m</th>\n",
       "      <th>avg_view_genre_music_p1m</th>\n",
       "      <th>avg_view_category_6_3m</th>\n",
       "    </tr>\n",
       "    <tr>\n",
       "      <th>client_id</th>\n",
       "      <th></th>\n",
       "      <th></th>\n",
       "      <th></th>\n",
       "      <th></th>\n",
       "      <th></th>\n",
       "      <th></th>\n",
       "      <th></th>\n",
       "      <th></th>\n",
       "      <th></th>\n",
       "      <th></th>\n",
       "      <th></th>\n",
       "      <th></th>\n",
       "      <th></th>\n",
       "      <th></th>\n",
       "      <th></th>\n",
       "      <th></th>\n",
       "      <th></th>\n",
       "      <th></th>\n",
       "      <th></th>\n",
       "      <th></th>\n",
       "      <th></th>\n",
       "    </tr>\n",
       "  </thead>\n",
       "  <tbody>\n",
       "    <tr>\n",
       "      <th>129646</th>\n",
       "      <td>818788754.0</td>\n",
       "      <td>0.0</td>\n",
       "      <td>0.0</td>\n",
       "      <td>0.186979</td>\n",
       "      <td>0.0</td>\n",
       "      <td>0.0</td>\n",
       "      <td>0.0</td>\n",
       "      <td>0.0</td>\n",
       "      <td>1</td>\n",
       "      <td>0.0</td>\n",
       "      <td>...</td>\n",
       "      <td>NaN</td>\n",
       "      <td>0.0</td>\n",
       "      <td>NaN</td>\n",
       "      <td>NaN</td>\n",
       "      <td>NaN</td>\n",
       "      <td>0.000000</td>\n",
       "      <td>0.0</td>\n",
       "      <td>0.000000</td>\n",
       "      <td>NaN</td>\n",
       "      <td>NaN</td>\n",
       "    </tr>\n",
       "    <tr>\n",
       "      <th>155393</th>\n",
       "      <td>818788755.0</td>\n",
       "      <td>0.0</td>\n",
       "      <td>0.0</td>\n",
       "      <td>-0.668074</td>\n",
       "      <td>0.0</td>\n",
       "      <td>0.0</td>\n",
       "      <td>0.0</td>\n",
       "      <td>0.0</td>\n",
       "      <td>1</td>\n",
       "      <td>0.0</td>\n",
       "      <td>...</td>\n",
       "      <td>0.02</td>\n",
       "      <td>0.0</td>\n",
       "      <td>0.0</td>\n",
       "      <td>9.41</td>\n",
       "      <td>0.0</td>\n",
       "      <td>-0.265625</td>\n",
       "      <td>0.0</td>\n",
       "      <td>-0.594155</td>\n",
       "      <td>1.73</td>\n",
       "      <td>0.0</td>\n",
       "    </tr>\n",
       "    <tr>\n",
       "      <th>161396</th>\n",
       "      <td>818788754.0</td>\n",
       "      <td>0.0</td>\n",
       "      <td>0.0</td>\n",
       "      <td>-0.507485</td>\n",
       "      <td>0.0</td>\n",
       "      <td>0.0</td>\n",
       "      <td>0.0</td>\n",
       "      <td>0.0</td>\n",
       "      <td>1</td>\n",
       "      <td>0.0</td>\n",
       "      <td>...</td>\n",
       "      <td>NaN</td>\n",
       "      <td>0.0</td>\n",
       "      <td>NaN</td>\n",
       "      <td>NaN</td>\n",
       "      <td>NaN</td>\n",
       "      <td>0.000000</td>\n",
       "      <td>0.0</td>\n",
       "      <td>0.000000</td>\n",
       "      <td>NaN</td>\n",
       "      <td>NaN</td>\n",
       "    </tr>\n",
       "    <tr>\n",
       "      <th>63895</th>\n",
       "      <td>818788753.0</td>\n",
       "      <td>0.0</td>\n",
       "      <td>0.0</td>\n",
       "      <td>1.125792</td>\n",
       "      <td>0.0</td>\n",
       "      <td>0.0</td>\n",
       "      <td>0.0</td>\n",
       "      <td>0.0</td>\n",
       "      <td>1</td>\n",
       "      <td>0.0</td>\n",
       "      <td>...</td>\n",
       "      <td>0.00</td>\n",
       "      <td>0.0</td>\n",
       "      <td>0.0</td>\n",
       "      <td>0.00</td>\n",
       "      <td>0.0</td>\n",
       "      <td>0.000000</td>\n",
       "      <td>0.0</td>\n",
       "      <td>0.000000</td>\n",
       "      <td>0.00</td>\n",
       "      <td>0.0</td>\n",
       "    </tr>\n",
       "    <tr>\n",
       "      <th>108614</th>\n",
       "      <td>818788753.0</td>\n",
       "      <td>0.0</td>\n",
       "      <td>0.0</td>\n",
       "      <td>-0.444579</td>\n",
       "      <td>0.0</td>\n",
       "      <td>0.0</td>\n",
       "      <td>0.0</td>\n",
       "      <td>0.0</td>\n",
       "      <td>1</td>\n",
       "      <td>0.0</td>\n",
       "      <td>...</td>\n",
       "      <td>NaN</td>\n",
       "      <td>0.0</td>\n",
       "      <td>NaN</td>\n",
       "      <td>NaN</td>\n",
       "      <td>NaN</td>\n",
       "      <td>0.000000</td>\n",
       "      <td>0.0</td>\n",
       "      <td>0.000000</td>\n",
       "      <td>NaN</td>\n",
       "      <td>NaN</td>\n",
       "    </tr>\n",
       "    <tr>\n",
       "      <th>...</th>\n",
       "      <td>...</td>\n",
       "      <td>...</td>\n",
       "      <td>...</td>\n",
       "      <td>...</td>\n",
       "      <td>...</td>\n",
       "      <td>...</td>\n",
       "      <td>...</td>\n",
       "      <td>...</td>\n",
       "      <td>...</td>\n",
       "      <td>...</td>\n",
       "      <td>...</td>\n",
       "      <td>...</td>\n",
       "      <td>...</td>\n",
       "      <td>...</td>\n",
       "      <td>...</td>\n",
       "      <td>...</td>\n",
       "      <td>...</td>\n",
       "      <td>...</td>\n",
       "      <td>...</td>\n",
       "      <td>...</td>\n",
       "      <td>...</td>\n",
       "    </tr>\n",
       "    <tr>\n",
       "      <th>192198</th>\n",
       "      <td>NaN</td>\n",
       "      <td>0.0</td>\n",
       "      <td>0.0</td>\n",
       "      <td>0.363919</td>\n",
       "      <td>0.0</td>\n",
       "      <td>0.0</td>\n",
       "      <td>0.0</td>\n",
       "      <td>0.0</td>\n",
       "      <td>1</td>\n",
       "      <td>0.0</td>\n",
       "      <td>...</td>\n",
       "      <td>NaN</td>\n",
       "      <td>0.0</td>\n",
       "      <td>NaN</td>\n",
       "      <td>NaN</td>\n",
       "      <td>NaN</td>\n",
       "      <td>0.000000</td>\n",
       "      <td>0.0</td>\n",
       "      <td>0.000000</td>\n",
       "      <td>NaN</td>\n",
       "      <td>NaN</td>\n",
       "    </tr>\n",
       "    <tr>\n",
       "      <th>32502</th>\n",
       "      <td>818788755.0</td>\n",
       "      <td>-1.0</td>\n",
       "      <td>0.0</td>\n",
       "      <td>-0.213947</td>\n",
       "      <td>0.0</td>\n",
       "      <td>0.0</td>\n",
       "      <td>0.0</td>\n",
       "      <td>0.0</td>\n",
       "      <td>1</td>\n",
       "      <td>0.0</td>\n",
       "      <td>...</td>\n",
       "      <td>0.00</td>\n",
       "      <td>0.0</td>\n",
       "      <td>0.0</td>\n",
       "      <td>0.00</td>\n",
       "      <td>0.0</td>\n",
       "      <td>0.000000</td>\n",
       "      <td>0.0</td>\n",
       "      <td>0.000000</td>\n",
       "      <td>0.00</td>\n",
       "      <td>0.0</td>\n",
       "    </tr>\n",
       "    <tr>\n",
       "      <th>69897</th>\n",
       "      <td>818788754.0</td>\n",
       "      <td>0.0</td>\n",
       "      <td>0.0</td>\n",
       "      <td>0.117901</td>\n",
       "      <td>0.0</td>\n",
       "      <td>0.0</td>\n",
       "      <td>0.0</td>\n",
       "      <td>0.0</td>\n",
       "      <td>1</td>\n",
       "      <td>0.0</td>\n",
       "      <td>...</td>\n",
       "      <td>NaN</td>\n",
       "      <td>0.0</td>\n",
       "      <td>NaN</td>\n",
       "      <td>NaN</td>\n",
       "      <td>NaN</td>\n",
       "      <td>0.000000</td>\n",
       "      <td>0.0</td>\n",
       "      <td>0.000000</td>\n",
       "      <td>NaN</td>\n",
       "      <td>NaN</td>\n",
       "    </tr>\n",
       "    <tr>\n",
       "      <th>141290</th>\n",
       "      <td>NaN</td>\n",
       "      <td>0.0</td>\n",
       "      <td>0.0</td>\n",
       "      <td>0.147764</td>\n",
       "      <td>0.0</td>\n",
       "      <td>0.0</td>\n",
       "      <td>0.0</td>\n",
       "      <td>0.0</td>\n",
       "      <td>1</td>\n",
       "      <td>0.0</td>\n",
       "      <td>...</td>\n",
       "      <td>0.00</td>\n",
       "      <td>0.0</td>\n",
       "      <td>0.0</td>\n",
       "      <td>0.00</td>\n",
       "      <td>0.0</td>\n",
       "      <td>0.000000</td>\n",
       "      <td>0.0</td>\n",
       "      <td>0.000000</td>\n",
       "      <td>0.00</td>\n",
       "      <td>0.0</td>\n",
       "    </tr>\n",
       "    <tr>\n",
       "      <th>76804</th>\n",
       "      <td>NaN</td>\n",
       "      <td>0.0</td>\n",
       "      <td>0.0</td>\n",
       "      <td>1.947239</td>\n",
       "      <td>0.0</td>\n",
       "      <td>0.0</td>\n",
       "      <td>0.0</td>\n",
       "      <td>0.0</td>\n",
       "      <td>1</td>\n",
       "      <td>0.0</td>\n",
       "      <td>...</td>\n",
       "      <td>NaN</td>\n",
       "      <td>0.0</td>\n",
       "      <td>NaN</td>\n",
       "      <td>NaN</td>\n",
       "      <td>NaN</td>\n",
       "      <td>0.000000</td>\n",
       "      <td>0.0</td>\n",
       "      <td>0.000000</td>\n",
       "      <td>NaN</td>\n",
       "      <td>NaN</td>\n",
       "    </tr>\n",
       "  </tbody>\n",
       "</table>\n",
       "<p>16046 rows × 3647 columns</p>\n",
       "</div>"
      ],
      "text/plain": [
       "           house_class_key_1m  crm_ota_count_d2m  deff_p1m  data_shpd_d3m  \\\n",
       "client_id                                                                   \n",
       "129646            818788754.0                0.0       0.0       0.186979   \n",
       "155393            818788755.0                0.0       0.0      -0.668074   \n",
       "161396            818788754.0                0.0       0.0      -0.507485   \n",
       "63895             818788753.0                0.0       0.0       1.125792   \n",
       "108614            818788753.0                0.0       0.0      -0.444579   \n",
       "...                       ...                ...       ...            ...   \n",
       "192198                    NaN                0.0       0.0       0.363919   \n",
       "32502             818788755.0               -1.0       0.0      -0.213947   \n",
       "69897             818788754.0                0.0       0.0       0.117901   \n",
       "141290                    NaN                0.0       0.0       0.147764   \n",
       "76804                     NaN                0.0       0.0       1.947239   \n",
       "\n",
       "           crm_prt_count_p2m  crm_sal_count_d1m  prepay_sum_d3m  \\\n",
       "client_id                                                         \n",
       "129646                   0.0                0.0             0.0   \n",
       "155393                   0.0                0.0             0.0   \n",
       "161396                   0.0                0.0             0.0   \n",
       "63895                    0.0                0.0             0.0   \n",
       "108614                   0.0                0.0             0.0   \n",
       "...                      ...                ...             ...   \n",
       "192198                   0.0                0.0             0.0   \n",
       "32502                    0.0                0.0             0.0   \n",
       "69897                    0.0                0.0             0.0   \n",
       "141290                   0.0                0.0             0.0   \n",
       "76804                    0.0                0.0             0.0   \n",
       "\n",
       "           correction_rev_sum_p2m  cnt_hflat_1m  crm_iptv_count_1m  ...  \\\n",
       "client_id                                                           ...   \n",
       "129646                        0.0             1                0.0  ...   \n",
       "155393                        0.0             1                0.0  ...   \n",
       "161396                        0.0             1                0.0  ...   \n",
       "63895                         0.0             1                0.0  ...   \n",
       "108614                        0.0             1                0.0  ...   \n",
       "...                           ...           ...                ...  ...   \n",
       "192198                        0.0             1                0.0  ...   \n",
       "32502                         0.0             1                0.0  ...   \n",
       "69897                         0.0             1                0.0  ...   \n",
       "141290                        0.0             1                0.0  ...   \n",
       "76804                         0.0             1                0.0  ...   \n",
       "\n",
       "           avg_view_category_16_p1m  avg_view_tvmarket_d1m  \\\n",
       "client_id                                                    \n",
       "129646                          NaN                    0.0   \n",
       "155393                         0.02                    0.0   \n",
       "161396                          NaN                    0.0   \n",
       "63895                          0.00                    0.0   \n",
       "108614                          NaN                    0.0   \n",
       "...                             ...                    ...   \n",
       "192198                          NaN                    0.0   \n",
       "32502                          0.00                    0.0   \n",
       "69897                           NaN                    0.0   \n",
       "141290                         0.00                    0.0   \n",
       "76804                           NaN                    0.0   \n",
       "\n",
       "           avg_view_adult_p1m  avg_view_genre_news_p3m  \\\n",
       "client_id                                                \n",
       "129646                    NaN                      NaN   \n",
       "155393                    0.0                     9.41   \n",
       "161396                    NaN                      NaN   \n",
       "63895                     0.0                     0.00   \n",
       "108614                    NaN                      NaN   \n",
       "...                       ...                      ...   \n",
       "192198                    NaN                      NaN   \n",
       "32502                     0.0                     0.00   \n",
       "69897                     NaN                      NaN   \n",
       "141290                    0.0                     0.00   \n",
       "76804                     NaN                      NaN   \n",
       "\n",
       "           avg_view_category_6_p2m  avg_view_inform_d1m  avg_view_adult_d1m  \\\n",
       "client_id                                                                     \n",
       "129646                         NaN             0.000000                 0.0   \n",
       "155393                         0.0            -0.265625                 0.0   \n",
       "161396                         NaN             0.000000                 0.0   \n",
       "63895                          0.0             0.000000                 0.0   \n",
       "108614                         NaN             0.000000                 0.0   \n",
       "...                            ...                  ...                 ...   \n",
       "192198                         NaN             0.000000                 0.0   \n",
       "32502                          0.0             0.000000                 0.0   \n",
       "69897                          NaN             0.000000                 0.0   \n",
       "141290                         0.0             0.000000                 0.0   \n",
       "76804                          NaN             0.000000                 0.0   \n",
       "\n",
       "          avg_view_genre_news_d1m  avg_view_genre_music_p1m  \\\n",
       "client_id                                                     \n",
       "129646                   0.000000                       NaN   \n",
       "155393                  -0.594155                      1.73   \n",
       "161396                   0.000000                       NaN   \n",
       "63895                    0.000000                      0.00   \n",
       "108614                   0.000000                       NaN   \n",
       "...                           ...                       ...   \n",
       "192198                   0.000000                       NaN   \n",
       "32502                    0.000000                      0.00   \n",
       "69897                    0.000000                       NaN   \n",
       "141290                   0.000000                      0.00   \n",
       "76804                    0.000000                       NaN   \n",
       "\n",
       "           avg_view_category_6_3m  \n",
       "client_id                          \n",
       "129646                        NaN  \n",
       "155393                        0.0  \n",
       "161396                        NaN  \n",
       "63895                         0.0  \n",
       "108614                        NaN  \n",
       "...                           ...  \n",
       "192198                        NaN  \n",
       "32502                         0.0  \n",
       "69897                         NaN  \n",
       "141290                        0.0  \n",
       "76804                         NaN  \n",
       "\n",
       "[16046 rows x 3647 columns]"
      ]
     },
     "execution_count": 4,
     "metadata": {},
     "output_type": "execute_result"
    }
   ],
   "source": [
    "train"
   ]
  },
  {
   "cell_type": "code",
   "execution_count": 5,
   "metadata": {},
   "outputs": [
    {
     "data": {
      "text/html": [
       "<div>\n",
       "<style scoped>\n",
       "    .dataframe tbody tr th:only-of-type {\n",
       "        vertical-align: middle;\n",
       "    }\n",
       "\n",
       "    .dataframe tbody tr th {\n",
       "        vertical-align: top;\n",
       "    }\n",
       "\n",
       "    .dataframe thead th {\n",
       "        text-align: right;\n",
       "    }\n",
       "</style>\n",
       "<table border=\"1\" class=\"dataframe\">\n",
       "  <thead>\n",
       "    <tr style=\"text-align: right;\">\n",
       "      <th></th>\n",
       "      <th>house_class_key_1m</th>\n",
       "      <th>crm_ota_count_d2m</th>\n",
       "      <th>deff_p1m</th>\n",
       "      <th>data_shpd_d3m</th>\n",
       "      <th>crm_prt_count_p2m</th>\n",
       "      <th>crm_sal_count_d1m</th>\n",
       "      <th>prepay_sum_d3m</th>\n",
       "      <th>correction_rev_sum_p2m</th>\n",
       "      <th>cnt_hflat_1m</th>\n",
       "      <th>crm_iptv_count_1m</th>\n",
       "      <th>...</th>\n",
       "      <th>avg_view_category_16_p1m</th>\n",
       "      <th>avg_view_tvmarket_d1m</th>\n",
       "      <th>avg_view_adult_p1m</th>\n",
       "      <th>avg_view_genre_news_p3m</th>\n",
       "      <th>avg_view_category_6_p2m</th>\n",
       "      <th>avg_view_inform_d1m</th>\n",
       "      <th>avg_view_adult_d1m</th>\n",
       "      <th>avg_view_genre_news_d1m</th>\n",
       "      <th>avg_view_genre_music_p1m</th>\n",
       "      <th>avg_view_category_6_3m</th>\n",
       "    </tr>\n",
       "    <tr>\n",
       "      <th>client_id</th>\n",
       "      <th></th>\n",
       "      <th></th>\n",
       "      <th></th>\n",
       "      <th></th>\n",
       "      <th></th>\n",
       "      <th></th>\n",
       "      <th></th>\n",
       "      <th></th>\n",
       "      <th></th>\n",
       "      <th></th>\n",
       "      <th></th>\n",
       "      <th></th>\n",
       "      <th></th>\n",
       "      <th></th>\n",
       "      <th></th>\n",
       "      <th></th>\n",
       "      <th></th>\n",
       "      <th></th>\n",
       "      <th></th>\n",
       "      <th></th>\n",
       "      <th></th>\n",
       "    </tr>\n",
       "  </thead>\n",
       "  <tbody>\n",
       "    <tr>\n",
       "      <th>129646</th>\n",
       "      <td>818788754.0</td>\n",
       "      <td>0.0</td>\n",
       "      <td>0.0</td>\n",
       "      <td>0.186979</td>\n",
       "      <td>0.0</td>\n",
       "      <td>0.0</td>\n",
       "      <td>0.0</td>\n",
       "      <td>0.0</td>\n",
       "      <td>1</td>\n",
       "      <td>0.0</td>\n",
       "      <td>...</td>\n",
       "      <td>NaN</td>\n",
       "      <td>0.0</td>\n",
       "      <td>NaN</td>\n",
       "      <td>NaN</td>\n",
       "      <td>NaN</td>\n",
       "      <td>0.000000</td>\n",
       "      <td>0.0</td>\n",
       "      <td>0.000000</td>\n",
       "      <td>NaN</td>\n",
       "      <td>NaN</td>\n",
       "    </tr>\n",
       "    <tr>\n",
       "      <th>155393</th>\n",
       "      <td>818788755.0</td>\n",
       "      <td>0.0</td>\n",
       "      <td>0.0</td>\n",
       "      <td>-0.668074</td>\n",
       "      <td>0.0</td>\n",
       "      <td>0.0</td>\n",
       "      <td>0.0</td>\n",
       "      <td>0.0</td>\n",
       "      <td>1</td>\n",
       "      <td>0.0</td>\n",
       "      <td>...</td>\n",
       "      <td>0.02</td>\n",
       "      <td>0.0</td>\n",
       "      <td>0.0</td>\n",
       "      <td>9.41</td>\n",
       "      <td>0.0</td>\n",
       "      <td>-0.265625</td>\n",
       "      <td>0.0</td>\n",
       "      <td>-0.594155</td>\n",
       "      <td>1.73</td>\n",
       "      <td>0.0</td>\n",
       "    </tr>\n",
       "    <tr>\n",
       "      <th>161396</th>\n",
       "      <td>818788754.0</td>\n",
       "      <td>0.0</td>\n",
       "      <td>0.0</td>\n",
       "      <td>-0.507485</td>\n",
       "      <td>0.0</td>\n",
       "      <td>0.0</td>\n",
       "      <td>0.0</td>\n",
       "      <td>0.0</td>\n",
       "      <td>1</td>\n",
       "      <td>0.0</td>\n",
       "      <td>...</td>\n",
       "      <td>NaN</td>\n",
       "      <td>0.0</td>\n",
       "      <td>NaN</td>\n",
       "      <td>NaN</td>\n",
       "      <td>NaN</td>\n",
       "      <td>0.000000</td>\n",
       "      <td>0.0</td>\n",
       "      <td>0.000000</td>\n",
       "      <td>NaN</td>\n",
       "      <td>NaN</td>\n",
       "    </tr>\n",
       "    <tr>\n",
       "      <th>63895</th>\n",
       "      <td>818788753.0</td>\n",
       "      <td>0.0</td>\n",
       "      <td>0.0</td>\n",
       "      <td>1.125792</td>\n",
       "      <td>0.0</td>\n",
       "      <td>0.0</td>\n",
       "      <td>0.0</td>\n",
       "      <td>0.0</td>\n",
       "      <td>1</td>\n",
       "      <td>0.0</td>\n",
       "      <td>...</td>\n",
       "      <td>0.00</td>\n",
       "      <td>0.0</td>\n",
       "      <td>0.0</td>\n",
       "      <td>0.00</td>\n",
       "      <td>0.0</td>\n",
       "      <td>0.000000</td>\n",
       "      <td>0.0</td>\n",
       "      <td>0.000000</td>\n",
       "      <td>0.00</td>\n",
       "      <td>0.0</td>\n",
       "    </tr>\n",
       "    <tr>\n",
       "      <th>108614</th>\n",
       "      <td>818788753.0</td>\n",
       "      <td>0.0</td>\n",
       "      <td>0.0</td>\n",
       "      <td>-0.444579</td>\n",
       "      <td>0.0</td>\n",
       "      <td>0.0</td>\n",
       "      <td>0.0</td>\n",
       "      <td>0.0</td>\n",
       "      <td>1</td>\n",
       "      <td>0.0</td>\n",
       "      <td>...</td>\n",
       "      <td>NaN</td>\n",
       "      <td>0.0</td>\n",
       "      <td>NaN</td>\n",
       "      <td>NaN</td>\n",
       "      <td>NaN</td>\n",
       "      <td>0.000000</td>\n",
       "      <td>0.0</td>\n",
       "      <td>0.000000</td>\n",
       "      <td>NaN</td>\n",
       "      <td>NaN</td>\n",
       "    </tr>\n",
       "  </tbody>\n",
       "</table>\n",
       "<p>5 rows × 3647 columns</p>\n",
       "</div>"
      ],
      "text/plain": [
       "           house_class_key_1m  crm_ota_count_d2m  deff_p1m  data_shpd_d3m  \\\n",
       "client_id                                                                   \n",
       "129646            818788754.0                0.0       0.0       0.186979   \n",
       "155393            818788755.0                0.0       0.0      -0.668074   \n",
       "161396            818788754.0                0.0       0.0      -0.507485   \n",
       "63895             818788753.0                0.0       0.0       1.125792   \n",
       "108614            818788753.0                0.0       0.0      -0.444579   \n",
       "\n",
       "           crm_prt_count_p2m  crm_sal_count_d1m  prepay_sum_d3m  \\\n",
       "client_id                                                         \n",
       "129646                   0.0                0.0             0.0   \n",
       "155393                   0.0                0.0             0.0   \n",
       "161396                   0.0                0.0             0.0   \n",
       "63895                    0.0                0.0             0.0   \n",
       "108614                   0.0                0.0             0.0   \n",
       "\n",
       "           correction_rev_sum_p2m  cnt_hflat_1m  crm_iptv_count_1m  ...  \\\n",
       "client_id                                                           ...   \n",
       "129646                        0.0             1                0.0  ...   \n",
       "155393                        0.0             1                0.0  ...   \n",
       "161396                        0.0             1                0.0  ...   \n",
       "63895                         0.0             1                0.0  ...   \n",
       "108614                        0.0             1                0.0  ...   \n",
       "\n",
       "           avg_view_category_16_p1m  avg_view_tvmarket_d1m  \\\n",
       "client_id                                                    \n",
       "129646                          NaN                    0.0   \n",
       "155393                         0.02                    0.0   \n",
       "161396                          NaN                    0.0   \n",
       "63895                          0.00                    0.0   \n",
       "108614                          NaN                    0.0   \n",
       "\n",
       "           avg_view_adult_p1m  avg_view_genre_news_p3m  \\\n",
       "client_id                                                \n",
       "129646                    NaN                      NaN   \n",
       "155393                    0.0                     9.41   \n",
       "161396                    NaN                      NaN   \n",
       "63895                     0.0                     0.00   \n",
       "108614                    NaN                      NaN   \n",
       "\n",
       "           avg_view_category_6_p2m  avg_view_inform_d1m  avg_view_adult_d1m  \\\n",
       "client_id                                                                     \n",
       "129646                         NaN             0.000000                 0.0   \n",
       "155393                         0.0            -0.265625                 0.0   \n",
       "161396                         NaN             0.000000                 0.0   \n",
       "63895                          0.0             0.000000                 0.0   \n",
       "108614                         NaN             0.000000                 0.0   \n",
       "\n",
       "          avg_view_genre_news_d1m  avg_view_genre_music_p1m  \\\n",
       "client_id                                                     \n",
       "129646                   0.000000                       NaN   \n",
       "155393                  -0.594155                      1.73   \n",
       "161396                   0.000000                       NaN   \n",
       "63895                    0.000000                      0.00   \n",
       "108614                   0.000000                       NaN   \n",
       "\n",
       "           avg_view_category_6_3m  \n",
       "client_id                          \n",
       "129646                        NaN  \n",
       "155393                        0.0  \n",
       "161396                        NaN  \n",
       "63895                         0.0  \n",
       "108614                        NaN  \n",
       "\n",
       "[5 rows x 3647 columns]"
      ]
     },
     "execution_count": 5,
     "metadata": {},
     "output_type": "execute_result"
    }
   ],
   "source": [
    "train.head(5) # Смотрим первые 5 строк в таблице"
   ]
  },
  {
   "cell_type": "code",
   "execution_count": 6,
   "metadata": {},
   "outputs": [],
   "source": [
    "from sklearn.datasets import load_diabetes"
   ]
  },
  {
   "cell_type": "code",
   "execution_count": 7,
   "metadata": {},
   "outputs": [],
   "source": [
    "# Загружаем датасет по задаче прогнозирования индекса диабета\n",
    "data = load_diabetes(scaled=False)\n",
    "diabetes_df = pd.DataFrame(data.data, columns=data.feature_names)\n",
    "diabetes_df.insert(10, 'disease_progress', data.target)"
   ]
  },
  {
   "cell_type": "code",
   "execution_count": 8,
   "metadata": {},
   "outputs": [
    {
     "data": {
      "text/html": [
       "<div>\n",
       "<style scoped>\n",
       "    .dataframe tbody tr th:only-of-type {\n",
       "        vertical-align: middle;\n",
       "    }\n",
       "\n",
       "    .dataframe tbody tr th {\n",
       "        vertical-align: top;\n",
       "    }\n",
       "\n",
       "    .dataframe thead th {\n",
       "        text-align: right;\n",
       "    }\n",
       "</style>\n",
       "<table border=\"1\" class=\"dataframe\">\n",
       "  <thead>\n",
       "    <tr style=\"text-align: right;\">\n",
       "      <th></th>\n",
       "      <th>age</th>\n",
       "      <th>sex</th>\n",
       "      <th>bmi</th>\n",
       "      <th>bp</th>\n",
       "      <th>s1</th>\n",
       "      <th>s2</th>\n",
       "      <th>s3</th>\n",
       "      <th>s4</th>\n",
       "      <th>s5</th>\n",
       "      <th>s6</th>\n",
       "      <th>disease_progress</th>\n",
       "    </tr>\n",
       "  </thead>\n",
       "  <tbody>\n",
       "    <tr>\n",
       "      <th>0</th>\n",
       "      <td>59.0</td>\n",
       "      <td>2.0</td>\n",
       "      <td>32.1</td>\n",
       "      <td>101.0</td>\n",
       "      <td>157.0</td>\n",
       "      <td>93.2</td>\n",
       "      <td>38.0</td>\n",
       "      <td>4.0</td>\n",
       "      <td>4.8598</td>\n",
       "      <td>87.0</td>\n",
       "      <td>151.0</td>\n",
       "    </tr>\n",
       "    <tr>\n",
       "      <th>1</th>\n",
       "      <td>48.0</td>\n",
       "      <td>1.0</td>\n",
       "      <td>21.6</td>\n",
       "      <td>87.0</td>\n",
       "      <td>183.0</td>\n",
       "      <td>103.2</td>\n",
       "      <td>70.0</td>\n",
       "      <td>3.0</td>\n",
       "      <td>3.8918</td>\n",
       "      <td>69.0</td>\n",
       "      <td>75.0</td>\n",
       "    </tr>\n",
       "    <tr>\n",
       "      <th>2</th>\n",
       "      <td>72.0</td>\n",
       "      <td>2.0</td>\n",
       "      <td>30.5</td>\n",
       "      <td>93.0</td>\n",
       "      <td>156.0</td>\n",
       "      <td>93.6</td>\n",
       "      <td>41.0</td>\n",
       "      <td>4.0</td>\n",
       "      <td>4.6728</td>\n",
       "      <td>85.0</td>\n",
       "      <td>141.0</td>\n",
       "    </tr>\n",
       "    <tr>\n",
       "      <th>3</th>\n",
       "      <td>24.0</td>\n",
       "      <td>1.0</td>\n",
       "      <td>25.3</td>\n",
       "      <td>84.0</td>\n",
       "      <td>198.0</td>\n",
       "      <td>131.4</td>\n",
       "      <td>40.0</td>\n",
       "      <td>5.0</td>\n",
       "      <td>4.8903</td>\n",
       "      <td>89.0</td>\n",
       "      <td>206.0</td>\n",
       "    </tr>\n",
       "    <tr>\n",
       "      <th>4</th>\n",
       "      <td>50.0</td>\n",
       "      <td>1.0</td>\n",
       "      <td>23.0</td>\n",
       "      <td>101.0</td>\n",
       "      <td>192.0</td>\n",
       "      <td>125.4</td>\n",
       "      <td>52.0</td>\n",
       "      <td>4.0</td>\n",
       "      <td>4.2905</td>\n",
       "      <td>80.0</td>\n",
       "      <td>135.0</td>\n",
       "    </tr>\n",
       "  </tbody>\n",
       "</table>\n",
       "</div>"
      ],
      "text/plain": [
       "    age  sex   bmi     bp     s1     s2    s3   s4      s5    s6  \\\n",
       "0  59.0  2.0  32.1  101.0  157.0   93.2  38.0  4.0  4.8598  87.0   \n",
       "1  48.0  1.0  21.6   87.0  183.0  103.2  70.0  3.0  3.8918  69.0   \n",
       "2  72.0  2.0  30.5   93.0  156.0   93.6  41.0  4.0  4.6728  85.0   \n",
       "3  24.0  1.0  25.3   84.0  198.0  131.4  40.0  5.0  4.8903  89.0   \n",
       "4  50.0  1.0  23.0  101.0  192.0  125.4  52.0  4.0  4.2905  80.0   \n",
       "\n",
       "   disease_progress  \n",
       "0             151.0  \n",
       "1              75.0  \n",
       "2             141.0  \n",
       "3             206.0  \n",
       "4             135.0  "
      ]
     },
     "execution_count": 8,
     "metadata": {},
     "output_type": "execute_result"
    }
   ],
   "source": [
    "diabetes_df.head(5)"
   ]
  },
  {
   "cell_type": "markdown",
   "metadata": {},
   "source": [
    "Давайте посмотрим, какую зависимость имеет прогрессирование болезни от индекса массы тела. Для этого выведем значения на график."
   ]
  },
  {
   "cell_type": "code",
   "execution_count": 9,
   "metadata": {},
   "outputs": [
    {
     "data": {
      "image/png": "[encoded data removed]",
      "text/plain": [
       "<Figure size 750x500 with 1 Axes>"
      ]
     },
     "metadata": {},
     "output_type": "display_data"
    }
   ],
   "source": [
    "sns.lmplot(\n",
    "    x=\"bmi\", y=\"disease_progress\", data=diabetes_df, fit_reg=False,\n",
    "height=5, aspect=1.5);"
   ]
  },
  {
   "cell_type": "markdown",
   "metadata": {},
   "source": [
    "В глаза бросается, что с ростом индекса массы тела растет и прогрессирование болезни. Неудивительно!\n",
    "Было бы здорово найти прямую, которая бы наилучшим образом отражала, как быстро растет риск с ростом индекса массы тела."
   ]
  },
  {
   "cell_type": "markdown",
   "metadata": {},
   "source": [
    "## Удаление колонок"
   ]
  },
  {
   "cell_type": "markdown",
   "metadata": {},
   "source": [
    "С помощью метода `.shape`. Можно вывести размерность датасета"
   ]
  },
  {
   "cell_type": "code",
   "execution_count": 10,
   "metadata": {},
   "outputs": [
    {
     "data": {
      "text/plain": [
       "(442, 11)"
      ]
     },
     "execution_count": 10,
     "metadata": {},
     "output_type": "execute_result"
    }
   ],
   "source": [
    "diabetes_df.shape # Таблица содержит 442 строки и 11 колонок"
   ]
  },
  {
   "cell_type": "markdown",
   "metadata": {},
   "source": [
    "Для простоты примера возьмем как признак только значение индекса массы и пол. Удалим из датасета названия колонок, котоыре нам не требуется `['age', 'bp', 's1', 's2', 's3', 's4', 's5', 's6']`.\n",
    "Для этого воспользуемся методом `.drop()`"
   ]
  },
  {
   "cell_type": "code",
   "execution_count": 11,
   "metadata": {},
   "outputs": [],
   "source": [
    "diabetes_df = diabetes_df.drop(columns=['age', 'bp', 'bp', 's1', 's2', 's3', 's4', 's5', 's6'])"
   ]
  },
  {
   "cell_type": "code",
   "execution_count": 12,
   "metadata": {},
   "outputs": [
    {
     "data": {
      "text/html": [
       "<div>\n",
       "<style scoped>\n",
       "    .dataframe tbody tr th:only-of-type {\n",
       "        vertical-align: middle;\n",
       "    }\n",
       "\n",
       "    .dataframe tbody tr th {\n",
       "        vertical-align: top;\n",
       "    }\n",
       "\n",
       "    .dataframe thead th {\n",
       "        text-align: right;\n",
       "    }\n",
       "</style>\n",
       "<table border=\"1\" class=\"dataframe\">\n",
       "  <thead>\n",
       "    <tr style=\"text-align: right;\">\n",
       "      <th></th>\n",
       "      <th>sex</th>\n",
       "      <th>bmi</th>\n",
       "      <th>disease_progress</th>\n",
       "    </tr>\n",
       "  </thead>\n",
       "  <tbody>\n",
       "    <tr>\n",
       "      <th>0</th>\n",
       "      <td>2.0</td>\n",
       "      <td>32.1</td>\n",
       "      <td>151.0</td>\n",
       "    </tr>\n",
       "    <tr>\n",
       "      <th>1</th>\n",
       "      <td>1.0</td>\n",
       "      <td>21.6</td>\n",
       "      <td>75.0</td>\n",
       "    </tr>\n",
       "  </tbody>\n",
       "</table>\n",
       "</div>"
      ],
      "text/plain": [
       "   sex   bmi  disease_progress\n",
       "0  2.0  32.1             151.0\n",
       "1  1.0  21.6              75.0"
      ]
     },
     "execution_count": 12,
     "metadata": {},
     "output_type": "execute_result"
    }
   ],
   "source": [
    "diabetes_df.head(2)"
   ]
  },
  {
   "cell_type": "code",
   "execution_count": 13,
   "metadata": {},
   "outputs": [
    {
     "data": {
      "text/plain": [
       "(442, 3)"
      ]
     },
     "execution_count": 13,
     "metadata": {},
     "output_type": "execute_result"
    }
   ],
   "source": [
    "diabetes_df.shape # Таблица содержит 442 строки и 3 колонки"
   ]
  },
  {
   "cell_type": "markdown",
   "metadata": {},
   "source": [
    "## Задание 1"
   ]
  },
  {
   "cell_type": "markdown",
   "metadata": {},
   "source": [
    "В наших данных о клиентах есть признаками, которое могут быть *утечками данных*. Утечка данных может привести к \n",
    "созданию чрезмерно оптимистичных, а то и вовсе не действительных прогностических моделей. Утечка данных - это когда \n",
    "для создания модели используется информация, которая не будет доступна на этапе эксплуатации модели. Это признаки с \n",
    "приставками `charg_inst`, `charg_sale`, `hgid`, `hflat`, `hlid`. Также требуется удалить данные о координатах \n",
    "`latitude_1m` и `longitude_1m`\n",
    "\n",
    "Удали признаки с этими приставками и сохрани результат \n",
    "в переменную `df`. Выведи размерность получившейся таблицы"
   ]
  },
  {
   "cell_type": "code",
   "execution_count": 14,
   "metadata": {},
   "outputs": [],
   "source": [
    "lick = [x for x in train.columns if x.startswith('charg_inst') or x.startswith('charg_sale')]"
   ]
  },
  {
   "cell_type": "code",
   "execution_count": 15,
   "metadata": {},
   "outputs": [],
   "source": [
    "lick.extend([_ for _ in train.columns if _.startswith('hgid') or _.startswith('hflat') or _.startswith('hlid')])\n",
    "lick.extend(['latitude_1m', 'longitude_1m'])"
   ]
  },
  {
   "cell_type": "code",
   "execution_count": 16,
   "metadata": {},
   "outputs": [],
   "source": [
    "train = train.drop(columns=lick)"
   ]
  },
  {
   "cell_type": "code",
   "execution_count": 17,
   "metadata": {},
   "outputs": [
    {
     "data": {
      "text/plain": [
       "(16046, 3587)"
      ]
     },
     "execution_count": 17,
     "metadata": {},
     "output_type": "execute_result"
    }
   ],
   "source": [
    "train.shape"
   ]
  },
  {
   "cell_type": "markdown",
   "metadata": {},
   "source": [
    "## Разделение на X и Y"
   ]
  },
  {
   "cell_type": "markdown",
   "metadata": {},
   "source": [
    "Теперь разберемся, что в каждой из задач для нас будет являться признаком (Х), а что предсказываемой переменной (Y)"
   ]
  },
  {
   "cell_type": "markdown",
   "metadata": {},
   "source": [
    "Для задачи предсказания уровня диабета колонка `disease_progress` будет являться Y, а значения `bmi` признаком"
   ]
  },
  {
   "cell_type": "code",
   "execution_count": 18,
   "metadata": {},
   "outputs": [],
   "source": [
    "X_diabet = diabetes_df[['bmi']]\n",
    "Y_diabet = diabetes_df['disease_progress']"
   ]
  },
  {
   "cell_type": "markdown",
   "metadata": {},
   "source": [
    "## Задание 2"
   ]
  },
  {
   "cell_type": "markdown",
   "metadata": {},
   "source": [
    "Раздели датасет `df` на признаки и предсказываемую величину. Признаки сохрани в переменную `X`, предсказываемую величину в переменную `Y`. Выведи размерность X и Y"
   ]
  },
  {
   "cell_type": "code",
   "execution_count": 19,
   "metadata": {},
   "outputs": [],
   "source": [
    "Y = train['label']\n",
    "X = train.drop(columns=['label'])"
   ]
  },
  {
   "cell_type": "code",
   "execution_count": 20,
   "metadata": {},
   "outputs": [
    {
     "data": {
      "text/plain": [
       "(16046,)"
      ]
     },
     "execution_count": 20,
     "metadata": {},
     "output_type": "execute_result"
    }
   ],
   "source": [
    "Y.shape"
   ]
  },
  {
   "cell_type": "code",
   "execution_count": 21,
   "metadata": {},
   "outputs": [
    {
     "data": {
      "text/plain": [
       "(16046, 3586)"
      ]
     },
     "execution_count": 21,
     "metadata": {},
     "output_type": "execute_result"
    }
   ],
   "source": [
    "X.shape"
   ]
  },
  {
   "cell_type": "code",
   "execution_count": 22,
   "metadata": {},
   "outputs": [],
   "source": [
    "# "
   ]
  },
  {
   "cell_type": "markdown",
   "metadata": {},
   "source": [
    "## Задание 3"
   ]
  },
  {
   "cell_type": "markdown",
   "metadata": {},
   "source": [
    "Теперь нам потребуется разделить наши признаки на численные и категориальные. В этом нам поможет функция метод [.select_dtypes()](https://pandas.pydata.org/docs/reference/api/pandas.DataFrame.select_dtypes.html). Численные переменные имеют тип `'number'`, а категориальные `'object'`.\n",
    "Численные переменные сохрани в переменную X_num, категориальные в переменную X_cat.\n",
    "\n",
    "Выведи размерность этих таблиц."
   ]
  },
  {
   "cell_type": "code",
   "execution_count": 23,
   "metadata": {},
   "outputs": [],
   "source": [
    "X_cat = X.select_dtypes('object')"
   ]
  },
  {
   "cell_type": "code",
   "execution_count": 24,
   "metadata": {},
   "outputs": [],
   "source": [
    "X_num = X.select_dtypes('number')"
   ]
  },
  {
   "cell_type": "code",
   "execution_count": 25,
   "metadata": {},
   "outputs": [
    {
     "data": {
      "text/plain": [
       "(16046, 8)"
      ]
     },
     "execution_count": 25,
     "metadata": {},
     "output_type": "execute_result"
    }
   ],
   "source": [
    "X_cat.shape"
   ]
  },
  {
   "cell_type": "code",
   "execution_count": 26,
   "metadata": {},
   "outputs": [
    {
     "data": {
      "text/plain": [
       "(16046, 3578)"
      ]
     },
     "execution_count": 26,
     "metadata": {},
     "output_type": "execute_result"
    }
   ],
   "source": [
    "X_num.shape"
   ]
  },
  {
   "cell_type": "markdown",
   "metadata": {},
   "source": [
    "## Задание 4"
   ]
  },
  {
   "cell_type": "markdown",
   "metadata": {},
   "source": [
    "Некоторые алгоритмы машинного обучения чувствительны к пропускам данных, поэтому нам придется заполнить отсутствующие \n",
    "данные чем то заполнить. Воспользуйся методом [.fillna(0)](https://pandas.pydata.org/docs/reference/api/pandas.DataFrame.fillna.html)\n",
    "для того, чтобы заполнить пропуски в численных признаках.\n",
    "\n",
    "Затем выполни этот код `X_num.isna().sum().sum()`"
   ]
  },
  {
   "cell_type": "code",
   "execution_count": 27,
   "metadata": {},
   "outputs": [],
   "source": [
    "X_num = X_num.fillna(0)"
   ]
  },
  {
   "cell_type": "code",
   "execution_count": 28,
   "metadata": {},
   "outputs": [
    {
     "data": {
      "text/plain": [
       "0"
      ]
     },
     "execution_count": 28,
     "metadata": {},
     "output_type": "execute_result"
    }
   ],
   "source": [
    "X_num.isna().sum().sum()"
   ]
  },
  {
   "cell_type": "markdown",
   "metadata": {},
   "source": [
    "## Стандартизация данных"
   ]
  },
  {
   "cell_type": "markdown",
   "metadata": {},
   "source": [
    "Давайте вспомним, что одно из преобразований для численных переменных - стандартизация."
   ]
  },
  {
   "cell_type": "code",
   "execution_count": 29,
   "metadata": {},
   "outputs": [
    {
     "data": {
      "image/png": "[encoded data removed]",
      "text/plain": [
       "<Figure size 640x480 with 1 Axes>"
      ]
     },
     "metadata": {},
     "output_type": "display_data"
    }
   ],
   "source": [
    "X_diabet.plot.hist();"
   ]
  },
  {
   "cell_type": "markdown",
   "metadata": {},
   "source": [
    "Давайте проведем стандартизацию для переменной `bmi`. Для этого воспользуемся объектом `StandardScaler`"
   ]
  },
  {
   "cell_type": "code",
   "execution_count": 30,
   "metadata": {},
   "outputs": [],
   "source": [
    "from sklearn.preprocessing import StandardScaler"
   ]
  },
  {
   "cell_type": "code",
   "execution_count": 31,
   "metadata": {},
   "outputs": [],
   "source": [
    "scaler = StandardScaler()\n",
    "X_diabet = pd.DataFrame(scaler.fit_transform(X_diabet))"
   ]
  },
  {
   "cell_type": "code",
   "execution_count": 32,
   "metadata": {},
   "outputs": [
    {
     "data": {
      "image/png": "[encoded data removed]",
      "text/plain": [
       "<Figure size 640x480 with 1 Axes>"
      ]
     },
     "metadata": {},
     "output_type": "display_data"
    }
   ],
   "source": [
    "X_diabet.plot.hist(); "
   ]
  },
  {
   "cell_type": "markdown",
   "metadata": {},
   "source": [
    "## Задание 5"
   ]
  },
  {
   "cell_type": "markdown",
   "metadata": {},
   "source": [
    "Проведи **стандартизацию** для численных переменных.\n",
    "\n",
    "Затем выполни этот код `X_num.mean().sum().round()`"
   ]
  },
  {
   "cell_type": "code",
   "execution_count": 33,
   "metadata": {},
   "outputs": [],
   "source": [
    "scaler = StandardScaler()\n",
    "X_num = pd.DataFrame(scaler.fit_transform(X_num), columns=X_num.columns, index=X_num.index)"
   ]
  },
  {
   "cell_type": "code",
   "execution_count": 34,
   "metadata": {},
   "outputs": [
    {
     "data": {
      "text/plain": [
       "-0.0"
      ]
     },
     "execution_count": 34,
     "metadata": {},
     "output_type": "execute_result"
    }
   ],
   "source": [
    "X_num.mean().sum().round()"
   ]
  },
  {
   "cell_type": "markdown",
   "metadata": {},
   "source": [
    "## Задание 6"
   ]
  },
  {
   "cell_type": "markdown",
   "metadata": {},
   "source": [
    "Сделай **One-Hot Encoding** для категориальных признаков. В этом тебе поможешь функция [pd.get_dummies](https://pandas.pydata.org/docs/reference/api/pandas.get_dummies.html)\n",
    "\n",
    "Выведи размерность получившейся таблицы"
   ]
  },
  {
   "cell_type": "code",
   "execution_count": 35,
   "metadata": {},
   "outputs": [],
   "source": [
    "X_cat = pd.get_dummies(X_cat)"
   ]
  },
  {
   "cell_type": "code",
   "execution_count": 36,
   "metadata": {},
   "outputs": [
    {
     "data": {
      "text/plain": [
       "(16046, 14520)"
      ]
     },
     "execution_count": 36,
     "metadata": {},
     "output_type": "execute_result"
    }
   ],
   "source": [
    "X_cat.shape"
   ]
  },
  {
   "cell_type": "markdown",
   "metadata": {},
   "source": [
    "## Задание 7"
   ]
  },
  {
   "cell_type": "markdown",
   "metadata": {},
   "source": [
    "Теперь уже преобразованные части требуется снова объединить в единый датасет. Соедини переменные `X_num` и `X_cat` в переменную `X`. Воспользуйся методом [.merge()](https://pandas.pydata.org/docs/reference/api/pandas.DataFrame.merge.html).\n",
    "Объединение проведи по индексам таблицы.\n",
    "\n",
    "Выведи размерность получившейся таблицы"
   ]
  },
  {
   "cell_type": "code",
   "execution_count": 37,
   "metadata": {},
   "outputs": [],
   "source": [
    "X = X_cat.merge(X_num, left_index=True, right_index=True)"
   ]
  },
  {
   "cell_type": "code",
   "execution_count": 38,
   "metadata": {},
   "outputs": [
    {
     "data": {
      "text/plain": [
       "(16046, 3578)"
      ]
     },
     "execution_count": 38,
     "metadata": {},
     "output_type": "execute_result"
    }
   ],
   "source": [
    "X_num.shape"
   ]
  },
  {
   "cell_type": "code",
   "execution_count": 39,
   "metadata": {},
   "outputs": [
    {
     "data": {
      "text/plain": [
       "(16046, 14520)"
      ]
     },
     "execution_count": 39,
     "metadata": {},
     "output_type": "execute_result"
    }
   ],
   "source": [
    "X_cat.shape"
   ]
  },
  {
   "cell_type": "code",
   "execution_count": 40,
   "metadata": {},
   "outputs": [
    {
     "data": {
      "text/plain": [
       "(16046, 18098)"
      ]
     },
     "execution_count": 40,
     "metadata": {},
     "output_type": "execute_result"
    }
   ],
   "source": [
    "X.shape"
   ]
  },
  {
   "cell_type": "markdown",
   "metadata": {},
   "source": [
    "## Разделение на Train, Test части"
   ]
  },
  {
   "cell_type": "markdown",
   "metadata": {},
   "source": [
    "Для корректной оценки работы модели нам требуется разделить выборку на train и test части."
   ]
  },
  {
   "cell_type": "code",
   "execution_count": 41,
   "metadata": {},
   "outputs": [],
   "source": [
    "from sklearn.model_selection import train_test_split"
   ]
  },
  {
   "cell_type": "code",
   "execution_count": 42,
   "metadata": {},
   "outputs": [],
   "source": [
    "X_train_diabet, X_test_diabet, y_train_diabet, y_test_diabet = train_test_split(\n",
    "    X_diabet, Y_diabet, test_size=0.2, random_state=21\n",
    ")"
   ]
  },
  {
   "cell_type": "code",
   "execution_count": 43,
   "metadata": {},
   "outputs": [
    {
     "data": {
      "text/plain": [
       "(353, 1)"
      ]
     },
     "execution_count": 43,
     "metadata": {},
     "output_type": "execute_result"
    }
   ],
   "source": [
    "X_train_diabet.shape"
   ]
  },
  {
   "cell_type": "code",
   "execution_count": 44,
   "metadata": {},
   "outputs": [
    {
     "data": {
      "text/plain": [
       "(89, 1)"
      ]
     },
     "execution_count": 44,
     "metadata": {},
     "output_type": "execute_result"
    }
   ],
   "source": [
    "X_test_diabet.shape"
   ]
  },
  {
   "cell_type": "markdown",
   "metadata": {},
   "source": [
    "## Задание 8"
   ]
  },
  {
   "cell_type": "markdown",
   "metadata": {},
   "source": [
    "Раздели итоговый датасет по недвижимости на train и test части. Разделение проведи с параметрами `test_size=0.2`, `random_state=21`.\n",
    "\n",
    "Выведи размерности переменных `X_train` и `X_test`"
   ]
  },
  {
   "cell_type": "code",
   "execution_count": 45,
   "metadata": {},
   "outputs": [],
   "source": [
    "X_train, X_test, y_train, y_test = train_test_split(X, Y, test_size=0.2, random_state=21)"
   ]
  },
  {
   "cell_type": "code",
   "execution_count": 46,
   "metadata": {},
   "outputs": [
    {
     "data": {
      "text/plain": [
       "(12836, 18098)"
      ]
     },
     "execution_count": 46,
     "metadata": {},
     "output_type": "execute_result"
    }
   ],
   "source": [
    "X_train.shape"
   ]
  },
  {
   "cell_type": "code",
   "execution_count": 47,
   "metadata": {},
   "outputs": [
    {
     "data": {
      "text/plain": [
       "(3210, 18098)"
      ]
     },
     "execution_count": 47,
     "metadata": {},
     "output_type": "execute_result"
    }
   ],
   "source": [
    "X_test.shape"
   ]
  },
  {
   "cell_type": "markdown",
   "metadata": {},
   "source": [
    "## Задание 9"
   ]
  },
  {
   "cell_type": "markdown",
   "metadata": {},
   "source": [
    "Обучи модель `LogisticRegression`. Расчитай метрики `accuracy_score` и `roc_auc_score`. \n",
    "\n",
    "Выведи значений этой метрики."
   ]
  },
  {
   "cell_type": "code",
   "execution_count": 48,
   "metadata": {},
   "outputs": [],
   "source": [
    "from sklearn.metrics import accuracy_score, roc_auc_score\n",
    "from sklearn.linear_model import LogisticRegression"
   ]
  },
  {
   "cell_type": "code",
   "execution_count": 49,
   "metadata": {},
   "outputs": [
    {
     "name": "stderr",
     "output_type": "stream",
     "text": [
      "lbfgs failed to converge (status=1):\n",
      "STOP: TOTAL NO. of ITERATIONS REACHED LIMIT.\n",
      "\n",
      "Increase the number of iterations (max_iter) or scale the data as shown in:\n",
      "    https://scikit-learn.org/stable/modules/preprocessing.html\n",
      "Please also refer to the documentation for alternative solver options:\n",
      "    https://scikit-learn.org/stable/modules/linear_model.html#logistic-regression\n"
     ]
    }
   ],
   "source": [
    "clf = LogisticRegression().fit(X_train, y_train); #обучим модель"
   ]
  },
  {
   "cell_type": "code",
   "execution_count": 50,
   "metadata": {},
   "outputs": [],
   "source": [
    "pred = clf.predict(X_test)"
   ]
  },
  {
   "cell_type": "code",
   "execution_count": 51,
   "metadata": {},
   "outputs": [
    {
     "data": {
      "text/plain": [
       "0.9461059190031152"
      ]
     },
     "execution_count": 51,
     "metadata": {},
     "output_type": "execute_result"
    }
   ],
   "source": [
    "accuracy_score(pred, y_test)"
   ]
  },
  {
   "cell_type": "code",
   "execution_count": 52,
   "metadata": {},
   "outputs": [
    {
     "data": {
      "text/plain": [
       "0.545566083878402"
      ]
     },
     "execution_count": 52,
     "metadata": {},
     "output_type": "execute_result"
    }
   ],
   "source": [
    "pred = clf.predict_proba(X_test)[:,1]\n",
    "roc_auc_score(y_test, pred)"
   ]
  },
  {
   "cell_type": "markdown",
   "metadata": {},
   "source": [
    "## Задание 10"
   ]
  },
  {
   "cell_type": "markdown",
   "metadata": {},
   "source": [
    "Теперь попробуй использовать алгоритм градиентного бустинга. Для этого воспользуйся алгоритмом `CatBoostRegressor` из библиотеки `catboost`. Также рассчитай значение метрики RMSLE.\n",
    "\n",
    "P.S при обучение модели `CatBoostRegressor.fit()` используй параметр `verbose=100`"
   ]
  },
  {
   "cell_type": "code",
   "execution_count": 53,
   "metadata": {},
   "outputs": [],
   "source": [
    "from catboost import CatBoostClassifier"
   ]
  },
  {
   "cell_type": "code",
   "execution_count": 54,
   "metadata": {},
   "outputs": [
    {
     "name": "stdout",
     "output_type": "stream",
     "text": [
      "Learning rate set to 0.044029\n",
      "0:\ttest: 0.5045153\tbest: 0.5045153 (0)\ttotal: 104ms\tremaining: 3m 28s\n",
      "100:\ttest: 0.6362879\tbest: 0.6362907 (99)\ttotal: 4.38s\tremaining: 1m 22s\n",
      "200:\ttest: 0.6397117\tbest: 0.6443016 (181)\ttotal: 8.38s\tremaining: 1m 14s\n",
      "300:\ttest: 0.6366679\tbest: 0.6443016 (181)\ttotal: 12.3s\tremaining: 1m 9s\n",
      "400:\ttest: 0.6335867\tbest: 0.6443016 (181)\ttotal: 16.2s\tremaining: 1m 4s\n",
      "500:\ttest: 0.6353580\tbest: 0.6443016 (181)\ttotal: 20.3s\tremaining: 1m\n",
      "600:\ttest: 0.6368502\tbest: 0.6443016 (181)\ttotal: 24.4s\tremaining: 56.8s\n",
      "700:\ttest: 0.6365546\tbest: 0.6443016 (181)\ttotal: 28.5s\tremaining: 52.7s\n",
      "800:\ttest: 0.6352143\tbest: 0.6443016 (181)\ttotal: 32.8s\tremaining: 49.2s\n",
      "900:\ttest: 0.6345069\tbest: 0.6443016 (181)\ttotal: 36.8s\tremaining: 44.9s\n",
      "1000:\ttest: 0.6344793\tbest: 0.6443016 (181)\ttotal: 40.6s\tremaining: 40.5s\n",
      "1100:\ttest: 0.6342168\tbest: 0.6443016 (181)\ttotal: 44.5s\tremaining: 36.4s\n",
      "1200:\ttest: 0.6333712\tbest: 0.6443016 (181)\ttotal: 48.5s\tremaining: 32.2s\n",
      "1300:\ttest: 0.6361787\tbest: 0.6443016 (181)\ttotal: 52.4s\tremaining: 28.1s\n",
      "1400:\ttest: 0.6344682\tbest: 0.6443016 (181)\ttotal: 56.7s\tremaining: 24.2s\n",
      "1500:\ttest: 0.6349850\tbest: 0.6443016 (181)\ttotal: 1m\tremaining: 20.2s\n",
      "1600:\ttest: 0.6371929\tbest: 0.6443016 (181)\ttotal: 1m 4s\tremaining: 16.1s\n",
      "1700:\ttest: 0.6362368\tbest: 0.6443016 (181)\ttotal: 1m 8s\tremaining: 12s\n",
      "1800:\ttest: 0.6359964\tbest: 0.6443016 (181)\ttotal: 1m 12s\tremaining: 8.01s\n",
      "1900:\ttest: 0.6356012\tbest: 0.6443016 (181)\ttotal: 1m 16s\tremaining: 3.98s\n",
      "1999:\ttest: 0.6329346\tbest: 0.6443016 (181)\ttotal: 1m 20s\tremaining: 0us\n",
      "\n",
      "bestTest = 0.6443015798\n",
      "bestIteration = 181\n",
      "\n",
      "Shrink model to first 182 iterations.\n"
     ]
    }
   ],
   "source": [
    "boosting = CatBoostClassifier(iterations=2000, eval_metric='AUC', train_dir=\"base\").fit(\n",
    "    X_train, \n",
    "    y_train, \n",
    "    verbose=100,\n",
    "    eval_set=(X_test, y_test),\n",
    ")"
   ]
  },
  {
   "cell_type": "code",
   "execution_count": 55,
   "metadata": {},
   "outputs": [],
   "source": [
    "from catboost import MetricVisualizer"
   ]
  },
  {
   "cell_type": "code",
   "execution_count": 56,
   "metadata": {},
   "outputs": [
    {
     "data": {
      "application/vnd.jupyter.widget-view+json": {
       "model_id": "3a9517f514dd4c158689a895e07b68ad",
       "version_major": 2,
       "version_minor": 0
      },
      "text/plain": [
       "MetricVisualizer(layout=Layout(align_self='stretch', height='500px'))"
      ]
     },
     "metadata": {},
     "output_type": "display_data"
    }
   ],
   "source": [
    "MetricVisualizer([\"base\"]).start()"
   ]
  },
  {
   "cell_type": "code",
   "execution_count": 57,
   "metadata": {},
   "outputs": [],
   "source": [
    "metrics = boosting.eval_metrics(\n",
    "    data=catboost.Pool(data=X_test, label=y_test),\n",
    "    metrics=[\"AUC\"],\n",
    ")"
   ]
  },
  {
   "cell_type": "code",
   "execution_count": 58,
   "metadata": {},
   "outputs": [],
   "source": [
    "pred = boosting.predict_proba(X_test)[:,1]"
   ]
  },
  {
   "cell_type": "code",
   "execution_count": 59,
   "metadata": {},
   "outputs": [
    {
     "data": {
      "text/plain": [
       "0.6443015798010948"
      ]
     },
     "execution_count": 59,
     "metadata": {},
     "output_type": "execute_result"
    }
   ],
   "source": [
    "roc_auc_score(y_test, pred)"
   ]
  },
  {
   "cell_type": "markdown",
   "metadata": {},
   "source": [
    "## Задание 11"
   ]
  },
  {
   "cell_type": "code",
   "execution_count": 60,
   "metadata": {},
   "outputs": [],
   "source": [
    "def plot_feature_importance(model, x_test, top=20): # model - наша модель, x_test - тестовые признаки, top - топ важных\n",
    "    explainer = shap.Explainer(model)\n",
    "    shap_values = explainer(x_test)\n",
    "    shap_importance = shap_values.abs.mean(0).values\n",
    "    sorted_idx = shap_importance.argsort()[-top:]\n",
    "    fig = plt.figure(figsize=(12, 6))\n",
    "    plt.barh(range(len(sorted_idx)), shap_importance[sorted_idx], align='center')\n",
    "    plt.yticks(range(len(sorted_idx)), np.array(x_test.columns)[sorted_idx])\n",
    "    plt.title('SHAP Importance')"
   ]
  },
  {
   "cell_type": "code",
   "execution_count": 61,
   "metadata": {},
   "outputs": [
    {
     "data": {
      "image/png": "[encoded data removed]",
      "text/plain": [
       "<Figure size 1200x600 with 1 Axes>"
      ]
     },
     "metadata": {},
     "output_type": "display_data"
    }
   ],
   "source": [
    "plot_feature_importance(boosting, X_test, top=20)"
   ]
  },
  {
   "cell_type": "code",
   "execution_count": null,
   "metadata": {},
   "outputs": [],
   "source": []
  }
 ],
 "metadata": {
  "colab": {
   "collapsed_sections": [
    "KPtcdkJ3Pc4I"
   ],
   "name": "d02_task.ipynb",
   "provenance": []
  },
  "kernelspec": {
   "display_name": "Python 3 (ipykernel)",
   "language": "python",
   "name": "python3"
  },
  "language_info": {
   "codemirror_mode": {
    "name": "ipython",
    "version": 3
   },
   "file_extension": ".py",
   "mimetype": "text/x-python",
   "name": "python",
   "nbconvert_exporter": "python",
   "pygments_lexer": "ipython3",
   "version": "3.9.6"
  },
  "widgets": {
   "application/vnd.jupyter.widget-state+json": {
    "state": {
     "3a9517f514dd4c158689a895e07b68ad": {
      "model_module": "catboost-widget",
      "model_module_version": "^1.0.0",
      "model_name": "CatboostWidgetModel",
      "state": {
       "_model_module_version": "^1.0.0",
       "_view_module_version": "^1.0.0",
       "data": {
        "base": {
         "content": {
          "data": {
           "iterations": [
            {
             "iteration": 0,
             "learn": [
              0.6281264064
             ],
             "passed_time": 0.1042403937,
             "remaining_time": 208.3765469,
             "test": [
              0.5045152965,
              0.6284134334
             ]
            },
            {
             "iteration": 1,
             "learn": [
              0.5707828565
             ],
             "passed_time": 0.1426957901,
             "remaining_time": 142.5530943,
             "test": [
              0.4934191074,
              0.5713545937
             ]
            },
            {
             "iteration": 2,
             "learn": [
              0.5203399224
             ],
             "passed_time": 0.1832005742,
             "remaining_time": 121.9505156,
             "test": [
              0.4943683144,
              0.5210437537
             ]
            },
            {
             "iteration": 3,
             "learn": [
              0.4757551134
             ],
             "passed_time": 0.2219459366,
             "remaining_time": 110.7510224,
             "test": [
              0.5086616871,
              0.4767330404
             ]
            },
            {
             "iteration": 4,
             "learn": [
              0.4371678316
             ],
             "passed_time": 0.2597943169,
             "remaining_time": 103.6579324,
             "test": [
              0.5149538108,
              0.4382642868
             ]
            },
            {
             "iteration": 5,
             "learn": [
              0.4031394859
             ],
             "passed_time": 0.2976635311,
             "remaining_time": 98.92351349,
             "test": [
              0.5338329451,
              0.4043767003
             ]
            },
            {
             "iteration": 6,
             "learn": [
              0.3731590376
             ],
             "passed_time": 0.340520461,
             "remaining_time": 96.95103983,
             "test": [
              0.5275850349,
              0.3746655216
             ]
            },
            {
             "iteration": 7,
             "learn": [
              0.3470832198
             ],
             "passed_time": 0.3791884464,
             "remaining_time": 94.41792316,
             "test": [
              0.5401278321,
              0.3486515749
             ]
            },
            {
             "iteration": 8,
             "learn": [
              0.3244982489
             ],
             "passed_time": 0.4174295038,
             "remaining_time": 92.34468245,
             "test": [
              0.535192508,
              0.3261855665
             ]
            },
            {
             "iteration": 9,
             "learn": [
              0.3045589005
             ],
             "passed_time": 0.4564160393,
             "remaining_time": 90.82679181,
             "test": [
              0.5275380581,
              0.3063885926
             ]
            },
            {
             "iteration": 10,
             "learn": [
              0.2871939005
             ],
             "passed_time": 0.4964156017,
             "remaining_time": 89.76096652,
             "test": [
              0.5345707567,
              0.2891231806
             ]
            },
            {
             "iteration": 11,
             "learn": [
              0.2718105557
             ],
             "passed_time": 0.5340096002,
             "remaining_time": 88.46759043,
             "test": [
              0.5496599711,
              0.2738080481
             ]
            },
            {
             "iteration": 12,
             "learn": [
              0.2583271636
             ],
             "passed_time": 0.5720799864,
             "remaining_time": 87.44022561,
             "test": [
              0.5585095653,
              0.2603773658
             ]
            },
            {
             "iteration": 13,
             "learn": [
              0.2464070694
             ],
             "passed_time": 0.6094810214,
             "remaining_time": 86.45923632,
             "test": [
              0.5598774183,
              0.2485836899
             ]
            },
            {
             "iteration": 14,
             "learn": [
              0.2357125354
             ],
             "passed_time": 0.6493918731,
             "remaining_time": 85.93619121,
             "test": [
              0.5554394953,
              0.2380373598
             ]
            },
            {
             "iteration": 15,
             "learn": [
              0.226394426
             ],
             "passed_time": 0.6868687852,
             "remaining_time": 85.17172936,
             "test": [
              0.5668714301,
              0.2288072896
             ]
            },
            {
             "iteration": 16,
             "learn": [
              0.2182372432
             ],
             "passed_time": 0.7256188144,
             "remaining_time": 84.64130053,
             "test": [
              0.5716340454,
              0.2207400556
             ]
            },
            {
             "iteration": 17,
             "learn": [
              0.2110286526
             ],
             "passed_time": 0.7634692781,
             "remaining_time": 84.06645051,
             "test": [
              0.5760028849,
              0.2136653255
             ]
            },
            {
             "iteration": 18,
             "learn": [
              0.2045841513
             ],
             "passed_time": 0.8025688999,
             "remaining_time": 83.67836793,
             "test": [
              0.5718482042,
              0.2074183018
             ]
            },
            {
             "iteration": 19,
             "learn": [
              0.1989391318
             ],
             "passed_time": 0.8431349357,
             "remaining_time": 83.47035863,
             "test": [
              0.5781748696,
              0.2018948062
             ]
            },
            {
             "iteration": 20,
             "learn": [
              0.1940063977
             ],
             "passed_time": 0.8822097235,
             "remaining_time": 83.13776395,
             "test": [
              0.5778943907,
              0.1970270089
             ]
            },
            {
             "iteration": 21,
             "learn": [
              0.1895664151
             ],
             "passed_time": 0.9191521214,
             "remaining_time": 82.64013164,
             "test": [
              0.5810224908,
              0.1926511735
             ]
            },
            {
             "iteration": 22,
             "learn": [
              0.1855469818
             ],
             "passed_time": 0.958254035,
             "remaining_time": 82.36818379,
             "test": [
              0.5810556509,
              0.1887431133
             ]
            },
            {
             "iteration": 23,
             "learn": [
              0.1820162063
             ],
             "passed_time": 0.9980371333,
             "remaining_time": 82.17172397,
             "test": [
              0.5823931071,
              0.1852899185
             ]
            },
            {
             "iteration": 24,
             "learn": [
              0.1787166589
             ],
             "passed_time": 1.038086739,
             "remaining_time": 82.00885236,
             "test": [
              0.5831336821,
              0.1821211054
             ]
            },
            {
             "iteration": 25,
             "learn": [
              0.1758200751
             ],
             "passed_time": 1.077662915,
             "remaining_time": 81.81948438,
             "test": [
              0.5894879809,
              0.1793169973
             ]
            },
            {
             "iteration": 26,
             "learn": [
              0.1733596549
             ],
             "passed_time": 1.115702009,
             "remaining_time": 81.52889122,
             "test": [
              0.5904316612,
              0.1769088561
             ]
            },
            {
             "iteration": 27,
             "learn": [
              0.1710861017
             ],
             "passed_time": 1.153511804,
             "remaining_time": 81.24018851,
             "test": [
              0.586618253,
              0.1747240194
             ]
            },
            {
             "iteration": 28,
             "learn": [
              0.1690600225
             ],
             "passed_time": 1.194653439,
             "remaining_time": 81.19523889,
             "test": [
              0.5829927518,
              0.1727947355
             ]
            },
            {
             "iteration": 29,
             "learn": [
              0.1672692251
             ],
             "passed_time": 1.232925455,
             "remaining_time": 80.9621049,
             "test": [
              0.582657006,
              0.1710551936
             ]
            },
            {
             "iteration": 30,
             "learn": [
              0.1656354932
             ],
             "passed_time": 1.271496355,
             "remaining_time": 80.76052654,
             "test": [
              0.5818390576,
              0.1695007195
             ]
            },
            {
             "iteration": 31,
             "learn": [
              0.1639025522
             ],
             "passed_time": 1.312108142,
             "remaining_time": 80.69465072,
             "test": [
              0.5856165425,
              0.1679583837
             ]
            },
            {
             "iteration": 32,
             "learn": [
              0.162535584
             ],
             "passed_time": 1.353269985,
             "remaining_time": 80.66309275,
             "test": [
              0.5884213319,
              0.1666849987
             ]
            },
            {
             "iteration": 33,
             "learn": [
              0.1610362526
             ],
             "passed_time": 1.395315143,
             "remaining_time": 80.68204624,
             "test": [
              0.5866942448,
              0.1653766211
             ]
            },
            {
             "iteration": 34,
             "learn": [
              0.1598749658
             ],
             "passed_time": 1.437491847,
             "remaining_time": 80.70489941,
             "test": [
              0.5876558869,
              0.1642804311
             ]
            },
            {
             "iteration": 35,
             "learn": [
              0.1587681637
             ],
             "passed_time": 1.485980468,
             "remaining_time": 81.06848999,
             "test": [
              0.5879681442,
              0.1633439904
             ]
            },
            {
             "iteration": 36,
             "learn": [
              0.1578601949
             ],
             "passed_time": 1.534617093,
             "remaining_time": 81.41765823,
             "test": [
              0.5876959553,
              0.1625215482
             ]
            },
            {
             "iteration": 37,
             "learn": [
              0.1569302496
             ],
             "passed_time": 1.580716109,
             "remaining_time": 81.6148686,
             "test": [
              0.6002000658,
              0.161682735
             ]
            },
            {
             "iteration": 38,
             "learn": [
              0.1561372796
             ],
             "passed_time": 1.621692781,
             "remaining_time": 81.54203959,
             "test": [
              0.6022711886,
              0.1609621869
             ]
            },
            {
             "iteration": 39,
             "learn": [
              0.1554189331
             ],
             "passed_time": 1.660670733,
             "remaining_time": 81.37286592,
             "test": [
              0.6011326928,
              0.1603750461
             ]
            },
            {
             "iteration": 40,
             "learn": [
              0.1547659671
             ],
             "passed_time": 1.703058817,
             "remaining_time": 81.37298105,
             "test": [
              0.6060320934,
              0.159800633
             ]
            },
            {
             "iteration": 41,
             "learn": [
              0.1540493369
             ],
             "passed_time": 1.753650536,
             "remaining_time": 81.75351785,
             "test": [
              0.6070075522,
              0.1592000768
             ]
            },
            {
             "iteration": 42,
             "learn": [
              0.1534204791
             ],
             "passed_time": 1.81938224,
             "remaining_time": 82.80304754,
             "test": [
              0.6023844855,
              0.1587440039
             ]
            },
            {
             "iteration": 43,
             "learn": [
              0.152829221
             ],
             "passed_time": 1.911400768,
             "remaining_time": 84.97045231,
             "test": [
              0.6028570165,
              0.1582452925
             ]
            },
            {
             "iteration": 44,
             "learn": [
              0.1524437081
             ],
             "passed_time": 1.974430317,
             "remaining_time": 85.7780282,
             "test": [
              0.6028653066,
              0.1578790446
             ]
            },
            {
             "iteration": 45,
             "learn": [
              0.1518840136
             ],
             "passed_time": 2.037403239,
             "remaining_time": 86.5453463,
             "test": [
              0.6015762088,
              0.1574573518
             ]
            },
            {
             "iteration": 46,
             "learn": [
              0.1515123697
             ],
             "passed_time": 2.101257519,
             "remaining_time": 87.31395604,
             "test": [
              0.6011230211,
              0.15717387
             ]
            },
            {
             "iteration": 47,
             "learn": [
              0.1511135884
             ],
             "passed_time": 2.170457857,
             "remaining_time": 88.26528617,
             "test": [
              0.5999651819,
              0.1568268839
             ]
            },
            {
             "iteration": 48,
             "learn": [
              0.1506577761
             ],
             "passed_time": 2.224769257,
             "remaining_time": 88.58213921,
             "test": [
              0.6006076583,
              0.1564743206
             ]
            },
            {
             "iteration": 49,
             "learn": [
              0.1502667716
             ],
             "passed_time": 2.270783688,
             "remaining_time": 88.56056383,
             "test": [
              0.5984854137,
              0.1562269723
             ]
            },
            {
             "iteration": 50,
             "learn": [
              0.1497270391
             ],
             "passed_time": 2.323171246,
             "remaining_time": 88.7815835,
             "test": [
              0.5991126917,
              0.1558991223
             ]
            },
            {
             "iteration": 51,
             "learn": [
              0.149350229
             ],
             "passed_time": 2.369275179,
             "remaining_time": 88.75669324,
             "test": [
              0.6001517073,
              0.1556944691
             ]
            },
            {
             "iteration": 52,
             "learn": [
              0.1490183361
             ],
             "passed_time": 2.415383404,
             "remaining_time": 88.73116013,
             "test": [
              0.6036058815,
              0.1554509046
             ]
            },
            {
             "iteration": 53,
             "learn": [
              0.1486968157
             ],
             "passed_time": 2.462775787,
             "remaining_time": 88.75114226,
             "test": [
              0.6050538713,
              0.155213239
             ]
            },
            {
             "iteration": 54,
             "learn": [
              0.1483538039
             ],
             "passed_time": 2.518426265,
             "remaining_time": 89.06071066,
             "test": [
              0.6051754582,
              0.15505113
             ]
            },
            {
             "iteration": 55,
             "learn": [
              0.148054072
             ],
             "passed_time": 2.576401847,
             "remaining_time": 89.43794983,
             "test": [
              0.6065060061,
              0.1548970549
             ]
            },
            {
             "iteration": 56,
             "learn": [
              0.1476777761
             ],
             "passed_time": 2.635213951,
             "remaining_time": 89.82843344,
             "test": [
              0.6095995645,
              0.1545905766
             ]
            },
            {
             "iteration": 57,
             "learn": [
              0.1474928142
             ],
             "passed_time": 2.692752812,
             "remaining_time": 90.16079244,
             "test": [
              0.6100983472,
              0.1544479958
             ]
            },
            {
             "iteration": 58,
             "learn": [
              0.1473414785
             ],
             "passed_time": 2.738463318,
             "remaining_time": 90.0908017,
             "test": [
              0.6097404948,
              0.1543907132
             ]
            },
            {
             "iteration": 59,
             "learn": [
              0.1470731677
             ],
             "passed_time": 2.778990353,
             "remaining_time": 89.85402141,
             "test": [
              0.6101218356,
              0.154290628
             ]
            },
            {
             "iteration": 60,
             "learn": [
              0.1468993576
             ],
             "passed_time": 2.8193608,
             "remaining_time": 89.61869822,
             "test": [
              0.6097515482,
              0.1542057934
             ]
            },
            {
             "iteration": 61,
             "learn": [
              0.1465538511
             ],
             "passed_time": 2.862864414,
             "remaining_time": 89.48760055,
             "test": [
              0.6149936029,
              0.1539821429
             ]
            },
            {
             "iteration": 62,
             "learn": [
              0.1463087743
             ],
             "passed_time": 2.902410839,
             "remaining_time": 89.2376158,
             "test": [
              0.6194481059,
              0.1537957207
             ]
            },
            {
             "iteration": 63,
             "learn": [
              0.1461809354
             ],
             "passed_time": 2.94053981,
             "remaining_time": 88.95132926,
             "test": [
              0.6193652057,
              0.1537743868
             ]
            },
            {
             "iteration": 64,
             "learn": [
              0.1459814058
             ],
             "passed_time": 2.98290181,
             "remaining_time": 88.79869236,
             "test": [
              0.6197327298,
              0.1537121394
             ]
            },
            {
             "iteration": 65,
             "learn": [
              0.1458616501
             ],
             "passed_time": 3.025974913,
             "remaining_time": 88.67023457,
             "test": [
              0.6208518822,
              0.1536615216
             ]
            },
            {
             "iteration": 66,
             "learn": [
              0.145665246
             ],
             "passed_time": 3.067584851,
             "remaining_time": 88.5021122,
             "test": [
              0.6214598169,
              0.1536039918
             ]
            },
            {
             "iteration": 67,
             "learn": [
              0.1453666314
             ],
             "passed_time": 3.10937992,
             "remaining_time": 88.34297066,
             "test": [
              0.6209057674,
              0.1536318556
             ]
            },
            {
             "iteration": 68,
             "learn": [
              0.1452102487
             ],
             "passed_time": 3.146967126,
             "remaining_time": 88.06947132,
             "test": [
              0.6200187354,
              0.153586539
             ]
            },
            {
             "iteration": 69,
             "learn": [
              0.1450526955
             ],
             "passed_time": 3.186046789,
             "remaining_time": 87.84386148,
             "test": [
              0.622864975,
              0.153467347
             ]
            },
            {
             "iteration": 70,
             "learn": [
              0.1449616901
             ],
             "passed_time": 3.223428324,
             "remaining_time": 87.57736953,
             "test": [
              0.6229699818,
              0.1534224116
             ]
            },
            {
             "iteration": 71,
             "learn": [
              0.1448595356
             ],
             "passed_time": 3.260711314,
             "remaining_time": 87.31460297,
             "test": [
              0.6242521713,
              0.1533665074
             ]
            },
            {
             "iteration": 72,
             "learn": [
              0.144650684
             ],
             "passed_time": 3.298825327,
             "remaining_time": 87.07995074,
             "test": [
              0.6244898185,
              0.1533542571
             ]
            },
            {
             "iteration": 73,
             "learn": [
              0.1445028686
             ],
             "passed_time": 3.338275499,
             "remaining_time": 86.88538665,
             "test": [
              0.6246556188,
              0.1532871262
             ]
            },
            {
             "iteration": 74,
             "learn": [
              0.1443873433
             ],
             "passed_time": 3.376053544,
             "remaining_time": 86.65204097,
             "test": [
              0.625340927,
              0.153269939
             ]
            },
            {
             "iteration": 75,
             "learn": [
              0.1443122344
             ],
             "passed_time": 3.412443969,
             "remaining_time": 86.38871312,
             "test": [
              0.6252801335,
              0.1532667923
             ]
            },
            {
             "iteration": 76,
             "learn": [
              0.1441943599
             ],
             "passed_time": 3.450244223,
             "remaining_time": 86.16648885,
             "test": [
              0.6259046482,
              0.153263322
             ]
            },
            {
             "iteration": 77,
             "learn": [
              0.1440620252
             ],
             "passed_time": 3.488789664,
             "remaining_time": 85.96735556,
             "test": [
              0.6259295183,
              0.1532729841
             ]
            },
            {
             "iteration": 78,
             "learn": [
              0.1440111298
             ],
             "passed_time": 3.525777146,
             "remaining_time": 85.73440377,
             "test": [
              0.6259267549,
              0.1532452997
             ]
            },
            {
             "iteration": 79,
             "learn": [
              0.1438773938
             ],
             "passed_time": 3.565080232,
             "remaining_time": 85.56192556,
             "test": [
              0.6255730475,
              0.1532717808
             ]
            },
            {
             "iteration": 80,
             "learn": [
              0.143809454
             ],
             "passed_time": 3.603408625,
             "remaining_time": 85.36964384,
             "test": [
              0.625642131,
              0.153259245
             ]
            },
            {
             "iteration": 81,
             "learn": [
              0.143724242
             ],
             "passed_time": 3.640643155,
             "remaining_time": 85.15553137,
             "test": [
              0.6247993125,
              0.1532848885
             ]
            },
            {
             "iteration": 82,
             "learn": [
              0.1435695261
             ],
             "passed_time": 3.680660427,
             "remaining_time": 85.00995226,
             "test": [
              0.625667001,
              0.1532395415
             ]
            },
            {
             "iteration": 83,
             "learn": [
              0.1434497216
             ],
             "passed_time": 3.719570627,
             "remaining_time": 84.84163477,
             "test": [
              0.6252911869,
              0.1532245756
             ]
            },
            {
             "iteration": 84,
             "learn": [
              0.143369125
             ],
             "passed_time": 3.757630096,
             "remaining_time": 84.65719569,
             "test": [
              0.6252303934,
              0.1532322299
             ]
            },
            {
             "iteration": 85,
             "learn": [
              0.1431957479
             ],
             "passed_time": 3.797212064,
             "remaining_time": 84.51004524,
             "test": [
              0.6262403939,
              0.1532397043
             ]
            },
            {
             "iteration": 86,
             "learn": [
              0.1431157715
             ],
             "passed_time": 3.843545503,
             "remaining_time": 84.51382238,
             "test": [
              0.6266355515,
              0.1532272261
             ]
            },
            {
             "iteration": 87,
             "learn": [
              0.1430361574
             ],
             "passed_time": 3.884168332,
             "remaining_time": 84.39238466,
             "test": [
              0.626721215,
              0.1532342532
             ]
            },
            {
             "iteration": 88,
             "learn": [
              0.1429358566
             ],
             "passed_time": 3.922802191,
             "remaining_time": 84.23005604,
             "test": [
              0.6263619809,
              0.1532658202
             ]
            },
            {
             "iteration": 89,
             "learn": [
              0.1427627448
             ],
             "passed_time": 3.962400951,
             "remaining_time": 84.09095352,
             "test": [
              0.6289014897,
              0.1531778873
             ]
            },
            {
             "iteration": 90,
             "learn": [
              0.1427137387
             ],
             "passed_time": 4.000283749,
             "remaining_time": 83.91804041,
             "test": [
              0.6291944037,
              0.1531733482
             ]
            },
            {
             "iteration": 91,
             "learn": [
              0.1426584587
             ],
             "passed_time": 4.036750051,
             "remaining_time": 83.71868584,
             "test": [
              0.6298658951,
              0.1531534437
             ]
            },
            {
             "iteration": 92,
             "learn": [
              0.1426074522
             ],
             "passed_time": 4.075240323,
             "remaining_time": 83.56433652,
             "test": [
              0.6310845278,
              0.1531409686
             ]
            },
            {
             "iteration": 93,
             "learn": [
              0.1425445345
             ],
             "passed_time": 4.112787487,
             "remaining_time": 83.39332927,
             "test": [
              0.6320516966,
              0.1531028013
             ]
            },
            {
             "iteration": 94,
             "learn": [
              0.1423615948
             ],
             "passed_time": 4.153770326,
             "remaining_time": 83.29402601,
             "test": [
              0.6347293724,
              0.1530514963
             ]
            },
            {
             "iteration": 95,
             "learn": [
              0.1423041291
             ],
             "passed_time": 4.191031607,
             "remaining_time": 83.12212688,
             "test": [
              0.6346050221,
              0.1530662638
             ]
            },
            {
             "iteration": 96,
             "learn": [
              0.1422682996
             ],
             "passed_time": 4.229068159,
             "remaining_time": 82.96821347,
             "test": [
              0.6346022588,
              0.1530673622
             ]
            },
            {
             "iteration": 97,
             "learn": [
              0.1422346413
             ],
             "passed_time": 4.265965639,
             "remaining_time": 82.79455761,
             "test": [
              0.634571862,
              0.153066177
             ]
            },
            {
             "iteration": 98,
             "learn": [
              0.1421877336
             ],
             "passed_time": 4.303543387,
             "remaining_time": 82.63672706,
             "test": [
              0.6355721909,
              0.1530263061
             ]
            },
            {
             "iteration": 99,
             "learn": [
              0.1421011975
             ],
             "passed_time": 4.343879792,
             "remaining_time": 82.53371605,
             "test": [
              0.6362906591,
              0.1530133576
             ]
            },
            {
             "iteration": 100,
             "learn": [
              0.1420667495
             ],
             "passed_time": 4.380079253,
             "remaining_time": 82.35416339,
             "test": [
              0.6362878957,
              0.15301449
             ]
            },
            {
             "iteration": 101,
             "learn": [
              0.1420043918
             ],
             "passed_time": 4.418698112,
             "remaining_time": 82.22244135,
             "test": [
              0.637780099,
              0.1529475217
             ]
            },
            {
             "iteration": 102,
             "learn": [
              0.1419623378
             ],
             "passed_time": 4.456536618,
             "remaining_time": 82.07815498,
             "test": [
              0.6379735327,
              0.1529449149
             ]
            },
            {
             "iteration": 103,
             "learn": [
              0.141920304
             ],
             "passed_time": 4.493826233,
             "remaining_time": 81.92590902,
             "test": [
              0.6378933959,
              0.1529363086
             ]
            },
            {
             "iteration": 104,
             "learn": [
              0.1416834876
             ],
             "passed_time": 4.537765983,
             "remaining_time": 81.89587179,
             "test": [
              0.640870894,
              0.1528363038
             ]
            },
            {
             "iteration": 105,
             "learn": [
              0.1416437283
             ],
             "passed_time": 4.574636129,
             "remaining_time": 81.7392531,
             "test": [
              0.6408045739,
              0.1528391585
             ]
            },
            {
             "iteration": 106,
             "learn": [
              0.1415231663
             ],
             "passed_time": 4.617039006,
             "remaining_time": 81.68275549,
             "test": [
              0.6422111136,
              0.1527977378
             ]
            },
            {
             "iteration": 107,
             "learn": [
              0.1414803861
             ],
             "passed_time": 4.655689949,
             "remaining_time": 81.56079058,
             "test": [
              0.6422166403,
              0.1527823738
             ]
            },
            {
             "iteration": 108,
             "learn": [
              0.1413685998
             ],
             "passed_time": 4.693709375,
             "remaining_time": 81.42939843,
             "test": [
              0.6410864345,
              0.1527803312
             ]
            },
            {
             "iteration": 109,
             "learn": [
              0.1412902189
             ],
             "passed_time": 4.736054583,
             "remaining_time": 81.37402875,
             "test": [
              0.6411306479,
              0.1527798163
             ]
            },
            {
             "iteration": 110,
             "learn": [
              0.1412497085
             ],
             "passed_time": 4.773239363,
             "remaining_time": 81.23107348,
             "test": [
              0.6412577615,
              0.1527740599
             ]
            },
            {
             "iteration": 111,
             "learn": [
              0.1412190751
             ],
             "passed_time": 4.810733233,
             "remaining_time": 81.09521736,
             "test": [
              0.6410118243,
              0.1527845144
             ]
            },
            {
             "iteration": 112,
             "learn": [
              0.141195228
             ],
             "passed_time": 4.848567197,
             "remaining_time": 80.96678142,
             "test": [
              0.6410035343,
              0.1527881427
             ]
            },
            {
             "iteration": 113,
             "learn": [
              0.1410164311
             ],
             "passed_time": 4.888770848,
             "remaining_time": 80.87913876,
             "test": [
              0.6416349573,
              0.1526919646
             ]
            },
            {
             "iteration": 114,
             "learn": [
              0.1409675514
             ],
             "passed_time": 4.926414181,
             "remaining_time": 80.75035418,
             "test": [
              0.6419665581,
              0.1526866568
             ]
            },
            {
             "iteration": 115,
             "learn": [
              0.1409029874
             ],
             "passed_time": 4.966684834,
             "remaining_time": 80.6658123,
             "test": [
              0.6418090477,
              0.1526531105
             ]
            },
            {
             "iteration": 116,
             "learn": [
              0.1408024126
             ],
             "passed_time": 5.006135298,
             "remaining_time": 80.56882707,
             "test": [
              0.6423396089,
              0.1526663674
             ]
            },
            {
             "iteration": 117,
             "learn": [
              0.1407701802
             ],
             "passed_time": 5.044460233,
             "remaining_time": 80.45486575,
             "test": [
              0.6421959152,
              0.152668445
             ]
            },
            {
             "iteration": 118,
             "learn": [
              0.1407415454
             ],
             "passed_time": 5.082121775,
             "remaining_time": 80.33168957,
             "test": [
              0.6422207853,
              0.1526743954
             ]
            },
            {
             "iteration": 119,
             "learn": [
              0.1404933879
             ],
             "passed_time": 5.128992062,
             "remaining_time": 80.35420896,
             "test": [
              0.6422373653,
              0.1526487534
             ]
            },
            {
             "iteration": 120,
             "learn": [
              0.1404217986
             ],
             "passed_time": 5.177706647,
             "remaining_time": 80.4042214,
             "test": [
              0.6419112913,
              0.1526124812
             ]
            },
            {
             "iteration": 121,
             "learn": [
              0.1403769886
             ],
             "passed_time": 5.228778462,
             "remaining_time": 80.48890124,
             "test": [
              0.6414415236,
              0.1526301629
             ]
            },
            {
             "iteration": 122,
             "learn": [
              0.1403273995
             ],
             "passed_time": 5.271380802,
             "remaining_time": 80.44212817,
             "test": [
              0.6410905795,
              0.1526383414
             ]
            },
            {
             "iteration": 123,
             "learn": [
              0.1402955192
             ],
             "passed_time": 5.315225258,
             "remaining_time": 80.41421439,
             "test": [
              0.6409220158,
              0.1526533002
             ]
            },
            {
             "iteration": 124,
             "learn": [
              0.1402594939
             ],
             "passed_time": 5.358665328,
             "remaining_time": 80.37997993,
             "test": [
              0.6407838488,
              0.1526678136
             ]
            },
            {
             "iteration": 125,
             "learn": [
              0.1402238714
             ],
             "passed_time": 5.397630822,
             "remaining_time": 80.27904889,
             "test": [
              0.640996626,
              0.1526660652
             ]
            },
            {
             "iteration": 126,
             "learn": [
              0.1401857392
             ],
             "passed_time": 5.437702469,
             "remaining_time": 80.19540728,
             "test": [
              0.6410408394,
              0.1526548897
             ]
            },
            {
             "iteration": 127,
             "learn": [
              0.1401513255
             ],
             "passed_time": 5.476264702,
             "remaining_time": 80.09037127,
             "test": [
              0.6409993893,
              0.1526571121
             ]
            },
            {
             "iteration": 128,
             "learn": [
              0.1400573757
             ],
             "passed_time": 5.517420128,
             "remaining_time": 80.02397721,
             "test": [
              0.6419278713,
              0.1526364878
             ]
            },
            {
             "iteration": 129,
             "learn": [
              0.1399209384
             ],
             "passed_time": 5.558916897,
             "remaining_time": 79.96288152,
             "test": [
              0.6437157519,
              0.1526143019
             ]
            },
            {
             "iteration": 130,
             "learn": [
              0.1398911256
             ],
             "passed_time": 5.598260484,
             "remaining_time": 79.87136522,
             "test": [
              0.6437875987,
              0.1526133122
             ]
            },
            {
             "iteration": 131,
             "learn": [
              0.1397525958
             ],
             "passed_time": 5.643247304,
             "remaining_time": 79.86049972,
             "test": [
              0.6432860526,
              0.152612051
             ]
            },
            {
             "iteration": 132,
             "learn": [
              0.1397174121
             ],
             "passed_time": 5.68213842,
             "remaining_time": 79.76355211,
             "test": [
              0.6432860526,
              0.1526122163
             ]
            },
            {
             "iteration": 133,
             "learn": [
              0.1396569168
             ],
             "passed_time": 5.721262417,
             "remaining_time": 79.67071396,
             "test": [
              0.6437088435,
              0.1525913833
             ]
            },
            {
             "iteration": 134,
             "learn": [
              0.139519482
             ],
             "passed_time": 5.763229365,
             "remaining_time": 79.61794642,
             "test": [
              0.6433813878,
              0.1525033521
             ]
            },
            {
             "iteration": 135,
             "learn": [
              0.1392901087
             ],
             "passed_time": 5.807080405,
             "remaining_time": 79.59116085,
             "test": [
              0.6404881715,
              0.1524984626
             ]
            },
            {
             "iteration": 136,
             "learn": [
              0.1392580409
             ],
             "passed_time": 5.845128916,
             "remaining_time": 79.48522022,
             "test": [
              0.6404743548,
              0.1524991507
             ]
            },
            {
             "iteration": 137,
             "learn": [
              0.1392341149
             ],
             "passed_time": 5.882882877,
             "remaining_time": 79.37628925,
             "test": [
              0.6403168445,
              0.1525011336
             ]
            },
            {
             "iteration": 138,
             "learn": [
              0.1391971761
             ],
             "passed_time": 5.920820801,
             "remaining_time": 79.2708454,
             "test": [
              0.6404743548,
              0.1524965556
             ]
            },
            {
             "iteration": 139,
             "learn": [
              0.1391392111
             ],
             "passed_time": 5.958720433,
             "remaining_time": 79.16585718,
             "test": [
              0.6404356681,
              0.1524973194
             ]
            },
            {
             "iteration": 140,
             "learn": [
              0.1390383235
             ],
             "passed_time": 6.002508888,
             "remaining_time": 79.13946115,
             "test": [
              0.6415023171,
              0.1524485028
             ]
            },
            {
             "iteration": 141,
             "learn": [
              0.1389987214
             ],
             "passed_time": 6.040352601,
             "remaining_time": 79.03503615,
             "test": [
              0.6415907439,
              0.1524464519
             ]
            },
            {
             "iteration": 142,
             "learn": [
              0.1388528595
             ],
             "passed_time": 6.081415192,
             "remaining_time": 78.97334273,
             "test": [
              0.6426352862,
              0.152372254
             ]
            },
            {
             "iteration": 143,
             "learn": [
              0.1388016763
             ],
             "passed_time": 6.121282209,
             "remaining_time": 78.89652625,
             "test": [
              0.6427568731,
              0.1523689482
             ]
            },
            {
             "iteration": 144,
             "learn": [
              0.1387808704
             ],
             "passed_time": 6.163735836,
             "remaining_time": 78.85331018,
             "test": [
              0.6427458198,
              0.152369477
             ]
            },
            {
             "iteration": 145,
             "learn": [
              0.1387458205
             ],
             "passed_time": 6.202487824,
             "remaining_time": 78.76309881,
             "test": [
              0.6427458198,
              0.152372534
             ]
            },
            {
             "iteration": 146,
             "learn": [
              0.1385976625
             ],
             "passed_time": 6.246235944,
             "remaining_time": 78.73656602,
             "test": [
              0.6433233577,
              0.152346924
             ]
            },
            {
             "iteration": 147,
             "learn": [
              0.1385608692
             ],
             "passed_time": 6.288117557,
             "remaining_time": 78.68644402,
             "test": [
              0.6435554782,
              0.1523426452
             ]
            },
            {
             "iteration": 148,
             "learn": [
              0.13845711
             ],
             "passed_time": 6.335274893,
             "remaining_time": 78.70197199,
             "test": [
              0.6434753413,
              0.1523599628
             ]
            },
            {
             "iteration": 149,
             "learn": [
              0.1384366985
             ],
             "passed_time": 6.378999429,
             "remaining_time": 78.67432629,
             "test": [
              0.6435223181,
              0.152357526
             ]
            },
            {
             "iteration": 150,
             "learn": [
              0.1383996712
             ],
             "passed_time": 6.41750866,
             "remaining_time": 78.58260604,
             "test": [
              0.6434615246,
              0.1523587384
             ]
            },
            {
             "iteration": 151,
             "learn": [
              0.1383707684
             ],
             "passed_time": 6.457515764,
             "remaining_time": 78.50979692,
             "test": [
              0.6435858749,
              0.1523543614
             ]
            },
            {
             "iteration": 152,
             "learn": [
              0.1383238666
             ],
             "passed_time": 6.497134608,
             "remaining_time": 78.43272955,
             "test": [
              0.6431824274,
              0.152367623
             ]
            },
            {
             "iteration": 153,
             "learn": [
              0.1382944259
             ],
             "passed_time": 6.537068877,
             "remaining_time": 78.35992953,
             "test": [
              0.6432432208,
              0.1523689123
             ]
            },
            {
             "iteration": 154,
             "learn": [
              0.1382618924
             ],
             "passed_time": 6.574764295,
             "remaining_time": 78.26090403,
             "test": [
              0.6431520306,
              0.1523708073
             ]
            },
            {
             "iteration": 155,
             "learn": [
              0.1382224514
             ],
             "passed_time": 6.612918725,
             "remaining_time": 78.16809057,
             "test": [
              0.6430276804,
              0.1523752839
             ]
            },
            {
             "iteration": 156,
             "learn": [
              0.1381965191
             ],
             "passed_time": 6.651739631,
             "remaining_time": 78.08379707,
             "test": [
              0.6429779403,
              0.152380136
             ]
            },
            {
             "iteration": 157,
             "learn": [
              0.1381574669
             ],
             "passed_time": 6.690284738,
             "remaining_time": 77.99686385,
             "test": [
              0.6426629196,
              0.1523788368
             ]
            },
            {
             "iteration": 158,
             "learn": [
              0.1381000243
             ],
             "passed_time": 6.729972834,
             "remaining_time": 77.92377351,
             "test": [
              0.6422953954,
              0.1523844579
             ]
            },
            {
             "iteration": 159,
             "learn": [
              0.1380632476
             ],
             "passed_time": 6.767868216,
             "remaining_time": 77.83048448,
             "test": [
              0.6424694858,
              0.1523722489
             ]
            },
            {
             "iteration": 160,
             "learn": [
              0.1380313011
             ],
             "passed_time": 6.806771916,
             "remaining_time": 77.74940095,
             "test": [
              0.6424584325,
              0.1523725713
             ]
            },
            {
             "iteration": 161,
             "learn": [
              0.1378284205
             ],
             "passed_time": 6.848772406,
             "remaining_time": 77.70397335,
             "test": [
              0.6429807036,
              0.1523520376
             ]
            },
            {
             "iteration": 162,
             "learn": [
              0.1377955848
             ],
             "passed_time": 6.887451142,
             "remaining_time": 77.62115183,
             "test": [
              0.6429585969,
              0.1523527003
             ]
            },
            {
             "iteration": 163,
             "learn": [
              0.1376485382
             ],
             "passed_time": 6.930073982,
             "remaining_time": 77.58302336,
             "test": [
              0.6431271606,
              0.1523359946
             ]
            },
            {
             "iteration": 164,
             "learn": [
              0.1376216716
             ],
             "passed_time": 6.968292206,
             "remaining_time": 77.49585574,
             "test": [
              0.6431216339,
              0.1523386382
             ]
            },
            {
             "iteration": 165,
             "learn": [
              0.13759289
             ],
             "passed_time": 7.007159405,
             "remaining_time": 77.41644788,
             "test": [
              0.6431078172,
              0.1523459013
             ]
            },
            {
             "iteration": 166,
             "learn": [
              0.1375593464
             ],
             "passed_time": 7.04614319,
             "remaining_time": 77.3388052,
             "test": [
              0.6430359704,
              0.1523527161
             ]
            },
            {
             "iteration": 167,
             "learn": [
              0.1374889377
             ],
             "passed_time": 7.090288529,
             "remaining_time": 77.31790825,
             "test": [
              0.6434117845,
              0.1523470099
             ]
            },
            {
             "iteration": 168,
             "learn": [
              0.1374554914
             ],
             "passed_time": 7.129270856,
             "remaining_time": 77.24079845,
             "test": [
              0.6434338913,
              0.152345039
             ]
            },
            {
             "iteration": 169,
             "learn": [
              0.1374181008
             ],
             "passed_time": 7.170580329,
             "remaining_time": 77.18918824,
             "test": [
              0.6433509911,
              0.1523540282
             ]
            },
            {
             "iteration": 170,
             "learn": [
              0.1373756331
             ],
             "passed_time": 7.210751854,
             "remaining_time": 77.12552714,
             "test": [
              0.6432901976,
              0.1523599573
             ]
            },
            {
             "iteration": 171,
             "learn": [
              0.1373398417
             ],
             "passed_time": 7.249205542,
             "remaining_time": 77.04388216,
             "test": [
              0.6431907174,
              0.1523613309
             ]
            },
            {
             "iteration": 172,
             "learn": [
              0.1371904592
             ],
             "passed_time": 7.289433652,
             "remaining_time": 76.98147562,
             "test": [
              0.6437627286,
              0.1523344088
             ]
            },
            {
             "iteration": 173,
             "learn": [
              0.1371702034
             ],
             "passed_time": 7.327853298,
             "remaining_time": 76.90034553,
             "test": [
              0.6437323319,
              0.152335986
             ]
            },
            {
             "iteration": 174,
             "learn": [
              0.1370324076
             ],
             "passed_time": 7.372080847,
             "remaining_time": 76.88027169,
             "test": [
              0.6434615246,
              0.1523574551
             ]
            },
            {
             "iteration": 175,
             "learn": [
              0.1370027158
             ],
             "passed_time": 7.410775125,
             "remaining_time": 76.80257857,
             "test": [
              0.6433509911,
              0.1523577034
             ]
            },
            {
             "iteration": 176,
             "learn": [
              0.1369662777
             ],
             "passed_time": 7.449162228,
             "remaining_time": 76.72216238,
             "test": [
              0.6433509911,
              0.1523576276
             ]
            },
            {
             "iteration": 177,
             "learn": [
              0.136932878
             ],
             "passed_time": 7.488085303,
             "remaining_time": 76.64770462,
             "test": [
              0.6435886383,
              0.1523547323
             ]
            },
            {
             "iteration": 178,
             "learn": [
              0.1367793556
             ],
             "passed_time": 7.528620172,
             "remaining_time": 76.59004096,
             "test": [
              0.6442988165,
              0.152270297
             ]
            },
            {
             "iteration": 179,
             "learn": [
              0.1367336059
             ],
             "passed_time": 7.565847369,
             "remaining_time": 76.4991234,
             "test": [
              0.6442739464,
              0.1522736289
             ]
            },
            {
             "iteration": 180,
             "learn": [
              0.1367004049
             ],
             "passed_time": 7.605531548,
             "remaining_time": 76.43349108,
             "test": [
              0.6442822364,
              0.1522731538
             ]
            },
            {
             "iteration": 181,
             "learn": [
              0.1366671381
             ],
             "passed_time": 7.643371428,
             "remaining_time": 76.34972119,
             "test": [
              0.6443015798,
              0.1522727745
             ]
            },
            {
             "iteration": 182,
             "learn": [
              0.1366381642
             ],
             "passed_time": 7.682051872,
             "remaining_time": 76.27479919,
             "test": [
              0.6442988165,
              0.1522732952
             ]
            },
            {
             "iteration": 183,
             "learn": [
              0.1366110196
             ],
             "passed_time": 7.721116909,
             "remaining_time": 76.20406689,
             "test": [
              0.644221443,
              0.1522746171
             ]
            },
            {
             "iteration": 184,
             "learn": [
              0.1365675519
             ],
             "passed_time": 7.759909106,
             "remaining_time": 76.13100015,
             "test": [
              0.6441219627,
              0.1522770703
             ]
            },
            {
             "iteration": 185,
             "learn": [
              0.1365292896
             ],
             "passed_time": 7.797344309,
             "remaining_time": 76.04506762,
             "test": [
              0.6441578862,
              0.1522768931
             ]
            },
            {
             "iteration": 186,
             "learn": [
              0.1364804844
             ],
             "passed_time": 7.83563741,
             "remaining_time": 75.96797125,
             "test": [
              0.6441578862,
              0.152277129
             ]
            },
            {
             "iteration": 187,
             "learn": [
              0.1364470971
             ],
             "passed_time": 7.874117807,
             "remaining_time": 75.8930929,
             "test": [
              0.6441385428,
              0.1522774173
             ]
            },
            {
             "iteration": 188,
             "learn": [
              0.1363431572
             ],
             "passed_time": 7.913466185,
             "remaining_time": 75.82691673,
             "test": [
              0.6404743548,
              0.1523557429
             ]
            },
            {
             "iteration": 189,
             "learn": [
              0.1362870522
             ],
             "passed_time": 7.952176047,
             "remaining_time": 75.75494023,
             "test": [
              0.6404633015,
              0.1523580969
             ]
            },
            {
             "iteration": 190,
             "learn": [
              0.1362467034
             ],
             "passed_time": 7.991745681,
             "remaining_time": 75.69145517,
             "test": [
              0.640256051,
              0.152356925
             ]
            },
            {
             "iteration": 191,
             "learn": [
              0.1362092234
             ],
             "passed_time": 8.030722091,
             "remaining_time": 75.62263302,
             "test": [
              0.6403113178,
              0.1523560265
             ]
            },
            {
             "iteration": 192,
             "learn": [
              0.1361376132
             ],
             "passed_time": 8.070737071,
             "remaining_time": 75.56384397,
             "test": [
              0.6402836844,
              0.1523667349
             ]
            },
            {
             "iteration": 193,
             "learn": [
              0.1360981357
             ],
             "passed_time": 8.109398806,
             "remaining_time": 75.49265074,
             "test": [
              0.640231181,
              0.1523697306
             ]
            },
            {
             "iteration": 194,
             "learn": [
              0.1360460878
             ],
             "passed_time": 8.147001596,
             "remaining_time": 75.41198913,
             "test": [
              0.640222891,
              0.1523708536
             ]
            },
            {
             "iteration": 195,
             "learn": [
              0.1360073894
             ],
             "passed_time": 8.183685821,
             "remaining_time": 75.32331235,
             "test": [
              0.6401565708,
              0.1523743505
             ]
            },
            {
             "iteration": 196,
             "learn": [
              0.1359454338
             ],
             "passed_time": 8.223447335,
             "remaining_time": 75.26332764,
             "test": [
              0.6403638213,
              0.1523606249
             ]
            },
            {
             "iteration": 197,
             "learn": [
              0.1359057278
             ],
             "passed_time": 8.260351773,
             "remaining_time": 75.17754493,
             "test": [
              0.6400598539,
              0.1523674339
             ]
            },
            {
             "iteration": 198,
             "learn": [
              0.1358702938
             ],
             "passed_time": 8.300002868,
             "remaining_time": 75.11711139,
             "test": [
              0.6400322205,
              0.1523670786
             ]
            },
            {
             "iteration": 199,
             "learn": [
              0.1358195868
             ],
             "passed_time": 8.337242982,
             "remaining_time": 75.03518684,
             "test": [
              0.6400322205,
              0.1523673505
             ]
            },
            {
             "iteration": 200,
             "learn": [
              0.1357100526
             ],
             "passed_time": 8.377505843,
             "remaining_time": 74.98076126,
             "test": [
              0.6397116732,
              0.1523581597
             ]
            },
            {
             "iteration": 201,
             "learn": [
              0.1356699811
             ],
             "passed_time": 8.41458537,
             "remaining_time": 74.89814107,
             "test": [
              0.6397116732,
              0.1523581292
             ]
            },
            {
             "iteration": 202,
             "learn": [
              0.1356277692
             ],
             "passed_time": 8.451542393,
             "remaining_time": 74.81488513,
             "test": [
              0.6397227265,
              0.1523586983
             ]
            },
            {
             "iteration": 203,
             "learn": [
              0.1355836772
             ],
             "passed_time": 8.490089834,
             "remaining_time": 74.74608501,
             "test": [
              0.63976694,
              0.1523570671
             ]
            },
            {
             "iteration": 204,
             "learn": [
              0.1355441999
             ],
             "passed_time": 8.528014549,
             "remaining_time": 74.6721274,
             "test": [
              0.6397697033,
              0.15235684
             ]
            },
            {
             "iteration": 205,
             "learn": [
              0.1354989787
             ],
             "passed_time": 8.564396432,
             "remaining_time": 74.58508349,
             "test": [
              0.639612193,
              0.1523601518
             ]
            },
            {
             "iteration": 206,
             "learn": [
              0.1354516048
             ],
             "passed_time": 8.603760978,
             "remaining_time": 74.52436441,
             "test": [
              0.6395569262,
              0.152362732
             ]
            },
            {
             "iteration": 207,
             "learn": [
              0.1354019924
             ],
             "passed_time": 8.641068844,
             "remaining_time": 74.44613158,
             "test": [
              0.6393165157,
              0.1523688205
             ]
            },
            {
             "iteration": 208,
             "learn": [
              0.1353560514
             ],
             "passed_time": 8.678518047,
             "remaining_time": 74.36950154,
             "test": [
              0.6392640122,
              0.152370305
             ]
            },
            {
             "iteration": 209,
             "learn": [
              0.1353145031
             ],
             "passed_time": 8.716643393,
             "remaining_time": 74.29900797,
             "test": [
              0.6392640122,
              0.1523703011
             ]
            },
            {
             "iteration": 210,
             "learn": [
              0.1352679034
             ],
             "passed_time": 8.754134514,
             "remaining_time": 74.22344381,
             "test": [
              0.6392032187,
              0.1523718876
             ]
            },
            {
             "iteration": 211,
             "learn": [
              0.1352214678
             ],
             "passed_time": 8.792243567,
             "remaining_time": 74.15345046,
             "test": [
              0.639172822,
              0.1523728173
             ]
            },
            {
             "iteration": 212,
             "learn": [
              0.1351719449
             ],
             "passed_time": 8.830568627,
             "remaining_time": 74.08556872,
             "test": [
              0.6391451886,
              0.1523738197
             ]
            },
            {
             "iteration": 213,
             "learn": [
              0.1351084604
             ],
             "passed_time": 8.875434735,
             "remaining_time": 74.07255345,
             "test": [
              0.6391714403,
              0.1523779118
             ]
            },
            {
             "iteration": 214,
             "learn": [
              0.1350623115
             ],
             "passed_time": 8.913198488,
             "remaining_time": 74.00027582,
             "test": [
              0.63902222,
              0.1523792131
             ]
            },
            {
             "iteration": 215,
             "learn": [
              0.135011101
             ],
             "passed_time": 8.950405727,
             "remaining_time": 73.92372137,
             "test": [
              0.6389641899,
              0.1523807662
             ]
            },
            {
             "iteration": 216,
             "learn": [
              0.1349586098
             ],
             "passed_time": 8.986880112,
             "remaining_time": 73.84150802,
             "test": [
              0.6389586632,
              0.1523888941
             ]
            },
            {
             "iteration": 217,
             "learn": [
              0.1349111885
             ],
             "passed_time": 9.023119241,
             "remaining_time": 73.75779123,
             "test": [
              0.6389393198,
              0.1523906993
             ]
            },
            {
             "iteration": 218,
             "learn": [
              0.1348618876
             ],
             "passed_time": 9.059971637,
             "remaining_time": 73.67949537,
             "test": [
              0.6389393198,
              0.1523909452
             ]
            },
            {
             "iteration": 219,
             "learn": [
              0.1347609377
             ],
             "passed_time": 9.101462405,
             "remaining_time": 73.63910492,
             "test": [
              0.6376958171,
              0.1524346175
             ]
            },
            {
             "iteration": 220,
             "learn": [
              0.1347122832
             ],
             "passed_time": 9.138441388,
             "remaining_time": 73.56238565,
             "test": [
              0.6376958171,
              0.1524348275
             ]
            },
            {
             "iteration": 221,
             "learn": [
              0.1346633894
             ],
             "passed_time": 9.175024609,
             "remaining_time": 73.48285475,
             "test": [
              0.6376681837,
              0.1524358701
             ]
            },
            {
             "iteration": 222,
             "learn": [
              0.1346224164
             ],
             "passed_time": 9.212808654,
             "remaining_time": 73.41327793,
             "test": [
              0.6376156803,
              0.1524381539
             ]
            },
            {
             "iteration": 223,
             "learn": [
              0.1345697116
             ],
             "passed_time": 9.249654175,
             "remaining_time": 73.33654381,
             "test": [
              0.6376156803,
              0.152438399
             ]
            },
            {
             "iteration": 224,
             "learn": [
              0.1345226714
             ],
             "passed_time": 9.288122613,
             "remaining_time": 73.27296728,
             "test": [
              0.6376156803,
              0.152438604
             ]
            },
            {
             "iteration": 225,
             "learn": [
              0.1344716291
             ],
             "passed_time": 9.327803625,
             "remaining_time": 73.21913111,
             "test": [
              0.6376156803,
              0.1524388365
             ]
            },
            {
             "iteration": 226,
             "learn": [
              0.1344192656
             ],
             "passed_time": 9.365012114,
             "remaining_time": 73.14610783,
             "test": [
              0.6376156803,
              0.1524390748
             ]
            },
            {
             "iteration": 227,
             "learn": [
              0.1343698567
             ],
             "passed_time": 9.402980997,
             "remaining_time": 73.07930845,
             "test": [
              0.63749962,
              0.1524430844
             ]
            },
            {
             "iteration": 228,
             "learn": [
              0.1343129194
             ],
             "passed_time": 9.441157553,
             "remaining_time": 73.01436693,
             "test": [
              0.63749962,
              0.1524434465
             ]
            },
            {
             "iteration": 229,
             "learn": [
              0.1342615767
             ],
             "passed_time": 9.477844069,
             "remaining_time": 72.93819131,
             "test": [
              0.63749962,
              0.1524436744
             ]
            },
            {
             "iteration": 230,
             "learn": [
              0.1342134423
             ],
             "passed_time": 9.514339455,
             "remaining_time": 72.86089392,
             "test": [
              0.63749962,
              0.1524438719
             ]
            },
            {
             "iteration": 231,
             "learn": [
              0.1341617596
             ],
             "passed_time": 9.551194725,
             "remaining_time": 72.78669084,
             "test": [
              0.63749962,
              0.1524441004
             ]
            },
            {
             "iteration": 232,
             "learn": [
              0.1341111643
             ],
             "passed_time": 9.587510607,
             "remaining_time": 72.70871778,
             "test": [
              0.63749962,
              0.1524443134
             ]
            },
            {
             "iteration": 233,
             "learn": [
              0.1340619566
             ],
             "passed_time": 9.624414337,
             "remaining_time": 72.63553726,
             "test": [
              0.6374885667,
              0.1524159355
             ]
            },
            {
             "iteration": 234,
             "learn": [
              0.134015093
             ],
             "passed_time": 9.660971725,
             "remaining_time": 72.56006423,
             "test": [
              0.6374885667,
              0.1524161203
             ]
            },
            {
             "iteration": 235,
             "learn": [
              0.133963889
             ],
             "passed_time": 9.699385911,
             "remaining_time": 72.49879978,
             "test": [
              0.6374388266,
              0.1524177299
             ]
            },
            {
             "iteration": 236,
             "learn": [
              0.1339136098
             ],
             "passed_time": 9.736422979,
             "remaining_time": 72.42748401,
             "test": [
              0.6373780331,
              0.1524212638
             ]
            },
            {
             "iteration": 237,
             "learn": [
              0.1338588605
             ],
             "passed_time": 9.773212164,
             "remaining_time": 72.35462115,
             "test": [
              0.6373780331,
              0.1524215092
             ]
            },
            {
             "iteration": 238,
             "learn": [
              0.133806342
             ],
             "passed_time": 9.81085408,
             "remaining_time": 72.28834325,
             "test": [
              0.6373752698,
              0.1524307147
             ]
            },
            {
             "iteration": 239,
             "learn": [
              0.1337546534
             ],
             "passed_time": 9.847781853,
             "remaining_time": 72.21706692,
             "test": [
              0.6373752698,
              0.1524309388
             ]
            },
            {
             "iteration": 240,
             "learn": [
              0.1337057665
             ],
             "passed_time": 9.886081495,
             "remaining_time": 72.15608859,
             "test": [
              0.6373642164,
              0.1524318961
             ]
            },
            {
             "iteration": 241,
             "learn": [
              0.133649671
             ],
             "passed_time": 9.923473322,
             "remaining_time": 72.08870289,
             "test": [
              0.6373642164,
              0.1524323284
             ]
            },
            {
             "iteration": 242,
             "learn": [
              0.1335954089
             ],
             "passed_time": 9.961597709,
             "remaining_time": 72.0268608,
             "test": [
              0.6373642164,
              0.1524326597
             ]
            },
            {
             "iteration": 243,
             "learn": [
              0.1334338311
             ],
             "passed_time": 10.00290201,
             "remaining_time": 71.98809811,
             "test": [
              0.6372288128,
              0.1524289657
             ]
            },
            {
             "iteration": 244,
             "learn": [
              0.13338159
             ],
             "passed_time": 10.04375272,
             "remaining_time": 71.94606544,
             "test": [
              0.6372288128,
              0.1524291339
             ]
            },
            {
             "iteration": 245,
             "learn": [
              0.133333909
             ],
             "passed_time": 10.08140693,
             "remaining_time": 71.88125106,
             "test": [
              0.6372288128,
              0.1524292755
             ]
            },
            {
             "iteration": 246,
             "learn": [
              0.1332848721
             ],
             "passed_time": 10.11937115,
             "remaining_time": 71.81885678,
             "test": [
              0.6372122328,
              0.1524302144
             ]
            },
            {
             "iteration": 247,
             "learn": [
              0.1332347752
             ],
             "passed_time": 10.15651105,
             "remaining_time": 71.75083615,
             "test": [
              0.6372122328,
              0.1524303737
             ]
            },
            {
             "iteration": 248,
             "learn": [
              0.1331825865
             ],
             "passed_time": 10.19428389,
             "remaining_time": 71.68751442,
             "test": [
              0.6372122328,
              0.1524305486
             ]
            },
            {
             "iteration": 249,
             "learn": [
              0.1331315729
             ],
             "passed_time": 10.23220448,
             "remaining_time": 71.62543136,
             "test": [
              0.6372122328,
              0.1524307142
             ]
            },
            {
             "iteration": 250,
             "learn": [
              0.1330796089
             ],
             "passed_time": 10.26927476,
             "remaining_time": 71.55761573,
             "test": [
              0.637165256,
              0.1524329547
             ]
            },
            {
             "iteration": 251,
             "learn": [
              0.1330278733
             ],
             "passed_time": 10.30752736,
             "remaining_time": 71.49824531,
             "test": [
              0.637165256,
              0.152433128
             ]
            },
            {
             "iteration": 252,
             "learn": [
              0.1329749847
             ],
             "passed_time": 10.34440729,
             "remaining_time": 71.42956341,
             "test": [
              0.637165256,
              0.1524333071
             ]
            },
            {
             "iteration": 253,
             "learn": [
              0.1329232173
             ],
             "passed_time": 10.38795183,
             "remaining_time": 71.40694444,
             "test": [
              0.637165256,
              0.1524334797
             ]
            },
            {
             "iteration": 254,
             "learn": [
              0.1328710627
             ],
             "passed_time": 10.43246976,
             "remaining_time": 71.39082246,
             "test": [
              0.637165256,
              0.1524336537
             ]
            },
            {
             "iteration": 255,
             "learn": [
              0.1328213852
             ],
             "passed_time": 10.48109967,
             "remaining_time": 71.40249153,
             "test": [
              0.637165256,
              0.1524338134
             ]
            },
            {
             "iteration": 256,
             "learn": [
              0.132769823
             ],
             "passed_time": 10.52894811,
             "remaining_time": 71.40839128,
             "test": [
              0.637165256,
              0.1524339865
             ]
            },
            {
             "iteration": 257,
             "learn": [
              0.1327179965
             ],
             "passed_time": 10.57288678,
             "remaining_time": 71.38747585,
             "test": [
              0.637165256,
              0.1524341621
             ]
            },
            {
             "iteration": 258,
             "learn": [
              0.1326681623
             ],
             "passed_time": 10.61453455,
             "remaining_time": 71.35098322,
             "test": [
              0.637165256,
              0.1524343232
             ]
            },
            {
             "iteration": 259,
             "learn": [
              0.1326192611
             ],
             "passed_time": 10.65640237,
             "remaining_time": 71.31592357,
             "test": [
              0.637165256,
              0.1524344824
             ]
            },
            {
             "iteration": 260,
             "learn": [
              0.1325672988
             ],
             "passed_time": 10.69441321,
             "remaining_time": 71.25511334,
             "test": [
              0.6371182792,
              0.1524358515
             ]
            },
            {
             "iteration": 261,
             "learn": [
              0.1325170416
             ],
             "passed_time": 10.73214851,
             "remaining_time": 71.19264927,
             "test": [
              0.6371182792,
              0.1524360208
             ]
            },
            {
             "iteration": 262,
             "learn": [
              0.1324651336
             ],
             "passed_time": 10.77078145,
             "remaining_time": 71.13630183,
             "test": [
              0.6371182792,
              0.1524362002
             ]
            },
            {
             "iteration": 263,
             "learn": [
              0.1324146608
             ],
             "passed_time": 10.80958252,
             "remaining_time": 71.08119417,
             "test": [
              0.6370436691,
              0.1524397908
             ]
            },
            {
             "iteration": 264,
             "learn": [
              0.1323633431
             ],
             "passed_time": 10.84695893,
             "remaining_time": 71.01688207,
             "test": [
              0.637018799,
              0.1524425334
             ]
            },
            {
             "iteration": 265,
             "learn": [
              0.1323139653
             ],
             "passed_time": 10.88367928,
             "remaining_time": 70.94849578,
             "test": [
              0.6369856389,
              0.1524436099
             ]
            },
            {
             "iteration": 266,
             "learn": [
              0.1322630071
             ],
             "passed_time": 10.92043772,
             "remaining_time": 70.88059388,
             "test": [
              0.6369856389,
              0.1524437866
             ]
            },
            {
             "iteration": 267,
             "learn": [
              0.132212575
             ],
             "passed_time": 10.95750249,
             "remaining_time": 70.81490418,
             "test": [
              0.6369635322,
              0.1524457144
             ]
            },
            {
             "iteration": 268,
             "learn": [
              0.1321591704
             ],
             "passed_time": 10.99435264,
             "remaining_time": 70.74804617,
             "test": [
              0.6369635322,
              0.1524459054
             ]
            },
            {
             "iteration": 269,
             "learn": [
              0.1321065112
             ],
             "passed_time": 11.03233261,
             "remaining_time": 70.68864967,
             "test": [
              0.6369635322,
              0.1524460904
             ]
            },
            {
             "iteration": 270,
             "learn": [
              0.1320548269
             ],
             "passed_time": 11.07065721,
             "remaining_time": 70.63161001,
             "test": [
              0.6369635322,
              0.1524462689
             ]
            },
            {
             "iteration": 271,
             "learn": [
              0.1320039725
             ],
             "passed_time": 11.1098365,
             "remaining_time": 70.58013776,
             "test": [
              0.6369635322,
              0.1524464431
             ]
            },
            {
             "iteration": 272,
             "learn": [
              0.1319511399
             ],
             "passed_time": 11.14610242,
             "remaining_time": 70.51032557,
             "test": [
              0.6369635322,
              0.1524466293
             ]
            },
            {
             "iteration": 273,
             "learn": [
              0.1318986071
             ],
             "passed_time": 11.18223117,
             "remaining_time": 70.43989417,
             "test": [
              0.6369635322,
              0.1524468134
             ]
            },
            {
             "iteration": 274,
             "learn": [
              0.1318477031
             ],
             "passed_time": 11.22335918,
             "remaining_time": 70.40107122,
             "test": [
              0.6369055021,
              0.1524483366
             ]
            },
            {
             "iteration": 275,
             "learn": [
              0.1317957251
             ],
             "passed_time": 11.25985119,
             "remaining_time": 70.33327338,
             "test": [
              0.6369055021,
              0.1524485164
             ]
            },
            {
             "iteration": 276,
             "learn": [
              0.1317481965
             ],
             "passed_time": 11.29664054,
             "remaining_time": 70.26755111,
             "test": [
              0.636864052,
              0.1524496486
             ]
            },
            {
             "iteration": 277,
             "learn": [
              0.1315677351
             ],
             "passed_time": 11.33581442,
             "remaining_time": 70.21680729,
             "test": [
              0.6365020545,
              0.1524201114
             ]
            },
            {
             "iteration": 278,
             "learn": [
              0.131512814
             ],
             "passed_time": 11.37315924,
             "remaining_time": 70.154864,
             "test": [
              0.6365020545,
              0.1524204178
             ]
            },
            {
             "iteration": 279,
             "learn": [
              0.1314554337
             ],
             "passed_time": 11.41161501,
             "remaining_time": 70.0999208,
             "test": [
              0.6365131079,
              0.1524308785
             ]
            },
            {
             "iteration": 280,
             "learn": [
              0.1314051638
             ],
             "passed_time": 11.44841162,
             "remaining_time": 70.03494508,
             "test": [
              0.6365131079,
              0.152431014
             ]
            },
            {
             "iteration": 281,
             "learn": [
              0.131354913
             ],
             "passed_time": 11.48695285,
             "remaining_time": 69.98079785,
             "test": [
              0.6364357344,
              0.1524334358
             ]
            },
            {
             "iteration": 282,
             "learn": [
              0.1313051692
             ],
             "passed_time": 11.52319277,
             "remaining_time": 69.91279853,
             "test": [
              0.6363417809,
              0.1524362517
             ]
            },
            {
             "iteration": 283,
             "learn": [
              0.1312529496
             ],
             "passed_time": 11.56049101,
             "remaining_time": 69.85141751,
             "test": [
              0.6363417809,
              0.1524364085
             ]
            },
            {
             "iteration": 284,
             "learn": [
              0.1312016613
             ],
             "passed_time": 11.59762112,
             "remaining_time": 69.78919376,
             "test": [
              0.6363417809,
              0.1524365604
             ]
            },
            {
             "iteration": 285,
             "learn": [
              0.1311519067
             ],
             "passed_time": 11.63425247,
             "remaining_time": 69.72415641,
             "test": [
              0.6362809874,
              0.1524403628
             ]
            },
            {
             "iteration": 286,
             "learn": [
              0.1311035888
             ],
             "passed_time": 11.67158142,
             "remaining_time": 69.66348073,
             "test": [
              0.6362284839,
              0.1524417802
             ]
            },
            {
             "iteration": 287,
             "learn": [
              0.1310539767
             ],
             "passed_time": 11.7098996,
             "remaining_time": 69.60884764,
             "test": [
              0.6362284839,
              0.1524419302
             ]
            },
            {
             "iteration": 288,
             "learn": [
              0.1310022129
             ],
             "passed_time": 11.7512797,
             "remaining_time": 69.57245526,
             "test": [
              0.6362284839,
              0.1524420938
             ]
            },
            {
             "iteration": 289,
             "learn": [
              0.1308262596
             ],
             "passed_time": 11.7963869,
             "remaining_time": 69.55800552,
             "test": [
              0.6370132723,
              0.1523830732
             ]
            },
            {
             "iteration": 290,
             "learn": [
              0.1307754651
             ],
             "passed_time": 11.84204703,
             "remaining_time": 69.54659235,
             "test": [
              0.6370132723,
              0.1523831542
             ]
            },
            {
             "iteration": 291,
             "learn": [
              0.1307244569
             ],
             "passed_time": 11.89457797,
             "remaining_time": 69.57513413,
             "test": [
              0.6369220821,
              0.1523857468
             ]
            },
            {
             "iteration": 292,
             "learn": [
              0.130672163
             ],
             "passed_time": 11.94916079,
             "remaining_time": 69.61507669,
             "test": [
              0.6369055021,
              0.1523875963
             ]
            },
            {
             "iteration": 293,
             "learn": [
              0.130623055
             ],
             "passed_time": 12.00373924,
             "remaining_time": 69.65435083,
             "test": [
              0.6369055021,
              0.1523876774
             ]
            },
            {
             "iteration": 294,
             "learn": [
              0.1305727406
             ],
             "passed_time": 12.05300609,
             "remaining_time": 69.66228944,
             "test": [
              0.6368668153,
              0.1523888073
             ]
            },
            {
             "iteration": 295,
             "learn": [
              0.1305214778
             ],
             "passed_time": 12.09463161,
             "remaining_time": 69.62585226,
             "test": [
              0.6367286484,
              0.1523927274
             ]
            },
            {
             "iteration": 296,
             "learn": [
              0.1304704937
             ],
             "passed_time": 12.14061333,
             "remaining_time": 69.61435862,
             "test": [
              0.6367286484,
              0.1523928565
             ]
            },
            {
             "iteration": 297,
             "learn": [
              0.1304235711
             ],
             "passed_time": 12.18289704,
             "remaining_time": 69.58151263,
             "test": [
              0.6366678549,
              0.1523949795
             ]
            },
            {
             "iteration": 298,
             "learn": [
              0.1303714692
             ],
             "passed_time": 12.2236735,
             "remaining_time": 69.54002884,
             "test": [
              0.6366678549,
              0.1523951225
             ]
            },
            {
             "iteration": 299,
             "learn": [
              0.130321922
             ],
             "passed_time": 12.26611909,
             "remaining_time": 69.50800815,
             "test": [
              0.6366678549,
              0.152395253
             ]
            },
            {
             "iteration": 300,
             "learn": [
              0.1302717489
             ],
             "passed_time": 12.3078224,
             "remaining_time": 69.47172844,
             "test": [
              0.6366678549,
              0.1523953895
             ]
            },
            {
             "iteration": 301,
             "learn": [
              0.1302212763
             ],
             "passed_time": 12.34690323,
             "remaining_time": 69.42066783,
             "test": [
              0.6366402215,
              0.1523963659
             ]
            },
            {
             "iteration": 302,
             "learn": [
              0.1301676509
             ],
             "passed_time": 12.38770644,
             "remaining_time": 69.37933276,
             "test": [
              0.6365131079,
              0.1524001851
             ]
            },
            {
             "iteration": 303,
             "learn": [
              0.1300392657
             ],
             "passed_time": 12.43156615,
             "remaining_time": 69.35505324,
             "test": [
              0.6367562818,
              0.1523343771
             ]
            },
            {
             "iteration": 304,
             "learn": [
              0.1299915156
             ],
             "passed_time": 12.47304946,
             "remaining_time": 69.31743878,
             "test": [
              0.6367314117,
              0.1523353299
             ]
            },
            {
             "iteration": 305,
             "learn": [
              0.1299407865
             ],
             "passed_time": 12.5130246,
             "remaining_time": 69.27144992,
             "test": [
              0.6367314117,
              0.1523354626
             ]
            },
            {
             "iteration": 306,
             "learn": [
              0.1298951739
             ],
             "passed_time": 12.55877932,
             "remaining_time": 69.25737258,
             "test": [
              0.6366844349,
              0.1523366686
             ]
            },
            {
             "iteration": 307,
             "learn": [
              0.1298448692
             ],
             "passed_time": 12.60251681,
             "remaining_time": 69.23200794,
             "test": [
              0.6366844349,
              0.1523368079
             ]
            },
            {
             "iteration": 308,
             "learn": [
              0.1297938511
             ],
             "passed_time": 12.64078249,
             "remaining_time": 69.17657993,
             "test": [
              0.6372426295,
              0.1523090271
             ]
            },
            {
             "iteration": 309,
             "learn": [
              0.1297448915
             ],
             "passed_time": 12.67933994,
             "remaining_time": 69.1228532,
             "test": [
              0.6372067061,
              0.1523107747
             ]
            },
            {
             "iteration": 310,
             "learn": [
              0.1296943038
             ],
             "passed_time": 12.7166458,
             "remaining_time": 69.06242688,
             "test": [
              0.6372067061,
              0.152310925
             ]
            },
            {
             "iteration": 311,
             "learn": [
              0.1296439566
             ],
             "passed_time": 12.75546612,
             "remaining_time": 69.01034236,
             "test": [
              0.6372067061,
              0.1523110758
             ]
            },
            {
             "iteration": 312,
             "learn": [
              0.1295949168
             ],
             "passed_time": 12.79316858,
             "remaining_time": 68.95231757,
             "test": [
              0.6371072259,
              0.1523158377
             ]
            },
            {
             "iteration": 313,
             "learn": [
              0.1295460646
             ],
             "passed_time": 12.82994652,
             "remaining_time": 68.88945806,
             "test": [
              0.6371072259,
              0.1523159834
             ]
            },
            {
             "iteration": 314,
             "learn": [
              0.1295009268
             ],
             "passed_time": 12.86628969,
             "remaining_time": 68.82443851,
             "test": [
              0.6370464324,
              0.1523191892
             ]
            },
            {
             "iteration": 315,
             "learn": [
              0.1294493806
             ],
             "passed_time": 12.90261362,
             "remaining_time": 68.75949788,
             "test": [
              0.6370464324,
              0.1523193608
             ]
            },
            {
             "iteration": 316,
             "learn": [
              0.1294011068
             ],
             "passed_time": 12.94012207,
             "remaining_time": 68.70102664,
             "test": [
              0.6370464324,
              0.1523195133
             ]
            },
            {
             "iteration": 317,
             "learn": [
              0.1293511639
             ],
             "passed_time": 12.97717085,
             "remaining_time": 68.64025586,
             "test": [
              0.6370243257,
              0.1523212488
             ]
            },
            {
             "iteration": 318,
             "learn": [
              0.1293039344
             ],
             "passed_time": 13.01516694,
             "remaining_time": 68.58462578,
             "test": [
              0.6370243257,
              0.152321401
             ]
            },
            {
             "iteration": 319,
             "learn": [
              0.1292569959
             ],
             "passed_time": 13.05368371,
             "remaining_time": 68.53183948,
             "test": [
              0.6370132723,
              0.1523232924
             ]
            },
            {
             "iteration": 320,
             "learn": [
              0.1292085274
             ],
             "passed_time": 13.09606563,
             "remaining_time": 68.49935885,
             "test": [
              0.6370132723,
              0.1523234591
             ]
            },
            {
             "iteration": 321,
             "learn": [
              0.1291592833
             ],
             "passed_time": 13.13822912,
             "remaining_time": 68.46567848,
             "test": [
              0.6369524789,
              0.1523266424
             ]
            },
            {
             "iteration": 322,
             "learn": [
              0.1291083913
             ],
             "passed_time": 13.18055433,
             "remaining_time": 68.43278518,
             "test": [
              0.6369524789,
              0.1523268271
             ]
            },
            {
             "iteration": 323,
             "learn": [
              0.1290599004
             ],
             "passed_time": 13.22782621,
             "remaining_time": 68.42542201,
             "test": [
              0.6369082654,
              0.15232974
             ]
            },
            {
             "iteration": 324,
             "learn": [
              0.1289672697
             ],
             "passed_time": 13.28186086,
             "remaining_time": 68.45266748,
             "test": [
              0.6371873627,
              0.1523372308
             ]
            },
            {
             "iteration": 325,
             "learn": [
              0.1289176784
             ],
             "passed_time": 13.32938787,
             "remaining_time": 68.44599782,
             "test": [
              0.6371873627,
              0.1523373957
             ]
            },
            {
             "iteration": 326,
             "learn": [
              0.128869172
             ],
             "passed_time": 13.36695103,
             "remaining_time": 68.38810115,
             "test": [
              0.6371873627,
              0.1523375544
             ]
            },
            {
             "iteration": 327,
             "learn": [
              0.1288195483
             ],
             "passed_time": 13.40350067,
             "remaining_time": 68.32516195,
             "test": [
              0.6371873627,
              0.1523377244
             ]
            },
            {
             "iteration": 328,
             "learn": [
              0.128774519
             ],
             "passed_time": 13.44014114,
             "remaining_time": 68.26284453,
             "test": [
              0.6371403859,
              0.1523390414
             ]
            },
            {
             "iteration": 329,
             "learn": [
              0.1287251601
             ],
             "passed_time": 13.47791044,
             "remaining_time": 68.20639524,
             "test": [
              0.6371403859,
              0.1523392171
             ]
            },
            {
             "iteration": 330,
             "learn": [
              0.1286778327
             ],
             "passed_time": 13.51472742,
             "remaining_time": 68.14525697,
             "test": [
              0.6371403859,
              0.1523393805
             ]
            },
            {
             "iteration": 331,
             "learn": [
              0.1286311404
             ],
             "passed_time": 13.5515826,
             "remaining_time": 68.08445717,
             "test": [
              0.6371403859,
              0.152339545
             ]
            },
            {
             "iteration": 332,
             "learn": [
              0.1285804977
             ],
             "passed_time": 13.58835687,
             "remaining_time": 68.02339611,
             "test": [
              0.6371403859,
              0.1523397371
             ]
            },
            {
             "iteration": 333,
             "learn": [
              0.1285331633
             ],
             "passed_time": 13.62627463,
             "remaining_time": 67.96818422,
             "test": [
              0.6371072259,
              0.1523411544
             ]
            },
            {
             "iteration": 334,
             "learn": [
              0.1284826784
             ],
             "passed_time": 13.66347003,
             "remaining_time": 67.90948539,
             "test": [
              0.6371072259,
              0.1523413491
             ]
            },
            {
             "iteration": 335,
             "learn": [
              0.1284322249
             ],
             "passed_time": 13.70160813,
             "remaining_time": 67.85558311,
             "test": [
              0.6370961725,
              0.1523436341
             ]
            },
            {
             "iteration": 336,
             "learn": [
              0.1283843403
             ],
             "passed_time": 13.73820523,
             "remaining_time": 67.79417,
             "test": [
              0.6370823558,
              0.1523454998
             ]
            },
            {
             "iteration": 337,
             "learn": [
              0.1283399365
             ],
             "passed_time": 13.77648566,
             "remaining_time": 67.74118096,
             "test": [
              0.6370657758,
              0.1523465569
             ]
            },
            {
             "iteration": 338,
             "learn": [
              0.1282931169
             ],
             "passed_time": 13.8195288,
             "remaining_time": 67.71161458,
             "test": [
              0.6370657758,
              0.1523467364
             ]
            },
            {
             "iteration": 339,
             "learn": [
              0.1282463207
             ],
             "passed_time": 13.87248796,
             "remaining_time": 67.73038239,
             "test": [
              0.6370132723,
              0.1523480729
             ]
            },
            {
             "iteration": 340,
             "learn": [
              0.1281977681
             ],
             "passed_time": 13.9198448,
             "remaining_time": 67.72147368,
             "test": [
              0.6370132723,
              0.1523482698
             ]
            },
            {
             "iteration": 341,
             "learn": [
              0.1281499422
             ],
             "passed_time": 13.97053902,
             "remaining_time": 67.72851959,
             "test": [
              0.6369441888,
              0.1523510803
             ]
            },
            {
             "iteration": 342,
             "learn": [
              0.1279673284
             ],
             "passed_time": 14.01609911,
             "remaining_time": 67.7104263,
             "test": [
              0.6366153515,
              0.1523321003
             ]
            },
            {
             "iteration": 343,
             "learn": [
              0.1279185498
             ],
             "passed_time": 14.05870124,
             "remaining_time": 67.67793387,
             "test": [
              0.6366153515,
              0.1523321998
             ]
            },
            {
             "iteration": 344,
             "learn": [
              0.1278706388
             ],
             "passed_time": 14.09599681,
             "remaining_time": 67.61992674,
             "test": [
              0.636554558,
              0.1523351633
             ]
            },
            {
             "iteration": 345,
             "learn": [
              0.1278241623
             ],
             "passed_time": 14.13330039,
             "remaining_time": 67.56207757,
             "test": [
              0.636554558,
              0.152335258
             ]
            },
            {
             "iteration": 346,
             "learn": [
              0.1277753651
             ],
             "passed_time": 14.17485262,
             "remaining_time": 67.52458609,
             "test": [
              0.6365435046,
              0.1523374749
             ]
            },
            {
             "iteration": 347,
             "learn": [
              0.1277275113
             ],
             "passed_time": 14.21150134,
             "remaining_time": 67.46379371,
             "test": [
              0.6365435046,
              0.1523375931
             ]
            },
            {
             "iteration": 348,
             "learn": [
              0.1276774377
             ],
             "passed_time": 14.24894246,
             "remaining_time": 67.40688825,
             "test": [
              0.6365435046,
              0.1523377301
             ]
            },
            {
             "iteration": 349,
             "learn": [
              0.1276275631
             ],
             "passed_time": 14.28557747,
             "remaining_time": 67.3462938,
             "test": [
              0.6365435046,
              0.1523378694
             ]
            },
            {
             "iteration": 350,
             "learn": [
              0.1275801115
             ],
             "passed_time": 14.32268287,
             "remaining_time": 67.28804576,
             "test": [
              0.6365435046,
              0.1523379975
             ]
            },
            {
             "iteration": 351,
             "learn": [
              0.1275316917
             ],
             "passed_time": 14.35975815,
             "remaining_time": 67.2297768,
             "test": [
              0.6364688945,
              0.1523411501
             ]
            },
            {
             "iteration": 352,
             "learn": [
              0.1273848749
             ],
             "passed_time": 14.39943062,
             "remaining_time": 67.18374571,
             "test": [
              0.6354381689,
              0.152345941
             ]
            },
            {
             "iteration": 353,
             "learn": [
              0.1273350556
             ],
             "passed_time": 14.43766755,
             "remaining_time": 67.13107569,
             "test": [
              0.6354381689,
              0.1523460418
             ]
            },
            {
             "iteration": 354,
             "learn": [
              0.127289945
             ],
             "passed_time": 14.47649259,
             "remaining_time": 67.08121212,
             "test": [
              0.6354188255,
              0.1523492379
             ]
            },
            {
             "iteration": 355,
             "learn": [
              0.1272414849
             ],
             "passed_time": 14.51680141,
             "remaining_time": 67.03826267,
             "test": [
              0.6354188255,
              0.152349344
             ]
            },
            {
             "iteration": 356,
             "learn": [
              0.127192784
             ],
             "passed_time": 14.55640512,
             "remaining_time": 66.99208297,
             "test": [
              0.6354188255,
              0.1523494577
             ]
            },
            {
             "iteration": 357,
             "learn": [
              0.127143077
             ],
             "passed_time": 14.59570925,
             "remaining_time": 66.9445659,
             "test": [
              0.6354188255,
              0.1523495831
             ]
            },
            {
             "iteration": 358,
             "learn": [
              0.1270934058
             ],
             "passed_time": 14.63470254,
             "remaining_time": 66.89567371,
             "test": [
              0.6353967188,
              0.1523507962
             ]
            },
            {
             "iteration": 359,
             "learn": [
              0.1269669814
             ],
             "passed_time": 14.67365124,
             "remaining_time": 66.84663342,
             "test": [
              0.6350982782,
              0.1523262155
             ]
            },
            {
             "iteration": 360,
             "learn": [
              0.126918579
             ],
             "passed_time": 14.71136007,
             "remaining_time": 66.79201983,
             "test": [
              0.6350982782,
              0.1523262976
             ]
            },
            {
             "iteration": 361,
             "learn": [
              0.1268717424
             ],
             "passed_time": 14.74852223,
             "remaining_time": 66.73502599,
             "test": [
              0.6350982782,
              0.152326376
             ]
            },
            {
             "iteration": 362,
             "learn": [
              0.1268234726
             ],
             "passed_time": 14.78727438,
             "remaining_time": 66.68531174,
             "test": [
              0.6350982782,
              0.1523264721
             ]
            },
            {
             "iteration": 363,
             "learn": [
              0.1267749898
             ],
             "passed_time": 14.82439649,
             "remaining_time": 66.62833149,
             "test": [
              0.6350623548,
              0.1523279213
             ]
            },
            {
             "iteration": 364,
             "learn": [
              0.1267266127
             ],
             "passed_time": 14.86334449,
             "remaining_time": 66.57963899,
             "test": [
              0.6350623548,
              0.1523280311
             ]
            },
            {
             "iteration": 365,
             "learn": [
              0.1266784193
             ],
             "passed_time": 14.90141104,
             "remaining_time": 66.52706458,
             "test": [
              0.6350623548,
              0.152328145
             ]
            },
            {
             "iteration": 366,
             "learn": [
              0.126616878
             ],
             "passed_time": 14.94142627,
             "remaining_time": 66.48324004,
             "test": [
              0.6348247076,
              0.1523383601
             ]
            },
            {
             "iteration": 367,
             "learn": [
              0.1264856249
             ],
             "passed_time": 14.98108528,
             "remaining_time": 66.43785645,
             "test": [
              0.6342361163,
              0.1523280005
             ]
            },
            {
             "iteration": 368,
             "learn": [
              0.1264362153
             ],
             "passed_time": 15.01894995,
             "remaining_time": 66.38457282,
             "test": [
              0.6342361163,
              0.1523280852
             ]
            },
            {
             "iteration": 369,
             "learn": [
              0.1263907368
             ],
             "passed_time": 15.05833196,
             "remaining_time": 66.33805699,
             "test": [
              0.634103476,
              0.1523322586
             ]
            },
            {
             "iteration": 370,
             "learn": [
              0.1263428494
             ],
             "passed_time": 15.09538477,
             "remaining_time": 66.28135255,
             "test": [
              0.634103476,
              0.1523323485
             ]
            },
            {
             "iteration": 371,
             "learn": [
              0.1262935053
             ],
             "passed_time": 15.1333782,
             "remaining_time": 66.22887018,
             "test": [
              0.634103476,
              0.1523324555
             ]
            },
            {
             "iteration": 372,
             "learn": [
              0.1262441505
             ],
             "passed_time": 15.17084253,
             "remaining_time": 66.17415762,
             "test": [
              0.6340979493,
              0.1523348197
             ]
            },
            {
             "iteration": 373,
             "learn": [
              0.1261974464
             ],
             "passed_time": 15.21198637,
             "remaining_time": 66.13553433,
             "test": [
              0.6340620259,
              0.1523380226
             ]
            },
            {
             "iteration": 374,
             "learn": [
              0.1261482469
             ],
             "passed_time": 15.25012305,
             "remaining_time": 66.08386655,
             "test": [
              0.6340316292,
              0.1523390852
             ]
            },
            {
             "iteration": 375,
             "learn": [
              0.1261001678
             ],
             "passed_time": 15.28957118,
             "remaining_time": 66.0379351,
             "test": [
              0.6340316292,
              0.1523392074
             ]
            },
            {
             "iteration": 376,
             "learn": [
              0.1260533036
             ],
             "passed_time": 15.32734098,
             "remaining_time": 65.98481274,
             "test": [
              0.6339846524,
              0.1523411178
             ]
            },
            {
             "iteration": 377,
             "learn": [
              0.1260041758
             ],
             "passed_time": 15.36525357,
             "remaining_time": 65.93238435,
             "test": [
              0.6339846524,
              0.1523412584
             ]
            },
            {
             "iteration": 378,
             "learn": [
              0.1259551128
             ],
             "passed_time": 15.40398501,
             "remaining_time": 65.88353484,
             "test": [
              0.6339846524,
              0.1523414032
             ]
            },
            {
             "iteration": 379,
             "learn": [
              0.1259060899
             ],
             "passed_time": 15.44136455,
             "remaining_time": 65.82897517,
             "test": [
              0.6339846524,
              0.1523415519
             ]
            },
            {
             "iteration": 380,
             "learn": [
              0.1258571001
             ],
             "passed_time": 15.47863066,
             "remaining_time": 65.77402373,
             "test": [
              0.6339846524,
              0.1523417044
             ]
            },
            {
             "iteration": 381,
             "learn": [
              0.1258101309
             ],
             "passed_time": 15.51559918,
             "remaining_time": 65.7179044,
             "test": [
              0.6339791257,
              0.1523441401
             ]
            },
            {
             "iteration": 382,
             "learn": [
              0.1257612153
             ],
             "passed_time": 15.55274217,
             "remaining_time": 65.66262165,
             "test": [
              0.6339791257,
              0.1523443011
             ]
            },
            {
             "iteration": 383,
             "learn": [
              0.1257146466
             ],
             "passed_time": 15.59096827,
             "remaining_time": 65.61199147,
             "test": [
              0.633957019,
              0.1523458469
             ]
            },
            {
             "iteration": 384,
             "learn": [
              0.1256658051
             ],
             "passed_time": 15.6286106,
             "remaining_time": 65.55897694,
             "test": [
              0.633957019,
              0.1523460166
             ]
            },
            {
             "iteration": 385,
             "learn": [
              0.125622172
             ],
             "passed_time": 15.66564109,
             "remaining_time": 65.50348371,
             "test": [
              0.6338906989,
              0.1523489429
             ]
            },
            {
             "iteration": 386,
             "learn": [
              0.1255747792
             ],
             "passed_time": 15.70375622,
             "remaining_time": 65.45260669,
             "test": [
              0.6338879355,
              0.152351021
             ]
            },
            {
             "iteration": 387,
             "learn": [
              0.1255274293
             ],
             "passed_time": 15.7419389,
             "remaining_time": 65.40207607,
             "test": [
              0.6338879355,
              0.1523511946
             ]
            },
            {
             "iteration": 388,
             "learn": [
              0.1254799325
             ],
             "passed_time": 15.77855121,
             "remaining_time": 65.3451054,
             "test": [
              0.6338879355,
              0.1523513734
             ]
            },
            {
             "iteration": 389,
             "learn": [
              0.1254325233
             ],
             "passed_time": 15.81518747,
             "remaining_time": 65.28833804,
             "test": [
              0.6338271421,
              0.1523548206
             ]
            },
            {
             "iteration": 390,
             "learn": [
              0.1253839322
             ],
             "passed_time": 15.85226867,
             "remaining_time": 65.23350457,
             "test": [
              0.6338271421,
              0.1523550138
             ]
            },
            {
             "iteration": 391,
             "learn": [
              0.1253376729
             ],
             "passed_time": 15.88899069,
             "remaining_time": 65.17728832,
             "test": [
              0.6338271421,
              0.1523551941
             ]
            },
            {
             "iteration": 392,
             "learn": [
              0.1252916742
             ],
             "passed_time": 15.9256782,
             "remaining_time": 65.1210302,
             "test": [
              0.6338271421,
              0.1523553762
             ]
            },
            {
             "iteration": 393,
             "learn": [
              0.1252450438
             ],
             "passed_time": 15.96252705,
             "remaining_time": 65.06552906,
             "test": [
              0.6338271421,
              0.1523555662
             ]
            },
            {
             "iteration": 394,
             "learn": [
              0.1251965395
             ],
             "passed_time": 15.99962612,
             "remaining_time": 65.01113906,
             "test": [
              0.6338271421,
              0.1523557735
             ]
            },
            {
             "iteration": 395,
             "learn": [
              0.1251499745
             ],
             "passed_time": 16.0370417,
             "remaining_time": 64.9581184,
             "test": [
              0.6337276619,
              0.1523585271
             ]
            },
            {
             "iteration": 396,
             "learn": [
              0.1251015285
             ],
             "passed_time": 16.07371163,
             "remaining_time": 64.90216561,
             "test": [
              0.6336613417,
              0.152361761
             ]
            },
            {
             "iteration": 397,
             "learn": [
              0.1250579799
             ],
             "passed_time": 16.11023956,
             "remaining_time": 64.84573813,
             "test": [
              0.6335867315,
              0.1523641751
             ]
            },
            {
             "iteration": 398,
             "learn": [
              0.125010925
             ],
             "passed_time": 16.14746422,
             "remaining_time": 64.79220604,
             "test": [
              0.6335867315,
              0.152364385
             ]
            },
            {
             "iteration": 399,
             "learn": [
              0.1249625826
             ],
             "passed_time": 16.18435686,
             "remaining_time": 64.73742745,
             "test": [
              0.6335867315,
              0.1523646069
             ]
            },
            {
             "iteration": 400,
             "learn": [
              0.12491426
             ],
             "passed_time": 16.22053545,
             "remaining_time": 64.67989073,
             "test": [
              0.6335867315,
              0.1523648303
             ]
            },
            {
             "iteration": 401,
             "learn": [
              0.1248659567
             ],
             "passed_time": 16.25740872,
             "remaining_time": 64.62522173,
             "test": [
              0.6335867315,
              0.1523650548
             ]
            },
            {
             "iteration": 402,
             "learn": [
              0.1248176933
             ],
             "passed_time": 16.29393215,
             "remaining_time": 64.56925469,
             "test": [
              0.6335867315,
              0.1523652805
             ]
            },
            {
             "iteration": 403,
             "learn": [
              0.1247720392
             ],
             "passed_time": 16.33205016,
             "remaining_time": 64.51968331,
             "test": [
              0.6335867315,
              0.1523654898
             ]
            },
            {
             "iteration": 404,
             "learn": [
              0.1247238187
             ],
             "passed_time": 16.36897802,
             "remaining_time": 64.46548133,
             "test": [
              0.6335867315,
              0.1523657202
             ]
            },
            {
             "iteration": 405,
             "learn": [
              0.1246756635
             ],
             "passed_time": 16.40618371,
             "remaining_time": 64.41245527,
             "test": [
              0.6335756782,
              0.1523679287
             ]
            },
            {
             "iteration": 406,
             "learn": [
              0.1246287746
             ],
             "passed_time": 16.44604627,
             "remaining_time": 64.36990593,
             "test": [
              0.6335756782,
              0.1523681522
             ]
            },
            {
             "iteration": 407,
             "learn": [
              0.124581475
             ],
             "passed_time": 16.48627488,
             "remaining_time": 64.32879807,
             "test": [
              0.6335535715,
              0.1523698251
             ]
            },
            {
             "iteration": 408,
             "learn": [
              0.1245333655
             ],
             "passed_time": 16.52347754,
             "remaining_time": 64.27592362,
             "test": [
              0.6335535715,
              0.1523700609
             ]
            },
            {
             "iteration": 409,
             "learn": [
              0.1244872274
             ],
             "passed_time": 16.56118183,
             "remaining_time": 64.225071,
             "test": [
              0.6335287014,
              0.1523733902
             ]
            },
            {
             "iteration": 410,
             "learn": [
              0.1244428673
             ],
             "passed_time": 16.59984932,
             "remaining_time": 64.17800624,
             "test": [
              0.6334817247,
              0.1523746172
             ]
            },
            {
             "iteration": 411,
             "learn": [
              0.1243969143
             ],
             "passed_time": 16.64095287,
             "remaining_time": 64.14037173,
             "test": [
              0.633467908,
              0.1523758679
             ]
            },
            {
             "iteration": 412,
             "learn": [
              0.1243489426
             ],
             "passed_time": 16.68204387,
             "remaining_time": 64.10267222,
             "test": [
              0.633467908,
              0.1523761133
             ]
            },
            {
             "iteration": 413,
             "learn": [
              0.124218561
             ],
             "passed_time": 16.72785113,
             "remaining_time": 64.0830239,
             "test": [
              0.6333435577,
              0.1523666469
             ]
            },
            {
             "iteration": 414,
             "learn": [
              0.1241705587
             ],
             "passed_time": 16.77656697,
             "remaining_time": 64.07435818,
             "test": [
              0.6332910542,
              0.1523695942
             ]
            },
            {
             "iteration": 415,
             "learn": [
              0.1241226046
             ],
             "passed_time": 16.81955432,
             "remaining_time": 64.04368759,
             "test": [
              0.6332910542,
              0.1523697764
             ]
            },
            {
             "iteration": 416,
             "learn": [
              0.1240761431
             ],
             "passed_time": 16.87687692,
             "remaining_time": 64.06737691,
             "test": [
              0.6332827642,
              0.1523719752
             ]
            },
            {
             "iteration": 417,
             "learn": [
              0.1240234951
             ],
             "passed_time": 16.96054823,
             "remaining_time": 64.19040024,
             "test": [
              0.6332578942,
              0.1523758765
             ]
            },
            {
             "iteration": 418,
             "learn": [
              0.1239770237
             ],
             "passed_time": 17.02292318,
             "remaining_time": 64.23208006,
             "test": [
              0.6332578942,
              0.1523760706
             ]
            },
            {
             "iteration": 419,
             "learn": [
              0.1239291921
             ],
             "passed_time": 17.08062713,
             "remaining_time": 64.25569253,
             "test": [
              0.6332496042,
              0.1523787627
             ]
            },
            {
             "iteration": 420,
             "learn": [
              0.1238834776
             ],
             "passed_time": 17.15057536,
             "remaining_time": 64.32484203,
             "test": [
              0.6331860473,
              0.1523816532
             ]
            },
            {
             "iteration": 421,
             "learn": [
              0.1238357469
             ],
             "passed_time": 17.22695901,
             "remaining_time": 64.4173965,
             "test": [
              0.6331860473,
              0.1523818674
             ]
            },
            {
             "iteration": 422,
             "learn": [
              0.1237879849
             ],
             "passed_time": 17.29149156,
             "remaining_time": 64.46496972,
             "test": [
              0.6331860473,
              0.152382084
             ]
            },
            {
             "iteration": 423,
             "learn": [
              0.1237403185
             ],
             "passed_time": 17.33069598,
             "remaining_time": 64.41786995,
             "test": [
              0.6331860473,
              0.1523823027
             ]
            },
            {
             "iteration": 424,
             "learn": [
              0.123692668
             ],
             "passed_time": 17.369198,
             "remaining_time": 64.36820435,
             "test": [
              0.6331860473,
              0.1523825238
             ]
            },
            {
             "iteration": 425,
             "learn": [
              0.1236450444
             ],
             "passed_time": 17.4059921,
             "remaining_time": 64.31228068,
             "test": [
              0.6331860473,
              0.1523827468
             ]
            },
            {
             "iteration": 426,
             "learn": [
              0.1235987476
             ],
             "passed_time": 17.44432741,
             "remaining_time": 64.26212417,
             "test": [
              0.6331860473,
              0.1523829625
             ]
            },
            {
             "iteration": 427,
             "learn": [
              0.1235534907
             ],
             "passed_time": 17.48056367,
             "remaining_time": 64.20431328,
             "test": [
              0.6331307806,
              0.1523867139
             ]
            },
            {
             "iteration": 428,
             "learn": [
              0.1235060434
             ],
             "passed_time": 17.51897802,
             "remaining_time": 64.15457918,
             "test": [
              0.6331307806,
              0.1523869452
             ]
            },
            {
             "iteration": 429,
             "learn": [
              0.1234585357
             ],
             "passed_time": 17.5564986,
             "remaining_time": 64.10163442,
             "test": [
              0.6331307806,
              0.1523871783
             ]
            },
            {
             "iteration": 430,
             "learn": [
              0.1234165275
             ],
             "passed_time": 17.59261643,
             "remaining_time": 64.04365472,
             "test": [
              0.6330782771,
              0.1523889434
             ]
            },
            {
             "iteration": 431,
             "learn": [
              0.1233691208
             ],
             "passed_time": 17.62936103,
             "remaining_time": 63.98805116,
             "test": [
              0.6330782771,
              0.1523891846
             ]
            },
            {
             "iteration": 432,
             "learn": [
              0.1233265411
             ],
             "passed_time": 17.66718079,
             "remaining_time": 63.93642563,
             "test": [
              0.6328516833,
              0.1523974554
             ]
            },
            {
             "iteration": 433,
             "learn": [
              0.1232791954
             ],
             "passed_time": 17.70655696,
             "remaining_time": 63.89047972,
             "test": [
              0.6328516833,
              0.1523977096
             ]
            },
            {
             "iteration": 434,
             "learn": [
              0.1232316346
             ],
             "passed_time": 17.74372724,
             "remaining_time": 63.83662788,
             "test": [
              0.6327604931,
              0.1524017508
             ]
            },
            {
             "iteration": 435,
             "learn": [
              0.1231843314
             ],
             "passed_time": 17.78256598,
             "remaining_time": 63.7888376,
             "test": [
              0.6327300964,
              0.1524052841
             ]
            },
            {
             "iteration": 436,
             "learn": [
              0.1231383211
             ],
             "passed_time": 17.81957059,
             "remaining_time": 63.73452821,
             "test": [
              0.6327300964,
              0.1524055329
             ]
            },
            {
             "iteration": 437,
             "learn": [
              0.1230923994
             ],
             "passed_time": 17.85741709,
             "remaining_time": 63.68330022,
             "test": [
              0.6326803562,
              0.1524070603
             ]
            },
            {
             "iteration": 438,
             "learn": [
              0.1230463778
             ],
             "passed_time": 17.89561765,
             "remaining_time": 63.63339214,
             "test": [
              0.6326803562,
              0.1524073132
             ]
            },
            {
             "iteration": 439,
             "learn": [
              0.1229991531
             ],
             "passed_time": 17.93608527,
             "remaining_time": 63.59157503,
             "test": [
              0.6326803562,
              0.1524075768
             ]
            },
            {
             "iteration": 440,
             "learn": [
              0.122952006
             ],
             "passed_time": 17.97482175,
             "remaining_time": 63.54364424,
             "test": [
              0.6326803562,
              0.1524078412
             ]
            },
            {
             "iteration": 441,
             "learn": [
              0.1229048682
             ],
             "passed_time": 18.01254463,
             "remaining_time": 63.4921822,
             "test": [
              0.6326803562,
              0.1524081065
             ]
            },
            {
             "iteration": 442,
             "learn": [
              0.122857749
             ],
             "passed_time": 18.04948111,
             "remaining_time": 63.43801826,
             "test": [
              0.6326803562,
              0.1524083724
             ]
            },
            {
             "iteration": 443,
             "learn": [
              0.1228118204
             ],
             "passed_time": 18.08641338,
             "remaining_time": 63.38391717,
             "test": [
              0.6326803562,
              0.1524086309
             ]
            },
            {
             "iteration": 444,
             "learn": [
              0.1227647589
             ],
             "passed_time": 18.12363012,
             "remaining_time": 63.33088728,
             "test": [
              0.6326803562,
              0.1524088991
             ]
            },
            {
             "iteration": 445,
             "learn": [
              0.1227186284
             ],
             "passed_time": 18.16093036,
             "remaining_time": 63.27821924,
             "test": [
              0.6326637762,
              0.1524128841
             ]
            },
            {
             "iteration": 446,
             "learn": [
              0.1226726492
             ],
             "passed_time": 18.19951943,
             "remaining_time": 63.2300977,
             "test": [
              0.6326582495,
              0.1524149949
             ]
            },
            {
             "iteration": 447,
             "learn": [
              0.1226256981
             ],
             "passed_time": 18.23772211,
             "remaining_time": 63.18068017,
             "test": [
              0.6326582495,
              0.1524152665
             ]
            },
            {
             "iteration": 448,
             "learn": [
              0.1225787679
             ],
             "passed_time": 18.27483239,
             "remaining_time": 63.12753905,
             "test": [
              0.6326582495,
              0.1524155386
             ]
            },
            {
             "iteration": 449,
             "learn": [
              0.1225318941
             ],
             "passed_time": 18.31213471,
             "remaining_time": 63.07513067,
             "test": [
              0.6326582495,
              0.1524184529
             ]
            },
            {
             "iteration": 450,
             "learn": [
              0.1224850911
             ],
             "passed_time": 18.35087591,
             "remaining_time": 63.02773122,
             "test": [
              0.6326582495,
              0.152418726
             ]
            },
            {
             "iteration": 451,
             "learn": [
              0.122438246
             ],
             "passed_time": 18.38856507,
             "remaining_time": 62.97676711,
             "test": [
              0.6326582495,
              0.1524189999
             ]
            },
            {
             "iteration": 452,
             "learn": [
              0.1223915022
             ],
             "passed_time": 18.42708243,
             "remaining_time": 62.92868989,
             "test": [
              0.6326582495,
              0.1524192745
             ]
            },
            {
             "iteration": 453,
             "learn": [
              0.12234471
             ],
             "passed_time": 18.46761784,
             "remaining_time": 62.88752683,
             "test": [
              0.6326416695,
              0.1524225546
             ]
            },
            {
             "iteration": 454,
             "learn": [
              0.1223008143
             ],
             "passed_time": 18.5058579,
             "remaining_time": 62.83857242,
             "test": [
              0.6326416695,
              0.1524228104
             ]
            },
            {
             "iteration": 455,
             "learn": [
              0.1222541345
             ],
             "passed_time": 18.5458745,
             "remaining_time": 62.79568033,
             "test": [
              0.6326416695,
              0.152423089
             ]
            },
            {
             "iteration": 456,
             "learn": [
              0.1222074894
             ],
             "passed_time": 18.58299661,
             "remaining_time": 62.74302795,
             "test": [
              0.6326416695,
              0.1524233682
             ]
            },
            {
             "iteration": 457,
             "learn": [
              0.1221644329
             ],
             "passed_time": 18.62089975,
             "remaining_time": 62.69307294,
             "test": [
              0.6325946927,
              0.1524266337
             ]
            },
            {
             "iteration": 458,
             "learn": [
              0.1221178547
             ],
             "passed_time": 18.65850645,
             "remaining_time": 62.64217526,
             "test": [
              0.6325946927,
              0.1524269169
             ]
            },
            {
             "iteration": 459,
             "learn": [
              0.1220712444
             ],
             "passed_time": 18.69876556,
             "remaining_time": 62.60021515,
             "test": [
              0.6325919294,
              0.1524298874
             ]
            },
            {
             "iteration": 460,
             "learn": [
              0.1220258924
             ],
             "passed_time": 18.7353437,
             "remaining_time": 62.54597388,
             "test": [
              0.6325919294,
              0.1524301627
             ]
            },
            {
             "iteration": 461,
             "learn": [
              0.1219806506
             ],
             "passed_time": 18.77267636,
             "remaining_time": 62.49432087,
             "test": [
              0.6325919294,
              0.1524304384
             ]
            },
            {
             "iteration": 462,
             "learn": [
              0.1219341909
             ],
             "passed_time": 18.81082046,
             "remaining_time": 62.44542342,
             "test": [
              0.6325919294,
              0.1524307257
             ]
            },
            {
             "iteration": 463,
             "learn": [
              0.1218876994
             ],
             "passed_time": 18.853353,
             "remaining_time": 62.4110996,
             "test": [
              0.6325919294,
              0.1524310136
             ]
            },
            {
             "iteration": 464,
             "learn": [
              0.1218412868
             ],
             "passed_time": 18.89164731,
             "remaining_time": 62.36274973,
             "test": [
              0.6325919294,
              0.152431302
             ]
            },
            {
             "iteration": 465,
             "learn": [
              0.1217948503
             ],
             "passed_time": 18.92831533,
             "remaining_time": 62.30908951,
             "test": [
              0.6325919294,
              0.152431591
             ]
            },
            {
             "iteration": 466,
             "learn": [
              0.1217485159
             ],
             "passed_time": 18.96605141,
             "remaining_time": 62.25900817,
             "test": [
              0.6325919294,
              0.1524318804
             ]
            },
            {
             "iteration": 467,
             "learn": [
              0.1217021962
             ],
             "passed_time": 19.00422614,
             "remaining_time": 62.21041547,
             "test": [
              0.6325919294,
              0.1524321702
             ]
            },
            {
             "iteration": 468,
             "learn": [
              0.1216571247
             ],
             "passed_time": 19.04177022,
             "remaining_time": 62.15980853,
             "test": [
              0.6325698227,
              0.1524362843
             ]
            },
            {
             "iteration": 469,
             "learn": [
              0.121610867
             ],
             "passed_time": 19.07895512,
             "remaining_time": 62.10808794,
             "test": [
              0.6325698227,
              0.1524365758
             ]
            },
            {
             "iteration": 470,
             "learn": [
              0.1215646665
             ],
             "passed_time": 19.11582856,
             "remaining_time": 62.05541797,
             "test": [
              0.6325698227,
              0.1524368679
             ]
            },
            {
             "iteration": 471,
             "learn": [
              0.1215184883
             ],
             "passed_time": 19.15330397,
             "remaining_time": 62.0047637,
             "test": [
              0.6325698227,
              0.1524371607
             ]
            },
            {
             "iteration": 472,
             "learn": [
              0.1214723497
             ],
             "passed_time": 19.19158544,
             "remaining_time": 61.95676739,
             "test": [
              0.6325698227,
              0.152437454
             ]
            },
            {
             "iteration": 473,
             "learn": [
              0.1214262282
             ],
             "passed_time": 19.2305221,
             "remaining_time": 61.91092137,
             "test": [
              0.6325698227,
              0.152437748
             ]
            },
            {
             "iteration": 474,
             "learn": [
              0.1213813968
             ],
             "passed_time": 19.2677748,
             "remaining_time": 61.85969805,
             "test": [
              0.6325698227,
              0.1524380326
             ]
            },
            {
             "iteration": 475,
             "learn": [
              0.1211109561
             ],
             "passed_time": 19.31207052,
             "remaining_time": 61.83108293,
             "test": [
              0.635015378,
              0.1523479751
             ]
            },
            {
             "iteration": 476,
             "learn": [
              0.1210673502
             ],
             "passed_time": 19.35386146,
             "remaining_time": 61.79440463,
             "test": [
              0.6349739279,
              0.1523509876
             ]
            },
            {
             "iteration": 477,
             "learn": [
              0.1210212932
             ],
             "passed_time": 19.40847291,
             "remaining_time": 61.79852673,
             "test": [
              0.6349739279,
              0.1523510645
             ]
            },
            {
             "iteration": 478,
             "learn": [
              0.1209752431
             ],
             "passed_time": 19.45803148,
             "remaining_time": 61.78635883,
             "test": [
              0.6349739279,
              0.1523511516
             ]
            },
            {
             "iteration": 479,
             "learn": [
              0.1209314715
             ],
             "passed_time": 19.50586488,
             "remaining_time": 61.76857211,
             "test": [
              0.6349656379,
              0.1523527335
             ]
            },
            {
             "iteration": 480,
             "learn": [
              0.1208866681
             ],
             "passed_time": 19.54443182,
             "remaining_time": 61.72139694,
             "test": [
              0.6349462945,
              0.1523545809
             ]
            },
            {
             "iteration": 481,
             "learn": [
              0.120840752
             ],
             "passed_time": 19.58297801,
             "remaining_time": 61.67419215,
             "test": [
              0.6349462945,
              0.1523546992
             ]
            },
            {
             "iteration": 482,
             "learn": [
              0.1207948887
             ],
             "passed_time": 19.62138828,
             "remaining_time": 61.62659631,
             "test": [
              0.6349462945,
              0.1523548259
             ]
            },
            {
             "iteration": 483,
             "learn": [
              0.1207490193
             ],
             "passed_time": 19.65948254,
             "remaining_time": 61.57804861,
             "test": [
              0.6349462945,
              0.1523549609
             ]
            },
            {
             "iteration": 484,
             "learn": [
              0.1207031859
             ],
             "passed_time": 19.69592463,
             "remaining_time": 61.52438313,
             "test": [
              0.6349462945,
              0.1523551037
             ]
            },
            {
             "iteration": 485,
             "learn": [
              0.120658643
             ],
             "passed_time": 19.73277065,
             "remaining_time": 61.47204685,
             "test": [
              0.6349048444,
              0.1523566661
             ]
            },
            {
             "iteration": 486,
             "learn": [
              0.1206145153
             ],
             "passed_time": 19.76920883,
             "remaining_time": 61.4185071,
             "test": [
              0.6348910277,
              0.1523596678
             ]
            },
            {
             "iteration": 487,
             "learn": [
              0.1205687654
             ],
             "passed_time": 19.8057808,
             "remaining_time": 61.36545199,
             "test": [
              0.6348910277,
              0.1523598347
             ]
            },
            {
             "iteration": 488,
             "learn": [
              0.1204244393
             ],
             "passed_time": 19.84734715,
             "remaining_time": 61.32789683,
             "test": [
              0.6350844615,
              0.1523279311
             ]
            },
            {
             "iteration": 489,
             "learn": [
              0.1203787731
             ],
             "passed_time": 19.88441968,
             "remaining_time": 61.27647697,
             "test": [
              0.6350513014,
              0.1523315647
             ]
            },
            {
             "iteration": 490,
             "learn": [
              0.1203331205
             ],
             "passed_time": 19.92121449,
             "remaining_time": 61.22426205,
             "test": [
              0.6350485381,
              0.1523345399
             ]
            },
            {
             "iteration": 491,
             "learn": [
              0.1202874795
             ],
             "passed_time": 19.95782546,
             "remaining_time": 61.17154634,
             "test": [
              0.6350209047,
              0.1523372227
             ]
            },
            {
             "iteration": 492,
             "learn": [
              0.1202418862
             ],
             "passed_time": 19.99410501,
             "remaining_time": 61.11788286,
             "test": [
              0.6350209047,
              0.1523373826
             ]
            },
            {
             "iteration": 493,
             "learn": [
              0.1201963229
             ],
             "passed_time": 20.03071302,
             "remaining_time": 61.06529112,
             "test": [
              0.6350209047,
              0.1523375496
             ]
            },
            {
             "iteration": 494,
             "learn": [
              0.1201508032
             ],
             "passed_time": 20.06795801,
             "remaining_time": 61.01470063,
             "test": [
              0.6350209047,
              0.1523377235
             ]
            },
            {
             "iteration": 495,
             "learn": [
              0.1201053276
             ],
             "passed_time": 20.11094928,
             "remaining_time": 60.98158814,
             "test": [
              0.6350209047,
              0.152337904
             ]
            },
            {
             "iteration": 496,
             "learn": [
              0.1199464608
             ],
             "passed_time": 20.15344878,
             "remaining_time": 60.94694874,
             "test": [
              0.6353580321,
              0.1523264349
             ]
            },
            {
             "iteration": 497,
             "learn": [
              0.1199042347
             ],
             "passed_time": 20.19115083,
             "remaining_time": 60.89780832,
             "test": [
              0.6353580321,
              0.1523265435
             ]
            },
            {
             "iteration": 498,
             "learn": [
              0.1198588223
             ],
             "passed_time": 20.22835998,
             "remaining_time": 60.84723113,
             "test": [
              0.6353580321,
              0.15232669
             ]
            },
            {
             "iteration": 499,
             "learn": [
              0.1198146566
             ],
             "passed_time": 20.26769399,
             "remaining_time": 60.80308196,
             "test": [
              0.6353580321,
              0.1523268346
             ]
            },
            {
             "iteration": 500,
             "learn": [
              0.1197692397
             ],
             "passed_time": 20.31297981,
             "remaining_time": 60.77675996,
             "test": [
              0.6353580321,
              0.1523269981
             ]
            },
            {
             "iteration": 501,
             "learn": [
              0.1196820904
             ],
             "passed_time": 20.36323365,
             "remaining_time": 60.76518726,
             "test": [
              0.6361704538,
              0.1523000672
             ]
            },
            {
             "iteration": 502,
             "learn": [
              0.1196378619
             ],
             "passed_time": 20.40451066,
             "remaining_time": 60.72674445,
             "test": [
              0.6361704538,
              0.1523002432
             ]
            },
            {
             "iteration": 503,
             "learn": [
              0.1195925514
             ],
             "passed_time": 20.44799944,
             "remaining_time": 60.69485548,
             "test": [
              0.6361704538,
              0.1523004335
             ]
            },
            {
             "iteration": 504,
             "learn": [
              0.119548617
             ],
             "passed_time": 20.48759187,
             "remaining_time": 60.65138583,
             "test": [
              0.6361676905,
              0.1523034313
             ]
            },
            {
             "iteration": 505,
             "learn": [
              0.1195033792
             ],
             "passed_time": 20.5252362,
             "remaining_time": 60.60217961,
             "test": [
              0.6361676905,
              0.1523036348
             ]
            },
            {
             "iteration": 506,
             "learn": [
              0.1194581746
             ],
             "passed_time": 20.56346697,
             "remaining_time": 60.55474592,
             "test": [
              0.6361676905,
              0.1523038441
             ]
            },
            {
             "iteration": 507,
             "learn": [
              0.1194130164
             ],
             "passed_time": 20.60013502,
             "remaining_time": 60.50275877,
             "test": [
              0.6361676905,
              0.1523040589
             ]
            },
            {
             "iteration": 508,
             "learn": [
              0.1193691163
             ],
             "passed_time": 20.638531,
             "remaining_time": 60.45589337,
             "test": [
              0.6361676905,
              0.1523042684
             ]
            },
            {
             "iteration": 509,
             "learn": [
              0.119255387
             ],
             "passed_time": 20.67900928,
             "remaining_time": 60.41514477,
             "test": [
              0.6361511104,
              0.1523015937
             ]
            },
            {
             "iteration": 510,
             "learn": [
              0.1192102887
             ],
             "passed_time": 20.71729401,
             "remaining_time": 60.36800544,
             "test": [
              0.6361511104,
              0.1523017988
             ]
            },
            {
             "iteration": 511,
             "learn": [
              0.119165241
             ],
             "passed_time": 20.7574907,
             "remaining_time": 60.32645735,
             "test": [
              0.6361511104,
              0.1523020099
             ]
            },
            {
             "iteration": 512,
             "learn": [
              0.1191202042
             ],
             "passed_time": 20.80151429,
             "remaining_time": 60.2960073,
             "test": [
              0.6361511104,
              0.1523022268
             ]
            },
            {
             "iteration": 513,
             "learn": [
              0.1190752256
             ],
             "passed_time": 20.84339861,
             "remaining_time": 60.25931972,
             "test": [
              0.6361511104,
              0.1523024493
             ]
            },
            {
             "iteration": 514,
             "learn": [
              0.11903024
             ],
             "passed_time": 20.88350042,
             "remaining_time": 60.2174721,
             "test": [
              0.6361317671,
              0.1523068356
             ]
            },
            {
             "iteration": 515,
             "learn": [
              0.1189853208
             ],
             "passed_time": 20.9243483,
             "remaining_time": 60.1777769,
             "test": [
              0.6361317671,
              0.1523070681
             ]
            },
            {
             "iteration": 516,
             "learn": [
              0.1189404392
             ],
             "passed_time": 20.96322771,
             "remaining_time": 60.13243074,
             "test": [
              0.6361317671,
              0.1523073056
             ]
            },
            {
             "iteration": 517,
             "learn": [
              0.1188967067
             ],
             "passed_time": 21.0048709,
             "remaining_time": 60.09501674,
             "test": [
              0.6361317671,
              0.1523075384
             ]
            },
            {
             "iteration": 518,
             "learn": [
              0.1188532336
             ],
             "passed_time": 21.05016177,
             "remaining_time": 60.06799533,
             "test": [
              0.6361317671,
              0.1523077745
             ]
            },
            {
             "iteration": 519,
             "learn": [
              0.118808469
             ],
             "passed_time": 21.09366626,
             "remaining_time": 60.03581935,
             "test": [
              0.6361317671,
              0.1523080278
             ]
            },
            {
             "iteration": 520,
             "learn": [
              0.1187637079
             ],
             "passed_time": 21.1377128,
             "remaining_time": 60.00513864,
             "test": [
              0.6361179504,
              0.1523101755
             ]
            },
            {
             "iteration": 521,
             "learn": [
              0.1187189985
             ],
             "passed_time": 21.18066894,
             "remaining_time": 59.97131934,
             "test": [
              0.6361179504,
              0.1523104372
             ]
            },
            {
             "iteration": 522,
             "learn": [
              0.1186743148
             ],
             "passed_time": 21.22338449,
             "remaining_time": 59.93678565,
             "test": [
              0.6361179504,
              0.1523107029
             ]
            },
            {
             "iteration": 523,
             "learn": [
              0.1186296571
             ],
             "passed_time": 21.26723412,
             "remaining_time": 59.90541518,
             "test": [
              0.6361179504,
              0.1523109724
             ]
            },
            {
             "iteration": 524,
             "learn": [
              0.118586215
             ],
             "passed_time": 21.31101099,
             "remaining_time": 59.87379278,
             "test": [
              0.6360792636,
              0.1523122802
             ]
            },
            {
             "iteration": 525,
             "learn": [
              0.1185415893
             ],
             "passed_time": 21.35201483,
             "remaining_time": 59.83435334,
             "test": [
              0.6360792636,
              0.1523125583
             ]
            },
            {
             "iteration": 526,
             "learn": [
              0.1184978556
             ],
             "passed_time": 21.3919711,
             "remaining_time": 59.79197993,
             "test": [
              0.6360792636,
              0.1523128342
             ]
            },
            {
             "iteration": 527,
             "learn": [
              0.1184532576
             ],
             "passed_time": 21.42935138,
             "remaining_time": 59.74243415,
             "test": [
              0.6360792636,
              0.1523131198
             ]
            },
            {
             "iteration": 528,
             "learn": [
              0.1184087007
             ],
             "passed_time": 21.46879735,
             "remaining_time": 59.69867844,
             "test": [
              0.6360792636,
              0.1523134086
             ]
            },
            {
             "iteration": 529,
             "learn": [
              0.1183662305
             ],
             "passed_time": 21.50599233,
             "remaining_time": 59.64869572,
             "test": [
              0.6360792636,
              0.1523136807
             ]
            },
            {
             "iteration": 530,
             "learn": [
              0.1183236158
             ],
             "passed_time": 21.54499737,
             "remaining_time": 59.60376862,
             "test": [
              0.6360322869,
              0.1523167098
             ]
            },
            {
             "iteration": 531,
             "learn": [
              0.1182791165
             ],
             "passed_time": 21.58302525,
             "remaining_time": 59.55616743,
             "test": [
              0.6360157068,
              0.1523185398
             ]
            },
            {
             "iteration": 532,
             "learn": [
              0.1182347094
             ],
             "passed_time": 21.62339783,
             "remaining_time": 59.51505556,
             "test": [
              0.6359908368,
              0.1523226189
             ]
            },
            {
             "iteration": 533,
             "learn": [
              0.1181913828
             ],
             "passed_time": 21.66233819,
             "remaining_time": 59.47001459,
             "test": [
              0.6359908368,
              0.152322915
             ]
            },
            {
             "iteration": 534,
             "learn": [
              0.1181470314
             ],
             "passed_time": 21.70151273,
             "remaining_time": 59.42563768,
             "test": [
              0.6359825467,
              0.1523262754
             ]
            },
            {
             "iteration": 535,
             "learn": [
              0.1181027284
             ],
             "passed_time": 21.74073386,
             "remaining_time": 59.38140741,
             "test": [
              0.63595215,
              0.15232929
             ]
            },
            {
             "iteration": 536,
             "learn": [
              0.1180584247
             ],
             "passed_time": 21.77823206,
             "remaining_time": 59.33250188,
             "test": [
              0.63595215,
              0.1523296029
             ]
            },
            {
             "iteration": 537,
             "learn": [
              0.1180141841
             ],
             "passed_time": 21.81724868,
             "remaining_time": 59.28776501,
             "test": [
              0.63595215,
              0.1523299181
             ]
            },
            {
             "iteration": 538,
             "learn": [
              0.1179704993
             ],
             "passed_time": 21.85505994,
             "remaining_time": 59.23978213,
             "test": [
              0.63595215,
              0.152330234
             ]
            },
            {
             "iteration": 539,
             "learn": [
              0.1179263228
             ],
             "passed_time": 21.89613224,
             "remaining_time": 59.20065383,
             "test": [
              0.63595215,
              0.1523305537
             ]
            },
            {
             "iteration": 540,
             "learn": [
              0.117882171
             ],
             "passed_time": 21.93697749,
             "remaining_time": 59.16090602,
             "test": [
              0.63595215,
              0.1523308757
             ]
            },
            {
             "iteration": 541,
             "learn": [
              0.1178380203
             ],
             "passed_time": 21.98238836,
             "remaining_time": 59.13343585,
             "test": [
              0.63595215,
              0.1523311999
             ]
            },
            {
             "iteration": 542,
             "learn": [
              0.117795107
             ],
             "passed_time": 22.0244979,
             "remaining_time": 59.09704132,
             "test": [
              0.63595215,
              0.1523315153
             ]
            },
            {
             "iteration": 543,
             "learn": [
              0.1177520317
             ],
             "passed_time": 22.0679593,
             "remaining_time": 59.06424401,
             "test": [
              0.63595215,
              0.1523318374
             ]
            },
            {
             "iteration": 544,
             "learn": [
              0.1177078985
             ],
             "passed_time": 22.11840889,
             "remaining_time": 59.0500641,
             "test": [
              0.63595215,
              0.1523321695
             ]
            },
            {
             "iteration": 545,
             "learn": [
              0.1176639486
             ],
             "passed_time": 22.15935994,
             "remaining_time": 59.01045668,
             "test": [
              0.63595215,
              0.1523325032
             ]
            },
            {
             "iteration": 546,
             "learn": [
              0.1176199151
             ],
             "passed_time": 22.23698408,
             "remaining_time": 59.06825936,
             "test": [
              0.63594386,
              0.1523358606
             ]
            },
            {
             "iteration": 547,
             "learn": [
              0.1175772917
             ],
             "passed_time": 22.27567048,
             "remaining_time": 59.02239698,
             "test": [
              0.63594386,
              0.1523361853
             ]
            },
            {
             "iteration": 548,
             "learn": [
              0.1175333346
             ],
             "passed_time": 22.31300977,
             "remaining_time": 58.97300032,
             "test": [
              0.63594386,
              0.152336525
             ]
            },
            {
             "iteration": 549,
             "learn": [
              0.1174894744
             ],
             "passed_time": 22.34946519,
             "remaining_time": 58.92131733,
             "test": [
              0.63594386,
              0.1523368663
             ]
            },
            {
             "iteration": 550,
             "learn": [
              0.1174456372
             ],
             "passed_time": 22.38726587,
             "remaining_time": 58.87322729,
             "test": [
              0.63594386,
              0.1523372091
             ]
            },
            {
             "iteration": 551,
             "learn": [
              0.1174018076
             ],
             "passed_time": 22.42506649,
             "remaining_time": 58.82517443,
             "test": [
              0.63594386,
              0.1523375535
             ]
            },
            {
             "iteration": 552,
             "learn": [
              0.1173580733
             ],
             "passed_time": 22.46565878,
             "remaining_time": 58.78446339,
             "test": [
              0.63594386,
              0.1523378994
             ]
            },
            {
             "iteration": 553,
             "learn": [
              0.1173166369
             ],
             "passed_time": 22.50735501,
             "remaining_time": 58.7466342,
             "test": [
              0.6358830665,
              0.1523398305
             ]
            },
            {
             "iteration": 554,
             "learn": [
              0.1172729143
             ],
             "passed_time": 22.54940121,
             "remaining_time": 58.70970226,
             "test": [
              0.6358830665,
              0.1523401818
             ]
            },
            {
             "iteration": 555,
             "learn": [
              0.1172310716
             ],
             "passed_time": 22.59003475,
             "remaining_time": 58.66908306,
             "test": [
              0.6357946397,
              0.1523468192
             ]
            },
            {
             "iteration": 556,
             "learn": [
              0.1171873851
             ],
             "passed_time": 22.62988089,
             "remaining_time": 58.62642393,
             "test": [
              0.6357946397,
              0.1523471742
             ]
            },
            {
             "iteration": 557,
             "learn": [
              0.1171437564
             ],
             "passed_time": 22.66759844,
             "remaining_time": 58.57827409,
             "test": [
              0.6357946397,
              0.1523475302
             ]
            },
            {
             "iteration": 558,
             "learn": [
              0.1171013694
             ],
             "passed_time": 22.70495305,
             "remaining_time": 58.52922603,
             "test": [
              0.635772533,
              0.1523487327
             ]
            },
            {
             "iteration": 559,
             "learn": [
              0.1170578106
             ],
             "passed_time": 22.74364575,
             "remaining_time": 58.48366049,
             "test": [
              0.635772533,
              0.1523490924
             ]
            },
            {
             "iteration": 560,
             "learn": [
              0.1170155517
             ],
             "passed_time": 22.78448321,
             "remaining_time": 58.44362092,
             "test": [
              0.635772533,
              0.1523494413
             ]
            },
            {
             "iteration": 561,
             "learn": [
              0.1169720515
             ],
             "passed_time": 22.82511983,
             "remaining_time": 58.40306461,
             "test": [
              0.635772533,
              0.1523498045
             ]
            },
            {
             "iteration": 562,
             "learn": [
              0.1169285334
             ],
             "passed_time": 22.86585345,
             "remaining_time": 58.36275561,
             "test": [
              0.635772533,
              0.1523501688
             ]
            },
            {
             "iteration": 563,
             "learn": [
              0.1168851435
             ],
             "passed_time": 22.90380792,
             "remaining_time": 58.3153691,
             "test": [
              0.6357697696,
              0.1523525693
             ]
            },
            {
             "iteration": 564,
             "learn": [
              0.1168416806
             ],
             "passed_time": 22.94108841,
             "remaining_time": 58.26630419,
             "test": [
              0.6357697696,
              0.1523529359
             ]
            },
            {
             "iteration": 565,
             "learn": [
              0.1167982974
             ],
             "passed_time": 22.97746521,
             "remaining_time": 58.21499136,
             "test": [
              0.6357697696,
              0.1523533038
             ]
            },
            {
             "iteration": 566,
             "learn": [
              0.1167549223
             ],
             "passed_time": 23.0157906,
             "remaining_time": 58.16865596,
             "test": [
              0.6357697696,
              0.1523536729
             ]
            },
            {
             "iteration": 567,
             "learn": [
              0.1167115349
             ],
             "passed_time": 23.05361111,
             "remaining_time": 58.12107589,
             "test": [
              0.6357227929,
              0.152355171
             ]
            },
            {
             "iteration": 568,
             "learn": [
              0.1166682356
             ],
             "passed_time": 23.0930879,
             "remaining_time": 58.07769559,
             "test": [
              0.6357227929,
              0.1523555423
             ]
            },
            {
             "iteration": 569,
             "learn": [
              0.1164786222
             ],
             "passed_time": 23.13919113,
             "remaining_time": 58.05095318,
             "test": [
              0.6359991268,
              0.1523313936
             ]
            },
            {
             "iteration": 570,
             "learn": [
              0.1163148802
             ],
             "passed_time": 23.19108763,
             "remaining_time": 58.03864138,
             "test": [
              0.6370215623,
              0.1522629351
             ]
            },
            {
             "iteration": 571,
             "learn": [
              0.1162715258
             ],
             "passed_time": 23.23511505,
             "remaining_time": 58.00654597,
             "test": [
              0.6370132723,
              0.1522671409
             ]
            },
            {
             "iteration": 572,
             "learn": [
              0.1162281743
             ],
             "passed_time": 23.28016987,
             "remaining_time": 57.97696755,
             "test": [
              0.6370132723,
              0.1522672866
             ]
            },
            {
             "iteration": 573,
             "learn": [
              0.1161859504
             ],
             "passed_time": 23.32557675,
             "remaining_time": 57.94820982,
             "test": [
              0.6370132723,
              0.1522674326
             ]
            },
            {
             "iteration": 574,
             "learn": [
              0.1161426683
             ],
             "passed_time": 23.36580023,
             "remaining_time": 57.9065484,
             "test": [
              0.6370132723,
              0.152267601
             ]
            },
            {
             "iteration": 575,
             "learn": [
              0.1160994699
             ],
             "passed_time": 23.40758884,
             "remaining_time": 57.8687613,
             "test": [
              0.6369745856,
              0.1522708915
             ]
            },
            {
             "iteration": 576,
             "learn": [
              0.1160562948
             ],
             "passed_time": 23.44680188,
             "remaining_time": 57.82460845,
             "test": [
              0.6369745856,
              0.1522710793
             ]
            },
            {
             "iteration": 577,
             "learn": [
              0.1160131161
             ],
             "passed_time": 23.48489819,
             "remaining_time": 57.77772529,
             "test": [
              0.6369745856,
              0.1522712765
             ]
            },
            {
             "iteration": 578,
             "learn": [
              0.1159700009
             ],
             "passed_time": 23.52579265,
             "remaining_time": 57.73773981,
             "test": [
              0.6369745856,
              0.1522714827
             ]
            },
            {
             "iteration": 579,
             "learn": [
              0.1159281947
             ],
             "passed_time": 23.56385974,
             "remaining_time": 57.69082902,
             "test": [
              0.6369165554,
              0.1522742075
             ]
            },
            {
             "iteration": 580,
             "learn": [
              0.1158851124
             ],
             "passed_time": 23.60171162,
             "remaining_time": 57.64342305,
             "test": [
              0.6369165554,
              0.1522744319
             ]
            },
            {
             "iteration": 581,
             "learn": [
              0.1158420606
             ],
             "passed_time": 23.63790329,
             "remaining_time": 57.59200493,
             "test": [
              0.6369165554,
              0.1522746644
             ]
            },
            {
             "iteration": 582,
             "learn": [
              0.1157990633
             ],
             "passed_time": 23.67851795,
             "remaining_time": 57.55138926,
             "test": [
              0.6369165554,
              0.1522749043
             ]
            },
            {
             "iteration": 583,
             "learn": [
              0.1157561057
             ],
             "passed_time": 23.71722902,
             "remaining_time": 57.50615804,
             "test": [
              0.6369165554,
              0.1522784421
             ]
            },
            {
             "iteration": 584,
             "learn": [
              0.1157131805
             ],
             "passed_time": 23.75498778,
             "remaining_time": 57.45864565,
             "test": [
              0.6369165554,
              0.1522786961
             ]
            },
            {
             "iteration": 585,
             "learn": [
              0.1156702498
             ],
             "passed_time": 23.7936983,
             "remaining_time": 57.41346314,
             "test": [
              0.6369165554,
              0.1522789572
             ]
            },
            {
             "iteration": 586,
             "learn": [
              0.1156273726
             ],
             "passed_time": 23.83074212,
             "remaining_time": 57.36429066,
             "test": [
              0.6369165554,
              0.1522792249
             ]
            },
            {
             "iteration": 587,
             "learn": [
              0.1155845304
             ],
             "passed_time": 23.87318704,
             "remaining_time": 57.32812942,
             "test": [
              0.6369165554,
              0.1522794987
             ]
            },
            {
             "iteration": 588,
             "learn": [
              0.1155417218
             ],
             "passed_time": 23.91070154,
             "remaining_time": 57.2801356,
             "test": [
              0.6369165554,
              0.1522797783
             ]
            },
            {
             "iteration": 589,
             "learn": [
              0.1154989942
             ],
             "passed_time": 23.94822287,
             "remaining_time": 57.23219363,
             "test": [
              0.6369165554,
              0.1522800637
             ]
            },
            {
             "iteration": 590,
             "learn": [
              0.1154581779
             ],
             "passed_time": 23.98593224,
             "remaining_time": 57.18473525,
             "test": [
              0.6368861587,
              0.152281405
             ]
            },
            {
             "iteration": 591,
             "learn": [
              0.1154155094
             ],
             "passed_time": 24.02459415,
             "remaining_time": 57.13957526,
             "test": [
              0.6368502353,
              0.1522828649
             ]
            },
            {
             "iteration": 592,
             "learn": [
              0.1153729265
             ],
             "passed_time": 24.06277666,
             "remaining_time": 57.09329976,
             "test": [
              0.6368502353,
              0.1522831677
             ]
            },
            {
             "iteration": 593,
             "learn": [
              0.1153303084
             ],
             "passed_time": 24.10367591,
             "remaining_time": 57.05348204,
             "test": [
              0.6368502353,
              0.1522867337
             ]
            },
            {
             "iteration": 594,
             "learn": [
              0.1152889228
             ],
             "passed_time": 24.14904058,
             "remaining_time": 57.02420506,
             "test": [
              0.6368502353,
              0.1522870351
             ]
            },
            {
             "iteration": 595,
             "learn": [
              0.1152464069
             ],
             "passed_time": 24.19572444,
             "remaining_time": 56.99798174,
             "test": [
              0.6368502353,
              0.1522873583
             ]
            },
            {
             "iteration": 596,
             "learn": [
              0.1152038216
             ],
             "passed_time": 24.24423798,
             "remaining_time": 56.97598976,
             "test": [
              0.6368502353,
              0.1522876815
             ]
            },
            {
             "iteration": 597,
             "learn": [
              0.115161337
             ],
             "passed_time": 24.29116485,
             "remaining_time": 56.95018916,
             "test": [
              0.6368502353,
              0.1522880092
             ]
            },
            {
             "iteration": 598,
             "learn": [
              0.1151188275
             ],
             "passed_time": 24.33126187,
             "remaining_time": 56.90834371,
             "test": [
              0.6368502353,
              0.1522883413
             ]
            },
            {
             "iteration": 599,
             "learn": [
              0.1150763456
             ],
             "passed_time": 24.36874049,
             "remaining_time": 56.86039449,
             "test": [
              0.6368502353,
              0.1522886775
             ]
            },
            {
             "iteration": 600,
             "learn": [
              0.1150338989
             ],
             "passed_time": 24.40843892,
             "remaining_time": 56.81764734,
             "test": [
              0.6368502353,
              0.1522890176
             ]
            },
            {
             "iteration": 601,
             "learn": [
              0.114991469
             ],
             "passed_time": 24.44553145,
             "remaining_time": 56.76885875,
             "test": [
              0.6368502353,
              0.1522893616
             ]
            },
            {
             "iteration": 602,
             "learn": [
              0.1149490863
             ],
             "passed_time": 24.48371546,
             "remaining_time": 56.72263765,
             "test": [
              0.6368502353,
              0.1522897094
             ]
            },
            {
             "iteration": 603,
             "learn": [
              0.1149067036
             ],
             "passed_time": 24.52072191,
             "remaining_time": 56.67372149,
             "test": [
              0.6368502353,
              0.1522900609
             ]
            },
            {
             "iteration": 604,
             "learn": [
              0.1148643501
             ],
             "passed_time": 24.55810007,
             "remaining_time": 56.6257018,
             "test": [
              0.6368502353,
              0.1522904158
             ]
            },
            {
             "iteration": 605,
             "learn": [
              0.1148220456
             ],
             "passed_time": 24.59571502,
             "remaining_time": 56.57826195,
             "test": [
              0.6368419453,
              0.1522955908
             ]
            },
            {
             "iteration": 606,
             "learn": [
              0.1147797947
             ],
             "passed_time": 24.63525845,
             "remaining_time": 56.5352801,
             "test": [
              0.6368308919,
              0.1522980839
             ]
            },
            {
             "iteration": 607,
             "learn": [
              0.1147375706
             ],
             "passed_time": 24.67403552,
             "remaining_time": 56.49055501,
             "test": [
              0.6368115485,
              0.1523028245
             ]
            },
            {
             "iteration": 608,
             "learn": [
              0.1146425888
             ],
             "passed_time": 24.71219124,
             "remaining_time": 56.44443024,
             "test": [
              0.6362644074,
              0.152296218
             ]
            },
            {
             "iteration": 609,
             "learn": [
              0.1146003586
             ],
             "passed_time": 24.74950848,
             "remaining_time": 56.39642097,
             "test": [
              0.6362644074,
              0.1522965568
             ]
            },
            {
             "iteration": 610,
             "learn": [
              0.1145592873
             ],
             "passed_time": 24.78647896,
             "remaining_time": 56.3476584,
             "test": [
              0.6362644074,
              0.152296888
             ]
            },
            {
             "iteration": 611,
             "learn": [
              0.1145181638
             ],
             "passed_time": 24.8243058,
             "remaining_time": 56.30087656,
             "test": [
              0.6362644074,
              0.1522972303
             ]
            },
            {
             "iteration": 612,
             "learn": [
              0.1144759967
             ],
             "passed_time": 24.86883157,
             "remaining_time": 56.26928122,
             "test": [
              0.6362644074,
              0.1522975831
             ]
            },
            {
             "iteration": 613,
             "learn": [
              0.1144338713
             ],
             "passed_time": 24.910122,
             "remaining_time": 56.23034054,
             "test": [
              0.6362644074,
              0.1522979396
             ]
            },
            {
             "iteration": 614,
             "learn": [
              0.1143917527
             ],
             "passed_time": 24.95566837,
             "remaining_time": 56.20097675,
             "test": [
              0.6362644074,
              0.1522982998
             ]
            },
            {
             "iteration": 615,
             "learn": [
              0.1143496711
             ],
             "passed_time": 25.00390878,
             "remaining_time": 56.17761324,
             "test": [
              0.6362644074,
              0.1522986635
             ]
            },
            {
             "iteration": 616,
             "learn": [
              0.1143076301
             ],
             "passed_time": 25.04796666,
             "remaining_time": 56.14479399,
             "test": [
              0.636261644,
              0.1523014184
             ]
            },
            {
             "iteration": 617,
             "learn": [
              0.1142656021
             ],
             "passed_time": 25.09105439,
             "remaining_time": 56.10976887,
             "test": [
              0.6362063772,
              0.1523051273
             ]
            },
            {
             "iteration": 618,
             "learn": [
              0.1142236163
             ],
             "passed_time": 25.13113787,
             "remaining_time": 56.06801518,
             "test": [
              0.6362063772,
              0.1523055002
             ]
            },
            {
             "iteration": 619,
             "learn": [
              0.114181662
             ],
             "passed_time": 25.17163894,
             "remaining_time": 56.02719636,
             "test": [
              0.6362063772,
              0.1523058762
             ]
            },
            {
             "iteration": 620,
             "learn": [
              0.1141397328
             ],
             "passed_time": 25.21203031,
             "remaining_time": 55.98613494,
             "test": [
              0.6362063772,
              0.1523062553
             ]
            },
            {
             "iteration": 621,
             "learn": [
              0.1140997547
             ],
             "passed_time": 25.24971768,
             "remaining_time": 55.93908516,
             "test": [
              0.6362063772,
              0.1523066173
             ]
            },
            {
             "iteration": 622,
             "learn": [
              0.1140578847
             ],
             "passed_time": 25.28641174,
             "remaining_time": 55.88986994,
             "test": [
              0.6361676905,
              0.1523115672
             ]
            },
            {
             "iteration": 623,
             "learn": [
              0.1140160157
             ],
             "passed_time": 25.3276103,
             "remaining_time": 55.85062783,
             "test": [
              0.6361676905,
              0.1523119565
             ]
            },
            {
             "iteration": 624,
             "learn": [
              0.113974161
             ],
             "passed_time": 25.37202539,
             "remaining_time": 55.81845586,
             "test": [
              0.6361676905,
              0.1523123484
             ]
            },
            {
             "iteration": 625,
             "learn": [
              0.1139323501
             ],
             "passed_time": 25.41579751,
             "remaining_time": 55.78483352,
             "test": [
              0.6361676905,
              0.1523162537
             ]
            },
            {
             "iteration": 626,
             "learn": [
              0.1138906078
             ],
             "passed_time": 25.45998435,
             "remaining_time": 55.75208695,
             "test": [
              0.6361676905,
              0.1523166502
             ]
            },
            {
             "iteration": 627,
             "learn": [
              0.1138488494
             ],
             "passed_time": 25.50174646,
             "remaining_time": 55.7140066,
             "test": [
              0.6361676905,
              0.1523170492
             ]
            },
            {
             "iteration": 628,
             "learn": [
              0.1138071294
             ],
             "passed_time": 25.54067916,
             "remaining_time": 55.66974743,
             "test": [
              0.6361676905,
              0.1523174509
             ]
            },
            {
             "iteration": 629,
             "learn": [
              0.1137673663
             ],
             "passed_time": 25.58019263,
             "remaining_time": 55.6267681,
             "test": [
              0.6361676905,
              0.1523178315
             ]
            },
            {
             "iteration": 630,
             "learn": [
              0.1137257251
             ],
             "passed_time": 25.61678818,
             "remaining_time": 55.57746914,
             "test": [
              0.6361676905,
              0.1523182399
             ]
            },
            {
             "iteration": 631,
             "learn": [
              0.1136840637
             ],
             "passed_time": 25.65371583,
             "remaining_time": 55.52892921,
             "test": [
              0.6361676905,
              0.15231865
             ]
            },
            {
             "iteration": 632,
             "learn": [
              0.1136446044
             ],
             "passed_time": 25.69196172,
             "remaining_time": 55.48327279,
             "test": [
              0.6361676905,
              0.1523190381
             ]
            },
            {
             "iteration": 633,
             "learn": [
              0.1136041729
             ],
             "passed_time": 25.72870378,
             "remaining_time": 55.43439963,
             "test": [
              0.6361676905,
              0.1523194467
             ]
            },
            {
             "iteration": 634,
             "learn": [
              0.1134773018
             ],
             "passed_time": 25.7679407,
             "remaining_time": 55.39092764,
             "test": [
              0.6367452284,
              0.1522988747
             ]
            },
            {
             "iteration": 635,
             "learn": [
              0.1133711375
             ],
             "passed_time": 25.8059645,
             "remaining_time": 55.34486726,
             "test": [
              0.6365573213,
              0.1522928282
             ]
            },
            {
             "iteration": 636,
             "learn": [
              0.113329513
             ],
             "passed_time": 25.84229038,
             "remaining_time": 55.29519904,
             "test": [
              0.6365573213,
              0.152293128
             ]
            },
            {
             "iteration": 637,
             "learn": [
              0.1132880114
             ],
             "passed_time": 25.87886377,
             "remaining_time": 55.24610103,
             "test": [
              0.6365048179,
              0.1522946759
             ]
            },
            {
             "iteration": 638,
             "learn": [
              0.1132465675
             ],
             "passed_time": 25.91558466,
             "remaining_time": 55.19735638,
             "test": [
              0.6365048179,
              0.1522984486
             ]
            },
            {
             "iteration": 639,
             "learn": [
              0.1132061563
             ],
             "passed_time": 25.95340271,
             "remaining_time": 55.15098076,
             "test": [
              0.6365048179,
              0.1522987564
             ]
            },
            {
             "iteration": 640,
             "learn": [
              0.1131647582
             ],
             "passed_time": 25.99038515,
             "remaining_time": 55.10286025,
             "test": [
              0.6365048179,
              0.1522990827
             ]
            },
            {
             "iteration": 641,
             "learn": [
              0.1131233843
             ],
             "passed_time": 26.02895272,
             "remaining_time": 55.05812739,
             "test": [
              0.6365048179,
              0.1522994151
             ]
            },
            {
             "iteration": 642,
             "learn": [
              0.1130820932
             ],
             "passed_time": 26.07349123,
             "remaining_time": 55.02601493,
             "test": [
              0.6365048179,
              0.1522997534
             ]
            },
            {
             "iteration": 643,
             "learn": [
              0.1130435418
             ],
             "passed_time": 26.11862818,
             "remaining_time": 54.99512393,
             "test": [
              0.6363970476,
              0.1523060895
             ]
            },
            {
             "iteration": 644,
             "learn": [
              0.1130041142
             ],
             "passed_time": 26.16219384,
             "remaining_time": 54.96088783,
             "test": [
              0.6363638876,
              0.1523072718
             ]
            },
            {
             "iteration": 645,
             "learn": [
              0.1129628945
             ],
             "passed_time": 26.2070537,
             "remaining_time": 54.92933545,
             "test": [
              0.6363638876,
              0.1523076306
             ]
            },
            {
             "iteration": 646,
             "learn": [
              0.1129216563
             ],
             "passed_time": 26.24701959,
             "remaining_time": 54.88750774,
             "test": [
              0.6363638876,
              0.1523079944
             ]
            },
            {
             "iteration": 647,
             "learn": [
              0.1128804845
             ],
             "passed_time": 26.28428587,
             "remaining_time": 54.84005324,
             "test": [
              0.6363638876,
              0.1523083629
             ]
            },
            {
             "iteration": 648,
             "learn": [
              0.1128396039
             ],
             "passed_time": 26.32395488,
             "remaining_time": 54.79763182,
             "test": [
              0.6363528342,
              0.1523137476
             ]
            },
            {
             "iteration": 649,
             "learn": [
              0.1127985438
             ],
             "passed_time": 26.361113,
             "remaining_time": 54.75000391,
             "test": [
              0.6363528342,
              0.1523141242
             ]
            },
            {
             "iteration": 650,
             "learn": [
              0.1127574565
             ],
             "passed_time": 26.39775847,
             "remaining_time": 54.70134589,
             "test": [
              0.6363473075,
              0.1523192207
             ]
            },
            {
             "iteration": 651,
             "learn": [
              0.1127164399
             ],
             "passed_time": 26.43520571,
             "remaining_time": 54.65438236,
             "test": [
              0.6363473075,
              0.1523196057
             ]
            },
            {
             "iteration": 652,
             "learn": [
              0.112675358
             ],
             "passed_time": 26.47195165,
             "remaining_time": 54.60600133,
             "test": [
              0.6363473075,
              0.1523199948
             ]
            },
            {
             "iteration": 653,
             "learn": [
              0.1126344061
             ],
             "passed_time": 26.50872821,
             "remaining_time": 54.55771891,
             "test": [
              0.6363169108,
              0.1523215358
             ]
            },
            {
             "iteration": 654,
             "learn": [
              0.1125934331
             ],
             "passed_time": 26.54698985,
             "remaining_time": 54.51252114,
             "test": [
              0.6363169108,
              0.1523219328
             ]
            },
            {
             "iteration": 655,
             "learn": [
              0.1125524901
             ],
             "passed_time": 26.58567129,
             "remaining_time": 54.4682046,
             "test": [
              0.6363169108,
              0.1523223334
             ]
            },
            {
             "iteration": 656,
             "learn": [
              0.112511591
             ],
             "passed_time": 26.62917491,
             "remaining_time": 54.43376241,
             "test": [
              0.6363169108,
              0.1523227379
             ]
            },
            {
             "iteration": 657,
             "learn": [
              0.1124671961
             ],
             "passed_time": 26.67584006,
             "remaining_time": 54.40574068,
             "test": [
              0.6362284839,
              0.1523341918
             ]
            },
            {
             "iteration": 658,
             "learn": [
              0.1124262795
             ],
             "passed_time": 26.72153378,
             "remaining_time": 54.37568558,
             "test": [
              0.6362257206,
              0.1523369157
             ]
            },
            {
             "iteration": 659,
             "learn": [
              0.1123854523
             ],
             "passed_time": 26.76578895,
             "remaining_time": 54.34266242,
             "test": [
              0.6362257206,
              0.1523373544
             ]
            },
            {
             "iteration": 660,
             "learn": [
              0.1123446094
             ],
             "passed_time": 26.80987246,
             "remaining_time": 54.30925752,
             "test": [
              0.6362201939,
              0.1523403395
             ]
            },
            {
             "iteration": 661,
             "learn": [
              0.1123037785
             ],
             "passed_time": 26.85400184,
             "remaining_time": 54.27591308,
             "test": [
              0.6361870339,
              0.1523443752
             ]
            },
            {
             "iteration": 662,
             "learn": [
              0.1122630232
             ],
             "passed_time": 26.89842323,
             "remaining_time": 54.24312497,
             "test": [
              0.6361870339,
              0.1523448193
             ]
            },
            {
             "iteration": 663,
             "learn": [
              0.1122223032
             ],
             "passed_time": 26.94368718,
             "remaining_time": 54.21199709,
             "test": [
              0.6361870339,
              0.1523452653
             ]
            },
            {
             "iteration": 664,
             "learn": [
              0.1121815922
             ],
             "passed_time": 26.99128819,
             "remaining_time": 54.1855184,
             "test": [
              0.6361870339,
              0.1523457133
             ]
            },
            {
             "iteration": 665,
             "learn": [
              0.112140931
             ],
             "passed_time": 27.03511477,
             "remaining_time": 54.15141608,
             "test": [
              0.6361870339,
              0.1523461633
             ]
            },
            {
             "iteration": 666,
             "learn": [
              0.1121003068
             ],
             "passed_time": 27.07695013,
             "remaining_time": 54.11330514,
             "test": [
              0.6361787438,
              0.152348482
             ]
            },
            {
             "iteration": 667,
             "learn": [
              0.1120601841
             ],
             "passed_time": 27.12110451,
             "remaining_time": 54.07980721,
             "test": [
              0.6361787438,
              0.1523489342
             ]
            },
            {
             "iteration": 668,
             "learn": [
              0.1120229955
             ],
             "passed_time": 27.1663513,
             "remaining_time": 54.04845079,
             "test": [
              0.636416391,
              0.1523328413
             ]
            },
            {
             "iteration": 669,
             "learn": [
              0.1119824458
             ],
             "passed_time": 27.2130555,
             "remaining_time": 54.01994599,
             "test": [
              0.6364136277,
              0.1523370286
             ]
            },
            {
             "iteration": 670,
             "learn": [
              0.1119419089
             ],
             "passed_time": 27.25377829,
             "remaining_time": 53.97954001,
             "test": [
              0.6364136277,
              0.1523374911
             ]
            },
            {
             "iteration": 671,
             "learn": [
              0.11190142
             ],
             "passed_time": 27.29756095,
             "remaining_time": 53.94517998,
             "test": [
              0.6364136277,
              0.1523379553
             ]
            },
            {
             "iteration": 672,
             "learn": [
              0.1118609547
             ],
             "passed_time": 27.34145016,
             "remaining_time": 53.91100202,
             "test": [
              0.6364136277,
              0.1523384213
             ]
            },
            {
             "iteration": 673,
             "learn": [
              0.1118205094
             ],
             "passed_time": 27.38672099,
             "remaining_time": 53.87951339,
             "test": [
              0.6364136277,
              0.1523388888
             ]
            },
            {
             "iteration": 674,
             "learn": [
              0.1117811393
             ],
             "passed_time": 27.43009101,
             "remaining_time": 53.84425273,
             "test": [
              0.6364136277,
              0.1523393463
             ]
            },
            {
             "iteration": 675,
             "learn": [
              0.1117407284
             ],
             "passed_time": 27.47206254,
             "remaining_time": 53.80622901,
             "test": [
              0.6364136277,
              0.1523398178
             ]
            },
            {
             "iteration": 676,
             "learn": [
              0.1117004243
             ],
             "passed_time": 27.51255329,
             "remaining_time": 53.76529985,
             "test": [
              0.6364136277,
              0.1523402903
             ]
            },
            {
             "iteration": 677,
             "learn": [
              0.111660144
             ],
             "passed_time": 27.55167662,
             "remaining_time": 53.72170574,
             "test": [
              0.6364136277,
              0.1523407641
             ]
            },
            {
             "iteration": 678,
             "learn": [
              0.1116198752
             ],
             "passed_time": 27.59534428,
             "remaining_time": 53.68696582,
             "test": [
              0.6364136277,
              0.1523412396
             ]
            },
            {
             "iteration": 679,
             "learn": [
              0.1115796852
             ],
             "passed_time": 27.6370048,
             "remaining_time": 53.64830344,
             "test": [
              0.6364136277,
              0.1523417161
             ]
            },
            {
             "iteration": 680,
             "learn": [
              0.1115405638
             ],
             "passed_time": 27.67522882,
             "remaining_time": 53.60297622,
             "test": [
              0.6363887576,
              0.1523435131
             ]
            },
            {
             "iteration": 681,
             "learn": [
              0.1115024979
             ],
             "passed_time": 27.71622815,
             "remaining_time": 53.5630333,
             "test": [
              0.6363445442,
              0.1523458227
             ]
            },
            {
             "iteration": 682,
             "learn": [
              0.1114623804
             ],
             "passed_time": 27.75432958,
             "remaining_time": 53.51749936,
             "test": [
              0.6363417809,
              0.1523499888
             ]
            },
            {
             "iteration": 683,
             "learn": [
              0.1114222431
             ],
             "passed_time": 27.79280086,
             "remaining_time": 53.47269872,
             "test": [
              0.6363417809,
              0.1523504738
             ]
            },
            {
             "iteration": 684,
             "learn": [
              0.1113821384
             ],
             "passed_time": 27.83081461,
             "remaining_time": 53.42703828,
             "test": [
              0.6363417809,
              0.1523509601
             ]
            },
            {
             "iteration": 685,
             "learn": [
              0.1113420776
             ],
             "passed_time": 27.86871704,
             "remaining_time": 53.38118686,
             "test": [
              0.6363417809,
              0.1523514476
             ]
            },
            {
             "iteration": 686,
             "learn": [
              0.1113020399
             ],
             "passed_time": 27.906659,
             "remaining_time": 53.33543417,
             "test": [
              0.6363417809,
              0.1523519364
             ]
            },
            {
             "iteration": 687,
             "learn": [
              0.1112620022
             ],
             "passed_time": 27.94801685,
             "remaining_time": 53.29621818,
             "test": [
              0.6363417809,
              0.1523524264
             ]
            },
            {
             "iteration": 688,
             "learn": [
              0.1112254993
             ],
             "passed_time": 27.98768474,
             "remaining_time": 53.2537804,
             "test": [
              0.6366291682,
              0.1523370134
             ]
            },
            {
             "iteration": 689,
             "learn": [
              0.1111855354
             ],
             "passed_time": 28.02999578,
             "remaining_time": 53.2163688,
             "test": [
              0.6366291682,
              0.15233751
             ]
            },
            {
             "iteration": 690,
             "learn": [
              0.1111455965
             ],
             "passed_time": 28.06840688,
             "remaining_time": 53.17155515,
             "test": [
              0.6366291682,
              0.1523380079
             ]
            },
            {
             "iteration": 691,
             "learn": [
              0.1111056564
             ],
             "passed_time": 28.10794427,
             "remaining_time": 53.12888888,
             "test": [
              0.6366291682,
              0.152338507
             ]
            },
            {
             "iteration": 692,
             "learn": [
              0.1110657645
             ],
             "passed_time": 28.14917953,
             "remaining_time": 53.08943383,
             "test": [
              0.6366291682,
              0.1523390072
             ]
            },
            {
             "iteration": 693,
             "learn": [
              0.1110259046
             ],
             "passed_time": 28.19155286,
             "remaining_time": 53.05211533,
             "test": [
              0.6366208781,
              0.1523448481
             ]
            },
            {
             "iteration": 694,
             "learn": [
              0.11098794
             ],
             "passed_time": 28.22924024,
             "remaining_time": 53.00598347,
             "test": [
              0.6366208781,
              0.1523453246
             ]
            },
            {
             "iteration": 695,
             "learn": [
              0.1109481524
             ],
             "passed_time": 28.26702728,
             "remaining_time": 52.96006261,
             "test": [
              0.6366208781,
              0.1523458292
             ]
            },
            {
             "iteration": 696,
             "learn": [
              0.1109083552
             ],
             "passed_time": 28.30832567,
             "remaining_time": 52.92072934,
             "test": [
              0.6366098248,
              0.1523513636
             ]
            },
            {
             "iteration": 697,
             "learn": [
              0.1108685774
             ],
             "passed_time": 28.348722,
             "remaining_time": 52.87970779,
             "test": [
              0.6366098248,
              0.1523518697
             ]
            },
            {
             "iteration": 698,
             "learn": [
              0.1108288568
             ],
             "passed_time": 28.38818538,
             "remaining_time": 52.83695161,
             "test": [
              0.6366098248,
              0.1523523769
             ]
            },
            {
             "iteration": 699,
             "learn": [
              0.110789171
             ],
             "passed_time": 28.42711895,
             "remaining_time": 52.79322091,
             "test": [
              0.636554558,
              0.1523541137
             ]
            },
            {
             "iteration": 700,
             "learn": [
              0.1107494562
             ],
             "passed_time": 28.46533568,
             "remaining_time": 52.74817553,
             "test": [
              0.636554558,
              0.1523546229
             ]
            },
            {
             "iteration": 701,
             "learn": [
              0.1107098137
             ],
             "passed_time": 28.50522161,
             "remaining_time": 52.70623597,
             "test": [
              0.636554558,
              0.1523551333
             ]
            },
            {
             "iteration": 702,
             "learn": [
              0.1106701582
             ],
             "passed_time": 28.54412423,
             "remaining_time": 52.66248808,
             "test": [
              0.6365517947,
              0.1523580839
             ]
            },
            {
             "iteration": 703,
             "learn": [
              0.1106305058
             ],
             "passed_time": 28.58292976,
             "remaining_time": 52.61857524,
             "test": [
              0.6365517947,
              0.1523585963
             ]
            },
            {
             "iteration": 704,
             "learn": [
              0.1105909129
             ],
             "passed_time": 28.62190117,
             "remaining_time": 52.57498158,
             "test": [
              0.6365517947,
              0.1523591098
             ]
            },
            {
             "iteration": 705,
             "learn": [
              0.1105513541
             ],
             "passed_time": 28.66558883,
             "remaining_time": 52.54004525,
             "test": [
              0.6365517947,
              0.152362335
             ]
            },
            {
             "iteration": 706,
             "learn": [
              0.1105117706
             ],
             "passed_time": 28.77436172,
             "remaining_time": 52.62411556,
             "test": [
              0.6364965279,
              0.1523666838
             ]
            },
            {
             "iteration": 707,
             "learn": [
              0.1104722421
             ],
             "passed_time": 28.81462658,
             "remaining_time": 52.58262364,
             "test": [
              0.6364965279,
              0.1523671996
             ]
            },
            {
             "iteration": 708,
             "learn": [
              0.1104327684
             ],
             "passed_time": 28.85606064,
             "remaining_time": 52.54326415,
             "test": [
              0.6364965279,
              0.1523677164
             ]
            },
            {
             "iteration": 709,
             "learn": [
              0.110393293
             ],
             "passed_time": 28.89396964,
             "remaining_time": 52.49749414,
             "test": [
              0.6364965279,
              0.1523682344
             ]
            },
            {
             "iteration": 710,
             "learn": [
              0.1103538221
             ],
             "passed_time": 28.93204841,
             "remaining_time": 52.452054,
             "test": [
              0.6364965279,
              0.1523687534
             ]
            },
            {
             "iteration": 711,
             "learn": [
              0.1103144268
             ],
             "passed_time": 28.97065831,
             "remaining_time": 52.40759536,
             "test": [
              0.6364882378,
              0.1523712656
             ]
            },
            {
             "iteration": 712,
             "learn": [
              0.1102750067
             ],
             "passed_time": 29.01083979,
             "remaining_time": 52.36598992,
             "test": [
              0.6364882378,
              0.1523717866
             ]
            },
            {
             "iteration": 713,
             "learn": [
              0.1102356356
             ],
             "passed_time": 29.04970932,
             "remaining_time": 52.32202547,
             "test": [
              0.6364882378,
              0.1523723089
             ]
            },
            {
             "iteration": 714,
             "learn": [
              0.1101962867
             ],
             "passed_time": 29.08821372,
             "remaining_time": 52.27741906,
             "test": [
              0.6364882378,
              0.1523728321
             ]
            },
            {
             "iteration": 715,
             "learn": [
              0.110073812
             ],
             "passed_time": 29.12931635,
             "remaining_time": 52.2374891,
             "test": [
              0.6371514393,
              0.1523668362
             ]
            },
            {
             "iteration": 716,
             "learn": [
              0.1100351818
             ],
             "passed_time": 29.16952363,
             "remaining_time": 52.19595372,
             "test": [
              0.6371210426,
              0.1523683342
             ]
            },
            {
             "iteration": 717,
             "learn": [
              0.1099958338
             ],
             "passed_time": 29.20883126,
             "remaining_time": 52.1528157,
             "test": [
              0.6371210426,
              0.1523687993
             ]
            },
            {
             "iteration": 718,
             "learn": [
              0.1099565287
             ],
             "passed_time": 29.24808755,
             "remaining_time": 52.10959687,
             "test": [
              0.6371210426,
              0.1523692679
             ]
            },
            {
             "iteration": 719,
             "learn": [
              0.109917239
             ],
             "passed_time": 29.28748522,
             "remaining_time": 52.06664039,
             "test": [
              0.6371210426,
              0.1523697401
             ]
            },
            {
             "iteration": 720,
             "learn": [
              0.1098780376
             ],
             "passed_time": 29.32651817,
             "remaining_time": 52.0230468,
             "test": [
              0.6371210426,
              0.1523702157
             ]
            },
            {
             "iteration": 721,
             "learn": [
              0.109838847
             ],
             "passed_time": 29.36754568,
             "remaining_time": 51.98299637,
             "test": [
              0.6371210426,
              0.1523746228
             ]
            },
            {
             "iteration": 722,
             "learn": [
              0.1097996695
             ],
             "passed_time": 29.4060412,
             "remaining_time": 51.93847112,
             "test": [
              0.6371210426,
              0.1523751046
             ]
            },
            {
             "iteration": 723,
             "learn": [
              0.1097605043
             ],
             "passed_time": 29.44588918,
             "remaining_time": 51.89634612,
             "test": [
              0.6371210426,
              0.1523755899
             ]
            },
            {
             "iteration": 724,
             "learn": [
              0.1096030153
             ],
             "passed_time": 29.48772396,
             "remaining_time": 51.85772144,
             "test": [
              0.6361511104,
              0.1523391451
             ]
            },
            {
             "iteration": 725,
             "learn": [
              0.1095638156
             ],
             "passed_time": 29.52788019,
             "remaining_time": 51.81614237,
             "test": [
              0.6361511104,
              0.1523395167
             ]
            },
            {
             "iteration": 726,
             "learn": [
              0.1095242893
             ],
             "passed_time": 29.56720786,
             "remaining_time": 51.77311638,
             "test": [
              0.6361207137,
              0.1523408327
             ]
            },
            {
             "iteration": 727,
             "learn": [
              0.1094852256
             ],
             "passed_time": 29.60547863,
             "remaining_time": 51.72825386,
             "test": [
              0.6361207137,
              0.1523412174
             ]
            },
            {
             "iteration": 728,
             "learn": [
              0.1094472682
             ],
             "passed_time": 29.6432353,
             "remaining_time": 51.68251311,
             "test": [
              0.6361207137,
              0.1523415964
             ]
            },
            {
             "iteration": 729,
             "learn": [
              0.10940826
             ],
             "passed_time": 29.68369479,
             "remaining_time": 51.64149641,
             "test": [
              0.6361207137,
              0.1523419972
             ]
            },
            {
             "iteration": 730,
             "learn": [
              0.1093693398
             ],
             "passed_time": 29.72475417,
             "remaining_time": 51.60152263,
             "test": [
              0.6361207137,
              0.1523424049
             ]
            },
            {
             "iteration": 731,
             "learn": [
              0.1093304159
             ],
             "passed_time": 29.7630926,
             "remaining_time": 51.55683254,
             "test": [
              0.6361207137,
              0.1523428197
             ]
            },
            {
             "iteration": 732,
             "learn": [
              0.1092915046
             ],
             "passed_time": 29.80233823,
             "remaining_time": 51.51372788,
             "test": [
              0.6361207137,
              0.1523432412
             ]
            },
            {
             "iteration": 733,
             "learn": [
              0.1092526594
             ],
             "passed_time": 29.84303527,
             "remaining_time": 51.47313713,
             "test": [
              0.6361207137,
              0.1523436692
             ]
            },
            {
             "iteration": 734,
             "learn": [
              0.1092138036
             ],
             "passed_time": 29.88357172,
             "remaining_time": 51.4322697,
             "test": [
              0.6361207137,
              0.1523441033
             ]
            },
            {
             "iteration": 735,
             "learn": [
              0.1091749749
             ],
             "passed_time": 29.92161106,
             "remaining_time": 51.38711465,
             "test": [
              0.6361207137,
              0.1523445434
             ]
            },
            {
             "iteration": 736,
             "learn": [
              0.1091361856
             ],
             "passed_time": 29.96115145,
             "remaining_time": 51.34455126,
             "test": [
              0.6361207137,
              0.1523449896
             ]
            },
            {
             "iteration": 737,
             "learn": [
              0.1090973913
             ],
             "passed_time": 29.99924271,
             "remaining_time": 51.29951802,
             "test": [
              0.6361207137,
              0.1523493307
             ]
            },
            {
             "iteration": 738,
             "learn": [
              0.1090586403
             ],
             "passed_time": 30.03683592,
             "remaining_time": 51.25365371,
             "test": [
              0.6361207137,
              0.1523554641
             ]
            },
            {
             "iteration": 739,
             "learn": [
              0.1090199484
             ],
             "passed_time": 30.07458246,
             "remaining_time": 51.20807284,
             "test": [
              0.6361207137,
              0.1523559252
             ]
            },
            {
             "iteration": 740,
             "learn": [
              0.1089812613
             ],
             "passed_time": 30.11315261,
             "remaining_time": 51.16391246,
             "test": [
              0.6361207137,
              0.1523563911
             ]
            },
            {
             "iteration": 741,
             "learn": [
              0.1089426541
             ],
             "passed_time": 30.15146521,
             "remaining_time": 51.11933051,
             "test": [
              0.6361207137,
              0.1523622155
             ]
            },
            {
             "iteration": 742,
             "learn": [
              0.1089040231
             ],
             "passed_time": 30.19333241,
             "remaining_time": 51.08077905,
             "test": [
              0.6361207137,
              0.1523626904
             ]
            },
            {
             "iteration": 743,
             "learn": [
              0.1088654249
             ],
             "passed_time": 30.23321667,
             "remaining_time": 51.03887116,
             "test": [
              0.6361207137,
              0.1523631698
             ]
            },
            {
             "iteration": 744,
             "learn": [
              0.1088268702
             ],
             "passed_time": 30.27553009,
             "remaining_time": 51.00106075,
             "test": [
              0.6361207137,
              0.1523636538
             ]
            },
            {
             "iteration": 745,
             "learn": [
              0.1087883313
             ],
             "passed_time": 30.31297829,
             "remaining_time": 50.95506002,
             "test": [
              0.6361207137,
              0.152364142
             ]
            },
            {
             "iteration": 746,
             "learn": [
              0.1087498351
             ],
             "passed_time": 30.35040212,
             "remaining_time": 50.90904131,
             "test": [
              0.6361207137,
              0.1523646347
             ]
            },
            {
             "iteration": 747,
             "learn": [
              0.1087113289
             ],
             "passed_time": 30.38830521,
             "remaining_time": 50.86384776,
             "test": [
              0.6361041337,
              0.1523690452
             ]
            },
            {
             "iteration": 748,
             "learn": [
              0.108672849
             ],
             "passed_time": 30.42747292,
             "remaining_time": 50.82078587,
             "test": [
              0.6361041337,
              0.1523695455
             ]
            },
            {
             "iteration": 749,
             "learn": [
              0.1086343947
             ],
             "passed_time": 30.46551022,
             "remaining_time": 50.77585036,
             "test": [
              0.6361041337,
              0.1523700498
             ]
            },
            {
             "iteration": 750,
             "learn": [
              0.1085959674
             ],
             "passed_time": 30.50395845,
             "remaining_time": 50.73161665,
             "test": [
              0.6361041337,
              0.1523705579
             ]
            },
            {
             "iteration": 751,
             "learn": [
              0.1085575427
             ],
             "passed_time": 30.54142207,
             "remaining_time": 50.68576428,
             "test": [
              0.6361041337,
              0.1523710695
             ]
            },
            {
             "iteration": 752,
             "learn": [
              0.108519187
             ],
             "passed_time": 30.57946579,
             "remaining_time": 50.64089487,
             "test": [
              0.6361041337,
              0.1523715843
             ]
            },
            {
             "iteration": 753,
             "learn": [
              0.1084808243
             ],
             "passed_time": 30.61869633,
             "remaining_time": 50.59800481,
             "test": [
              0.6361041337,
              0.1523721028
             ]
            },
            {
             "iteration": 754,
             "learn": [
              0.1084424664
             ],
             "passed_time": 30.65744652,
             "remaining_time": 50.55433235,
             "test": [
              0.6361041337,
              0.1523726245
             ]
            },
            {
             "iteration": 755,
             "learn": [
              0.1083450843
             ],
             "passed_time": 30.69781114,
             "remaining_time": 50.51332944,
             "test": [
              0.6359742567,
              0.152378584
             ]
            },
            {
             "iteration": 756,
             "learn": [
              0.1083068112
             ],
             "passed_time": 30.73577794,
             "remaining_time": 50.46839099,
             "test": [
              0.6359742567,
              0.1523791046
             ]
            },
            {
             "iteration": 757,
             "learn": [
              0.108268468
             ],
             "passed_time": 30.77295051,
             "remaining_time": 50.42216957,
             "test": [
              0.63596044,
              0.1523845977
             ]
            },
            {
             "iteration": 758,
             "learn": [
              0.1082302528
             ],
             "passed_time": 30.81109802,
             "remaining_time": 50.37756607,
             "test": [
              0.63596044,
              0.1523851242
             ]
            },
            {
             "iteration": 759,
             "learn": [
              0.108193778
             ],
             "passed_time": 30.85269913,
             "remaining_time": 50.33861437,
             "test": [
              0.63596044,
              0.1523856286
             ]
            },
            {
             "iteration": 760,
             "learn": [
              0.1081556101
             ],
             "passed_time": 30.89003916,
             "remaining_time": 50.29271816,
             "test": [
              0.63596044,
              0.1523861635
             ]
            },
            {
             "iteration": 761,
             "learn": [
              0.1081174657
             ],
             "passed_time": 30.93322177,
             "remaining_time": 50.25633668,
             "test": [
              0.63596044,
              0.1523867012
             ]
            },
            {
             "iteration": 762,
             "learn": [
              0.1080793118
             ],
             "passed_time": 30.97252264,
             "remaining_time": 50.21364418,
             "test": [
              0.63596044,
              0.1523872419
             ]
            },
            {
             "iteration": 763,
             "learn": [
              0.1080412316
             ],
             "passed_time": 31.01187461,
             "remaining_time": 50.17104321,
             "test": [
              0.63596044,
              0.1523877854
             ]
            },
            {
             "iteration": 764,
             "learn": [
              0.1080031779
             ],
             "passed_time": 31.1150323,
             "remaining_time": 50.23145738,
             "test": [
              0.63596044,
              0.1523883318
             ]
            },
            {
             "iteration": 765,
             "learn": [
              0.1078998913
             ],
             "passed_time": 31.17503052,
             "remaining_time": 50.22191601,
             "test": [
              0.6354132988,
              0.1524008016
             ]
            },
            {
             "iteration": 766,
             "learn": [
              0.107861815
             ],
             "passed_time": 31.2858008,
             "remaining_time": 50.2938623,
             "test": [
              0.6354132988,
              0.152401301
             ]
            },
            {
             "iteration": 767,
             "learn": [
              0.107823807
             ],
             "passed_time": 31.35644384,
             "remaining_time": 50.30096199,
             "test": [
              0.6354105355,
              0.1524059485
             ]
            },
            {
             "iteration": 768,
             "learn": [
              0.1077857995
             ],
             "passed_time": 31.45061413,
             "remaining_time": 50.34552145,
             "test": [
              0.6354105355,
              0.1524064562
             ]
            },
            {
             "iteration": 769,
             "learn": [
              0.1077478804
             ],
             "passed_time": 31.53607365,
             "remaining_time": 50.37580597,
             "test": [
              0.6354105355,
              0.1524069688
             ]
            },
            {
             "iteration": 770,
             "learn": [
              0.1077099294
             ],
             "passed_time": 31.59405444,
             "remaining_time": 50.36198821,
             "test": [
              0.6353911921,
              0.1524103344
             ]
            },
            {
             "iteration": 771,
             "learn": [
              0.1076720858
             ],
             "passed_time": 31.64138016,
             "remaining_time": 50.3311073,
             "test": [
              0.6353911921,
              0.1524108548
             ]
            },
            {
             "iteration": 772,
             "learn": [
              0.1076342157
             ],
             "passed_time": 31.69668104,
             "remaining_time": 50.312843,
             "test": [
              0.6353911921,
              0.1524113794
             ]
            },
            {
             "iteration": 773,
             "learn": [
              0.1075964123
             ],
             "passed_time": 31.74852546,
             "remaining_time": 50.28900803,
             "test": [
              0.6353911921,
              0.1524119083
             ]
            },
            {
             "iteration": 774,
             "learn": [
              0.1075586267
             ],
             "passed_time": 31.80854043,
             "remaining_time": 50.27801552,
             "test": [
              0.6353911921,
              0.1524124406
             ]
            },
            {
             "iteration": 775,
             "learn": [
              0.1075209162
             ],
             "passed_time": 31.85841359,
             "remaining_time": 50.25089979,
             "test": [
              0.6353911921,
              0.1524129766
             ]
            },
            {
             "iteration": 776,
             "learn": [
              0.1074831813
             ],
             "passed_time": 31.89946601,
             "remaining_time": 50.20984161,
             "test": [
              0.6353911921,
              0.1524135166
             ]
            },
            {
             "iteration": 777,
             "learn": [
              0.1074455151
             ],
             "passed_time": 31.9373806,
             "remaining_time": 50.16385488,
             "test": [
              0.6353635587,
              0.1524180903
             ]
            },
            {
             "iteration": 778,
             "learn": [
              0.107407874
             ],
             "passed_time": 31.97571979,
             "remaining_time": 50.11855438,
             "test": [
              0.6353635587,
              0.152418637
             ]
            },
            {
             "iteration": 779,
             "learn": [
              0.1073702327
             ],
             "passed_time": 32.01548539,
             "remaining_time": 50.07550278,
             "test": [
              0.6353635587,
              0.1524191871
             ]
            },
            {
             "iteration": 780,
             "learn": [
              0.1073326156
             ],
             "passed_time": 32.05775909,
             "remaining_time": 50.03637431,
             "test": [
              0.6353635587,
              0.1524197407
             ]
            },
            {
             "iteration": 781,
             "learn": [
              0.1072795348
             ],
             "passed_time": 32.10169009,
             "remaining_time": 49.9998191,
             "test": [
              0.6353110553,
              0.1524223171
             ]
            },
            {
             "iteration": 782,
             "learn": [
              0.1072420179
             ],
             "passed_time": 32.14308728,
             "remaining_time": 49.95930679,
             "test": [
              0.6353110553,
              0.1524228807
             ]
            },
            {
             "iteration": 783,
             "learn": [
              0.1072043958
             ],
             "passed_time": 32.17997071,
             "remaining_time": 49.91179131,
             "test": [
              0.635308292,
              0.1524275616
             ]
            },
            {
             "iteration": 784,
             "learn": [
              0.107166929
             ],
             "passed_time": 32.21669386,
             "remaining_time": 49.86405482,
             "test": [
              0.6352834219,
              0.1524355218
             ]
            },
            {
             "iteration": 785,
             "learn": [
              0.1071294075
             ],
             "passed_time": 32.25373734,
             "remaining_time": 49.81684113,
             "test": [
              0.6352834219,
              0.152436093
             ]
            },
            {
             "iteration": 786,
             "learn": [
              0.1070919068
             ],
             "passed_time": 32.29208952,
             "remaining_time": 49.77167039,
             "test": [
              0.6352834219,
              0.1524366671
             ]
            },
            {
             "iteration": 787,
             "learn": [
              0.1070544829
             ],
             "passed_time": 32.32982207,
             "remaining_time": 49.72556389,
             "test": [
              0.6352778952,
              0.1524429463
             ]
            },
            {
             "iteration": 788,
             "learn": [
              0.1070170595
             ],
             "passed_time": 32.37077032,
             "remaining_time": 49.68441427,
             "test": [
              0.6352778952,
              0.1524435248
             ]
            },
            {
             "iteration": 789,
             "learn": [
              0.1069796811
             ],
             "passed_time": 32.41152553,
             "remaining_time": 49.64296948,
             "test": [
              0.6352778952,
              0.1524441058
             ]
            },
            {
             "iteration": 790,
             "learn": [
              0.1069423323
             ],
             "passed_time": 32.45192227,
             "remaining_time": 49.60097854,
             "test": [
              0.6352778952,
              0.1524446891
             ]
            },
            {
             "iteration": 791,
             "learn": [
              0.1069050039
             ],
             "passed_time": 32.48903659,
             "remaining_time": 49.5539851,
             "test": [
              0.6352778952,
              0.152445275
             ]
            },
            {
             "iteration": 792,
             "learn": [
              0.1068676849
             ],
             "passed_time": 32.52719356,
             "remaining_time": 49.50860357,
             "test": [
              0.6352778952,
              0.1524458635
             ]
            },
            {
             "iteration": 793,
             "learn": [
              0.1068303848
             ],
             "passed_time": 32.565504,
             "remaining_time": 49.46347332,
             "test": [
              0.6352778952,
              0.1524464546
             ]
            },
            {
             "iteration": 794,
             "learn": [
              0.1067931488
             ],
             "passed_time": 32.60323491,
             "remaining_time": 49.41748185,
             "test": [
              0.6352778952,
              0.1524470478
             ]
            },
            {
             "iteration": 795,
             "learn": [
              0.1067559008
             ],
             "passed_time": 32.6436489,
             "remaining_time": 49.37556945,
             "test": [
              0.6352778952,
              0.1524476436
             ]
            },
            {
             "iteration": 796,
             "learn": [
              0.1066552386
             ],
             "passed_time": 32.68506396,
             "remaining_time": 49.33517183,
             "test": [
              0.6352198651,
              0.1524420298
             ]
            },
            {
             "iteration": 797,
             "learn": [
              0.1066173991
             ],
             "passed_time": 32.72474593,
             "remaining_time": 49.29216117,
             "test": [
              0.6352198651,
              0.1524425987
             ]
            },
            {
             "iteration": 798,
             "learn": [
              0.1065801897
             ],
             "passed_time": 32.76344429,
             "remaining_time": 49.24768035,
             "test": [
              0.6352198651,
              0.1524431491
             ]
            },
            {
             "iteration": 799,
             "learn": [
              0.1065430167
             ],
             "passed_time": 32.80432996,
             "remaining_time": 49.20649495,
             "test": [
              0.6352198651,
              0.1524437037
             ]
            },
            {
             "iteration": 800,
             "learn": [
              0.1065058348
             ],
             "passed_time": 32.84259702,
             "remaining_time": 49.16139055,
             "test": [
              0.6352143384,
              0.1524470131
             ]
            },
            {
             "iteration": 801,
             "learn": [
              0.1063861
             ],
             "passed_time": 32.88292018,
             "remaining_time": 49.11937453,
             "test": [
              0.6347915475,
              0.1524715149
             ]
            },
            {
             "iteration": 802,
             "learn": [
              0.106348908
             ],
             "passed_time": 32.92268415,
             "remaining_time": 49.07652917,
             "test": [
              0.6347915475,
              0.1524720174
             ]
            },
            {
             "iteration": 803,
             "learn": [
              0.1063121298
             ],
             "passed_time": 32.96371936,
             "remaining_time": 49.03558254,
             "test": [
              0.6347915475,
              0.1524725264
             ]
            },
            {
             "iteration": 804,
             "learn": [
              0.1062750651
             ],
             "passed_time": 33.00325775,
             "remaining_time": 48.99241367,
             "test": [
              0.6347860208,
              0.1524752764
             ]
            },
            {
             "iteration": 805,
             "learn": [
              0.1062380282
             ],
             "passed_time": 33.04210903,
             "remaining_time": 48.94823596,
             "test": [
              0.6347860208,
              0.1524757963
             ]
            },
            {
             "iteration": 806,
             "learn": [
              0.1062010353
             ],
             "passed_time": 33.08203692,
             "remaining_time": 48.90566301,
             "test": [
              0.6347860208,
              0.1524763218
             ]
            },
            {
             "iteration": 807,
             "learn": [
              0.1061641008
             ],
             "passed_time": 33.11940196,
             "remaining_time": 48.85931576,
             "test": [
              0.6347860208,
              0.1524768531
             ]
            },
            {
             "iteration": 808,
             "learn": [
              0.1061271205
             ],
             "passed_time": 33.15925597,
             "remaining_time": 48.81665496,
             "test": [
              0.6347860208,
              0.1524773902
             ]
            },
            {
             "iteration": 809,
             "learn": [
              0.1060902192
             ],
             "passed_time": 33.19745695,
             "remaining_time": 48.77157255,
             "test": [
              0.6347860208,
              0.1524779328
             ]
            },
            {
             "iteration": 810,
             "learn": [
              0.1060533529
             ],
             "passed_time": 33.23659011,
             "remaining_time": 48.72787379,
             "test": [
              0.6347860208,
              0.1524784806
             ]
            },
            {
             "iteration": 811,
             "learn": [
              0.1060165074
             ],
             "passed_time": 33.27442395,
             "remaining_time": 48.68228529,
             "test": [
              0.6347860208,
              0.1524790335
             ]
            },
            {
             "iteration": 812,
             "learn": [
              0.105979675
             ],
             "passed_time": 33.31245883,
             "remaining_time": 48.63700939,
             "test": [
              0.6347860208,
              0.1524795916
             ]
            },
            {
             "iteration": 813,
             "learn": [
              0.105942894
             ],
             "passed_time": 33.35282316,
             "remaining_time": 48.59514529,
             "test": [
              0.6347860208,
              0.1524845208
             ]
            },
            {
             "iteration": 814,
             "learn": [
              0.1059070948
             ],
             "passed_time": 33.39303043,
             "remaining_time": 48.55305652,
             "test": [
              0.6347860208,
              0.1524850733
             ]
            },
            {
             "iteration": 815,
             "learn": [
              0.1058703702
             ],
             "passed_time": 33.4324394,
             "remaining_time": 48.50981403,
             "test": [
              0.6347860208,
              0.1524856459
             ]
            },
            {
             "iteration": 816,
             "learn": [
              0.1058336722
             ],
             "passed_time": 33.47295518,
             "remaining_time": 48.46818357,
             "test": [
              0.6347860208,
              0.1524862226
             ]
            },
            {
             "iteration": 817,
             "learn": [
              0.1056921954
             ],
             "passed_time": 33.51356651,
             "remaining_time": 48.42669391,
             "test": [
              0.6353607954,
              0.1524425857
             ]
            },
            {
             "iteration": 818,
             "learn": [
              0.105655564
             ],
             "passed_time": 33.5545006,
             "remaining_time": 48.3856718,
             "test": [
              0.6353607954,
              0.1524430779
             ]
            },
            {
             "iteration": 819,
             "learn": [
              0.1056189314
             ],
             "passed_time": 33.5935543,
             "remaining_time": 48.34194399,
             "test": [
              0.6353607954,
              0.1524435781
             ]
            },
            {
             "iteration": 820,
             "learn": [
              0.1055823366
             ],
             "passed_time": 33.63584255,
             "remaining_time": 48.30287255,
             "test": [
              0.6353607954,
              0.1524440861
             ]
            },
            {
             "iteration": 821,
             "learn": [
              0.1055457699
             ],
             "passed_time": 33.67460808,
             "remaining_time": 48.25874491,
             "test": [
              0.6353607954,
              0.1524446015
             ]
            },
            {
             "iteration": 822,
             "learn": [
              0.105509246
             ],
             "passed_time": 33.71472048,
             "remaining_time": 48.2165565,
             "test": [
              0.6353607954,
              0.1524451243
             ]
            },
            {
             "iteration": 823,
             "learn": [
              0.1054727051
             ],
             "passed_time": 33.75584707,
             "remaining_time": 48.17582058,
             "test": [
              0.6353359253,
              0.1524486623
             ]
            },
            {
             "iteration": 824,
             "learn": [
              0.1054362273
             ],
             "passed_time": 33.79758593,
             "remaining_time": 48.13595572,
             "test": [
              0.6353359253,
              0.1524491988
             ]
            },
            {
             "iteration": 825,
             "learn": [
              0.1054014145
             ],
             "passed_time": 33.83706185,
             "remaining_time": 48.09286999,
             "test": [
              0.6353359253,
              0.1524497147
             ]
            },
            {
             "iteration": 826,
             "learn": [
              0.1053649433
             ],
             "passed_time": 33.87497298,
             "remaining_time": 48.04757353,
             "test": [
              0.6353359253,
              0.1524502662
             ]
            },
            {
             "iteration": 827,
             "learn": [
              0.1053285504
             ],
             "passed_time": 33.91314716,
             "remaining_time": 48.00266724,
             "test": [
              0.6353359253,
              0.1524508235
             ]
            },
            {
             "iteration": 828,
             "learn": [
              0.1052508018
             ],
             "passed_time": 33.95343744,
             "remaining_time": 47.96076628,
             "test": [
              0.6346506172,
              0.1525039438
             ]
            },
            {
             "iteration": 829,
             "learn": [
              0.1052143225
             ],
             "passed_time": 33.99131503,
             "remaining_time": 47.91546818,
             "test": [
              0.6346506172,
              0.1525105053
             ]
            },
            {
             "iteration": 830,
             "learn": [
              0.105177979
             ],
             "passed_time": 34.02865948,
             "remaining_time": 47.86943795,
             "test": [
              0.6346506172,
              0.1525110041
             ]
            },
            {
             "iteration": 831,
             "learn": [
              0.1051424583
             ],
             "passed_time": 34.06702713,
             "remaining_time": 47.824865,
             "test": [
              0.6346506172,
              0.1525114993
             ]
            },
            {
             "iteration": 832,
             "learn": [
              0.1051061627
             ],
             "passed_time": 34.10479734,
             "remaining_time": 47.77946998,
             "test": [
              0.6346506172,
              0.1525181284
             ]
            },
            {
             "iteration": 833,
             "learn": [
              0.1050699147
             ],
             "passed_time": 34.14961294,
             "remaining_time": 47.74394328,
             "test": [
              0.6346368005,
              0.1525201188
             ]
            },
            {
             "iteration": 834,
             "learn": [
              0.1050336753
             ],
             "passed_time": 34.18863431,
             "remaining_time": 47.70031015,
             "test": [
              0.6346257471,
              0.1525248952
             ]
            },
            {
             "iteration": 835,
             "learn": [
              0.1049974585
             ],
             "passed_time": 34.22806878,
             "remaining_time": 47.65726323,
             "test": [
              0.6346257471,
              0.1525254328
             ]
            },
            {
             "iteration": 836,
             "learn": [
              0.1049612239
             ],
             "passed_time": 34.26604445,
             "remaining_time": 47.61219797,
             "test": [
              0.6346257471,
              0.1525259776
             ]
            },
            {
             "iteration": 837,
             "learn": [
              0.1049250649
             ],
             "passed_time": 34.30503949,
             "remaining_time": 47.56856311,
             "test": [
              0.6346257471,
              0.1525265294
             ]
            },
            {
             "iteration": 838,
             "learn": [
              0.1048888862
             ],
             "passed_time": 34.34496988,
             "remaining_time": 47.52623365,
             "test": [
              0.6346257471,
              0.152531357
             ]
            },
            {
             "iteration": 839,
             "learn": [
              0.1048528188
             ],
             "passed_time": 34.38271289,
             "remaining_time": 47.48088922,
             "test": [
              0.6346257471,
              0.1525319209
             ]
            },
            {
             "iteration": 840,
             "learn": [
              0.1048181779
             ],
             "passed_time": 34.42033797,
             "remaining_time": 47.43540036,
             "test": [
              0.6346257471,
              0.1525324664
             ]
            },
            {
             "iteration": 841,
             "learn": [
              0.1047820828
             ],
             "passed_time": 34.45756387,
             "remaining_time": 47.3893812,
             "test": [
              0.6346257471,
              0.1525330443
             ]
            },
            {
             "iteration": 842,
             "learn": [
              0.1047460458
             ],
             "passed_time": 34.49604427,
             "remaining_time": 47.34510465,
             "test": [
              0.6346146938,
              0.1525349821
             ]
            },
            {
             "iteration": 843,
             "learn": [
              0.1047100637
             ],
             "passed_time": 34.53473788,
             "remaining_time": 47.30113388,
             "test": [
              0.6346146938,
              0.1525355709
             ]
            },
            {
             "iteration": 844,
             "learn": [
              0.1046740347
             ],
             "passed_time": 34.57248276,
             "remaining_time": 47.2558788,
             "test": [
              0.6346146938,
              0.1525361651
             ]
            },
            {
             "iteration": 845,
             "learn": [
              0.1046380274
             ],
             "passed_time": 34.61640972,
             "remaining_time": 47.21907425,
             "test": [
              0.6346146938,
              0.1525367644
             ]
            },
            {
             "iteration": 846,
             "learn": [
              0.1046021258
             ],
             "passed_time": 34.65717009,
             "remaining_time": 47.17794229,
             "test": [
              0.6346146938,
              0.1525373685
             ]
            },
            {
             "iteration": 847,
             "learn": [
              0.1045681138
             ],
             "passed_time": 34.69607613,
             "remaining_time": 47.1342921,
             "test": [
              0.6346064038,
              0.1525385708
             ]
            },
            {
             "iteration": 848,
             "learn": [
              0.1045322239
             ],
             "passed_time": 34.73437698,
             "remaining_time": 47.08983263,
             "test": [
              0.6346064038,
              0.1525391867
             ]
            },
            {
             "iteration": 849,
             "learn": [
              0.1044968175
             ],
             "passed_time": 34.77227086,
             "remaining_time": 47.04483704,
             "test": [
              0.6346064038,
              0.1525398127
             ]
            },
            {
             "iteration": 850,
             "learn": [
              0.104460971
             ],
             "passed_time": 34.81139627,
             "remaining_time": 47.00152094,
             "test": [
              0.6346064038,
              0.1525433761
             ]
            },
            {
             "iteration": 851,
             "learn": [
              0.1044251603
             ],
             "passed_time": 34.84955833,
             "remaining_time": 46.95691662,
             "test": [
              0.6346064038,
              0.1525463732
             ]
            },
            {
             "iteration": 852,
             "learn": [
              0.1043893998
             ],
             "passed_time": 34.88946664,
             "remaining_time": 46.91467554,
             "test": [
              0.6346064038,
              0.1525470044
             ]
            },
            {
             "iteration": 853,
             "learn": [
              0.1043536546
             ],
             "passed_time": 34.92834321,
             "remaining_time": 46.87105541,
             "test": [
              0.6346064038,
              0.152547639
             ]
            },
            {
             "iteration": 854,
             "learn": [
              0.1043196734
             ],
             "passed_time": 34.96764196,
             "remaining_time": 46.82801175,
             "test": [
              0.6346064038,
              0.1525482483
             ]
            },
            {
             "iteration": 855,
             "learn": [
              0.1042839375
             ],
             "passed_time": 35.00837671,
             "remaining_time": 46.78689598,
             "test": [
              0.6346064038,
              0.1525488929
             ]
            },
            {
             "iteration": 856,
             "learn": [
              0.1042483122
             ],
             "passed_time": 35.04847507,
             "remaining_time": 46.74493233,
             "test": [
              0.6346064038,
              0.1525495409
             ]
            },
            {
             "iteration": 857,
             "learn": [
              0.1042127043
             ],
             "passed_time": 35.09090615,
             "remaining_time": 46.70607789,
             "test": [
              0.6346064038,
              0.1525501924
             ]
            },
            {
             "iteration": 858,
             "learn": [
              0.104177091
             ],
             "passed_time": 35.12864974,
             "remaining_time": 46.66098877,
             "test": [
              0.6346064038,
              0.1525508472
             ]
            },
            {
             "iteration": 859,
             "learn": [
              0.1041414788
             ],
             "passed_time": 35.16935782,
             "remaining_time": 46.61984641,
             "test": [
              0.6346064038,
              0.1525543956
             ]
            },
            {
             "iteration": 860,
             "learn": [
              0.1041059209
             ],
             "passed_time": 35.20850649,
             "remaining_time": 46.57664215,
             "test": [
              0.6346064038,
              0.152555057
             ]
            },
            {
             "iteration": 861,
             "learn": [
              0.1040703723
             ],
             "passed_time": 35.25051319,
             "remaining_time": 46.53722042,
             "test": [
              0.6346064038,
              0.1525603152
             ]
            },
            {
             "iteration": 862,
             "learn": [
              0.1040348386
             ],
             "passed_time": 35.29151498,
             "remaining_time": 46.49646875,
             "test": [
              0.6346064038,
              0.1525609819
             ]
            },
            {
             "iteration": 863,
             "learn": [
              0.1039993845
             ],
             "passed_time": 35.33037856,
             "remaining_time": 46.45290514,
             "test": [
              0.6346064038,
              0.1525616515
             ]
            },
            {
             "iteration": 864,
             "learn": [
              0.103963881
             ],
             "passed_time": 35.36799381,
             "remaining_time": 46.40771442,
             "test": [
              0.6346064038,
              0.1525623242
             ]
            },
            {
             "iteration": 865,
             "learn": [
              0.1039285182
             ],
             "passed_time": 35.40523529,
             "remaining_time": 46.36205176,
             "test": [
              0.6346064038,
              0.1525629992
             ]
            },
            {
             "iteration": 866,
             "learn": [
              0.1038931197
             ],
             "passed_time": 35.44342398,
             "remaining_time": 46.31764633,
             "test": [
              0.6346064038,
              0.1525636768
             ]
            },
            {
             "iteration": 867,
             "learn": [
              0.103857733
             ],
             "passed_time": 35.48238172,
             "remaining_time": 46.27425819,
             "test": [
              0.6346064038,
              0.1525643574
             ]
            },
            {
             "iteration": 868,
             "learn": [
              0.1038224152
             ],
             "passed_time": 35.52020122,
             "remaining_time": 46.22939883,
             "test": [
              0.6346008771,
              0.1525714518
             ]
            },
            {
             "iteration": 869,
             "learn": [
              0.1037870961
             ],
             "passed_time": 35.56029562,
             "remaining_time": 46.18751041,
             "test": [
              0.6346008771,
              0.1525721367
             ]
            },
            {
             "iteration": 870,
             "learn": [
              0.103751814
             ],
             "passed_time": 35.60094837,
             "remaining_time": 46.14634984,
             "test": [
              0.6346008771,
              0.1525728245
             ]
            },
            {
             "iteration": 871,
             "learn": [
              0.1037165528
             ],
             "passed_time": 35.64248293,
             "remaining_time": 46.10633113,
             "test": [
              0.6346008771,
              0.1525735148
             ]
            },
            {
             "iteration": 872,
             "learn": [
              0.1036812758
             ],
             "passed_time": 35.68133846,
             "remaining_time": 46.06285045,
             "test": [
              0.6346008771,
              0.1525742078
             ]
            },
            {
             "iteration": 873,
             "learn": [
              0.1036460859
             ],
             "passed_time": 35.72092093,
             "remaining_time": 46.0203169,
             "test": [
              0.6346008771,
              0.1525749033
             ]
            },
            {
             "iteration": 874,
             "learn": [
              0.1036108666
             ],
             "passed_time": 35.75971183,
             "remaining_time": 45.97677236,
             "test": [
              0.6346008771,
              0.1525756013
             ]
            },
            {
             "iteration": 875,
             "learn": [
              0.1035756705
             ],
             "passed_time": 35.79979844,
             "remaining_time": 45.9349012,
             "test": [
              0.6346008771,
              0.1525763015
             ]
            },
            {
             "iteration": 876,
             "learn": [
              0.1035405212
             ],
             "passed_time": 35.83877327,
             "remaining_time": 45.89161047,
             "test": [
              0.6346008771,
              0.152577004
             ]
            },
            {
             "iteration": 877,
             "learn": [
              0.1035053975
             ],
             "passed_time": 35.87815073,
             "remaining_time": 45.8488441,
             "test": [
              0.6346008771,
              0.1525777086
             ]
            },
            {
             "iteration": 878,
             "learn": [
              0.1034703108
             ],
             "passed_time": 35.9163797,
             "remaining_time": 45.80462076,
             "test": [
              0.6346008771,
              0.1525784155
             ]
            },
            {
             "iteration": 879,
             "learn": [
              0.1033984395
             ],
             "passed_time": 35.95836399,
             "remaining_time": 45.76519053,
             "test": [
              0.634551137,
              0.1525838986
             ]
            },
            {
             "iteration": 880,
             "learn": [
              0.1033633398
             ],
             "passed_time": 35.99942295,
             "remaining_time": 45.72457921,
             "test": [
              0.634551137,
              0.1525845907
             ]
            },
            {
             "iteration": 881,
             "learn": [
              0.1033287649
             ],
             "passed_time": 36.03927468,
             "remaining_time": 45.68243661,
             "test": [
              0.6345456103,
              0.1525917352
             ]
            },
            {
             "iteration": 882,
             "learn": [
              0.1032936999
             ],
             "passed_time": 36.08026056,
             "remaining_time": 45.64173391,
             "test": [
              0.6345207402,
              0.1525984681
             ]
            },
            {
             "iteration": 883,
             "learn": [
              0.1032587361
             ],
             "passed_time": 36.11883808,
             "remaining_time": 45.59799016,
             "test": [
              0.6345207402,
              0.1525991667
             ]
            },
            {
             "iteration": 884,
             "learn": [
              0.1032237272
             ],
             "passed_time": 36.15792274,
             "remaining_time": 45.55489702,
             "test": [
              0.6345207402,
              0.1525998683
             ]
            },
            {
             "iteration": 885,
             "learn": [
              0.1031887438
             ],
             "passed_time": 36.19657144,
             "remaining_time": 45.51126477,
             "test": [
              0.6345207402,
              0.1526005728
             ]
            },
            {
             "iteration": 886,
             "learn": [
              0.1031538068
             ],
             "passed_time": 36.23563343,
             "remaining_time": 45.46816236,
             "test": [
              0.6345207402,
              0.1526057542
             ]
            },
            {
             "iteration": 887,
             "learn": [
              0.1031188903
             ],
             "passed_time": 36.27306634,
             "remaining_time": 45.42302903,
             "test": [
              0.6345207402,
              0.1526064631
             ]
            },
            {
             "iteration": 888,
             "learn": [
              0.103084029
             ],
             "passed_time": 36.31263773,
             "remaining_time": 45.38058551,
             "test": [
              0.6345207402,
              0.1526071743
             ]
            },
            {
             "iteration": 889,
             "learn": [
              0.1030491884
             ],
             "passed_time": 36.35131634,
             "remaining_time": 45.33703499,
             "test": [
              0.6345096869,
              0.1526093218
             ]
            },
            {
             "iteration": 890,
             "learn": [
              0.1030143064
             ],
             "passed_time": 36.38892026,
             "remaining_time": 45.29215776,
             "test": [
              0.6345096869,
              0.1526100377
             ]
            },
            {
             "iteration": 891,
             "learn": [
              0.1029795314
             ],
             "passed_time": 36.42751791,
             "remaining_time": 45.24853121,
             "test": [
              0.6345096869,
              0.1526107562
             ]
            },
            {
             "iteration": 892,
             "learn": [
              0.1029447472
             ],
             "passed_time": 36.46679432,
             "remaining_time": 45.20575735,
             "test": [
              0.6345096869,
              0.1526114772
             ]
            },
            {
             "iteration": 893,
             "learn": [
              0.1029099519
             ],
             "passed_time": 36.50449807,
             "remaining_time": 45.16104572,
             "test": [
              0.6345096869,
              0.1526122005
             ]
            },
            {
             "iteration": 894,
             "learn": [
              0.1028752092
             ],
             "passed_time": 36.54161819,
             "remaining_time": 45.11562916,
             "test": [
              0.6345096869,
              0.1526129257
             ]
            },
            {
             "iteration": 895,
             "learn": [
              0.1028405346
             ],
             "passed_time": 36.57849717,
             "remaining_time": 45.06993401,
             "test": [
              0.6345096869,
              0.1526136532
             ]
            },
            {
             "iteration": 896,
             "learn": [
              0.1028058465
             ],
             "passed_time": 36.61603975,
             "remaining_time": 45.02507451,
             "test": [
              0.6345096869,
              0.1526143831
             ]
            },
            {
             "iteration": 897,
             "learn": [
              0.1027711791
             ],
             "passed_time": 36.65429951,
             "remaining_time": 44.98111143,
             "test": [
              0.6345096869,
              0.1526151153
             ]
            },
            {
             "iteration": 898,
             "learn": [
              0.1027365332
             ],
             "passed_time": 36.69253461,
             "remaining_time": 44.93713082,
             "test": [
              0.6345096869,
              0.1526189483
             ]
            },
            {
             "iteration": 899,
             "learn": [
              0.102701932
             ],
             "passed_time": 36.73049858,
             "remaining_time": 44.89283159,
             "test": [
              0.6345069235,
              0.152622182
             ]
            },
            {
             "iteration": 900,
             "learn": [
              0.1026673716
             ],
             "passed_time": 36.77086544,
             "remaining_time": 44.85147738,
             "test": [
              0.6345069235,
              0.1526229192
             ]
            },
            {
             "iteration": 901,
             "learn": [
              0.1026324678
             ],
             "passed_time": 36.81011061,
             "remaining_time": 44.80875992,
             "test": [
              0.6345069235,
              0.152623676
             ]
            },
            {
             "iteration": 902,
             "learn": [
              0.1025996636
             ],
             "passed_time": 36.84867992,
             "remaining_time": 44.7652291,
             "test": [
              0.6345069235,
              0.1526243844
             ]
            },
            {
             "iteration": 903,
             "learn": [
              0.1025587489
             ],
             "passed_time": 36.88687381,
             "remaining_time": 44.72125409,
             "test": [
              0.6345069235,
              0.1526256869
             ]
            },
            {
             "iteration": 904,
             "learn": [
              0.1025242662
             ],
             "passed_time": 36.92765211,
             "remaining_time": 44.68041885,
             "test": [
              0.6345069235,
              0.1526264498
             ]
            },
            {
             "iteration": 905,
             "learn": [
              0.102417218
             ],
             "passed_time": 36.9728496,
             "remaining_time": 44.64491993,
             "test": [
              0.6346423272,
              0.1526402276
             ]
            },
            {
             "iteration": 906,
             "learn": [
              0.10238271
             ],
             "passed_time": 37.01293554,
             "remaining_time": 44.60323985,
             "test": [
              0.6346423272,
              0.1526409611
             ]
            },
            {
             "iteration": 907,
             "learn": [
              0.1023482704
             ],
             "passed_time": 37.05242729,
             "remaining_time": 44.56084869,
             "test": [
              0.6346423272,
              0.1526447515
             ]
            },
            {
             "iteration": 908,
             "learn": [
              0.1023138685
             ],
             "passed_time": 37.09089007,
             "remaining_time": 44.51722889,
             "test": [
              0.6346423272,
              0.1526454901
             ]
            },
            {
             "iteration": 909,
             "learn": [
              0.1022794634
             ],
             "passed_time": 37.13033149,
             "remaining_time": 44.47479266,
             "test": [
              0.6346423272,
              0.1526462315
             ]
            },
            {
             "iteration": 910,
             "learn": [
              0.1022392348
             ],
             "passed_time": 37.17405978,
             "remaining_time": 44.43748748,
             "test": [
              0.6346423272,
              0.1526523685
             ]
            },
            {
             "iteration": 911,
             "learn": [
              0.1022048475
             ],
             "passed_time": 37.21294077,
             "remaining_time": 44.39438548,
             "test": [
              0.6346423272,
              0.1526531296
             ]
            },
            {
             "iteration": 912,
             "learn": [
              0.1021704714
             ],
             "passed_time": 37.2510747,
             "remaining_time": 44.35040328,
             "test": [
              0.6346423272,
              0.1526538927
             ]
            },
            {
             "iteration": 913,
             "learn": [
              0.1021380803
             ],
             "passed_time": 37.28856936,
             "remaining_time": 44.30567431,
             "test": [
              0.6346146938,
              0.1526554414
             ]
            },
            {
             "iteration": 914,
             "learn": [
              0.1021037756
             ],
             "passed_time": 37.32623753,
             "remaining_time": 44.2611669,
             "test": [
              0.6346146938,
              0.1526562099
             ]
            },
            {
             "iteration": 915,
             "learn": [
              0.1020695535
             ],
             "passed_time": 37.36301025,
             "remaining_time": 44.21561475,
             "test": [
              0.6346146938,
              0.1526569798
             ]
            },
            {
             "iteration": 916,
             "learn": [
              0.1020353044
             ],
             "passed_time": 37.40095664,
             "remaining_time": 44.17146787,
             "test": [
              0.6346146938,
              0.1526644981
             ]
            },
            {
             "iteration": 917,
             "learn": [
              0.1020011257
             ],
             "passed_time": 37.43960362,
             "remaining_time": 44.12816026,
             "test": [
              0.6346146938,
              0.1526652703
             ]
            },
            {
             "iteration": 918,
             "learn": [
              0.1019683648
             ],
             "passed_time": 37.47793147,
             "remaining_time": 44.0844874,
             "test": [
              0.6346146938,
              0.152666018
             ]
            },
            {
             "iteration": 919,
             "learn": [
              0.1019342167
             ],
             "passed_time": 37.51708784,
             "remaining_time": 44.04179877,
             "test": [
              0.6346146938,
              0.1526667954
             ]
            },
            {
             "iteration": 920,
             "learn": [
              0.1019001095
             ],
             "passed_time": 37.55741954,
             "remaining_time": 44.00049477,
             "test": [
              0.6346146938,
              0.1526675746
             ]
            },
            {
             "iteration": 921,
             "learn": [
              0.1018660142
             ],
             "passed_time": 37.59682096,
             "remaining_time": 43.9581052,
             "test": [
              0.6346146938,
              0.1526683552
             ]
            },
            {
             "iteration": 922,
             "learn": [
              0.1018319916
             ],
             "passed_time": 37.63753321,
             "remaining_time": 43.91725164,
             "test": [
              0.6346146938,
              0.1526691374
             ]
            },
            {
             "iteration": 923,
             "learn": [
              0.101797936
             ],
             "passed_time": 37.67968754,
             "remaining_time": 43.8780777,
             "test": [
              0.6346146938,
              0.1526699214
             ]
            },
            {
             "iteration": 924,
             "learn": [
              0.1017639186
             ],
             "passed_time": 37.71911342,
             "remaining_time": 43.83572641,
             "test": [
              0.6346146938,
              0.1526707071
             ]
            },
            {
             "iteration": 925,
             "learn": [
              0.1017299507
             ],
             "passed_time": 37.75806133,
             "remaining_time": 43.79282707,
             "test": [
              0.6346146938,
              0.1526714944
             ]
            },
            {
             "iteration": 926,
             "learn": [
              0.1016960325
             ],
             "passed_time": 37.79825523,
             "remaining_time": 43.75137849,
             "test": [
              0.6346146938,
              0.1526722832
             ]
            },
            {
             "iteration": 927,
             "learn": [
              0.1016620844
             ],
             "passed_time": 37.83710439,
             "remaining_time": 43.7083792,
             "test": [
              0.6346146938,
              0.1526730741
             ]
            },
            {
             "iteration": 928,
             "learn": [
              0.1016281416
             ],
             "passed_time": 37.87483085,
             "remaining_time": 43.66409455,
             "test": [
              0.6346146938,
              0.1526738667
             ]
            },
            {
             "iteration": 929,
             "learn": [
              0.1015942894
             ],
             "passed_time": 37.91203296,
             "remaining_time": 43.61922072,
             "test": [
              0.6346119304,
              0.1526814112
             ]
            },
            {
             "iteration": 930,
             "learn": [
              0.1015604091
             ],
             "passed_time": 37.94923536,
             "remaining_time": 43.5743637,
             "test": [
              0.6346091671,
              0.1526838493
             ]
            },
            {
             "iteration": 931,
             "learn": [
              0.1015265727
             ],
             "passed_time": 37.98600909,
             "remaining_time": 43.52903188,
             "test": [
              0.6345981137,
              0.1526893555
             ]
            },
            {
             "iteration": 932,
             "learn": [
              0.1014927723
             ],
             "passed_time": 38.02261748,
             "remaining_time": 43.48352932,
             "test": [
              0.6345981137,
              0.1526901524
             ]
            },
            {
             "iteration": 933,
             "learn": [
              0.1014589865
             ],
             "passed_time": 38.06063653,
             "remaining_time": 43.43965583,
             "test": [
              0.6345981137,
              0.1526909509
             ]
            },
            {
             "iteration": 934,
             "learn": [
              0.1014252021
             ],
             "passed_time": 38.09799236,
             "remaining_time": 43.39503942,
             "test": [
              0.6345981137,
              0.1526917513
             ]
            },
            {
             "iteration": 935,
             "learn": [
              0.1013914687
             ],
             "passed_time": 38.1370989,
             "remaining_time": 43.35242866,
             "test": [
              0.6345981137,
              0.152697239
             ]
            },
            {
             "iteration": 936,
             "learn": [
              0.1013577653
             ],
             "passed_time": 38.17621931,
             "remaining_time": 43.30984112,
             "test": [
              0.6345981137,
              0.1526980413
             ]
            },
            {
             "iteration": 937,
             "learn": [
              0.1013240627
             ],
             "passed_time": 38.2154776,
             "remaining_time": 43.26741707,
             "test": [
              0.6345981137,
              0.1526988452
             ]
            },
            {
             "iteration": 938,
             "learn": [
              0.101290406
             ],
             "passed_time": 38.25396187,
             "remaining_time": 43.22412519,
             "test": [
              0.6345981137,
              0.1526996511
             ]
            },
            {
             "iteration": 939,
             "learn": [
              0.1012567597
             ],
             "passed_time": 38.29437478,
             "remaining_time": 43.18301837,
             "test": [
              0.6345981137,
              0.1527004587
             ]
            },
            {
             "iteration": 940,
             "learn": [
              0.101223153
             ],
             "passed_time": 38.3344433,
             "remaining_time": 43.14152546,
             "test": [
              0.6345981137,
              0.1527012672
             ]
            },
            {
             "iteration": 941,
             "learn": [
              0.1011895769
             ],
             "passed_time": 38.37439199,
             "remaining_time": 43.09990098,
             "test": [
              0.634551137,
              0.1527051219
             ]
            },
            {
             "iteration": 942,
             "learn": [
              0.101155999
             ],
             "passed_time": 38.41233279,
             "remaining_time": 43.05602944,
             "test": [
              0.634551137,
              0.1527059335
             ]
            },
            {
             "iteration": 943,
             "learn": [
              0.1011224185
             ],
             "passed_time": 38.45019105,
             "remaining_time": 43.01207812,
             "test": [
              0.634551137,
              0.1527067469
             ]
            },
            {
             "iteration": 944,
             "learn": [
              0.1010889404
             ],
             "passed_time": 38.48716774,
             "remaining_time": 42.96715551,
             "test": [
              0.634551137,
              0.1527075615
             ]
            },
            {
             "iteration": 945,
             "learn": [
              0.1010554368
             ],
             "passed_time": 38.5250497,
             "remaining_time": 42.92325833,
             "test": [
              0.634551137,
              0.1527083778
             ]
            },
            {
             "iteration": 946,
             "learn": [
              0.1010219438
             ],
             "passed_time": 38.56357931,
             "remaining_time": 42.88009399,
             "test": [
              0.6345483736,
              0.1527118313
             ]
            },
            {
             "iteration": 947,
             "learn": [
              0.1009885336
             ],
             "passed_time": 38.60336807,
             "remaining_time": 42.83833672,
             "test": [
              0.6345483736,
              0.1527158964
             ]
            },
            {
             "iteration": 948,
             "learn": [
              0.1009550813
             ],
             "passed_time": 38.64158363,
             "remaining_time": 42.7948413,
             "test": [
              0.6345483736,
              0.1527167163
             ]
            },
            {
             "iteration": 949,
             "learn": [
              0.1009217114
             ],
             "passed_time": 38.67974623,
             "remaining_time": 42.75129846,
             "test": [
              0.6345483736,
              0.1527175379
             ]
            },
            {
             "iteration": 950,
             "learn": [
              0.1008883447
             ],
             "passed_time": 38.71894152,
             "remaining_time": 42.70890605,
             "test": [
              0.6345483736,
              0.1527183611
             ]
            },
            {
             "iteration": 951,
             "learn": [
              0.1008549675
             ],
             "passed_time": 38.75924892,
             "remaining_time": 42.66774461,
             "test": [
              0.6345483736,
              0.1527191855
             ]
            },
            {
             "iteration": 952,
             "learn": [
              0.1008216499
             ],
             "passed_time": 38.79933069,
             "remaining_time": 42.62633708,
             "test": [
              0.6345483736,
              0.1527200115
             ]
            },
            {
             "iteration": 953,
             "learn": [
              0.1007873712
             ],
             "passed_time": 38.83850694,
             "remaining_time": 42.58393948,
             "test": [
              0.6345483736,
              0.1527208732
             ]
            },
            {
             "iteration": 954,
             "learn": [
              0.1007540723
             ],
             "passed_time": 38.87537984,
             "remaining_time": 42.5390282,
             "test": [
              0.6345456103,
              0.1527249088
             ]
            },
            {
             "iteration": 955,
             "learn": [
              0.1007208449
             ],
             "passed_time": 38.91253616,
             "remaining_time": 42.49444325,
             "test": [
              0.6345456103,
              0.1527257364
             ]
            },
            {
             "iteration": 956,
             "learn": [
              0.1006876015
             ],
             "passed_time": 38.94972777,
             "remaining_time": 42.44991229,
             "test": [
              0.6345456103,
              0.152726566
             ]
            },
            {
             "iteration": 957,
             "learn": [
              0.1006543635
             ],
             "passed_time": 38.98657171,
             "remaining_time": 42.4050185,
             "test": [
              0.6345456103,
              0.1527324218
             ]
            },
            {
             "iteration": 958,
             "learn": [
              0.1006211436
             ],
             "passed_time": 39.02350681,
             "remaining_time": 42.36024045,
             "test": [
              0.6345456103,
              0.1527332546
             ]
            },
            {
             "iteration": 959,
             "learn": [
              0.1005879384
             ],
             "passed_time": 39.06248139,
             "remaining_time": 42.31768817,
             "test": [
              0.6345456103,
              0.1527340891
             ]
            },
            {
             "iteration": 960,
             "learn": [
              0.1005547618
             ],
             "passed_time": 39.10142822,
             "remaining_time": 42.27511334,
             "test": [
              0.6345041602,
              0.1527357938
             ]
            },
            {
             "iteration": 961,
             "learn": [
              0.1005216447
             ],
             "passed_time": 39.14019391,
             "remaining_time": 42.23235061,
             "test": [
              0.6345041602,
              0.1527366302
             ]
            },
            {
             "iteration": 962,
             "learn": [
              0.100488564
             ],
             "passed_time": 39.17849985,
             "remaining_time": 42.18910108,
             "test": [
              0.6345041602,
              0.1527374681
             ]
            },
            {
             "iteration": 963,
             "learn": [
              0.1004555156
             ],
             "passed_time": 39.21598259,
             "remaining_time": 42.14497714,
             "test": [
              0.6345041602,
              0.1527453867
             ]
            },
            {
             "iteration": 964,
             "learn": [
              0.100422455
             ],
             "passed_time": 39.25398323,
             "remaining_time": 42.10142243,
             "test": [
              0.6345041602,
              0.1527462265
             ]
            },
            {
             "iteration": 965,
             "learn": [
              0.1003894877
             ],
             "passed_time": 39.2904674,
             "remaining_time": 42.056256,
             "test": [
              0.6345041602,
              0.1527470674
             ]
            },
            {
             "iteration": 966,
             "learn": [
              0.1003565414
             ],
             "passed_time": 39.32710467,
             "remaining_time": 42.01127107,
             "test": [
              0.6345041602,
              0.1527479102
             ]
            },
            {
             "iteration": 967,
             "learn": [
              0.1003235705
             ],
             "passed_time": 39.36364518,
             "remaining_time": 41.96620024,
             "test": [
              0.6345041602,
              0.1527487546
             ]
            },
            {
             "iteration": 968,
             "learn": [
              0.1002906419
             ],
             "passed_time": 39.40292214,
             "remaining_time": 41.92405854,
             "test": [
              0.6345041602,
              0.1527496003
             ]
            },
            {
             "iteration": 969,
             "learn": [
              0.1002577544
             ],
             "passed_time": 39.44025938,
             "remaining_time": 41.87986306,
             "test": [
              0.6345041602,
              0.1527504478
             ]
            },
            {
             "iteration": 970,
             "learn": [
              0.1002248842
             ],
             "passed_time": 39.48412238,
             "remaining_time": 41.84259725,
             "test": [
              0.6345041602,
              0.1527512972
             ]
            },
            {
             "iteration": 971,
             "learn": [
              0.1001920128
             ],
             "passed_time": 39.52109982,
             "remaining_time": 41.79803561,
             "test": [
              0.6345041602,
              0.1527521484
             ]
            },
            {
             "iteration": 972,
             "learn": [
              0.1001591708
             ],
             "passed_time": 39.55888633,
             "remaining_time": 41.75434353,
             "test": [
              0.6345041602,
              0.152753001
             ]
            },
            {
             "iteration": 973,
             "learn": [
              0.1001281797
             ],
             "passed_time": 39.59679117,
             "remaining_time": 41.71078823,
             "test": [
              0.6345041602,
              0.1527538152
             ]
            },
            {
             "iteration": 974,
             "learn": [
              0.1000953938
             ],
             "passed_time": 39.6337664,
             "remaining_time": 41.66626724,
             "test": [
              0.6345041602,
              0.1527546741
             ]
            },
            {
             "iteration": 975,
             "learn": [
              0.1000626023
             ],
             "passed_time": 39.67226884,
             "remaining_time": 41.62336403,
             "test": [
              0.6345041602,
              0.1527555348
             ]
            },
            {
             "iteration": 976,
             "learn": [
              0.1000298518
             ],
             "passed_time": 39.70945028,
             "remaining_time": 41.57908663,
             "test": [
              0.6345041602,
              0.1527634729
             ]
            },
            {
             "iteration": 977,
             "learn": [
              0.09999715542
             ],
             "passed_time": 39.7471677,
             "remaining_time": 41.53538384,
             "test": [
              0.6345013969,
              0.1527660676
             ]
            },
            {
             "iteration": 978,
             "learn": [
              0.09996443582
             ],
             "passed_time": 39.78554405,
             "remaining_time": 41.49238047,
             "test": [
              0.6344958702,
              0.1527718809
             ]
            },
            {
             "iteration": 979,
             "learn": [
              0.09993181435
             ],
             "passed_time": 39.82329564,
             "remaining_time": 41.44873628,
             "test": [
              0.6344958702,
              0.1527727451
             ]
            },
            {
             "iteration": 980,
             "learn": [
              0.09989912735
             ],
             "passed_time": 39.86046413,
             "remaining_time": 41.40449842,
             "test": [
              0.6344958702,
              0.1527736109
             ]
            },
            {
             "iteration": 981,
             "learn": [
              0.09986644242
             ],
             "passed_time": 39.89863197,
             "remaining_time": 41.36131095,
             "test": [
              0.6344958702,
              0.1527744786
             ]
            },
            {
             "iteration": 982,
             "learn": [
              0.09983389011
             ],
             "passed_time": 39.93863916,
             "remaining_time": 41.32003665,
             "test": [
              0.6344958702,
              0.1527802418
             ]
            },
            {
             "iteration": 983,
             "learn": [
              0.09980127448
             ],
             "passed_time": 39.97710681,
             "remaining_time": 41.27717532,
             "test": [
              0.6344848168,
              0.1527825793
             ]
            },
            {
             "iteration": 984,
             "learn": [
              0.09976873763
             ],
             "passed_time": 40.01476685,
             "remaining_time": 41.23349071,
             "test": [
              0.6344848168,
              0.1527834501
             ]
            },
            {
             "iteration": 985,
             "learn": [
              0.09973616719
             ],
             "passed_time": 40.05263844,
             "remaining_time": 41.19003588,
             "test": [
              0.6344848168,
              0.1527843227
             ]
            },
            {
             "iteration": 986,
             "learn": [
              0.0997036398
             ],
             "passed_time": 40.08975326,
             "remaining_time": 41.14581566,
             "test": [
              0.6344848168,
              0.1527851972
             ]
            },
            {
             "iteration": 987,
             "learn": [
              0.09967110255
             ],
             "passed_time": 40.12630627,
             "remaining_time": 41.10103436,
             "test": [
              0.6344848168,
              0.1527860731
             ]
            },
            {
             "iteration": 988,
             "learn": [
              0.09963865573
             ],
             "passed_time": 40.1636086,
             "remaining_time": 41.05703568,
             "test": [
              0.6344488934,
              0.1527901559
             ]
            },
            {
             "iteration": 989,
             "learn": [
              0.09953942219
             ],
             "passed_time": 40.20224162,
             "remaining_time": 41.01440812,
             "test": [
              0.6345069235,
              0.152792925
             ]
            },
            {
             "iteration": 990,
             "learn": [
              0.09950695295
             ],
             "passed_time": 40.23935407,
             "remaining_time": 40.97024042,
             "test": [
              0.6345069235,
              0.152793754
             ]
            },
            {
             "iteration": 991,
             "learn": [
              0.09947449881
             ],
             "passed_time": 40.27657743,
             "remaining_time": 40.92619965,
             "test": [
              0.6345069235,
              0.1527945872
             ]
            },
            {
             "iteration": 992,
             "learn": [
              0.09944206242
             ],
             "passed_time": 40.31404588,
             "remaining_time": 40.88242115,
             "test": [
              0.6345069235,
              0.1527954242
             ]
            },
            {
             "iteration": 993,
             "learn": [
              0.09940965091
             ],
             "passed_time": 40.35250699,
             "remaining_time": 40.83965999,
             "test": [
              0.6345069235,
              0.1527962644
             ]
            },
            {
             "iteration": 994,
             "learn": [
              0.09937728365
             ],
             "passed_time": 40.39156878,
             "remaining_time": 40.79751419,
             "test": [
              0.6345069235,
              0.1527971081
             ]
            },
            {
             "iteration": 995,
             "learn": [
              0.09934493769
             ],
             "passed_time": 40.42914261,
             "remaining_time": 40.75387468,
             "test": [
              0.6345069235,
              0.1528007208
             ]
            },
            {
             "iteration": 996,
             "learn": [
              0.0993126051
             ],
             "passed_time": 40.46844894,
             "remaining_time": 40.71199026,
             "test": [
              0.6345069235,
              0.1528049707
             ]
            },
            {
             "iteration": 997,
             "learn": [
              0.09928028639
             ],
             "passed_time": 40.50771694,
             "remaining_time": 40.67007252,
             "test": [
              0.6345069235,
              0.1528058233
             ]
            },
            {
             "iteration": 998,
             "learn": [
              0.09924799577
             ],
             "passed_time": 40.54736154,
             "remaining_time": 40.62853744,
             "test": [
              0.6345069235,
              0.1528066792
             ]
            },
            {
             "iteration": 999,
             "learn": [
              0.09921572817
             ],
             "passed_time": 40.5874086,
             "remaining_time": 40.5874086,
             "test": [
              0.6345069235,
              0.152807538
             ]
            },
            {
             "iteration": 1000,
             "learn": [
              0.09918436401
             ],
             "passed_time": 40.62677456,
             "remaining_time": 40.54560219,
             "test": [
              0.6344792902,
              0.152809144
             ]
            },
            {
             "iteration": 1001,
             "learn": [
              0.09915215917
             ],
             "passed_time": 40.66656779,
             "remaining_time": 40.5042262,
             "test": [
              0.6344792902,
              0.1528100085
             ]
            },
            {
             "iteration": 1002,
             "learn": [
              0.09911995756
             ],
             "passed_time": 40.71279256,
             "remaining_time": 40.46924644,
             "test": [
              0.6344792902,
              0.1528108757
             ]
            },
            {
             "iteration": 1003,
             "learn": [
              0.09908782603
             ],
             "passed_time": 40.75232248,
             "remaining_time": 40.42760278,
             "test": [
              0.6344792902,
              0.152815107
             ]
            },
            {
             "iteration": 1004,
             "learn": [
              0.09905562852
             ],
             "passed_time": 40.79760552,
             "remaining_time": 40.39165919,
             "test": [
              0.6344792902,
              0.1528159798
             ]
            },
            {
             "iteration": 1005,
             "learn": [
              0.09902349876
             ],
             "passed_time": 40.83674818,
             "remaining_time": 40.34962991,
             "test": [
              0.6344792902,
              0.1528168555
             ]
            },
            {
             "iteration": 1006,
             "learn": [
              0.09899137524
             ],
             "passed_time": 40.87536196,
             "remaining_time": 40.30708483,
             "test": [
              0.6344792902,
              0.1528229681
             ]
            },
            {
             "iteration": 1007,
             "learn": [
              0.09895926373
             ],
             "passed_time": 40.91595454,
             "remaining_time": 40.26649494,
             "test": [
              0.6344792902,
              0.1528238489
             ]
            },
            {
             "iteration": 1008,
             "learn": [
              0.09892714613
             ],
             "passed_time": 40.95566317,
             "remaining_time": 40.22503687,
             "test": [
              0.6344792902,
              0.1528247323
             ]
            },
            {
             "iteration": 1009,
             "learn": [
              0.09889512561
             ],
             "passed_time": 40.99614508,
             "remaining_time": 40.18434023,
             "test": [
              0.6344792902,
              0.1528256171
             ]
            },
            {
             "iteration": 1010,
             "learn": [
              0.09886313786
             ],
             "passed_time": 41.03876713,
             "remaining_time": 40.14573758,
             "test": [
              0.6344792902,
              0.1528265038
             ]
            },
            {
             "iteration": 1011,
             "learn": [
              0.0988311446
             ],
             "passed_time": 41.07850969,
             "remaining_time": 40.10431578,
             "test": [
              0.6344792902,
              0.152827393
             ]
            },
            {
             "iteration": 1012,
             "learn": [
              0.09879918774
             ],
             "passed_time": 41.11715105,
             "remaining_time": 40.06182437,
             "test": [
              0.6344737635,
              0.1528356891
             ]
            },
            {
             "iteration": 1013,
             "learn": [
              0.09876725341
             ],
             "passed_time": 41.15604583,
             "remaining_time": 40.01958697,
             "test": [
              0.6344516568,
              0.1528374945
             ]
            },
            {
             "iteration": 1014,
             "learn": [
              0.09873536715
             ],
             "passed_time": 41.19861988,
             "remaining_time": 39.98092668,
             "test": [
              0.6344516568,
              0.1528383894
             ]
            },
            {
             "iteration": 1015,
             "learn": [
              0.09870349883
             ],
             "passed_time": 41.23719224,
             "remaining_time": 39.93838303,
             "test": [
              0.6344516568,
              0.1528392867
             ]
            },
            {
             "iteration": 1016,
             "learn": [
              0.0986716402
             ],
             "passed_time": 41.27610498,
             "remaining_time": 39.8961762,
             "test": [
              0.6344516568,
              0.1528401862
             ]
            },
            {
             "iteration": 1017,
             "learn": [
              0.09863979201
             ],
             "passed_time": 41.31703944,
             "remaining_time": 39.85592606,
             "test": [
              0.6344516568,
              0.1528410877
             ]
            },
            {
             "iteration": 1018,
             "learn": [
              0.09860799717
             ],
             "passed_time": 41.35763781,
             "remaining_time": 39.81535102,
             "test": [
              0.6344516568,
              0.1528419917
             ]
            },
            {
             "iteration": 1019,
             "learn": [
              0.09857622877
             ],
             "passed_time": 41.39738691,
             "remaining_time": 39.77395997,
             "test": [
              0.6344516568,
              0.1528428983
             ]
            },
            {
             "iteration": 1020,
             "learn": [
              0.09854445171
             ],
             "passed_time": 41.43720417,
             "remaining_time": 39.7326375,
             "test": [
              0.6344516568,
              0.1528438072
             ]
            },
            {
             "iteration": 1021,
             "learn": [
              0.09851292526
             ],
             "passed_time": 41.47585624,
             "remaining_time": 39.69020294,
             "test": [
              0.6344184967,
              0.1528462883
             ]
            },
            {
             "iteration": 1022,
             "learn": [
              0.09848117777
             ],
             "passed_time": 41.51555475,
             "remaining_time": 39.64877517,
             "test": [
              0.6344184967,
              0.1528471996
             ]
            },
            {
             "iteration": 1023,
             "learn": [
              0.0984501954
             ],
             "passed_time": 41.55494088,
             "remaining_time": 39.60705303,
             "test": [
              0.6344184967,
              0.1528480986
             ]
            },
            {
             "iteration": 1024,
             "learn": [
              0.09841848403
             ],
             "passed_time": 41.59427259,
             "remaining_time": 39.56528369,
             "test": [
              0.6344184967,
              0.1528490155
             ]
            },
            {
             "iteration": 1025,
             "learn": [
              0.09838684068
             ],
             "passed_time": 41.63438404,
             "remaining_time": 39.52425931,
             "test": [
              0.6344157333,
              0.1528573282
             ]
            },
            {
             "iteration": 1026,
             "learn": [
              0.09835523059
             ],
             "passed_time": 41.67439335,
             "remaining_time": 39.48313995,
             "test": [
              0.6344102067,
              0.1528634335
             ]
            },
            {
             "iteration": 1027,
             "learn": [
              0.09832361282
             ],
             "passed_time": 41.71405628,
             "remaining_time": 39.44169523,
             "test": [
              0.6344102067,
              0.1528643541
             ]
            },
            {
             "iteration": 1028,
             "learn": [
              0.09829206684
             ],
             "passed_time": 41.75431068,
             "remaining_time": 39.40081212,
             "test": [
              0.6344102067,
              0.1528652768
             ]
            },
            {
             "iteration": 1029,
             "learn": [
              0.09826046697
             ],
             "passed_time": 41.79542452,
             "remaining_time": 39.3607396,
             "test": [
              0.6344102067,
              0.1528662019
             ]
            },
            {
             "iteration": 1030,
             "learn": [
              0.09822897078
             ],
             "passed_time": 41.83430505,
             "remaining_time": 39.31856605,
             "test": [
              0.6344102067,
              0.1528722246
             ]
            },
            {
             "iteration": 1031,
             "learn": [
              0.09819743643
             ],
             "passed_time": 41.87387327,
             "remaining_time": 39.27704392,
             "test": [
              0.6344074433,
              0.1528746958
             ]
            },
            {
             "iteration": 1032,
             "learn": [
              0.09816598515
             ],
             "passed_time": 41.91433372,
             "remaining_time": 39.2363608,
             "test": [
              0.6344074433,
              0.1528756252
             ]
            },
            {
             "iteration": 1033,
             "learn": [
              0.0981345613
             ],
             "passed_time": 41.95546673,
             "remaining_time": 39.19630644,
             "test": [
              0.6344074433,
              0.152876557
             ]
            },
            {
             "iteration": 1034,
             "learn": [
              0.09810310717
             ],
             "passed_time": 41.99383925,
             "remaining_time": 39.15367621,
             "test": [
              0.6344074433,
              0.1528774913
             ]
            },
            {
             "iteration": 1035,
             "learn": [
              0.09807164191
             ],
             "passed_time": 42.03482934,
             "remaining_time": 39.11348985,
             "test": [
              0.6344074433,
              0.1528784278
             ]
            },
            {
             "iteration": 1036,
             "learn": [
              0.09804025652
             ],
             "passed_time": 42.07397392,
             "remaining_time": 39.07158812,
             "test": [
              0.6344074433,
              0.1528793654
             ]
            },
            {
             "iteration": 1037,
             "learn": [
              0.09800893309
             ],
             "passed_time": 42.11389781,
             "remaining_time": 39.03041397,
             "test": [
              0.6343742833,
              0.1528836704
             ]
            },
            {
             "iteration": 1038,
             "learn": [
              0.09797809949
             ],
             "passed_time": 42.15475319,
             "remaining_time": 38.99010377,
             "test": [
              0.6343632299,
              0.1528857927
             ]
            },
            {
             "iteration": 1039,
             "learn": [
              0.09794675243
             ],
             "passed_time": 42.19403136,
             "remaining_time": 38.94833664,
             "test": [
              0.6343632299,
              0.1528867369
             ]
            },
            {
             "iteration": 1040,
             "learn": [
              0.09791544449
             ],
             "passed_time": 42.2338385,
             "remaining_time": 38.90706159,
             "test": [
              0.6343632299,
              0.1528876828
             ]
            },
            {
             "iteration": 1041,
             "learn": [
              0.09788418661
             ],
             "passed_time": 42.2727267,
             "remaining_time": 38.86494451,
             "test": [
              0.6343632299,
              0.1528886302
             ]
            },
            {
             "iteration": 1042,
             "learn": [
              0.0978529204
             ],
             "passed_time": 42.31092596,
             "remaining_time": 38.82220148,
             "test": [
              0.6343632299,
              0.1528895793
             ]
            },
            {
             "iteration": 1043,
             "learn": [
              0.09782171077
             ],
             "passed_time": 42.34808345,
             "remaining_time": 38.7785132,
             "test": [
              0.6343604666,
              0.1528934282
             ]
            },
            {
             "iteration": 1044,
             "learn": [
              0.09779050891
             ],
             "passed_time": 42.38610967,
             "remaining_time": 38.73563132,
             "test": [
              0.6343577032,
              0.1528979361
             ]
            },
            {
             "iteration": 1045,
             "learn": [
              0.09775931348
             ],
             "passed_time": 42.42256022,
             "remaining_time": 38.69132165,
             "test": [
              0.6343577032,
              0.1528988893
             ]
            },
            {
             "iteration": 1046,
             "learn": [
              0.09772813226
             ],
             "passed_time": 42.46063956,
             "remaining_time": 38.64850956,
             "test": [
              0.6343577032,
              0.1528998446
             ]
            },
            {
             "iteration": 1047,
             "learn": [
              0.09769703026
             ],
             "passed_time": 42.49825561,
             "remaining_time": 38.60528563,
             "test": [
              0.6343577032,
              0.1529008012
             ]
            },
            {
             "iteration": 1048,
             "learn": [
              0.09766591199
             ],
             "passed_time": 42.53594469,
             "remaining_time": 38.56213861,
             "test": [
              0.6343577032,
              0.1529017595
             ]
            },
            {
             "iteration": 1049,
             "learn": [
              0.0976348339
             ],
             "passed_time": 42.57337152,
             "remaining_time": 38.51876471,
             "test": [
              0.6343577032,
              0.1529027194
             ]
            },
            {
             "iteration": 1050,
             "learn": [
              0.09760376779
             ],
             "passed_time": 42.61110931,
             "remaining_time": 38.47568291,
             "test": [
              0.6343577032,
              0.152903681
             ]
            },
            {
             "iteration": 1051,
             "learn": [
              0.09757276824
             ],
             "passed_time": 42.6504504,
             "remaining_time": 38.43405606,
             "test": [
              0.6343549399,
              0.1529081589
             ]
            },
            {
             "iteration": 1052,
             "learn": [
              0.09754173019
             ],
             "passed_time": 42.68860654,
             "remaining_time": 38.39136789,
             "test": [
              0.6343549399,
              0.1529091238
             ]
            },
            {
             "iteration": 1053,
             "learn": [
              0.0975107495
             ],
             "passed_time": 42.72669655,
             "remaining_time": 38.34862897,
             "test": [
              0.6343549399,
              0.1529100907
             ]
            },
            {
             "iteration": 1054,
             "learn": [
              0.09747975486
             ],
             "passed_time": 42.76530336,
             "remaining_time": 38.30636178,
             "test": [
              0.6343549399,
              0.1529165017
             ]
            },
            {
             "iteration": 1055,
             "learn": [
              0.09744877567
             ],
             "passed_time": 42.80467429,
             "remaining_time": 38.26478459,
             "test": [
              0.6343549399,
              0.1529174716
             ]
            },
            {
             "iteration": 1056,
             "learn": [
              0.09741785429
             ],
             "passed_time": 42.84422092,
             "remaining_time": 38.22336833,
             "test": [
              0.6343549399,
              0.1529184433
             ]
            },
            {
             "iteration": 1057,
             "learn": [
              0.09738697097
             ],
             "passed_time": 42.88305895,
             "remaining_time": 38.1813247,
             "test": [
              0.6343549399,
              0.1529194152
             ]
            },
            {
             "iteration": 1058,
             "learn": [
              0.09735610055
             ],
             "passed_time": 42.92279726,
             "remaining_time": 38.14008708,
             "test": [
              0.6343549399,
              0.1529203885
             ]
            },
            {
             "iteration": 1059,
             "learn": [
              0.0973252886
             ],
             "passed_time": 42.96234156,
             "remaining_time": 38.09868025,
             "test": [
              0.6343549399,
              0.1529213634
             ]
            },
            {
             "iteration": 1060,
             "learn": [
              0.09729450066
             ],
             "passed_time": 43.00071399,
             "remaining_time": 38.05623981,
             "test": [
              0.6343549399,
              0.152930071
             ]
            },
            {
             "iteration": 1061,
             "learn": [
              0.09726427546
             ],
             "passed_time": 43.04103265,
             "remaining_time": 38.01552601,
             "test": [
              0.6342803297,
              0.1529328928
             ]
            },
            {
             "iteration": 1062,
             "learn": [
              0.09723349826
             ],
             "passed_time": 43.0789964,
             "remaining_time": 37.97273719,
             "test": [
              0.6342803297,
              0.1529338717
             ]
            },
            {
             "iteration": 1063,
             "learn": [
              0.09720281114
             ],
             "passed_time": 43.1194751,
             "remaining_time": 37.93216983,
             "test": [
              0.6342803297,
              0.1529348525
             ]
            },
            {
             "iteration": 1064,
             "learn": [
              0.09717211711
             ],
             "passed_time": 43.15838597,
             "remaining_time": 37.89022618,
             "test": [
              0.6342803297,
              0.1529358347
             ]
            },
            {
             "iteration": 1065,
             "learn": [
              0.09714143472
             ],
             "passed_time": 43.19666053,
             "remaining_time": 37.84773071,
             "test": [
              0.6342803297,
              0.1529368185
             ]
            },
            {
             "iteration": 1066,
             "learn": [
              0.09711079001
             ],
             "passed_time": 43.23526822,
             "remaining_time": 37.80553444,
             "test": [
              0.6342803297,
              0.1529378044
             ]
            },
            {
             "iteration": 1067,
             "learn": [
              0.09708018934
             ],
             "passed_time": 43.27493582,
             "remaining_time": 37.76426983,
             "test": [
              0.6342803297,
              0.152938792
             ]
            },
            {
             "iteration": 1068,
             "learn": [
              0.09704958812
             ],
             "passed_time": 43.3139829,
             "remaining_time": 37.7224678,
             "test": [
              0.6342803297,
              0.1529397817
             ]
            },
            {
             "iteration": 1069,
             "learn": [
              0.09701898456
             ],
             "passed_time": 43.35246042,
             "remaining_time": 37.68017588,
             "test": [
              0.6342803297,
              0.1529407729
             ]
            },
            {
             "iteration": 1070,
             "learn": [
              0.09698842953
             ],
             "passed_time": 43.39148875,
             "remaining_time": 37.63836886,
             "test": [
              0.6342803297,
              0.1529417654
             ]
            },
            {
             "iteration": 1071,
             "learn": [
              0.09695793233
             ],
             "passed_time": 43.43074271,
             "remaining_time": 37.59676234,
             "test": [
              0.6342803297,
              0.15294276
             ]
            },
            {
             "iteration": 1072,
             "learn": [
              0.09692738656
             ],
             "passed_time": 43.46812528,
             "remaining_time": 37.55354346,
             "test": [
              0.6342803297,
              0.1529437561
             ]
            },
            {
             "iteration": 1073,
             "learn": [
              0.09689692748
             ],
             "passed_time": 43.50611662,
             "remaining_time": 37.51086033,
             "test": [
              0.6342803297,
              0.1529524656
             ]
            },
            {
             "iteration": 1074,
             "learn": [
              0.09686647291
             ],
             "passed_time": 43.54356004,
             "remaining_time": 37.46771445,
             "test": [
              0.6342692764,
              0.1529588867
             ]
            },
            {
             "iteration": 1075,
             "learn": [
              0.09683605684
             ],
             "passed_time": 43.58020988,
             "remaining_time": 37.42389771,
             "test": [
              0.6342692764,
              0.152959885
             ]
            },
            {
             "iteration": 1076,
             "learn": [
              0.09680570057
             ],
             "passed_time": 43.61830594,
             "remaining_time": 37.38133369,
             "test": [
              0.6342692764,
              0.152960885
             ]
            },
            {
             "iteration": 1077,
             "learn": [
              0.09677527074
             ],
             "passed_time": 43.65661466,
             "remaining_time": 37.33895985,
             "test": [
              0.6342692764,
              0.1529618872
             ]
            },
            {
             "iteration": 1078,
             "learn": [
              0.09674492904
             ],
             "passed_time": 43.69430008,
             "remaining_time": 37.29606151,
             "test": [
              0.6342692764,
              0.1529681859
             ]
            },
            {
             "iteration": 1079,
             "learn": [
              0.09671457515
             ],
             "passed_time": 43.73215209,
             "remaining_time": 37.25331474,
             "test": [
              0.634266513,
              0.1529708105
             ]
            },
            {
             "iteration": 1080,
             "learn": [
              0.09668426973
             ],
             "passed_time": 43.77066265,
             "remaining_time": 37.21113689,
             "test": [
              0.634266513,
              0.1529718159
             ]
            },
            {
             "iteration": 1081,
             "learn": [
              0.09665400128
             ],
             "passed_time": 43.80785926,
             "remaining_time": 37.16785102,
             "test": [
              0.634266513,
              0.1529728231
             ]
            },
            {
             "iteration": 1082,
             "learn": [
              0.0966237375
             ],
             "passed_time": 43.84578102,
             "remaining_time": 37.12519039,
             "test": [
              0.634266513,
              0.1529738326
             ]
            },
            {
             "iteration": 1083,
             "learn": [
              0.09659342263
             ],
             "passed_time": 43.88337444,
             "remaining_time": 37.08226105,
             "test": [
              0.634266513,
              0.1529748442
             ]
            },
            {
             "iteration": 1084,
             "learn": [
              0.09656319785
             ],
             "passed_time": 43.92216672,
             "remaining_time": 37.04035258,
             "test": [
              0.634266513,
              0.1529758573
             ]
            },
            {
             "iteration": 1085,
             "learn": [
              0.09653297555
             ],
             "passed_time": 43.96011739,
             "remaining_time": 36.99774152,
             "test": [
              0.6342278263,
              0.152980399
             ]
            },
            {
             "iteration": 1086,
             "learn": [
              0.09650278622
             ],
             "passed_time": 43.99808682,
             "remaining_time": 36.9551548,
             "test": [
              0.6342278263,
              0.1529814141
             ]
            },
            {
             "iteration": 1087,
             "learn": [
              0.09647331988
             ],
             "passed_time": 44.03702206,
             "remaining_time": 36.91338614,
             "test": [
              0.6342278263,
              0.1529824149
             ]
            },
            {
             "iteration": 1088,
             "learn": [
              0.09644315849
             ],
             "passed_time": 44.07460068,
             "remaining_time": 36.87048781,
             "test": [
              0.6342278263,
              0.1529834353
             ]
            },
            {
             "iteration": 1089,
             "learn": [
              0.09641299049
             ],
             "passed_time": 44.11282886,
             "remaining_time": 36.82814153,
             "test": [
              0.6342278263,
              0.1529844567
             ]
            },
            {
             "iteration": 1090,
             "learn": [
              0.09638366552
             ],
             "passed_time": 44.15176986,
             "remaining_time": 36.7863967,
             "test": [
              0.6342278263,
              0.1529854617
             ]
            },
            {
             "iteration": 1091,
             "learn": [
              0.09635354993
             ],
             "passed_time": 44.19101698,
             "remaining_time": 36.74491156,
             "test": [
              0.6342278263,
              0.1529895163
             ]
            },
            {
             "iteration": 1092,
             "learn": [
              0.09632349589
             ],
             "passed_time": 44.22957196,
             "remaining_time": 36.70285615,
             "test": [
              0.6342278263,
              0.1529942522
             ]
            },
            {
             "iteration": 1093,
             "learn": [
              0.09629341864
             ],
             "passed_time": 44.26785902,
             "remaining_time": 36.66058526,
             "test": [
              0.6342278263,
              0.1529952797
             ]
            },
            {
             "iteration": 1094,
             "learn": [
              0.09626341891
             ],
             "passed_time": 44.30643892,
             "remaining_time": 36.61856368,
             "test": [
              0.6342278263,
              0.1529963088
             ]
            },
            {
             "iteration": 1095,
             "learn": [
              0.09623338015
             ],
             "passed_time": 44.34568313,
             "remaining_time": 36.57709631,
             "test": [
              0.6342167729,
              0.1529990836
             ]
            },
            {
             "iteration": 1096,
             "learn": [
              0.09620340077
             ],
             "passed_time": 44.38481038,
             "remaining_time": 36.53553671,
             "test": [
              0.6342167729,
              0.1530001151
             ]
            },
            {
             "iteration": 1097,
             "learn": [
              0.09617341625
             ],
             "passed_time": 44.42324428,
             "remaining_time": 36.49341196,
             "test": [
              0.6342167729,
              0.1530011483
             ]
            },
            {
             "iteration": 1098,
             "learn": [
              0.09614349857
             ],
             "passed_time": 44.46121078,
             "remaining_time": 36.45091075,
             "test": [
              0.6342167729,
              0.1530021828
             ]
            },
            {
             "iteration": 1099,
             "learn": [
              0.09611356858
             ],
             "passed_time": 44.49941801,
             "remaining_time": 36.40861473,
             "test": [
              0.6342167729,
              0.1530068845
             ]
            },
            {
             "iteration": 1100,
             "learn": [
              0.09608366018
             ],
             "passed_time": 44.536961,
             "remaining_time": 36.36578378,
             "test": [
              0.6342167729,
              0.1530079219
             ]
            },
            {
             "iteration": 1101,
             "learn": [
              0.09605375378
             ],
             "passed_time": 44.57523269,
             "remaining_time": 36.32355622,
             "test": [
              0.6342167729,
              0.153008961
             ]
            },
            {
             "iteration": 1102,
             "learn": [
              0.09602387869
             ],
             "passed_time": 44.61328249,
             "remaining_time": 36.28115539,
             "test": [
              0.6342167729,
              0.1530156462
             ]
            },
            {
             "iteration": 1103,
             "learn": [
              0.0959939972
             ],
             "passed_time": 44.65482038,
             "remaining_time": 36.24159336,
             "test": [
              0.6342167729,
              0.1530166883
             ]
            },
            {
             "iteration": 1104,
             "learn": [
              0.09596416415
             ],
             "passed_time": 44.69503204,
             "remaining_time": 36.20095355,
             "test": [
              0.6342167729,
              0.1530177319
             ]
            },
            {
             "iteration": 1105,
             "learn": [
              0.09593431813
             ],
             "passed_time": 44.73332126,
             "remaining_time": 36.15876059,
             "test": [
              0.6342167729,
              0.153018777
             ]
            },
            {
             "iteration": 1106,
             "learn": [
              0.09590457649
             ],
             "passed_time": 44.7700682,
             "remaining_time": 36.11533053,
             "test": [
              0.6342167729,
              0.1530198221
             ]
            },
            {
             "iteration": 1107,
             "learn": [
              0.09587481089
             ],
             "passed_time": 44.80676517,
             "remaining_time": 36.07187232,
             "test": [
              0.6342167729,
              0.1530208688
             ]
            },
            {
             "iteration": 1108,
             "learn": [
              0.09584507139
             ],
             "passed_time": 44.84330514,
             "remaining_time": 36.02830016,
             "test": [
              0.6342167729,
              0.1530219171
             ]
            },
            {
             "iteration": 1109,
             "learn": [
              0.0958153909
             ],
             "passed_time": 44.88097997,
             "remaining_time": 35.98565061,
             "test": [
              0.6342167729,
              0.1530310184
             ]
            },
            {
             "iteration": 1110,
             "learn": [
              0.0957857033
             ],
             "passed_time": 44.91826871,
             "remaining_time": 35.94270107,
             "test": [
              0.6341919029,
              0.153033077
             ]
            },
            {
             "iteration": 1111,
             "learn": [
              0.09575573906
             ],
             "passed_time": 44.95746621,
             "remaining_time": 35.90128597,
             "test": [
              0.6341919029,
              0.1530341645
             ]
            },
            {
             "iteration": 1112,
             "learn": [
              0.0957260851
             ],
             "passed_time": 44.9972839,
             "remaining_time": 35.86036911,
             "test": [
              0.6341919029,
              0.1530352146
             ]
            },
            {
             "iteration": 1113,
             "learn": [
              0.09569693737
             ],
             "passed_time": 45.0361711,
             "remaining_time": 35.81871418,
             "test": [
              0.6341863762,
              0.1530366725
             ]
            },
            {
             "iteration": 1114,
             "learn": [
              0.09566734348
             ],
             "passed_time": 45.07502188,
             "remaining_time": 35.7770353,
             "test": [
              0.6341863762,
              0.1530377246
             ]
            },
            {
             "iteration": 1115,
             "learn": [
              0.09563779314
             ],
             "passed_time": 45.11368686,
             "remaining_time": 35.73521433,
             "test": [
              0.6341863762,
              0.1530387788
             ]
            },
            {
             "iteration": 1116,
             "learn": [
              0.09560824582
             ],
             "passed_time": 45.15323821,
             "remaining_time": 35.69409967,
             "test": [
              0.6341863762,
              0.1530398348
             ]
            },
            {
             "iteration": 1117,
             "learn": [
              0.09557870396
             ],
             "passed_time": 45.19151818,
             "remaining_time": 35.65198483,
             "test": [
              0.6341863762,
              0.153040893
             ]
            },
            {
             "iteration": 1118,
             "learn": [
              0.09554913827
             ],
             "passed_time": 45.23211101,
             "remaining_time": 35.61169776,
             "test": [
              0.6341863762,
              0.1530419528
             ]
            },
            {
             "iteration": 1119,
             "learn": [
              0.09551967213
             ],
             "passed_time": 45.2704999,
             "remaining_time": 35.5696785,
             "test": [
              0.6341863762,
              0.153043014
             ]
            },
            {
             "iteration": 1120,
             "learn": [
              0.09539385332
             ],
             "passed_time": 45.31019962,
             "remaining_time": 35.52869355,
             "test": [
              0.6342858564,
              0.1530616929
             ]
            },
            {
             "iteration": 1121,
             "learn": [
              0.09536438466
             ],
             "passed_time": 45.34807921,
             "remaining_time": 35.48628659,
             "test": [
              0.6342858564,
              0.153062694
             ]
            },
            {
             "iteration": 1122,
             "learn": [
              0.09533490439
             ],
             "passed_time": 45.38820165,
             "remaining_time": 35.44563923,
             "test": [
              0.6342858564,
              0.1530636991
             ]
            },
            {
             "iteration": 1123,
             "learn": [
              0.09530544164
             ],
             "passed_time": 45.4256769,
             "remaining_time": 35.40292968,
             "test": [
              0.6342858564,
              0.1530727283
             ]
            },
            {
             "iteration": 1124,
             "learn": [
              0.09527603224
             ],
             "passed_time": 45.46341386,
             "remaining_time": 35.360433,
             "test": [
              0.6342858564,
              0.1530737404
             ]
            },
            {
             "iteration": 1125,
             "learn": [
              0.09524666778
             ],
             "passed_time": 45.49975012,
             "remaining_time": 35.31685755,
             "test": [
              0.6342858564,
              0.1530803478
             ]
            },
            {
             "iteration": 1126,
             "learn": [
              0.0952172781
             ],
             "passed_time": 45.53756454,
             "remaining_time": 35.27443997,
             "test": [
              0.6342858564,
              0.1530813671
             ]
            },
            {
             "iteration": 1127,
             "learn": [
              0.09518791753
             ],
             "passed_time": 45.57513087,
             "remaining_time": 35.23183876,
             "test": [
              0.6342858564,
              0.1530823909
             ]
            },
            {
             "iteration": 1128,
             "learn": [
              0.09515859323
             ],
             "passed_time": 45.6141222,
             "remaining_time": 35.19034582,
             "test": [
              0.6342858564,
              0.1530834187
             ]
            },
            {
             "iteration": 1129,
             "learn": [
              0.0951292985
             ],
             "passed_time": 45.65528642,
             "remaining_time": 35.15053025,
             "test": [
              0.634274803,
              0.1530861454
             ]
            },
            {
             "iteration": 1130,
             "learn": [
              0.09510005291
             ],
             "passed_time": 45.69544152,
             "remaining_time": 35.10993694,
             "test": [
              0.634274803,
              0.1530871793
             ]
            },
            {
             "iteration": 1131,
             "learn": [
              0.09507076947
             ],
             "passed_time": 45.73485149,
             "remaining_time": 35.06877305,
             "test": [
              0.634274803,
              0.1530882173
             ]
            },
            {
             "iteration": 1132,
             "learn": [
              0.09504155011
             ],
             "passed_time": 45.77447475,
             "remaining_time": 35.02777547,
             "test": [
              0.634274803,
              0.1530892595
             ]
            },
            {
             "iteration": 1133,
             "learn": [
              0.09501229795
             ],
             "passed_time": 45.81361633,
             "remaining_time": 34.98641247,
             "test": [
              0.634274803,
              0.1530903057
             ]
            },
            {
             "iteration": 1134,
             "learn": [
              0.09498308681
             ],
             "passed_time": 45.85228415,
             "remaining_time": 34.94469232,
             "test": [
              0.634274803,
              0.1530913547
             ]
            },
            {
             "iteration": 1135,
             "learn": [
              0.09495467779
             ],
             "passed_time": 45.89220962,
             "remaining_time": 34.90393408,
             "test": [
              0.6342526963,
              0.1530960746
             ]
            },
            {
             "iteration": 1136,
             "learn": [
              0.09491695065
             ],
             "passed_time": 45.93161988,
             "remaining_time": 34.86278624,
             "test": [
              0.6342057196,
              0.1530879132
             ]
            },
            {
             "iteration": 1137,
             "learn": [
              0.09488780813
             ],
             "passed_time": 45.97273893,
             "remaining_time": 34.82293582,
             "test": [
              0.6342057196,
              0.1530890026
             ]
            },
            {
             "iteration": 1138,
             "learn": [
              0.09485866803
             ],
             "passed_time": 46.01570757,
             "remaining_time": 34.78448132,
             "test": [
              0.6342057196,
              0.153090094
             ]
            },
            {
             "iteration": 1139,
             "learn": [
              0.09482953283
             ],
             "passed_time": 46.05435885,
             "remaining_time": 34.74276194,
             "test": [
              0.6342057196,
              0.1530911866
             ]
            },
            {
             "iteration": 1140,
             "learn": [
              0.09480040992
             ],
             "passed_time": 46.09333568,
             "remaining_time": 34.70129303,
             "test": [
              0.6342057196,
              0.1530978069
             ]
            },
            {
             "iteration": 1141,
             "learn": [
              0.09477301586
             ],
             "passed_time": 46.133658,
             "remaining_time": 34.66083937,
             "test": [
              0.6341946662,
              0.1531025314
             ]
            },
            {
             "iteration": 1142,
             "learn": [
              0.0947440073
             ],
             "passed_time": 46.17236465,
             "remaining_time": 34.61917454,
             "test": [
              0.6341946662,
              0.153107488
             ]
            },
            {
             "iteration": 1143,
             "learn": [
              0.09464360035
             ],
             "passed_time": 46.21402913,
             "remaining_time": 34.57972809,
             "test": [
              0.6337055551,
              0.1531116801
             ]
            },
            {
             "iteration": 1144,
             "learn": [
              0.09461454484
             ],
             "passed_time": 46.25367168,
             "remaining_time": 34.53876794,
             "test": [
              0.6337055551,
              0.1531127086
             ]
            },
            {
             "iteration": 1145,
             "learn": [
              0.09458549089
             ],
             "passed_time": 46.29244867,
             "remaining_time": 34.49716507,
             "test": [
              0.6337055551,
              0.153113742
             ]
            },
            {
             "iteration": 1146,
             "learn": [
              0.09455645935
             ],
             "passed_time": 46.33260745,
             "remaining_time": 34.45659473,
             "test": [
              0.6337055551,
              0.15311478
             ]
            },
            {
             "iteration": 1147,
             "learn": [
              0.09452805886
             ],
             "passed_time": 46.36987065,
             "remaining_time": 34.41387612,
             "test": [
              0.6337055551,
              0.1531158082
             ]
            },
            {
             "iteration": 1148,
             "learn": [
              0.09449908985
             ],
             "passed_time": 46.40706826,
             "remaining_time": 34.37111844,
             "test": [
              0.6337055551,
              0.1531168554
             ]
            },
            {
             "iteration": 1149,
             "learn": [
              0.09447013903
             ],
             "passed_time": 46.44475576,
             "remaining_time": 34.32873252,
             "test": [
              0.6337055551,
              0.1531179067
             ]
            },
            {
             "iteration": 1150,
             "learn": [
              0.09444123901
             ],
             "passed_time": 46.48291348,
             "remaining_time": 34.2867016,
             "test": [
              0.6337055551,
              0.1531227791
             ]
            },
            {
             "iteration": 1151,
             "learn": [
              0.09441233795
             ],
             "passed_time": 46.5210322,
             "remaining_time": 34.2446487,
             "test": [
              0.6337055551,
              0.1531238382
             ]
            },
            {
             "iteration": 1152,
             "learn": [
              0.09438346124
             ],
             "passed_time": 46.55894733,
             "remaining_time": 34.20245307,
             "test": [
              0.6337055551,
              0.1531307314
             ]
            },
            {
             "iteration": 1153,
             "learn": [
              0.09435459129
             ],
             "passed_time": 46.60760592,
             "remaining_time": 34.16814091,
             "test": [
              0.6337055551,
              0.1531317977
             ]
            },
            {
             "iteration": 1154,
             "learn": [
              0.09432575105
             ],
             "passed_time": 46.66386945,
             "remaining_time": 34.1393677,
             "test": [
              0.6337055551,
              0.1531328678
             ]
            },
            {
             "iteration": 1155,
             "learn": [
              0.09429744644
             ],
             "passed_time": 46.71322576,
             "remaining_time": 34.10550393,
             "test": [
              0.6336834484,
              0.1531348343
             ]
            },
            {
             "iteration": 1156,
             "learn": [
              0.09426870839
             ],
             "passed_time": 46.76246628,
             "remaining_time": 34.07152902,
             "test": [
              0.6336834484,
              0.1531359103
             ]
            },
            {
             "iteration": 1157,
             "learn": [
              0.09423989756
             ],
             "passed_time": 46.80667529,
             "remaining_time": 34.03386925,
             "test": [
              0.6336834484,
              0.1531369899
             ]
            },
            {
             "iteration": 1158,
             "learn": [
              0.094211208
             ],
             "passed_time": 46.84812989,
             "remaining_time": 33.99419951,
             "test": [
              0.6336834484,
              0.1531464252
             ]
            },
            {
             "iteration": 1159,
             "learn": [
              0.09418252198
             ],
             "passed_time": 46.88745768,
             "remaining_time": 33.9529866,
             "test": [
              0.6336834484,
              0.1531475101
             ]
            },
            {
             "iteration": 1160,
             "learn": [
              0.09415388301
             ],
             "passed_time": 46.92551999,
             "remaining_time": 33.91086242,
             "test": [
              0.6336834484,
              0.1531485975
             ]
            },
            {
             "iteration": 1161,
             "learn": [
              0.09406137214
             ],
             "passed_time": 46.96602352,
             "remaining_time": 33.87050577,
             "test": [
              0.6334596179,
              0.1531348459
             ]
            },
            {
             "iteration": 1162,
             "learn": [
              0.09403268121
             ],
             "passed_time": 47.00463496,
             "remaining_time": 33.82878716,
             "test": [
              0.6334596179,
              0.1531358833
             ]
            },
            {
             "iteration": 1163,
             "learn": [
              0.09400404866
             ],
             "passed_time": 47.04236572,
             "remaining_time": 33.78644136,
             "test": [
              0.6334596179,
              0.1531369265
             ]
            },
            {
             "iteration": 1164,
             "learn": [
              0.09397546901
             ],
             "passed_time": 47.08105058,
             "remaining_time": 33.74478732,
             "test": [
              0.6334596179,
              0.1531379752
             ]
            },
            {
             "iteration": 1165,
             "learn": [
              0.09394685235
             ],
             "passed_time": 47.1216089,
             "remaining_time": 33.70447841,
             "test": [
              0.6334596179,
              0.1531390284
             ]
            },
            {
             "iteration": 1166,
             "learn": [
              0.09391825366
             ],
             "passed_time": 47.15889427,
             "remaining_time": 33.66183284,
             "test": [
              0.6334596179,
              0.1531400869
             ]
            },
            {
             "iteration": 1167,
             "learn": [
              0.09388973817
             ],
             "passed_time": 47.19807693,
             "remaining_time": 33.62054795,
             "test": [
              0.6334596179,
              0.1531411506
             ]
            },
            {
             "iteration": 1168,
             "learn": [
              0.09386119013
             ],
             "passed_time": 47.23669929,
             "remaining_time": 33.57886836,
             "test": [
              0.6334596179,
              0.1531422189
             ]
            },
            {
             "iteration": 1169,
             "learn": [
              0.09383267632
             ],
             "passed_time": 47.27600138,
             "remaining_time": 33.53767619,
             "test": [
              0.6334596179,
              0.1531432918
             ]
            },
            {
             "iteration": 1170,
             "learn": [
              0.09380417464
             ],
             "passed_time": 47.3153033,
             "remaining_time": 33.49648713,
             "test": [
              0.6334596179,
              0.1531443691
             ]
            },
            {
             "iteration": 1171,
             "learn": [
              0.09377573133
             ],
             "passed_time": 47.35277229,
             "remaining_time": 33.45400636,
             "test": [
              0.6334596179,
              0.1531454504
             ]
            },
            {
             "iteration": 1172,
             "learn": [
              0.09374731705
             ],
             "passed_time": 47.39023225,
             "remaining_time": 33.41152776,
             "test": [
              0.6334568546,
              0.153154855
             ]
            },
            {
             "iteration": 1173,
             "learn": [
              0.09371892446
             ],
             "passed_time": 47.42851414,
             "remaining_time": 33.36963601,
             "test": [
              0.6334513279,
              0.1531617884
             ]
            },
            {
             "iteration": 1174,
             "learn": [
              0.09369052867
             ],
             "passed_time": 47.46657223,
             "remaining_time": 33.32759327,
             "test": [
              0.6334513279,
              0.1531628794
             ]
            },
            {
             "iteration": 1175,
             "learn": [
              0.0936621733
             ],
             "passed_time": 47.5053783,
             "remaining_time": 33.2860814,
             "test": [
              0.6334513279,
              0.1531639751
             ]
            },
            {
             "iteration": 1176,
             "learn": [
              0.09363453065
             ],
             "passed_time": 47.54310026,
             "remaining_time": 33.24381607,
             "test": [
              0.6334513279,
              0.1531650567
             ]
            },
            {
             "iteration": 1177,
             "learn": [
              0.0936062078
             ],
             "passed_time": 47.5819928,
             "remaining_time": 33.20237528,
             "test": [
              0.6334319845,
              0.1531672027
             ]
            },
            {
             "iteration": 1178,
             "learn": [
              0.09357789805
             ],
             "passed_time": 47.62169794,
             "remaining_time": 33.16150467,
             "test": [
              0.6334319845,
              0.1531683099
             ]
            },
            {
             "iteration": 1179,
             "learn": [
              0.09354961131
             ],
             "passed_time": 47.66003858,
             "remaining_time": 33.11968783,
             "test": [
              0.6334319845,
              0.1531694211
             ]
            },
            {
             "iteration": 1180,
             "learn": [
              0.09352351756
             ],
             "passed_time": 47.69933221,
             "remaining_time": 33.07853775,
             "test": [
              0.6334292212,
              0.1531711718
             ]
            },
            {
             "iteration": 1181,
             "learn": [
              0.09349527854
             ],
             "passed_time": 47.73787202,
             "remaining_time": 33.03686913,
             "test": [
              0.6334292212,
              0.1531722941
             ]
            },
            {
             "iteration": 1182,
             "learn": [
              0.09346705488
             ],
             "passed_time": 47.77494951,
             "remaining_time": 32.9941959,
             "test": [
              0.6334292212,
              0.1531734189
             ]
            },
            {
             "iteration": 1183,
             "learn": [
              0.09343882505
             ],
             "passed_time": 47.81287126,
             "remaining_time": 32.95211398,
             "test": [
              0.6334292212,
              0.1531745469
             ]
            },
            {
             "iteration": 1184,
             "learn": [
              0.09341068031
             ],
             "passed_time": 47.85103194,
             "remaining_time": 32.9102034,
             "test": [
              0.6334292212,
              0.1531756779
             ]
            },
            {
             "iteration": 1185,
             "learn": [
              0.09338253236
             ],
             "passed_time": 47.88902716,
             "remaining_time": 32.86818559,
             "test": [
              0.6334292212,
              0.1531768115
             ]
            },
            {
             "iteration": 1186,
             "learn": [
              0.09335442101
             ],
             "passed_time": 47.92682729,
             "remaining_time": 32.82604093,
             "test": [
              0.6334292212,
              0.1531836647
             ]
            },
            {
             "iteration": 1187,
             "learn": [
              0.09332631733
             ],
             "passed_time": 47.96377527,
             "remaining_time": 32.78332115,
             "test": [
              0.6334292212,
              0.1531848027
             ]
            },
            {
             "iteration": 1188,
             "learn": [
              0.09329825028
             ],
             "passed_time": 48.000703,
             "remaining_time": 32.74059725,
             "test": [
              0.6334292212,
              0.1531859437
             ]
            },
            {
             "iteration": 1189,
             "learn": [
              0.09327020826
             ],
             "passed_time": 48.03737385,
             "remaining_time": 32.69770825,
             "test": [
              0.6334292212,
              0.1531911467
             ]
            },
            {
             "iteration": 1190,
             "learn": [
              0.09324215619
             ],
             "passed_time": 48.0745898,
             "remaining_time": 32.65519996,
             "test": [
              0.6334154045,
              0.1531993909
             ]
            },
            {
             "iteration": 1191,
             "learn": [
              0.09321412392
             ],
             "passed_time": 48.11196525,
             "remaining_time": 32.61280866,
             "test": [
              0.6334154045,
              0.1532005389
             ]
            },
            {
             "iteration": 1192,
             "learn": [
              0.09318610591
             ],
             "passed_time": 48.14860176,
             "remaining_time": 32.56992592,
             "test": [
              0.6334154045,
              0.1532016899
             ]
            },
            {
             "iteration": 1193,
             "learn": [
              0.09315873473
             ],
             "passed_time": 48.18741542,
             "remaining_time": 32.52852331,
             "test": [
              0.6334154045,
              0.1532028269
             ]
            },
            {
             "iteration": 1194,
             "learn": [
              0.09313079208
             ],
             "passed_time": 48.22919011,
             "remaining_time": 32.4891197,
             "test": [
              0.6334154045,
              0.1532057299
             ]
            },
            {
             "iteration": 1195,
             "learn": [
              0.09310284925
             ],
             "passed_time": 48.26780068,
             "remaining_time": 32.44758507,
             "test": [
              0.6334154045,
              0.153206889
             ]
            },
            {
             "iteration": 1196,
             "learn": [
              0.09307490531
             ],
             "passed_time": 48.30823667,
             "remaining_time": 32.40727991,
             "test": [
              0.6334154045,
              0.1532080507
             ]
            },
            {
             "iteration": 1197,
             "learn": [
              0.09304639724
             ],
             "passed_time": 48.34840945,
             "remaining_time": 32.36679831,
             "test": [
              0.6333711911,
              0.1532150306
             ]
            },
            {
             "iteration": 1198,
             "learn": [
              0.09301923725
             ],
             "passed_time": 48.38731402,
             "remaining_time": 32.32547,
             "test": [
              0.6333711911,
              0.1532161717
             ]
            },
            {
             "iteration": 1199,
             "learn": [
              0.09299136077
             ],
             "passed_time": 48.42634381,
             "remaining_time": 32.28422921,
             "test": [
              0.6333711911,
              0.1532173377
             ]
            },
            {
             "iteration": 1200,
             "learn": [
              0.09296350459
             ],
             "passed_time": 48.46450153,
             "remaining_time": 32.24241193,
             "test": [
              0.6333711911,
              0.1532245224
             ]
            },
            {
             "iteration": 1201,
             "learn": [
              0.0929361734
             ],
             "passed_time": 48.50125463,
             "remaining_time": 32.19966822,
             "test": [
              0.6333518477,
              0.1532266177
             ]
            },
            {
             "iteration": 1202,
             "learn": [
              0.09290831981
             ],
             "passed_time": 48.53796594,
             "remaining_time": 32.15690678,
             "test": [
              0.6333518477,
              0.1532277914
             ]
            },
            {
             "iteration": 1203,
             "learn": [
              0.09288049903
             ],
             "passed_time": 48.57511684,
             "remaining_time": 32.11444602,
             "test": [
              0.6333518477,
              0.1532289676
             ]
            },
            {
             "iteration": 1204,
             "learn": [
              0.09285271523
             ],
             "passed_time": 48.6130366,
             "remaining_time": 32.07250133,
             "test": [
              0.6333518477,
              0.1532301447
             ]
            },
            {
             "iteration": 1205,
             "learn": [
              0.09282497215
             ],
             "passed_time": 48.65227664,
             "remaining_time": 32.03143255,
             "test": [
              0.6333518477,
              0.1532313235
             ]
            },
            {
             "iteration": 1206,
             "learn": [
              0.09279723393
             ],
             "passed_time": 48.69082596,
             "remaining_time": 31.98991299,
             "test": [
              0.6333518477,
              0.1532325045
             ]
            },
            {
             "iteration": 1207,
             "learn": [
              0.09276953577
             ],
             "passed_time": 48.72979458,
             "remaining_time": 31.94867326,
             "test": [
              0.6333518477,
              0.153242343
             ]
            },
            {
             "iteration": 1208,
             "learn": [
              0.0927418543
             ],
             "passed_time": 48.76847814,
             "remaining_time": 31.9072508,
             "test": [
              0.6333518477,
              0.1532435262
             ]
            },
            {
             "iteration": 1209,
             "learn": [
              0.09271422652
             ],
             "passed_time": 48.80915873,
             "remaining_time": 31.86713669,
             "test": [
              0.6333518477,
              0.1532447104
             ]
            },
            {
             "iteration": 1210,
             "learn": [
              0.09268663899
             ],
             "passed_time": 48.84822718,
             "remaining_time": 31.8259713,
             "test": [
              0.6333518477,
              0.1532458971
             ]
            },
            {
             "iteration": 1211,
             "learn": [
              0.09265901198
             ],
             "passed_time": 48.88694608,
             "remaining_time": 31.78458211,
             "test": [
              0.6333518477,
              0.1532470861
             ]
            },
            {
             "iteration": 1212,
             "learn": [
              0.09263148188
             ],
             "passed_time": 48.92645117,
             "remaining_time": 31.7437074,
             "test": [
              0.6333518477,
              0.1532482769
             ]
            },
            {
             "iteration": 1213,
             "learn": [
              0.09260389487
             ],
             "passed_time": 48.96600431,
             "remaining_time": 31.70286605,
             "test": [
              0.6333518477,
              0.1532494699
             ]
            },
            {
             "iteration": 1214,
             "learn": [
              0.09257638132
             ],
             "passed_time": 49.01021398,
             "remaining_time": 31.66503537,
             "test": [
              0.6333518477,
              0.1532506653
             ]
            },
            {
             "iteration": 1215,
             "learn": [
              0.09254885339
             ],
             "passed_time": 49.05002508,
             "remaining_time": 31.62435828,
             "test": [
              0.6333518477,
              0.1532518629
             ]
            },
            {
             "iteration": 1216,
             "learn": [
              0.09252135653
             ],
             "passed_time": 49.08963072,
             "remaining_time": 31.58355041,
             "test": [
              0.6333518477,
              0.1532530629
             ]
            },
            {
             "iteration": 1217,
             "learn": [
              0.09249391997
             ],
             "passed_time": 49.13034267,
             "remaining_time": 31.54345482,
             "test": [
              0.6333518477,
              0.1532542647
             ]
            },
            {
             "iteration": 1218,
             "learn": [
              0.09246643952
             ],
             "passed_time": 49.16871086,
             "remaining_time": 31.50185659,
             "test": [
              0.6333518477,
              0.1532554687
             ]
            },
            {
             "iteration": 1219,
             "learn": [
              0.09243897913
             ],
             "passed_time": 49.21070193,
             "remaining_time": 31.46257992,
             "test": [
              0.6333518477,
              0.1532566741
             ]
            },
            {
             "iteration": 1220,
             "learn": [
              0.09241159042
             ],
             "passed_time": 49.24869082,
             "remaining_time": 31.42074541,
             "test": [
              0.6333518477,
              0.1532665027
             ]
            },
            {
             "iteration": 1221,
             "learn": [
              0.09238418377
             ],
             "passed_time": 49.28726442,
             "remaining_time": 31.37928946,
             "test": [
              0.6333518477,
              0.1532677105
             ]
            },
            {
             "iteration": 1222,
             "learn": [
              0.09235685247
             ],
             "passed_time": 49.3263205,
             "remaining_time": 31.33814475,
             "test": [
              0.6333518477,
              0.1532749948
             ]
            },
            {
             "iteration": 1223,
             "learn": [
              0.09232248915
             ],
             "passed_time": 49.36539537,
             "remaining_time": 31.29701537,
             "test": [
              0.6333518477,
              0.1532769434
             ]
            },
            {
             "iteration": 1224,
             "learn": [
              0.09229515241
             ],
             "passed_time": 49.40697323,
             "remaining_time": 31.25747286,
             "test": [
              0.6333518477,
              0.1532781745
             ]
            },
            {
             "iteration": 1225,
             "learn": [
              0.09226785159
             ],
             "passed_time": 49.44668487,
             "remaining_time": 31.21674885,
             "test": [
              0.633346321,
              0.1532804966
             ]
            },
            {
             "iteration": 1226,
             "learn": [
              0.09224058703
             ],
             "passed_time": 49.48371289,
             "remaining_time": 31.17433583,
             "test": [
              0.633346321,
              0.1532834452
             ]
            },
            {
             "iteration": 1227,
             "learn": [
              0.09221330302
             ],
             "passed_time": 49.52049937,
             "remaining_time": 31.13177973,
             "test": [
              0.633346321,
              0.1532846786
             ]
            },
            {
             "iteration": 1228,
             "learn": [
              0.09210320957
             ],
             "passed_time": 49.5589906,
             "remaining_time": 31.09030248,
             "test": [
              0.6341836128,
              0.1532644443
             ]
            },
            {
             "iteration": 1229,
             "learn": [
              0.09201472132
             ],
             "passed_time": 49.60442139,
             "remaining_time": 31.05317437,
             "test": [
              0.6341366361,
              0.1532807032
             ]
            },
            {
             "iteration": 1230,
             "learn": [
              0.09198730244
             ],
             "passed_time": 49.64353505,
             "remaining_time": 31.01208648,
             "test": [
              0.6341366361,
              0.1532817416
             ]
            },
            {
             "iteration": 1231,
             "learn": [
              0.09189115546
             ],
             "passed_time": 49.68452323,
             "remaining_time": 30.97217032,
             "test": [
              0.6352751319,
              0.1532482357
             ]
            },
            {
             "iteration": 1232,
             "learn": [
              0.09186379056
             ],
             "passed_time": 49.72409336,
             "remaining_time": 30.93137032,
             "test": [
              0.6352751319,
              0.15324918
             ]
            },
            {
             "iteration": 1233,
             "learn": [
              0.09183756846
             ],
             "passed_time": 49.76415955,
             "remaining_time": 30.89088024,
             "test": [
              0.6352751319,
              0.1532501026
             ]
            },
            {
             "iteration": 1234,
             "learn": [
              0.09177382102
             ],
             "passed_time": 49.80640946,
             "remaining_time": 30.85174351,
             "test": [
              0.636269934,
              0.153221771
             ]
            },
            {
             "iteration": 1235,
             "learn": [
              0.09174652152
             ],
             "passed_time": 49.84621956,
             "remaining_time": 30.81109364,
             "test": [
              0.636269934,
              0.1532227127
             ]
            },
            {
             "iteration": 1236,
             "learn": [
              0.0917192907
             ],
             "passed_time": 49.88660176,
             "remaining_time": 30.77079801,
             "test": [
              0.636269934,
              0.1532236682
             ]
            },
            {
             "iteration": 1237,
             "learn": [
              0.09169203117
             ],
             "passed_time": 49.9276496,
             "remaining_time": 30.73091195,
             "test": [
              0.636269934,
              0.1532246378
             ]
            },
            {
             "iteration": 1238,
             "learn": [
              0.0916648451
             ],
             "passed_time": 49.96724923,
             "remaining_time": 30.69013452,
             "test": [
              0.636269934,
              0.1532256208
             ]
            },
            {
             "iteration": 1239,
             "learn": [
              0.09163763943
             ],
             "passed_time": 50.00513416,
             "remaining_time": 30.64830803,
             "test": [
              0.636269934,
              0.153226616
             ]
            },
            {
             "iteration": 1240,
             "learn": [
              0.09161048628
             ],
             "passed_time": 50.04352339,
             "remaining_time": 30.60679633,
             "test": [
              0.636269934,
              0.1532276236
             ]
            },
            {
             "iteration": 1241,
             "learn": [
              0.09158335184
             ],
             "passed_time": 50.08179203,
             "remaining_time": 30.56521607,
             "test": [
              0.636269934,
              0.1532286417
             ]
            },
            {
             "iteration": 1242,
             "learn": [
              0.09155629816
             ],
             "passed_time": 50.12507547,
             "remaining_time": 30.5266952,
             "test": [
              0.636269934,
              0.1532296706
             ]
            },
            {
             "iteration": 1243,
             "learn": [
              0.09152921238
             ],
             "passed_time": 50.16542871,
             "remaining_time": 30.48638593,
             "test": [
              0.636269934,
              0.1532307106
             ]
            },
            {
             "iteration": 1244,
             "learn": [
              0.09150219892
             ],
             "passed_time": 50.20428761,
             "remaining_time": 30.4451704,
             "test": [
              0.636269934,
              0.1532359234
             ]
            },
            {
             "iteration": 1245,
             "learn": [
              0.0914751372
             ],
             "passed_time": 50.24203237,
             "remaining_time": 30.40328443,
             "test": [
              0.636269934,
              0.1532369844
             ]
            },
            {
             "iteration": 1246,
             "learn": [
              0.09144815665
             ],
             "passed_time": 50.27921085,
             "remaining_time": 30.36106317,
             "test": [
              0.6362644074,
              0.1532420192
             ]
            },
            {
             "iteration": 1247,
             "learn": [
              0.09142115201
             ],
             "passed_time": 50.31581599,
             "remaining_time": 30.31850451,
             "test": [
              0.6362644074,
              0.1532430993
             ]
            },
            {
             "iteration": 1248,
             "learn": [
              0.09139416899
             ],
             "passed_time": 50.35297385,
             "remaining_time": 30.27628772,
             "test": [
              0.6362644074,
              0.1532441882
             ]
            },
            {
             "iteration": 1249,
             "learn": [
              0.09136724597
             ],
             "passed_time": 50.39234973,
             "remaining_time": 30.23540984,
             "test": [
              0.636261644,
              0.153247104
             ]
            },
            {
             "iteration": 1250,
             "learn": [
              0.09134032472
             ],
             "passed_time": 50.43063842,
             "remaining_time": 30.19388343,
             "test": [
              0.636261644,
              0.1532482093
             ]
            },
            {
             "iteration": 1251,
             "learn": [
              0.09131428969
             ],
             "passed_time": 50.46974387,
             "remaining_time": 30.15285017,
             "test": [
              0.636261644,
              0.1532551918
             ]
            },
            {
             "iteration": 1252,
             "learn": [
              0.09128802397
             ],
             "passed_time": 50.50762155,
             "remaining_time": 30.11108802,
             "test": [
              0.636261644,
              0.1532562961
             ]
            },
            {
             "iteration": 1253,
             "learn": [
              0.09126118239
             ],
             "passed_time": 50.54619253,
             "remaining_time": 30.06974452,
             "test": [
              0.636261644,
              0.1532636207
             ]
            },
            {
             "iteration": 1254,
             "learn": [
              0.09123434593
             ],
             "passed_time": 50.58618526,
             "remaining_time": 30.02924942,
             "test": [
              0.636261644,
              0.1532688087
             ]
            },
            {
             "iteration": 1255,
             "learn": [
              0.09120755867
             ],
             "passed_time": 50.62446332,
             "remaining_time": 29.98773942,
             "test": [
              0.636261644,
              0.1532733609
             ]
            },
            {
             "iteration": 1256,
             "learn": [
              0.09118073661
             ],
             "passed_time": 50.66214386,
             "remaining_time": 29.94588137,
             "test": [
              0.636261644,
              0.1532745108
             ]
            },
            {
             "iteration": 1257,
             "learn": [
              0.09115403104
             ],
             "passed_time": 50.70214609,
             "remaining_time": 29.90539936,
             "test": [
              0.636261644,
              0.1532845664
             ]
            },
            {
             "iteration": 1258,
             "learn": [
              0.09112729197
             ],
             "passed_time": 50.7413415,
             "remaining_time": 29.86444325,
             "test": [
              0.636261644,
              0.1532857272
             ]
            },
            {
             "iteration": 1259,
             "learn": [
              0.09110061155
             ],
             "passed_time": 50.77993982,
             "remaining_time": 29.82313926,
             "test": [
              0.636261644,
              0.1532868939
             ]
            },
            {
             "iteration": 1260,
             "learn": [
              0.09107391495
             ],
             "passed_time": 50.81774445,
             "remaining_time": 29.78137442,
             "test": [
              0.636261644,
              0.1532880672
             ]
            },
            {
             "iteration": 1261,
             "learn": [
              0.09104727197
             ],
             "passed_time": 50.85800489,
             "remaining_time": 29.74105199,
             "test": [
              0.636261644,
              0.1532892465
             ]
            },
            {
             "iteration": 1262,
             "learn": [
              0.09102136985
             ],
             "passed_time": 50.89607999,
             "remaining_time": 29.69945443,
             "test": [
              0.6362395373,
              0.1532912104
             ]
            },
            {
             "iteration": 1263,
             "learn": [
              0.09099476965
             ],
             "passed_time": 50.93335969,
             "remaining_time": 29.65739931,
             "test": [
              0.6362395373,
              0.153292402
             ]
            },
            {
             "iteration": 1264,
             "learn": [
              0.09096675135
             ],
             "passed_time": 50.97158174,
             "remaining_time": 29.61589927,
             "test": [
              0.6362395373,
              0.1532936834
             ]
            },
            {
             "iteration": 1265,
             "learn": [
              0.09094015292
             ],
             "passed_time": 51.0099428,
             "remaining_time": 29.57448501,
             "test": [
              0.6362395373,
              0.153294879
             ]
            },
            {
             "iteration": 1266,
             "learn": [
              0.09091360017
             ],
             "passed_time": 51.04787098,
             "remaining_time": 29.53282512,
             "test": [
              0.6362395373,
              0.1532960799
             ]
            },
            {
             "iteration": 1267,
             "learn": [
              0.09088705434
             ],
             "passed_time": 51.0857224,
             "remaining_time": 29.49112681,
             "test": [
              0.6362395373,
              0.153297286
             ]
            },
            {
             "iteration": 1268,
             "learn": [
              0.09086056244
             ],
             "passed_time": 51.12449385,
             "remaining_time": 29.44996454,
             "test": [
              0.6362395373,
              0.1532984962
             ]
            },
            {
             "iteration": 1269,
             "learn": [
              0.09083405035
             ],
             "passed_time": 51.1643527,
             "remaining_time": 29.40943108,
             "test": [
              0.6362395373,
              0.1532997111
             ]
            },
            {
             "iteration": 1270,
             "learn": [
              0.09080758247
             ],
             "passed_time": 51.20186869,
             "remaining_time": 29.3675549,
             "test": [
              0.6362395373,
              0.153300931
             ]
            },
            {
             "iteration": 1271,
             "learn": [
              0.09078116052
             ],
             "passed_time": 51.24072677,
             "remaining_time": 29.32645368,
             "test": [
              0.6362395373,
              0.1533021555
             ]
            },
            {
             "iteration": 1272,
             "learn": [
              0.09075473935
             ],
             "passed_time": 51.27877299,
             "remaining_time": 29.28489235,
             "test": [
              0.6362395373,
              0.1533033839
             ]
            },
            {
             "iteration": 1273,
             "learn": [
              0.09072834799
             ],
             "passed_time": 51.31868484,
             "remaining_time": 29.24439968,
             "test": [
              0.6362395373,
              0.1533046171
             ]
            },
            {
             "iteration": 1274,
             "learn": [
              0.09070193569
             ],
             "passed_time": 51.3558012,
             "remaining_time": 29.20231833,
             "test": [
              0.6362395373,
              0.1533058549
             ]
            },
            {
             "iteration": 1275,
             "learn": [
              0.09067558082
             ],
             "passed_time": 51.39675162,
             "remaining_time": 29.1624202,
             "test": [
              0.6362395373,
              0.153307097
             ]
            },
            {
             "iteration": 1276,
             "learn": [
              0.09064919856
             ],
             "passed_time": 51.43600895,
             "remaining_time": 29.12156184,
             "test": [
              0.6362395373,
              0.1533083429
             ]
            },
            {
             "iteration": 1277,
             "learn": [
              0.09062287162
             ],
             "passed_time": 51.4744911,
             "remaining_time": 29.08026806,
             "test": [
              0.6362395373,
              0.1533095923
             ]
            },
            {
             "iteration": 1278,
             "learn": [
              0.09059658101
             ],
             "passed_time": 51.51393632,
             "remaining_time": 29.03952157,
             "test": [
              0.6362395373,
              0.1533108456
             ]
            },
            {
             "iteration": 1279,
             "learn": [
              0.09057030469
             ],
             "passed_time": 51.55298869,
             "remaining_time": 28.99855614,
             "test": [
              0.636236774,
              0.1533138915
             ]
            },
            {
             "iteration": 1280,
             "learn": [
              0.0905440343
             ],
             "passed_time": 51.58933853,
             "remaining_time": 28.95607682,
             "test": [
              0.636236774,
              0.1533151509
             ]
            },
            {
             "iteration": 1281,
             "learn": [
              0.09051780624
             ],
             "passed_time": 51.62796418,
             "remaining_time": 28.91488165,
             "test": [
              0.636236774,
              0.1533164142
             ]
            },
            {
             "iteration": 1282,
             "learn": [
              0.09049157241
             ],
             "passed_time": 51.66408014,
             "remaining_time": 28.87228796,
             "test": [
              0.636236774,
              0.1533176809
             ]
            },
            {
             "iteration": 1283,
             "learn": [
              0.09046537248
             ],
             "passed_time": 51.70132721,
             "remaining_time": 28.83033511,
             "test": [
              0.636236774,
              0.1533189515
             ]
            },
            {
             "iteration": 1284,
             "learn": [
              0.09043916826
             ],
             "passed_time": 51.73794335,
             "remaining_time": 28.78803852,
             "test": [
              0.636236774,
              0.1533291608
             ]
            },
            {
             "iteration": 1285,
             "learn": [
              0.09041298156
             ],
             "passed_time": 51.77626532,
             "remaining_time": 28.74669786,
             "test": [
              0.636236774,
              0.1533304366
             ]
            },
            {
             "iteration": 1286,
             "learn": [
              0.09038688324
             ],
             "passed_time": 51.8154527,
             "remaining_time": 28.70584132,
             "test": [
              0.636236774,
              0.1533317155
             ]
            },
            {
             "iteration": 1287,
             "learn": [
              0.09036075649
             ],
             "passed_time": 51.85290257,
             "remaining_time": 28.66402689,
             "test": [
              0.636236774,
              0.1533329968
             ]
            },
            {
             "iteration": 1288,
             "learn": [
              0.09030618677
             ],
             "passed_time": 51.89795014,
             "remaining_time": 28.62641005,
             "test": [
              0.6362036139,
              0.153336834
             ]
            },
            {
             "iteration": 1289,
             "learn": [
              0.09028010412
             ],
             "passed_time": 51.93734244,
             "remaining_time": 28.58566909,
             "test": [
              0.6362008506,
              0.1533443037
             ]
            },
            {
             "iteration": 1290,
             "learn": [
              0.09025407374
             ],
             "passed_time": 51.97598617,
             "remaining_time": 28.54451913,
             "test": [
              0.6361953239,
              0.1533466876
             ]
            },
            {
             "iteration": 1291,
             "learn": [
              0.09022800669
             ],
             "passed_time": 52.0147717,
             "remaining_time": 28.50345075,
             "test": [
              0.6361953239,
              0.15334793
             ]
            },
            {
             "iteration": 1292,
             "learn": [
              0.09020057228
             ],
             "passed_time": 52.0531138,
             "remaining_time": 28.46214343,
             "test": [
              0.6361953239,
              0.153349266
             ]
            },
            {
             "iteration": 1293,
             "learn": [
              0.09017456255
             ],
             "passed_time": 52.09256843,
             "remaining_time": 28.42144769,
             "test": [
              0.6361953239,
              0.1533505125
             ]
            },
            {
             "iteration": 1294,
             "learn": [
              0.09014486811
             ],
             "passed_time": 52.13413158,
             "remaining_time": 28.38190175,
             "test": [
              0.6361953239,
              0.1533521676
             ]
            },
            {
             "iteration": 1295,
             "learn": [
              0.09011887309
             ],
             "passed_time": 52.17412564,
             "remaining_time": 28.34150035,
             "test": [
              0.6361870339,
              0.1533575633
             ]
            },
            {
             "iteration": 1296,
             "learn": [
              0.09009289102
             ],
             "passed_time": 52.21136855,
             "remaining_time": 28.2996084,
             "test": [
              0.6361870339,
              0.1533588397
             ]
            },
            {
             "iteration": 1297,
             "learn": [
              0.09006696367
             ],
             "passed_time": 52.24829811,
             "remaining_time": 28.25755414,
             "test": [
              0.6361870339,
              0.1533601196
             ]
            },
            {
             "iteration": 1298,
             "learn": [
              0.09004160265
             ],
             "passed_time": 52.28698868,
             "remaining_time": 28.2164581,
             "test": [
              0.6361787438,
              0.1533632769
             ]
            },
            {
             "iteration": 1299,
             "learn": [
              0.09001572336
             ],
             "passed_time": 52.32423355,
             "remaining_time": 28.17458729,
             "test": [
              0.6361787438,
              0.1533645642
             ]
            },
            {
             "iteration": 1300,
             "learn": [
              0.0899898439
             ],
             "passed_time": 52.36098773,
             "remaining_time": 28.13245997,
             "test": [
              0.6361787438,
              0.1533719238
             ]
            },
            {
             "iteration": 1301,
             "learn": [
              0.08996397434
             ],
             "passed_time": 52.39820068,
             "remaining_time": 28.09058685,
             "test": [
              0.6361787438,
              0.1533795865
             ]
            },
            {
             "iteration": 1302,
             "learn": [
              0.08993812509
             ],
             "passed_time": 52.43504828,
             "remaining_time": 28.04852544,
             "test": [
              0.6361787438,
              0.1533850729
             ]
            },
            {
             "iteration": 1303,
             "learn": [
              0.08991289656
             ],
             "passed_time": 52.47179163,
             "remaining_time": 28.00641639,
             "test": [
              0.6361787438,
              0.1533863521
             ]
            },
            {
             "iteration": 1304,
             "learn": [
              0.08988713702
             ],
             "passed_time": 52.50912508,
             "remaining_time": 27.96462983,
             "test": [
              0.6361787438,
              0.1533911869
             ]
            },
            {
             "iteration": 1305,
             "learn": [
              0.0898613572
             ],
             "passed_time": 52.54759331,
             "remaining_time": 27.92345311,
             "test": [
              0.6361787438,
              0.1534016872
             ]
            },
            {
             "iteration": 1306,
             "learn": [
              0.08983560853
             ],
             "passed_time": 52.58468355,
             "remaining_time": 27.88154988,
             "test": [
              0.6361787438,
              0.1534029923
             ]
            },
            {
             "iteration": 1307,
             "learn": [
              0.08980987525
             ],
             "passed_time": 52.62168565,
             "remaining_time": 27.8396074,
             "test": [
              0.6361787438,
              0.1534043007
             ]
            },
            {
             "iteration": 1308,
             "learn": [
              0.08971491654
             ],
             "passed_time": 52.66330784,
             "remaining_time": 27.80011132,
             "test": [
              0.6360184702,
              0.153424879
             ]
            },
            {
             "iteration": 1309,
             "learn": [
              0.08968355946
             ],
             "passed_time": 52.70023741,
             "remaining_time": 27.75814031,
             "test": [
              0.6360184702,
              0.1534268673
             ]
            },
            {
             "iteration": 1310,
             "learn": [
              0.08965785998
             ],
             "passed_time": 52.73683421,
             "remaining_time": 27.71600211,
             "test": [
              0.6360184702,
              0.1534281676
             ]
            },
            {
             "iteration": 1311,
             "learn": [
              0.08963217736
             ],
             "passed_time": 52.77465472,
             "remaining_time": 27.67451406,
             "test": [
              0.6360184702,
              0.1534294714
             ]
            },
            {
             "iteration": 1312,
             "learn": [
              0.08950884762
             ],
             "passed_time": 52.8143179,
             "remaining_time": 27.63399573,
             "test": [
              0.6363307275,
              0.1534576543
             ]
            },
            {
             "iteration": 1313,
             "learn": [
              0.08948314258
             ],
             "passed_time": 52.85122004,
             "remaining_time": 27.59203725,
             "test": [
              0.6363307275,
              0.1534589779
             ]
            },
            {
             "iteration": 1314,
             "learn": [
              0.08945748731
             ],
             "passed_time": 52.88821065,
             "remaining_time": 27.55013254,
             "test": [
              0.6363307275,
              0.1534603029
             ]
            },
            {
             "iteration": 1315,
             "learn": [
              0.08943186389
             ],
             "passed_time": 52.92454466,
             "remaining_time": 27.50789403,
             "test": [
              0.6363307275,
              0.1534616313
             ]
            },
            {
             "iteration": 1316,
             "learn": [
              0.08940625351
             ],
             "passed_time": 52.96235999,
             "remaining_time": 27.46643271,
             "test": [
              0.6363307275,
              0.1534629626
             ]
            },
            {
             "iteration": 1317,
             "learn": [
              0.08938063058
             ],
             "passed_time": 52.99993978,
             "remaining_time": 27.42485503,
             "test": [
              0.6363307275,
              0.1534642967
             ]
            },
            {
             "iteration": 1318,
             "learn": [
              0.08935505869
             ],
             "passed_time": 53.03616412,
             "remaining_time": 27.3825836,
             "test": [
              0.6363307275,
              0.1534656335
             ]
            },
            {
             "iteration": 1319,
             "learn": [
              0.0893294912
             ],
             "passed_time": 53.0730726,
             "remaining_time": 27.34067376,
             "test": [
              0.6363307275,
              0.1534669728
             ]
            },
            {
             "iteration": 1320,
             "learn": [
              0.08930396369
             ],
             "passed_time": 53.1105001,
             "remaining_time": 27.29903828,
             "test": [
              0.6363307275,
              0.1534683138
             ]
            },
            {
             "iteration": 1321,
             "learn": [
              0.08927845867
             ],
             "passed_time": 53.14748824,
             "remaining_time": 27.25718384,
             "test": [
              0.6363307275,
              0.1534696573
             ]
            },
            {
             "iteration": 1322,
             "learn": [
              0.08925296382
             ],
             "passed_time": 53.18997621,
             "remaining_time": 27.21815109,
             "test": [
              0.6363307275,
              0.153471004
             ]
            },
            {
             "iteration": 1323,
             "learn": [
              0.08922747272
             ],
             "passed_time": 53.23263651,
             "remaining_time": 27.17920112,
             "test": [
              0.6363307275,
              0.1534723532
             ]
            },
            {
             "iteration": 1324,
             "learn": [
              0.0892020421
             ],
             "passed_time": 53.2845548,
             "remaining_time": 27.14496188,
             "test": [
              0.6363307275,
              0.1534737039
             ]
            },
            {
             "iteration": 1325,
             "learn": [
              0.08917658804
             ],
             "passed_time": 53.33100833,
             "remaining_time": 27.10791826,
             "test": [
              0.6363307275,
              0.1534750571
             ]
            },
            {
             "iteration": 1326,
             "learn": [
              0.08915162401
             ],
             "passed_time": 53.37083855,
             "remaining_time": 27.06750139,
             "test": [
              0.6363224375,
              0.1534774695
             ]
            },
            {
             "iteration": 1327,
             "learn": [
              0.08912623832
             ],
             "passed_time": 53.41011668,
             "remaining_time": 27.02680603,
             "test": [
              0.6363224375,
              0.1534788285
             ]
            },
            {
             "iteration": 1328,
             "learn": [
              0.08910089927
             ],
             "passed_time": 53.44976323,
             "remaining_time": 26.98629882,
             "test": [
              0.6363224375,
              0.1534801896
             ]
            },
            {
             "iteration": 1329,
             "learn": [
              0.08907549404
             ],
             "passed_time": 53.49047335,
             "remaining_time": 26.94632868,
             "test": [
              0.6363224375,
              0.1534815527
             ]
            },
            {
             "iteration": 1330,
             "learn": [
              0.08905019364
             ],
             "passed_time": 53.53029858,
             "remaining_time": 26.90591266,
             "test": [
              0.6363141475,
              0.1534847725
             ]
            },
            {
             "iteration": 1331,
             "learn": [
              0.08902486666
             ],
             "passed_time": 53.5694422,
             "remaining_time": 26.8651557,
             "test": [
              0.6363141475,
              0.1534861392
             ]
            },
            {
             "iteration": 1332,
             "learn": [
              0.08899960569
             ],
             "passed_time": 53.60986723,
             "remaining_time": 26.82504234,
             "test": [
              0.6363141475,
              0.153487508
             ]
            },
            {
             "iteration": 1333,
             "learn": [
              0.08897436261
             ],
             "passed_time": 53.65043394,
             "remaining_time": 26.78499925,
             "test": [
              0.6363141475,
              0.1534888794
             ]
            },
            {
             "iteration": 1334,
             "learn": [
              0.08892089904
             ],
             "passed_time": 53.69146219,
             "remaining_time": 26.74518529,
             "test": [
              0.6363307275,
              0.1534937681
             ]
            },
            {
             "iteration": 1335,
             "learn": [
              0.08889598913
             ],
             "passed_time": 53.72859014,
             "remaining_time": 26.70343103,
             "test": [
              0.636269934,
              0.1534975651
             ]
            },
            {
             "iteration": 1336,
             "learn": [
              0.08887075596
             ],
             "passed_time": 53.76644185,
             "remaining_time": 26.66204259,
             "test": [
              0.636269934,
              0.1534989179
             ]
            },
            {
             "iteration": 1337,
             "learn": [
              0.08876188187
             ],
             "passed_time": 53.80476116,
             "remaining_time": 26.6208908,
             "test": [
              0.6351176215,
              0.1535608415
             ]
            },
            {
             "iteration": 1338,
             "learn": [
              0.08873665603
             ],
             "passed_time": 53.84286863,
             "remaining_time": 26.57963866,
             "test": [
              0.6351176215,
              0.1535712299
             ]
            },
            {
             "iteration": 1339,
             "learn": [
              0.08871209657
             ],
             "passed_time": 53.88034617,
             "remaining_time": 26.53808095,
             "test": [
              0.6351176215,
              0.1535724
             ]
            },
            {
             "iteration": 1340,
             "learn": [
              0.08868692042
             ],
             "passed_time": 53.91817038,
             "remaining_time": 26.49669969,
             "test": [
              0.6351176215,
              0.153573605
             ]
            },
            {
             "iteration": 1341,
             "learn": [
              0.0886623818
             ],
             "passed_time": 53.95860308,
             "remaining_time": 26.4566027,
             "test": [
              0.6351176215,
              0.1535747975
             ]
            },
            {
             "iteration": 1342,
             "learn": [
              0.08863725771
             ],
             "passed_time": 54.0010265,
             "remaining_time": 26.41747908,
             "test": [
              0.6351176215,
              0.1535760213
             ]
            },
            {
             "iteration": 1343,
             "learn": [
              0.08861218159
             ],
             "passed_time": 54.04292244,
             "remaining_time": 26.3780931,
             "test": [
              0.6351038048,
              0.1535784478
             ]
            },
            {
             "iteration": 1344,
             "learn": [
              0.08858708954
             ],
             "passed_time": 54.08209449,
             "remaining_time": 26.33737687,
             "test": [
              0.6351038048,
              0.1535796893
             ]
            },
            {
             "iteration": 1345,
             "learn": [
              0.0885620476
             ],
             "passed_time": 54.12091618,
             "remaining_time": 26.29649271,
             "test": [
              0.6351038048,
              0.1535851192
             ]
            },
            {
             "iteration": 1346,
             "learn": [
              0.08853695133
             ],
             "passed_time": 54.16281034,
             "remaining_time": 26.25710108,
             "test": [
              0.6350927515,
              0.1535906541
             ]
            },
            {
             "iteration": 1347,
             "learn": [
              0.08851192598
             ],
             "passed_time": 54.208026,
             "remaining_time": 26.21931228,
             "test": [
              0.6350927515,
              0.1535919195
             ]
            },
            {
             "iteration": 1348,
             "learn": [
              0.08848692601
             ],
             "passed_time": 54.24875208,
             "remaining_time": 26.17934589,
             "test": [
              0.6350927515,
              0.1535931922
             ]
            },
            {
             "iteration": 1349,
             "learn": [
              0.08846193293
             ],
             "passed_time": 54.28611207,
             "remaining_time": 26.13775766,
             "test": [
              0.6350927515,
              0.1535944724
             ]
            },
            {
             "iteration": 1350,
             "learn": [
              0.08843693859
             ],
             "passed_time": 54.32392982,
             "remaining_time": 26.0963956,
             "test": [
              0.6350899881,
              0.1535977257
             ]
            },
            {
             "iteration": 1351,
             "learn": [
              0.08841200027
             ],
             "passed_time": 54.36099164,
             "remaining_time": 26.05467647,
             "test": [
              0.6350899881,
              0.153599019
             ]
            },
            {
             "iteration": 1352,
             "learn": [
              0.08838706878
             ],
             "passed_time": 54.39878735,
             "remaining_time": 26.01331517,
             "test": [
              0.6350899881,
              0.1536003187
             ]
            },
            {
             "iteration": 1353,
             "learn": [
              0.08836215724
             ],
             "passed_time": 54.4360698,
             "remaining_time": 25.97171425,
             "test": [
              0.6350899881,
              0.1536016248
             ]
            },
            {
             "iteration": 1354,
             "learn": [
              0.0882348498
             ],
             "passed_time": 54.47598928,
             "remaining_time": 25.93137497,
             "test": [
              0.635186705,
              0.153623675
             ]
            },
            {
             "iteration": 1355,
             "learn": [
              0.08820985743
             ],
             "passed_time": 54.51472235,
             "remaining_time": 25.89047286,
             "test": [
              0.635186705,
              0.1536450705
             ]
            },
            {
             "iteration": 1356,
             "learn": [
              0.08818502536
             ],
             "passed_time": 54.554942,
             "remaining_time": 25.85027834,
             "test": [
              0.635186705,
              0.1536523363
             ]
            },
            {
             "iteration": 1357,
             "learn": [
              0.08813309434
             ],
             "passed_time": 54.59771597,
             "remaining_time": 25.81129135,
             "test": [
              0.6351203849,
              0.1536564309
             ]
            },
            {
             "iteration": 1358,
             "learn": [
              0.08810643122
             ],
             "passed_time": 54.63509126,
             "remaining_time": 25.76975239,
             "test": [
              0.6351203849,
              0.1536575439
             ]
            },
            {
             "iteration": 1359,
             "learn": [
              0.08808159736
             ],
             "passed_time": 54.67200382,
             "remaining_time": 25.7280018,
             "test": [
              0.6351203849,
              0.1536621957
             ]
            },
            {
             "iteration": 1360,
             "learn": [
              0.08805678553
             ],
             "passed_time": 54.71139307,
             "remaining_time": 25.68742114,
             "test": [
              0.6351203849,
              0.1536632352
             ]
            },
            {
             "iteration": 1361,
             "learn": [
              0.08803204905
             ],
             "passed_time": 54.74795746,
             "remaining_time": 25.64551899,
             "test": [
              0.6351203849,
              0.1536642928
             ]
            },
            {
             "iteration": 1362,
             "learn": [
              0.08800730596
             ],
             "passed_time": 54.7859491,
             "remaining_time": 25.60429169,
             "test": [
              0.6351203849,
              0.1536653676
             ]
            },
            {
             "iteration": 1363,
             "learn": [
              0.08798255709
             ],
             "passed_time": 54.82315167,
             "remaining_time": 25.56270122,
             "test": [
              0.6351203849,
              0.1536664596
             ]
            },
            {
             "iteration": 1364,
             "learn": [
              0.08795789447
             ],
             "passed_time": 54.86272439,
             "remaining_time": 25.52221977,
             "test": [
              0.6351203849,
              0.1536675663
             ]
            },
            {
             "iteration": 1365,
             "learn": [
              0.08792611592
             ],
             "passed_time": 54.90259653,
             "remaining_time": 25.48187862,
             "test": [
              0.6351038048,
              0.153670201
             ]
            },
            {
             "iteration": 1366,
             "learn": [
              0.08790142561
             ],
             "passed_time": 54.94161877,
             "remaining_time": 25.44114461,
             "test": [
              0.6351038048,
              0.1536713639
             ]
            },
            {
             "iteration": 1367,
             "learn": [
              0.08787677475
             ],
             "passed_time": 54.98067056,
             "remaining_time": 25.40042675,
             "test": [
              0.6351038048,
              0.1536725404
             ]
            },
            {
             "iteration": 1368,
             "learn": [
              0.08785212086
             ],
             "passed_time": 55.02143952,
             "remaining_time": 25.3605028,
             "test": [
              0.6351038048,
              0.1536737297
             ]
            },
            {
             "iteration": 1369,
             "learn": [
              0.08774782612
             ],
             "passed_time": 55.0673189,
             "remaining_time": 25.32292767,
             "test": [
              0.6344461301,
              0.1536917704
             ]
            },
            {
             "iteration": 1370,
             "learn": [
              0.08772317383
             ],
             "passed_time": 55.11308158,
             "remaining_time": 25.28528688,
             "test": [
              0.6344461301,
              0.1536929173
             ]
            },
            {
             "iteration": 1371,
             "learn": [
              0.08769852232
             ],
             "passed_time": 55.21559076,
             "remaining_time": 25.2736086,
             "test": [
              0.6344461301,
              0.1536940783
             ]
            },
            {
             "iteration": 1372,
             "learn": [
              0.08767390556
             ],
             "passed_time": 55.28734866,
             "remaining_time": 25.247755,
             "test": [
              0.6344461301,
              0.1536952525
             ]
            },
            {
             "iteration": 1373,
             "learn": [
              0.08764927686
             ],
             "passed_time": 55.35102802,
             "remaining_time": 25.21815396,
             "test": [
              0.6344461301,
              0.1536964396
             ]
            },
            {
             "iteration": 1374,
             "learn": [
              0.0876257513
             ],
             "passed_time": 55.40268798,
             "remaining_time": 25.18303999,
             "test": [
              0.6344461301,
              0.1536975986
             ]
            },
            {
             "iteration": 1375,
             "learn": [
              0.0876011825
             ],
             "passed_time": 55.50675103,
             "remaining_time": 25.17166617,
             "test": [
              0.6344461301,
              0.1536988129
             ]
            },
            {
             "iteration": 1376,
             "learn": [
              0.08750362076
             ],
             "passed_time": 55.56094385,
             "remaining_time": 25.13759478,
             "test": [
              0.6345235036,
              0.1536855792
             ]
            },
            {
             "iteration": 1377,
             "learn": [
              0.08747901862
             ],
             "passed_time": 55.60998044,
             "remaining_time": 25.10116679,
             "test": [
              0.6345235036,
              0.1536867128
             ]
            },
            {
             "iteration": 1378,
             "learn": [
              0.0874544758
             ],
             "passed_time": 55.66605768,
             "remaining_time": 25.06789109,
             "test": [
              0.6345235036,
              0.1536878597
             ]
            },
            {
             "iteration": 1379,
             "learn": [
              0.08742786585
             ],
             "passed_time": 55.72767057,
             "remaining_time": 25.03706939,
             "test": [
              0.6344737635,
              0.1536918463
             ]
            },
            {
             "iteration": 1380,
             "learn": [
              0.08740340129
             ],
             "passed_time": 55.79225528,
             "remaining_time": 25.00753513,
             "test": [
              0.6344737635,
              0.1536930127
             ]
            },
            {
             "iteration": 1381,
             "learn": [
              0.08737893327
             ],
             "passed_time": 55.85731676,
             "remaining_time": 24.97816336,
             "test": [
              0.6344737635,
              0.1536941932
             ]
            },
            {
             "iteration": 1382,
             "learn": [
              0.08735449005
             ],
             "passed_time": 55.89993389,
             "remaining_time": 24.93872683,
             "test": [
              0.6344737635,
              0.1536953868
             ]
            },
            {
             "iteration": 1383,
             "learn": [
              0.08733005115
             ],
             "passed_time": 55.94114174,
             "remaining_time": 24.89865846,
             "test": [
              0.6344737635,
              0.1536965934
             ]
            },
            {
             "iteration": 1384,
             "learn": [
              0.08730564945
             ],
             "passed_time": 55.98114342,
             "remaining_time": 24.85805286,
             "test": [
              0.6344682368,
              0.1536995727
             ]
            },
            {
             "iteration": 1385,
             "learn": [
              0.08728128841
             ],
             "passed_time": 56.02073835,
             "remaining_time": 24.81726793,
             "test": [
              0.6344682368,
              0.1537008032
             ]
            },
            {
             "iteration": 1386,
             "learn": [
              0.0872569119
             ],
             "passed_time": 56.07154699,
             "remaining_time": 24.78144074,
             "test": [
              0.6344682368,
              0.1537118892
             ]
            },
            {
             "iteration": 1387,
             "learn": [
              0.08723256829
             ],
             "passed_time": 56.12045387,
             "remaining_time": 24.74475344,
             "test": [
              0.6344682368,
              0.1537131415
             ]
            },
            {
             "iteration": 1388,
             "learn": [
              0.08720824209
             ],
             "passed_time": 56.16451221,
             "remaining_time": 24.70591574,
             "test": [
              0.6344682368,
              0.1537144045
             ]
            },
            {
             "iteration": 1389,
             "learn": [
              0.08718393433
             ],
             "passed_time": 56.21845527,
             "remaining_time": 24.67140843,
             "test": [
              0.6344682368,
              0.1537253332
             ]
            },
            {
             "iteration": 1390,
             "learn": [
              0.0871596673
             ],
             "passed_time": 56.26559123,
             "remaining_time": 24.63389293,
             "test": [
              0.6344682368,
              0.1537266149
             ]
            },
            {
             "iteration": 1391,
             "learn": [
              0.08713541939
             ],
             "passed_time": 56.31737694,
             "remaining_time": 24.59839452,
             "test": [
              0.6344682368,
              0.1537279058
             ]
            },
            {
             "iteration": 1392,
             "learn": [
              0.08711121741
             ],
             "passed_time": 56.36355808,
             "remaining_time": 24.56043055,
             "test": [
              0.6344682368,
              0.1537292048
             ]
            },
            {
             "iteration": 1393,
             "learn": [
              0.08708702631
             ],
             "passed_time": 56.40339406,
             "remaining_time": 24.51969641,
             "test": [
              0.6344682368,
              0.1537305133
             ]
            },
            {
             "iteration": 1394,
             "learn": [
              0.08706281419
             ],
             "passed_time": 56.44200375,
             "remaining_time": 24.47843173,
             "test": [
              0.6344682368,
              0.1537318308
             ]
            },
            {
             "iteration": 1395,
             "learn": [
              0.08703866271
             ],
             "passed_time": 56.48342922,
             "remaining_time": 24.43838915,
             "test": [
              0.6344682368,
              0.1537374612
             ]
            },
            {
             "iteration": 1396,
             "learn": [
              0.08701451565
             ],
             "passed_time": 56.52707292,
             "remaining_time": 24.39930206,
             "test": [
              0.6344682368,
              0.1537387945
             ]
            },
            {
             "iteration": 1397,
             "learn": [
              0.0869903846
             ],
             "passed_time": 56.57129064,
             "remaining_time": 24.36045563,
             "test": [
              0.6344682368,
              0.1537401352
             ]
            },
            {
             "iteration": 1398,
             "learn": [
              0.08696627645
             ],
             "passed_time": 56.61746803,
             "remaining_time": 24.32244338,
             "test": [
              0.6344682368,
              0.1537414832
             ]
            },
            {
             "iteration": 1399,
             "learn": [
              0.08694223345
             ],
             "passed_time": 56.66506084,
             "remaining_time": 24.28502607,
             "test": [
              0.6344682368,
              0.1537428386
             ]
            },
            {
             "iteration": 1400,
             "learn": [
              0.08691813821
             ],
             "passed_time": 56.71175779,
             "remaining_time": 24.24721122,
             "test": [
              0.6344682368,
              0.1537442006
             ]
            },
            {
             "iteration": 1401,
             "learn": [
              0.08689411927
             ],
             "passed_time": 56.75405708,
             "remaining_time": 24.20750794,
             "test": [
              0.6344682368,
              0.1537455693
             ]
            },
            {
             "iteration": 1402,
             "learn": [
              0.08687012376
             ],
             "passed_time": 56.80020772,
             "remaining_time": 24.16943978,
             "test": [
              0.6344682368,
              0.1537469444
             ]
            },
            {
             "iteration": 1403,
             "learn": [
              0.08684612088
             ],
             "passed_time": 56.84657712,
             "remaining_time": 24.13145297,
             "test": [
              0.6344682368,
              0.1537594694
             ]
            },
            {
             "iteration": 1404,
             "learn": [
              0.08682215795
             ],
             "passed_time": 56.9012302,
             "remaining_time": 24.09696225,
             "test": [
              0.6344682368,
              0.1537716776
             ]
            },
            {
             "iteration": 1405,
             "learn": [
              0.08679821296
             ],
             "passed_time": 56.95006012,
             "remaining_time": 24.05998272,
             "test": [
              0.6344682368,
              0.1537730659
             ]
            },
            {
             "iteration": 1406,
             "learn": [
              0.08677423769
             ],
             "passed_time": 56.99032748,
             "remaining_time": 24.01937754,
             "test": [
              0.6344682368,
              0.15377446
             ]
            },
            {
             "iteration": 1407,
             "learn": [
              0.08675033597
             ],
             "passed_time": 57.03078443,
             "remaining_time": 23.97885254,
             "test": [
              0.6344682368,
              0.1537796034
             ]
            },
            {
             "iteration": 1408,
             "learn": [
              0.08672645771
             ],
             "passed_time": 57.07068165,
             "remaining_time": 23.93809287,
             "test": [
              0.6344682368,
              0.1537810071
             ]
            },
            {
             "iteration": 1409,
             "learn": [
              0.08670257444
             ],
             "passed_time": 57.10959602,
             "remaining_time": 23.89692316,
             "test": [
              0.6344682368,
              0.153782416
             ]
            },
            {
             "iteration": 1410,
             "learn": [
              0.08667872709
             ],
             "passed_time": 57.14628937,
             "remaining_time": 23.85482951,
             "test": [
              0.6344682368,
              0.1537838305
             ]
            },
            {
             "iteration": 1411,
             "learn": [
              0.08665490232
             ],
             "passed_time": 57.18544424,
             "remaining_time": 23.81376857,
             "test": [
              0.6344682368,
              0.1537852506
             ]
            },
            {
             "iteration": 1412,
             "learn": [
              0.08663222408
             ],
             "passed_time": 57.2256726,
             "remaining_time": 23.77315628,
             "test": [
              0.6344654735,
              0.1537868785
             ]
            },
            {
             "iteration": 1413,
             "learn": [
              0.08660843228
             ],
             "passed_time": 57.26435884,
             "remaining_time": 23.73190543,
             "test": [
              0.6344654735,
              0.1537883106
             ]
            },
            {
             "iteration": 1414,
             "learn": [
              0.08658335136
             ],
             "passed_time": 57.3018455,
             "remaining_time": 23.69016228,
             "test": [
              0.6344406034,
              0.1537926741
             ]
            },
            {
             "iteration": 1415,
             "learn": [
              0.08655960172
             ],
             "passed_time": 57.33925079,
             "remaining_time": 23.64839157,
             "test": [
              0.6344406034,
              0.1537941084
             ]
            },
            {
             "iteration": 1416,
             "learn": [
              0.08653581654
             ],
             "passed_time": 57.37923352,
             "remaining_time": 23.60768747,
             "test": [
              0.6344406034,
              0.1537955471
             ]
            },
            {
             "iteration": 1417,
             "learn": [
              0.08651209145
             ],
             "passed_time": 57.42273188,
             "remaining_time": 23.56842733,
             "test": [
              0.6344406034,
              0.1537969902
             ]
            },
            {
             "iteration": 1418,
             "learn": [
              0.08648606939
             ],
             "passed_time": 57.4600067,
             "remaining_time": 23.52661303,
             "test": [
              0.6344019167,
              0.1537995711
             ]
            },
            {
             "iteration": 1419,
             "learn": [
              0.08646140148
             ],
             "passed_time": 57.50107913,
             "remaining_time": 23.48635626,
             "test": [
              0.6344019167,
              0.1538011022
             ]
            },
            {
             "iteration": 1420,
             "learn": [
              0.08643771403
             ],
             "passed_time": 57.54297153,
             "remaining_time": 23.44643245,
             "test": [
              0.6344019167,
              0.1538025435
             ]
            },
            {
             "iteration": 1421,
             "learn": [
              0.08641403338
             ],
             "passed_time": 57.58026944,
             "remaining_time": 23.40463835,
             "test": [
              0.6344019167,
              0.1538039893
             ]
            },
            {
             "iteration": 1422,
             "learn": [
              0.08639094432
             ],
             "passed_time": 57.61710625,
             "remaining_time": 23.3626636,
             "test": [
              0.6344019167,
              0.1538054188
             ]
            },
            {
             "iteration": 1423,
             "learn": [
              0.08636729312
             ],
             "passed_time": 57.65416511,
             "remaining_time": 23.32078589,
             "test": [
              0.6344019167,
              0.1538068754
             ]
            },
            {
             "iteration": 1424,
             "learn": [
              0.08634363494
             ],
             "passed_time": 57.69093734,
             "remaining_time": 23.27879928,
             "test": [
              0.6344019167,
              0.1538083367
             ]
            },
            {
             "iteration": 1425,
             "learn": [
              0.08632004617
             ],
             "passed_time": 57.72789749,
             "remaining_time": 23.23689562,
             "test": [
              0.6344019167,
              0.153809801
             ]
            },
            {
             "iteration": 1426,
             "learn": [
              0.0862964585
             ],
             "passed_time": 57.76535727,
             "remaining_time": 23.19519952,
             "test": [
              0.6344019167,
              0.1538112688
             ]
            },
            {
             "iteration": 1427,
             "learn": [
              0.08627393449
             ],
             "passed_time": 57.80157661,
             "remaining_time": 23.15301248,
             "test": [
              0.6343770466,
              0.1538137263
             ]
            },
            {
             "iteration": 1428,
             "learn": [
              0.08625037011
             ],
             "passed_time": 57.83902123,
             "remaining_time": 23.11132339,
             "test": [
              0.6343770466,
              0.1538152041
             ]
            },
            {
             "iteration": 1429,
             "learn": [
              0.0862268467
             ],
             "passed_time": 57.87643281,
             "remaining_time": 23.06962706,
             "test": [
              0.6343770466,
              0.1538166848
             ]
            },
            {
             "iteration": 1430,
             "learn": [
              0.08620335364
             ],
             "passed_time": 57.91720614,
             "remaining_time": 23.02927344,
             "test": [
              0.6343770466,
              0.1538181695
             ]
            },
            {
             "iteration": 1431,
             "learn": [
              0.08617983192
             ],
             "passed_time": 57.95804372,
             "remaining_time": 22.98894472,
             "test": [
              0.6343770466,
              0.1538196576
             ]
            },
            {
             "iteration": 1432,
             "learn": [
              0.08615635431
             ],
             "passed_time": 57.9992054,
             "remaining_time": 22.94874352,
             "test": [
              0.6343742833,
              0.1538229758
             ]
            },
            {
             "iteration": 1433,
             "learn": [
              0.08613286434
             ],
             "passed_time": 58.03853728,
             "remaining_time": 22.90781876,
             "test": [
              0.6343742833,
              0.15382447
             ]
            },
            {
             "iteration": 1434,
             "learn": [
              0.08610947365
             ],
             "passed_time": 58.07807958,
             "remaining_time": 22.86697907,
             "test": [
              0.6343742833,
              0.1538360914
             ]
            },
            {
             "iteration": 1435,
             "learn": [
              0.08608602625
             ],
             "passed_time": 58.11984469,
             "remaining_time": 22.82701421,
             "test": [
              0.6343742833,
              0.1538375904
             ]
            },
            {
             "iteration": 1436,
             "learn": [
              0.08606261408
             ],
             "passed_time": 58.16045347,
             "remaining_time": 22.78659381,
             "test": [
              0.6343742833,
              0.1538390926
             ]
            },
            {
             "iteration": 1437,
             "learn": [
              0.08603923931
             ],
             "passed_time": 58.20065821,
             "remaining_time": 22.74601524,
             "test": [
              0.6343742833,
              0.1538505258
             ]
            },
            {
             "iteration": 1438,
             "learn": [
              0.08601586252
             ],
             "passed_time": 58.24367444,
             "remaining_time": 22.70653326,
             "test": [
              0.6343742833,
              0.1538520318
             ]
            },
            {
             "iteration": 1439,
             "learn": [
              0.0859925084
             ],
             "passed_time": 58.28344012,
             "remaining_time": 22.66578227,
             "test": [
              0.6343742833,
              0.1538535409
             ]
            },
            {
             "iteration": 1440,
             "learn": [
              0.08596919364
             ],
             "passed_time": 58.32368681,
             "remaining_time": 22.62521924,
             "test": [
              0.6343742833,
              0.153855051
             ]
            },
            {
             "iteration": 1441,
             "learn": [
              0.08594590793
             ],
             "passed_time": 58.36262897,
             "remaining_time": 22.58415185,
             "test": [
              0.6343742833,
              0.1538565642
             ]
            },
            {
             "iteration": 1442,
             "learn": [
              0.08592263533
             ],
             "passed_time": 58.40194356,
             "remaining_time": 22.54323116,
             "test": [
              0.6343742833,
              0.1538580805
             ]
            },
            {
             "iteration": 1443,
             "learn": [
              0.08589937116
             ],
             "passed_time": 58.44057433,
             "remaining_time": 22.5020494,
             "test": [
              0.6343742833,
              0.1538595996
             ]
            },
            {
             "iteration": 1444,
             "learn": [
              0.08587611922
             ],
             "passed_time": 58.47933744,
             "remaining_time": 22.46092199,
             "test": [
              0.6343742833,
              0.1538655539
             ]
            },
            {
             "iteration": 1445,
             "learn": [
              0.08585285404
             ],
             "passed_time": 58.51990977,
             "remaining_time": 22.42049102,
             "test": [
              0.6343742833,
              0.1538670775
             ]
            },
            {
             "iteration": 1446,
             "learn": [
              0.08582964556
             ],
             "passed_time": 58.55921273,
             "remaining_time": 22.37957473,
             "test": [
              0.6343742833,
              0.1538686034
             ]
            },
            {
             "iteration": 1447,
             "learn": [
              0.08580644731
             ],
             "passed_time": 58.59913721,
             "remaining_time": 22.33889761,
             "test": [
              0.6343742833,
              0.1538701315
             ]
            },
            {
             "iteration": 1448,
             "learn": [
              0.08578326549
             ],
             "passed_time": 58.63934432,
             "remaining_time": 22.298329,
             "test": [
              0.6343742833,
              0.1538716625
             ]
            },
            {
             "iteration": 1449,
             "learn": [
              0.085760143
             ],
             "passed_time": 58.67844452,
             "remaining_time": 22.25734103,
             "test": [
              0.6343742833,
              0.1538731954
             ]
            },
            {
             "iteration": 1450,
             "learn": [
              0.08573699895
             ],
             "passed_time": 58.71862651,
             "remaining_time": 22.21676496,
             "test": [
              0.6343742833,
              0.1538747307
             ]
            },
            {
             "iteration": 1451,
             "learn": [
              0.08569095136
             ],
             "passed_time": 58.76019561,
             "remaining_time": 22.17671294,
             "test": [
              0.6343273065,
              0.1538584213
             ]
            },
            {
             "iteration": 1452,
             "learn": [
              0.08566781212
             ],
             "passed_time": 58.80109453,
             "remaining_time": 22.13640654,
             "test": [
              0.6343273065,
              0.1538599295
             ]
            },
            {
             "iteration": 1453,
             "learn": [
              0.08564471503
             ],
             "passed_time": 58.8408183,
             "remaining_time": 22.09565804,
             "test": [
              0.6343245432,
              0.1538728805
             ]
            },
            {
             "iteration": 1454,
             "learn": [
              0.08562106525
             ],
             "passed_time": 58.8814645,
             "remaining_time": 22.05525646,
             "test": [
              0.6342941464,
              0.1538874073
             ]
            },
            {
             "iteration": 1455,
             "learn": [
              0.08549318847
             ],
             "passed_time": 58.92763031,
             "remaining_time": 22.01691682,
             "test": [
              0.6344433667,
              0.1538675777
             ]
            },
            {
             "iteration": 1456,
             "learn": [
              0.08546860796
             ],
             "passed_time": 58.96777954,
             "remaining_time": 21.97632415,
             "test": [
              0.6344433667,
              0.1538691036
             ]
            },
            {
             "iteration": 1457,
             "learn": [
              0.08544552011
             ],
             "passed_time": 59.00583084,
             "remaining_time": 21.93495221,
             "test": [
              0.6344433667,
              0.1538705287
             ]
            },
            {
             "iteration": 1458,
             "learn": [
              0.08542250325
             ],
             "passed_time": 59.04617454,
             "remaining_time": 21.89443484,
             "test": [
              0.6344433667,
              0.1538758154
             ]
            },
            {
             "iteration": 1459,
             "learn": [
              0.08539943272
             ],
             "passed_time": 59.09379614,
             "remaining_time": 21.85660953,
             "test": [
              0.6344433667,
              0.153877253
             ]
            },
            {
             "iteration": 1460,
             "learn": [
              0.08537645424
             ],
             "passed_time": 59.15140763,
             "remaining_time": 21.82245634,
             "test": [
              0.6344433667,
              0.1538786968
             ]
            },
            {
             "iteration": 1461,
             "learn": [
              0.08535350908
             ],
             "passed_time": 59.19287994,
             "remaining_time": 21.78233202,
             "test": [
              0.6344433667,
              0.1538801477
             ]
            },
            {
             "iteration": 1462,
             "learn": [
              0.0853305326
             ],
             "passed_time": 59.23589454,
             "remaining_time": 21.74277195,
             "test": [
              0.6344433667,
              0.1538816057
             ]
            },
            {
             "iteration": 1463,
             "learn": [
              0.08530756276
             ],
             "passed_time": 59.27737947,
             "remaining_time": 21.70264713,
             "test": [
              0.6344433667,
              0.1538830703
             ]
            },
            {
             "iteration": 1464,
             "learn": [
              0.0852846315
             ],
             "passed_time": 59.31872203,
             "remaining_time": 21.66246845,
             "test": [
              0.6344433667,
              0.153884541
             ]
            },
            {
             "iteration": 1465,
             "learn": [
              0.08526171062
             ],
             "passed_time": 59.35770557,
             "remaining_time": 21.6214289,
             "test": [
              0.6344433667,
              0.1538881006
             ]
            },
            {
             "iteration": 1466,
             "learn": [
              0.0852388289
             ],
             "passed_time": 59.39597775,
             "remaining_time": 21.5801337,
             "test": [
              0.6344433667,
              0.1538895829
             ]
            },
            {
             "iteration": 1467,
             "learn": [
              0.08521592339
             ],
             "passed_time": 59.43351675,
             "remaining_time": 21.53857691,
             "test": [
              0.6344433667,
              0.1538910706
             ]
            },
            {
             "iteration": 1468,
             "learn": [
              0.08519305728
             ],
             "passed_time": 59.47094449,
             "remaining_time": 21.49698538,
             "test": [
              0.6344433667,
              0.1538925643
             ]
            },
            {
             "iteration": 1469,
             "learn": [
              0.08517017169
             ],
             "passed_time": 59.50993973,
             "remaining_time": 21.45596467,
             "test": [
              0.6344433667,
              0.1538940635
             ]
            },
            {
             "iteration": 1470,
             "learn": [
              0.08514734105
             ],
             "passed_time": 59.54837163,
             "remaining_time": 21.41474411,
             "test": [
              0.6344433667,
              0.153895568
             ]
            },
            {
             "iteration": 1471,
             "learn": [
              0.08512452252
             ],
             "passed_time": 59.58902242,
             "remaining_time": 21.37432326,
             "test": [
              0.6344433667,
              0.1538970765
             ]
            },
            {
             "iteration": 1472,
             "learn": [
              0.08510169764
             ],
             "passed_time": 59.62978008,
             "remaining_time": 21.33394033,
             "test": [
              0.6344433667,
              0.1538985903
             ]
            },
            {
             "iteration": 1473,
             "learn": [
              0.08507894771
             ],
             "passed_time": 59.66929184,
             "remaining_time": 21.29311229,
             "test": [
              0.6344433667,
              0.153900109
             ]
            },
            {
             "iteration": 1474,
             "learn": [
              0.08505654869
             ],
             "passed_time": 59.71021368,
             "remaining_time": 21.25278792,
             "test": [
              0.6344378401,
              0.1539026534
             ]
            },
            {
             "iteration": 1475,
             "learn": [
              0.08503378661
             ],
             "passed_time": 59.75063184,
             "remaining_time": 21.21228393,
             "test": [
              0.6344378401,
              0.1539041812
             ]
            },
            {
             "iteration": 1476,
             "learn": [
              0.08501103824
             ],
             "passed_time": 59.79059048,
             "remaining_time": 21.17161735,
             "test": [
              0.6344378401,
              0.1539057137
             ]
            },
            {
             "iteration": 1477,
             "learn": [
              0.08498833359
             ],
             "passed_time": 59.83026116,
             "remaining_time": 21.13085002,
             "test": [
              0.6344378401,
              0.1539072498
             ]
            },
            {
             "iteration": 1478,
             "learn": [
              0.08496560665
             ],
             "passed_time": 59.86896806,
             "remaining_time": 21.08974467,
             "test": [
              0.6344378401,
              0.1539087897
             ]
            },
            {
             "iteration": 1479,
             "learn": [
              0.08494349551
             ],
             "passed_time": 59.90728687,
             "remaining_time": 21.0485062,
             "test": [
              0.6344378401,
              0.1539103084
             ]
            },
            {
             "iteration": 1480,
             "learn": [
              0.08492083119
             ],
             "passed_time": 59.94581702,
             "remaining_time": 21.00734573,
             "test": [
              0.6344378401,
              0.153911857
             ]
            },
            {
             "iteration": 1481,
             "learn": [
              0.08489817762
             ],
             "passed_time": 59.98550112,
             "remaining_time": 20.96659216,
             "test": [
              0.6344378401,
              0.1539134094
             ]
            },
            {
             "iteration": 1482,
             "learn": [
              0.08487553027
             ],
             "passed_time": 60.02377538,
             "remaining_time": 20.92534853,
             "test": [
              0.6344350767,
              0.1539168547
             ]
            },
            {
             "iteration": 1483,
             "learn": [
              0.08485290355
             ],
             "passed_time": 60.06266612,
             "remaining_time": 20.88432326,
             "test": [
              0.6344350767,
              0.1539184133
             ]
            },
            {
             "iteration": 1484,
             "learn": [
              0.08483033052
             ],
             "passed_time": 60.10620161,
             "remaining_time": 20.84491167,
             "test": [
              0.6344323134,
              0.1539211468
             ]
            },
            {
             "iteration": 1485,
             "learn": [
              0.08480772459
             ],
             "passed_time": 60.14318943,
             "remaining_time": 20.80322972,
             "test": [
              0.6344323134,
              0.1539330923
             ]
            },
            {
             "iteration": 1486,
             "learn": [
              0.08478515664
             ],
             "passed_time": 60.17997549,
             "remaining_time": 20.76148448,
             "test": [
              0.6344323134,
              0.15393466
             ]
            },
            {
             "iteration": 1487,
             "learn": [
              0.08476369271
             ],
             "passed_time": 60.21659813,
             "remaining_time": 20.71968968,
             "test": [
              0.6343936266,
              0.1539374272
             ]
            },
            {
             "iteration": 1488,
             "learn": [
              0.08474117858
             ],
             "passed_time": 60.25403808,
             "remaining_time": 20.67818231,
             "test": [
              0.6343936266,
              0.1539497516
             ]
            },
            {
             "iteration": 1489,
             "learn": [
              0.08471861938
             ],
             "passed_time": 60.2901895,
             "remaining_time": 20.63623936,
             "test": [
              0.6343936266,
              0.1539513287
             ]
            },
            {
             "iteration": 1490,
             "learn": [
              0.08469611145
             ],
             "passed_time": 60.32770558,
             "remaining_time": 20.59477005,
             "test": [
              0.6343936266,
              0.1539529087
             ]
            },
            {
             "iteration": 1491,
             "learn": [
              0.08467363874
             ],
             "passed_time": 60.36695096,
             "remaining_time": 20.55389483,
             "test": [
              0.6343936266,
              0.1539544899
             ]
            },
            {
             "iteration": 1492,
             "learn": [
              0.08465119183
             ],
             "passed_time": 60.40717998,
             "remaining_time": 20.51335583,
             "test": [
              0.6343936266,
              0.1539560737
             ]
            },
            {
             "iteration": 1493,
             "learn": [
              0.08462870944
             ],
             "passed_time": 60.44976003,
             "remaining_time": 20.4736135,
             "test": [
              0.6343936266,
              0.1539576608
             ]
            },
            {
             "iteration": 1494,
             "learn": [
              0.08448752615
             ],
             "passed_time": 60.49144397,
             "remaining_time": 20.43356469,
             "test": [
              0.6350374847,
              0.153868007
             ]
            },
            {
             "iteration": 1495,
             "learn": [
              0.08446162625
             ],
             "passed_time": 60.53012491,
             "remaining_time": 20.39250198,
             "test": [
              0.6349877446,
              0.1538704526
             ]
            },
            {
             "iteration": 1496,
             "learn": [
              0.08443990413
             ],
             "passed_time": 60.5682418,
             "remaining_time": 20.35125292,
             "test": [
              0.6349877446,
              0.1538763198
             ]
            },
            {
             "iteration": 1497,
             "learn": [
              0.0844174404
             ],
             "passed_time": 60.60625785,
             "remaining_time": 20.30997426,
             "test": [
              0.6349877446,
              0.1538776916
             ]
            },
            {
             "iteration": 1498,
             "learn": [
              0.08439503391
             ],
             "passed_time": 60.64422249,
             "remaining_time": 20.26868277,
             "test": [
              0.6349877446,
              0.1538790753
             ]
            },
            {
             "iteration": 1499,
             "learn": [
              0.08437262436
             ],
             "passed_time": 60.68307606,
             "remaining_time": 20.22769202,
             "test": [
              0.6349877446,
              0.1538804701
             ]
            },
            {
             "iteration": 1500,
             "learn": [
              0.08435029348
             ],
             "passed_time": 60.72235731,
             "remaining_time": 20.1868463,
             "test": [
              0.6349849813,
              0.1538883185
             ]
            },
            {
             "iteration": 1501,
             "learn": [
              0.08432791985
             ],
             "passed_time": 60.76418359,
             "remaining_time": 20.14684649,
             "test": [
              0.6349849813,
              0.1538897331
             ]
            },
            {
             "iteration": 1502,
             "learn": [
              0.08430561884
             ],
             "passed_time": 60.80292408,
             "remaining_time": 20.10582386,
             "test": [
              0.6349766912,
              0.1538958465
             ]
            },
            {
             "iteration": 1503,
             "learn": [
              0.08428332824
             ],
             "passed_time": 60.84010965,
             "remaining_time": 20.06429148,
             "test": [
              0.6349766912,
              0.1539042948
             ]
            },
            {
             "iteration": 1504,
             "learn": [
              0.08426106293
             ],
             "passed_time": 60.87720292,
             "remaining_time": 20.02273452,
             "test": [
              0.6349766912,
              0.1539057374
             ]
            },
            {
             "iteration": 1505,
             "learn": [
              0.08423879258
             ],
             "passed_time": 60.91422787,
             "remaining_time": 19.98116107,
             "test": [
              0.6349766912,
              0.1539071898
             ]
            },
            {
             "iteration": 1506,
             "learn": [
              0.08421742603
             ],
             "passed_time": 60.9510931,
             "remaining_time": 19.9395414,
             "test": [
              0.6349656379,
              0.1539089971
             ]
            },
            {
             "iteration": 1507,
             "learn": [
              0.08419521093
             ],
             "passed_time": 60.98804958,
             "remaining_time": 19.89795782,
             "test": [
              0.6349656379,
              0.1539104659
             ]
            },
            {
             "iteration": 1508,
             "learn": [
              0.08417307158
             ],
             "passed_time": 61.02554741,
             "remaining_time": 19.85655651,
             "test": [
              0.6349656379,
              0.153911942
             ]
            },
            {
             "iteration": 1509,
             "learn": [
              0.0841508869
             ],
             "passed_time": 61.06357725,
             "remaining_time": 19.81533301,
             "test": [
              0.6349656379,
              0.1539134266
             ]
            },
            {
             "iteration": 1510,
             "learn": [
              0.08412870235
             ],
             "passed_time": 61.102825,
             "remaining_time": 19.77450789,
             "test": [
              0.6349656379,
              0.1539149199
             ]
            },
            {
             "iteration": 1511,
             "learn": [
              0.084106584
             ],
             "passed_time": 61.14196054,
             "remaining_time": 19.73364864,
             "test": [
              0.6349656379,
              0.1539164215
             ]
            },
            {
             "iteration": 1512,
             "learn": [
              0.08408443819
             ],
             "passed_time": 61.18449863,
             "remaining_time": 19.69388687,
             "test": [
              0.6349656379,
              0.1539179309
             ]
            },
            {
             "iteration": 1513,
             "learn": [
              0.08406231739
             ],
             "passed_time": 61.22740885,
             "remaining_time": 19.65424089,
             "test": [
              0.6349656379,
              0.1539194467
             ]
            },
            {
             "iteration": 1514,
             "learn": [
              0.08404020592
             ],
             "passed_time": 61.26521056,
             "remaining_time": 19.6129552,
             "test": [
              0.6349628745,
              0.1539231192
             ]
            },
            {
             "iteration": 1515,
             "learn": [
              0.08401968434
             ],
             "passed_time": 61.30207058,
             "remaining_time": 19.57137346,
             "test": [
              0.6349601112,
              0.1539248253
             ]
            },
            {
             "iteration": 1516,
             "learn": [
              0.08399759031
             ],
             "passed_time": 61.33884952,
             "remaining_time": 19.52977213,
             "test": [
              0.6349601112,
              0.1539263644
             ]
            },
            {
             "iteration": 1517,
             "learn": [
              0.08397552923
             ],
             "passed_time": 61.37619918,
             "remaining_time": 19.48835837,
             "test": [
              0.6349601112,
              0.1539279097
             ]
            },
            {
             "iteration": 1518,
             "learn": [
              0.08395346372
             ],
             "passed_time": 61.41353838,
             "remaining_time": 19.44694665,
             "test": [
              0.6349601112,
              0.1539363706
             ]
            },
            {
             "iteration": 1519,
             "learn": [
              0.08384757372
             ],
             "passed_time": 61.45443342,
             "remaining_time": 19.40666319,
             "test": [
              0.63749133,
              0.1538791023
             ]
            },
            {
             "iteration": 1520,
             "learn": [
              0.08382595691
             ],
             "passed_time": 61.49191996,
             "remaining_time": 19.3653055,
             "test": [
              0.63749133,
              0.1538845238
             ]
            },
            {
             "iteration": 1521,
             "learn": [
              0.08373976185
             ],
             "passed_time": 61.53263154,
             "remaining_time": 19.32496575,
             "test": [
              0.6369939289,
              0.1539134639
             ]
            },
            {
             "iteration": 1522,
             "learn": [
              0.0837146668
             ],
             "passed_time": 61.57039271,
             "remaining_time": 19.28370146,
             "test": [
              0.6369939289,
              0.1539150199
             ]
            },
            {
             "iteration": 1523,
             "learn": [
              0.08369259584
             ],
             "passed_time": 61.61013189,
             "remaining_time": 19.24305957,
             "test": [
              0.6369939289,
              0.1539209875
             ]
            },
            {
             "iteration": 1524,
             "learn": [
              0.08352564703
             ],
             "passed_time": 61.65431469,
             "remaining_time": 19.20380294,
             "test": [
              0.6372564462,
              0.1539185021
             ]
            },
            {
             "iteration": 1525,
             "learn": [
              0.08343846743
             ],
             "passed_time": 61.69416421,
             "remaining_time": 19.16319386,
             "test": [
              0.6371542026,
              0.1539063234
             ]
            },
            {
             "iteration": 1526,
             "learn": [
              0.08341633695
             ],
             "passed_time": 61.73288519,
             "remaining_time": 19.12223621,
             "test": [
              0.6371542026,
              0.1539074736
             ]
            },
            {
             "iteration": 1527,
             "learn": [
              0.08339423235
             ],
             "passed_time": 61.77136101,
             "remaining_time": 19.08120576,
             "test": [
              0.6371542026,
              0.1539086462
             ]
            },
            {
             "iteration": 1528,
             "learn": [
              0.08337217399
             ],
             "passed_time": 61.81018733,
             "remaining_time": 19.04028661,
             "test": [
              0.6371542026,
              0.1539098408
             ]
            },
            {
             "iteration": 1529,
             "learn": [
              0.08333271833
             ],
             "passed_time": 61.85688824,
             "remaining_time": 19.0017892,
             "test": [
              0.6371597293,
              0.1539133729
             ]
            },
            {
             "iteration": 1530,
             "learn": [
              0.08331069279
             ],
             "passed_time": 61.893319,
             "remaining_time": 18.96013495,
             "test": [
              0.6371597293,
              0.1539145536
             ]
            },
            {
             "iteration": 1531,
             "learn": [
              0.08328869802
             ],
             "passed_time": 61.93161772,
             "remaining_time": 18.91905816,
             "test": [
              0.6371597293,
              0.1539157566
             ]
            },
            {
             "iteration": 1532,
             "learn": [
              0.08326671293
             ],
             "passed_time": 61.96847045,
             "remaining_time": 18.87754449,
             "test": [
              0.6371597293,
              0.1539169818
             ]
            },
            {
             "iteration": 1533,
             "learn": [
              0.08324472464
             ],
             "passed_time": 62.00550164,
             "remaining_time": 18.83609111,
             "test": [
              0.6371597293,
              0.1539287881
             ]
            },
            {
             "iteration": 1534,
             "learn": [
              0.08322281376
             ],
             "passed_time": 62.04310606,
             "remaining_time": 18.79481714,
             "test": [
              0.6371597293,
              0.1539320233
             ]
            },
            {
             "iteration": 1535,
             "learn": [
              0.0832008776
             ],
             "passed_time": 62.07987883,
             "remaining_time": 18.75329673,
             "test": [
              0.6371597293,
              0.1539333054
             ]
            },
            {
             "iteration": 1536,
             "learn": [
              0.08317897277
             ],
             "passed_time": 62.11769783,
             "remaining_time": 18.71209765,
             "test": [
              0.6371597293,
              0.1539346058
             ]
            },
            {
             "iteration": 1537,
             "learn": [
              0.08315711234
             ],
             "passed_time": 62.1548309,
             "remaining_time": 18.67069693,
             "test": [
              0.6371597293,
              0.1539359244
             ]
            },
            {
             "iteration": 1538,
             "learn": [
              0.08313521848
             ],
             "passed_time": 62.19180872,
             "remaining_time": 18.62925524,
             "test": [
              0.6371597293,
              0.1539372598
             ]
            },
            {
             "iteration": 1539,
             "learn": [
              0.08311344332
             ],
             "passed_time": 62.22829756,
             "remaining_time": 18.5876733,
             "test": [
              0.6371597293,
              0.1539386108
             ]
            },
            {
             "iteration": 1540,
             "learn": [
              0.08309157168
             ],
             "passed_time": 62.26638036,
             "remaining_time": 18.54657274,
             "test": [
              0.6371597293,
              0.1539399775
             ]
            },
            {
             "iteration": 1541,
             "learn": [
              0.08307021139
             ],
             "passed_time": 62.30317838,
             "remaining_time": 18.50509449,
             "test": [
              0.6371542026,
              0.1539421247
             ]
            },
            {
             "iteration": 1542,
             "learn": [
              0.0830491858
             ],
             "passed_time": 62.34046,
             "remaining_time": 18.46376553,
             "test": [
              0.6371542026,
              0.1539434873
             ]
            },
            {
             "iteration": 1543,
             "learn": [
              0.08295373099
             ],
             "passed_time": 62.3789146,
             "remaining_time": 18.42278825,
             "test": [
              0.6370215623,
              0.15392752
             ]
            },
            {
             "iteration": 1544,
             "learn": [
              0.08293193774
             ],
             "passed_time": 62.41611322,
             "remaining_time": 18.38144434,
             "test": [
              0.6370215623,
              0.1539397482
             ]
            },
            {
             "iteration": 1545,
             "learn": [
              0.08291016013
             ],
             "passed_time": 62.45321466,
             "remaining_time": 18.34007727,
             "test": [
              0.6370215623,
              0.1539410785
             ]
            },
            {
             "iteration": 1546,
             "learn": [
              0.08288843307
             ],
             "passed_time": 62.48956862,
             "remaining_time": 18.29849682,
             "test": [
              0.6370215623,
              0.1539424238
             ]
            },
            {
             "iteration": 1547,
             "learn": [
              0.08286676537
             ],
             "passed_time": 62.52667894,
             "remaining_time": 18.25714398,
             "test": [
              0.6370215623,
              0.1539437847
             ]
            },
            {
             "iteration": 1548,
             "learn": [
              0.08284506313
             ],
             "passed_time": 62.56413419,
             "remaining_time": 18.21589704,
             "test": [
              0.6370215623,
              0.1539451611
             ]
            },
            {
             "iteration": 1549,
             "learn": [
              0.08282392176
             ],
             "passed_time": 62.60148018,
             "remaining_time": 18.17462328,
             "test": [
              0.6370160357,
              0.1539514476
             ]
            },
            {
             "iteration": 1550,
             "learn": [
              0.08280230316
             ],
             "passed_time": 62.63899914,
             "remaining_time": 18.13340465,
             "test": [
              0.6370160357,
              0.1539528525
             ]
            },
            {
             "iteration": 1551,
             "learn": [
              0.08278068757
             ],
             "passed_time": 62.6762405,
             "remaining_time": 18.09211066,
             "test": [
              0.6370160357,
              0.1539542709
             ]
            },
            {
             "iteration": 1552,
             "learn": [
              0.08275992545
             ],
             "passed_time": 62.71352124,
             "remaining_time": 18.05083322,
             "test": [
              0.6370049823,
              0.1539559773
             ]
            },
            {
             "iteration": 1553,
             "learn": [
              0.08273841008
             ],
             "passed_time": 62.75038955,
             "remaining_time": 18.00944256,
             "test": [
              0.6370049823,
              0.1539574231
             ]
            },
            {
             "iteration": 1554,
             "learn": [
              0.08271686373
             ],
             "passed_time": 62.78779621,
             "remaining_time": 17.96821178,
             "test": [
              0.6370049823,
              0.1539588822
             ]
            },
            {
             "iteration": 1555,
             "learn": [
              0.08269536092
             ],
             "passed_time": 62.8248044,
             "remaining_time": 17.92687221,
             "test": [
              0.6370049823,
              0.1539603541
             ]
            },
            {
             "iteration": 1556,
             "learn": [
              0.08267383199
             ],
             "passed_time": 62.86360348,
             "remaining_time": 17.88604775,
             "test": [
              0.6370049823,
              0.1539618379
             ]
            },
            {
             "iteration": 1557,
             "learn": [
              0.08265238621
             ],
             "passed_time": 62.90038799,
             "remaining_time": 17.84465436,
             "test": [
              0.6370049823,
              0.1539633326
             ]
            },
            {
             "iteration": 1558,
             "learn": [
              0.08263089534
             ],
             "passed_time": 62.93960491,
             "remaining_time": 17.80395495,
             "test": [
              0.6370049823,
              0.1539719149
             ]
            },
            {
             "iteration": 1559,
             "learn": [
              0.08260940804
             ],
             "passed_time": 62.97903058,
             "remaining_time": 17.76331632,
             "test": [
              0.6370049823,
              0.1539734309
             ]
            },
            {
             "iteration": 1560,
             "learn": [
              0.08258797193
             ],
             "passed_time": 63.01967254,
             "remaining_time": 17.7230213,
             "test": [
              0.6370049823,
              0.1539749569
             ]
            },
            {
             "iteration": 1561,
             "learn": [
              0.0825665718
             ],
             "passed_time": 63.05810885,
             "remaining_time": 17.68210735,
             "test": [
              0.6370049823,
              0.1539764914
             ]
            },
            {
             "iteration": 1562,
             "learn": [
              0.08254516654
             ],
             "passed_time": 63.09806708,
             "remaining_time": 17.64162208,
             "test": [
              0.6370049823,
              0.153978035
             ]
            },
            {
             "iteration": 1563,
             "learn": [
              0.08252377766
             ],
             "passed_time": 63.13567487,
             "remaining_time": 17.60048225,
             "test": [
              0.6370049823,
              0.153979588
             ]
            },
            {
             "iteration": 1564,
             "learn": [
              0.08250240034
             ],
             "passed_time": 63.17356475,
             "remaining_time": 17.55942535,
             "test": [
              0.6370049823,
              0.1539811503
             ]
            },
            {
             "iteration": 1565,
             "learn": [
              0.08248102681
             ],
             "passed_time": 63.21352752,
             "remaining_time": 17.51894696,
             "test": [
              0.6370049823,
              0.1539874103
             ]
            },
            {
             "iteration": 1566,
             "learn": [
              0.0824597067
             ],
             "passed_time": 63.25193037,
             "remaining_time": 17.4780382,
             "test": [
              0.6370049823,
              0.1539889867
             ]
            },
            {
             "iteration": 1567,
             "learn": [
              0.08243838203
             ],
             "passed_time": 63.29017789,
             "remaining_time": 17.43708983,
             "test": [
              0.6370049823,
              0.1539905703
             ]
            },
            {
             "iteration": 1568,
             "learn": [
              0.08241708741
             ],
             "passed_time": 63.32758626,
             "remaining_time": 17.39591439,
             "test": [
              0.6370049823,
              0.1539921622
             ]
            },
            {
             "iteration": 1569,
             "learn": [
              0.08239579925
             ],
             "passed_time": 63.36566344,
             "remaining_time": 17.35492693,
             "test": [
              0.6370049823,
              0.1539937617
             ]
            },
            {
             "iteration": 1570,
             "learn": [
              0.08237450196
             ],
             "passed_time": 63.40628535,
             "remaining_time": 17.31463807,
             "test": [
              0.6370049823,
              0.1539953686
             ]
            },
            {
             "iteration": 1571,
             "learn": [
              0.08235326996
             ],
             "passed_time": 63.44640908,
             "remaining_time": 17.27421316,
             "test": [
              0.637002219,
              0.1540017458
             ]
            },
            {
             "iteration": 1572,
             "learn": [
              0.08233202667
             ],
             "passed_time": 63.4864591,
             "remaining_time": 17.23376862,
             "test": [
              0.637002219,
              0.1540074575
             ]
            },
            {
             "iteration": 1573,
             "learn": [
              0.08231079258
             ],
             "passed_time": 63.52590794,
             "remaining_time": 17.19316187,
             "test": [
              0.637002219,
              0.154011297
             ]
            },
            {
             "iteration": 1574,
             "learn": [
              0.08229050747
             ],
             "passed_time": 63.56292255,
             "remaining_time": 17.15189974,
             "test": [
              0.6369580055,
              0.1540133573
             ]
            },
            {
             "iteration": 1575,
             "learn": [
              0.08226933157
             ],
             "passed_time": 63.60001466,
             "remaining_time": 17.11066384,
             "test": [
              0.6369580055,
              0.1540149963
             ]
            },
            {
             "iteration": 1576,
             "learn": [
              0.08224815704
             ],
             "passed_time": 63.63771287,
             "remaining_time": 17.06959578,
             "test": [
              0.6369580055,
              0.1540166411
             ]
            },
            {
             "iteration": 1577,
             "learn": [
              0.08222700393
             ],
             "passed_time": 63.67499769,
             "remaining_time": 17.02842144,
             "test": [
              0.6369580055,
              0.1540381081
             ]
            },
            {
             "iteration": 1578,
             "learn": [
              0.08220639546
             ],
             "passed_time": 63.71185338,
             "remaining_time": 16.9871376,
             "test": [
              0.6369580055,
              0.1540397334
             ]
            },
            {
             "iteration": 1579,
             "learn": [
              0.08218525052
             ],
             "passed_time": 63.75108726,
             "remaining_time": 16.94649155,
             "test": [
              0.6369580055,
              0.1540413915
             ]
            },
            {
             "iteration": 1580,
             "learn": [
              0.08213452851
             ],
             "passed_time": 63.79081594,
             "remaining_time": 16.90597842,
             "test": [
              0.6368751054,
              0.1540463296
             ]
            },
            {
             "iteration": 1581,
             "learn": [
              0.08211340347
             ],
             "passed_time": 63.82762466,
             "remaining_time": 16.86469476,
             "test": [
              0.6368751054,
              0.1540479071
             ]
            },
            {
             "iteration": 1582,
             "learn": [
              0.08209233054
             ],
             "passed_time": 63.86430735,
             "remaining_time": 16.82338355,
             "test": [
              0.6368751054,
              0.154049493
             ]
            },
            {
             "iteration": 1583,
             "learn": [
              0.08207209664
             ],
             "passed_time": 63.90086198,
             "remaining_time": 16.78204456,
             "test": [
              0.6368668153,
              0.1540513635
             ]
            },
            {
             "iteration": 1584,
             "learn": [
              0.08205102955
             ],
             "passed_time": 63.93900066,
             "remaining_time": 16.74112636,
             "test": [
              0.6368668153,
              0.1540529681
             ]
            },
            {
             "iteration": 1585,
             "learn": [
              0.08203000203
             ],
             "passed_time": 63.97654599,
             "remaining_time": 16.70005677,
             "test": [
              0.6368668153,
              0.1540545796
             ]
            },
            {
             "iteration": 1586,
             "learn": [
              0.08198954881
             ],
             "passed_time": 64.01713445,
             "remaining_time": 16.65978357,
             "test": [
              0.6368364186,
              0.1540571321
             ]
            },
            {
             "iteration": 1587,
             "learn": [
              0.0819685537
             ],
             "passed_time": 64.05477582,
             "remaining_time": 16.61874536,
             "test": [
              0.6368364186,
              0.1540586929
             ]
            },
            {
             "iteration": 1588,
             "learn": [
              0.08194754249
             ],
             "passed_time": 64.09240195,
             "remaining_time": 16.57770749,
             "test": [
              0.6368364186,
              0.1540602635
             ]
            },
            {
             "iteration": 1589,
             "learn": [
              0.08192655599
             ],
             "passed_time": 64.13034458,
             "remaining_time": 16.53675552,
             "test": [
              0.6368364186,
              0.1540618429
             ]
            },
            {
             "iteration": 1590,
             "learn": [
              0.08190558135
             ],
             "passed_time": 64.17204169,
             "remaining_time": 16.4967725,
             "test": [
              0.6368364186,
              0.1540745931
             ]
            },
            {
             "iteration": 1591,
             "learn": [
              0.08188463273
             ],
             "passed_time": 64.20922692,
             "remaining_time": 16.45563102,
             "test": [
              0.6368364186,
              0.1540761874
             ]
            },
            {
             "iteration": 1592,
             "learn": [
              0.08186371862
             ],
             "passed_time": 64.24573935,
             "remaining_time": 16.41432261,
             "test": [
              0.6368364186,
              0.1540777898
             ]
            },
            {
             "iteration": 1593,
             "learn": [
              0.08184281612
             ],
             "passed_time": 64.28318026,
             "remaining_time": 16.3732567,
             "test": [
              0.6368364186,
              0.1540793991
             ]
            },
            {
             "iteration": 1594,
             "learn": [
              0.08177360746
             ],
             "passed_time": 64.32358167,
             "remaining_time": 16.33294707,
             "test": [
              0.6372343395,
              0.1540637449
             ]
            },
            {
             "iteration": 1595,
             "learn": [
              0.0817526664
             ],
             "passed_time": 64.36083574,
             "remaining_time": 16.29184063,
             "test": [
              0.6372343395,
              0.1540652361
             ]
            },
            {
             "iteration": 1596,
             "learn": [
              0.0817317438
             ],
             "passed_time": 64.398828,
             "remaining_time": 16.25092529,
             "test": [
              0.6372343395,
              0.1540667395
             ]
            },
            {
             "iteration": 1597,
             "learn": [
              0.08171087646
             ],
             "passed_time": 64.43601599,
             "remaining_time": 16.20981128,
             "test": [
              0.6372343395,
              0.1540682546
             ]
            },
            {
             "iteration": 1598,
             "learn": [
              0.08169004287
             ],
             "passed_time": 64.47507165,
             "remaining_time": 16.16917056,
             "test": [
              0.6372343395,
              0.1540697797
             ]
            },
            {
             "iteration": 1599,
             "learn": [
              0.08166925093
             ],
             "passed_time": 64.51162675,
             "remaining_time": 16.12790669,
             "test": [
              0.6372343395,
              0.1540713159
             ]
            },
            {
             "iteration": 1600,
             "learn": [
              0.08164899747
             ],
             "passed_time": 64.54796892,
             "remaining_time": 16.08659563,
             "test": [
              0.6371928894,
              0.154074079
             ]
            },
            {
             "iteration": 1601,
             "learn": [
              0.08154677457
             ],
             "passed_time": 64.58737476,
             "remaining_time": 16.04605191,
             "test": [
              0.6372785529,
              0.1540616978
             ]
            },
            {
             "iteration": 1602,
             "learn": [
              0.08152599225
             ],
             "passed_time": 64.62504618,
             "remaining_time": 16.00508006,
             "test": [
              0.6372785529,
              0.1540679
             ]
            },
            {
             "iteration": 1603,
             "learn": [
              0.08150522234
             ],
             "passed_time": 64.66169219,
             "remaining_time": 15.96385917,
             "test": [
              0.6372785529,
              0.1540694385
             ]
            },
            {
             "iteration": 1604,
             "learn": [
              0.08148447691
             ],
             "passed_time": 64.69914131,
             "remaining_time": 15.92284163,
             "test": [
              0.6372785529,
              0.1540709891
             ]
            },
            {
             "iteration": 1605,
             "learn": [
              0.08146371811
             ],
             "passed_time": 64.73683115,
             "remaining_time": 15.88188759,
             "test": [
              0.6372785529,
              0.1540725509
             ]
            },
            {
             "iteration": 1606,
             "learn": [
              0.08144297605
             ],
             "passed_time": 64.77340812,
             "remaining_time": 15.84066546,
             "test": [
              0.6372785529,
              0.1540741227
             ]
            },
            {
             "iteration": 1607,
             "learn": [
              0.08142305226
             ],
             "passed_time": 64.8106449,
             "remaining_time": 15.79960995,
             "test": [
              0.6372785529,
              0.1540756655
             ]
            },
            {
             "iteration": 1608,
             "learn": [
              0.08140235752
             ],
             "passed_time": 64.84706145,
             "remaining_time": 15.75835987,
             "test": [
              0.6372785529,
              0.1540772584
             ]
            },
            {
             "iteration": 1609,
             "learn": [
              0.08135742065
             ],
             "passed_time": 64.88562626,
             "remaining_time": 15.71763618,
             "test": [
              0.6372896063,
              0.1540861343
             ]
            },
            {
             "iteration": 1610,
             "learn": [
              0.08133497212
             ],
             "passed_time": 64.92447513,
             "remaining_time": 15.67698375,
             "test": [
              0.6372702629,
              0.1540893533
             ]
            },
            {
             "iteration": 1611,
             "learn": [
              0.08131434252
             ],
             "passed_time": 64.96162687,
             "remaining_time": 15.63592508,
             "test": [
              0.6372702629,
              0.1540909364
             ]
            },
            {
             "iteration": 1612,
             "learn": [
              0.08129367311
             ],
             "passed_time": 64.99969304,
             "remaining_time": 15.59509064,
             "test": [
              0.6372702629,
              0.1540925293
             ]
            },
            {
             "iteration": 1613,
             "learn": [
              0.08127306033
             ],
             "passed_time": 65.03686845,
             "remaining_time": 15.55404661,
             "test": [
              0.6372702629,
              0.1540941325
             ]
            },
            {
             "iteration": 1614,
             "learn": [
              0.08125248781
             ],
             "passed_time": 65.07405581,
             "remaining_time": 15.51301021,
             "test": [
              0.6372702629,
              0.154095745
             ]
            },
            {
             "iteration": 1615,
             "learn": [
              0.08123186781
             ],
             "passed_time": 65.11131147,
             "remaining_time": 15.4719948,
             "test": [
              0.6372702629,
              0.1541021562
             ]
            },
            {
             "iteration": 1616,
             "learn": [
              0.08121133805
             ],
             "passed_time": 65.14892705,
             "remaining_time": 15.4310693,
             "test": [
              0.6372702629,
              0.1541110131
             ]
            },
            {
             "iteration": 1617,
             "learn": [
              0.08119080443
             ],
             "passed_time": 65.1860582,
             "remaining_time": 15.39003352,
             "test": [
              0.6372702629,
              0.1541126476
             ]
            },
            {
             "iteration": 1618,
             "learn": [
              0.08117030432
             ],
             "passed_time": 65.22448018,
             "remaining_time": 15.34930633,
             "test": [
              0.6372702629,
              0.1541142911
             ]
            },
            {
             "iteration": 1619,
             "learn": [
              0.08114977088
             ],
             "passed_time": 65.26209626,
             "remaining_time": 15.30839295,
             "test": [
              0.6372702629,
              0.1541159431
             ]
            },
            {
             "iteration": 1620,
             "learn": [
              0.08112927637
             ],
             "passed_time": 65.30166427,
             "remaining_time": 15.26794001,
             "test": [
              0.6372702629,
              0.154117603
             ]
            },
            {
             "iteration": 1621,
             "learn": [
              0.08110875742
             ],
             "passed_time": 65.33964628,
             "remaining_time": 15.22711855,
             "test": [
              0.6372702629,
              0.1541192704
             ]
            },
            {
             "iteration": 1622,
             "learn": [
              0.08108828669
             ],
             "passed_time": 65.37853665,
             "remaining_time": 15.18651159,
             "test": [
              0.6372702629,
              0.1541209439
             ]
            },
            {
             "iteration": 1623,
             "learn": [
              0.08106783706
             ],
             "passed_time": 65.4161639,
             "remaining_time": 15.1456143,
             "test": [
              0.6372702629,
              0.1541268014
             ]
            },
            {
             "iteration": 1624,
             "learn": [
              0.08104741103
             ],
             "passed_time": 65.45363189,
             "remaining_time": 15.10468428,
             "test": [
              0.6372702629,
              0.1541284869
             ]
            },
            {
             "iteration": 1625,
             "learn": [
              0.08102700607
             ],
             "passed_time": 65.49123177,
             "remaining_time": 15.06378886,
             "test": [
              0.6372702629,
              0.1541412455
             ]
            },
            {
             "iteration": 1626,
             "learn": [
              0.08100663139
             ],
             "passed_time": 65.52817962,
             "remaining_time": 15.022748,
             "test": [
              0.6372674995,
              0.1541449232
             ]
            },
            {
             "iteration": 1627,
             "learn": [
              0.08098626477
             ],
             "passed_time": 65.56525444,
             "remaining_time": 14.98174119,
             "test": [
              0.6372674995,
              0.1541466235
             ]
            },
            {
             "iteration": 1628,
             "learn": [
              0.0809394444
             ],
             "passed_time": 65.6025996,
             "remaining_time": 14.94080077,
             "test": [
              0.6372149961,
              0.1541519409
             ]
            },
            {
             "iteration": 1629,
             "learn": [
              0.08091968303
             ],
             "passed_time": 65.63904398,
             "remaining_time": 14.89966029,
             "test": [
              0.6371956527,
              0.1541546342
             ]
            },
            {
             "iteration": 1630,
             "learn": [
              0.08089937039
             ],
             "passed_time": 65.67594917,
             "remaining_time": 14.85862983,
             "test": [
              0.6371956527,
              0.1541562899
             ]
            },
            {
             "iteration": 1631,
             "learn": [
              0.08074104052
             ],
             "passed_time": 65.71680622,
             "remaining_time": 14.81849552,
             "test": [
              0.6386270625,
              0.1541096565
             ]
            },
            {
             "iteration": 1632,
             "learn": [
              0.08072060012
             ],
             "passed_time": 65.75380899,
             "remaining_time": 14.77749412,
             "test": [
              0.6386270625,
              0.1541109834
             ]
            },
            {
             "iteration": 1633,
             "learn": [
              0.08062728099
             ],
             "passed_time": 65.79210292,
             "remaining_time": 14.73678682,
             "test": [
              0.6377566106,
              0.1541613905
             ]
            },
            {
             "iteration": 1634,
             "learn": [
              0.08060688507
             ],
             "passed_time": 65.82972676,
             "remaining_time": 14.69593288,
             "test": [
              0.6377566106,
              0.1541674333
             ]
            },
            {
             "iteration": 1635,
             "learn": [
              0.08058652533
             ],
             "passed_time": 65.86658528,
             "remaining_time": 14.65491262,
             "test": [
              0.6377566106,
              0.1541686592
             ]
            },
            {
             "iteration": 1636,
             "learn": [
              0.08056620415
             ],
             "passed_time": 65.90483196,
             "remaining_time": 14.61420525,
             "test": [
              0.6377566106,
              0.1541699117
             ]
            },
            {
             "iteration": 1637,
             "learn": [
              0.0805458753
             ],
             "passed_time": 65.94149539,
             "remaining_time": 14.573151,
             "test": [
              0.6377566106,
              0.1541711893
             ]
            },
            {
             "iteration": 1638,
             "learn": [
              0.08050572594
             ],
             "passed_time": 65.97948828,
             "remaining_time": 14.53239492,
             "test": [
              0.6377621373,
              0.1541720607
             ]
            },
            {
             "iteration": 1639,
             "learn": [
              0.08048545459
             ],
             "passed_time": 66.01653109,
             "remaining_time": 14.49143365,
             "test": [
              0.6377621373,
              0.1541755968
             ]
            },
            {
             "iteration": 1640,
             "learn": [
              0.08046519295
             ],
             "passed_time": 66.05326844,
             "remaining_time": 14.45041034,
             "test": [
              0.6377621373,
              0.1541768795
             ]
            },
            {
             "iteration": 1641,
             "learn": [
              0.08044500352
             ],
             "passed_time": 66.0896282,
             "remaining_time": 14.40930992,
             "test": [
              0.6377621373,
              0.1541781841
             ]
            },
            {
             "iteration": 1642,
             "learn": [
              0.08042480688
             ],
             "passed_time": 66.12732095,
             "remaining_time": 14.36850492,
             "test": [
              0.6377621373,
              0.1541795118
             ]
            },
            {
             "iteration": 1643,
             "learn": [
              0.08040463027
             ],
             "passed_time": 66.1646834,
             "remaining_time": 14.32763217,
             "test": [
              0.6377621373,
              0.1541808632
             ]
            },
            {
             "iteration": 1644,
             "learn": [
              0.08038446714
             ],
             "passed_time": 66.20202831,
             "remaining_time": 14.28675991,
             "test": [
              0.6377621373,
              0.1541822357
             ]
            },
            {
             "iteration": 1645,
             "learn": [
              0.08036432824
             ],
             "passed_time": 66.24006303,
             "remaining_time": 14.24604029,
             "test": [
              0.6377621373,
              0.1541836291
             ]
            },
            {
             "iteration": 1646,
             "learn": [
              0.08034422884
             ],
             "passed_time": 66.27755524,
             "remaining_time": 14.20520765,
             "test": [
              0.6377621373,
              0.1541850427
             ]
            },
            {
             "iteration": 1647,
             "learn": [
              0.08032409321
             ],
             "passed_time": 66.31359798,
             "remaining_time": 14.16406947,
             "test": [
              0.6377621373,
              0.1541934479
             ]
            },
            {
             "iteration": 1648,
             "learn": [
              0.08030402031
             ],
             "passed_time": 66.35034954,
             "remaining_time": 14.12308835,
             "test": [
              0.6377621373,
              0.1541948976
             ]
            },
            {
             "iteration": 1649,
             "learn": [
              0.08028393346
             ],
             "passed_time": 66.3873399,
             "remaining_time": 14.08216301,
             "test": [
              0.6377621373,
              0.1542077923
             ]
            },
            {
             "iteration": 1650,
             "learn": [
              0.08026386587
             ],
             "passed_time": 66.42609301,
             "remaining_time": 14.04161506,
             "test": [
              0.6377621373,
              0.1542092754
             ]
            },
            {
             "iteration": 1651,
             "learn": [
              0.080243874
             ],
             "passed_time": 66.46274165,
             "remaining_time": 14.00062597,
             "test": [
              0.6377621373,
              0.154210773
             ]
            },
            {
             "iteration": 1652,
             "learn": [
              0.08022354655
             ],
             "passed_time": 66.49930592,
             "remaining_time": 13.95962441,
             "test": [
              0.6377593739,
              0.154218696
             ]
            },
            {
             "iteration": 1653,
             "learn": [
              0.08018233757
             ],
             "passed_time": 66.53949844,
             "remaining_time": 13.91938722,
             "test": [
              0.6376902905,
              0.1542239473
             ]
            },
            {
             "iteration": 1654,
             "learn": [
              0.08013794451
             ],
             "passed_time": 66.57698315,
             "remaining_time": 13.87858561,
             "test": [
              0.6376433137,
              0.1542293311
             ]
            },
            {
             "iteration": 1655,
             "learn": [
              0.08010749092
             ],
             "passed_time": 66.61439643,
             "remaining_time": 13.83777317,
             "test": [
              0.6376046269,
              0.1542348037
             ]
            },
            {
             "iteration": 1656,
             "learn": [
              0.08008749868
             ],
             "passed_time": 66.65139612,
             "remaining_time": 13.79687922,
             "test": [
              0.6376046269,
              0.1542361812
             ]
            },
            {
             "iteration": 1657,
             "learn": [
              0.07997873726
             ],
             "passed_time": 66.69126677,
             "remaining_time": 13.75658217,
             "test": [
              0.6382153249,
              0.1541942173
             ]
            },
            {
             "iteration": 1658,
             "learn": [
              0.07995867988
             ],
             "passed_time": 66.72835192,
             "remaining_time": 13.71571308,
             "test": [
              0.6382153249,
              0.1542028425
             ]
            },
            {
             "iteration": 1659,
             "learn": [
              0.07991825889
             ],
             "passed_time": 66.76628059,
             "remaining_time": 13.67502133,
             "test": [
              0.6382153249,
              0.1542053591
             ]
            },
            {
             "iteration": 1660,
             "learn": [
              0.07987435658
             ],
             "passed_time": 66.80672441,
             "remaining_time": 13.63484622,
             "test": [
              0.6381711115,
              0.1542078432
             ]
            },
            {
             "iteration": 1661,
             "learn": [
              0.07985435601
             ],
             "passed_time": 66.84326326,
             "remaining_time": 13.59387664,
             "test": [
              0.6381711115,
              0.1542089848
             ]
            },
            {
             "iteration": 1662,
             "learn": [
              0.07981402937
             ],
             "passed_time": 66.88320228,
             "remaining_time": 13.55360142,
             "test": [
              0.6381545315,
              0.1542125047
             ]
            },
            {
             "iteration": 1663,
             "learn": [
              0.07979404239
             ],
             "passed_time": 66.92011489,
             "remaining_time": 13.51271551,
             "test": [
              0.6381545315,
              0.1542136331
             ]
            },
            {
             "iteration": 1664,
             "learn": [
              0.07977407075
             ],
             "passed_time": 66.95656298,
             "remaining_time": 13.4717409,
             "test": [
              0.6381545315,
              0.1542147933
             ]
            },
            {
             "iteration": 1665,
             "learn": [
              0.07975413731
             ],
             "passed_time": 66.99439394,
             "remaining_time": 13.43104897,
             "test": [
              0.6381545315,
              0.1542159836
             ]
            },
            {
             "iteration": 1666,
             "learn": [
              0.0797341889
             ],
             "passed_time": 67.03114975,
             "remaining_time": 13.39014569,
             "test": [
              0.6381545315,
              0.1542172029
             ]
            },
            {
             "iteration": 1667,
             "learn": [
              0.07969234216
             ],
             "passed_time": 67.06872737,
             "remaining_time": 13.34941096,
             "test": [
              0.6379251743,
              0.1542360117
             ]
            },
            {
             "iteration": 1668,
             "learn": [
              0.07967246998
             ],
             "passed_time": 67.10507838,
             "remaining_time": 13.30843676,
             "test": [
              0.6379251743,
              0.1542372083
             ]
            },
            {
             "iteration": 1669,
             "learn": [
              0.07965302867
             ],
             "passed_time": 67.14244633,
             "remaining_time": 13.26766904,
             "test": [
              0.6379251743,
              0.1542384055
             ]
            },
            {
             "iteration": 1670,
             "learn": [
              0.07963315085
             ],
             "passed_time": 67.17929906,
             "remaining_time": 13.22680394,
             "test": [
              0.6379251743,
              0.1542396606
             ]
            },
            {
             "iteration": 1671,
             "learn": [
              0.07961329161
             ],
             "passed_time": 67.21763845,
             "remaining_time": 13.18623529,
             "test": [
              0.6379251743,
              0.1542458185
             ]
            },
            {
             "iteration": 1672,
             "learn": [
              0.0795934217
             ],
             "passed_time": 67.25463231,
             "remaining_time": 13.14540632,
             "test": [
              0.6379251743,
              0.1542471251
             ]
            },
            {
             "iteration": 1673,
             "learn": [
              0.0795528207
             ],
             "passed_time": 67.29396915,
             "remaining_time": 13.1050382,
             "test": [
              0.6378367474,
              0.1542504039
             ]
            },
            {
             "iteration": 1674,
             "learn": [
              0.07952331806
             ],
             "passed_time": 67.33172578,
             "remaining_time": 13.0643647,
             "test": [
              0.6376958171,
              0.1542593155
             ]
            },
            {
             "iteration": 1675,
             "learn": [
              0.07950185319
             ],
             "passed_time": 67.36875659,
             "remaining_time": 13.02355438,
             "test": [
              0.6376764738,
              0.1542622633
             ]
            },
            {
             "iteration": 1676,
             "learn": [
              0.07948200169
             ],
             "passed_time": 67.40801834,
             "remaining_time": 12.98317825,
             "test": [
              0.6376764738,
              0.1542635547
             ]
            },
            {
             "iteration": 1677,
             "learn": [
              0.07946318597
             ],
             "passed_time": 67.44757319,
             "remaining_time": 12.94285969,
             "test": [
              0.637637787,
              0.1542659655
             ]
            },
            {
             "iteration": 1678,
             "learn": [
              0.07944335507
             ],
             "passed_time": 67.48664385,
             "remaining_time": 12.90244948,
             "test": [
              0.637637787,
              0.1542673109
             ]
            },
            {
             "iteration": 1679,
             "learn": [
              0.07942352426
             ],
             "passed_time": 67.52584168,
             "remaining_time": 12.86206508,
             "test": [
              0.637637787,
              0.1542686801
             ]
            },
            {
             "iteration": 1680,
             "learn": [
              0.07938141791
             ],
             "passed_time": 67.56640584,
             "remaining_time": 12.82194138,
             "test": [
              0.6376654204,
              0.1542707333
             ]
            },
            {
             "iteration": 1681,
             "learn": [
              0.07935815225
             ],
             "passed_time": 67.60418222,
             "remaining_time": 12.7812901,
             "test": [
              0.6376626571,
              0.1542744215
             ]
            },
            {
             "iteration": 1682,
             "learn": [
              0.07933837605
             ],
             "passed_time": 67.64265462,
             "remaining_time": 12.74077333,
             "test": [
              0.6376626571,
              0.1542757645
             ]
            },
            {
             "iteration": 1683,
             "learn": [
              0.0792823986
             ],
             "passed_time": 67.68087017,
             "remaining_time": 12.70021079,
             "test": [
              0.637947281,
              0.1542741773
             ]
            },
            {
             "iteration": 1684,
             "learn": [
              0.07926339321
             ],
             "passed_time": 67.71823475,
             "remaining_time": 12.65949196,
             "test": [
              0.6379362277,
              0.1542757338
             ]
            },
            {
             "iteration": 1685,
             "learn": [
              0.07921289414
             ],
             "passed_time": 67.75680652,
             "remaining_time": 12.61900193,
             "test": [
              0.6381904549,
              0.1542714556
             ]
            },
            {
             "iteration": 1686,
             "learn": [
              0.07919309464
             ],
             "passed_time": 67.79525613,
             "remaining_time": 12.5784915,
             "test": [
              0.6381904549,
              0.1542726814
             ]
            },
            {
             "iteration": 1687,
             "learn": [
              0.07915614169
             ],
             "passed_time": 67.8345178,
             "remaining_time": 12.53813362,
             "test": [
              0.6380826846,
              0.154276833
             ]
            },
            {
             "iteration": 1688,
             "learn": [
              0.07913639067
             ],
             "passed_time": 67.87096831,
             "remaining_time": 12.49725941,
             "test": [
              0.6380826846,
              0.1542892873
             ]
            },
            {
             "iteration": 1689,
             "learn": [
              0.07911663609
             ],
             "passed_time": 67.90944445,
             "remaining_time": 12.456762,
             "test": [
              0.6380826846,
              0.1542905333
             ]
            },
            {
             "iteration": 1690,
             "learn": [
              0.07902618086
             ],
             "passed_time": 67.94946781,
             "remaining_time": 12.41654971,
             "test": [
              0.6363307275,
              0.1543583792
             ]
            },
            {
             "iteration": 1691,
             "learn": [
              0.07900653493
             ],
             "passed_time": 67.988029,
             "remaining_time": 12.37607147,
             "test": [
              0.6363307275,
              0.1543595037
             ]
            },
            {
             "iteration": 1692,
             "learn": [
              0.0789868139
             ],
             "passed_time": 68.02604709,
             "remaining_time": 12.33549702,
             "test": [
              0.6363307275,
              0.1543606621
             ]
            },
            {
             "iteration": 1693,
             "learn": [
              0.07896717384
             ],
             "passed_time": 68.06326283,
             "remaining_time": 12.29478065,
             "test": [
              0.6363307275,
              0.1543618532
             ]
            },
            {
             "iteration": 1694,
             "learn": [
              0.07894748974
             ],
             "passed_time": 68.10110179,
             "remaining_time": 12.25418056,
             "test": [
              0.6363307275,
              0.1543630755
             ]
            },
            {
             "iteration": 1695,
             "learn": [
              0.07890427603
             ],
             "passed_time": 68.1389233,
             "remaining_time": 12.21358059,
             "test": [
              0.6363555976,
              0.1543676372
             ]
            },
            {
             "iteration": 1696,
             "learn": [
              0.07882842304
             ],
             "passed_time": 68.17892819,
             "remaining_time": 12.17337374,
             "test": [
              0.636269934,
              0.154375186
             ]
            },
            {
             "iteration": 1697,
             "learn": [
              0.07880877488
             ],
             "passed_time": 68.2166997,
             "remaining_time": 12.13276991,
             "test": [
              0.636269934,
              0.1543763187
             ]
            },
            {
             "iteration": 1698,
             "learn": [
              0.0787891281
             ],
             "passed_time": 68.25433457,
             "remaining_time": 12.09214521,
             "test": [
              0.636269934,
              0.1543774822
             ]
            },
            {
             "iteration": 1699,
             "learn": [
              0.0787698818
             ],
             "passed_time": 68.29204916,
             "remaining_time": 12.05153809,
             "test": [
              0.636236774,
              0.1543857161
             ]
            },
            {
             "iteration": 1700,
             "learn": [
              0.07875029626
             ],
             "passed_time": 68.32992179,
             "remaining_time": 12.01096215,
             "test": [
              0.636236774,
              0.1543869421
             ]
            },
            {
             "iteration": 1701,
             "learn": [
              0.07873071597
             ],
             "passed_time": 68.37017386,
             "remaining_time": 11.970806,
             "test": [
              0.636236774,
              0.154388198
             ]
            },
            {
             "iteration": 1702,
             "learn": [
              0.07871114548
             ],
             "passed_time": 68.40960253,
             "remaining_time": 11.93050614,
             "test": [
              0.636236774,
              0.1543918233
             ]
            },
            {
             "iteration": 1703,
             "learn": [
              0.07869161494
             ],
             "passed_time": 68.44660618,
             "remaining_time": 11.88978605,
             "test": [
              0.636236774,
              0.1543931347
             ]
            },
            {
             "iteration": 1704,
             "learn": [
              0.07867207444
             ],
             "passed_time": 68.48313298,
             "remaining_time": 11.84898782,
             "test": [
              0.636236774,
              0.1543944712
             ]
            },
            {
             "iteration": 1705,
             "learn": [
              0.07865257141
             ],
             "passed_time": 68.52075927,
             "remaining_time": 11.80838407,
             "test": [
              0.636236774,
              0.1543958328
             ]
            },
            {
             "iteration": 1706,
             "learn": [
              0.07863098231
             ],
             "passed_time": 68.56004086,
             "remaining_time": 11.76806794,
             "test": [
              0.636236774,
              0.1543968031
             ]
            },
            {
             "iteration": 1707,
             "learn": [
              0.07859299896
             ],
             "passed_time": 68.59788428,
             "remaining_time": 11.72750715,
             "test": [
              0.6362008506,
              0.1544029392
             ]
            },
            {
             "iteration": 1708,
             "learn": [
              0.07857353523
             ],
             "passed_time": 68.63844032,
             "remaining_time": 11.68741143,
             "test": [
              0.6362008506,
              0.1544043024
             ]
            },
            {
             "iteration": 1709,
             "learn": [
              0.0785540475
             ],
             "passed_time": 68.69509903,
             "remaining_time": 11.65004603,
             "test": [
              0.6362008506,
              0.1544056897
             ]
            },
            {
             "iteration": 1710,
             "learn": [
              0.07853456092
             ],
             "passed_time": 68.73765003,
             "remaining_time": 11.6102752,
             "test": [
              0.6362008506,
              0.154407101
             ]
            },
            {
             "iteration": 1711,
             "learn": [
              0.07851513247
             ],
             "passed_time": 68.77858512,
             "remaining_time": 11.57022927,
             "test": [
              0.6362008506,
              0.1544160588
             ]
            },
            {
             "iteration": 1712,
             "learn": [
              0.07849575694
             ],
             "passed_time": 68.81886032,
             "remaining_time": 11.53007175,
             "test": [
              0.6362008506,
              0.1544175112
             ]
            },
            {
             "iteration": 1713,
             "learn": [
              0.0784429591
             ],
             "passed_time": 68.86163487,
             "remaining_time": 11.49033114,
             "test": [
              0.6361538738,
              0.1544237038
             ]
            },
            {
             "iteration": 1714,
             "learn": [
              0.07840003749
             ],
             "passed_time": 68.90144918,
             "remaining_time": 11.45009505,
             "test": [
              0.6361732172,
              0.1544260115
             ]
            },
            {
             "iteration": 1715,
             "learn": [
              0.0783806212
             ],
             "passed_time": 68.93907447,
             "remaining_time": 11.40949717,
             "test": [
              0.6361732172,
              0.1544314801
             ]
            },
            {
             "iteration": 1716,
             "learn": [
              0.07834442367
             ],
             "passed_time": 68.97686697,
             "remaining_time": 11.36893032,
             "test": [
              0.6361980872,
              0.1544324776
             ]
            },
            {
             "iteration": 1717,
             "learn": [
              0.07832507582
             ],
             "passed_time": 69.01508265,
             "remaining_time": 11.32843615,
             "test": [
              0.6361980872,
              0.1544338012
             ]
            },
            {
             "iteration": 1718,
             "learn": [
              0.07830568335
             ],
             "passed_time": 69.0524694,
             "remaining_time": 11.28780913,
             "test": [
              0.6361980872,
              0.1544351512
             ]
            },
            {
             "iteration": 1719,
             "learn": [
              0.07828632978
             ],
             "passed_time": 69.08999327,
             "remaining_time": 11.24720821,
             "test": [
              0.6361980872,
              0.1544365261
             ]
            },
            {
             "iteration": 1720,
             "learn": [
              0.07824573543
             ],
             "passed_time": 69.13509092,
             "remaining_time": 11.20783868,
             "test": [
              0.6361013703,
              0.154445749
             ]
            },
            {
             "iteration": 1721,
             "learn": [
              0.07822640438
             ],
             "passed_time": 69.17780398,
             "remaining_time": 11.16807753,
             "test": [
              0.6361013703,
              0.1544470946
             ]
            },
            {
             "iteration": 1722,
             "learn": [
              0.078207043
             ],
             "passed_time": 69.21658484,
             "remaining_time": 11.12768079,
             "test": [
              0.6361013703,
              0.1544484634
             ]
            },
            {
             "iteration": 1723,
             "learn": [
              0.07818773493
             ],
             "passed_time": 69.25494319,
             "remaining_time": 11.08721828,
             "test": [
              0.6361013703,
              0.1544545371
             ]
            },
            {
             "iteration": 1724,
             "learn": [
              0.07814671479
             ],
             "passed_time": 69.29746565,
             "remaining_time": 11.04742206,
             "test": [
              0.636579428,
              0.1544316747
             ]
            },
            {
             "iteration": 1725,
             "learn": [
              0.07810578039
             ],
             "passed_time": 69.33690941,
             "remaining_time": 11.00713394,
             "test": [
              0.6365103446,
              0.1544340028
             ]
            },
            {
             "iteration": 1726,
             "learn": [
              0.07806184713
             ],
             "passed_time": 69.37983284,
             "remaining_time": 10.96739685,
             "test": [
              0.6365213979,
              0.1544356332
             ]
            },
            {
             "iteration": 1727,
             "learn": [
              0.07804257732
             ],
             "passed_time": 69.41798027,
             "remaining_time": 10.9269043,
             "test": [
              0.6365213979,
              0.1544368833
             ]
            },
            {
             "iteration": 1728,
             "learn": [
              0.07802139283
             ],
             "passed_time": 69.457955,
             "remaining_time": 10.88670087,
             "test": [
              0.6365103446,
              0.1544394749
             ]
            },
            {
             "iteration": 1729,
             "learn": [
              0.07798033914
             ],
             "passed_time": 69.4961646,
             "remaining_time": 10.84622222,
             "test": [
              0.6366512749,
              0.1544419189
             ]
            },
            {
             "iteration": 1730,
             "learn": [
              0.07796109625
             ],
             "passed_time": 69.53487692,
             "remaining_time": 10.80582432,
             "test": [
              0.6366512749,
              0.1544431627
             ]
            },
            {
             "iteration": 1731,
             "learn": [
              0.07783779197
             ],
             "passed_time": 69.57595743,
             "remaining_time": 10.7657948,
             "test": [
              0.6369358988,
              0.1544430581
             ]
            },
            {
             "iteration": 1732,
             "learn": [
              0.07781853789
             ],
             "passed_time": 69.61282428,
             "remaining_time": 10.72511488,
             "test": [
              0.6369358988,
              0.1544441212
             ]
            },
            {
             "iteration": 1733,
             "learn": [
              0.07777685918
             ],
             "passed_time": 69.65198219,
             "remaining_time": 10.68479081,
             "test": [
              0.636864052,
              0.1544506555
             ]
            },
            {
             "iteration": 1734,
             "learn": [
              0.07773463297
             ],
             "passed_time": 69.6935663,
             "remaining_time": 10.64483866,
             "test": [
              0.6368391819,
              0.15445201
             ]
            },
            {
             "iteration": 1735,
             "learn": [
              0.0776920834
             ],
             "passed_time": 69.73128351,
             "remaining_time": 10.60429657,
             "test": [
              0.636546268,
              0.1544720239
             ]
            },
            {
             "iteration": 1736,
             "learn": [
              0.07767284228
             ],
             "passed_time": 69.76851121,
             "remaining_time": 10.56368362,
             "test": [
              0.636546268,
              0.1544730045
             ]
            },
            {
             "iteration": 1737,
             "learn": [
              0.07765356051
             ],
             "passed_time": 69.81198619,
             "remaining_time": 10.52401633,
             "test": [
              0.636546268,
              0.1544740269
             ]
            },
            {
             "iteration": 1738,
             "learn": [
              0.07763434054
             ],
             "passed_time": 69.85429273,
             "remaining_time": 10.48416929,
             "test": [
              0.636546268,
              0.1544750883
             ]
            },
            {
             "iteration": 1739,
             "learn": [
              0.07753633011
             ],
             "passed_time": 69.89563642,
             "remaining_time": 10.44417556,
             "test": [
              0.6363859943,
              0.1544829394
             ]
            },
            {
             "iteration": 1740,
             "learn": [
              0.07751356011
             ],
             "passed_time": 69.93365363,
             "remaining_time": 10.40368541,
             "test": [
              0.6363859943,
              0.1544842829
             ]
            },
            {
             "iteration": 1741,
             "learn": [
              0.07746923965
             ],
             "passed_time": 69.97445084,
             "remaining_time": 10.36360983,
             "test": [
              0.636424681,
              0.1544866651
             ]
            },
            {
             "iteration": 1742,
             "learn": [
              0.07744635049
             ],
             "passed_time": 70.01224089,
             "remaining_time": 10.32309002,
             "test": [
              0.636424681,
              0.1544994905
             ]
            },
            {
             "iteration": 1743,
             "learn": [
              0.07740004958
             ],
             "passed_time": 70.05339681,
             "remaining_time": 10.28306742,
             "test": [
              0.6364578411,
              0.1545018842
             ]
            },
            {
             "iteration": 1744,
             "learn": [
              0.07737730778
             ],
             "passed_time": 70.09013667,
             "remaining_time": 10.24239819,
             "test": [
              0.6364578411,
              0.1545031869
             ]
            },
            {
             "iteration": 1745,
             "learn": [
              0.0773404011
             ],
             "passed_time": 70.12883457,
             "remaining_time": 10.20201832,
             "test": [
              0.636253354,
              0.1545181087
             ]
            },
            {
             "iteration": 1746,
             "learn": [
              0.07728859122
             ],
             "passed_time": 70.1721063,
             "remaining_time": 10.16230274,
             "test": [
              0.6361124237,
              0.1545273805
             ]
            },
            {
             "iteration": 1747,
             "learn": [
              0.07726938339
             ],
             "passed_time": 70.21037732,
             "remaining_time": 10.12186218,
             "test": [
              0.6361124237,
              0.1545333181
             ]
            },
            {
             "iteration": 1748,
             "learn": [
              0.07725018372
             ],
             "passed_time": 70.24814753,
             "remaining_time": 10.08135222,
             "test": [
              0.6361124237,
              0.1545343679
             ]
            },
            {
             "iteration": 1749,
             "learn": [
              0.07723096058
             ],
             "passed_time": 70.28545735,
             "remaining_time": 10.04077962,
             "test": [
              0.6361124237,
              0.1545354582
             ]
            },
            {
             "iteration": 1750,
             "learn": [
              0.07721178469
             ],
             "passed_time": 70.3267537,
             "remaining_time": 10.00077765,
             "test": [
              0.6361124237,
              0.1545385426
             ]
            },
            {
             "iteration": 1751,
             "learn": [
              0.07719259662
             ],
             "passed_time": 70.41758086,
             "remaining_time": 9.967785419,
             "test": [
              0.6361124237,
              0.1545397068
             ]
            },
            {
             "iteration": 1752,
             "learn": [
              0.07717347427
             ],
             "passed_time": 70.4716673,
             "remaining_time": 9.929550384,
             "test": [
              0.6361124237,
              0.154540906
             ]
            },
            {
             "iteration": 1753,
             "learn": [
              0.07715429664
             ],
             "passed_time": 70.52276599,
             "remaining_time": 9.89087824,
             "test": [
              0.6361124237,
              0.1545538309
             ]
            },
            {
             "iteration": 1754,
             "learn": [
              0.07711199818
             ],
             "passed_time": 70.57166095,
             "remaining_time": 9.851884293,
             "test": [
              0.6359714934,
              0.154573664
             ]
            },
            {
             "iteration": 1755,
             "learn": [
              0.07709290002
             ],
             "passed_time": 70.61496886,
             "remaining_time": 9.812102734,
             "test": [
              0.6359714934,
              0.1545749009
             ]
            },
            {
             "iteration": 1756,
             "learn": [
              0.07705602587
             ],
             "passed_time": 70.65734748,
             "remaining_time": 9.772188639,
             "test": [
              0.6359908368,
              0.1545780771
             ]
            },
            {
             "iteration": 1757,
             "learn": [
              0.07703689107
             ],
             "passed_time": 70.69839995,
             "remaining_time": 9.732089185,
             "test": [
              0.6359908368,
              0.1545793092
             ]
            },
            {
             "iteration": 1758,
             "learn": [
              0.07699634151
             ],
             "passed_time": 70.74795489,
             "remaining_time": 9.693153569,
             "test": [
              0.6359991268,
              0.1545815205
             ]
            },
            {
             "iteration": 1759,
             "learn": [
              0.07695596407
             ],
             "passed_time": 70.79084769,
             "remaining_time": 9.653297413,
             "test": [
              0.6360074168,
              0.1545863951
             ]
            },
            {
             "iteration": 1760,
             "learn": [
              0.07691410664
             ],
             "passed_time": 70.83430051,
             "remaining_time": 9.613513812,
             "test": [
              0.6359825467,
              0.1545877721
             ]
            },
            {
             "iteration": 1761,
             "learn": [
              0.07688739575
             ],
             "passed_time": 70.87573428,
             "remaining_time": 9.573453325,
             "test": [
              0.6359328066,
              0.154589241
             ]
            },
            {
             "iteration": 1762,
             "learn": [
              0.07686827918
             ],
             "passed_time": 70.91642224,
             "remaining_time": 9.533291021,
             "test": [
              0.6359328066,
              0.1545903736
             ]
            },
            {
             "iteration": 1763,
             "learn": [
              0.07685008349
             ],
             "passed_time": 70.95681031,
             "remaining_time": 9.493088001,
             "test": [
              0.6359134633,
              0.1545989264
             ]
            },
            {
             "iteration": 1764,
             "learn": [
              0.07681292621
             ],
             "passed_time": 71.00036038,
             "remaining_time": 9.453305773,
             "test": [
              0.6359189899,
              0.1546005374
             ]
            },
            {
             "iteration": 1765,
             "learn": [
              0.07677406493
             ],
             "passed_time": 71.05315587,
             "remaining_time": 9.414744322,
             "test": [
              0.6358167464,
              0.1546040581
             ]
            },
            {
             "iteration": 1766,
             "learn": [
              0.07675500577
             ],
             "passed_time": 71.09467297,
             "remaining_time": 9.374679571,
             "test": [
              0.6358167464,
              0.1546051909
             ]
            },
            {
             "iteration": 1767,
             "learn": [
              0.07673600859
             ],
             "passed_time": 71.13418731,
             "remaining_time": 9.334350371,
             "test": [
              0.6358167464,
              0.1546063599
             ]
            },
            {
             "iteration": 1768,
             "learn": [
              0.07667442809
             ],
             "passed_time": 71.1754062,
             "remaining_time": 9.294244676,
             "test": [
              0.6359245166,
              0.1545932073
             ]
            },
            {
             "iteration": 1769,
             "learn": [
              0.07665538215
             ],
             "passed_time": 71.2143484,
             "remaining_time": 9.253841882,
             "test": [
              0.6359245166,
              0.154594305
             ]
            },
            {
             "iteration": 1770,
             "learn": [
              0.076610551
             ],
             "passed_time": 71.25350648,
             "remaining_time": 9.213468653,
             "test": [
              0.6358499065,
              0.1546007093
             ]
            },
            {
             "iteration": 1771,
             "learn": [
              0.07659153852
             ],
             "passed_time": 71.2904383,
             "remaining_time": 9.172810345,
             "test": [
              0.6358499065,
              0.1546018134
             ]
            },
            {
             "iteration": 1772,
             "learn": [
              0.07654893906
             ],
             "passed_time": 71.32882257,
             "remaining_time": 9.132342201,
             "test": [
              0.6359134633,
              0.1546022488
             ]
            },
            {
             "iteration": 1773,
             "learn": [
              0.07650734139
             ],
             "passed_time": 71.36619877,
             "remaining_time": 9.091747983,
             "test": [
              0.6358941199,
              0.154604889
             ]
            },
            {
             "iteration": 1774,
             "learn": [
              0.0764882925
             ],
             "passed_time": 71.40388973,
             "remaining_time": 9.051197289,
             "test": [
              0.6358941199,
              0.1546059447
             ]
            },
            {
             "iteration": 1775,
             "learn": [
              0.07646936469
             ],
             "passed_time": 71.44427667,
             "remaining_time": 9.010989851,
             "test": [
              0.6358941199,
              0.1546070363
             ]
            },
            {
             "iteration": 1776,
             "learn": [
              0.07645042459
             ],
             "passed_time": 71.48282661,
             "remaining_time": 8.97055168,
             "test": [
              0.6358941199,
              0.154608166
             ]
            },
            {
             "iteration": 1777,
             "learn": [
              0.07643150795
             ],
             "passed_time": 71.52220204,
             "remaining_time": 8.930218702,
             "test": [
              0.6358941199,
              0.154609332
             ]
            },
            {
             "iteration": 1778,
             "learn": [
              0.07638784003
             ],
             "passed_time": 71.5658059,
             "remaining_time": 8.890412088,
             "test": [
              0.6359051732,
              0.1546105203
             ]
            },
            {
             "iteration": 1779,
             "learn": [
              0.07634941369
             ],
             "passed_time": 71.60536766,
             "remaining_time": 8.850101621,
             "test": [
              0.6359106999,
              0.1546125686
             ]
            },
            {
             "iteration": 1780,
             "learn": [
              0.07629964947
             ],
             "passed_time": 71.64498875,
             "remaining_time": 8.809799291,
             "test": [
              0.6359079366,
              0.1546166049
             ]
            },
            {
             "iteration": 1781,
             "learn": [
              0.07627202016
             ],
             "passed_time": 71.68437305,
             "remaining_time": 8.769468757,
             "test": [
              0.6358195097,
              0.1546181868
             ]
            },
            {
             "iteration": 1782,
             "learn": [
              0.07625132608
             ],
             "passed_time": 71.72450387,
             "remaining_time": 8.72923014,
             "test": [
              0.6358222731,
              0.1546189478
             ]
            },
            {
             "iteration": 1783,
             "learn": [
              0.0762324163
             ],
             "passed_time": 71.76135826,
             "remaining_time": 8.688594947,
             "test": [
              0.6358222731,
              0.1546200885
             ]
            },
            {
             "iteration": 1784,
             "learn": [
              0.07621351449
             ],
             "passed_time": 71.79784848,
             "remaining_time": 8.647920125,
             "test": [
              0.6358167464,
              0.1546263132
             ]
            },
            {
             "iteration": 1785,
             "learn": [
              0.07616623312
             ],
             "passed_time": 71.8350503,
             "remaining_time": 8.607335255,
             "test": [
              0.6359797834,
              0.1546319205
             ]
            },
            {
             "iteration": 1786,
             "learn": [
              0.07614738682
             ],
             "passed_time": 71.87217996,
             "remaining_time": 8.566745568,
             "test": [
              0.6359797834,
              0.1546330886
             ]
            },
            {
             "iteration": 1787,
             "learn": [
              0.07609162033
             ],
             "passed_time": 71.91064277,
             "remaining_time": 8.526317823,
             "test": [
              0.6361345304,
              0.1546290313
             ]
            },
            {
             "iteration": 1788,
             "learn": [
              0.07605275395
             ],
             "passed_time": 71.94951363,
             "remaining_time": 8.485940401,
             "test": [
              0.6361207137,
              0.1546332046
             ]
            },
            {
             "iteration": 1789,
             "learn": [
              0.07603389576
             ],
             "passed_time": 71.98725568,
             "remaining_time": 8.44543223,
             "test": [
              0.6361207137,
              0.1546343149
             ]
            },
            {
             "iteration": 1790,
             "learn": [
              0.07601507801
             ],
             "passed_time": 72.02508093,
             "remaining_time": 8.404936859,
             "test": [
              0.6361207137,
              0.1546354615
             ]
            },
            {
             "iteration": 1791,
             "learn": [
              0.07597393152
             ],
             "passed_time": 72.06618669,
             "remaining_time": 8.364825241,
             "test": [
              0.6360682103,
              0.1546411811
             ]
            },
            {
             "iteration": 1792,
             "learn": [
              0.07595514562
             ],
             "passed_time": 72.10430854,
             "remaining_time": 8.324368024,
             "test": [
              0.6360682103,
              0.1546423179
             ]
            },
            {
             "iteration": 1793,
             "learn": [
              0.07591264342
             ],
             "passed_time": 72.15030988,
             "remaining_time": 8.284818192,
             "test": [
              0.6360350502,
              0.1546511169
             ]
            },
            {
             "iteration": 1794,
             "learn": [
              0.07589385968
             ],
             "passed_time": 72.19653845,
             "remaining_time": 8.245287121,
             "test": [
              0.6360350502,
              0.1546522498
             ]
            },
            {
             "iteration": 1795,
             "learn": [
              0.07587506606
             ],
             "passed_time": 72.24167131,
             "remaining_time": 8.205624136,
             "test": [
              0.6360350502,
              0.1546534212
             ]
            },
            {
             "iteration": 1796,
             "learn": [
              0.07585627749
             ],
             "passed_time": 72.28716506,
             "remaining_time": 8.165995831,
             "test": [
              0.6360350502,
              0.1546664469
             ]
            },
            {
             "iteration": 1797,
             "learn": [
              0.07582033928
             ],
             "passed_time": 72.32936552,
             "remaining_time": 8.125991009,
             "test": [
              0.63595215,
              0.1546783517
             ]
            },
            {
             "iteration": 1798,
             "learn": [
              0.07580162307
             ],
             "passed_time": 72.36840193,
             "remaining_time": 8.085630232,
             "test": [
              0.63595215,
              0.1546795634
             ]
            },
            {
             "iteration": 1799,
             "learn": [
              0.07576088301
             ],
             "passed_time": 72.4095699,
             "remaining_time": 8.045507766,
             "test": [
              0.6359963634,
              0.1546794686
             ]
            },
            {
             "iteration": 1800,
             "learn": [
              0.07574214441
             ],
             "passed_time": 72.44812254,
             "remaining_time": 8.005095162,
             "test": [
              0.6359963634,
              0.1546806675
             ]
            },
            {
             "iteration": 1801,
             "learn": [
              0.07572340581
             ],
             "passed_time": 72.4899179,
             "remaining_time": 7.965040924,
             "test": [
              0.6359963634,
              0.1546819017
             ]
            },
            {
             "iteration": 1802,
             "learn": [
              0.07567929731
             ],
             "passed_time": 72.5285251,
             "remaining_time": 7.924636408,
             "test": [
              0.6358277997,
              0.1546957595
             ]
            },
            {
             "iteration": 1803,
             "learn": [
              0.07566055085
             ],
             "passed_time": 72.56621422,
             "remaining_time": 7.88413414,
             "test": [
              0.6358277997,
              0.1546969896
             ]
            },
            {
             "iteration": 1804,
             "learn": [
              0.07564234066
             ],
             "passed_time": 72.60598111,
             "remaining_time": 7.843859455,
             "test": [
              0.635805693,
              0.1546986548
             ]
            },
            {
             "iteration": 1805,
             "learn": [
              0.07562365668
             ],
             "passed_time": 72.64711408,
             "remaining_time": 7.803732077,
             "test": [
              0.635805693,
              0.1546999486
             ]
            },
            {
             "iteration": 1806,
             "learn": [
              0.07555555271
             ],
             "passed_time": 72.6913663,
             "remaining_time": 7.763936743,
             "test": [
              0.636106897,
              0.1547051697
             ]
            },
            {
             "iteration": 1807,
             "learn": [
              0.07553332257
             ],
             "passed_time": 72.73187937,
             "remaining_time": 7.723739402,
             "test": [
              0.636106897,
              0.1547066117
             ]
            },
            {
             "iteration": 1808,
             "learn": [
              0.07551463539
             ],
             "passed_time": 72.77367048,
             "remaining_time": 7.683676651,
             "test": [
              0.636106897,
              0.1547078036
             ]
            },
            {
             "iteration": 1809,
             "learn": [
              0.07546621341
             ],
             "passed_time": 72.81827488,
             "remaining_time": 7.643907307,
             "test": [
              0.6358913566,
              0.1547169145
             ]
            },
            {
             "iteration": 1810,
             "learn": [
              0.07544755614
             ],
             "passed_time": 72.85657681,
             "remaining_time": 7.603474885,
             "test": [
              0.6358913566,
              0.154718058
             ]
            },
            {
             "iteration": 1811,
             "learn": [
              0.07542895813
             ],
             "passed_time": 72.89819892,
             "remaining_time": 7.563389291,
             "test": [
              0.6358913566,
              0.1547192393
             ]
            },
            {
             "iteration": 1812,
             "learn": [
              0.07538643334
             ],
             "passed_time": 72.94128139,
             "remaining_time": 7.523452631,
             "test": [
              0.6359134633,
              0.1547209099
             ]
            },
            {
             "iteration": 1813,
             "learn": [
              0.07534494038
             ],
             "passed_time": 72.98308492,
             "remaining_time": 7.483381364,
             "test": [
              0.6359189899,
              0.1547221007
             ]
            },
            {
             "iteration": 1814,
             "learn": [
              0.07532629712
             ],
             "passed_time": 73.02574151,
             "remaining_time": 7.44339514,
             "test": [
              0.6359189899,
              0.1547232221
             ]
            },
            {
             "iteration": 1815,
             "learn": [
              0.07528523625
             ],
             "passed_time": 73.0760776,
             "remaining_time": 7.404184074,
             "test": [
              0.6357006861,
              0.1547364687
             ]
            },
            {
             "iteration": 1816,
             "learn": [
              0.07524844857
             ],
             "passed_time": 73.12775764,
             "remaining_time": 7.365096119,
             "test": [
              0.635634366,
              0.154744395
             ]
            },
            {
             "iteration": 1817,
             "learn": [
              0.07522988073
             ],
             "passed_time": 73.17760796,
             "remaining_time": 7.325811138,
             "test": [
              0.635634366,
              0.154745482
             ]
            },
            {
             "iteration": 1818,
             "learn": [
              0.07518838912
             ],
             "passed_time": 73.22662001,
             "remaining_time": 7.286431128,
             "test": [
              0.635504489,
              0.1547522643
             ]
            },
            {
             "iteration": 1819,
             "learn": [
              0.07516979935
             ],
             "passed_time": 73.26520846,
             "remaining_time": 7.246009627,
             "test": [
              0.635504489,
              0.1547533478
             ]
            },
            {
             "iteration": 1820,
             "learn": [
              0.07512247381
             ],
             "passed_time": 73.3045725,
             "remaining_time": 7.20566638,
             "test": [
              0.6356122593,
              0.1547416158
             ]
            },
            {
             "iteration": 1821,
             "learn": [
              0.07510387409
             ],
             "passed_time": 73.34134998,
             "remaining_time": 7.165071513,
             "test": [
              0.6356122593,
              0.1547426841
             ]
            },
            {
             "iteration": 1822,
             "learn": [
              0.07506467053
             ],
             "passed_time": 73.37935703,
             "remaining_time": 7.124600216,
             "test": [
              0.6356150226,
              0.1547474896
             ]
            },
            {
             "iteration": 1823,
             "learn": [
              0.07502365712
             ],
             "passed_time": 73.42000786,
             "remaining_time": 7.084386723,
             "test": [
              0.6355100157,
              0.1547520331
             ]
            },
            {
             "iteration": 1824,
             "learn": [
              0.074982923
             ],
             "passed_time": 73.46005142,
             "remaining_time": 7.04411452,
             "test": [
              0.6356702894,
              0.1547475923
             ]
            },
            {
             "iteration": 1825,
             "learn": [
              0.07496471326
             ],
             "passed_time": 73.49787055,
             "remaining_time": 7.0036306,
             "test": [
              0.6356647627,
              0.15476121
             ]
            },
            {
             "iteration": 1826,
             "learn": [
              0.0749461664
             ],
             "passed_time": 73.5386528,
             "remaining_time": 6.963430178,
             "test": [
              0.6356647627,
              0.1547622467
             ]
            },
            {
             "iteration": 1827,
             "learn": [
              0.07492762068
             ],
             "passed_time": 73.57697369,
             "remaining_time": 6.922997525,
             "test": [
              0.6356647627,
              0.1547633277
             ]
            },
            {
             "iteration": 1828,
             "learn": [
              0.07490911324
             ],
             "passed_time": 73.61373105,
             "remaining_time": 6.882421,
             "test": [
              0.6356647627,
              0.1547694516
             ]
            },
            {
             "iteration": 1829,
             "learn": [
              0.07489057631
             ],
             "passed_time": 73.6510805,
             "remaining_time": 6.841903653,
             "test": [
              0.6356647627,
              0.1547706135
             ]
            },
            {
             "iteration": 1830,
             "learn": [
              0.07487208641
             ],
             "passed_time": 73.68970873,
             "remaining_time": 6.801507796,
             "test": [
              0.6356647627,
              0.1547765478
             ]
            },
            {
             "iteration": 1831,
             "learn": [
              0.07485359762
             ],
             "passed_time": 73.73278108,
             "remaining_time": 6.761521409,
             "test": [
              0.6356647627,
              0.1547777845
             ]
            },
            {
             "iteration": 1832,
             "learn": [
              0.07483510869
             ],
             "passed_time": 73.77659637,
             "remaining_time": 6.721599342,
             "test": [
              0.6356647627,
              0.1547810595
             ]
            },
            {
             "iteration": 1833,
             "learn": [
              0.07479263846
             ],
             "passed_time": 73.82241275,
             "remaining_time": 6.681854153,
             "test": [
              0.6356454194,
              0.1547842577
             ]
            },
            {
             "iteration": 1834,
             "learn": [
              0.07475313106
             ],
             "passed_time": 73.86942,
             "remaining_time": 6.642209428,
             "test": [
              0.635617786,
              0.1547880824
             ]
            },
            {
             "iteration": 1835,
             "learn": [
              0.07471016652
             ],
             "passed_time": 73.90807257,
             "remaining_time": 6.601810404,
             "test": [
              0.6354575123,
              0.154805047
             ]
            },
            {
             "iteration": 1836,
             "learn": [
              0.07469167217
             ],
             "passed_time": 73.94631905,
             "remaining_time": 6.561377248,
             "test": [
              0.6354575123,
              0.1548061919
             ]
            },
            {
             "iteration": 1837,
             "learn": [
              0.07467321948
             ],
             "passed_time": 73.98412713,
             "remaining_time": 6.520907832,
             "test": [
              0.6354575123,
              0.1548192588
             ]
            },
            {
             "iteration": 1838,
             "learn": [
              0.0746548182
             ],
             "passed_time": 74.02173017,
             "remaining_time": 6.480423359,
             "test": [
              0.6354575123,
              0.1548204762
             ]
            },
            {
             "iteration": 1839,
             "learn": [
              0.07461014776
             ],
             "passed_time": 74.06501382,
             "remaining_time": 6.440435985,
             "test": [
              0.6351286749,
              0.1548322719
             ]
            },
            {
             "iteration": 1840,
             "learn": [
              0.07457199823
             ],
             "passed_time": 74.10393882,
             "remaining_time": 6.400068589,
             "test": [
              0.635161835,
              0.1548313848
             ]
            },
            {
             "iteration": 1841,
             "learn": [
              0.07455356968
             ],
             "passed_time": 74.14058216,
             "remaining_time": 6.359507048,
             "test": [
              0.635161835,
              0.1548325696
             ]
            },
            {
             "iteration": 1842,
             "learn": [
              0.07453514964
             ],
             "passed_time": 74.1780212,
             "remaining_time": 6.319017541,
             "test": [
              0.635161835,
              0.154833791
             ]
            },
            {
             "iteration": 1843,
             "learn": [
              0.07449670747
             ],
             "passed_time": 74.21556236,
             "remaining_time": 6.278539983,
             "test": [
              0.6351894684,
              0.1548348701
             ]
            },
            {
             "iteration": 1844,
             "learn": [
              0.0744783244
             ],
             "passed_time": 74.25275835,
             "remaining_time": 6.238036609,
             "test": [
              0.6351894684,
              0.154836084
             ]
            },
            {
             "iteration": 1845,
             "learn": [
              0.07445995535
             ],
             "passed_time": 74.28966662,
             "remaining_time": 6.197512817,
             "test": [
              0.6351894684,
              0.1548373338
             ]
            },
            {
             "iteration": 1846,
             "learn": [
              0.07444159254
             ],
             "passed_time": 74.3278098,
             "remaining_time": 6.157095235,
             "test": [
              0.6351894684,
              0.1548386172
             ]
            },
            {
             "iteration": 1847,
             "learn": [
              0.07442327357
             ],
             "passed_time": 74.36564089,
             "remaining_time": 6.116654446,
             "test": [
              0.6351894684,
              0.1548399333
             ]
            },
            {
             "iteration": 1848,
             "learn": [
              0.07440421604
             ],
             "passed_time": 74.40371799,
             "remaining_time": 6.076236569,
             "test": [
              0.6351922317,
              0.1548407376
             ]
            },
            {
             "iteration": 1849,
             "learn": [
              0.07436399791
             ],
             "passed_time": 74.4467393,
             "remaining_time": 6.036222105,
             "test": [
              0.6352088117,
              0.1548444864
             ]
            },
            {
             "iteration": 1850,
             "learn": [
              0.0743150697
             ],
             "passed_time": 74.48528924,
             "remaining_time": 5.99584446,
             "test": [
              0.6353746121,
              0.1548435642
             ]
            },
            {
             "iteration": 1851,
             "learn": [
              0.07427315124
             ],
             "passed_time": 74.52596257,
             "remaining_time": 5.955638477,
             "test": [
              0.6352834219,
              0.1548495524
             ]
            },
            {
             "iteration": 1852,
             "learn": [
              0.07422318766
             ],
             "passed_time": 74.56823469,
             "remaining_time": 5.915558823,
             "test": [
              0.6352474985,
              0.1548581517
             ]
            },
            {
             "iteration": 1853,
             "learn": [
              0.07420487871
             ],
             "passed_time": 74.60643587,
             "remaining_time": 5.875156223,
             "test": [
              0.6352474985,
              0.1548593012
             ]
            },
            {
             "iteration": 1854,
             "learn": [
              0.07417085048
             ],
             "passed_time": 74.64597955,
             "remaining_time": 5.834860935,
             "test": [
              0.635333162,
              0.1548624801
             ]
            },
            {
             "iteration": 1855,
             "learn": [
              0.07413540639
             ],
             "passed_time": 74.6845647,
             "remaining_time": 5.794492088,
             "test": [
              0.6352806586,
              0.1548686472
             ]
            },
            {
             "iteration": 1856,
             "learn": [
              0.07411712504
             ],
             "passed_time": 74.72365957,
             "remaining_time": 5.754164415,
             "test": [
              0.6352806586,
              0.1548768794
             ]
            },
            {
             "iteration": 1857,
             "learn": [
              0.07407788396
             ],
             "passed_time": 74.76872535,
             "remaining_time": 5.714294402,
             "test": [
              0.6352806586,
              0.1548784969
             ]
            },
            {
             "iteration": 1858,
             "learn": [
              0.07405961025
             ],
             "passed_time": 74.81414218,
             "remaining_time": 5.674445426,
             "test": [
              0.6352806586,
              0.1548796262
             ]
            },
            {
             "iteration": 1859,
             "learn": [
              0.07404188171
             ],
             "passed_time": 74.85679477,
             "remaining_time": 5.634382402,
             "test": [
              0.6352419718,
              0.154881585
             ]
            },
            {
             "iteration": 1860,
             "learn": [
              0.0740236377
             ],
             "passed_time": 74.8997037,
             "remaining_time": 5.594335741,
             "test": [
              0.6352419718,
              0.1548888263
             ]
            },
            {
             "iteration": 1861,
             "learn": [
              0.0739870305
             ],
             "passed_time": 74.9379808,
             "remaining_time": 5.553942723,
             "test": [
              0.6352474985,
              0.1548926462
             ]
            },
            {
             "iteration": 1862,
             "learn": [
              0.07396880874
             ],
             "passed_time": 74.97569659,
             "remaining_time": 5.5135107,
             "test": [
              0.6352419718,
              0.1548949795
             ]
            },
            {
             "iteration": 1863,
             "learn": [
              0.07394437234
             ],
             "passed_time": 75.0140039,
             "remaining_time": 5.473124748,
             "test": [
              0.6352336818,
              0.154900766
             ]
            },
            {
             "iteration": 1864,
             "learn": [
              0.07387722361
             ],
             "passed_time": 75.05289735,
             "remaining_time": 5.432783455,
             "test": [
              0.6352917119,
              0.1549049039
             ]
            },
            {
             "iteration": 1865,
             "learn": [
              0.07385893471
             ],
             "passed_time": 75.09197943,
             "remaining_time": 5.392457258,
             "test": [
              0.6352917119,
              0.1549060509
             ]
            },
            {
             "iteration": 1866,
             "learn": [
              0.07376639538
             ],
             "passed_time": 75.13526937,
             "remaining_time": 5.352432151,
             "test": [
              0.6353552687,
              0.1548930461
             ]
            },
            {
             "iteration": 1867,
             "learn": [
              0.07374879686
             ],
             "passed_time": 75.17284121,
             "remaining_time": 5.311999486,
             "test": [
              0.6353552687,
              0.1548941419
             ]
            },
            {
             "iteration": 1868,
             "learn": [
              0.07369542863
             ],
             "passed_time": 75.21265456,
             "remaining_time": 5.271726991,
             "test": [
              0.6350264313,
              0.1549051517
             ]
            },
            {
             "iteration": 1869,
             "learn": [
              0.07367724025
             ],
             "passed_time": 75.2518581,
             "remaining_time": 5.231412595,
             "test": [
              0.6350264313,
              0.1549062246
             ]
            },
            {
             "iteration": 1870,
             "learn": [
              0.07365904965
             ],
             "passed_time": 75.28913534,
             "remaining_time": 5.190966573,
             "test": [
              0.6350264313,
              0.1549073406
             ]
            },
            {
             "iteration": 1871,
             "learn": [
              0.07361936275
             ],
             "passed_time": 75.32761144,
             "remaining_time": 5.150605911,
             "test": [
              0.634877211,
              0.1549103115
             ]
            },
            {
             "iteration": 1872,
             "learn": [
              0.07358117752
             ],
             "passed_time": 75.36934276,
             "remaining_time": 5.110467982,
             "test": [
              0.6347887842,
              0.1549156952
             ]
            },
            {
             "iteration": 1873,
             "learn": [
              0.07356296544
             ],
             "passed_time": 75.40676521,
             "remaining_time": 5.070038643,
             "test": [
              0.6347887842,
              0.154916775
             ]
            },
            {
             "iteration": 1874,
             "learn": [
              0.07352293628
             ],
             "passed_time": 75.44573308,
             "remaining_time": 5.029715539,
             "test": [
              0.6345704804,
              0.1549267576
             ]
            },
            {
             "iteration": 1875,
             "learn": [
              0.07348514724
             ],
             "passed_time": 75.4893004,
             "remaining_time": 4.989697894,
             "test": [
              0.6345815337,
              0.1549282561
             ]
            },
            {
             "iteration": 1876,
             "learn": [
              0.07346697361
             ],
             "passed_time": 75.52882779,
             "remaining_time": 4.94941173,
             "test": [
              0.6345787704,
              0.154934495
             ]
            },
            {
             "iteration": 1877,
             "learn": [
              0.07339756235
             ],
             "passed_time": 75.57622504,
             "remaining_time": 4.909637623,
             "test": [
              0.6346561439,
              0.1549428554
             ]
            },
            {
             "iteration": 1878,
             "learn": [
              0.07336031557
             ],
             "passed_time": 75.62188397,
             "remaining_time": 4.869743459,
             "test": [
              0.6344682368,
              0.1549556719
             ]
            },
            {
             "iteration": 1879,
             "learn": [
              0.07334217563
             ],
             "passed_time": 75.66929923,
             "remaining_time": 4.82995527,
             "test": [
              0.6344682368,
              0.1549567414
             ]
            },
            {
             "iteration": 1880,
             "learn": [
              0.07332409562
             ],
             "passed_time": 75.71456364,
             "remaining_time": 4.790022899,
             "test": [
              0.6344682368,
              0.1549578537
             ]
            },
            {
             "iteration": 1881,
             "learn": [
              0.07330600946
             ],
             "passed_time": 75.75571856,
             "remaining_time": 4.7498272,
             "test": [
              0.6344682368,
              0.1549590088
             ]
            },
            {
             "iteration": 1882,
             "learn": [
              0.07328790915
             ],
             "passed_time": 75.79545512,
             "remaining_time": 4.709542352,
             "test": [
              0.6344682368,
              0.1549602044
             ]
            },
            {
             "iteration": 1883,
             "learn": [
              0.07323465201
             ],
             "passed_time": 75.84088278,
             "remaining_time": 4.669608494,
             "test": [
              0.634576007,
              0.1549621116
             ]
            },
            {
             "iteration": 1884,
             "learn": [
              0.07321659631
             ],
             "passed_time": 75.88667212,
             "remaining_time": 4.629690872,
             "test": [
              0.634576007,
              0.1549633024
             ]
            },
            {
             "iteration": 1885,
             "learn": [
              0.07317747349
             ],
             "passed_time": 75.93655907,
             "remaining_time": 4.590014705,
             "test": [
              0.6345925871,
              0.1549592399
             ]
            },
            {
             "iteration": 1886,
             "learn": [
              0.07315643801
             ],
             "passed_time": 75.9749978,
             "remaining_time": 4.549642158,
             "test": [
              0.6345925871,
              0.1549606022
             ]
            },
            {
             "iteration": 1887,
             "learn": [
              0.07311638484
             ],
             "passed_time": 76.01491395,
             "remaining_time": 4.509359302,
             "test": [
              0.6346837773,
              0.1549644655
             ]
            },
            {
             "iteration": 1888,
             "learn": [
              0.07309831864
             ],
             "passed_time": 76.05531256,
             "remaining_time": 4.469105185,
             "test": [
              0.6346837773,
              0.1549656304
             ]
            },
            {
             "iteration": 1889,
             "learn": [
              0.07308032877
             ],
             "passed_time": 76.09243313,
             "remaining_time": 4.428660129,
             "test": [
              0.6346837773,
              0.1549668356
             ]
            },
            {
             "iteration": 1890,
             "learn": [
              0.07306227966
             ],
             "passed_time": 76.12881993,
             "remaining_time": 4.388176294,
             "test": [
              0.6346837773,
              0.1549680789
             ]
            },
            {
             "iteration": 1891,
             "learn": [
              0.0730443043
             ],
             "passed_time": 76.16624022,
             "remaining_time": 4.347755784,
             "test": [
              0.6346837773,
              0.154977037
             ]
            },
            {
             "iteration": 1892,
             "learn": [
              0.07300056167
             ],
             "passed_time": 76.20777582,
             "remaining_time": 4.307571058,
             "test": [
              0.6356288393,
              0.1549698771
             ]
            },
            {
             "iteration": 1893,
             "learn": [
              0.07298254618
             ],
             "passed_time": 76.2455052,
             "remaining_time": 4.267171885,
             "test": [
              0.6356288393,
              0.1549831073
             ]
            },
            {
             "iteration": 1894,
             "learn": [
              0.0729404583
             ],
             "passed_time": 76.28450877,
             "remaining_time": 4.226846133,
             "test": [
              0.6356785794,
              0.1549879532
             ]
            },
            {
             "iteration": 1895,
             "learn": [
              0.07290489458
             ],
             "passed_time": 76.32246524,
             "remaining_time": 4.186464338,
             "test": [
              0.6356398927,
              0.1549935908
             ]
            },
            {
             "iteration": 1896,
             "learn": [
              0.07286876661
             ],
             "passed_time": 76.36014932,
             "remaining_time": 4.146070311,
             "test": [
              0.6356758161,
              0.1550015067
             ]
            },
            {
             "iteration": 1897,
             "learn": [
              0.07285077699
             ],
             "passed_time": 76.39877248,
             "remaining_time": 4.105729606,
             "test": [
              0.6356758161,
              0.1550027033
             ]
            },
            {
             "iteration": 1898,
             "learn": [
              0.07283280633
             ],
             "passed_time": 76.43670332,
             "remaining_time": 4.065353889,
             "test": [
              0.6356758161,
              0.1550039377
             ]
            },
            {
             "iteration": 1899,
             "learn": [
              0.07279090194
             ],
             "passed_time": 76.48093016,
             "remaining_time": 4.025312114,
             "test": [
              0.6356150226,
              0.1550090116
             ]
            },
            {
             "iteration": 1900,
             "learn": [
              0.0727668139
             ],
             "passed_time": 76.52086759,
             "remaining_time": 3.985042552,
             "test": [
              0.6356012059,
              0.1550109696
             ]
            },
            {
             "iteration": 1901,
             "learn": [
              0.07274882318
             ],
             "passed_time": 76.56162026,
             "remaining_time": 3.944815345,
             "test": [
              0.6356012059,
              0.1550122028
             ]
            },
            {
             "iteration": 1902,
             "learn": [
              0.07270484005
             ],
             "passed_time": 76.60698946,
             "remaining_time": 3.9048229,
             "test": [
              0.6355459391,
              0.1550196056
             ]
            },
            {
             "iteration": 1903,
             "learn": [
              0.07267165925
             ],
             "passed_time": 76.65345995,
             "remaining_time": 3.864880334,
             "test": [
              0.6354906723,
              0.1550243919
             ]
            },
            {
             "iteration": 1904,
             "learn": [
              0.07265369739
             ],
             "passed_time": 76.69425957,
             "remaining_time": 3.824648115,
             "test": [
              0.6354906723,
              0.1550255938
             ]
            },
            {
             "iteration": 1905,
             "learn": [
              0.0726169309
             ],
             "passed_time": 76.73611223,
             "remaining_time": 3.784467235,
             "test": [
              0.6355265958,
              0.1550247487
             ]
            },
            {
             "iteration": 1906,
             "learn": [
              0.07259893286
             ],
             "passed_time": 76.7757817,
             "remaining_time": 3.744178132,
             "test": [
              0.6355265958,
              0.1550259534
             ]
            },
            {
             "iteration": 1907,
             "learn": [
              0.07258104622
             ],
             "passed_time": 76.81657491,
             "remaining_time": 3.703943863,
             "test": [
              0.6355265958,
              0.1550271937
             ]
            },
            {
             "iteration": 1908,
             "learn": [
              0.07256424655
             ],
             "passed_time": 76.85932037,
             "remaining_time": 3.663802071,
             "test": [
              0.6355265958,
              0.1550283809
             ]
            },
            {
             "iteration": 1909,
             "learn": [
              0.07254472659
             ],
             "passed_time": 76.90312216,
             "remaining_time": 3.623707327,
             "test": [
              0.6355293591,
              0.1550289633
             ]
            },
            {
             "iteration": 1910,
             "learn": [
              0.07250847908
             ],
             "passed_time": 76.94590592,
             "remaining_time": 3.583561291,
             "test": [
              0.6354271155,
              0.1550366695
             ]
            },
            {
             "iteration": 1911,
             "learn": [
              0.07246632699
             ],
             "passed_time": 76.98818505,
             "remaining_time": 3.54338927,
             "test": [
              0.6354436956,
              0.1550418929
             ]
            },
            {
             "iteration": 1912,
             "learn": [
              0.07241622196
             ],
             "passed_time": 77.0328544,
             "remaining_time": 3.50332375,
             "test": [
              0.6353027653,
              0.1550566499
             ]
            },
            {
             "iteration": 1913,
             "learn": [
              0.0723983173
             ],
             "passed_time": 77.07155534,
             "remaining_time": 3.462985245,
             "test": [
              0.6353027653,
              0.1550578398
             ]
            },
            {
             "iteration": 1914,
             "learn": [
              0.07238043673
             ],
             "passed_time": 77.11056913,
             "remaining_time": 3.422662337,
             "test": [
              0.6353027653,
              0.1550590673
             ]
            },
            {
             "iteration": 1915,
             "learn": [
              0.07234317315
             ],
             "passed_time": 77.14914324,
             "remaining_time": 3.38232152,
             "test": [
              0.6352944753,
              0.1550610425
             ]
            },
            {
             "iteration": 1916,
             "learn": [
              0.07229594028
             ],
             "passed_time": 77.1878976,
             "remaining_time": 3.34199035,
             "test": [
              0.6352696052,
              0.1550655818
             ]
            },
            {
             "iteration": 1917,
             "learn": [
              0.072278079
             ],
             "passed_time": 77.22726973,
             "remaining_time": 3.301687236,
             "test": [
              0.6352696052,
              0.1550667237
             ]
            },
            {
             "iteration": 1918,
             "learn": [
              0.0722602333
             ],
             "passed_time": 77.26593484,
             "remaining_time": 3.261355249,
             "test": [
              0.6352696052,
              0.1550679066
             ]
            },
            {
             "iteration": 1919,
             "learn": [
              0.07224241625
             ],
             "passed_time": 77.30413765,
             "remaining_time": 3.221005735,
             "test": [
              0.6352696052,
              0.1550691304
             ]
            },
            {
             "iteration": 1920,
             "learn": [
              0.07222458816
             ],
             "passed_time": 77.34152747,
             "remaining_time": 3.180625024,
             "test": [
              0.6352696052,
              0.1550703929
             ]
            },
            {
             "iteration": 1921,
             "learn": [
              0.07220614049
             ],
             "passed_time": 77.38048613,
             "remaining_time": 3.140311092,
             "test": [
              0.6352696052,
              0.1550768599
             ]
            },
            {
             "iteration": 1922,
             "learn": [
              0.07218885391
             ],
             "passed_time": 77.41905107,
             "remaining_time": 3.099982804,
             "test": [
              0.6352336818,
              0.1550838291
             ]
            },
            {
             "iteration": 1923,
             "learn": [
              0.07215109106
             ],
             "passed_time": 77.46053113,
             "remaining_time": 3.0597715,
             "test": [
              0.6352171018,
              0.155085717
             ]
            },
            {
             "iteration": 1924,
             "learn": [
              0.07211131704
             ],
             "passed_time": 77.50222237,
             "remaining_time": 3.019567105,
             "test": [
              0.6350015613,
              0.1550938064
             ]
            },
            {
             "iteration": 1925,
             "learn": [
              0.07209354134
             ],
             "passed_time": 77.53984191,
             "remaining_time": 2.979204725,
             "test": [
              0.6350015613,
              0.1550950782
             ]
            },
            {
             "iteration": 1926,
             "learn": [
              0.07207576872
             ],
             "passed_time": 77.57693031,
             "remaining_time": 2.938825071,
             "test": [
              0.6350015613,
              0.1550984972
             ]
            },
            {
             "iteration": 1927,
             "learn": [
              0.07205800357
             ],
             "passed_time": 77.61440043,
             "remaining_time": 2.898463087,
             "test": [
              0.6350015613,
              0.1550998406
             ]
            },
            {
             "iteration": 1928,
             "learn": [
              0.07204032829
             ],
             "passed_time": 77.65380343,
             "remaining_time": 2.858175243,
             "test": [
              0.6350015613,
              0.1551012173
             ]
            },
            {
             "iteration": 1929,
             "learn": [
              0.07200331751
             ],
             "passed_time": 77.6933929,
             "remaining_time": 2.817895079,
             "test": [
              0.6349711646,
              0.1551037229
             ]
            },
            {
             "iteration": 1930,
             "learn": [
              0.07198558468
             ],
             "passed_time": 77.73109482,
             "remaining_time": 2.777548184,
             "test": [
              0.6349711646,
              0.1551050872
             ]
            },
            {
             "iteration": 1931,
             "learn": [
              0.07196788793
             ],
             "passed_time": 77.76965918,
             "remaining_time": 2.737234381,
             "test": [
              0.6349711646,
              0.1551180359
             ]
            },
            {
             "iteration": 1932,
             "learn": [
              0.07195017703
             ],
             "passed_time": 77.80765885,
             "remaining_time": 2.696902816,
             "test": [
              0.6349711646,
              0.1551194647
             ]
            },
            {
             "iteration": 1933,
             "learn": [
              0.0719310293
             ],
             "passed_time": 77.84628163,
             "remaining_time": 2.656594926,
             "test": [
              0.6349656379,
              0.155121445
             ]
            },
            {
             "iteration": 1934,
             "learn": [
              0.07189289642
             ],
             "passed_time": 77.88800657,
             "remaining_time": 2.616392986,
             "test": [
              0.6349684012,
              0.1551238958
             ]
            },
            {
             "iteration": 1935,
             "learn": [
              0.07187521233
             ],
             "passed_time": 77.93396838,
             "remaining_time": 2.576329533,
             "test": [
              0.6349628745,
              0.1551264354
             ]
            },
            {
             "iteration": 1936,
             "learn": [
              0.0718408827
             ],
             "passed_time": 77.99059601,
             "remaining_time": 2.536606891,
             "test": [
              0.6348191809,
              0.1551410534
             ]
            },
            {
             "iteration": 1937,
             "learn": [
              0.07180303728
             ],
             "passed_time": 78.03089533,
             "remaining_time": 2.496344432,
             "test": [
              0.6348495776,
              0.1551423568
             ]
            },
            {
             "iteration": 1938,
             "learn": [
              0.07178534017
             ],
             "passed_time": 78.07034975,
             "remaining_time": 2.456055356,
             "test": [
              0.6348495776,
              0.1551460368
             ]
            },
            {
             "iteration": 1939,
             "learn": [
              0.07175917694
             ],
             "passed_time": 78.11387036,
             "remaining_time": 2.415892898,
             "test": [
              0.6346893039,
              0.1551553255
             ]
            },
            {
             "iteration": 1940,
             "learn": [
              0.07174152244
             ],
             "passed_time": 78.15430594,
             "remaining_time": 2.375633205,
             "test": [
              0.6346893039,
              0.1551639205
             ]
            },
            {
             "iteration": 1941,
             "learn": [
              0.07170101036
             ],
             "passed_time": 78.1964246,
             "remaining_time": 2.335423598,
             "test": [
              0.6346064038,
              0.1551657555
             ]
            },
            {
             "iteration": 1942,
             "learn": [
              0.07168340429
             ],
             "passed_time": 78.23462632,
             "remaining_time": 2.295097118,
             "test": [
              0.6346064038,
              0.1551671292
             ]
            },
            {
             "iteration": 1943,
             "learn": [
              0.07166580611
             ],
             "passed_time": 78.27298134,
             "remaining_time": 2.25477724,
             "test": [
              0.6346064038,
              0.1551685346
             ]
            },
            {
             "iteration": 1944,
             "learn": [
              0.07162922484
             ],
             "passed_time": 78.31046125,
             "remaining_time": 2.214434637,
             "test": [
              0.634576007,
              0.1551750012
             ]
            },
            {
             "iteration": 1945,
             "learn": [
              0.07161160994
             ],
             "passed_time": 78.34688922,
             "remaining_time": 2.174065785,
             "test": [
              0.634576007,
              0.1551763882
             ]
            },
            {
             "iteration": 1946,
             "learn": [
              0.07157804379
             ],
             "passed_time": 78.3865724,
             "remaining_time": 2.133789593,
             "test": [
              0.6345704804,
              0.1551838881
             ]
            },
            {
             "iteration": 1947,
             "learn": [
              0.0714846559
             ],
             "passed_time": 78.42750936,
             "remaining_time": 2.093547478,
             "test": [
              0.6346423272,
              0.1551302966
             ]
            },
            {
             "iteration": 1948,
             "learn": [
              0.07146708234
             ],
             "passed_time": 78.46743692,
             "remaining_time": 2.053278236,
             "test": [
              0.6346423272,
              0.1551359645
             ]
            },
            {
             "iteration": 1949,
             "learn": [
              0.07144952028
             ],
             "passed_time": 78.50754603,
             "remaining_time": 2.013014001,
             "test": [
              0.6346423272,
              0.1551373711
             ]
            },
            {
             "iteration": 1950,
             "learn": [
              0.07143197626
             ],
             "passed_time": 78.54789235,
             "remaining_time": 1.972755882,
             "test": [
              0.6346423272,
              0.1551388066
             ]
            },
            {
             "iteration": 1951,
             "learn": [
              0.07139615892
             ],
             "passed_time": 78.59114358,
             "remaining_time": 1.932569104,
             "test": [
              0.6346478539,
              0.1551407056
             ]
            },
            {
             "iteration": 1952,
             "learn": [
              0.07137604177
             ],
             "passed_time": 78.63205533,
             "remaining_time": 1.892322888,
             "test": [
              0.6346478539,
              0.1551423024
             ]
            },
            {
             "iteration": 1953,
             "learn": [
              0.07135852285
             ],
             "passed_time": 78.66931907,
             "remaining_time": 1.851990111,
             "test": [
              0.6346478539,
              0.1551437426
             ]
            },
            {
             "iteration": 1954,
             "learn": [
              0.07131984926
             ],
             "passed_time": 78.70766963,
             "remaining_time": 1.81168549,
             "test": [
              0.6347031206,
              0.1551494359
             ]
            },
            {
             "iteration": 1955,
             "learn": [
              0.07125912063
             ],
             "passed_time": 78.74830446,
             "remaining_time": 1.771434252,
             "test": [
              0.6328848434,
              0.1552107785
             ]
            },
            {
             "iteration": 1956,
             "learn": [
              0.07124160943
             ],
             "passed_time": 78.78656219,
             "remaining_time": 1.73113039,
             "test": [
              0.6328848434,
              0.1552120797
             ]
            },
            {
             "iteration": 1957,
             "learn": [
              0.07122417269
             ],
             "passed_time": 78.82631749,
             "remaining_time": 1.690860743,
             "test": [
              0.6328848434,
              0.1552134177
             ]
            },
            {
             "iteration": 1958,
             "learn": [
              0.07118856214
             ],
             "passed_time": 78.87019703,
             "remaining_time": 1.650677937,
             "test": [
              0.6329318201,
              0.1552131297
             ]
            },
            {
             "iteration": 1959,
             "learn": [
              0.07117109678
             ],
             "passed_time": 78.91142109,
             "remaining_time": 1.610437165,
             "test": [
              0.6329318201,
              0.1552144846
             ]
            },
            {
             "iteration": 1960,
             "learn": [
              0.07113235044
             ],
             "passed_time": 78.9502462,
             "remaining_time": 1.570147681,
             "test": [
              0.6329566902,
              0.1552126119
             ]
            },
            {
             "iteration": 1961,
             "learn": [
              0.07106806086
             ],
             "passed_time": 78.9933481,
             "remaining_time": 1.529942522,
             "test": [
              0.6328599733,
              0.1552075628
             ]
            },
            {
             "iteration": 1962,
             "learn": [
              0.07105058765
             ],
             "passed_time": 79.03284794,
             "remaining_time": 1.489666517,
             "test": [
              0.6328599733,
              0.1552087783
             ]
            },
            {
             "iteration": 1963,
             "learn": [
              0.07101164224
             ],
             "passed_time": 79.07431796,
             "remaining_time": 1.449427417,
             "test": [
              0.6328185232,
              0.1552119415
             ]
            },
            {
             "iteration": 1964,
             "learn": [
              0.07099420148
             ],
             "passed_time": 79.11485766,
             "remaining_time": 1.409170493,
             "test": [
              0.6328157599,
              0.1552184357
             ]
            },
            {
             "iteration": 1965,
             "learn": [
              0.07097070035
             ],
             "passed_time": 79.15416345,
             "remaining_time": 1.368891942,
             "test": [
              0.6328240499,
              0.155219459
             ]
            },
            {
             "iteration": 1966,
             "learn": [
              0.07095328136
             ],
             "passed_time": 79.19549626,
             "remaining_time": 1.328648387,
             "test": [
              0.6328240499,
              0.1552207268
             ]
            },
            {
             "iteration": 1967,
             "learn": [
              0.07093583264
             ],
             "passed_time": 79.23695903,
             "remaining_time": 1.288405838,
             "test": [
              0.6328240499,
              0.1552220327
             ]
            },
            {
             "iteration": 1968,
             "learn": [
              0.07079853432
             ],
             "passed_time": 79.28087815,
             "remaining_time": 1.248200723,
             "test": [
              0.6334623813,
              0.1552214131
             ]
            },
            {
             "iteration": 1969,
             "learn": [
              0.0707810216
             ],
             "passed_time": 79.3200519,
             "remaining_time": 1.207919572,
             "test": [
              0.6334596179,
              0.1552404292
             ]
            },
            {
             "iteration": 1970,
             "learn": [
              0.07076358341
             ],
             "passed_time": 79.36307213,
             "remaining_time": 1.16769614,
             "test": [
              0.6334596179,
              0.1552415005
             ]
            },
            {
             "iteration": 1971,
             "learn": [
              0.07074619756
             ],
             "passed_time": 79.40462127,
             "remaining_time": 1.127448984,
             "test": [
              0.6334596179,
              0.1552426198
             ]
            },
            {
             "iteration": 1972,
             "learn": [
              0.0707093071
             ],
             "passed_time": 79.44910783,
             "remaining_time": 1.087240705,
             "test": [
              0.6334706713,
              0.1552442504
             ]
            },
            {
             "iteration": 1973,
             "learn": [
              0.07066977783
             ],
             "passed_time": 79.49126566,
             "remaining_time": 1.04699742,
             "test": [
              0.6333325043,
              0.155249108
             ]
            },
            {
             "iteration": 1974,
             "learn": [
              0.07063851225
             ],
             "passed_time": 79.53517453,
             "remaining_time": 1.006774361,
             "test": [
              0.633329741,
              0.155251227
             ]
            },
            {
             "iteration": 1975,
             "learn": [
              0.07062115992
             ],
             "passed_time": 79.57501005,
             "remaining_time": 0.9664980977,
             "test": [
              0.633329741,
              0.1552523068
             ]
            },
            {
             "iteration": 1976,
             "learn": [
              0.07058073906
             ],
             "passed_time": 79.61686928,
             "remaining_time": 0.9262458237,
             "test": [
              0.6333601377,
              0.155250949
             ]
            },
            {
             "iteration": 1977,
             "learn": [
              0.07056336917
             ],
             "passed_time": 79.6573949,
             "remaining_time": 0.8859770919,
             "test": [
              0.6333601377,
              0.1552520359
             ]
            },
            {
             "iteration": 1978,
             "learn": [
              0.07054598124
             ],
             "passed_time": 79.70161999,
             "remaining_time": 0.8457473572,
             "test": [
              0.6333601377,
              0.1552531702
             ]
            },
            {
             "iteration": 1979,
             "learn": [
              0.07049977269
             ],
             "passed_time": 79.74241737,
             "remaining_time": 0.8054789633,
             "test": [
              0.6336171283,
              0.1552558062
             ]
            },
            {
             "iteration": 1980,
             "learn": [
              0.07037790974
             ],
             "passed_time": 79.78610699,
             "remaining_time": 0.7652377752,
             "test": [
              0.6332468408,
              0.1552381142
             ]
            },
            {
             "iteration": 1981,
             "learn": [
              0.07035774352
             ],
             "passed_time": 79.82565483,
             "remaining_time": 0.7249554929,
             "test": [
              0.6332468408,
              0.1552393048
             ]
            },
            {
             "iteration": 1982,
             "learn": [
              0.07032163492
             ],
             "passed_time": 79.86954041,
             "remaining_time": 0.6847111382,
             "test": [
              0.6333352677,
              0.1552382209
             ]
            },
            {
             "iteration": 1983,
             "learn": [
              0.07028703482
             ],
             "passed_time": 79.9089515,
             "remaining_time": 0.6444270282,
             "test": [
              0.6332689475,
              0.1552458764
             ]
            },
            {
             "iteration": 1984,
             "learn": [
              0.07024475151
             ],
             "passed_time": 79.95112745,
             "remaining_time": 0.6041646911,
             "test": [
              0.6332192074,
              0.1552537935
             ]
            },
            {
             "iteration": 1985,
             "learn": [
              0.07020128273
             ],
             "passed_time": 79.99191608,
             "remaining_time": 0.5638906471,
             "test": [
              0.6332274974,
              0.1552628612
             ]
            },
            {
             "iteration": 1986,
             "learn": [
              0.07018390663
             ],
             "passed_time": 80.0302793,
             "remaining_time": 0.5236002169,
             "test": [
              0.6332274974,
              0.1552637577
             ]
            },
            {
             "iteration": 1987,
             "learn": [
              0.07014892354
             ],
             "passed_time": 80.07214071,
             "remaining_time": 0.4833328413,
             "test": [
              0.633166704,
              0.1552683431
             ]
            },
            {
             "iteration": 1988,
             "learn": [
              0.07011509244
             ],
             "passed_time": 80.11360698,
             "remaining_time": 0.4430616776,
             "test": [
              0.633199864,
              0.1552695109
             ]
            },
            {
             "iteration": 1989,
             "learn": [
              0.07009841838
             ],
             "passed_time": 80.15373954,
             "remaining_time": 0.4027826108,
             "test": [
              0.633199864,
              0.1552703847
             ]
            },
            {
             "iteration": 1990,
             "learn": [
              0.07004015461
             ],
             "passed_time": 80.19874899,
             "remaining_time": 0.3625257363,
             "test": [
              0.6333325043,
              0.1552817587
             ]
            },
            {
             "iteration": 1991,
             "learn": [
              0.07000373259
             ],
             "passed_time": 80.23921298,
             "remaining_time": 0.3222458353,
             "test": [
              0.6332689475,
              0.1552867452
             ]
            },
            {
             "iteration": 1992,
             "learn": [
              0.06998636485
             ],
             "passed_time": 80.28140847,
             "remaining_time": 0.2819718311,
             "test": [
              0.6332689475,
              0.1552876695
             ]
            },
            {
             "iteration": 1993,
             "learn": [
              0.06996907751
             ],
             "passed_time": 80.3192291,
             "remaining_time": 0.2416827355,
             "test": [
              0.6332689475,
              0.1552886472
             ]
            },
            {
             "iteration": 1994,
             "learn": [
              0.06994019845
             ],
             "passed_time": 80.35678898,
             "remaining_time": 0.2013954611,
             "test": [
              0.6329815602,
              0.1552936972
             ]
            },
            {
             "iteration": 1995,
             "learn": [
              0.0699205953
             ],
             "passed_time": 80.39471936,
             "remaining_time": 0.161111662,
             "test": [
              0.6329815602,
              0.1552949692
             ]
            },
            {
             "iteration": 1996,
             "learn": [
              0.06988176774
             ],
             "passed_time": 80.4338839,
             "remaining_time": 0.120832074,
             "test": [
              0.6328627366,
              0.1553054155
             ]
            },
            {
             "iteration": 1997,
             "learn": [
              0.06986446957
             ],
             "passed_time": 80.4721635,
             "remaining_time": 0.08055271622,
             "test": [
              0.6328627366,
              0.1553064425
             ]
            },
            {
             "iteration": 1998,
             "learn": [
              0.06983070417
             ],
             "passed_time": 80.51305225,
             "remaining_time": 0.04027666446,
             "test": [
              0.6329345835,
              0.1553085264
             ]
            },
            {
             "iteration": 1999,
             "learn": [
              0.06981343522
             ],
             "passed_time": 80.55430385,
             "remaining_time": 0,
             "test": [
              0.6329345835,
              0.1553095825
             ]
            }
           ],
           "meta": {
            "iteration_count": 2000,
            "launch_mode": "Train",
            "learn_metrics": [
             {
              "best_value": "Min",
              "name": "Logloss"
             }
            ],
            "learn_sets": [
             "learn"
            ],
            "name": "experiment",
            "parameters": "",
            "test_metrics": [
             {
              "best_value": "Max",
              "name": "AUC"
             },
             {
              "best_value": "Min",
              "name": "Logloss"
             }
            ],
            "test_sets": [
             "test"
            ]
           }
          },
          "passed_iterations": 1999,
          "total_iterations": 2000
         },
         "name": "base",
         "path": "base"
        }
       },
       "layout": "IPY_MODEL_ae11e2a09f63412b8177d303b0a224ee"
      }
     },
     "ae11e2a09f63412b8177d303b0a224ee": {
      "model_module": "@jupyter-widgets/base",
      "model_module_version": "2.0.0",
      "model_name": "LayoutModel",
      "state": {
       "align_self": "stretch",
       "height": "500px"
      }
     }
    },
    "version_major": 2,
    "version_minor": 0
   }
  }
 },
 "nbformat": 4,
 "nbformat_minor": 4
}
