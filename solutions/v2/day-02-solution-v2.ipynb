{
 "cells": [
  {
   "cell_type": "markdown",
   "metadata": {
    "id": "AURT5SuZPc3t"
   },
   "source": [
    "# День 02 – Машинное обучение"
   ]
  },
  {
   "cell_type": "markdown",
   "metadata": {},
   "source": [
    "В начале импортируй библиотеки, которые понадобяться нам в работе."
   ]
  },
  {
   "cell_type": "code",
   "execution_count": 1,
   "metadata": {
    "id": "6MIhopvVPc3y"
   },
   "outputs": [],
   "source": [
    "import pandas as pd\n",
    "import numpy as np\n",
    "\n",
    "import shap\n",
    "import sklearn\n",
    "import catboost\n",
    "\n",
    "import seaborn as sns\n",
    "import matplotlib.pyplot as plt;"
   ]
  },
  {
   "cell_type": "markdown",
   "metadata": {},
   "source": [
    "Если ячейка выше у нас **не запускается**, то скорее всего у нас **не установлена какая-либо библиотека**.  **Чтобы установить библиотеку напиши**:\n",
    "`pip install scikit-learn` или `pip install catboost` или `pip install shap` "
   ]
  },
  {
   "cell_type": "code",
   "execution_count": 2,
   "metadata": {
    "id": "oKKjFRPPPc30"
   },
   "outputs": [],
   "source": [
    "sns.set_style(\"darkgrid\") #у графиков будет красивая серая подложка"
   ]
  },
  {
   "cell_type": "markdown",
   "metadata": {},
   "source": [
    "Давай загрузим наши данные."
   ]
  },
  {
   "cell_type": "markdown",
   "metadata": {},
   "source": [
    "## Загрузка данных"
   ]
  },
  {
   "cell_type": "code",
   "execution_count": 3,
   "metadata": {
    "id": "dxhM1MLjPc31"
   },
   "outputs": [],
   "source": [
    "train = pd.read_csv(\"../../data/v2/day02/dataset_01_06.csv\") # Загружаем данные из csv\n",
    "train = train.set_index(\"client_id\") # Устанавливаем индекс клиента\n",
    "train = train.drop_duplicates() # Убираем дубликаты"
   ]
  },
  {
   "cell_type": "code",
   "execution_count": 4,
   "metadata": {},
   "outputs": [
    {
     "data": {
      "text/html": [
       "<div>\n",
       "<style scoped>\n",
       "    .dataframe tbody tr th:only-of-type {\n",
       "        vertical-align: middle;\n",
       "    }\n",
       "\n",
       "    .dataframe tbody tr th {\n",
       "        vertical-align: top;\n",
       "    }\n",
       "\n",
       "    .dataframe thead th {\n",
       "        text-align: right;\n",
       "    }\n",
       "</style>\n",
       "<table border=\"1\" class=\"dataframe\">\n",
       "  <thead>\n",
       "    <tr style=\"text-align: right;\">\n",
       "      <th></th>\n",
       "      <th>prepay_ind_p1m</th>\n",
       "      <th>latitude_1m</th>\n",
       "      <th>building_type_key_1m</th>\n",
       "      <th>deferred_pay_1m</th>\n",
       "      <th>pay_count_p3m</th>\n",
       "      <th>crm_init_count_d1m</th>\n",
       "      <th>crm_out_count_p3m</th>\n",
       "      <th>prepay_ind_d2m</th>\n",
       "      <th>basic_day_debt_bad_max_d1m</th>\n",
       "      <th>bad_debt_p1m</th>\n",
       "      <th>...</th>\n",
       "      <th>avg_view_genre_dosug_2m</th>\n",
       "      <th>is_multiscreen_p1m</th>\n",
       "      <th>avg_view_other_p1m</th>\n",
       "      <th>count_purchase_1m</th>\n",
       "      <th>avg_view_multi_1m</th>\n",
       "      <th>total_duration_1m</th>\n",
       "      <th>avg_view_adult_1m</th>\n",
       "      <th>avg_view_category_18_d3m</th>\n",
       "      <th>avg_view_tvmarket_p2m</th>\n",
       "      <th>avg_view_category_0_2m</th>\n",
       "    </tr>\n",
       "    <tr>\n",
       "      <th>client_id</th>\n",
       "      <th></th>\n",
       "      <th></th>\n",
       "      <th></th>\n",
       "      <th></th>\n",
       "      <th></th>\n",
       "      <th></th>\n",
       "      <th></th>\n",
       "      <th></th>\n",
       "      <th></th>\n",
       "      <th></th>\n",
       "      <th></th>\n",
       "      <th></th>\n",
       "      <th></th>\n",
       "      <th></th>\n",
       "      <th></th>\n",
       "      <th></th>\n",
       "      <th></th>\n",
       "      <th></th>\n",
       "      <th></th>\n",
       "      <th></th>\n",
       "      <th></th>\n",
       "    </tr>\n",
       "  </thead>\n",
       "  <tbody>\n",
       "    <tr>\n",
       "      <th>161291</th>\n",
       "      <td>0.0</td>\n",
       "      <td>51.363170</td>\n",
       "      <td>377945938.0</td>\n",
       "      <td>1.0</td>\n",
       "      <td>6.0</td>\n",
       "      <td>0.0</td>\n",
       "      <td>0.0</td>\n",
       "      <td>0.0</td>\n",
       "      <td>0.0</td>\n",
       "      <td>0.0</td>\n",
       "      <td>...</td>\n",
       "      <td>0.0</td>\n",
       "      <td>0.0</td>\n",
       "      <td>0.00</td>\n",
       "      <td>0.0</td>\n",
       "      <td>18.37</td>\n",
       "      <td>1470.87</td>\n",
       "      <td>0.0</td>\n",
       "      <td>0.0</td>\n",
       "      <td>0.00</td>\n",
       "      <td>0.0</td>\n",
       "    </tr>\n",
       "    <tr>\n",
       "      <th>87256</th>\n",
       "      <td>0.0</td>\n",
       "      <td>50.547399</td>\n",
       "      <td>377945938.0</td>\n",
       "      <td>NaN</td>\n",
       "      <td>3.0</td>\n",
       "      <td>0.0</td>\n",
       "      <td>0.0</td>\n",
       "      <td>0.0</td>\n",
       "      <td>0.0</td>\n",
       "      <td>0.0</td>\n",
       "      <td>...</td>\n",
       "      <td>NaN</td>\n",
       "      <td>NaN</td>\n",
       "      <td>NaN</td>\n",
       "      <td>NaN</td>\n",
       "      <td>NaN</td>\n",
       "      <td>NaN</td>\n",
       "      <td>NaN</td>\n",
       "      <td>0.0</td>\n",
       "      <td>NaN</td>\n",
       "      <td>NaN</td>\n",
       "    </tr>\n",
       "    <tr>\n",
       "      <th>128419</th>\n",
       "      <td>0.0</td>\n",
       "      <td>51.738616</td>\n",
       "      <td>377945938.0</td>\n",
       "      <td>1.0</td>\n",
       "      <td>8.0</td>\n",
       "      <td>0.0</td>\n",
       "      <td>0.0</td>\n",
       "      <td>0.0</td>\n",
       "      <td>0.0</td>\n",
       "      <td>0.0</td>\n",
       "      <td>...</td>\n",
       "      <td>0.0</td>\n",
       "      <td>0.0</td>\n",
       "      <td>77.63</td>\n",
       "      <td>10.0</td>\n",
       "      <td>88.69</td>\n",
       "      <td>15110.70</td>\n",
       "      <td>0.0</td>\n",
       "      <td>0.0</td>\n",
       "      <td>0.00</td>\n",
       "      <td>0.0</td>\n",
       "    </tr>\n",
       "    <tr>\n",
       "      <th>198395</th>\n",
       "      <td>0.0</td>\n",
       "      <td>50.087963</td>\n",
       "      <td>377945938.0</td>\n",
       "      <td>NaN</td>\n",
       "      <td>3.0</td>\n",
       "      <td>0.0</td>\n",
       "      <td>0.0</td>\n",
       "      <td>0.0</td>\n",
       "      <td>0.0</td>\n",
       "      <td>0.0</td>\n",
       "      <td>...</td>\n",
       "      <td>NaN</td>\n",
       "      <td>NaN</td>\n",
       "      <td>NaN</td>\n",
       "      <td>NaN</td>\n",
       "      <td>NaN</td>\n",
       "      <td>NaN</td>\n",
       "      <td>NaN</td>\n",
       "      <td>0.0</td>\n",
       "      <td>NaN</td>\n",
       "      <td>NaN</td>\n",
       "    </tr>\n",
       "    <tr>\n",
       "      <th>194340</th>\n",
       "      <td>0.0</td>\n",
       "      <td>51.700059</td>\n",
       "      <td>377945938.0</td>\n",
       "      <td>NaN</td>\n",
       "      <td>3.0</td>\n",
       "      <td>0.0</td>\n",
       "      <td>0.0</td>\n",
       "      <td>0.0</td>\n",
       "      <td>0.0</td>\n",
       "      <td>0.0</td>\n",
       "      <td>...</td>\n",
       "      <td>0.0</td>\n",
       "      <td>0.0</td>\n",
       "      <td>0.00</td>\n",
       "      <td>0.0</td>\n",
       "      <td>173.79</td>\n",
       "      <td>7342.57</td>\n",
       "      <td>0.0</td>\n",
       "      <td>0.0</td>\n",
       "      <td>4.67</td>\n",
       "      <td>0.0</td>\n",
       "    </tr>\n",
       "  </tbody>\n",
       "</table>\n",
       "<p>5 rows × 3647 columns</p>\n",
       "</div>"
      ],
      "text/plain": [
       "           prepay_ind_p1m  latitude_1m  building_type_key_1m  deferred_pay_1m  \\\n",
       "client_id                                                                       \n",
       "161291                0.0    51.363170           377945938.0              1.0   \n",
       "87256                 0.0    50.547399           377945938.0              NaN   \n",
       "128419                0.0    51.738616           377945938.0              1.0   \n",
       "198395                0.0    50.087963           377945938.0              NaN   \n",
       "194340                0.0    51.700059           377945938.0              NaN   \n",
       "\n",
       "           pay_count_p3m  crm_init_count_d1m  crm_out_count_p3m  \\\n",
       "client_id                                                         \n",
       "161291               6.0                 0.0                0.0   \n",
       "87256                3.0                 0.0                0.0   \n",
       "128419               8.0                 0.0                0.0   \n",
       "198395               3.0                 0.0                0.0   \n",
       "194340               3.0                 0.0                0.0   \n",
       "\n",
       "           prepay_ind_d2m  basic_day_debt_bad_max_d1m  bad_debt_p1m  ...  \\\n",
       "client_id                                                            ...   \n",
       "161291                0.0                         0.0           0.0  ...   \n",
       "87256                 0.0                         0.0           0.0  ...   \n",
       "128419                0.0                         0.0           0.0  ...   \n",
       "198395                0.0                         0.0           0.0  ...   \n",
       "194340                0.0                         0.0           0.0  ...   \n",
       "\n",
       "           avg_view_genre_dosug_2m  is_multiscreen_p1m  avg_view_other_p1m  \\\n",
       "client_id                                                                    \n",
       "161291                         0.0                 0.0                0.00   \n",
       "87256                          NaN                 NaN                 NaN   \n",
       "128419                         0.0                 0.0               77.63   \n",
       "198395                         NaN                 NaN                 NaN   \n",
       "194340                         0.0                 0.0                0.00   \n",
       "\n",
       "           count_purchase_1m  avg_view_multi_1m  total_duration_1m  \\\n",
       "client_id                                                            \n",
       "161291                   0.0              18.37            1470.87   \n",
       "87256                    NaN                NaN                NaN   \n",
       "128419                  10.0              88.69           15110.70   \n",
       "198395                   NaN                NaN                NaN   \n",
       "194340                   0.0             173.79            7342.57   \n",
       "\n",
       "           avg_view_adult_1m  avg_view_category_18_d3m  avg_view_tvmarket_p2m  \\\n",
       "client_id                                                                       \n",
       "161291                   0.0                       0.0                   0.00   \n",
       "87256                    NaN                       0.0                    NaN   \n",
       "128419                   0.0                       0.0                   0.00   \n",
       "198395                   NaN                       0.0                    NaN   \n",
       "194340                   0.0                       0.0                   4.67   \n",
       "\n",
       "           avg_view_category_0_2m  \n",
       "client_id                          \n",
       "161291                        0.0  \n",
       "87256                         NaN  \n",
       "128419                        0.0  \n",
       "198395                        NaN  \n",
       "194340                        0.0  \n",
       "\n",
       "[5 rows x 3647 columns]"
      ]
     },
     "execution_count": 4,
     "metadata": {},
     "output_type": "execute_result"
    }
   ],
   "source": [
    "train.head(5) # Смотрим первые 5 строк в таблице"
   ]
  },
  {
   "cell_type": "markdown",
   "metadata": {},
   "source": [
    "С помощью метода `.shape`. Можно вывести размерность датасета."
   ]
  },
  {
   "cell_type": "code",
   "execution_count": 5,
   "metadata": {},
   "outputs": [
    {
     "data": {
      "text/plain": [
       "(32092, 3647)"
      ]
     },
     "execution_count": 5,
     "metadata": {},
     "output_type": "execute_result"
    }
   ],
   "source": [
    "train.shape"
   ]
  },
  {
   "cell_type": "markdown",
   "metadata": {},
   "source": [
    "## Утечки данных"
   ]
  },
  {
   "cell_type": "markdown",
   "metadata": {},
   "source": [
    "В наших данных о клиентах есть признаки, которое могут быть *утечками данных*. Утечка данных может привести к \n",
    "созданию чрезмерно оптимистичных, а то и вовсе бесполезных прогнозных моделей. Утечка данных - это когда \n",
    "для создания модели используется информация, которая не будет доступна на этапе эксплуатации модели. Например, такие признаки с приставками `hgid`, `hflat`."
   ]
  },
  {
   "cell_type": "markdown",
   "metadata": {},
   "source": [
    "Для того, чтобы получить признаки c приставками `hgid` воспользуемся кодом ниже:"
   ]
  },
  {
   "cell_type": "code",
   "execution_count": 6,
   "metadata": {},
   "outputs": [],
   "source": [
    "# Из всех колонок возьмем только колонки, которые начинаются с \"hgid\"\n",
    "lick_columns = []\n",
    "lick_columns.extend([col for col in train.columns if col.startswith('hgid')])"
   ]
  },
  {
   "cell_type": "code",
   "execution_count": 7,
   "metadata": {},
   "outputs": [
    {
     "data": {
      "text/plain": [
       "['hgid_hm_1m', 'hgid_1m']"
      ]
     },
     "execution_count": 7,
     "metadata": {},
     "output_type": "execute_result"
    }
   ],
   "source": [
    "lick_columns"
   ]
  },
  {
   "cell_type": "markdown",
   "metadata": {},
   "source": [
    "Теперь в переменной `lick_columns` храняться признаки, которые могут быть утечками в данных. Добавим в этот список признаки с приставкой `hflat`."
   ]
  },
  {
   "cell_type": "code",
   "execution_count": 8,
   "metadata": {},
   "outputs": [],
   "source": [
    "lick_columns.extend([col for col in train.columns if col.startswith('hflat')])"
   ]
  },
  {
   "cell_type": "code",
   "execution_count": 9,
   "metadata": {},
   "outputs": [
    {
     "data": {
      "text/plain": [
       "['hgid_hm_1m', 'hgid_1m', 'hflat_1m']"
      ]
     },
     "execution_count": 9,
     "metadata": {},
     "output_type": "execute_result"
    }
   ],
   "source": [
    "lick_columns"
   ]
  },
  {
   "cell_type": "markdown",
   "metadata": {},
   "source": [
    "## Задание 1"
   ]
  },
  {
   "cell_type": "markdown",
   "metadata": {},
   "source": [
    "Удалите признаки с приставками `charg_inst`, `charg_sale`, `hgid`, `hflat`, `hlid`, а также данные о координатах `latitude_1m` и `longitude_1m`. В удалении признаков вам поможет метод [.drop()](https://pandas.pydata.org/docs/reference/api/pandas.DataFrame.drop.html)\n",
    "\n",
    "Выведи размерность получившейся таблицы"
   ]
  },
  {
   "cell_type": "code",
   "execution_count": 10,
   "metadata": {},
   "outputs": [],
   "source": [
    "lick = [x for x in train.columns if x.startswith('charg_inst') or x.startswith('charg_sale')]"
   ]
  },
  {
   "cell_type": "code",
   "execution_count": 11,
   "metadata": {},
   "outputs": [],
   "source": [
    "lick.extend([_ for _ in train.columns if _.startswith('hgid') or _.startswith('hflat') or _.startswith('hlid')])\n",
    "lick.extend(['latitude_1m', 'longitude_1m'])"
   ]
  },
  {
   "cell_type": "code",
   "execution_count": 12,
   "metadata": {},
   "outputs": [],
   "source": [
    "train = train.drop(columns=lick)"
   ]
  },
  {
   "cell_type": "code",
   "execution_count": 13,
   "metadata": {},
   "outputs": [
    {
     "data": {
      "text/plain": [
       "(32092, 3587)"
      ]
     },
     "execution_count": 13,
     "metadata": {},
     "output_type": "execute_result"
    }
   ],
   "source": [
    "train.shape"
   ]
  },
  {
   "cell_type": "markdown",
   "metadata": {},
   "source": [
    "## Разделение на признаки и предсказываемую величину"
   ]
  },
  {
   "cell_type": "markdown",
   "metadata": {},
   "source": [
    "В машинном обучении, когда мы говорим о разделении на признаки и предсказываемую величину, мы имеем в виду следующее:\n",
    "\n",
    "1. Признаки (features): Это переменные или характеристики, которые используются для прогнозирования. Например, если у нас есть данные о жилье, признаками могут быть количество спален, площадь, район и т.д.\n",
    "\n",
    "2. Предсказываемая величина (target): Это величина, которую мы пытаемся предсказать с помощью модели машинного обучения. В задачах регрессии это может быть непрерывная величина, такая как цена жилья, вес человека и т.д. В задачах классификации это может быть категория или метка, например, \"клиент уйдет\" или \"клиент останется\".\n",
    "\n",
    "При обучении модели машинного обучения мы используем признаки для предсказания целевой переменной. Таким образом, разделение на признаки и предсказываемую величину является важным этапом в подготовке данных для построения модели."
   ]
  },
  {
   "cell_type": "markdown",
   "metadata": {},
   "source": [
    "## Задание 2"
   ]
  },
  {
   "cell_type": "markdown",
   "metadata": {},
   "source": [
    "Теперь разберемся, что в каждой из задач для нас будет являться признаком (Х), а что предсказываемой переменной (Y).\n",
    "\n",
    "Раздели датасет `train` на признаки и предсказываемую величину. Признаки сохрани в переменную `X`, предсказываемую величину в переменную `Y`. Выведи размерность `X` и `Y`."
   ]
  },
  {
   "cell_type": "code",
   "execution_count": 14,
   "metadata": {},
   "outputs": [],
   "source": [
    "Y = train['label']\n",
    "X = train.drop(columns=['label'])"
   ]
  },
  {
   "cell_type": "code",
   "execution_count": 15,
   "metadata": {},
   "outputs": [
    {
     "data": {
      "text/plain": [
       "(32092,)"
      ]
     },
     "execution_count": 15,
     "metadata": {},
     "output_type": "execute_result"
    }
   ],
   "source": [
    "Y.shape"
   ]
  },
  {
   "cell_type": "code",
   "execution_count": 16,
   "metadata": {},
   "outputs": [
    {
     "data": {
      "text/plain": [
       "(32092, 3586)"
      ]
     },
     "execution_count": 16,
     "metadata": {},
     "output_type": "execute_result"
    }
   ],
   "source": [
    "X.shape"
   ]
  },
  {
   "cell_type": "markdown",
   "metadata": {},
   "source": [
    "## Разделение признаков на категориальные и численные"
   ]
  },
  {
   "cell_type": "markdown",
   "metadata": {},
   "source": [
    "Разделение признаков на категориальные и численные важно в контексте подготовки данных для модели машинного обучения по нескольким причинам:\n",
    "\n",
    "1. Обработка данных: Категориальные признаки представляют собой качественные переменные, которые могут принимать ограниченное количество значений (например, цвет, тип жилья и т.д.), в то время как численные признаки представляют собой количественные переменные (например, возраст, цена, площадь и т.д.). Обработка этих двух типов признаков может потребовать различных методов: категориальные признаки могут потребовать кодирования (например, One-Hot Encoding), в то время как численные признаки могут потребовать масштабирования или нормализации.\n",
    "\n",
    "2. Выбор модели: Некоторые модели машинного обучения могут требовать явного указания типа признаков. Например, некоторые модели, такие как деревья решений, могут автоматически обрабатывать категориальные признаки, в то время как другие модели, такие как линейная регрессия, могут требовать предварительного преобразования категориальных признаков в численные.\n",
    "\n",
    "3. Интерпретация результатов: Различные типы признаков могут оказывать разное влияние на модель. Например, при интерпретации коэффициентов в линейной регрессии, численные признаки могут иметь более прямое воздействие на предсказываемую величину, чем категориальные.\n",
    "\n",
    "Таким образом, разделение признаков на категориальные и численные позволяет более эффективно обрабатывать данные и выбирать подходящие методы анализа и моделирования для конкретной задачи машинного обучения."
   ]
  },
  {
   "cell_type": "markdown",
   "metadata": {},
   "source": [
    "## Задание 3"
   ]
  },
  {
   "cell_type": "markdown",
   "metadata": {},
   "source": [
    "Теперь нам потребуется разделить наши признаки на численные и категориальные. В этом нам поможет функция метод [.select_dtypes()](https://pandas.pydata.org/docs/reference/api/pandas.DataFrame.select_dtypes.html). Численные переменные имеют тип `'number'`, а категориальные `'object'`.\n",
    "Численные переменные сохрани в переменную X_num, категориальные в переменную X_cat.\n",
    "\n",
    "Выведи размерность этих таблиц."
   ]
  },
  {
   "cell_type": "code",
   "execution_count": 17,
   "metadata": {},
   "outputs": [],
   "source": [
    "X_cat = X.select_dtypes('object')"
   ]
  },
  {
   "cell_type": "code",
   "execution_count": 18,
   "metadata": {},
   "outputs": [],
   "source": [
    "X_num = X.select_dtypes('number')"
   ]
  },
  {
   "cell_type": "code",
   "execution_count": 19,
   "metadata": {},
   "outputs": [
    {
     "data": {
      "text/plain": [
       "(32092, 8)"
      ]
     },
     "execution_count": 19,
     "metadata": {},
     "output_type": "execute_result"
    }
   ],
   "source": [
    "X_cat.shape"
   ]
  },
  {
   "cell_type": "code",
   "execution_count": 20,
   "metadata": {},
   "outputs": [
    {
     "data": {
      "text/plain": [
       "(32092, 3578)"
      ]
     },
     "execution_count": 20,
     "metadata": {},
     "output_type": "execute_result"
    }
   ],
   "source": [
    "X_num.shape"
   ]
  },
  {
   "cell_type": "markdown",
   "metadata": {},
   "source": [
    "## Задание 4"
   ]
  },
  {
   "cell_type": "markdown",
   "metadata": {},
   "source": [
    "Некоторые алгоритмы машинного обучения чувствительны к пропускам данных, поэтому нам придется заполнить отсутствующие \n",
    "данные чем то заполнить. Воспользуйся методом [.fillna()](https://pandas.pydata.org/docs/reference/api/pandas.DataFrame.fillna.html)\n",
    "для того, чтобы заполнить пропуски в численных признаках значением 0.\n",
    "\n",
    "Затем выполни этот код `X_num.isna().sum().sum()`"
   ]
  },
  {
   "cell_type": "code",
   "execution_count": 21,
   "metadata": {},
   "outputs": [],
   "source": [
    "X_num = X_num.fillna(value=0)"
   ]
  },
  {
   "cell_type": "code",
   "execution_count": 22,
   "metadata": {},
   "outputs": [
    {
     "data": {
      "text/plain": [
       "0"
      ]
     },
     "execution_count": 22,
     "metadata": {},
     "output_type": "execute_result"
    }
   ],
   "source": [
    "X_num.isna().sum().sum()"
   ]
  },
  {
   "cell_type": "markdown",
   "metadata": {},
   "source": [
    "## One-Hot Encoding"
   ]
  },
  {
   "cell_type": "markdown",
   "metadata": {},
   "source": [
    "One-Hot Encoding — это процесс преобразования категориальных (номинальных) признаков в числовой формат. Зачем нам важно применять One-Hot Encoding:\n",
    "\n",
    "1. Совместимость с моделями машинного обучения: Многие алгоритмы машинного обучения требуют, чтобы все данные были числовыми. One-Hot Encoding позволяет преобразовать категориальные данные в форму, которую модели могут использовать для обучения.\n",
    "\n",
    "2. Избежание неявных порядковых отношений: При использовании One-Hot Encoding мы избегаем создания неявных порядковых отношений между категориями. Кодирование категорий числами (например, 1, 2, 3) может ввести модель в заблуждение, будто некоторые категории имеют порядок или значимость.\n",
    "\n",
    "3. Предотвращение \"расстояний\" между категориями: При использовании One-Hot Encoding расстояние между любыми двумя закодированными категориями равно 1. Это помогает избежать неправильных выводов о сходстве или различии между категориями.\n"
   ]
  },
  {
   "cell_type": "markdown",
   "metadata": {},
   "source": [
    "<center><img src=\"../../DSpy02.ID_1421592/misc/images/one-hote-encoding.png\"/>"
   ]
  },
  {
   "cell_type": "markdown",
   "metadata": {},
   "source": [
    "## Задание 5"
   ]
  },
  {
   "cell_type": "markdown",
   "metadata": {},
   "source": [
    "Примени преобразования **One-Hot Encoding** для категориальных признаков. В этом тебе поможешь функция [pd.get_dummies](https://pandas.pydata.org/docs/reference/api/pandas.get_dummies.html)\n",
    "\n",
    "Выведи размерность получившейся таблицы"
   ]
  },
  {
   "cell_type": "code",
   "execution_count": 23,
   "metadata": {},
   "outputs": [],
   "source": [
    "X_cat = pd.get_dummies(X_cat)"
   ]
  },
  {
   "cell_type": "code",
   "execution_count": 24,
   "metadata": {},
   "outputs": [
    {
     "data": {
      "text/plain": [
       "(32092, 24895)"
      ]
     },
     "execution_count": 24,
     "metadata": {},
     "output_type": "execute_result"
    }
   ],
   "source": [
    "X_cat.shape"
   ]
  },
  {
   "cell_type": "markdown",
   "metadata": {},
   "source": [
    "## Задание 6"
   ]
  },
  {
   "cell_type": "markdown",
   "metadata": {},
   "source": [
    "Теперь уже преобразованные части требуется снова объединить в единый датасет. Соедини переменные `X_num` и `X_cat` в переменную `X`. Воспользуйся методом [.merge()](https://pandas.pydata.org/docs/reference/api/pandas.DataFrame.merge.html).\n",
    "Объединение проведи по индексам таблицы.\n",
    "\n",
    "Выведи размерность получившейся таблицы"
   ]
  },
  {
   "cell_type": "code",
   "execution_count": 25,
   "metadata": {},
   "outputs": [],
   "source": [
    "X = X_cat.merge(X_num, left_index=True, right_index=True)"
   ]
  },
  {
   "cell_type": "code",
   "execution_count": 26,
   "metadata": {},
   "outputs": [
    {
     "data": {
      "text/plain": [
       "(32092, 3578)"
      ]
     },
     "execution_count": 26,
     "metadata": {},
     "output_type": "execute_result"
    }
   ],
   "source": [
    "X_num.shape"
   ]
  },
  {
   "cell_type": "code",
   "execution_count": 27,
   "metadata": {},
   "outputs": [
    {
     "data": {
      "text/plain": [
       "(32092, 24895)"
      ]
     },
     "execution_count": 27,
     "metadata": {},
     "output_type": "execute_result"
    }
   ],
   "source": [
    "X_cat.shape"
   ]
  },
  {
   "cell_type": "code",
   "execution_count": 28,
   "metadata": {},
   "outputs": [
    {
     "data": {
      "text/plain": [
       "(32092, 28473)"
      ]
     },
     "execution_count": 28,
     "metadata": {},
     "output_type": "execute_result"
    }
   ],
   "source": [
    "X.shape"
   ]
  },
  {
   "cell_type": "markdown",
   "metadata": {},
   "source": [
    "## Разделение на Train, Test части"
   ]
  },
  {
   "cell_type": "markdown",
   "metadata": {},
   "source": [
    "Разделение на тренировочную и тестовую части является важным шагом при обучении моделей машинного обучения. Этот процесс помогает оценить производительность модели на данных, которые она ранее не видела. Обычно данные разделяются в соотношении 70-80% на тренировочную выборку и 20-30% на тестовую выборку.\n",
    "\n",
    "Разделение на тренировочную и тестовую части помогает избежать переобучения (overfitting) и оценить способность модели к обобщению на новые данные."
   ]
  },
  {
   "cell_type": "markdown",
   "metadata": {},
   "source": [
    "## Задание 7"
   ]
  },
  {
   "cell_type": "markdown",
   "metadata": {},
   "source": [
    "Раздели итоговый датасет на train и test части. В этом поможет функция [train_test_split](https://scikit-learn.org/stable/modules/generated/sklearn.model_selection.train_test_split.html). Разделение проведи с параметрами `test_size=0.2`, `random_state=21`.\n",
    "\n",
    "Выведи размерности переменных `X_train` и `X_test`"
   ]
  },
  {
   "cell_type": "code",
   "execution_count": 29,
   "metadata": {},
   "outputs": [],
   "source": [
    "from sklearn.model_selection import train_test_split"
   ]
  },
  {
   "cell_type": "code",
   "execution_count": 30,
   "metadata": {},
   "outputs": [],
   "source": [
    "X_train, X_test, y_train, y_test = train_test_split(X, Y, test_size=0.2, random_state=21)"
   ]
  },
  {
   "cell_type": "code",
   "execution_count": 31,
   "metadata": {},
   "outputs": [
    {
     "data": {
      "text/plain": [
       "(25673, 28473)"
      ]
     },
     "execution_count": 31,
     "metadata": {},
     "output_type": "execute_result"
    }
   ],
   "source": [
    "X_train.shape"
   ]
  },
  {
   "cell_type": "code",
   "execution_count": 32,
   "metadata": {},
   "outputs": [
    {
     "data": {
      "text/plain": [
       "(6419, 28473)"
      ]
     },
     "execution_count": 32,
     "metadata": {},
     "output_type": "execute_result"
    }
   ],
   "source": [
    "X_test.shape"
   ]
  },
  {
   "cell_type": "markdown",
   "metadata": {},
   "source": [
    "## Обучение модели"
   ]
  },
  {
   "cell_type": "markdown",
   "metadata": {},
   "source": [
    "Теперь у нас все готово для обучения!\n",
    "Мы попробуем обучить модель - градиентный бустинг. Градиентный бустинг — это метод машинного обучения, который используется для построения прогностических моделей, таких как регрессия или классификация. Он основан на идее построения ансамбля слабых моделей, обычно деревьев решений, и объединении их в сильную модель."
   ]
  },
  {
   "cell_type": "markdown",
   "metadata": {},
   "source": [
    "Теперь попробуй использовать алгоритм градиентного бустинга для обучения нашей модели предсказания оттока. Для этого воспользуйся алгоритмом `CatBoostRegressor` из библиотеки `catboost`."
   ]
  },
  {
   "cell_type": "code",
   "execution_count": 33,
   "metadata": {},
   "outputs": [],
   "source": [
    "from catboost import CatBoostClassifier, MetricVisualizer\n",
    "from sklearn.metrics import roc_auc_score, accuracy_score"
   ]
  },
  {
   "cell_type": "code",
   "execution_count": 34,
   "metadata": {},
   "outputs": [
    {
     "name": "stdout",
     "output_type": "stream",
     "text": [
      "Learning rate set to 0.052252\n",
      "0:\ttest: 0.5027181\tbest: 0.5027181 (0)\ttotal: 141ms\tremaining: 4m 41s\n",
      "100:\ttest: 0.6603477\tbest: 0.6603477 (99)\ttotal: 6.54s\tremaining: 2m 2s\n",
      "200:\ttest: 0.6646554\tbest: 0.6650932 (191)\ttotal: 12.8s\tremaining: 1m 54s\n",
      "300:\ttest: 0.6657723\tbest: 0.6664208 (285)\ttotal: 19.2s\tremaining: 1m 48s\n",
      "400:\ttest: 0.6642734\tbest: 0.6664208 (285)\ttotal: 25.3s\tremaining: 1m 40s\n",
      "500:\ttest: 0.6639199\tbest: 0.6664208 (285)\ttotal: 31.2s\tremaining: 1m 33s\n",
      "600:\ttest: 0.6646915\tbest: 0.6664208 (285)\ttotal: 37.1s\tremaining: 1m 26s\n",
      "700:\ttest: 0.6646452\tbest: 0.6664208 (285)\ttotal: 42.9s\tremaining: 1m 19s\n",
      "800:\ttest: 0.6660442\tbest: 0.6664208 (285)\ttotal: 48.6s\tremaining: 1m 12s\n",
      "900:\ttest: 0.6663365\tbest: 0.6664208 (285)\ttotal: 54.3s\tremaining: 1m 6s\n",
      "1000:\ttest: 0.6669388\tbest: 0.6669619 (969)\ttotal: 59.9s\tremaining: 59.8s\n",
      "1100:\ttest: 0.6689360\tbest: 0.6689441 (1078)\ttotal: 1m 5s\tremaining: 53.6s\n",
      "1200:\ttest: 0.6683453\tbest: 0.6693357 (1180)\ttotal: 1m 11s\tremaining: 47.4s\n",
      "1300:\ttest: 0.6698442\tbest: 0.6698482 (1292)\ttotal: 1m 17s\tremaining: 41.4s\n",
      "1400:\ttest: 0.6700562\tbest: 0.6700692 (1375)\ttotal: 1m 23s\tremaining: 35.5s\n",
      "1500:\ttest: 0.6720915\tbest: 0.6720915 (1500)\ttotal: 1m 28s\tremaining: 29.6s\n",
      "1600:\ttest: 0.6737026\tbest: 0.6737039 (1599)\ttotal: 1m 35s\tremaining: 23.7s\n",
      "1700:\ttest: 0.6746270\tbest: 0.6746468 (1669)\ttotal: 1m 41s\tremaining: 17.8s\n",
      "1800:\ttest: 0.6762401\tbest: 0.6762599 (1787)\ttotal: 1m 47s\tremaining: 11.8s\n",
      "1900:\ttest: 0.6776473\tbest: 0.6776473 (1888)\ttotal: 1m 53s\tremaining: 5.89s\n",
      "1999:\ttest: 0.6793678\tbest: 0.6795629 (1978)\ttotal: 1m 58s\tremaining: 0us\n",
      "\n",
      "bestTest = 0.6795628784\n",
      "bestIteration = 1978\n",
      "\n",
      "Shrink model to first 1979 iterations.\n"
     ]
    }
   ],
   "source": [
    "model = CatBoostClassifier(iterations=2000, eval_metric='AUC', train_dir=\"base\").fit(\n",
    "    X_train, \n",
    "    y_train, \n",
    "    verbose=100,\n",
    "    eval_set=(X_test, y_test),\n",
    ")"
   ]
  },
  {
   "cell_type": "markdown",
   "metadata": {},
   "source": [
    "С помощью функции `MetricVisualizer` мы можем визуализировать как обучалась модель."
   ]
  },
  {
   "cell_type": "code",
   "execution_count": 35,
   "metadata": {},
   "outputs": [
    {
     "data": {
      "application/vnd.jupyter.widget-view+json": {
       "model_id": "ea792cb7718e4343a9f8eec56a16c593",
       "version_major": 2,
       "version_minor": 0
      },
      "text/plain": [
       "MetricVisualizer(layout=Layout(align_self='stretch', height='500px'))"
      ]
     },
     "metadata": {},
     "output_type": "display_data"
    }
   ],
   "source": [
    "MetricVisualizer([\"base\"]).start()"
   ]
  },
  {
   "cell_type": "markdown",
   "metadata": {},
   "source": [
    "## Задание 8"
   ]
  },
  {
   "cell_type": "markdown",
   "metadata": {},
   "source": [
    "Рассчитай точность обученной модели. Для этого с помощью метода `.predict(X_test)` сделай предсказание на тестовой \n",
    "выборке `X_test`. Затем передай предсказанные классы и истинные значения оттока в функцию `accuracy_score`. \n",
    "\n",
    "Не подозрительный ли получился результат? Рассчитай долю клиентов, которые **не уйдут**."
   ]
  },
  {
   "cell_type": "code",
   "execution_count": 36,
   "metadata": {},
   "outputs": [],
   "source": [
    "pred = model.predict(X_test)"
   ]
  },
  {
   "cell_type": "code",
   "execution_count": 37,
   "metadata": {},
   "outputs": [
    {
     "data": {
      "text/plain": [
       "0.9630783611154385"
      ]
     },
     "execution_count": 37,
     "metadata": {},
     "output_type": "execute_result"
    }
   ],
   "source": [
    "accuracy_score(y_test, pred)"
   ]
  },
  {
   "cell_type": "code",
   "execution_count": 38,
   "metadata": {},
   "outputs": [
    {
     "data": {
      "text/plain": [
       "0.9629225736095965"
      ]
     },
     "execution_count": 38,
     "metadata": {},
     "output_type": "execute_result"
    }
   ],
   "source": [
    "1 - (y_test.sum() / len(y_test))"
   ]
  },
  {
   "cell_type": "markdown",
   "metadata": {},
   "source": [
    "## Дизбаланс классов"
   ]
  },
  {
   "cell_type": "markdown",
   "metadata": {},
   "source": [
    "При работе с несбалансированными классами использование метрики точности может привести к искаженным результатам оценки производительности модели. При дисбалансе классов модель может быть склонна предсказывать чаще наиболее представленный класс, что приведет к высокой точности для этого класса, но низкой для менее представленного класса. Точность может быть высокой, даже если модель предсказывает только доминирующий класс, игнорируя менее представленный класс. Это может создать ложное впечатление о качестве модели.\n",
    "\n",
    "Для более информативной оценки модели в случае дисбаланса классов рекомендуется использовать другие метрики, такие как ROC AUC, F1-мера, точность и полнота. Эти метрики учитывают как правильность классификации положительных и отрицательных классов, так и способность модели находить все положительные случаи в данных."
   ]
  },
  {
   "cell_type": "markdown",
   "metadata": {},
   "source": [
    "<center><img src=\"../../DSpy02.ID_1421592/misc/images/metrics.png\"/>"
   ]
  },
  {
   "cell_type": "markdown",
   "metadata": {},
   "source": [
    "ROC AUC (Receiver Operating Characteristic Area Under the Curve) — это метрика, которая широко используется для оценки качества бинарной классификации моделей машинного обучения. Вот несколько причин, почему использовать ROC AUC полезно:\n",
    "\n",
    "1. Интерпретируемость: ROC AUC предоставляет понятную интерпретацию качества классификационной модели. Значение ROC AUC находится между 0 и 1, где 1 означает идеальную модель, а 0.5 — модель, которая предсказывает случайно.\n",
    "\n",
    "2. Устойчивость к дисбалансу классов: ROC AUC не зависит от дисбаланса классов в данных, что делает его хорошей метрикой для несбалансированных наборов данных."
   ]
  },
  {
   "cell_type": "markdown",
   "metadata": {},
   "source": [
    "<center><img src=\"../../DSpy02.ID_1421592/misc/images/ROC-AUC.png\"/>"
   ]
  },
  {
   "cell_type": "markdown",
   "metadata": {},
   "source": [
    "## Задание 9"
   ]
  },
  {
   "cell_type": "markdown",
   "metadata": {},
   "source": [
    "Рассчитай метрику ROC-AUC. Для этого с помощью метода `.predict_proba(X_test)[:,1]` сделай предсказание на тестовой \n",
    "выборке `X_test`. Затем передай вероятности класса и истинные значения оттока в функцию `roc_auc_score`. "
   ]
  },
  {
   "cell_type": "code",
   "execution_count": 39,
   "metadata": {},
   "outputs": [],
   "source": [
    "proba = model.predict_proba(X_test)[:,1]"
   ]
  },
  {
   "cell_type": "code",
   "execution_count": 40,
   "metadata": {},
   "outputs": [
    {
     "data": {
      "text/plain": [
       "0.6795628783789847"
      ]
     },
     "execution_count": 40,
     "metadata": {},
     "output_type": "execute_result"
    }
   ],
   "source": [
    "roc_auc_score(y_test, proba)"
   ]
  }
 ],
 "metadata": {
  "colab": {
   "collapsed_sections": [
    "KPtcdkJ3Pc4I"
   ],
   "name": "d02_task.ipynb",
   "provenance": []
  },
  "kernelspec": {
   "display_name": "Python 3 (ipykernel)",
   "language": "python",
   "name": "python3"
  },
  "language_info": {
   "codemirror_mode": {
    "name": "ipython",
    "version": 3
   },
   "file_extension": ".py",
   "mimetype": "text/x-python",
   "name": "python",
   "nbconvert_exporter": "python",
   "pygments_lexer": "ipython3",
   "version": "3.9.6"
  },
  "widgets": {
   "application/vnd.jupyter.widget-state+json": {
    "state": {
     "ea792cb7718e4343a9f8eec56a16c593": {
      "model_module": "catboost-widget",
      "model_module_version": "^1.0.0",
      "model_name": "CatboostWidgetModel",
      "state": {
       "_model_module_version": "^1.0.0",
       "_view_module_version": "^1.0.0",
       "data": {
        "base": {
         "content": {
          "data": {
           "iterations": [
            {
             "iteration": 0,
             "learn": [
              0.6162718497
             ],
             "passed_time": 0.1405998364,
             "remaining_time": 281.0590729,
             "test": [
              0.5027180748,
              0.6167158038
             ]
            },
            {
             "iteration": 1,
             "learn": [
              0.550211951
             ],
             "passed_time": 0.2030517132,
             "remaining_time": 202.8486615,
             "test": [
              0.5435160474,
              0.5509068605
             ]
            },
            {
             "iteration": 2,
             "learn": [
              0.4937968226
             ],
             "passed_time": 0.2601822859,
             "remaining_time": 173.194675,
             "test": [
              0.5400879491,
              0.4947463726
             ]
            },
            {
             "iteration": 3,
             "learn": [
              0.4455308829
             ],
             "passed_time": 0.3178603513,
             "remaining_time": 158.6123153,
             "test": [
              0.5541354707,
              0.4467276657
             ]
            },
            {
             "iteration": 4,
             "learn": [
              0.4044797404
             ],
             "passed_time": 0.435552951,
             "remaining_time": 173.7856274,
             "test": [
              0.5557444949,
              0.4059230266
             ]
            },
            {
             "iteration": 5,
             "learn": [
              0.3693711327
             ],
             "passed_time": 0.5090236811,
             "remaining_time": 169.1655367,
             "test": [
              0.5575438556,
              0.3711016924
             ]
            },
            {
             "iteration": 6,
             "learn": [
              0.3394595386
             ],
             "passed_time": 0.5714663914,
             "remaining_time": 162.7046454,
             "test": [
              0.5629558732,
              0.3414359722
             ]
            },
            {
             "iteration": 7,
             "learn": [
              0.3135981959
             ],
             "passed_time": 0.6453942405,
             "remaining_time": 160.7031659,
             "test": [
              0.5679212795,
              0.3158125456
             ]
            },
            {
             "iteration": 8,
             "learn": [
              0.2916623239
             ],
             "passed_time": 0.7409021355,
             "remaining_time": 163.9040169,
             "test": [
              0.558215132,
              0.2941383283
             ]
            },
            {
             "iteration": 9,
             "learn": [
              0.2728908614
             ],
             "passed_time": 0.8028619772,
             "remaining_time": 159.7695335,
             "test": [
              0.5609930269,
              0.2755841921
             ]
            },
            {
             "iteration": 10,
             "learn": [
              0.2566118395
             ],
             "passed_time": 0.8650201913,
             "remaining_time": 156.4113782,
             "test": [
              0.5714955291,
              0.2595503908
             ]
            },
            {
             "iteration": 11,
             "learn": [
              0.2428002408
             ],
             "passed_time": 0.9252693058,
             "remaining_time": 153.2862817,
             "test": [
              0.5736616277,
              0.245950924
             ]
            },
            {
             "iteration": 12,
             "learn": [
              0.2309579857
             ],
             "passed_time": 0.9838556091,
             "remaining_time": 150.3785458,
             "test": [
              0.5753114383,
              0.2343117258
             ]
            },
            {
             "iteration": 13,
             "learn": [
              0.2206339986
             ],
             "passed_time": 1.044011433,
             "remaining_time": 148.100479,
             "test": [
              0.5783214758,
              0.2241970403
             ]
            },
            {
             "iteration": 14,
             "learn": [
              0.2118799186
             ],
             "passed_time": 1.102337282,
             "remaining_time": 145.8759669,
             "test": [
              0.5794927257,
              0.2155955466
             ]
            },
            {
             "iteration": 15,
             "learn": [
              0.2039035152
             ],
             "passed_time": 1.166478886,
             "remaining_time": 144.6433819,
             "test": [
              0.5906671842,
              0.2078667427
             ]
            },
            {
             "iteration": 16,
             "learn": [
              0.1972898863
             ],
             "passed_time": 1.23179985,
             "remaining_time": 143.6858295,
             "test": [
              0.5940568753,
              0.2013781114
             ]
            },
            {
             "iteration": 17,
             "learn": [
              0.1916148656
             ],
             "passed_time": 1.292301211,
             "remaining_time": 142.2967222,
             "test": [
              0.6011472539,
              0.1958375271
             ]
            },
            {
             "iteration": 18,
             "learn": [
              0.1866672243
             ],
             "passed_time": 1.350867389,
             "remaining_time": 140.8456999,
             "test": [
              0.6002655875,
              0.19103669
             ]
            },
            {
             "iteration": 19,
             "learn": [
              0.182318256
             ],
             "passed_time": 1.416095813,
             "remaining_time": 140.1934854,
             "test": [
              0.5977188157,
              0.186799002
             ]
            },
            {
             "iteration": 20,
             "learn": [
              0.1783178795
             ],
             "passed_time": 1.482421013,
             "remaining_time": 139.7005326,
             "test": [
              0.5952505578,
              0.1830182892
             ]
            },
            {
             "iteration": 21,
             "learn": [
              0.175021066
             ],
             "passed_time": 1.538950927,
             "remaining_time": 138.3656788,
             "test": [
              0.5973017746,
              0.1798398598
             ]
            },
            {
             "iteration": 22,
             "learn": [
              0.1718286343
             ],
             "passed_time": 1.602644912,
             "remaining_time": 137.7577822,
             "test": [
              0.6022481473,
              0.1767788085
             ]
            },
            {
             "iteration": 23,
             "learn": [
              0.1692271304
             ],
             "passed_time": 1.662348076,
             "remaining_time": 136.8666582,
             "test": [
              0.6007842548,
              0.1743554846
             ]
            },
            {
             "iteration": 24,
             "learn": [
              0.1669277274
             ],
             "passed_time": 1.723438221,
             "remaining_time": 136.1516194,
             "test": [
              0.5995837746,
              0.1722016544
             ]
            },
            {
             "iteration": 25,
             "learn": [
              0.1646558645
             ],
             "passed_time": 1.783335923,
             "remaining_time": 135.3963505,
             "test": [
              0.5978268997,
              0.1701443278
             ]
            },
            {
             "iteration": 26,
             "learn": [
              0.1628273989
             ],
             "passed_time": 1.846715038,
             "remaining_time": 134.9469914,
             "test": [
              0.5950102578,
              0.1684708747
             ]
            },
            {
             "iteration": 27,
             "learn": [
              0.1611493812
             ],
             "passed_time": 1.906472575,
             "remaining_time": 134.2701399,
             "test": [
              0.5948498312,
              0.1668876783
             ]
            },
            {
             "iteration": 28,
             "learn": [
              0.1596920539
             ],
             "passed_time": 1.966447693,
             "remaining_time": 133.6506346,
             "test": [
              0.5946214273,
              0.165633535
             ]
            },
            {
             "iteration": 29,
             "learn": [
              0.1584440205
             ],
             "passed_time": 2.036256264,
             "remaining_time": 133.7141613,
             "test": [
              0.5952209876,
              0.164515521
             ]
            },
            {
             "iteration": 30,
             "learn": [
              0.1571744826
             ],
             "passed_time": 2.10003529,
             "remaining_time": 133.3861124,
             "test": [
              0.590112149,
              0.1634368218
             ]
            },
            {
             "iteration": 31,
             "learn": [
              0.1560591141
             ],
             "passed_time": 2.162191046,
             "remaining_time": 132.9747493,
             "test": [
              0.5905767743,
              0.1625672396
             ]
            },
            {
             "iteration": 32,
             "learn": [
              0.1551051477
             ],
             "passed_time": 2.223798142,
             "remaining_time": 132.5518468,
             "test": [
              0.5872601589,
              0.161842463
             ]
            },
            {
             "iteration": 33,
             "learn": [
              0.1542052973
             ],
             "passed_time": 2.288048703,
             "remaining_time": 132.3030515,
             "test": [
              0.5867768398,
              0.1610999938
             ]
            },
            {
             "iteration": 34,
             "learn": [
              0.1533603963
             ],
             "passed_time": 2.347522786,
             "remaining_time": 131.7966364,
             "test": [
              0.5845832104,
              0.1604579048
             ]
            },
            {
             "iteration": 35,
             "learn": [
              0.152665943
             ],
             "passed_time": 2.407080868,
             "remaining_time": 131.319634,
             "test": [
              0.5878434046,
              0.1598950011
             ]
            },
            {
             "iteration": 36,
             "learn": [
              0.1520104108
             ],
             "passed_time": 2.468668507,
             "remaining_time": 130.9728724,
             "test": [
              0.5912881574,
              0.1593958038
             ]
            },
            {
             "iteration": 37,
             "learn": [
              0.151409789
             ],
             "passed_time": 2.531499504,
             "remaining_time": 130.7053165,
             "test": [
              0.5912137222,
              0.1589590158
             ]
            },
            {
             "iteration": 38,
             "learn": [
              0.1508683771
             ],
             "passed_time": 2.590262179,
             "remaining_time": 130.2436957,
             "test": [
              0.5964432205,
              0.1585713643
             ]
            },
            {
             "iteration": 39,
             "learn": [
              0.1503546002
             ],
             "passed_time": 2.659431967,
             "remaining_time": 130.3121664,
             "test": [
              0.596192724,
              0.1582324385
             ]
            },
            {
             "iteration": 40,
             "learn": [
              0.1497665349
             ],
             "passed_time": 2.725040177,
             "remaining_time": 130.2037489,
             "test": [
              0.5955156695,
              0.1578656778
             ]
            },
            {
             "iteration": 41,
             "learn": [
              0.1492704896
             ],
             "passed_time": 2.793519557,
             "remaining_time": 130.2312212,
             "test": [
              0.5955958827,
              0.1575380198
             ]
            },
            {
             "iteration": 42,
             "learn": [
              0.1489017362
             ],
             "passed_time": 2.850468507,
             "remaining_time": 129.729462,
             "test": [
              0.6008818023,
              0.1572379598
             ]
            },
            {
             "iteration": 43,
             "learn": [
              0.1484871799
             ],
             "passed_time": 2.908481651,
             "remaining_time": 129.2952298,
             "test": [
              0.5982082527,
              0.1570154373
             ]
            },
            {
             "iteration": 44,
             "learn": [
              0.148127177
             ],
             "passed_time": 2.971554561,
             "remaining_time": 129.097537,
             "test": [
              0.6025999301,
              0.1567419128
             ]
            },
            {
             "iteration": 45,
             "learn": [
              0.1477721997
             ],
             "passed_time": 3.041975915,
             "remaining_time": 129.2178465,
             "test": [
              0.6028093004,
              0.1564962477
             ]
            },
            {
             "iteration": 46,
             "learn": [
              0.1474567508
             ],
             "passed_time": 3.126930784,
             "remaining_time": 129.9339537,
             "test": [
              0.6057775319,
              0.1562671292
             ]
            },
            {
             "iteration": 47,
             "learn": [
              0.1471399994
             ],
             "passed_time": 3.190565062,
             "remaining_time": 129.7496459,
             "test": [
              0.6048622167,
              0.1561078651
             ]
            },
            {
             "iteration": 48,
             "learn": [
              0.1469033453
             ],
             "passed_time": 3.250173102,
             "remaining_time": 129.4099535,
             "test": [
              0.6061592247,
              0.1559159172
             ]
            },
            {
             "iteration": 49,
             "learn": [
              0.1465951234
             ],
             "passed_time": 3.319106642,
             "remaining_time": 129.445159,
             "test": [
              0.6222875334,
              0.1556034998
             ]
            },
            {
             "iteration": 50,
             "learn": [
              0.1463426506
             ],
             "passed_time": 3.379118385,
             "remaining_time": 129.1353281,
             "test": [
              0.6235192831,
              0.1554521791
             ]
            },
            {
             "iteration": 51,
             "learn": [
              0.1461117927
             ],
             "passed_time": 3.438138932,
             "remaining_time": 128.7979739,
             "test": [
              0.6262975179,
              0.1552754206
             ]
            },
            {
             "iteration": 52,
             "learn": [
              0.1458902384
             ],
             "passed_time": 3.500459519,
             "remaining_time": 128.5923525,
             "test": [
              0.6254240088,
              0.1551805735
             ]
            },
            {
             "iteration": 53,
             "learn": [
              0.1456944385
             ],
             "passed_time": 3.561076629,
             "remaining_time": 128.3306504,
             "test": [
              0.6254763514,
              0.1550545686
             ]
            },
            {
             "iteration": 54,
             "learn": [
              0.1453229476
             ],
             "passed_time": 3.629300137,
             "remaining_time": 128.3452503,
             "test": [
              0.63232643,
              0.1547316621
             ]
            },
            {
             "iteration": 55,
             "learn": [
              0.1450678486
             ],
             "passed_time": 3.696214955,
             "remaining_time": 128.311462,
             "test": [
              0.6323373064,
              0.1545026463
             ]
            },
            {
             "iteration": 56,
             "learn": [
              0.1448171154
             ],
             "passed_time": 3.7610663,
             "remaining_time": 128.2061723,
             "test": [
              0.6395554824,
              0.154320809
             ]
            },
            {
             "iteration": 57,
             "learn": [
              0.1445697333
             ],
             "passed_time": 3.828031991,
             "remaining_time": 128.1730712,
             "test": [
              0.6420896785,
              0.1541280276
             ]
            },
            {
             "iteration": 58,
             "learn": [
              0.1444034085
             ],
             "passed_time": 3.88637084,
             "remaining_time": 127.8550136,
             "test": [
              0.6424465596,
              0.1541208539
             ]
            },
            {
             "iteration": 59,
             "learn": [
              0.1441481101
             ],
             "passed_time": 3.948616427,
             "remaining_time": 127.6719312,
             "test": [
              0.6434495656,
              0.1540757934
             ]
            },
            {
             "iteration": 60,
             "learn": [
              0.1439531365
             ],
             "passed_time": 4.090813159,
             "remaining_time": 130.0342085,
             "test": [
              0.6441456537,
              0.1539282074
             ]
            },
            {
             "iteration": 61,
             "learn": [
              0.1438191357
             ],
             "passed_time": 4.151419727,
             "remaining_time": 129.7653457,
             "test": [
              0.6440994291,
              0.153898235
             ]
            },
            {
             "iteration": 62,
             "learn": [
              0.1437227564
             ],
             "passed_time": 4.215369793,
             "remaining_time": 129.6058935,
             "test": [
              0.6440314518,
              0.1538533004
             ]
            },
            {
             "iteration": 63,
             "learn": [
              0.1436024219
             ],
             "passed_time": 4.277898252,
             "remaining_time": 129.4064221,
             "test": [
              0.644108946,
              0.1538458277
             ]
            },
            {
             "iteration": 64,
             "learn": [
              0.1434330404
             ],
             "passed_time": 4.338366905,
             "remaining_time": 129.1498456,
             "test": [
              0.6439825081,
              0.1538082729
             ]
            },
            {
             "iteration": 65,
             "learn": [
              0.1433954437
             ],
             "passed_time": 4.39492236,
             "remaining_time": 128.7845431,
             "test": [
              0.6439825081,
              0.1538064397
             ]
            },
            {
             "iteration": 66,
             "learn": [
              0.1432970126
             ],
             "passed_time": 4.452918213,
             "remaining_time": 128.4700135,
             "test": [
              0.644469226,
              0.1536776323
             ]
            },
            {
             "iteration": 67,
             "learn": [
              0.1431712665
             ],
             "passed_time": 4.518634797,
             "remaining_time": 128.3823886,
             "test": [
              0.6468480937,
              0.1536284961
             ]
            },
            {
             "iteration": 68,
             "learn": [
              0.1431184239
             ],
             "passed_time": 4.574512011,
             "remaining_time": 128.020039,
             "test": [
              0.6470397899,
              0.1536219722
             ]
            },
            {
             "iteration": 69,
             "learn": [
              0.1430601383
             ],
             "passed_time": 4.630697221,
             "remaining_time": 127.6749377,
             "test": [
              0.6472444017,
              0.1536113543
             ]
            },
            {
             "iteration": 70,
             "learn": [
              0.1429634131
             ],
             "passed_time": 4.690436967,
             "remaining_time": 127.434548,
             "test": [
              0.6471230621,
              0.1535671101
             ]
            },
            {
             "iteration": 71,
             "learn": [
              0.1429184197
             ],
             "passed_time": 4.746909591,
             "remaining_time": 127.1116901,
             "test": [
              0.6470469275,
              0.1535675156
             ]
            },
            {
             "iteration": 72,
             "learn": [
              0.1428391494
             ],
             "passed_time": 4.809990209,
             "remaining_time": 126.9705635,
             "test": [
              0.6467403496,
              0.153582899
             ]
            },
            {
             "iteration": 73,
             "learn": [
              0.1425493144
             ],
             "passed_time": 4.879316953,
             "remaining_time": 126.9941142,
             "test": [
              0.6565297693,
              0.1533072577
             ]
            },
            {
             "iteration": 74,
             "learn": [
              0.1425076632
             ],
             "passed_time": 4.934116348,
             "remaining_time": 126.6423196,
             "test": [
              0.6564583931,
              0.1533124662
             ]
            },
            {
             "iteration": 75,
             "learn": [
              0.1424178271
             ],
             "passed_time": 4.99094455,
             "remaining_time": 126.3497015,
             "test": [
              0.6554924348,
              0.1532506902
             ]
            },
            {
             "iteration": 76,
             "learn": [
              0.1422756747
             ],
             "passed_time": 5.053826713,
             "remaining_time": 126.2143996,
             "test": [
              0.654942498,
              0.153288275
             ]
            },
            {
             "iteration": 77,
             "learn": [
              0.1422473523
             ],
             "passed_time": 5.111179241,
             "remaining_time": 125.9446987,
             "test": [
              0.6550825313,
              0.1532932465
             ]
            },
            {
             "iteration": 78,
             "learn": [
              0.1422121449
             ],
             "passed_time": 5.167420242,
             "remaining_time": 125.6533454,
             "test": [
              0.6550859302,
              0.1532940482
             ]
            },
            {
             "iteration": 79,
             "learn": [
              0.1420599251
             ],
             "passed_time": 5.231920716,
             "remaining_time": 125.5660972,
             "test": [
              0.6572795596,
              0.1531556823
             ]
            },
            {
             "iteration": 80,
             "learn": [
              0.141984133
             ],
             "passed_time": 5.289810862,
             "remaining_time": 125.322803,
             "test": [
              0.6572278968,
              0.1531019667
             ]
            },
            {
             "iteration": 81,
             "learn": [
              0.1418452571
             ],
             "passed_time": 5.354720081,
             "remaining_time": 125.2482087,
             "test": [
              0.6574624187,
              0.15301543
             ]
            },
            {
             "iteration": 82,
             "learn": [
              0.1418126825
             ],
             "passed_time": 5.409467061,
             "remaining_time": 124.9391368,
             "test": [
              0.6578947547,
              0.1529987795
             ]
            },
            {
             "iteration": 83,
             "learn": [
              0.1417900662
             ],
             "passed_time": 5.465108862,
             "remaining_time": 124.6565307,
             "test": [
              0.6579158277,
              0.1530049251
             ]
            },
            {
             "iteration": 84,
             "learn": [
              0.1416574215
             ],
             "passed_time": 5.545541041,
             "remaining_time": 124.9377776,
             "test": [
              0.6564801459,
              0.1529435586
             ]
            },
            {
             "iteration": 85,
             "learn": [
              0.1416160286
             ],
             "passed_time": 5.610726215,
             "remaining_time": 124.8712788,
             "test": [
              0.6564801459,
              0.1529457394
             ]
            },
            {
             "iteration": 86,
             "learn": [
              0.1415858179
             ],
             "passed_time": 5.67988321,
             "remaining_time": 124.8921446,
             "test": [
              0.6564019719,
              0.1529490743
             ]
            },
            {
             "iteration": 87,
             "learn": [
              0.1415575828
             ],
             "passed_time": 5.755215041,
             "remaining_time": 125.0451268,
             "test": [
              0.656485584,
              0.1529513699
             ]
            },
            {
             "iteration": 88,
             "learn": [
              0.1415226972
             ],
             "passed_time": 5.816467059,
             "remaining_time": 124.8906579,
             "test": [
              0.656485584,
              0.1529532668
             ]
            },
            {
             "iteration": 89,
             "learn": [
              0.1415002685
             ],
             "passed_time": 5.878281694,
             "remaining_time": 124.7502004,
             "test": [
              0.656485584,
              0.1529548699
             ]
            },
            {
             "iteration": 90,
             "learn": [
              0.1414675427
             ],
             "passed_time": 5.934683818,
             "remaining_time": 124.4979276,
             "test": [
              0.656485584,
              0.1529566689
             ]
            },
            {
             "iteration": 91,
             "learn": [
              0.1414400284
             ],
             "passed_time": 5.99151552,
             "remaining_time": 124.2588219,
             "test": [
              0.6564787863,
              0.1529585871
             ]
            },
            {
             "iteration": 92,
             "learn": [
              0.1414153251
             ],
             "passed_time": 6.049981366,
             "remaining_time": 124.0571448,
             "test": [
              0.6563543877,
              0.1529618205
             ]
            },
            {
             "iteration": 93,
             "learn": [
              0.1413794923
             ],
             "passed_time": 6.107913762,
             "remaining_time": 123.8476982,
             "test": [
              0.6562197926,
              0.1529633281
             ]
            },
            {
             "iteration": 94,
             "learn": [
              0.1413474736
             ],
             "passed_time": 6.170491303,
             "remaining_time": 123.7345888,
             "test": [
              0.6562197926,
              0.1529648944
             ]
            },
            {
             "iteration": 95,
             "learn": [
              0.1413194059
             ],
             "passed_time": 6.232754099,
             "remaining_time": 123.6162896,
             "test": [
              0.6562592194,
              0.152964987
             ]
            },
            {
             "iteration": 96,
             "learn": [
              0.1412913337
             ],
             "passed_time": 6.290321125,
             "remaining_time": 123.4070217,
             "test": [
              0.6562558206,
              0.1529661425
             ]
            },
            {
             "iteration": 97,
             "learn": [
              0.1412596175
             ],
             "passed_time": 6.346415169,
             "remaining_time": 123.1722618,
             "test": [
              0.6562558206,
              0.1529675433
             ]
            },
            {
             "iteration": 98,
             "learn": [
              0.1412272935
             ],
             "passed_time": 6.408245013,
             "remaining_time": 123.0512502,
             "test": [
              0.6562442644,
              0.1529691232
             ]
            },
            {
             "iteration": 99,
             "learn": [
              0.1409288041
             ],
             "passed_time": 6.477574715,
             "remaining_time": 123.0739196,
             "test": [
              0.6603477178,
              0.1527961216
             ]
            },
            {
             "iteration": 100,
             "learn": [
              0.140897684
             ],
             "passed_time": 6.535002867,
             "remaining_time": 122.8709945,
             "test": [
              0.6603477178,
              0.1527969822
             ]
            },
            {
             "iteration": 101,
             "learn": [
              0.1408669724
             ],
             "passed_time": 6.591713362,
             "remaining_time": 122.6575682,
             "test": [
              0.6603477178,
              0.1527978449
             ]
            },
            {
             "iteration": 102,
             "learn": [
              0.1408345934
             ],
             "passed_time": 6.656940952,
             "remaining_time": 122.6040484,
             "test": [
              0.6603749087,
              0.1527965075
             ]
            },
            {
             "iteration": 103,
             "learn": [
              0.1408076125
             ],
             "passed_time": 6.724198265,
             "remaining_time": 122.5873068,
             "test": [
              0.6604170547,
              0.1527934225
             ]
            },
            {
             "iteration": 104,
             "learn": [
              0.1407773963
             ],
             "passed_time": 6.795174611,
             "remaining_time": 122.6367227,
             "test": [
              0.660374229,
              0.1527948152
             ]
            },
            {
             "iteration": 105,
             "learn": [
              0.1407450868
             ],
             "passed_time": 6.858343104,
             "remaining_time": 122.544357,
             "test": [
              0.660374229,
              0.1527955564
             ]
            },
            {
             "iteration": 106,
             "learn": [
              0.1407194643
             ],
             "passed_time": 6.922067422,
             "remaining_time": 122.4623704,
             "test": [
              0.6603633526,
              0.1527953956
             ]
            },
            {
             "iteration": 107,
             "learn": [
              0.1406923808
             ],
             "passed_time": 6.985110166,
             "remaining_time": 122.3687818,
             "test": [
              0.6602722629,
              0.1527944287
             ]
            },
            {
             "iteration": 108,
             "learn": [
              0.1406673735
             ],
             "passed_time": 7.047258088,
             "remaining_time": 122.2602298,
             "test": [
              0.6602430327,
              0.1527964541
             ]
            },
            {
             "iteration": 109,
             "learn": [
              0.1406420061
             ],
             "passed_time": 7.103896543,
             "remaining_time": 122.0578588,
             "test": [
              0.6602335158,
              0.1527974762
             ]
            },
            {
             "iteration": 110,
             "learn": [
              0.1406096817
             ],
             "passed_time": 7.159342763,
             "remaining_time": 121.8378241,
             "test": [
              0.6602335158,
              0.152798105
             ]
            },
            {
             "iteration": 111,
             "learn": [
              0.1405772939
             ],
             "passed_time": 7.21752253,
             "remaining_time": 121.6668084,
             "test": [
              0.6602335158,
              0.1527987076
             ]
            },
            {
             "iteration": 112,
             "learn": [
              0.1405482731
             ],
             "passed_time": 7.284169809,
             "remaining_time": 121.6391896,
             "test": [
              0.6603477178,
              0.1528027867
             ]
            },
            {
             "iteration": 113,
             "learn": [
              0.1405175091
             ],
             "passed_time": 7.348974321,
             "remaining_time": 121.5803997,
             "test": [
              0.6602260383,
              0.1528056082
             ]
            },
            {
             "iteration": 114,
             "learn": [
              0.1404780009
             ],
             "passed_time": 7.413488337,
             "remaining_time": 121.5167436,
             "test": [
              0.6602980943,
              0.1528049052
             ]
            },
            {
             "iteration": 115,
             "learn": [
              0.1404527479
             ],
             "passed_time": 7.475913089,
             "remaining_time": 121.4191402,
             "test": [
              0.66031101,
              0.1528049169
             ]
            },
            {
             "iteration": 116,
             "learn": [
              0.1404282799
             ],
             "passed_time": 7.538694129,
             "remaining_time": 121.3278722,
             "test": [
              0.66031101,
              0.1528052679
             ]
            },
            {
             "iteration": 117,
             "learn": [
              0.1404014111
             ],
             "passed_time": 7.604603584,
             "remaining_time": 121.2869826,
             "test": [
              0.6603341223,
              0.152804583
             ]
            },
            {
             "iteration": 118,
             "learn": [
              0.1403752025
             ],
             "passed_time": 7.672838759,
             "remaining_time": 121.2824345,
             "test": [
              0.6603432993,
              0.152804912
             ]
            },
            {
             "iteration": 119,
             "learn": [
              0.1403452076
             ],
             "passed_time": 7.731597602,
             "remaining_time": 121.1283624,
             "test": [
              0.6603432993,
              0.1528053726
             ]
            },
            {
             "iteration": 120,
             "learn": [
              0.1403135006
             ],
             "passed_time": 7.792170629,
             "remaining_time": 121.0040381,
             "test": [
              0.6603283442,
              0.1528067999
             ]
            },
            {
             "iteration": 121,
             "learn": [
              0.1402888454
             ],
             "passed_time": 7.849023039,
             "remaining_time": 120.8234858,
             "test": [
              0.6603283442,
              0.1528070815
             ]
            },
            {
             "iteration": 122,
             "learn": [
              0.1402594732
             ],
             "passed_time": 7.906075821,
             "remaining_time": 120.6480026,
             "test": [
              0.6602787208,
              0.1528081979
             ]
            },
            {
             "iteration": 123,
             "learn": [
              0.1401929112
             ],
             "passed_time": 7.963474556,
             "remaining_time": 120.4796634,
             "test": [
              0.6599408733,
              0.1527259273
             ]
            },
            {
             "iteration": 124,
             "learn": [
              0.1401611966
             ],
             "passed_time": 8.02078246,
             "remaining_time": 120.3117369,
             "test": [
              0.6599143621,
              0.1527271575
             ]
            },
            {
             "iteration": 125,
             "learn": [
              0.1401295274
             ],
             "passed_time": 8.077133668,
             "remaining_time": 120.1313373,
             "test": [
              0.6598994071,
              0.1527284958
             ]
            },
            {
             "iteration": 126,
             "learn": [
              0.1400981808
             ],
             "passed_time": 8.136986455,
             "remaining_time": 120.0045325,
             "test": [
              0.6598994071,
              0.152728834
             ]
            },
            {
             "iteration": 127,
             "learn": [
              0.1400662175
             ],
             "passed_time": 8.195175013,
             "remaining_time": 119.8544346,
             "test": [
              0.6598994071,
              0.1527291639
             ]
            },
            {
             "iteration": 128,
             "learn": [
              0.1399484732
             ],
             "passed_time": 8.266597521,
             "remaining_time": 119.8977051,
             "test": [
              0.6595703967,
              0.1527084656
             ]
            },
            {
             "iteration": 129,
             "learn": [
              0.1399222844
             ],
             "passed_time": 8.323150601,
             "remaining_time": 119.7253202,
             "test": [
              0.6595737955,
              0.1527081818
             ]
            },
            {
             "iteration": 130,
             "learn": [
              0.1398910026
             ],
             "passed_time": 8.380523462,
             "remaining_time": 119.5663996,
             "test": [
              0.6595737955,
              0.1527083839
             ]
            },
            {
             "iteration": 131,
             "learn": [
              0.1398653302
             ],
             "passed_time": 8.438276485,
             "remaining_time": 119.4143975,
             "test": [
              0.6595765146,
              0.1527083391
             ]
            },
            {
             "iteration": 132,
             "learn": [
              0.1398335615
             ],
             "passed_time": 8.494670401,
             "remaining_time": 119.2447341,
             "test": [
              0.6595765146,
              0.1527085418
             ]
            },
            {
             "iteration": 133,
             "learn": [
              0.1397847788
             ],
             "passed_time": 8.557373732,
             "remaining_time": 119.1646223,
             "test": [
              0.6605948155,
              0.1526967697
             ]
            },
            {
             "iteration": 134,
             "learn": [
              0.1397537155
             ],
             "passed_time": 8.618821706,
             "remaining_time": 119.0674258,
             "test": [
              0.6605261584,
              0.1526984575
             ]
            },
            {
             "iteration": 135,
             "learn": [
              0.1395952215
             ],
             "passed_time": 8.683332389,
             "remaining_time": 119.0127322,
             "test": [
              0.6604806135,
              0.1526787721
             ]
            },
            {
             "iteration": 136,
             "learn": [
              0.1395681633
             ],
             "passed_time": 8.741223618,
             "remaining_time": 118.8678803,
             "test": [
              0.6604187541,
              0.1526787866
             ]
            },
            {
             "iteration": 137,
             "learn": [
              0.1395369076
             ],
             "passed_time": 8.796560256,
             "remaining_time": 118.6898203,
             "test": [
              0.6604187541,
              0.1526788051
             ]
            },
            {
             "iteration": 138,
             "learn": [
              0.1395063729
             ],
             "passed_time": 8.851805312,
             "remaining_time": 118.5122999,
             "test": [
              0.6603997205,
              0.1526846161
             ]
            },
            {
             "iteration": 139,
             "learn": [
              0.1393972024
             ],
             "passed_time": 8.916513034,
             "remaining_time": 118.4622446,
             "test": [
              0.6606016132,
              0.152671428
             ]
            },
            {
             "iteration": 140,
             "learn": [
              0.1393256254
             ],
             "passed_time": 8.97589566,
             "remaining_time": 118.3417733,
             "test": [
              0.6621610139,
              0.1525718069
             ]
            },
            {
             "iteration": 141,
             "learn": [
              0.1392407736
             ],
             "passed_time": 9.047716037,
             "remaining_time": 118.3849042,
             "test": [
              0.661851377,
              0.1525766984
             ]
            },
            {
             "iteration": 142,
             "learn": [
              0.1392148869
             ],
             "passed_time": 9.103394296,
             "remaining_time": 118.2168056,
             "test": [
              0.661851377,
              0.1525764496
             ]
            },
            {
             "iteration": 143,
             "learn": [
              0.1391934542
             ],
             "passed_time": 9.158872557,
             "remaining_time": 118.0476907,
             "test": [
              0.6617684446,
              0.1525778485
             ]
            },
            {
             "iteration": 144,
             "learn": [
              0.1391622027
             ],
             "passed_time": 9.233932766,
             "remaining_time": 118.1306571,
             "test": [
              0.6617684446,
              0.1525778014
             ]
            },
            {
             "iteration": 145,
             "learn": [
              0.1391374759
             ],
             "passed_time": 9.293083437,
             "remaining_time": 118.0094294,
             "test": [
              0.6616188944,
              0.1525787611
             ]
            },
            {
             "iteration": 146,
             "learn": [
              0.1391067436
             ],
             "passed_time": 9.349906139,
             "remaining_time": 117.8597012,
             "test": [
              0.6616188944,
              0.1525787329
             ]
            },
            {
             "iteration": 147,
             "learn": [
              0.1390763553
             ],
             "passed_time": 9.412091561,
             "remaining_time": 117.7783349,
             "test": [
              0.6616188944,
              0.1525787082
             ]
            },
            {
             "iteration": 148,
             "learn": [
              0.1390461511
             ],
             "passed_time": 9.476797574,
             "remaining_time": 117.728539,
             "test": [
              0.6616066585,
              0.152579668
             ]
            },
            {
             "iteration": 149,
             "learn": [
              0.1390202212
             ],
             "passed_time": 9.539235285,
             "remaining_time": 117.6505685,
             "test": [
              0.6616019001,
              0.1525796893
             ]
            },
            {
             "iteration": 150,
             "learn": [
              0.1389951756
             ],
             "passed_time": 9.600337305,
             "remaining_time": 117.5564482,
             "test": [
              0.6615617935,
              0.1525803428
             ]
            },
            {
             "iteration": 151,
             "learn": [
              0.1389637196
             ],
             "passed_time": 9.663581838,
             "remaining_time": 117.4888108,
             "test": [
              0.6615189677,
              0.1525811851
             ]
            },
            {
             "iteration": 152,
             "learn": [
              0.1389346281
             ],
             "passed_time": 9.721187696,
             "remaining_time": 117.3531613,
             "test": [
              0.6614394342,
              0.1525843205
             ]
            },
            {
             "iteration": 153,
             "learn": [
              0.1389081389
             ],
             "passed_time": 9.779017134,
             "remaining_time": 117.2212054,
             "test": [
              0.6614217601,
              0.152584845
             ]
            },
            {
             "iteration": 154,
             "learn": [
              0.1388776698
             ],
             "passed_time": 9.835243844,
             "remaining_time": 117.0711283,
             "test": [
              0.6614217601,
              0.1525848835
             ]
            },
            {
             "iteration": 155,
             "learn": [
              0.1388516324
             ],
             "passed_time": 9.891032184,
             "remaining_time": 116.9170727,
             "test": [
              0.6614217601,
              0.1525847767
             ]
            },
            {
             "iteration": 156,
             "learn": [
              0.1388258978
             ],
             "passed_time": 9.947643889,
             "remaining_time": 116.7739343,
             "test": [
              0.6614217601,
              0.1525846781
             ]
            },
            {
             "iteration": 157,
             "learn": [
              0.1387942798
             ],
             "passed_time": 10.00622507,
             "remaining_time": 116.6548517,
             "test": [
              0.6614217601,
              0.1525847474
             ]
            },
            {
             "iteration": 158,
             "learn": [
              0.1387637542
             ],
             "passed_time": 10.06738771,
             "remaining_time": 116.56642,
             "test": [
              0.6613347491,
              0.1525873958
             ]
            },
            {
             "iteration": 159,
             "learn": [
              0.1387327571
             ],
             "passed_time": 10.13016279,
             "remaining_time": 116.4968721,
             "test": [
              0.6613347491,
              0.1525874654
             ]
            },
            {
             "iteration": 160,
             "learn": [
              0.1386126533
             ],
             "passed_time": 10.19764898,
             "remaining_time": 116.4812203,
             "test": [
              0.6602783809,
              0.1525867535
             ]
            },
            {
             "iteration": 161,
             "learn": [
              0.1385863663
             ],
             "passed_time": 10.25810292,
             "remaining_time": 116.385143,
             "test": [
              0.6614224399,
              0.1525644529
             ]
            },
            {
             "iteration": 162,
             "learn": [
              0.1385561109
             ],
             "passed_time": 10.31425138,
             "remaining_time": 116.2409803,
             "test": [
              0.6614224399,
              0.1525644664
             ]
            },
            {
             "iteration": 163,
             "learn": [
              0.1385196198
             ],
             "passed_time": 10.37155787,
             "remaining_time": 116.1108552,
             "test": [
              0.6612477381,
              0.1525691425
             ]
            },
            {
             "iteration": 164,
             "learn": [
              0.1384942132
             ],
             "passed_time": 10.45403448,
             "remaining_time": 116.261535,
             "test": [
              0.6612382212,
              0.1525698127
             ]
            },
            {
             "iteration": 165,
             "learn": [
              0.1384660328
             ],
             "passed_time": 10.61968661,
             "remaining_time": 117.3283448,
             "test": [
              0.6612382212,
              0.1525698392
             ]
            },
            {
             "iteration": 166,
             "learn": [
              0.1384344343
             ],
             "passed_time": 10.67794833,
             "remaining_time": 117.2016724,
             "test": [
              0.6612382212,
              0.1525698931
             ]
            },
            {
             "iteration": 167,
             "learn": [
              0.1383662671
             ],
             "passed_time": 10.74288826,
             "remaining_time": 117.1486386,
             "test": [
              0.6611260586,
              0.1525579183
             ]
            },
            {
             "iteration": 168,
             "learn": [
              0.1383368224
             ],
             "passed_time": 10.80068299,
             "remaining_time": 117.0180506,
             "test": [
              0.6610553621,
              0.1525602259
             ]
            },
            {
             "iteration": 169,
             "learn": [
              0.1382995555
             ],
             "passed_time": 10.85843293,
             "remaining_time": 116.8878368,
             "test": [
              0.6613646591,
              0.152553135
             ]
            },
            {
             "iteration": 170,
             "learn": [
              0.138271283
             ],
             "passed_time": 10.91707531,
             "remaining_time": 116.7680161,
             "test": [
              0.6613544625,
              0.1525536581
             ]
            },
            {
             "iteration": 171,
             "learn": [
              0.1382401253
             ],
             "passed_time": 10.97385581,
             "remaining_time": 116.6291187,
             "test": [
              0.6613544625,
              0.1525536979
             ]
            },
            {
             "iteration": 172,
             "learn": [
              0.1382047953
             ],
             "passed_time": 11.0372058,
             "remaining_time": 116.5605491,
             "test": [
              0.6612878447,
              0.1525554837
             ]
            },
            {
             "iteration": 173,
             "learn": [
              0.1381665119
             ],
             "passed_time": 11.10180686,
             "remaining_time": 116.5051685,
             "test": [
              0.6612722099,
              0.1525566232
             ]
            },
            {
             "iteration": 174,
             "learn": [
              0.1379379882
             ],
             "passed_time": 11.17751372,
             "remaining_time": 116.5655002,
             "test": [
              0.660584279,
              0.1525241925
             ]
            },
            {
             "iteration": 175,
             "learn": [
              0.137895277
             ],
             "passed_time": 11.23868566,
             "remaining_time": 116.4736514,
             "test": [
              0.6607481045,
              0.1525144257
             ]
            },
            {
             "iteration": 176,
             "learn": [
              0.1378638932
             ],
             "passed_time": 11.29991772,
             "remaining_time": 116.3827684,
             "test": [
              0.6607481045,
              0.1525142444
             ]
            },
            {
             "iteration": 177,
             "learn": [
              0.1378354571
             ],
             "passed_time": 11.36051008,
             "remaining_time": 116.2856706,
             "test": [
              0.6607100371,
              0.1525147262
             ]
            },
            {
             "iteration": 178,
             "learn": [
              0.1378048538
             ],
             "passed_time": 11.42615579,
             "remaining_time": 116.2403893,
             "test": [
              0.6607012001,
              0.1525156325
             ]
            },
            {
             "iteration": 179,
             "learn": [
              0.1377732333
             ],
             "passed_time": 11.4873751,
             "remaining_time": 116.150126,
             "test": [
              0.6607012001,
              0.1525155008
             ]
            },
            {
             "iteration": 180,
             "learn": [
              0.1377429572
             ],
             "passed_time": 11.54900148,
             "remaining_time": 116.0642746,
             "test": [
              0.6607012001,
              0.1525153723
             ]
            },
            {
             "iteration": 181,
             "learn": [
              0.1377113399
             ],
             "passed_time": 11.61426024,
             "remaining_time": 116.0149732,
             "test": [
              0.6606733294,
              0.1525172073
             ]
            },
            {
             "iteration": 182,
             "learn": [
              0.1376796403
             ],
             "passed_time": 11.67748794,
             "remaining_time": 115.9453311,
             "test": [
              0.6606733294,
              0.1525171126
             ]
            },
            {
             "iteration": 183,
             "learn": [
              0.1374545693
             ],
             "passed_time": 11.74844929,
             "remaining_time": 115.9520864,
             "test": [
              0.6626188414,
              0.1523718883
             ]
            },
            {
             "iteration": 184,
             "learn": [
              0.137330643
             ],
             "passed_time": 11.82319733,
             "remaining_time": 115.9951522,
             "test": [
              0.6634719573,
              0.1522530476
             ]
            },
            {
             "iteration": 185,
             "learn": [
              0.137298871
             ],
             "passed_time": 11.88157881,
             "remaining_time": 115.8773331,
             "test": [
              0.6634073788,
              0.1522549532
             ]
            },
            {
             "iteration": 186,
             "learn": [
              0.1372716426
             ],
             "passed_time": 11.94195129,
             "remaining_time": 115.7794529,
             "test": [
              0.6633876654,
              0.1522551215
             ]
            },
            {
             "iteration": 187,
             "learn": [
              0.1370774321
             ],
             "passed_time": 12.01106937,
             "remaining_time": 115.7662644,
             "test": [
              0.6642353431,
              0.1520969787
             ]
            },
            {
             "iteration": 188,
             "learn": [
              0.1370479736
             ],
             "passed_time": 12.06926843,
             "remaining_time": 115.6478578,
             "test": [
              0.6642251465,
              0.1520974644
             ]
            },
            {
             "iteration": 189,
             "learn": [
              0.136991234
             ],
             "passed_time": 12.12682067,
             "remaining_time": 115.5239232,
             "test": [
              0.6644080056,
              0.152094704
             ]
            },
            {
             "iteration": 190,
             "learn": [
              0.1369628729
             ],
             "passed_time": 12.18293992,
             "remaining_time": 115.3871116,
             "test": [
              0.6643080788,
              0.1520967403
             ]
            },
            {
             "iteration": 191,
             "learn": [
              0.1369246448
             ],
             "passed_time": 12.2387123,
             "remaining_time": 115.2478742,
             "test": [
              0.6650932174,
              0.1520778122
             ]
            },
            {
             "iteration": 192,
             "learn": [
              0.1368929035
             ],
             "passed_time": 12.29506547,
             "remaining_time": 115.1149394,
             "test": [
              0.6650932174,
              0.1520773829
             ]
            },
            {
             "iteration": 193,
             "learn": [
              0.1368600776
             ],
             "passed_time": 12.35259508,
             "remaining_time": 114.9937459,
             "test": [
              0.6650932174,
              0.1520770626
             ]
            },
            {
             "iteration": 194,
             "learn": [
              0.1368293127
             ],
             "passed_time": 12.40826384,
             "remaining_time": 114.8559806,
             "test": [
              0.6650932174,
              0.1520766857
             ]
            },
            {
             "iteration": 195,
             "learn": [
              0.136798887
             ],
             "passed_time": 12.46315386,
             "remaining_time": 114.7118855,
             "test": [
              0.6650932174,
              0.1520763333
             ]
            },
            {
             "iteration": 196,
             "learn": [
              0.1367672351
             ],
             "passed_time": 12.51885416,
             "remaining_time": 114.5761119,
             "test": [
              0.6650089254,
              0.1520782683
             ]
            },
            {
             "iteration": 197,
             "learn": [
              0.1366744438
             ],
             "passed_time": 12.57779925,
             "remaining_time": 114.470678,
             "test": [
              0.6646608813,
              0.1520251152
             ]
            },
            {
             "iteration": 198,
             "learn": [
              0.1366361633
             ],
             "passed_time": 12.6354356,
             "remaining_time": 114.3538669,
             "test": [
              0.6646554432,
              0.1520266344
             ]
            },
            {
             "iteration": 199,
             "learn": [
              0.1366069269
             ],
             "passed_time": 12.70044603,
             "remaining_time": 114.3040143,
             "test": [
              0.6646554432,
              0.1520263252
             ]
            },
            {
             "iteration": 200,
             "learn": [
              0.1365769506
             ],
             "passed_time": 12.75790039,
             "remaining_time": 114.1863821,
             "test": [
              0.6646554432,
              0.1520260446
             ]
            },
            {
             "iteration": 201,
             "learn": [
              0.1365455881
             ],
             "passed_time": 12.81547962,
             "remaining_time": 114.0704572,
             "test": [
              0.6646554432,
              0.1520257954
             ]
            },
            {
             "iteration": 202,
             "learn": [
              0.1365151084
             ],
             "passed_time": 12.87617381,
             "remaining_time": 113.9826815,
             "test": [
              0.6646316511,
              0.1520269071
             ]
            },
            {
             "iteration": 203,
             "learn": [
              0.1364844128
             ],
             "passed_time": 12.93157633,
             "remaining_time": 113.8485837,
             "test": [
              0.6646316511,
              0.1520266911
             ]
            },
            {
             "iteration": 204,
             "learn": [
              0.1363329967
             ],
             "passed_time": 12.99802165,
             "remaining_time": 113.8119457,
             "test": [
              0.6650293186,
              0.1519778338
             ]
            },
            {
             "iteration": 205,
             "learn": [
              0.1362952305
             ],
             "passed_time": 13.05424999,
             "remaining_time": 113.6860411,
             "test": [
              0.6651244869,
              0.1519717962
             ]
            },
            {
             "iteration": 206,
             "learn": [
              0.1362646155
             ],
             "passed_time": 13.11107269,
             "remaining_time": 113.5659581,
             "test": [
              0.6650884589,
              0.1519730591
             ]
            },
            {
             "iteration": 207,
             "learn": [
              0.1362334315
             ],
             "passed_time": 13.16810539,
             "remaining_time": 113.4482926,
             "test": [
              0.6650884589,
              0.1519728223
             ]
            },
            {
             "iteration": 208,
             "learn": [
              0.1362021182
             ],
             "passed_time": 13.22571462,
             "remaining_time": 113.3361478,
             "test": [
              0.6650884589,
              0.1519726039
             ]
            },
            {
             "iteration": 209,
             "learn": [
              0.1360697157
             ],
             "passed_time": 13.28844183,
             "remaining_time": 113.268147,
             "test": [
              0.6655486657,
              0.151852135
             ]
            },
            {
             "iteration": 210,
             "learn": [
              0.135982817
             ],
             "passed_time": 13.35153319,
             "remaining_time": 113.2032838,
             "test": [
              0.6650959364,
              0.1518395722
             ]
            },
            {
             "iteration": 211,
             "learn": [
              0.1359517684
             ],
             "passed_time": 13.40811165,
             "remaining_time": 113.0835077,
             "test": [
              0.6650959364,
              0.1518392696
             ]
            },
            {
             "iteration": 212,
             "learn": [
              0.1358676349
             ],
             "passed_time": 13.46551647,
             "remaining_time": 112.9712579,
             "test": [
              0.664586786,
              0.1518504567
             ]
            },
            {
             "iteration": 213,
             "learn": [
              0.1358343222
             ],
             "passed_time": 13.52305404,
             "remaining_time": 112.8606285,
             "test": [
              0.664586786,
              0.1518502983
             ]
            },
            {
             "iteration": 214,
             "learn": [
              0.135795437
             ],
             "passed_time": 13.59197833,
             "remaining_time": 112.8450294,
             "test": [
              0.6645439603,
              0.1518513236
             ]
            },
            {
             "iteration": 215,
             "learn": [
              0.1357617896
             ],
             "passed_time": 13.65616776,
             "remaining_time": 112.78983,
             "test": [
              0.6644746234,
              0.1518520311
             ]
            },
            {
             "iteration": 216,
             "learn": [
              0.1357171891
             ],
             "passed_time": 13.71744849,
             "remaining_time": 112.7106482,
             "test": [
              0.6643434271,
              0.1518539085
             ]
            },
            {
             "iteration": 217,
             "learn": [
              0.1356861604
             ],
             "passed_time": 13.77895688,
             "remaining_time": 112.6334915,
             "test": [
              0.6643332305,
              0.151861062
             ]
            },
            {
             "iteration": 218,
             "learn": [
              0.135572645
             ],
             "passed_time": 13.84281828,
             "remaining_time": 112.5756135,
             "test": [
              0.6642169892,
              0.151875782
             ]
            },
            {
             "iteration": 219,
             "learn": [
              0.1355418434
             ],
             "passed_time": 13.89982489,
             "remaining_time": 112.4622196,
             "test": [
              0.6642169892,
              0.1518755509
             ]
            },
            {
             "iteration": 220,
             "learn": [
              0.1355106455
             ],
             "passed_time": 13.95784,
             "remaining_time": 112.3574541,
             "test": [
              0.6642074723,
              0.1518763426
             ]
            },
            {
             "iteration": 221,
             "learn": [
              0.1354799852
             ],
             "passed_time": 14.01463399,
             "remaining_time": 112.2433299,
             "test": [
              0.6641863994,
              0.151877026
             ]
            },
            {
             "iteration": 222,
             "learn": [
              0.1353237047
             ],
             "passed_time": 14.07654175,
             "remaining_time": 112.1704695,
             "test": [
              0.6639858661,
              0.1518906406
             ]
            },
            {
             "iteration": 223,
             "learn": [
              0.1352924194
             ],
             "passed_time": 14.13247296,
             "remaining_time": 112.0503213,
             "test": [
              0.6639858661,
              0.1518903805
             ]
            },
            {
             "iteration": 224,
             "learn": [
              0.1352625316
             ],
             "passed_time": 14.18921754,
             "remaining_time": 111.9371606,
             "test": [
              0.6639858661,
              0.1518969078
             ]
            },
            {
             "iteration": 225,
             "learn": [
              0.1351949142
             ],
             "passed_time": 14.25489554,
             "remaining_time": 111.8946225,
             "test": [
              0.6639070124,
              0.1518977916
             ]
            },
            {
             "iteration": 226,
             "learn": [
              0.1351638593
             ],
             "passed_time": 14.31698501,
             "remaining_time": 111.8238521,
             "test": [
              0.6639070124,
              0.1518975718
             ]
            },
            {
             "iteration": 227,
             "learn": [
              0.1351314225
             ],
             "passed_time": 14.37989663,
             "remaining_time": 111.7595475,
             "test": [
              0.6639070124,
              0.1518974405
             ]
            },
            {
             "iteration": 228,
             "learn": [
              0.1350998208
             ],
             "passed_time": 14.44124323,
             "remaining_time": 111.6831518,
             "test": [
              0.6638743833,
              0.151900445
             ]
            },
            {
             "iteration": 229,
             "learn": [
              0.1349942363
             ],
             "passed_time": 14.5092402,
             "remaining_time": 111.6580659,
             "test": [
              0.6637024006,
              0.151910204
             ]
            },
            {
             "iteration": 230,
             "learn": [
              0.1348851574
             ],
             "passed_time": 14.57274793,
             "remaining_time": 111.5982299,
             "test": [
              0.6639539168,
              0.151858176
             ]
            },
            {
             "iteration": 231,
             "learn": [
              0.1348543191
             ],
             "passed_time": 14.63975892,
             "remaining_time": 111.5650593,
             "test": [
              0.6638934169,
              0.1518604314
             ]
            },
            {
             "iteration": 232,
             "learn": [
              0.1348240772
             ],
             "passed_time": 14.71920169,
             "remaining_time": 111.6258772,
             "test": [
              0.6638934169,
              0.1518602217
             ]
            },
            {
             "iteration": 233,
             "learn": [
              0.1347926372
             ],
             "passed_time": 14.78518127,
             "remaining_time": 111.5838894,
             "test": [
              0.6638934169,
              0.1518600376
             ]
            },
            {
             "iteration": 234,
             "learn": [
              0.1347002897
             ],
             "passed_time": 14.85767664,
             "remaining_time": 111.5906352,
             "test": [
              0.6631490648,
              0.1518756086
             ]
            },
            {
             "iteration": 235,
             "learn": [
              0.1346706541
             ],
             "passed_time": 14.92626602,
             "remaining_time": 111.5675138,
             "test": [
              0.6630919639,
              0.151877258
             ]
            },
            {
             "iteration": 236,
             "learn": [
              0.1345791486
             ],
             "passed_time": 15.00686115,
             "remaining_time": 111.6333174,
             "test": [
              0.6628601611,
              0.1518908827
             ]
            },
            {
             "iteration": 237,
             "learn": [
              0.1344336777
             ],
             "passed_time": 15.0903115,
             "remaining_time": 111.7190288,
             "test": [
              0.6633292048,
              0.1518369417
             ]
            },
            {
             "iteration": 238,
             "learn": [
              0.1342912393
             ],
             "passed_time": 15.18107538,
             "remaining_time": 111.8572123,
             "test": [
              0.663628985,
              0.1517400956
             ]
            },
            {
             "iteration": 239,
             "learn": [
              0.1342018364
             ],
             "passed_time": 15.25410024,
             "remaining_time": 111.8634017,
             "test": [
              0.663752024,
              0.1517524923
             ]
            },
            {
             "iteration": 240,
             "learn": [
              0.1341712941
             ],
             "passed_time": 15.32339086,
             "remaining_time": 111.8416785,
             "test": [
              0.663694923,
              0.1517535434
             ]
            },
            {
             "iteration": 241,
             "learn": [
              0.134138447
             ],
             "passed_time": 15.38338931,
             "remaining_time": 111.7520595,
             "test": [
              0.663694923,
              0.151753254
             ]
            },
            {
             "iteration": 242,
             "learn": [
              0.1340231047
             ],
             "passed_time": 15.4482144,
             "remaining_time": 111.6975832,
             "test": [
              0.6637724172,
              0.1517277891
             ]
            },
            {
             "iteration": 243,
             "learn": [
              0.1339509103
             ],
             "passed_time": 15.5082274,
             "remaining_time": 111.6083906,
             "test": [
              0.6636011143,
              0.1517329755
             ]
            },
            {
             "iteration": 244,
             "learn": [
              0.133848155
             ],
             "passed_time": 15.5793242,
             "remaining_time": 111.5988325,
             "test": [
              0.6637051196,
              0.1517637433
             ]
            },
            {
             "iteration": 245,
             "learn": [
              0.1337621671
             ],
             "passed_time": 15.64303523,
             "remaining_time": 111.536113,
             "test": [
              0.6629553294,
              0.1517814287
             ]
            },
            {
             "iteration": 246,
             "learn": [
              0.1337305437
             ],
             "passed_time": 15.70479545,
             "remaining_time": 111.4595401,
             "test": [
              0.6629553294,
              0.1517810607
             ]
            },
            {
             "iteration": 247,
             "learn": [
              0.1336357693
             ],
             "passed_time": 15.76694137,
             "remaining_time": 111.3858116,
             "test": [
              0.6628927902,
              0.1517842608
             ]
            },
            {
             "iteration": 248,
             "learn": [
              0.1336033126
             ],
             "passed_time": 15.82311995,
             "remaining_time": 111.270213,
             "test": [
              0.6628927902,
              0.1517839162
             ]
            },
            {
             "iteration": 249,
             "learn": [
              0.1334738249
             ],
             "passed_time": 15.88848458,
             "remaining_time": 111.2193921,
             "test": [
              0.6629675653,
              0.1517499744
             ]
            },
            {
             "iteration": 250,
             "learn": [
              0.1333820624
             ],
             "passed_time": 15.94709139,
             "remaining_time": 111.1213659,
             "test": [
              0.6623476118,
              0.1517597576
             ]
            },
            {
             "iteration": 251,
             "learn": [
              0.1333498751
             ],
             "passed_time": 16.00208074,
             "remaining_time": 110.99856,
             "test": [
              0.6623476118,
              0.1517593638
             ]
            },
            {
             "iteration": 252,
             "learn": [
              0.1333198742
             ],
             "passed_time": 16.05738983,
             "remaining_time": 110.8784982,
             "test": [
              0.6623476118,
              0.1517589829
             ]
            },
            {
             "iteration": 253,
             "learn": [
              0.1332885299
             ],
             "passed_time": 16.11410029,
             "remaining_time": 110.7685791,
             "test": [
              0.6623211006,
              0.1517600778
             ]
            },
            {
             "iteration": 254,
             "learn": [
              0.1332566832
             ],
             "passed_time": 16.17038633,
             "remaining_time": 110.6561731,
             "test": [
              0.6623211006,
              0.1517597603
             ]
            },
            {
             "iteration": 255,
             "learn": [
              0.133226541
             ],
             "passed_time": 16.22736565,
             "remaining_time": 110.5489285,
             "test": [
              0.6623211006,
              0.1517594524
             ]
            },
            {
             "iteration": 256,
             "learn": [
              0.1331600356
             ],
             "passed_time": 16.2976523,
             "remaining_time": 110.5323267,
             "test": [
              0.6623693645,
              0.1517668391
             ]
            },
            {
             "iteration": 257,
             "learn": [
              0.1331057216
             ],
             "passed_time": 16.36355822,
             "remaining_time": 110.4857303,
             "test": [
              0.6622510839,
              0.1517731934
             ]
            },
            {
             "iteration": 258,
             "learn": [
              0.1330465417
             ],
             "passed_time": 16.43670653,
             "remaining_time": 110.4876682,
             "test": [
              0.6636888051,
              0.1517468705
             ]
            },
            {
             "iteration": 259,
             "learn": [
              0.132925893
             ],
             "passed_time": 16.50419622,
             "remaining_time": 110.4511593,
             "test": [
              0.6630226269,
              0.1517667032
             ]
            },
            {
             "iteration": 260,
             "learn": [
              0.132893259
             ],
             "passed_time": 16.5643355,
             "remaining_time": 110.3654385,
             "test": [
              0.6630226269,
              0.1517664152
             ]
            },
            {
             "iteration": 261,
             "learn": [
              0.1327681911
             ],
             "passed_time": 16.64042778,
             "remaining_time": 110.3857385,
             "test": [
              0.6635263392,
              0.1517530455
             ]
            },
            {
             "iteration": 262,
             "learn": [
              0.1327190873
             ],
             "passed_time": 16.70383656,
             "remaining_time": 110.3215365,
             "test": [
              0.663262587,
              0.1517611542
             ]
            },
            {
             "iteration": 263,
             "learn": [
              0.1326886124
             ],
             "passed_time": 16.76345802,
             "remaining_time": 110.2324361,
             "test": [
              0.6632503511,
              0.1517613703
             ]
            },
            {
             "iteration": 264,
             "learn": [
              0.1325403261
             ],
             "passed_time": 16.84687766,
             "remaining_time": 110.2993688,
             "test": [
              0.6633869856,
              0.1517028938
             ]
            },
            {
             "iteration": 265,
             "learn": [
              0.1325090801
             ],
             "passed_time": 16.90707352,
             "remaining_time": 110.21378,
             "test": [
              0.6633869856,
              0.1517025143
             ]
            },
            {
             "iteration": 266,
             "learn": [
              0.1324774594
             ],
             "passed_time": 16.96597095,
             "remaining_time": 110.1199537,
             "test": [
              0.6633339633,
              0.1517036709
             ]
            },
            {
             "iteration": 267,
             "learn": [
              0.1323688036
             ],
             "passed_time": 17.03767749,
             "remaining_time": 110.1091695,
             "test": [
              0.6627031333,
              0.1516952612
             ]
            },
            {
             "iteration": 268,
             "learn": [
              0.1323376786
             ],
             "passed_time": 17.0980596,
             "remaining_time": 110.0250601,
             "test": [
              0.6637282319,
              0.1516787199
             ]
            },
            {
             "iteration": 269,
             "learn": [
              0.1322445989
             ],
             "passed_time": 17.16893866,
             "remaining_time": 110.0083847,
             "test": [
              0.6630328235,
              0.1516845974
             ]
            },
            {
             "iteration": 270,
             "learn": [
              0.1322126752
             ],
             "passed_time": 17.23097358,
             "remaining_time": 109.9348831,
             "test": [
              0.6630117506,
              0.1516857404
             ]
            },
            {
             "iteration": 271,
             "learn": [
              0.1320910585
             ],
             "passed_time": 17.293536,
             "remaining_time": 109.8648169,
             "test": [
              0.6647030273,
              0.1516509243
             ]
            },
            {
             "iteration": 272,
             "learn": [
              0.1320559517
             ],
             "passed_time": 17.35300563,
             "remaining_time": 109.7752407,
             "test": [
              0.6646982689,
              0.1516536381
             ]
            },
            {
             "iteration": 273,
             "learn": [
              0.1320231132
             ],
             "passed_time": 17.41209884,
             "remaining_time": 109.6835131,
             "test": [
              0.6646982689,
              0.1516533032
             ]
            },
            {
             "iteration": 274,
             "learn": [
              0.1319933756
             ],
             "passed_time": 17.47096868,
             "remaining_time": 109.5906217,
             "test": [
              0.6646982689,
              0.151652969
             ]
            },
            {
             "iteration": 275,
             "learn": [
              0.131962532
             ],
             "passed_time": 17.53251769,
             "remaining_time": 109.514712,
             "test": [
              0.6646982689,
              0.1516526698
             ]
            },
            {
             "iteration": 276,
             "learn": [
              0.1319314065
             ],
             "passed_time": 17.59348047,
             "remaining_time": 109.4352594,
             "test": [
              0.6646982689,
              0.1516523948
             ]
            },
            {
             "iteration": 277,
             "learn": [
              0.1318997507
             ],
             "passed_time": 17.65174707,
             "remaining_time": 109.339239,
             "test": [
              0.6646982689,
              0.1516521439
             ]
            },
            {
             "iteration": 278,
             "learn": [
              0.1318701259
             ],
             "passed_time": 17.71113732,
             "remaining_time": 109.2504205,
             "test": [
              0.6646819543,
              0.1516528268
             ]
            },
            {
             "iteration": 279,
             "learn": [
              0.1318399125
             ],
             "passed_time": 17.77315187,
             "remaining_time": 109.1779329,
             "test": [
              0.6646819543,
              0.1516526051
             ]
            },
            {
             "iteration": 280,
             "learn": [
              0.1318085557
             ],
             "passed_time": 17.83238991,
             "remaining_time": 109.0885347,
             "test": [
              0.6646819543,
              0.1516524099
             ]
            },
            {
             "iteration": 281,
             "learn": [
              0.1317119104
             ],
             "passed_time": 17.89427842,
             "remaining_time": 109.0154976,
             "test": [
              0.6663562367,
              0.1516016345
             ]
            },
            {
             "iteration": 282,
             "learn": [
              0.1316806767
             ],
             "passed_time": 17.95026492,
             "remaining_time": 108.906731,
             "test": [
              0.6663562367,
              0.1516014141
             ]
            },
            {
             "iteration": 283,
             "learn": [
              0.1316500867
             ],
             "passed_time": 18.00752945,
             "remaining_time": 108.8060582,
             "test": [
              0.6663562367,
              0.1516012078
             ]
            },
            {
             "iteration": 284,
             "learn": [
              0.1316194987
             ],
             "passed_time": 18.06379304,
             "remaining_time": 108.6996669,
             "test": [
              0.6662909785,
              0.1516023413
             ]
            },
            {
             "iteration": 285,
             "learn": [
              0.1315190863
             ],
             "passed_time": 18.12655516,
             "remaining_time": 108.6325718,
             "test": [
              0.6664208152,
              0.1515914294
             ]
            },
            {
             "iteration": 286,
             "learn": [
              0.1314887612
             ],
             "passed_time": 18.18604287,
             "remaining_time": 108.5459632,
             "test": [
              0.6664208152,
              0.151591218
             ]
            },
            {
             "iteration": 287,
             "learn": [
              0.1314586196
             ],
             "passed_time": 18.24573362,
             "remaining_time": 108.4607498,
             "test": [
              0.6663841074,
              0.1515916525
             ]
            },
            {
             "iteration": 288,
             "learn": [
              0.1314275218
             ],
             "passed_time": 18.30830091,
             "remaining_time": 108.3927434,
             "test": [
              0.6663841074,
              0.1515914809
             ]
            },
            {
             "iteration": 289,
             "learn": [
              0.1313610348
             ],
             "passed_time": 18.37322442,
             "remaining_time": 108.3386681,
             "test": [
              0.6659055468,
              0.1515740017
             ]
            },
            {
             "iteration": 290,
             "learn": [
              0.131329935
             ],
             "passed_time": 18.43308895,
             "remaining_time": 108.2548076,
             "test": [
              0.6659055468,
              0.1515738609
             ]
            },
            {
             "iteration": 291,
             "learn": [
              0.131298844
             ],
             "passed_time": 18.49447184,
             "remaining_time": 108.1799928,
             "test": [
              0.6659055468,
              0.1515737337
             ]
            },
            {
             "iteration": 292,
             "learn": [
              0.1312297735
             ],
             "passed_time": 18.55759505,
             "remaining_time": 108.1154087,
             "test": [
              0.6660000353,
              0.1515709241
             ]
            },
            {
             "iteration": 293,
             "learn": [
              0.1311995034
             ],
             "passed_time": 18.61686747,
             "remaining_time": 108.0284894,
             "test": [
              0.6660000353,
              0.1515708008
             ]
            },
            {
             "iteration": 294,
             "learn": [
              0.1311693383
             ],
             "passed_time": 18.75759934,
             "remaining_time": 108.4125657,
             "test": [
              0.6659789624,
              0.1515714444
             ]
            },
            {
             "iteration": 295,
             "learn": [
              0.1311393137
             ],
             "passed_time": 18.83180248,
             "remaining_time": 108.4101062,
             "test": [
              0.6659483726,
              0.1515720161
             ]
            },
            {
             "iteration": 296,
             "learn": [
              0.1310934197
             ],
             "passed_time": 18.90500609,
             "remaining_time": 108.4014322,
             "test": [
              0.6659075861,
              0.1515741125
             ]
            },
            {
             "iteration": 297,
             "learn": [
              0.1310626789
             ],
             "passed_time": 18.96480479,
             "remaining_time": 108.3157643,
             "test": [
              0.6659075861,
              0.1515740439
             ]
            },
            {
             "iteration": 298,
             "learn": [
              0.1310050924
             ],
             "passed_time": 19.03888422,
             "remaining_time": 108.3115119,
             "test": [
              0.6658049403,
              0.1515777246
             ]
            },
            {
             "iteration": 299,
             "learn": [
              0.1309731415
             ],
             "passed_time": 19.11159359,
             "remaining_time": 108.2990303,
             "test": [
              0.6658049403,
              0.1515776811
             ]
            },
            {
             "iteration": 300,
             "learn": [
              0.1309435568
             ],
             "passed_time": 19.17301656,
             "remaining_time": 108.2224423,
             "test": [
              0.6657723112,
              0.1515786307
             ]
            },
            {
             "iteration": 301,
             "learn": [
              0.1309157179
             ],
             "passed_time": 19.23382617,
             "remaining_time": 108.1425061,
             "test": [
              0.665736963,
              0.151580212
             ]
            },
            {
             "iteration": 302,
             "learn": [
              0.1307967189
             ],
             "passed_time": 19.30149493,
             "remaining_time": 108.1011119,
             "test": [
              0.6659354569,
              0.1515806005
             ]
            },
            {
             "iteration": 303,
             "learn": [
              0.1307675819
             ],
             "passed_time": 19.36014824,
             "remaining_time": 108.0092481,
             "test": [
              0.6659014682,
              0.1515821318
             ]
            },
            {
             "iteration": 304,
             "learn": [
              0.1307358098
             ],
             "passed_time": 19.42118496,
             "remaining_time": 107.9308476,
             "test": [
              0.6659014682,
              0.1515820603
             ]
            },
            {
             "iteration": 305,
             "learn": [
              0.1306610818
             ],
             "passed_time": 19.48265344,
             "remaining_time": 107.8549507,
             "test": [
              0.6658851536,
              0.1515815268
             ]
            },
            {
             "iteration": 306,
             "learn": [
              0.1306308098
             ],
             "passed_time": 19.63499287,
             "remaining_time": 108.2802701,
             "test": [
              0.6658851536,
              0.1515814434
             ]
            },
            {
             "iteration": 307,
             "learn": [
              0.1305999958
             ],
             "passed_time": 19.69314168,
             "remaining_time": 108.1844017,
             "test": [
              0.6658851536,
              0.1515813757
             ]
            },
            {
             "iteration": 308,
             "learn": [
              0.1305693087
             ],
             "passed_time": 19.74974067,
             "remaining_time": 108.080296,
             "test": [
              0.6658851536,
              0.1515813168
             ]
            },
            {
             "iteration": 309,
             "learn": [
              0.1305394465
             ],
             "passed_time": 19.80576743,
             "remaining_time": 107.9733773,
             "test": [
              0.6658851536,
              0.1515812626
             ]
            },
            {
             "iteration": 310,
             "learn": [
              0.1305085541
             ],
             "passed_time": 19.86225755,
             "remaining_time": 107.8693023,
             "test": [
              0.6658851536,
              0.1515812255
             ]
            },
            {
             "iteration": 311,
             "learn": [
              0.1304788305
             ],
             "passed_time": 19.91764185,
             "remaining_time": 107.7595495,
             "test": [
              0.665845047,
              0.1515827017
             ]
            },
            {
             "iteration": 312,
             "learn": [
              0.1304473155
             ],
             "passed_time": 19.98179817,
             "remaining_time": 107.6974233,
             "test": [
              0.665845047,
              0.1515826858
             ]
            },
            {
             "iteration": 313,
             "learn": [
              0.1304184929
             ],
             "passed_time": 20.03937653,
             "remaining_time": 107.5999644,
             "test": [
              0.665845047,
              0.1515826591
             ]
            },
            {
             "iteration": 314,
             "learn": [
              0.1303883821
             ],
             "passed_time": 20.09606531,
             "remaining_time": 107.4980002,
             "test": [
              0.665845047,
              0.1515826507
             ]
            },
            {
             "iteration": 315,
             "learn": [
              0.1303590407
             ],
             "passed_time": 20.15418125,
             "remaining_time": 107.4039279,
             "test": [
              0.665817856,
              0.1515832819
             ]
            },
            {
             "iteration": 316,
             "learn": [
              0.1303301011
             ],
             "passed_time": 20.21095941,
             "remaining_time": 107.3029801,
             "test": [
              0.6658171762,
              0.151583641
             ]
            },
            {
             "iteration": 317,
             "learn": [
              0.1302985974
             ],
             "passed_time": 20.26976429,
             "remaining_time": 107.21303,
             "test": [
              0.6658171762,
              0.151583664
             ]
            },
            {
             "iteration": 318,
             "learn": [
              0.1302679701
             ],
             "passed_time": 20.32723644,
             "remaining_time": 107.1162522,
             "test": [
              0.6658171762,
              0.1515836863
             ]
            },
            {
             "iteration": 319,
             "learn": [
              0.1302384642
             ],
             "passed_time": 20.38405794,
             "remaining_time": 107.0163042,
             "test": [
              0.6657621146,
              0.1515855165
             ]
            },
            {
             "iteration": 320,
             "learn": [
              0.1302070831
             ],
             "passed_time": 20.44130147,
             "remaining_time": 106.9188323,
             "test": [
              0.6660666532,
              0.1515646177
             ]
            },
            {
             "iteration": 321,
             "learn": [
              0.1301757216
             ],
             "passed_time": 20.49827667,
             "remaining_time": 106.8202119,
             "test": [
              0.6660666532,
              0.1515646606
             ]
            },
            {
             "iteration": 322,
             "learn": [
              0.1301461903
             ],
             "passed_time": 20.55375876,
             "remaining_time": 106.7140973,
             "test": [
              0.6660666532,
              0.1515646953
             ]
            },
            {
             "iteration": 323,
             "learn": [
              0.130114879
             ],
             "passed_time": 20.61060442,
             "remaining_time": 106.6153488,
             "test": [
              0.6660666532,
              0.1515647474
             ]
            },
            {
             "iteration": 324,
             "learn": [
              0.1300860761
             ],
             "passed_time": 20.66784099,
             "remaining_time": 106.5188728,
             "test": [
              0.666040142,
              0.1515656181
             ]
            },
            {
             "iteration": 325,
             "learn": [
              0.1299559334
             ],
             "passed_time": 20.74894225,
             "remaining_time": 106.545182,
             "test": [
              0.6653114247,
              0.1515745084
             ]
            },
            {
             "iteration": 326,
             "learn": [
              0.1299273089
             ],
             "passed_time": 20.81123604,
             "remaining_time": 106.4746113,
             "test": [
              0.6653114247,
              0.151574493
             ]
            },
            {
             "iteration": 327,
             "learn": [
              0.1298969239
             ],
             "passed_time": 20.87039459,
             "remaining_time": 106.388109,
             "test": [
              0.6653114247,
              0.1515745003
             ]
            },
            {
             "iteration": 328,
             "learn": [
              0.1298678866
             ],
             "passed_time": 20.94570575,
             "remaining_time": 106.3838125,
             "test": [
              0.6652781158,
              0.1515750689
             ]
            },
            {
             "iteration": 329,
             "learn": [
              0.1298373748
             ],
             "passed_time": 21.0077063,
             "remaining_time": 106.3117258,
             "test": [
              0.6652577226,
              0.1515768798
             ]
            },
            {
             "iteration": 330,
             "learn": [
              0.1298068705
             ],
             "passed_time": 21.06873815,
             "remaining_time": 106.2348156,
             "test": [
              0.6652454866,
              0.1515774173
             ]
            },
            {
             "iteration": 331,
             "learn": [
              0.1297756817
             ],
             "passed_time": 21.13013105,
             "remaining_time": 106.159815,
             "test": [
              0.6652454866,
              0.151577455
             ]
            },
            {
             "iteration": 332,
             "learn": [
              0.1296585441
             ],
             "passed_time": 21.19527401,
             "remaining_time": 106.103669,
             "test": [
              0.6653189022,
              0.1515754324
             ]
            },
            {
             "iteration": 333,
             "learn": [
              0.1296273404
             ],
             "passed_time": 21.25495926,
             "remaining_time": 106.0202459,
             "test": [
              0.665313464,
              0.1515765748
             ]
            },
            {
             "iteration": 334,
             "learn": [
              0.1295990081
             ],
             "passed_time": 21.31341369,
             "remaining_time": 105.9308471,
             "test": [
              0.6652957899,
              0.1515779279
             ]
            },
            {
             "iteration": 335,
             "learn": [
              0.1295709915
             ],
             "passed_time": 21.37224032,
             "remaining_time": 105.8434759,
             "test": [
              0.6652849135,
              0.1515787544
             ]
            },
            {
             "iteration": 336,
             "learn": [
              0.1295398412
             ],
             "passed_time": 21.43103575,
             "remaining_time": 105.75612,
             "test": [
              0.6652849135,
              0.1515787621
             ]
            },
            {
             "iteration": 337,
             "learn": [
              0.1295087347
             ],
             "passed_time": 21.48645576,
             "remaining_time": 105.6523357,
             "test": [
              0.6652849135,
              0.1515787757
             ]
            },
            {
             "iteration": 338,
             "learn": [
              0.1294793975
             ],
             "passed_time": 21.54354608,
             "remaining_time": 105.5570208,
             "test": [
              0.6652434473,
              0.1515795173
             ]
            },
            {
             "iteration": 339,
             "learn": [
              0.1294483229
             ],
             "passed_time": 21.60147189,
             "remaining_time": 105.4660098,
             "test": [
              0.6652434473,
              0.1515795436
             ]
            },
            {
             "iteration": 340,
             "learn": [
              0.1294168027
             ],
             "passed_time": 21.65889376,
             "remaining_time": 105.3727412,
             "test": [
              0.6652244137,
              0.1515803002
             ]
            },
            {
             "iteration": 341,
             "learn": [
              0.1293880035
             ],
             "passed_time": 21.71640782,
             "remaining_time": 105.2801292,
             "test": [
              0.6651815879,
              0.151581228
             ]
            },
            {
             "iteration": 342,
             "learn": [
              0.1292842926
             ],
             "passed_time": 21.78367389,
             "remaining_time": 105.2348327,
             "test": [
              0.6653943571,
              0.1515463766
             ]
            },
            {
             "iteration": 343,
             "learn": [
              0.1292541682
             ],
             "passed_time": 21.84310897,
             "remaining_time": 105.1517106,
             "test": [
              0.6653692054,
              0.1515480564
             ]
            },
            {
             "iteration": 344,
             "learn": [
              0.1291215054
             ],
             "passed_time": 21.90722495,
             "remaining_time": 105.0911806,
             "test": [
              0.6649960097,
              0.1515563715
             ]
            },
            {
             "iteration": 345,
             "learn": [
              0.1290919019
             ],
             "passed_time": 21.96410661,
             "remaining_time": 104.9960472,
             "test": [
              0.6649960097,
              0.1515563111
             ]
            },
            {
             "iteration": 346,
             "learn": [
              0.1290622417
             ],
             "passed_time": 22.02515017,
             "remaining_time": 104.9209603,
             "test": [
              0.6649627008,
              0.1515568569
             ]
            },
            {
             "iteration": 347,
             "learn": [
              0.1290312665
             ],
             "passed_time": 22.09180837,
             "remaining_time": 104.8726075,
             "test": [
              0.6649627008,
              0.151556828
             ]
            },
            {
             "iteration": 348,
             "learn": [
              0.1290037135
             ],
             "passed_time": 22.15343121,
             "remaining_time": 104.8003293,
             "test": [
              0.6649735772,
              0.1515452754
             ]
            },
            {
             "iteration": 349,
             "learn": [
              0.1289727489
             ],
             "passed_time": 22.21317296,
             "remaining_time": 104.7192439,
             "test": [
              0.6649735772,
              0.1515452661
             ]
            },
            {
             "iteration": 350,
             "learn": [
              0.1289418341
             ],
             "passed_time": 22.27192184,
             "remaining_time": 104.6336157,
             "test": [
              0.6649735772,
              0.1515452637
             ]
            },
            {
             "iteration": 351,
             "learn": [
              0.1289127605
             ],
             "passed_time": 22.3357337,
             "remaining_time": 104.5718441,
             "test": [
              0.6653277392,
              0.1515302744
             ]
            },
            {
             "iteration": 352,
             "learn": [
              0.1287798737
             ],
             "passed_time": 22.4005238,
             "remaining_time": 104.5146252,
             "test": [
              0.6650680657,
              0.1515269888
             ]
            },
            {
             "iteration": 353,
             "learn": [
              0.1287519455
             ],
             "passed_time": 22.46103995,
             "remaining_time": 104.4374908,
             "test": [
              0.6650680657,
              0.1515268801
             ]
            },
            {
             "iteration": 354,
             "learn": [
              0.1287210842
             ],
             "passed_time": 22.51890605,
             "remaining_time": 104.3481703,
             "test": [
              0.6650680657,
              0.1515268072
             ]
            },
            {
             "iteration": 355,
             "learn": [
              0.1286902389
             ],
             "passed_time": 22.58731031,
             "remaining_time": 104.3076914,
             "test": [
              0.6650680657,
              0.1515267447
             ]
            },
            {
             "iteration": 356,
             "learn": [
              0.1286599944
             ],
             "passed_time": 22.64779667,
             "remaining_time": 104.2306161,
             "test": [
              0.6650680657,
              0.1515266884
             ]
            },
            {
             "iteration": 357,
             "learn": [
              0.1285673911
             ],
             "passed_time": 22.70790221,
             "remaining_time": 104.1518866,
             "test": [
              0.665211498,
              0.1514833673
             ]
            },
            {
             "iteration": 358,
             "learn": [
              0.1285045654
             ],
             "passed_time": 22.7679994,
             "remaining_time": 104.0732229,
             "test": [
              0.664932111,
              0.1514918524
             ]
            },
            {
             "iteration": 359,
             "learn": [
              0.1284417305
             ],
             "passed_time": 22.83000991,
             "remaining_time": 104.0033785,
             "test": [
              0.664751971,
              0.1514989149
             ]
            },
            {
             "iteration": 360,
             "learn": [
              0.1284109333
             ],
             "passed_time": 22.89375502,
             "remaining_time": 103.9414529,
             "test": [
              0.664751971,
              0.1514988213
             ]
            },
            {
             "iteration": 361,
             "learn": [
              0.1283801652
             ],
             "passed_time": 22.95543741,
             "remaining_time": 103.8701836,
             "test": [
              0.664751971,
              0.1514987393
             ]
            },
            {
             "iteration": 362,
             "learn": [
              0.1283503149
             ],
             "passed_time": 23.01219574,
             "remaining_time": 103.7767615,
             "test": [
              0.664751971,
              0.1514986617
             ]
            },
            {
             "iteration": 363,
             "learn": [
              0.1283195611
             ],
             "passed_time": 23.06775075,
             "remaining_time": 103.6781325,
             "test": [
              0.664751971,
              0.1514986023
             ]
            },
            {
             "iteration": 364,
             "learn": [
              0.1282925183
             ],
             "passed_time": 23.12930989,
             "remaining_time": 103.6066347,
             "test": [
              0.6647451733,
              0.1514994206
             ]
            },
            {
             "iteration": 365,
             "learn": [
              0.1282617943
             ],
             "passed_time": 23.19870971,
             "remaining_time": 103.5701958,
             "test": [
              0.6647451733,
              0.1514993845
             ]
            },
            {
             "iteration": 366,
             "learn": [
              0.1282319632
             ],
             "passed_time": 23.26570199,
             "remaining_time": 103.5228647,
             "test": [
              0.6647451733,
              0.1514993511
             ]
            },
            {
             "iteration": 367,
             "learn": [
              0.128202991
             ],
             "passed_time": 23.32760129,
             "remaining_time": 103.4528405,
             "test": [
              0.6647451733,
              0.1514993206
             ]
            },
            {
             "iteration": 368,
             "learn": [
              0.1281744251
             ],
             "passed_time": 23.38385075,
             "remaining_time": 103.3578877,
             "test": [
              0.6647390553,
              0.1514996246
             ]
            },
            {
             "iteration": 369,
             "learn": [
              0.1281444665
             ],
             "passed_time": 23.44087799,
             "remaining_time": 103.2665706,
             "test": [
              0.6647390553,
              0.1514996211
             ]
            },
            {
             "iteration": 370,
             "learn": [
              0.1281138206
             ],
             "passed_time": 23.49594963,
             "remaining_time": 103.1668516,
             "test": [
              0.6647390553,
              0.1514996298
             ]
            },
            {
             "iteration": 371,
             "learn": [
              0.1280831851
             ],
             "passed_time": 23.56037527,
             "remaining_time": 103.108309,
             "test": [
              0.6647390553,
              0.151499645
             ]
            },
            {
             "iteration": 372,
             "learn": [
              0.1280531321
             ],
             "passed_time": 23.62530503,
             "remaining_time": 103.0519337,
             "test": [
              0.6647390553,
              0.1514996628
             ]
            },
            {
             "iteration": 373,
             "learn": [
              0.1280238859
             ],
             "passed_time": 23.68798103,
             "remaining_time": 102.9857143,
             "test": [
              0.6647349767,
              0.151500044
             ]
            },
            {
             "iteration": 374,
             "learn": [
              0.1279576472
             ],
             "passed_time": 23.75068707,
             "remaining_time": 102.919644,
             "test": [
              0.6642815677,
              0.1515184761
             ]
            },
            {
             "iteration": 375,
             "learn": [
              0.1279289242
             ],
             "passed_time": 23.80677595,
             "remaining_time": 102.825011,
             "test": [
              0.6642666126,
              0.1515190574
             ]
            },
            {
             "iteration": 376,
             "learn": [
              0.1279003558
             ],
             "passed_time": 23.8622205,
             "remaining_time": 102.7278087,
             "test": [
              0.6642666126,
              0.1515190737
             ]
            },
            {
             "iteration": 377,
             "learn": [
              0.1278739502
             ],
             "passed_time": 23.91975407,
             "remaining_time": 102.6397913,
             "test": [
              0.6642659329,
              0.1515193527
             ]
            },
            {
             "iteration": 378,
             "learn": [
              0.1278447668
             ],
             "passed_time": 23.97682402,
             "remaining_time": 102.5499518,
             "test": [
              0.6642659329,
              0.1515193937
             ]
            },
            {
             "iteration": 379,
             "learn": [
              0.1278155809
             ],
             "passed_time": 24.034782,
             "remaining_time": 102.4640706,
             "test": [
              0.6643352698,
              0.1515015762
             ]
            },
            {
             "iteration": 380,
             "learn": [
              0.1277875979
             ],
             "passed_time": 24.0928391,
             "remaining_time": 102.3787572,
             "test": [
              0.6642795283,
              0.1515033701
             ]
            },
            {
             "iteration": 381,
             "learn": [
              0.1277600054
             ],
             "passed_time": 24.15104378,
             "remaining_time": 102.2942116,
             "test": [
              0.6642611745,
              0.1515053315
             ]
            },
            {
             "iteration": 382,
             "learn": [
              0.1277306964
             ],
             "passed_time": 24.2090778,
             "remaining_time": 102.209083,
             "test": [
              0.6642401015,
              0.1515075799
             ]
            },
            {
             "iteration": 383,
             "learn": [
              0.1277017209
             ],
             "passed_time": 24.26626779,
             "remaining_time": 102.1205436,
             "test": [
              0.6642339835,
              0.1515080436
             ]
            },
            {
             "iteration": 384,
             "learn": [
              0.1275935087
             ],
             "passed_time": 24.33020615,
             "remaining_time": 102.0604751,
             "test": [
              0.6643862528,
              0.151527588
             ]
            },
            {
             "iteration": 385,
             "learn": [
              0.1275630187
             ],
             "passed_time": 24.38731872,
             "remaining_time": 101.9718456,
             "test": [
              0.6643862528,
              0.1515276353
             ]
            },
            {
             "iteration": 386,
             "learn": [
              0.1275331669
             ],
             "passed_time": 24.44501904,
             "remaining_time": 101.8858287,
             "test": [
              0.6643692585,
              0.1515282598
             ]
            },
            {
             "iteration": 387,
             "learn": [
              0.1275036769
             ],
             "passed_time": 24.50265006,
             "remaining_time": 101.7996698,
             "test": [
              0.6643529439,
              0.1515301232
             ]
            },
            {
             "iteration": 388,
             "learn": [
              0.1274732311
             ],
             "passed_time": 24.55837119,
             "remaining_time": 101.705748,
             "test": [
              0.6643529439,
              0.1515301851
             ]
            },
            {
             "iteration": 389,
             "learn": [
              0.1274436731
             ],
             "passed_time": 24.61615246,
             "remaining_time": 101.6205268,
             "test": [
              0.6643529439,
              0.1515302448
             ]
            },
            {
             "iteration": 390,
             "learn": [
              0.1274132866
             ],
             "passed_time": 24.67362224,
             "remaining_time": 101.5341642,
             "test": [
              0.6643529439,
              0.1515303151
             ]
            },
            {
             "iteration": 391,
             "learn": [
              0.1273837221
             ],
             "passed_time": 24.73480459,
             "remaining_time": 101.463178,
             "test": [
              0.6643529439,
              0.1515303832
             ]
            },
            {
             "iteration": 392,
             "learn": [
              0.1273541247
             ],
             "passed_time": 24.79573312,
             "remaining_time": 101.3912039,
             "test": [
              0.6643298316,
              0.1515310134
             ]
            },
            {
             "iteration": 393,
             "learn": [
              0.1273237818
             ],
             "passed_time": 24.85474358,
             "remaining_time": 101.3114675,
             "test": [
              0.6643298316,
              0.1515310952
             ]
            },
            {
             "iteration": 394,
             "learn": [
              0.1272934425
             ],
             "passed_time": 24.9117204,
             "remaining_time": 101.2235728,
             "test": [
              0.6643223541,
              0.1515323283
             ]
            },
            {
             "iteration": 395,
             "learn": [
              0.1272655245
             ],
             "passed_time": 24.96840573,
             "remaining_time": 101.1346535,
             "test": [
              0.6643162361,
              0.1515333315
             ]
            },
            {
             "iteration": 396,
             "learn": [
              0.1272352239
             ],
             "passed_time": 25.02488927,
             "remaining_time": 101.0450819,
             "test": [
              0.6643162361,
              0.1515334242
             ]
            },
            {
             "iteration": 397,
             "learn": [
              0.1272049334
             ],
             "passed_time": 25.08213209,
             "remaining_time": 100.9587327,
             "test": [
              0.6643162361,
              0.1515335193
             ]
            },
            {
             "iteration": 398,
             "learn": [
              0.1271763608
             ],
             "passed_time": 25.1421003,
             "remaining_time": 100.8834651,
             "test": [
              0.6643162361,
              0.1515336024
             ]
            },
            {
             "iteration": 399,
             "learn": [
              0.1271469249
             ],
             "passed_time": 25.19936532,
             "remaining_time": 100.7974613,
             "test": [
              0.6643162361,
              0.1515336981
             ]
            },
            {
             "iteration": 400,
             "learn": [
              0.1271166826
             ],
             "passed_time": 25.25866954,
             "remaining_time": 100.7197321,
             "test": [
              0.6642734104,
              0.1515355329
             ]
            },
            {
             "iteration": 401,
             "learn": [
              0.1270871071
             ],
             "passed_time": 25.32156816,
             "remaining_time": 100.6563829,
             "test": [
              0.6642734104,
              0.1515356348
             ]
            },
            {
             "iteration": 402,
             "learn": [
              0.1270569073
             ],
             "passed_time": 25.38302234,
             "remaining_time": 100.5873118,
             "test": [
              0.6642734104,
              0.1515357433
             ]
            },
            {
             "iteration": 403,
             "learn": [
              0.1270284779
             ],
             "passed_time": 25.44319762,
             "remaining_time": 100.5132262,
             "test": [
              0.6642734104,
              0.1515358387
             ]
            },
            {
             "iteration": 404,
             "learn": [
              0.1269983063
             ],
             "passed_time": 25.50338815,
             "remaining_time": 100.4392694,
             "test": [
              0.6642734104,
              0.1515359525
             ]
            },
            {
             "iteration": 405,
             "learn": [
              0.1269681201
             ],
             "passed_time": 25.56020919,
             "remaining_time": 100.3521513,
             "test": [
              0.6642679722,
              0.1515371792
             ]
            },
            {
             "iteration": 406,
             "learn": [
              0.1269379502
             ],
             "passed_time": 25.61764163,
             "remaining_time": 100.2675752,
             "test": [
              0.6642679722,
              0.1515372959
             ]
            },
            {
             "iteration": 407,
             "learn": [
              0.1269078409
             ],
             "passed_time": 25.67537545,
             "remaining_time": 100.1843081,
             "test": [
              0.6642435003,
              0.1515382082
             ]
            },
            {
             "iteration": 408,
             "learn": [
              0.1268790322
             ],
             "passed_time": 25.73317447,
             "remaining_time": 100.1014195,
             "test": [
              0.6647186621,
              0.1515228087
             ]
            },
            {
             "iteration": 409,
             "learn": [
              0.1268519487
             ],
             "passed_time": 25.79192623,
             "remaining_time": 100.0223481,
             "test": [
              0.6647145835,
              0.1515232966
             ]
            },
            {
             "iteration": 410,
             "learn": [
              0.126824375
             ],
             "passed_time": 25.84945884,
             "remaining_time": 99.93866202,
             "test": [
              0.6647145835,
              0.1515234033
             ]
            },
            {
             "iteration": 411,
             "learn": [
              0.1267942945
             ],
             "passed_time": 25.90856063,
             "remaining_time": 99.86115118,
             "test": [
              0.6647145835,
              0.1515235329
             ]
            },
            {
             "iteration": 412,
             "learn": [
              0.1267642503
             ],
             "passed_time": 25.9651195,
             "remaining_time": 99.773958,
             "test": [
              0.6646928307,
              0.1515257727
             ]
            },
            {
             "iteration": 413,
             "learn": [
              0.1267342244
             ],
             "passed_time": 26.02249637,
             "remaining_time": 99.69004646,
             "test": [
              0.6646928307,
              0.1515259036
             ]
            },
            {
             "iteration": 414,
             "learn": [
              0.1267064706
             ],
             "passed_time": 26.07983198,
             "remaining_time": 99.60610526,
             "test": [
              0.6646785555,
              0.1515266929
             ]
            },
            {
             "iteration": 415,
             "learn": [
              0.1266764639
             ],
             "passed_time": 26.13672289,
             "remaining_time": 99.52059868,
             "test": [
              0.6646785555,
              0.1515268276
             ]
            },
            {
             "iteration": 416,
             "learn": [
              0.1266474111
             ],
             "passed_time": 26.19460212,
             "remaining_time": 99.43898117,
             "test": [
              0.6646785555,
              0.1515269559
             ]
            },
            {
             "iteration": 417,
             "learn": [
              0.1266191783
             ],
             "passed_time": 26.25005125,
             "remaining_time": 99.3482801,
             "test": [
              0.6646656398,
              0.151527493
             ]
            },
            {
             "iteration": 418,
             "learn": [
              0.1265917008
             ],
             "passed_time": 26.30565739,
             "remaining_time": 99.25833969,
             "test": [
              0.6646656398,
              0.1515276117
             ]
            },
            {
             "iteration": 419,
             "learn": [
              0.126562488
             ],
             "passed_time": 26.3625895,
             "remaining_time": 99.17355099,
             "test": [
              0.6646656398,
              0.1515277491
             ]
            },
            {
             "iteration": 420,
             "learn": [
              0.1265116231
             ],
             "passed_time": 26.42556371,
             "remaining_time": 99.11155604,
             "test": [
              0.6647023475,
              0.1515278583
             ]
            },
            {
             "iteration": 421,
             "learn": [
              0.1264816985
             ],
             "passed_time": 26.48636306,
             "remaining_time": 99.04142397,
             "test": [
              0.6647023475,
              0.1515280078
             ]
            },
            {
             "iteration": 422,
             "learn": [
              0.1264525853
             ],
             "passed_time": 26.54324977,
             "remaining_time": 98.95674913,
             "test": [
              0.66469487,
              0.1515302032
             ]
            },
            {
             "iteration": 423,
             "learn": [
              0.126426762
             ],
             "passed_time": 26.60017242,
             "remaining_time": 98.87233901,
             "test": [
              0.66469487,
              0.1515303221
             ]
            },
            {
             "iteration": 424,
             "learn": [
              0.126396829
             ],
             "passed_time": 26.65933889,
             "remaining_time": 98.79637352,
             "test": [
              0.66469487,
              0.1515304766
             ]
            },
            {
             "iteration": 425,
             "learn": [
              0.1263683806
             ],
             "passed_time": 26.72142114,
             "remaining_time": 98.73126028,
             "test": [
              0.66469487,
              0.1515306189
             ]
            },
            {
             "iteration": 426,
             "learn": [
              0.1263390884
             ],
             "passed_time": 26.78307566,
             "remaining_time": 98.6645855,
             "test": [
              0.66469487,
              0.1515307704
             ]
            },
            {
             "iteration": 427,
             "learn": [
              0.1263091845
             ],
             "passed_time": 26.84077689,
             "remaining_time": 98.58341418,
             "test": [
              0.6646425275,
              0.1515335471
             ]
            },
            {
             "iteration": 428,
             "learn": [
              0.1262793227
             ],
             "passed_time": 26.89944619,
             "remaining_time": 98.50589735,
             "test": [
              0.6646425275,
              0.1515337024
             ]
            },
            {
             "iteration": 429,
             "learn": [
              0.1262513207
             ],
             "passed_time": 26.95761558,
             "remaining_time": 98.42664294,
             "test": [
              0.6646302915,
              0.1515344396
             ]
            },
            {
             "iteration": 430,
             "learn": [
              0.1262214669
             ],
             "passed_time": 27.01794382,
             "remaining_time": 98.35534537,
             "test": [
              0.6646302915,
              0.1515345965
             ]
            },
            {
             "iteration": 431,
             "learn": [
              0.1261924728
             ],
             "passed_time": 27.07404003,
             "remaining_time": 98.26873789,
             "test": [
              0.6646153365,
              0.1515354992
             ]
            },
            {
             "iteration": 432,
             "learn": [
              0.1261626699
             ],
             "passed_time": 27.13040086,
             "remaining_time": 98.183229,
             "test": [
              0.6646153365,
              0.1515356562
             ]
            },
            {
             "iteration": 433,
             "learn": [
              0.1261348633
             ],
             "passed_time": 27.19053986,
             "remaining_time": 98.11148713,
             "test": [
              0.6646153365,
              0.1515357974
             ]
            },
            {
             "iteration": 434,
             "learn": [
              0.126107028
             ],
             "passed_time": 27.25028623,
             "remaining_time": 98.03838608,
             "test": [
              0.6645956231,
              0.1515373184
             ]
            },
            {
             "iteration": 435,
             "learn": [
              0.126077254
             ],
             "passed_time": 27.31209728,
             "remaining_time": 97.97275262,
             "test": [
              0.6645956231,
              0.1515374786
             ]
            },
            {
             "iteration": 436,
             "learn": [
              0.1260083835
             ],
             "passed_time": 27.37770378,
             "remaining_time": 97.92071169,
             "test": [
              0.6638730237,
              0.151549108
             ]
            },
            {
             "iteration": 437,
             "learn": [
              0.1259785873
             ],
             "passed_time": 27.43328867,
             "remaining_time": 97.83286962,
             "test": [
              0.6638730237,
              0.1515492529
             ]
            },
            {
             "iteration": 438,
             "learn": [
              0.1259510624
             ],
             "passed_time": 27.49098177,
             "remaining_time": 97.75267095,
             "test": [
              0.6638635069,
              0.1515499446
             ]
            },
            {
             "iteration": 439,
             "learn": [
              0.1259213313
             ],
             "passed_time": 27.54852405,
             "remaining_time": 97.67203981,
             "test": [
              0.6638635069,
              0.1515500929
             ]
            },
            {
             "iteration": 440,
             "learn": [
              0.1258915926
             ],
             "passed_time": 27.6072241,
             "remaining_time": 97.59560628,
             "test": [
              0.6639389618,
              0.151530337
             ]
            },
            {
             "iteration": 441,
             "learn": [
              0.1258618742
             ],
             "passed_time": 27.66496666,
             "remaining_time": 97.51587797,
             "test": [
              0.6639246865,
              0.1515329029
             ]
            },
            {
             "iteration": 442,
             "learn": [
              0.1258321498
             ],
             "passed_time": 27.72346072,
             "remaining_time": 97.43889016,
             "test": [
              0.6639246865,
              0.1515330517
             ]
            },
            {
             "iteration": 443,
             "learn": [
              0.1258024694
             ],
             "passed_time": 27.78183927,
             "remaining_time": 97.36158088,
             "test": [
              0.6639246865,
              0.1515332007
             ]
            },
            {
             "iteration": 444,
             "learn": [
              0.1256800011
             ],
             "passed_time": 27.84496685,
             "remaining_time": 97.30095158,
             "test": [
              0.6639817875,
              0.1515318628
             ]
            },
            {
             "iteration": 445,
             "learn": [
              0.1256503289
             ],
             "passed_time": 27.91028377,
             "remaining_time": 97.24793942,
             "test": [
              0.6639477988,
              0.1515326092
             ]
            },
            {
             "iteration": 446,
             "learn": [
              0.1255875307
             ],
             "passed_time": 27.97470467,
             "remaining_time": 97.19175916,
             "test": [
              0.6641157029,
              0.1515280113
             ]
            },
            {
             "iteration": 447,
             "learn": [
              0.1255584947
             ],
             "passed_time": 28.0362048,
             "remaining_time": 97.12542379,
             "test": [
              0.6641157029,
              0.1515280954
             ]
            },
            {
             "iteration": 448,
             "learn": [
              0.1255327874
             ],
             "passed_time": 28.09843702,
             "remaining_time": 97.06163879,
             "test": [
              0.6640769558,
              0.1515287589
             ]
            },
            {
             "iteration": 449,
             "learn": [
              0.1255031503
             ],
             "passed_time": 28.15997791,
             "remaining_time": 96.99547946,
             "test": [
              0.6640769558,
              0.1515288592
             ]
            },
            {
             "iteration": 450,
             "learn": [
              0.1254735353
             ],
             "passed_time": 28.22013077,
             "remaining_time": 96.92457332,
             "test": [
              0.6640769558,
              0.1515289624
             ]
            },
            {
             "iteration": 451,
             "learn": [
              0.1254439098
             ],
             "passed_time": 28.28165716,
             "remaining_time": 96.85841878,
             "test": [
              0.6640327705,
              0.1515308035
             ]
            },
            {
             "iteration": 452,
             "learn": [
              0.1254143217
             ],
             "passed_time": 28.34260893,
             "remaining_time": 96.79032234,
             "test": [
              0.6640327705,
              0.151530912
             ]
            },
            {
             "iteration": 453,
             "learn": [
              0.1253847479
             ],
             "passed_time": 28.40323921,
             "remaining_time": 96.7211626,
             "test": [
              0.6640327705,
              0.151531023
             ]
            },
            {
             "iteration": 454,
             "learn": [
              0.1252818593
             ],
             "passed_time": 28.4708131,
             "remaining_time": 96.67561811,
             "test": [
              0.664607859,
              0.1515396991
             ]
            },
            {
             "iteration": 455,
             "learn": [
              0.1252542764
             ],
             "passed_time": 28.53501541,
             "remaining_time": 96.61856096,
             "test": [
              0.664607859,
              0.1515397447
             ]
            },
            {
             "iteration": 456,
             "learn": [
              0.1252247192
             ],
             "passed_time": 28.59776354,
             "remaining_time": 96.55656266,
             "test": [
              0.664607859,
              0.1515398135
             ]
            },
            {
             "iteration": 457,
             "learn": [
              0.1251692569
             ],
             "passed_time": 28.6659985,
             "remaining_time": 96.51303426,
             "test": [
              0.6644080056,
              0.1515244727
             ]
            },
            {
             "iteration": 458,
             "learn": [
              0.125140501
             ],
             "passed_time": 28.73191454,
             "remaining_time": 96.46161287,
             "test": [
              0.6643991685,
              0.1515255476
             ]
            },
            {
             "iteration": 459,
             "learn": [
              0.1251109672
             ],
             "passed_time": 28.79162271,
             "remaining_time": 96.38934558,
             "test": [
              0.6643957696,
              0.1515269013
             ]
            },
            {
             "iteration": 460,
             "learn": [
              0.1250821435
             ],
             "passed_time": 28.85038296,
             "remaining_time": 96.31396829,
             "test": [
              0.6643957696,
              0.1515269804
             ]
            },
            {
             "iteration": 461,
             "learn": [
              0.1249860096
             ],
             "passed_time": 28.91429478,
             "remaining_time": 96.25581249,
             "test": [
              0.6640830738,
              0.1515249558
             ]
            },
            {
             "iteration": 462,
             "learn": [
              0.1249576833
             ],
             "passed_time": 28.97170856,
             "remaining_time": 96.17606059,
             "test": [
              0.6640830738,
              0.1515249733
             ]
            },
            {
             "iteration": 463,
             "learn": [
              0.1249290173
             ],
             "passed_time": 29.03179659,
             "remaining_time": 96.10525768,
             "test": [
              0.6640830738,
              0.1515250021
             ]
            },
            {
             "iteration": 464,
             "learn": [
              0.1249009795
             ],
             "passed_time": 29.08927458,
             "remaining_time": 96.02588489,
             "test": [
              0.6640830738,
              0.151525032
             ]
            },
            {
             "iteration": 465,
             "learn": [
              0.1248715017
             ],
             "passed_time": 29.14619428,
             "remaining_time": 95.94476828,
             "test": [
              0.6640830738,
              0.1515250825
             ]
            },
            {
             "iteration": 466,
             "learn": [
              0.1248420506
             ],
             "passed_time": 29.20415175,
             "remaining_time": 95.86716197,
             "test": [
              0.6640830738,
              0.1515251388
             ]
            },
            {
             "iteration": 467,
             "learn": [
              0.1248126365
             ],
             "passed_time": 29.26037671,
             "remaining_time": 95.78396822,
             "test": [
              0.6640830738,
              0.1515252003
             ]
            },
            {
             "iteration": 468,
             "learn": [
              0.1247832334
             ],
             "passed_time": 29.31694959,
             "remaining_time": 95.70202519,
             "test": [
              0.6640830738,
              0.151525267
             ]
            },
            {
             "iteration": 469,
             "learn": [
              0.1247562191
             ],
             "passed_time": 29.37255268,
             "remaining_time": 95.61703319,
             "test": [
              0.6640830738,
              0.1515253193
             ]
            },
            {
             "iteration": 470,
             "learn": [
              0.1246927671
             ],
             "passed_time": 29.44000128,
             "remaining_time": 95.57061987,
             "test": [
              0.6642129105,
              0.1515211361
             ]
            },
            {
             "iteration": 471,
             "learn": [
              0.1246640144
             ],
             "passed_time": 29.49491226,
             "remaining_time": 95.48352951,
             "test": [
              0.6642129105,
              0.1515211934
             ]
            },
            {
             "iteration": 472,
             "learn": [
              0.1246346518
             ],
             "passed_time": 29.55000786,
             "remaining_time": 95.39717125,
             "test": [
              0.6642129105,
              0.1515212611
             ]
            },
            {
             "iteration": 473,
             "learn": [
              0.1246053031
             ],
             "passed_time": 29.60587199,
             "remaining_time": 95.3134191,
             "test": [
              0.6641979555,
              0.1515222187
             ]
            },
            {
             "iteration": 474,
             "learn": [
              0.1245759479
             ],
             "passed_time": 29.66140362,
             "remaining_time": 95.2287169,
             "test": [
              0.6641979555,
              0.151522296
             ]
            },
            {
             "iteration": 475,
             "learn": [
              0.1245466087
             ],
             "passed_time": 29.71705355,
             "remaining_time": 95.14451599,
             "test": [
              0.6641979555,
              0.1515223778
             ]
            },
            {
             "iteration": 476,
             "learn": [
              0.1245172915
             ],
             "passed_time": 29.77312385,
             "remaining_time": 95.06177698,
             "test": [
              0.6641979555,
              0.1515224639
             ]
            },
            {
             "iteration": 477,
             "learn": [
              0.1244892674
             ],
             "passed_time": 29.82949726,
             "remaining_time": 94.98011471,
             "test": [
              0.6641585286,
              0.1515245124
             ]
            },
            {
             "iteration": 478,
             "learn": [
              0.1244631897
             ],
             "passed_time": 29.88481298,
             "remaining_time": 94.89519947,
             "test": [
              0.6641252197,
              0.1515251015
             ]
            },
            {
             "iteration": 479,
             "learn": [
              0.1244352868
             ],
             "passed_time": 29.94030974,
             "remaining_time": 94.81098086,
             "test": [
              0.6641252197,
              0.1515251921
             ]
            },
            {
             "iteration": 480,
             "learn": [
              0.1244072136
             ],
             "passed_time": 29.99611004,
             "remaining_time": 94.72784024,
             "test": [
              0.6641191018,
              0.1515265079
             ]
            },
            {
             "iteration": 481,
             "learn": [
              0.1243780121
             ],
             "passed_time": 30.05222913,
             "remaining_time": 94.64581705,
             "test": [
              0.6641116243,
              0.1515289489
             ]
            },
            {
             "iteration": 482,
             "learn": [
              0.1243488177
             ],
             "passed_time": 30.11021927,
             "remaining_time": 94.56977772,
             "test": [
              0.6641116243,
              0.151529063
             ]
            },
            {
             "iteration": 483,
             "learn": [
              0.1243196396
             ],
             "passed_time": 30.16896891,
             "remaining_time": 94.49619187,
             "test": [
              0.6641116243,
              0.1515291799
             ]
            },
            {
             "iteration": 484,
             "learn": [
              0.1242904615
             ],
             "passed_time": 30.22661689,
             "remaining_time": 94.41922596,
             "test": [
              0.6641116243,
              0.1515292994
             ]
            },
            {
             "iteration": 485,
             "learn": [
              0.1242613076
             ],
             "passed_time": 30.28277081,
             "remaining_time": 94.3376852,
             "test": [
              0.6641116243,
              0.1515294212
             ]
            },
            {
             "iteration": 486,
             "learn": [
              0.1242339351
             ],
             "passed_time": 30.34074,
             "remaining_time": 94.26188833,
             "test": [
              0.6641048265,
              0.1515301622
             ]
            },
            {
             "iteration": 487,
             "learn": [
              0.124206338
             ],
             "passed_time": 30.40030483,
             "remaining_time": 94.1911084,
             "test": [
              0.6640980288,
              0.1515306629
             ]
            },
            {
             "iteration": 488,
             "learn": [
              0.1241772196
             ],
             "passed_time": 30.45760552,
             "remaining_time": 94.11337821,
             "test": [
              0.6640980288,
              0.1515307952
             ]
            },
            {
             "iteration": 489,
             "learn": [
              0.1241488908
             ],
             "passed_time": 30.51485522,
             "remaining_time": 94.03557425,
             "test": [
              0.6640980288,
              0.1515309234
             ]
            },
            {
             "iteration": 490,
             "learn": [
              0.1241198233
             ],
             "passed_time": 30.57275682,
             "remaining_time": 93.95985753,
             "test": [
              0.6640980288,
              0.1515310602
             ]
            },
            {
             "iteration": 491,
             "learn": [
              0.1240913554
             ],
             "passed_time": 30.63082801,
             "remaining_time": 93.884733,
             "test": [
              0.6640980288,
              0.1515311941
             ]
            },
            {
             "iteration": 492,
             "learn": [
              0.1240631854
             ],
             "passed_time": 30.68949648,
             "remaining_time": 93.81150343,
             "test": [
              0.6640980288,
              0.1515313276
             ]
            },
            {
             "iteration": 493,
             "learn": [
              0.1240341443
             ],
             "passed_time": 30.74791458,
             "remaining_time": 93.73756954,
             "test": [
              0.6640980288,
              0.1515314708
             ]
            },
            {
             "iteration": 494,
             "learn": [
              0.1240067141
             ],
             "passed_time": 30.80539169,
             "remaining_time": 93.66083735,
             "test": [
              0.6640980288,
              0.1515316007
             ]
            },
            {
             "iteration": 495,
             "learn": [
              0.1239777071
             ],
             "passed_time": 30.8672734,
             "remaining_time": 93.59753871,
             "test": [
              0.6640980288,
              0.1515317486
             ]
            },
            {
             "iteration": 496,
             "learn": [
              0.1239184668
             ],
             "passed_time": 30.94026001,
             "remaining_time": 93.56782858,
             "test": [
              0.6639940234,
              0.1515359928
             ]
            },
            {
             "iteration": 497,
             "learn": [
              0.123889467
             ],
             "passed_time": 30.99908477,
             "remaining_time": 93.49523159,
             "test": [
              0.6639940234,
              0.1515361378
             ]
            },
            {
             "iteration": 498,
             "learn": [
              0.1238610914
             ],
             "passed_time": 31.06107174,
             "remaining_time": 93.43220177,
             "test": [
              0.6639940234,
              0.1515362798
             ]
            },
            {
             "iteration": 499,
             "learn": [
              0.1238340291
             ],
             "passed_time": 31.12176443,
             "remaining_time": 93.36529329,
             "test": [
              0.6639199281,
              0.1515401231
             ]
            },
            {
             "iteration": 500,
             "learn": [
              0.1238050714
             ],
             "passed_time": 31.18516838,
             "remaining_time": 93.30652176,
             "test": [
              0.6639199281,
              0.1515402747
             ]
            },
            {
             "iteration": 501,
             "learn": [
              0.1237761136
             ],
             "passed_time": 31.24630052,
             "remaining_time": 93.24095256,
             "test": [
              0.6639199281,
              0.1515404273
             ]
            },
            {
             "iteration": 502,
             "learn": [
              0.1237471822
             ],
             "passed_time": 31.30548874,
             "remaining_time": 93.16961558,
             "test": [
              0.6639199281,
              0.151540581
             ]
            },
            {
             "iteration": 503,
             "learn": [
              0.1237182884
             ],
             "passed_time": 31.36599097,
             "remaining_time": 93.10222717,
             "test": [
              0.6639199281,
              0.1515407356
             ]
            },
            {
             "iteration": 504,
             "learn": [
              0.1236900964
             ],
             "passed_time": 31.42888859,
             "remaining_time": 93.04195732,
             "test": [
              0.6639199281,
              0.1515408855
             ]
            },
            {
             "iteration": 505,
             "learn": [
              0.1235667579
             ],
             "passed_time": 31.49167267,
             "remaining_time": 92.98134185,
             "test": [
              0.6648403416,
              0.1514612233
             ]
            },
            {
             "iteration": 506,
             "learn": [
              0.1235384231
             ],
             "passed_time": 31.54883254,
             "remaining_time": 92.90415577,
             "test": [
              0.6648403416,
              0.1514612406
             ]
            },
            {
             "iteration": 507,
             "learn": [
              0.1235112013
             ],
             "passed_time": 31.60689747,
             "remaining_time": 92.82970675,
             "test": [
              0.6648403416,
              0.1514612546
             ]
            },
            {
             "iteration": 508,
             "learn": [
              0.1234835933
             ],
             "passed_time": 31.66292623,
             "remaining_time": 92.74935757,
             "test": [
              0.6648403416,
              0.1514612824
             ]
            },
            {
             "iteration": 509,
             "learn": [
              0.1234546992
             ],
             "passed_time": 31.71857553,
             "remaining_time": 92.66799517,
             "test": [
              0.6648403416,
              0.1514613304
             ]
            },
            {
             "iteration": 510,
             "learn": [
              0.1234266578
             ],
             "passed_time": 31.77461341,
             "remaining_time": 92.58786568,
             "test": [
              0.6648247068,
              0.1514647114
             ]
            },
            {
             "iteration": 511,
             "learn": [
              0.1233978013
             ],
             "passed_time": 31.83444519,
             "remaining_time": 92.51885634,
             "test": [
              0.6648247068,
              0.151464773
             ]
            },
            {
             "iteration": 512,
             "learn": [
              0.1233689694
             ],
             "passed_time": 31.89140143,
             "remaining_time": 92.44154763,
             "test": [
              0.6648247068,
              0.1514648405
             ]
            },
            {
             "iteration": 513,
             "learn": [
              0.1233424793
             ],
             "passed_time": 31.95144109,
             "remaining_time": 92.37323242,
             "test": [
              0.664866173,
              0.151445562
             ]
            },
            {
             "iteration": 514,
             "learn": [
              0.1233136517
             ],
             "passed_time": 32.0282689,
             "remaining_time": 92.35335791,
             "test": [
              0.6648267461,
              0.1514479302
             ]
            },
            {
             "iteration": 515,
             "learn": [
              0.1232848482
             ],
             "passed_time": 32.10597945,
             "remaining_time": 92.33580137,
             "test": [
              0.6648267461,
              0.1514480162
             ]
            },
            {
             "iteration": 516,
             "learn": [
              0.1232560428
             ],
             "passed_time": 32.16487958,
             "remaining_time": 92.26405498,
             "test": [
              0.6648267461,
              0.1514481068
             ]
            },
            {
             "iteration": 517,
             "learn": [
              0.1232272888
             ],
             "passed_time": 32.22308998,
             "remaining_time": 92.19038484,
             "test": [
              0.6648267461,
              0.1514482018
             ]
            },
            {
             "iteration": 518,
             "learn": [
              0.1232004231
             ],
             "passed_time": 32.2815497,
             "remaining_time": 92.11748575,
             "test": [
              0.6648267461,
              0.1514482854
             ]
            },
            {
             "iteration": 519,
             "learn": [
              0.1231724596
             ],
             "passed_time": 32.34331325,
             "remaining_time": 92.05404541,
             "test": [
              0.6648267461,
              0.1514483844
             ]
            },
            {
             "iteration": 520,
             "learn": [
              0.1231445811
             ],
             "passed_time": 32.4019813,
             "remaining_time": 91.98182408,
             "test": [
              0.6648267461,
              0.1514484873
             ]
            },
            {
             "iteration": 521,
             "learn": [
              0.1231166934
             ],
             "passed_time": 32.46021032,
             "remaining_time": 91.90841159,
             "test": [
              0.6648083922,
              0.1514492429
             ]
            },
            {
             "iteration": 522,
             "learn": [
              0.1230879648
             ],
             "passed_time": 32.51945661,
             "remaining_time": 91.83793006,
             "test": [
              0.6648083922,
              0.1514493618
             ]
            },
            {
             "iteration": 523,
             "learn": [
              0.1230592488
             ],
             "passed_time": 32.57663681,
             "remaining_time": 91.76167163,
             "test": [
              0.6648083922,
              0.1514494838
             ]
            },
            {
             "iteration": 524,
             "learn": [
              0.1230305677
             ],
             "passed_time": 32.63333064,
             "remaining_time": 91.68411942,
             "test": [
              0.6648083922,
              0.1514496086
             ]
            },
            {
             "iteration": 525,
             "learn": [
              0.1230018955
             ],
             "passed_time": 32.6934773,
             "remaining_time": 91.61632231,
             "test": [
              0.6648056731,
              0.151451136
             ]
            },
            {
             "iteration": 526,
             "learn": [
              0.1229732542
             ],
             "passed_time": 32.75037375,
             "remaining_time": 91.5394697,
             "test": [
              0.6648056731,
              0.1514512662
             ]
            },
            {
             "iteration": 527,
             "learn": [
              0.122944615
             ],
             "passed_time": 32.80811327,
             "remaining_time": 91.46504306,
             "test": [
              0.6648056731,
              0.151451399
             ]
            },
            {
             "iteration": 528,
             "learn": [
              0.1228547231
             ],
             "passed_time": 32.86872946,
             "remaining_time": 91.39867872,
             "test": [
              0.6650123243,
              0.1514455522
             ]
            },
            {
             "iteration": 529,
             "learn": [
              0.1228268928
             ],
             "passed_time": 32.92744668,
             "remaining_time": 91.3270691,
             "test": [
              0.6650123243,
              0.1514456397
             ]
            },
            {
             "iteration": 530,
             "learn": [
              0.1227990684
             ],
             "passed_time": 32.98293003,
             "remaining_time": 91.2465616,
             "test": [
              0.6650096052,
              0.151446812
             ]
            },
            {
             "iteration": 531,
             "learn": [
              0.1227704636
             ],
             "passed_time": 33.04048972,
             "remaining_time": 91.17187764,
             "test": [
              0.6650096052,
              0.1514469163
             ]
            },
            {
             "iteration": 532,
             "learn": [
              0.1227418768
             ],
             "passed_time": 33.0978,
             "remaining_time": 91.09657147,
             "test": [
              0.6650096052,
              0.1514470246
             ]
            },
            {
             "iteration": 533,
             "learn": [
              0.1227133027
             ],
             "passed_time": 33.15537802,
             "remaining_time": 91.02206775,
             "test": [
              0.6650096052,
              0.1514471366
             ]
            },
            {
             "iteration": 534,
             "learn": [
              0.1226863216
             ],
             "passed_time": 33.21278892,
             "remaining_time": 90.94716967,
             "test": [
              0.6649715379,
              0.1514499273
             ]
            },
            {
             "iteration": 535,
             "learn": [
              0.1226577855
             ],
             "passed_time": 33.26906272,
             "remaining_time": 90.869231,
             "test": [
              0.6649715379,
              0.1514500481
             ]
            },
            {
             "iteration": 536,
             "learn": [
              0.122629271
             ],
             "passed_time": 33.32546455,
             "remaining_time": 90.79172185,
             "test": [
              0.6649715379,
              0.1514501721
             ]
            },
            {
             "iteration": 537,
             "learn": [
              0.122600748
             ],
             "passed_time": 33.38230333,
             "remaining_time": 90.71547858,
             "test": [
              0.6649715379,
              0.1514502992
             ]
            },
            {
             "iteration": 538,
             "learn": [
              0.1225735611
             ],
             "passed_time": 33.43814567,
             "remaining_time": 90.63660636,
             "test": [
              0.6649715379,
              0.1514504171
             ]
            },
            {
             "iteration": 539,
             "learn": [
              0.122546402
             ],
             "passed_time": 33.49368281,
             "remaining_time": 90.55699426,
             "test": [
              0.6649477458,
              0.1514531099
             ]
            },
            {
             "iteration": 540,
             "learn": [
              0.1225178989
             ],
             "passed_time": 33.54874241,
             "remaining_time": 90.47618332,
             "test": [
              0.6649477458,
              0.1514532482
             ]
            },
            {
             "iteration": 541,
             "learn": [
              0.1224894544
             ],
             "passed_time": 33.60510858,
             "remaining_time": 90.39898211,
             "test": [
              0.6649477458,
              0.1514533888
             ]
            },
            {
             "iteration": 542,
             "learn": [
              0.1224626142
             ],
             "passed_time": 33.66397554,
             "remaining_time": 90.32856789,
             "test": [
              0.6649198751,
              0.1514540294
             ]
            },
            {
             "iteration": 543,
             "learn": [
              0.1224341619
             ],
             "passed_time": 33.7271482,
             "remaining_time": 90.26972019,
             "test": [
              0.664902201,
              0.1514563249
             ]
            },
            {
             "iteration": 544,
             "learn": [
              0.1224057421
             ],
             "passed_time": 33.7880871,
             "remaining_time": 90.20489308,
             "test": [
              0.664902201,
              0.1514564736
             ]
            },
            {
             "iteration": 545,
             "learn": [
              0.1223787427
             ],
             "passed_time": 33.84458205,
             "remaining_time": 90.12824598,
             "test": [
              0.664902201,
              0.1514566117
             ]
            },
            {
             "iteration": 546,
             "learn": [
              0.1223503666
             ],
             "passed_time": 33.90325848,
             "remaining_time": 90.05746723,
             "test": [
              0.664902201,
              0.1514567657
             ]
            },
            {
             "iteration": 547,
             "learn": [
              0.1223219698
             ],
             "passed_time": 33.96094913,
             "remaining_time": 89.98412069,
             "test": [
              0.6648994819,
              0.1514582639
             ]
            },
            {
             "iteration": 548,
             "learn": [
              0.1222970804
             ],
             "passed_time": 34.02820565,
             "remaining_time": 89.93611366,
             "test": [
              0.6648797684,
              0.1514588247
             ]
            },
            {
             "iteration": 549,
             "learn": [
              0.1222687544
             ],
             "passed_time": 34.09372261,
             "remaining_time": 89.88345052,
             "test": [
              0.6648682123,
              0.1514615332
             ]
            },
            {
             "iteration": 550,
             "learn": [
              0.1222403941
             ],
             "passed_time": 34.15528275,
             "remaining_time": 89.82033522,
             "test": [
              0.6648682123,
              0.1514616974
             ]
            },
            {
             "iteration": 551,
             "learn": [
              0.1222120567
             ],
             "passed_time": 34.21781129,
             "remaining_time": 89.75976586,
             "test": [
              0.6648682123,
              0.1514618626
             ]
            },
            {
             "iteration": 552,
             "learn": [
              0.1221837609
             ],
             "passed_time": 34.27616352,
             "remaining_time": 89.6882615,
             "test": [
              0.6648682123,
              0.151462029
             ]
            },
            {
             "iteration": 553,
             "learn": [
              0.1221554726
             ],
             "passed_time": 34.33414187,
             "remaining_time": 89.61582878,
             "test": [
              0.6648682123,
              0.1514621964
             ]
            },
            {
             "iteration": 554,
             "learn": [
              0.1221272113
             ],
             "passed_time": 34.39244939,
             "remaining_time": 89.54430516,
             "test": [
              0.6648682123,
              0.151462365
             ]
            },
            {
             "iteration": 555,
             "learn": [
              0.1220995634
             ],
             "passed_time": 34.45162039,
             "remaining_time": 89.47507166,
             "test": [
              0.6648682123,
              0.1514625295
             ]
            },
            {
             "iteration": 556,
             "learn": [
              0.1220725927
             ],
             "passed_time": 34.51292407,
             "remaining_time": 89.41139935,
             "test": [
              0.6648682123,
              0.1514626889
             ]
            },
            {
             "iteration": 557,
             "learn": [
              0.1220443646
             ],
             "passed_time": 34.57361643,
             "remaining_time": 89.34615572,
             "test": [
              0.6648682123,
              0.1514628628
             ]
            },
            {
             "iteration": 558,
             "learn": [
              0.122016154
             ],
             "passed_time": 34.63622318,
             "remaining_time": 89.28586333,
             "test": [
              0.6648682123,
              0.1514630374
             ]
            },
            {
             "iteration": 559,
             "learn": [
              0.1219890984
             ],
             "passed_time": 34.69752982,
             "remaining_time": 89.22221955,
             "test": [
              0.6648682123,
              0.1514632025
             ]
            },
            {
             "iteration": 560,
             "learn": [
              0.1219616906
             ],
             "passed_time": 34.75921,
             "remaining_time": 89.15954223,
             "test": [
              0.6648682123,
              0.1514633736
             ]
            },
            {
             "iteration": 561,
             "learn": [
              0.1219342189
             ],
             "passed_time": 34.82196554,
             "remaining_time": 89.09962002,
             "test": [
              0.6648505382,
              0.1514641967
             ]
            },
            {
             "iteration": 562,
             "learn": [
              0.1219060311
             ],
             "passed_time": 34.88391009,
             "remaining_time": 89.03761777,
             "test": [
              0.6648505382,
              0.1514643775
             ]
            },
            {
             "iteration": 563,
             "learn": [
              0.1218785958
             ],
             "passed_time": 34.94300876,
             "remaining_time": 88.96836983,
             "test": [
              0.6648505382,
              0.1514645529
             ]
            },
            {
             "iteration": 564,
             "learn": [
              0.1218504513
             ],
             "passed_time": 34.9993313,
             "remaining_time": 88.89210694,
             "test": [
              0.6648505382,
              0.1514647356
             ]
            },
            {
             "iteration": 565,
             "learn": [
              0.1218223326
             ],
             "passed_time": 35.05642759,
             "remaining_time": 88.81787484,
             "test": [
              0.6648505382,
              0.1514649187
             ]
            },
            {
             "iteration": 566,
             "learn": [
              0.1217966329
             ],
             "passed_time": 35.11392715,
             "remaining_time": 88.74472242,
             "test": [
              0.6648505382,
              0.1514650799
             ]
            },
            {
             "iteration": 567,
             "learn": [
              0.1217705186
             ],
             "passed_time": 35.17032553,
             "remaining_time": 88.66884887,
             "test": [
              0.6648505382,
              0.1514652496
             ]
            },
            {
             "iteration": 568,
             "learn": [
              0.1217423935
             ],
             "passed_time": 35.22797601,
             "remaining_time": 88.59619274,
             "test": [
              0.6648505382,
              0.1514654394
             ]
            },
            {
             "iteration": 569,
             "learn": [
              0.1217142935
             ],
             "passed_time": 35.2840551,
             "remaining_time": 88.519647,
             "test": [
              0.6648505382,
              0.1514656295
             ]
            },
            {
             "iteration": 570,
             "learn": [
              0.1216862349
             ],
             "passed_time": 35.34227641,
             "remaining_time": 88.44853412,
             "test": [
              0.6648321843,
              0.1514691014
             ]
            },
            {
             "iteration": 571,
             "learn": [
              0.1216608973
             ],
             "passed_time": 35.40385221,
             "remaining_time": 88.38584083,
             "test": [
              0.6648070327,
              0.1514695994
             ]
            },
            {
             "iteration": 572,
             "learn": [
              0.1216336453
             ],
             "passed_time": 35.46167052,
             "remaining_time": 88.31379378,
             "test": [
              0.6647778024,
              0.1514729549
             ]
            },
            {
             "iteration": 573,
             "learn": [
              0.1216068953
             ],
             "passed_time": 35.51767895,
             "remaining_time": 88.23729996,
             "test": [
              0.6647757631,
              0.1514740971
             ]
            },
            {
             "iteration": 574,
             "learn": [
              0.1215788406
             ],
             "passed_time": 35.57397815,
             "remaining_time": 88.16159803,
             "test": [
              0.6647757631,
              0.1514742938
             ]
            },
            {
             "iteration": 575,
             "learn": [
              0.121550793
             ],
             "passed_time": 35.63036528,
             "remaining_time": 88.08618083,
             "test": [
              0.6647757631,
              0.1514744905
             ]
            },
            {
             "iteration": 576,
             "learn": [
              0.1215227611
             ],
             "passed_time": 35.68884012,
             "remaining_time": 88.01597833,
             "test": [
              0.6647710047,
              0.1514758787
             ]
            },
            {
             "iteration": 577,
             "learn": [
              0.1214947353
             ],
             "passed_time": 35.760523,
             "remaining_time": 87.97831092,
             "test": [
              0.6647648867,
              0.1514771203
             ]
            },
            {
             "iteration": 578,
             "learn": [
              0.1214667349
             ],
             "passed_time": 35.82301455,
             "remaining_time": 87.91796834,
             "test": [
              0.6647648867,
              0.1514773168
             ]
            },
            {
             "iteration": 579,
             "learn": [
              0.1214387441
             ],
             "passed_time": 35.88510414,
             "remaining_time": 87.85663427,
             "test": [
              0.6647846001,
              0.1514588
             ]
            },
            {
             "iteration": 580,
             "learn": [
              0.1214107635
             ],
             "passed_time": 35.94673936,
             "remaining_time": 87.79418786,
             "test": [
              0.6647648867,
              0.1514597827
             ]
            },
            {
             "iteration": 581,
             "learn": [
              0.1213848348
             ],
             "passed_time": 36.00308807,
             "remaining_time": 87.71886405,
             "test": [
              0.664758089,
              0.1514616895
             ]
            },
            {
             "iteration": 582,
             "learn": [
              0.1213581371
             ],
             "passed_time": 36.06055959,
             "remaining_time": 87.64633438,
             "test": [
              0.6647200216,
              0.1514627701
             ]
            },
            {
             "iteration": 583,
             "learn": [
              0.1213313318
             ],
             "passed_time": 36.11748038,
             "remaining_time": 87.57252091,
             "test": [
              0.6647200216,
              0.1514629598
             ]
            },
            {
             "iteration": 584,
             "learn": [
              0.1213033797
             ],
             "passed_time": 36.17535756,
             "remaining_time": 87.50107855,
             "test": [
              0.6647200216,
              0.151463161
             ]
            },
            {
             "iteration": 585,
             "learn": [
              0.1212770215
             ],
             "passed_time": 36.23458328,
             "remaining_time": 87.43293644,
             "test": [
              0.6647200216,
              0.1514633463
             ]
            },
            {
             "iteration": 586,
             "learn": [
              0.1212510238
             ],
             "passed_time": 36.29779393,
             "remaining_time": 87.37441708,
             "test": [
              0.6646955498,
              0.1514647123
             ]
            },
            {
             "iteration": 587,
             "learn": [
              0.1212231446
             ],
             "passed_time": 36.35600183,
             "remaining_time": 87.30386833,
             "test": [
              0.6646955498,
              0.1514649173
             ]
            },
            {
             "iteration": 588,
             "learn": [
              0.1211952534
             ],
             "passed_time": 36.43065058,
             "remaining_time": 87.27274698,
             "test": [
              0.6646955498,
              0.151465122
             ]
            },
            {
             "iteration": 589,
             "learn": [
              0.1211673789
             ],
             "passed_time": 36.49150165,
             "remaining_time": 87.20850393,
             "test": [
              0.6646955498,
              0.1514653264
             ]
            },
            {
             "iteration": 590,
             "learn": [
              0.1211408107
             ],
             "passed_time": 36.55089202,
             "remaining_time": 87.14078995,
             "test": [
              0.6646955498,
              0.1514655179
             ]
            },
            {
             "iteration": 591,
             "learn": [
              0.1211139555
             ],
             "passed_time": 36.62123984,
             "remaining_time": 87.09916501,
             "test": [
              0.6646955498,
              0.1514657153
             ]
            },
            {
             "iteration": 592,
             "learn": [
              0.1210861296
             ],
             "passed_time": 36.68895498,
             "remaining_time": 87.05119671,
             "test": [
              0.6646914712,
              0.1514674587
             ]
            },
            {
             "iteration": 593,
             "learn": [
              0.1210583425
             ],
             "passed_time": 36.74826594,
             "remaining_time": 86.9832692,
             "test": [
              0.6646914712,
              0.1514676646
             ]
            },
            {
             "iteration": 594,
             "learn": [
              0.1210305409
             ],
             "passed_time": 36.80619112,
             "remaining_time": 86.91209837,
             "test": [
              0.6646914712,
              0.1514678703
             ]
            },
            {
             "iteration": 595,
             "learn": [
              0.1210027632
             ],
             "passed_time": 36.86304532,
             "remaining_time": 86.83844905,
             "test": [
              0.6646914712,
              0.1514680758
             ]
            },
            {
             "iteration": 596,
             "learn": [
              0.1209762591
             ],
             "passed_time": 36.92063118,
             "remaining_time": 86.76657546,
             "test": [
              0.6646914712,
              0.151468269
             ]
            },
            {
             "iteration": 597,
             "learn": [
              0.1209485059
             ],
             "passed_time": 36.977806,
             "remaining_time": 86.69378598,
             "test": [
              0.6646914712,
              0.1514684758
             ]
            },
            {
             "iteration": 598,
             "learn": [
              0.1209207755
             ],
             "passed_time": 37.03437579,
             "remaining_time": 86.61963353,
             "test": [
              0.6646914712,
              0.1514686825
             ]
            },
            {
             "iteration": 599,
             "learn": [
              0.1208930604
             ],
             "passed_time": 37.09105616,
             "remaining_time": 86.54579772,
             "test": [
              0.6646914712,
              0.1514688889
             ]
            },
            {
             "iteration": 600,
             "learn": [
              0.1208653635
             ],
             "passed_time": 37.14982913,
             "remaining_time": 86.47689011,
             "test": [
              0.6646914712,
              0.1514690952
             ]
            },
            {
             "iteration": 601,
             "learn": [
              0.1208384235
             ],
             "passed_time": 37.20886776,
             "remaining_time": 86.40863311,
             "test": [
              0.6646914712,
              0.1514692945
             ]
            },
            {
             "iteration": 602,
             "learn": [
              0.1208107656
             ],
             "passed_time": 37.26835764,
             "remaining_time": 86.3414521,
             "test": [
              0.6646785555,
              0.1514715797
             ]
            },
            {
             "iteration": 603,
             "learn": [
              0.1207831052
             ],
             "passed_time": 37.32748497,
             "remaining_time": 86.27345865,
             "test": [
              0.6646785555,
              0.1514717865
             ]
            },
            {
             "iteration": 604,
             "learn": [
              0.1207556183
             ],
             "passed_time": 37.39083238,
             "remaining_time": 86.21522508,
             "test": [
              0.6646602016,
              0.1514725818
             ]
            },
            {
             "iteration": 605,
             "learn": [
              0.1207279908
             ],
             "passed_time": 37.44754417,
             "remaining_time": 86.14171051,
             "test": [
              0.6646602016,
              0.1514727918
             ]
            },
            {
             "iteration": 606,
             "learn": [
              0.120700379
             ],
             "passed_time": 37.50628114,
             "remaining_time": 86.07289888,
             "test": [
              0.6646527241,
              0.1514740813
             ]
            },
            {
             "iteration": 607,
             "learn": [
              0.120672762
             ],
             "passed_time": 37.56995187,
             "remaining_time": 86.01541613,
             "test": [
              0.6646513645,
              0.1514755846
             ]
            },
            {
             "iteration": 608,
             "learn": [
              0.1206451781
             ],
             "passed_time": 37.62742461,
             "remaining_time": 85.94375637,
             "test": [
              0.6646513645,
              0.1514757939
             ]
            },
            {
             "iteration": 609,
             "learn": [
              0.1206176239
             ],
             "passed_time": 37.68640236,
             "remaining_time": 85.8755726,
             "test": [
              0.6646513645,
              0.1514760032
             ]
            },
            {
             "iteration": 610,
             "learn": [
              0.1205900487
             ],
             "passed_time": 37.74476342,
             "remaining_time": 85.806017,
             "test": [
              0.6646513645,
              0.1514762124
             ]
            },
            {
             "iteration": 611,
             "learn": [
              0.1205641246
             ],
             "passed_time": 37.80189182,
             "remaining_time": 85.73370237,
             "test": [
              0.6646357297,
              0.1514787683
             ]
            },
            {
             "iteration": 612,
             "learn": [
              0.1205365706
             ],
             "passed_time": 37.86072046,
             "remaining_time": 85.6652843,
             "test": [
              0.6646357297,
              0.1514789793
             ]
            },
            {
             "iteration": 613,
             "learn": [
              0.120509059
             ],
             "passed_time": 37.91930951,
             "remaining_time": 85.59635665,
             "test": [
              0.6646357297,
              0.1514791901
             ]
            },
            {
             "iteration": 614,
             "learn": [
              0.1204815533
             ],
             "passed_time": 37.9760593,
             "remaining_time": 85.52332053,
             "test": [
              0.6646357297,
              0.1514865216
             ]
            },
            {
             "iteration": 615,
             "learn": [
              0.1204540829
             ],
             "passed_time": 38.03255113,
             "remaining_time": 85.44975773,
             "test": [
              0.6646323308,
              0.1514882062
             ]
            },
            {
             "iteration": 616,
             "learn": [
              0.1204265956
             ],
             "passed_time": 38.08957566,
             "remaining_time": 85.37744431,
             "test": [
              0.6646241736,
              0.1514912126
             ]
            },
            {
             "iteration": 617,
             "learn": [
              0.1203997936
             ],
             "passed_time": 38.14541704,
             "remaining_time": 85.30253455,
             "test": [
              0.6646241736,
              0.1514914169
             ]
            },
            {
             "iteration": 618,
             "learn": [
              0.1203734398
             ],
             "passed_time": 38.20490092,
             "remaining_time": 85.23581287,
             "test": [
              0.664613977,
              0.1514923486
             ]
            },
            {
             "iteration": 619,
             "learn": [
              0.1203472809
             ],
             "passed_time": 38.26348835,
             "remaining_time": 85.16711922,
             "test": [
              0.6645915444,
              0.1514933572
             ]
            },
            {
             "iteration": 620,
             "learn": [
              0.1203206354
             ],
             "passed_time": 38.32289114,
             "remaining_time": 85.10026873,
             "test": [
              0.6645915444,
              0.1514935638
             ]
            },
            {
             "iteration": 621,
             "learn": [
              0.1202932205
             ],
             "passed_time": 38.38394903,
             "remaining_time": 85.03710895,
             "test": [
              0.6645799883,
              0.1514946663
             ]
            },
            {
             "iteration": 622,
             "learn": [
              0.1202658032
             ],
             "passed_time": 38.44494947,
             "remaining_time": 84.97382893,
             "test": [
              0.6645799883,
              0.1514948802
             ]
            },
            {
             "iteration": 623,
             "learn": [
              0.1202384568
             ],
             "passed_time": 38.50192417,
             "remaining_time": 84.90167894,
             "test": [
              0.6645799883,
              0.1514950941
             ]
            },
            {
             "iteration": 624,
             "learn": [
              0.120211892
             ],
             "passed_time": 38.55878508,
             "remaining_time": 84.82932718,
             "test": [
              0.6645799883,
              0.1514953005
             ]
            },
            {
             "iteration": 625,
             "learn": [
              0.1201845304
             ],
             "passed_time": 38.61391751,
             "remaining_time": 84.75323109,
             "test": [
              0.6645799883,
              0.1514955152
             ]
            },
            {
             "iteration": 626,
             "learn": [
              0.1201577972
             ],
             "passed_time": 38.66945357,
             "remaining_time": 84.67808572,
             "test": [
              0.6645799883,
              0.1514957248
             ]
            },
            {
             "iteration": 627,
             "learn": [
              0.120130483
             ],
             "passed_time": 38.72545778,
             "remaining_time": 84.60402559,
             "test": [
              0.6645799883,
              0.15149594
             ]
            },
            {
             "iteration": 628,
             "learn": [
              0.1201031797
             ],
             "passed_time": 38.7831508,
             "remaining_time": 84.53370389,
             "test": [
              0.6645799883,
              0.1514961553
             ]
            },
            {
             "iteration": 629,
             "learn": [
              0.1200758613
             ],
             "passed_time": 38.84075691,
             "remaining_time": 84.46323328,
             "test": [
              0.6645799883,
              0.1514963706
             ]
            },
            {
             "iteration": 630,
             "learn": [
              0.1200485992
             ],
             "passed_time": 38.89878314,
             "remaining_time": 84.39371492,
             "test": [
              0.6645799883,
              0.1514965858
             ]
            },
            {
             "iteration": 631,
             "learn": [
              0.1200230577
             ],
             "passed_time": 38.95573021,
             "remaining_time": 84.32189704,
             "test": [
              0.6645405614,
              0.1514978746
             ]
            },
            {
             "iteration": 632,
             "learn": [
              0.1199958164
             ],
             "passed_time": 39.01403835,
             "remaining_time": 84.25306545,
             "test": [
              0.6645405614,
              0.1514980917
             ]
            },
            {
             "iteration": 633,
             "learn": [
              0.1199685996
             ],
             "passed_time": 39.07298048,
             "remaining_time": 84.18563303,
             "test": [
              0.6645405614,
              0.1514983088
             ]
            },
            {
             "iteration": 634,
             "learn": [
              0.119942015
             ],
             "passed_time": 39.13081376,
             "remaining_time": 84.11584374,
             "test": [
              0.6645405614,
              0.1514985201
             ]
            },
            {
             "iteration": 635,
             "learn": [
              0.1199164163
             ],
             "passed_time": 39.18804283,
             "remaining_time": 84.04479625,
             "test": [
              0.6644854997,
              0.151500288
             ]
            },
            {
             "iteration": 636,
             "learn": [
              0.11988987
             ],
             "passed_time": 39.24486761,
             "remaining_time": 83.97292709,
             "test": [
              0.6644854997,
              0.151500502
             ]
            },
            {
             "iteration": 637,
             "learn": [
              0.1198626716
             ],
             "passed_time": 39.30386245,
             "remaining_time": 83.90573771,
             "test": [
              0.6644705447,
              0.1515043271
             ]
            },
            {
             "iteration": 638,
             "learn": [
              0.1198167383
             ],
             "passed_time": 39.36452689,
             "remaining_time": 83.84213005,
             "test": [
              0.664313517,
              0.1515121615
             ]
            },
            {
             "iteration": 639,
             "learn": [
              0.119782134
             ],
             "passed_time": 39.4294092,
             "remaining_time": 83.78749454,
             "test": [
              0.6642666126,
              0.151514298
             ]
            },
            {
             "iteration": 640,
             "learn": [
              0.1197549316
             ],
             "passed_time": 39.4861584,
             "remaining_time": 83.71558388,
             "test": [
              0.6642666126,
              0.1515145393
             ]
            },
            {
             "iteration": 641,
             "learn": [
              0.1197292959
             ],
             "passed_time": 39.54361505,
             "remaining_time": 83.64521688,
             "test": [
              0.6642604947,
              0.1515166635
             ]
            },
            {
             "iteration": 642,
             "learn": [
              0.1197021141
             ],
             "passed_time": 39.60582402,
             "remaining_time": 83.58491942,
             "test": [
              0.6642468992,
              0.1515203839
             ]
            },
            {
             "iteration": 643,
             "learn": [
              0.1196749514
             ],
             "passed_time": 39.66475423,
             "remaining_time": 83.51771232,
             "test": [
              0.6642468992,
              0.1515206235
             ]
            },
            {
             "iteration": 644,
             "learn": [
              0.1196477873
             ],
             "passed_time": 39.72144627,
             "remaining_time": 83.44582898,
             "test": [
              0.6642468992,
              0.151520862
             ]
            },
            {
             "iteration": 645,
             "learn": [
              0.1196206551
             ],
             "passed_time": 39.77942404,
             "remaining_time": 83.37668753,
             "test": [
              0.6642421408,
              0.1515222486
             ]
            },
            {
             "iteration": 646,
             "learn": [
              0.1195942791
             ],
             "passed_time": 39.83470663,
             "remaining_time": 83.30194448,
             "test": [
              0.6642394217,
              0.151523782
             ]
            },
            {
             "iteration": 647,
             "learn": [
              0.1195671803
             ],
             "passed_time": 39.89010561,
             "remaining_time": 83.22750429,
             "test": [
              0.6642394217,
              0.1515240187
             ]
            },
            {
             "iteration": 648,
             "learn": [
              0.1195400614
             ],
             "passed_time": 39.9458437,
             "remaining_time": 83.15382871,
             "test": [
              0.6642394217,
              0.1515242545
             ]
            },
            {
             "iteration": 649,
             "learn": [
              0.1194314457
             ],
             "passed_time": 40.00996863,
             "remaining_time": 83.09762716,
             "test": [
              0.6647954765,
              0.1515430122
             ]
            },
            {
             "iteration": 650,
             "learn": [
              0.1194043518
             ],
             "passed_time": 40.06988409,
             "remaining_time": 83.03267839,
             "test": [
              0.6647954765,
              0.1515431753
             ]
            },
            {
             "iteration": 651,
             "learn": [
              0.1193772462
             ],
             "passed_time": 40.13274129,
             "remaining_time": 82.97382709,
             "test": [
              0.6647947967,
              0.1515452248
             ]
            },
            {
             "iteration": 652,
             "learn": [
              0.11935017
             ],
             "passed_time": 40.19317128,
             "remaining_time": 82.90995668,
             "test": [
              0.6647947967,
              0.1515453938
             ]
            },
            {
             "iteration": 653,
             "learn": [
              0.1193231058
             ],
             "passed_time": 40.25071785,
             "remaining_time": 82.84016242,
             "test": [
              0.6647947967,
              0.1515455656
             ]
            },
            {
             "iteration": 654,
             "learn": [
              0.1192967477
             ],
             "passed_time": 40.30746676,
             "remaining_time": 82.76876761,
             "test": [
              0.6647778024,
              0.1515463712
             ]
            },
            {
             "iteration": 655,
             "learn": [
              0.1192697103
             ],
             "passed_time": 40.36428713,
             "remaining_time": 82.69756387,
             "test": [
              0.6647778024,
              0.1515465489
             ]
            },
            {
             "iteration": 656,
             "learn": [
              0.1192427037
             ],
             "passed_time": 40.42345942,
             "remaining_time": 82.63121157,
             "test": [
              0.6647961563,
              0.1515286458
             ]
            },
            {
             "iteration": 657,
             "learn": [
              0.1192157174
             ],
             "passed_time": 40.47926289,
             "remaining_time": 82.55801032,
             "test": [
              0.6647859597,
              0.1515296978
             ]
            },
            {
             "iteration": 658,
             "learn": [
              0.1191886966
             ],
             "passed_time": 40.53557697,
             "remaining_time": 82.48590093,
             "test": [
              0.6647859597,
              0.1515298824
             ]
            },
            {
             "iteration": 659,
             "learn": [
              0.1191617203
             ],
             "passed_time": 40.59298883,
             "remaining_time": 82.41606823,
             "test": [
              0.6647859597,
              0.1515300691
             ]
            },
            {
             "iteration": 660,
             "learn": [
              0.1191347506
             ],
             "passed_time": 40.64934691,
             "remaining_time": 82.34413845,
             "test": [
              0.6647859597,
              0.1515302578
             ]
            },
            {
             "iteration": 661,
             "learn": [
              0.1191093448
             ],
             "passed_time": 40.70902558,
             "remaining_time": 82.2789671,
             "test": [
              0.6647778024,
              0.1515310919
             ]
            },
            {
             "iteration": 662,
             "learn": [
              0.1190823867
             ],
             "passed_time": 40.76744884,
             "remaining_time": 82.21128069,
             "test": [
              0.6647778024,
              0.1515312861
             ]
            },
            {
             "iteration": 663,
             "learn": [
              0.1190554673
             ],
             "passed_time": 40.82331318,
             "remaining_time": 82.13847351,
             "test": [
              0.6647778024,
              0.151531482
             ]
            },
            {
             "iteration": 664,
             "learn": [
              0.1190285722
             ],
             "passed_time": 40.87912123,
             "remaining_time": 82.06560427,
             "test": [
              0.6647778024,
              0.1515316796
             ]
            },
            {
             "iteration": 665,
             "learn": [
              0.1190016913
             ],
             "passed_time": 40.93493194,
             "remaining_time": 81.99279161,
             "test": [
              0.6647723642,
              0.1515335635
             ]
            },
            {
             "iteration": 666,
             "learn": [
              0.1189747905
             ],
             "passed_time": 41.00083882,
             "remaining_time": 81.94020711,
             "test": [
              0.6647723642,
              0.151533764
             ]
            },
            {
             "iteration": 667,
             "learn": [
              0.1189479326
             ],
             "passed_time": 41.06070948,
             "remaining_time": 81.87554644,
             "test": [
              0.6647723642,
              0.1515339658
             ]
            },
            {
             "iteration": 668,
             "learn": [
              0.1189210969
             ],
             "passed_time": 41.12404938,
             "remaining_time": 81.81780229,
             "test": [
              0.6647723642,
              0.1515341691
             ]
            },
            {
             "iteration": 669,
             "learn": [
              0.118894805
             ],
             "passed_time": 41.18321955,
             "remaining_time": 81.75176419,
             "test": [
              0.6647723642,
              0.1515343692
             ]
            },
            {
             "iteration": 670,
             "learn": [
              0.1188679894
             ],
             "passed_time": 41.23875336,
             "remaining_time": 81.67854428,
             "test": [
              0.6647723642,
              0.1515345757
             ]
            },
            {
             "iteration": 671,
             "learn": [
              0.1188411666
             ],
             "passed_time": 41.29588964,
             "remaining_time": 81.60854381,
             "test": [
              0.6647642069,
              0.1515370545
             ]
            },
            {
             "iteration": 672,
             "learn": [
              0.1188144076
             ],
             "passed_time": 41.35231305,
             "remaining_time": 81.53717596,
             "test": [
              0.6647642069,
              0.1515372633
             ]
            },
            {
             "iteration": 673,
             "learn": [
              0.1187876264
             ],
             "passed_time": 41.4080451,
             "remaining_time": 81.4644923,
             "test": [
              0.6647642069,
              0.1515374733
             ]
            },
            {
             "iteration": 674,
             "learn": [
              0.1187608804
             ],
             "passed_time": 41.47214237,
             "remaining_time": 81.40827948,
             "test": [
              0.6647614878,
              0.1515390958
             ]
            },
            {
             "iteration": 675,
             "learn": [
              0.1187356365
             ],
             "passed_time": 41.5272991,
             "remaining_time": 81.33453255,
             "test": [
              0.6647506115,
              0.1515398289
             ]
            },
            {
             "iteration": 676,
             "learn": [
              0.1187089379
             ],
             "passed_time": 41.58478388,
             "remaining_time": 81.26539005,
             "test": [
              0.6647506115,
              0.1515400436
             ]
            },
            {
             "iteration": 677,
             "learn": [
              0.118682697
             ],
             "passed_time": 41.64281539,
             "remaining_time": 81.19734801,
             "test": [
              0.6646996284,
              0.1515414878
             ]
            },
            {
             "iteration": 678,
             "learn": [
              0.1186560104
             ],
             "passed_time": 41.6990674,
             "remaining_time": 81.12587339,
             "test": [
              0.6646996284,
              0.1515417049
             ]
            },
            {
             "iteration": 679,
             "learn": [
              0.1186293334
             ],
             "passed_time": 41.75538527,
             "remaining_time": 81.05457141,
             "test": [
              0.6646975891,
              0.1515431145
             ]
            },
            {
             "iteration": 680,
             "learn": [
              0.1186032796
             ],
             "passed_time": 41.81225218,
             "remaining_time": 80.98437684,
             "test": [
              0.66469487,
              0.15154448
             ]
            },
            {
             "iteration": 681,
             "learn": [
              0.1185766549
             ],
             "passed_time": 41.8691218,
             "remaining_time": 80.91422658,
             "test": [
              0.66469487,
              0.1515447001
             ]
            },
            {
             "iteration": 682,
             "learn": [
              0.1185499894
             ],
             "passed_time": 41.92688574,
             "remaining_time": 80.8458397,
             "test": [
              0.66469487,
              0.151544921
             ]
            },
            {
             "iteration": 683,
             "learn": [
              0.1185249933
             ],
             "passed_time": 41.9820855,
             "remaining_time": 80.77255047,
             "test": [
              0.6646792352,
              0.1515456556
             ]
            },
            {
             "iteration": 684,
             "learn": [
              0.1184990928
             ],
             "passed_time": 42.03713477,
             "remaining_time": 80.69902514,
             "test": [
              0.66466496,
              0.1515484811
             ]
            },
            {
             "iteration": 685,
             "learn": [
              0.1184724692
             ],
             "passed_time": 42.09345944,
             "remaining_time": 80.62799665,
             "test": [
              0.66466496,
              0.1515487069
             ]
            },
            {
             "iteration": 686,
             "learn": [
              0.1184458821
             ],
             "passed_time": 42.14920515,
             "remaining_time": 80.55590446,
             "test": [
              0.66466496,
              0.1515489333
             ]
            },
            {
             "iteration": 687,
             "learn": [
              0.1184204308
             ],
             "passed_time": 42.2041355,
             "remaining_time": 80.48230491,
             "test": [
              0.66466496,
              0.1515491486
             ]
            },
            {
             "iteration": 688,
             "learn": [
              0.1183938562
             ],
             "passed_time": 42.25916065,
             "remaining_time": 80.40893992,
             "test": [
              0.66466496,
              0.1515568963
             ]
            },
            {
             "iteration": 689,
             "learn": [
              0.1183672854
             ],
             "passed_time": 42.31575964,
             "remaining_time": 80.33861613,
             "test": [
              0.6646568027,
              0.1515587491
             ]
            },
            {
             "iteration": 690,
             "learn": [
              0.1183413682
             ],
             "passed_time": 42.37231922,
             "remaining_time": 80.2682574,
             "test": [
              0.6646568027,
              0.1515589726
             ]
            },
            {
             "iteration": 691,
             "learn": [
              0.1183148471
             ],
             "passed_time": 42.42960754,
             "remaining_time": 80.19931599,
             "test": [
              0.6646568027,
              0.1515592028
             ]
            },
            {
             "iteration": 692,
             "learn": [
              0.1182883448
             ],
             "passed_time": 42.48632191,
             "remaining_time": 80.12932574,
             "test": [
              0.6646568027,
              0.1515594334
             ]
            },
            {
             "iteration": 693,
             "learn": [
              0.118261847
             ],
             "passed_time": 42.54267533,
             "remaining_time": 80.0586945,
             "test": [
              0.664650005,
              0.1515627329
             ]
            },
            {
             "iteration": 694,
             "learn": [
              0.1182353611
             ],
             "passed_time": 42.59766851,
             "remaining_time": 79.98555023,
             "test": [
              0.664650005,
              0.1515629643
             ]
            },
            {
             "iteration": 695,
             "learn": [
              0.1182089048
             ],
             "passed_time": 42.65450892,
             "remaining_time": 79.91591902,
             "test": [
              0.664650005,
              0.151563196
             ]
            },
            {
             "iteration": 696,
             "learn": [
              0.1181831284
             ],
             "passed_time": 42.71082976,
             "remaining_time": 79.84535319,
             "test": [
              0.664650005,
              0.1515634217
             ]
            },
            {
             "iteration": 697,
             "learn": [
              0.118157425
             ],
             "passed_time": 42.76752813,
             "remaining_time": 79.77553241,
             "test": [
              0.664650005,
              0.1515636495
             ]
            },
            {
             "iteration": 698,
             "learn": [
              0.1181310006
             ],
             "passed_time": 42.82886723,
             "remaining_time": 79.71438664,
             "test": [
              0.664650005,
              0.1515638839
             ]
            },
            {
             "iteration": 699,
             "learn": [
              0.1181045948
             ],
             "passed_time": 42.88550931,
             "remaining_time": 79.64451728,
             "test": [
              0.6646452465,
              0.1515650996
             ]
            },
            {
             "iteration": 700,
             "learn": [
              0.1180781689
             ],
             "passed_time": 42.94217272,
             "remaining_time": 79.5747252,
             "test": [
              0.6646452465,
              0.1515653348
             ]
            },
            {
             "iteration": 701,
             "learn": [
              0.1180517984
             ],
             "passed_time": 42.99785239,
             "remaining_time": 79.50315158,
             "test": [
              0.6646452465,
              0.1515655701
             ]
            },
            {
             "iteration": 702,
             "learn": [
              0.1180254132
             ],
             "passed_time": 43.05366236,
             "remaining_time": 79.43186356,
             "test": [
              0.6646452465,
              0.1515658058
             ]
            },
            {
             "iteration": 703,
             "learn": [
              0.1179990565
             ],
             "passed_time": 43.10889262,
             "remaining_time": 79.35955233,
             "test": [
              0.6646452465,
              0.151566042
             ]
            },
            {
             "iteration": 704,
             "learn": [
              0.1179727038
             ],
             "passed_time": 43.16826096,
             "remaining_time": 79.2948907,
             "test": [
              0.6646452465,
              0.1515662785
             ]
            },
            {
             "iteration": 705,
             "learn": [
              0.1179115318
             ],
             "passed_time": 43.23021605,
             "remaining_time": 79.23498523,
             "test": [
              0.6656710249,
              0.1515487984
             ]
            },
            {
             "iteration": 706,
             "learn": [
              0.1178851649
             ],
             "passed_time": 43.28774812,
             "remaining_time": 79.16698489,
             "test": [
              0.6656710249,
              0.1515490087
             ]
            },
            {
             "iteration": 707,
             "learn": [
              0.1178588042
             ],
             "passed_time": 43.34403474,
             "remaining_time": 79.09674137,
             "test": [
              0.6656710249,
              0.1515492204
             ]
            },
            {
             "iteration": 708,
             "learn": [
              0.1178324619
             ],
             "passed_time": 43.39968159,
             "remaining_time": 79.02537225,
             "test": [
              0.6656710249,
              0.1515494337
             ]
            },
            {
             "iteration": 709,
             "learn": [
              0.1177174846
             ],
             "passed_time": 43.47247128,
             "remaining_time": 78.9851943,
             "test": [
              0.6648308247,
              0.1515533938
             ]
            },
            {
             "iteration": 710,
             "learn": [
              0.117691714
             ],
             "passed_time": 43.52827233,
             "remaining_time": 78.91412523,
             "test": [
              0.6648308247,
              0.151553544
             ]
            },
            {
             "iteration": 711,
             "learn": [
              0.1176653775
             ],
             "passed_time": 43.58978243,
             "remaining_time": 78.85342664,
             "test": [
              0.6648308247,
              0.1515537045
             ]
            },
            {
             "iteration": 712,
             "learn": [
              0.1175965014
             ],
             "passed_time": 43.64767345,
             "remaining_time": 78.78619317,
             "test": [
              0.664436556,
              0.1515783975
             ]
            },
            {
             "iteration": 713,
             "learn": [
              0.1175715749
             ],
             "passed_time": 43.70413149,
             "remaining_time": 78.7164049,
             "test": [
              0.6644188819,
              0.1515810524
             ]
            },
            {
             "iteration": 714,
             "learn": [
              0.1175452573
             ],
             "passed_time": 43.76065907,
             "remaining_time": 78.64677889,
             "test": [
              0.6644154831,
              0.1515826101
             ]
            },
            {
             "iteration": 715,
             "learn": [
              0.1175189428
             ],
             "passed_time": 43.81597479,
             "remaining_time": 78.57501625,
             "test": [
              0.6644154831,
              0.1515827496
             ]
            },
            {
             "iteration": 716,
             "learn": [
              0.1174937931
             ],
             "passed_time": 43.87315766,
             "remaining_time": 78.50664055,
             "test": [
              0.6644154831,
              0.1515828825
             ]
            },
            {
             "iteration": 717,
             "learn": [
              0.1174687189
             ],
             "passed_time": 43.92908316,
             "remaining_time": 78.436051,
             "test": [
              0.6644154831,
              0.151583021
             ]
            },
            {
             "iteration": 718,
             "learn": [
              0.1174438683
             ],
             "passed_time": 43.98526571,
             "remaining_time": 78.36596018,
             "test": [
              0.6643461462,
              0.1515883323
             ]
            },
            {
             "iteration": 719,
             "learn": [
              0.1174176141
             ],
             "passed_time": 44.04056043,
             "remaining_time": 78.29432965,
             "test": [
              0.6643461462,
              0.1515884966
             ]
            },
            {
             "iteration": 720,
             "learn": [
              0.117391421
             ],
             "passed_time": 44.09649348,
             "remaining_time": 78.22387678,
             "test": [
              0.6643461462,
              0.1515886653
             ]
            },
            {
             "iteration": 721,
             "learn": [
              0.1173659109
             ],
             "passed_time": 44.15302372,
             "remaining_time": 78.15452122,
             "test": [
              0.6643400282,
              0.1515898593
             ]
            },
            {
             "iteration": 722,
             "learn": [
              0.1173397131
             ],
             "passed_time": 44.20928277,
             "remaining_time": 78.08472212,
             "test": [
              0.6643400282,
              0.1515900372
             ]
            },
            {
             "iteration": 723,
             "learn": [
              0.1173142679
             ],
             "passed_time": 44.26538723,
             "remaining_time": 78.01468799,
             "test": [
              0.664328472,
              0.1515908963
             ]
            },
            {
             "iteration": 724,
             "learn": [
              0.1172880781
             ],
             "passed_time": 44.32057166,
             "remaining_time": 77.9430743,
             "test": [
              0.6643277923,
              0.1515931342
             ]
            },
            {
             "iteration": 725,
             "learn": [
              0.1172619089
             ],
             "passed_time": 44.37578463,
             "remaining_time": 77.87155595,
             "test": [
              0.6643277923,
              0.1515933238
             ]
            },
            {
             "iteration": 726,
             "learn": [
              0.1172357489
             ],
             "passed_time": 44.43084111,
             "remaining_time": 77.79980843,
             "test": [
              0.6643277923,
              0.1515935167
             ]
            },
            {
             "iteration": 727,
             "learn": [
              0.1172095857
             ],
             "passed_time": 44.48594417,
             "remaining_time": 77.72818816,
             "test": [
              0.6643277923,
              0.1515937126
             ]
            },
            {
             "iteration": 728,
             "learn": [
              0.1171852625
             ],
             "passed_time": 44.54254425,
             "remaining_time": 77.65922323,
             "test": [
              0.6643264327,
              0.1515941138
             ]
            },
            {
             "iteration": 729,
             "learn": [
              0.1170994032
             ],
             "passed_time": 44.60003098,
             "remaining_time": 77.59183472,
             "test": [
              0.664448792,
              0.1515088639
             ]
            },
            {
             "iteration": 730,
             "learn": [
              0.1170732188
             ],
             "passed_time": 44.65591382,
             "remaining_time": 77.52168897,
             "test": [
              0.664448792,
              0.1515090107
             ]
            },
            {
             "iteration": 731,
             "learn": [
              0.1170471009
             ],
             "passed_time": 44.71209024,
             "remaining_time": 77.45209074,
             "test": [
              0.664448792,
              0.1515091622
             ]
            },
            {
             "iteration": 732,
             "learn": [
              0.117018698
             ],
             "passed_time": 44.7684129,
             "remaining_time": 77.38278192,
             "test": [
              0.664469865,
              0.1514935857
             ]
            },
            {
             "iteration": 733,
             "learn": [
              0.1169926134
             ],
             "passed_time": 44.82474036,
             "remaining_time": 77.31351676,
             "test": [
              0.664463747,
              0.1514946985
             ]
            },
            {
             "iteration": 734,
             "learn": [
              0.116966538
             ],
             "passed_time": 44.88066966,
             "remaining_time": 77.24360152,
             "test": [
              0.664463747,
              0.1514948627
             ]
            },
            {
             "iteration": 735,
             "learn": [
              0.1169404819
             ],
             "passed_time": 44.93662183,
             "remaining_time": 77.17376358,
             "test": [
              0.664463747,
              0.1514950316
             ]
            },
            {
             "iteration": 736,
             "learn": [
              0.1169144507
             ],
             "passed_time": 44.99224626,
             "remaining_time": 77.10340166,
             "test": [
              0.664463747,
              0.151495205
             ]
            },
            {
             "iteration": 737,
             "learn": [
              0.116888436
             ],
             "passed_time": 45.04918425,
             "remaining_time": 77.03532591,
             "test": [
              0.664463747,
              0.1514953827
             ]
            },
            {
             "iteration": 738,
             "learn": [
              0.1168624011
             ],
             "passed_time": 45.10628628,
             "remaining_time": 76.96756022,
             "test": [
              0.664463747,
              0.1514955645
             ]
            },
            {
             "iteration": 739,
             "learn": [
              0.1168363952
             ],
             "passed_time": 45.16222141,
             "remaining_time": 76.89783646,
             "test": [
              0.664463747,
              0.1514957501
             ]
            },
            {
             "iteration": 740,
             "learn": [
              0.1168104245
             ],
             "passed_time": 45.21807283,
             "remaining_time": 76.82800769,
             "test": [
              0.6644623874,
              0.1514977759
             ]
            },
            {
             "iteration": 741,
             "learn": [
              0.1167863957
             ],
             "passed_time": 45.27352493,
             "remaining_time": 76.75753957,
             "test": [
              0.6644351965,
              0.1514984138
             ]
            },
            {
             "iteration": 742,
             "learn": [
              0.1167604323
             ],
             "passed_time": 45.32941694,
             "remaining_time": 76.68785611,
             "test": [
              0.6644351965,
              0.1514986121
             ]
            },
            {
             "iteration": 743,
             "learn": [
              0.116646421
             ],
             "passed_time": 45.39315175,
             "remaining_time": 76.63144973,
             "test": [
              0.6644827807,
              0.1515105052
             ]
            },
            {
             "iteration": 744,
             "learn": [
              0.1166204395
             ],
             "passed_time": 45.44929413,
             "remaining_time": 76.56223374,
             "test": [
              0.6644827807,
              0.1515106254
             ]
            },
            {
             "iteration": 745,
             "learn": [
              0.1165944865
             ],
             "passed_time": 45.50385553,
             "remaining_time": 76.49039522,
             "test": [
              0.6644827807,
              0.1515107525
             ]
            },
            {
             "iteration": 746,
             "learn": [
              0.1165685809
             ],
             "passed_time": 45.55908146,
             "remaining_time": 76.41971763,
             "test": [
              0.6644827807,
              0.1515108864
             ]
            },
            {
             "iteration": 747,
             "learn": [
              0.1165432276
             ],
             "passed_time": 45.6140246,
             "remaining_time": 76.34860803,
             "test": [
              0.6644827807,
              0.1515110216
             ]
            },
            {
             "iteration": 748,
             "learn": [
              0.116517341
             ],
             "passed_time": 45.67025194,
             "remaining_time": 76.27968648,
             "test": [
              0.6644827807,
              0.1515111688
             ]
            },
            {
             "iteration": 749,
             "learn": [
              0.1164914771
             ],
             "passed_time": 45.7265344,
             "remaining_time": 76.21089066,
             "test": [
              0.6644766627,
              0.151512866
             ]
            },
            {
             "iteration": 750,
             "learn": [
              0.1164664099
             ],
             "passed_time": 45.78287081,
             "remaining_time": 76.14221791,
             "test": [
              0.6644766627,
              0.1515130189
             ]
            },
            {
             "iteration": 751,
             "learn": [
              0.1164405549
             ],
             "passed_time": 45.83805995,
             "remaining_time": 76.07167397,
             "test": [
              0.6644766627,
              0.1515131834
             ]
            },
            {
             "iteration": 752,
             "learn": [
              0.1164147341
             ],
             "passed_time": 45.8932753,
             "remaining_time": 76.00121421,
             "test": [
              0.6644766627,
              0.151513353
             ]
            },
            {
             "iteration": 753,
             "learn": [
              0.1163889173
             ],
             "passed_time": 45.95039538,
             "remaining_time": 75.93394249,
             "test": [
              0.6644766627,
              0.1515135274
             ]
            },
            {
             "iteration": 754,
             "learn": [
              0.1163631125
             ],
             "passed_time": 46.00585501,
             "remaining_time": 75.86395959,
             "test": [
              0.6644766627,
              0.1515137065
             ]
            },
            {
             "iteration": 755,
             "learn": [
              0.1163373078
             ],
             "passed_time": 46.06150802,
             "remaining_time": 75.7943333,
             "test": [
              0.6644766627,
              0.1515138899
             ]
            },
            {
             "iteration": 756,
             "learn": [
              0.1163115569
             ],
             "passed_time": 46.11666637,
             "remaining_time": 75.7239317,
             "test": [
              0.6644583088,
              0.1515193857
             ]
            },
            {
             "iteration": 757,
             "learn": [
              0.1162858121
             ],
             "passed_time": 46.17175118,
             "remaining_time": 75.65344982,
             "test": [
              0.6644583088,
              0.1515195767
             ]
            },
            {
             "iteration": 758,
             "learn": [
              0.1162600842
             ],
             "passed_time": 46.22887475,
             "remaining_time": 75.58634198,
             "test": [
              0.6644583088,
              0.1515197716
             ]
            },
            {
             "iteration": 759,
             "learn": [
              0.1162343533
             ],
             "passed_time": 46.28361298,
             "remaining_time": 75.51536855,
             "test": [
              0.6644583088,
              0.1515199703
             ]
            },
            {
             "iteration": 760,
             "learn": [
              0.1162093431
             ],
             "passed_time": 46.33933407,
             "remaining_time": 75.446038,
             "test": [
              0.6644583088,
              0.1515201646
             ]
            },
            {
             "iteration": 761,
             "learn": [
              0.1161851053
             ],
             "passed_time": 46.394485,
             "remaining_time": 75.37581684,
             "test": [
              0.6644549099,
              0.1515216567
             ]
            },
            {
             "iteration": 762,
             "learn": [
              0.1161594143
             ],
             "passed_time": 46.45247057,
             "remaining_time": 75.31023079,
             "test": [
              0.6644528706,
              0.1515236414
             ]
            },
            {
             "iteration": 763,
             "learn": [
              0.1161337333
             ],
             "passed_time": 46.50792816,
             "remaining_time": 75.24057488,
             "test": [
              0.6644528706,
              0.1515238555
             ]
            },
            {
             "iteration": 764,
             "learn": [
              0.1161080496
             ],
             "passed_time": 46.56394592,
             "remaining_time": 75.1718604,
             "test": [
              0.6644528706,
              0.1515240724
             ]
            },
            {
             "iteration": 765,
             "learn": [
              0.1160823971
             ],
             "passed_time": 46.61991996,
             "remaining_time": 75.10310866,
             "test": [
              0.6644528706,
              0.1515242917
             ]
            },
            {
             "iteration": 766,
             "learn": [
              0.1160567637
             ],
             "passed_time": 46.67617734,
             "remaining_time": 75.03484571,
             "test": [
              0.6644467527,
              0.1515278292
             ]
            },
            {
             "iteration": 767,
             "learn": [
              0.1160311357
             ],
             "passed_time": 46.73105798,
             "remaining_time": 74.96440551,
             "test": [
              0.6644467527,
              0.1515280533
             ]
            },
            {
             "iteration": 768,
             "learn": [
              0.1160055051
             ],
             "passed_time": 46.7876256,
             "remaining_time": 74.89670627,
             "test": [
              0.6644467527,
              0.1515282798
             ]
            },
            {
             "iteration": 769,
             "learn": [
              0.1158929959
             ],
             "passed_time": 46.84746706,
             "remaining_time": 74.83426556,
             "test": [
              0.6646003815,
              0.1515560079
             ]
            },
            {
             "iteration": 770,
             "learn": [
              0.1158673648
             ],
             "passed_time": 46.9038926,
             "remaining_time": 74.76638651,
             "test": [
              0.6646003815,
              0.1515561346
             ]
            },
            {
             "iteration": 771,
             "learn": [
              0.1158417267
             ],
             "passed_time": 46.95954869,
             "remaining_time": 74.6973132,
             "test": [
              0.6646003815,
              0.1515562686
             ]
            },
            {
             "iteration": 772,
             "learn": [
              0.1158161248
             ],
             "passed_time": 47.01499987,
             "remaining_time": 74.62794934,
             "test": [
              0.6646003815,
              0.1515564096
             ]
            },
            {
             "iteration": 773,
             "learn": [
              0.115790533
             ],
             "passed_time": 47.07082671,
             "remaining_time": 74.55921647,
             "test": [
              0.6645997017,
              0.1515645292
             ]
            },
            {
             "iteration": 774,
             "learn": [
              0.1157649397
             ],
             "passed_time": 47.12606172,
             "remaining_time": 74.48958143,
             "test": [
              0.6645997017,
              0.151564683
             ]
            },
            {
             "iteration": 775,
             "learn": [
              0.1157394142
             ],
             "passed_time": 47.1823516,
             "remaining_time": 74.42164737,
             "test": [
              0.6645997017,
              0.1515648429
             ]
            },
            {
             "iteration": 776,
             "learn": [
              0.1157149109
             ],
             "passed_time": 47.23785757,
             "remaining_time": 74.3525094,
             "test": [
              0.6645820276,
              0.1515655411
             ]
            },
            {
             "iteration": 777,
             "learn": [
              0.115689366
             ],
             "passed_time": 47.29345816,
             "remaining_time": 74.28355511,
             "test": [
              0.6645765894,
              0.1515667745
             ]
            },
            {
             "iteration": 778,
             "learn": [
              0.1156638374
             ],
             "passed_time": 47.34977729,
             "remaining_time": 74.21576132,
             "test": [
              0.6645765894,
              0.1515669522
             ]
            },
            {
             "iteration": 779,
             "learn": [
              0.1156383214
             ],
             "passed_time": 47.40531192,
             "remaining_time": 74.14676993,
             "test": [
              0.6645765894,
              0.1515671347
             ]
            },
            {
             "iteration": 780,
             "learn": [
              0.1156128227
             ],
             "passed_time": 47.46065568,
             "remaining_time": 74.07751508,
             "test": [
              0.6645765894,
              0.151567322
             ]
            },
            {
             "iteration": 781,
             "learn": [
              0.1155879237
             ],
             "passed_time": 47.51620978,
             "remaining_time": 74.00862341,
             "test": [
              0.6645765894,
              0.1515675081
             ]
            },
            {
             "iteration": 782,
             "learn": [
              0.1154857504
             ],
             "passed_time": 47.58146366,
             "remaining_time": 73.95484198,
             "test": [
              0.6661686192,
              0.151524171
             ]
            },
            {
             "iteration": 783,
             "learn": [
              0.115460366
             ],
             "passed_time": 47.63732692,
             "remaining_time": 73.88646624,
             "test": [
              0.6661686192,
              0.1515243037
             ]
            },
            {
             "iteration": 784,
             "learn": [
              0.1154349228
             ],
             "passed_time": 47.69290768,
             "remaining_time": 73.81768513,
             "test": [
              0.6661686192,
              0.1515244419
             ]
            },
            {
             "iteration": 785,
             "learn": [
              0.1154094782
             ],
             "passed_time": 47.74830035,
             "remaining_time": 73.74864711,
             "test": [
              0.6661686192,
              0.1515245873
             ]
            },
            {
             "iteration": 786,
             "learn": [
              0.1153840372
             ],
             "passed_time": 47.80605379,
             "remaining_time": 73.6832824,
             "test": [
              0.6661686192,
              0.1515247394
             ]
            },
            {
             "iteration": 787,
             "learn": [
              0.1153600128
             ],
             "passed_time": 47.86215855,
             "remaining_time": 73.61540122,
             "test": [
              0.6661625012,
              0.1515264234
             ]
            },
            {
             "iteration": 788,
             "learn": [
              0.1153345969
             ],
             "passed_time": 47.91867913,
             "remaining_time": 73.54818812,
             "test": [
              0.6661625012,
              0.15152659
             ]
            },
            {
             "iteration": 789,
             "learn": [
              0.1153091693
             ],
             "passed_time": 47.97390048,
             "remaining_time": 73.47901212,
             "test": [
              0.6661625012,
              0.1515267623
             ]
            },
            {
             "iteration": 790,
             "learn": [
              0.1152847075
             ],
             "passed_time": 48.02856854,
             "remaining_time": 73.40902575,
             "test": [
              0.6661475462,
              0.1515297926
             ]
            },
            {
             "iteration": 791,
             "learn": [
              0.1152593554
             ],
             "passed_time": 48.08509591,
             "remaining_time": 73.34191397,
             "test": [
              0.6661475462,
              0.1515299764
             ]
            },
            {
             "iteration": 792,
             "learn": [
              0.1152339961
             ],
             "passed_time": 48.14039876,
             "remaining_time": 73.27296507,
             "test": [
              0.6661461867,
              0.1515324139
             ]
            },
            {
             "iteration": 793,
             "learn": [
              0.1152086675
             ],
             "passed_time": 48.20267156,
             "remaining_time": 73.21463715,
             "test": [
              0.6661461867,
              0.1515326072
             ]
            },
            {
             "iteration": 794,
             "learn": [
              0.1151839569
             ],
             "passed_time": 48.25780915,
             "remaining_time": 73.14548432,
             "test": [
              0.6661461867,
              0.1515327979
             ]
            },
            {
             "iteration": 795,
             "learn": [
              0.1151586096
             ],
             "passed_time": 48.31307504,
             "remaining_time": 73.07656074,
             "test": [
              0.6661461867,
              0.1515330007
             ]
            },
            {
             "iteration": 796,
             "learn": [
              0.1151342363
             ],
             "passed_time": 48.36825764,
             "remaining_time": 73.00754573,
             "test": [
              0.6660768498,
              0.1515347692
             ]
            },
            {
             "iteration": 797,
             "learn": [
              0.115108921
             ],
             "passed_time": 48.42480047,
             "remaining_time": 72.94061425,
             "test": [
              0.6660768498,
              0.1515349811
             ]
            },
            {
             "iteration": 798,
             "learn": [
              0.1150836298
             ],
             "passed_time": 48.48116901,
             "remaining_time": 72.87344679,
             "test": [
              0.6660768498,
              0.1515351967
             ]
            },
            {
             "iteration": 799,
             "learn": [
              0.1150596057
             ],
             "passed_time": 48.5363474,
             "remaining_time": 72.80452111,
             "test": [
              0.6660442206,
              0.1515359719
             ]
            },
            {
             "iteration": 800,
             "learn": [
              0.1150342989
             ],
             "passed_time": 48.59277411,
             "remaining_time": 72.73749833,
             "test": [
              0.6660442206,
              0.1515361956
             ]
            },
            {
             "iteration": 801,
             "learn": [
              0.1150090198
             ],
             "passed_time": 48.64817,
             "remaining_time": 72.66896217,
             "test": [
              0.6660557768,
              0.1515194467
             ]
            },
            {
             "iteration": 802,
             "learn": [
              0.1149837661
             ],
             "passed_time": 48.7048097,
             "remaining_time": 72.60231284,
             "test": [
              0.6660347038,
              0.1515237263
             ]
            },
            {
             "iteration": 803,
             "learn": [
              0.114958496
             ],
             "passed_time": 48.75989068,
             "remaining_time": 72.53336971,
             "test": [
              0.6660347038,
              0.1515239583
             ]
            },
            {
             "iteration": 804,
             "learn": [
              0.114933264
             ],
             "passed_time": 48.81726321,
             "remaining_time": 72.46786277,
             "test": [
              0.6660347038,
              0.1515241927
             ]
            },
            {
             "iteration": 805,
             "learn": [
              0.1149080313
             ],
             "passed_time": 48.87489644,
             "remaining_time": 72.40276222,
             "test": [
              0.6660347038,
              0.1515244296
             ]
            },
            {
             "iteration": 806,
             "learn": [
              0.1148828469
             ],
             "passed_time": 48.93205209,
             "remaining_time": 72.33697416,
             "test": [
              0.6660347038,
              0.1515246688
             ]
            },
            {
             "iteration": 807,
             "learn": [
              0.1148583539
             ],
             "passed_time": 49.02188677,
             "remaining_time": 72.31941712,
             "test": [
              0.6660347038,
              0.1515249025
             ]
            },
            {
             "iteration": 808,
             "learn": [
              0.1148331535
             ],
             "passed_time": 49.07811119,
             "remaining_time": 72.25220078,
             "test": [
              0.6660347038,
              0.1515251473
             ]
            },
            {
             "iteration": 809,
             "learn": [
              0.1148079835
             ],
             "passed_time": 49.13386832,
             "remaining_time": 72.18432507,
             "test": [
              0.6660347038,
              0.1515253942
             ]
            },
            {
             "iteration": 810,
             "learn": [
              0.114757262
             ],
             "passed_time": 49.19946749,
             "remaining_time": 72.13090857,
             "test": [
              0.6661217148,
              0.1515250631
             ]
            },
            {
             "iteration": 811,
             "learn": [
              0.1147321144
             ],
             "passed_time": 49.25567858,
             "remaining_time": 72.06372679,
             "test": [
              0.6661101587,
              0.151530011
             ]
            },
            {
             "iteration": 812,
             "learn": [
              0.1147087871
             ],
             "passed_time": 49.31094205,
             "remaining_time": 71.99518845,
             "test": [
              0.6661087991,
              0.151530514
             ]
            },
            {
             "iteration": 813,
             "learn": [
              0.1146848387
             ],
             "passed_time": 49.3666601,
             "remaining_time": 71.92734506,
             "test": [
              0.6661087991,
              0.1515307491
             ]
            },
            {
             "iteration": 814,
             "learn": [
              0.1146597062
             ],
             "passed_time": 49.42483107,
             "remaining_time": 71.86309794,
             "test": [
              0.6661087991,
              0.1515310031
             ]
            },
            {
             "iteration": 815,
             "learn": [
              0.1146346304
             ],
             "passed_time": 49.48077745,
             "remaining_time": 71.79563788,
             "test": [
              0.6661087991,
              0.1515312587
             ]
            },
            {
             "iteration": 816,
             "learn": [
              0.1146095422
             ],
             "passed_time": 49.53904505,
             "remaining_time": 71.73156707,
             "test": [
              0.6661087991,
              0.1515315159
             ]
            },
            {
             "iteration": 817,
             "learn": [
              0.1145851274
             ],
             "passed_time": 49.59458319,
             "remaining_time": 71.66356642,
             "test": [
              0.6661087991,
              0.1515317673
             ]
            },
            {
             "iteration": 818,
             "learn": [
              0.1145600507
             ],
             "passed_time": 49.65074882,
             "remaining_time": 71.59650104,
             "test": [
              0.6661087991,
              0.1515320284
             ]
            },
            {
             "iteration": 819,
             "learn": [
              0.1145350248
             ],
             "passed_time": 49.70668345,
             "remaining_time": 71.52912984,
             "test": [
              0.6661087991,
              0.1515322909
             ]
            },
            {
             "iteration": 820,
             "learn": [
              0.1145099858
             ],
             "passed_time": 49.76266654,
             "remaining_time": 71.46185608,
             "test": [
              0.6661087991,
              0.1515325549
             ]
            },
            {
             "iteration": 821,
             "learn": [
              0.1144849888
             ],
             "passed_time": 49.81892329,
             "remaining_time": 71.39500198,
             "test": [
              0.6661087991,
              0.1515328201
             ]
            },
            {
             "iteration": 822,
             "learn": [
              0.1144599831
             ],
             "passed_time": 49.87594386,
             "remaining_time": 71.32926601,
             "test": [
              0.6661087991,
              0.1515330864
             ]
            },
            {
             "iteration": 823,
             "learn": [
              0.1144350291
             ],
             "passed_time": 49.93199736,
             "remaining_time": 71.262171,
             "test": [
              0.6661087991,
              0.151533354
             ]
            },
            {
             "iteration": 824,
             "learn": [
              0.114410074
             ],
             "passed_time": 49.98744292,
             "remaining_time": 71.19423688,
             "test": [
              0.6661087991,
              0.1515336228
             ]
            },
            {
             "iteration": 825,
             "learn": [
              0.1143851204
             ],
             "passed_time": 50.04500823,
             "remaining_time": 71.12934584,
             "test": [
              0.6661087991,
              0.1515338929
             ]
            },
            {
             "iteration": 826,
             "learn": [
              0.1143601597
             ],
             "passed_time": 50.10161169,
             "remaining_time": 71.06310824,
             "test": [
              0.6661087991,
              0.1515341643
             ]
            },
            {
             "iteration": 827,
             "learn": [
              0.1143352517
             ],
             "passed_time": 50.15933946,
             "remaining_time": 70.99848533,
             "test": [
              0.6661087991,
              0.1515344369
             ]
            },
            {
             "iteration": 828,
             "learn": [
              0.1143103246
             ],
             "passed_time": 50.21548488,
             "remaining_time": 70.9316439,
             "test": [
              0.6660999621,
              0.1515373732
             ]
            },
            {
             "iteration": 829,
             "learn": [
              0.1142854161
             ],
             "passed_time": 50.27149734,
             "remaining_time": 70.86464083,
             "test": [
              0.6660958834,
              0.1515407607
             ]
            },
            {
             "iteration": 830,
             "learn": [
              0.1142605395
             ],
             "passed_time": 50.32869062,
             "remaining_time": 70.79932532,
             "test": [
              0.6660904452,
              0.1515424597
             ]
            },
            {
             "iteration": 831,
             "learn": [
              0.1142356763
             ],
             "passed_time": 50.38507604,
             "remaining_time": 70.73289521,
             "test": [
              0.6660904452,
              0.1515427359
             ]
            },
            {
             "iteration": 832,
             "learn": [
              0.1142107911
             ],
             "passed_time": 50.44019135,
             "remaining_time": 70.66470985,
             "test": [
              0.6660904452,
              0.1515430132
             ]
            },
            {
             "iteration": 833,
             "learn": [
              0.1141859206
             ],
             "passed_time": 50.49637939,
             "remaining_time": 70.5980556,
             "test": [
              0.6660904452,
              0.1515432915
             ]
            },
            {
             "iteration": 834,
             "learn": [
              0.1141610913
             ],
             "passed_time": 50.55171078,
             "remaining_time": 70.53023121,
             "test": [
              0.6660904452,
              0.1515435706
             ]
            },
            {
             "iteration": 835,
             "learn": [
              0.1141362564
             ],
             "passed_time": 50.60684484,
             "remaining_time": 70.46216195,
             "test": [
              0.6660904452,
              0.1515438506
             ]
            },
            {
             "iteration": 836,
             "learn": [
              0.1141114458
             ],
             "passed_time": 50.66212623,
             "remaining_time": 70.39432832,
             "test": [
              0.666085007,
              0.1515477166
             ]
            },
            {
             "iteration": 837,
             "learn": [
              0.114086644
             ],
             "passed_time": 50.71754478,
             "remaining_time": 70.32671484,
             "test": [
              0.666085007,
              0.1515479981
             ]
            },
            {
             "iteration": 838,
             "learn": [
              0.1140618468
             ],
             "passed_time": 50.77477206,
             "remaining_time": 70.26163333,
             "test": [
              0.666085007,
              0.1515482803
             ]
            },
            {
             "iteration": 839,
             "learn": [
              0.1140370887
             ],
             "passed_time": 50.83034453,
             "remaining_time": 70.1942853,
             "test": [
              0.666085007,
              0.1515485635
             ]
            },
            {
             "iteration": 840,
             "learn": [
              0.1140123142
             ],
             "passed_time": 50.8866672,
             "remaining_time": 70.12799914,
             "test": [
              0.666085007,
              0.1515488477
             ]
            },
            {
             "iteration": 841,
             "learn": [
              0.1139875656
             ],
             "passed_time": 50.94175625,
             "remaining_time": 70.06004007,
             "test": [
              0.666085007,
              0.1515491326
             ]
            },
            {
             "iteration": 842,
             "learn": [
              0.1139628143
             ],
             "passed_time": 50.99648986,
             "remaining_time": 69.99162368,
             "test": [
              0.666085007,
              0.1515494184
             ]
            },
            {
             "iteration": 843,
             "learn": [
              0.1138843787
             ],
             "passed_time": 51.05592673,
             "remaining_time": 69.92968164,
             "test": [
              0.6659123446,
              0.1515271298
             ]
            },
            {
             "iteration": 844,
             "learn": [
              0.1138596393
             ],
             "passed_time": 51.11175145,
             "remaining_time": 69.86280819,
             "test": [
              0.6659123446,
              0.1515356861
             ]
            },
            {
             "iteration": 845,
             "learn": [
              0.1138348975
             ],
             "passed_time": 51.16680588,
             "remaining_time": 69.79491015,
             "test": [
              0.6659123446,
              0.1515359548
             ]
            },
            {
             "iteration": 846,
             "learn": [
              0.1138101954
             ],
             "passed_time": 51.22235881,
             "remaining_time": 69.72772102,
             "test": [
              0.6659123446,
              0.1515362252
             ]
            },
            {
             "iteration": 847,
             "learn": [
              0.1137855371
             ],
             "passed_time": 51.27821719,
             "remaining_time": 69.6609743,
             "test": [
              0.6659123446,
              0.1515364972
             ]
            },
            {
             "iteration": 848,
             "learn": [
              0.1137608364
             ],
             "passed_time": 51.33421007,
             "remaining_time": 69.59443556,
             "test": [
              0.6659123446,
              0.1515367708
             ]
            },
            {
             "iteration": 849,
             "learn": [
              0.113736148
             ],
             "passed_time": 51.3905734,
             "remaining_time": 69.52842284,
             "test": [
              0.6659123446,
              0.1515370459
             ]
            },
            {
             "iteration": 850,
             "learn": [
              0.1137115056
             ],
             "passed_time": 51.4487305,
             "remaining_time": 69.4648547,
             "test": [
              0.6659103052,
              0.1515394818
             ]
            },
            {
             "iteration": 851,
             "learn": [
              0.1136868717
             ],
             "passed_time": 51.50687202,
             "remaining_time": 69.40127826,
             "test": [
              0.6659103052,
              0.1515397597
             ]
            },
            {
             "iteration": 852,
             "learn": [
              0.113663226
             ],
             "passed_time": 51.5638161,
             "remaining_time": 69.33610441,
             "test": [
              0.6658511649,
              0.1515416951
             ]
            },
            {
             "iteration": 853,
             "learn": [
              0.1136386203
             ],
             "passed_time": 51.61921978,
             "remaining_time": 69.26888274,
             "test": [
              0.6658511649,
              0.1515419771
             ]
            },
            {
             "iteration": 854,
             "learn": [
              0.1136139838
             ],
             "passed_time": 51.67502624,
             "remaining_time": 69.20222812,
             "test": [
              0.6658511649,
              0.1515422602
             ]
            },
            {
             "iteration": 855,
             "learn": [
              0.1135893714
             ],
             "passed_time": 51.73043525,
             "remaining_time": 69.13506767,
             "test": [
              0.6658511649,
              0.1515425445
             ]
            },
            {
             "iteration": 856,
             "learn": [
              0.1135653777
             ],
             "passed_time": 51.78688467,
             "remaining_time": 69.06932226,
             "test": [
              0.6658511649,
              0.1515428229
             ]
            },
            {
             "iteration": 857,
             "learn": [
              0.1135408041
             ],
             "passed_time": 51.84347675,
             "remaining_time": 69.0037884,
             "test": [
              0.6658511649,
              0.1515431102
             ]
            },
            {
             "iteration": 858,
             "learn": [
              0.1135162264
             ],
             "passed_time": 51.8999445,
             "remaining_time": 68.93811021,
             "test": [
              0.6658511649,
              0.1515433986
             ]
            },
            {
             "iteration": 859,
             "learn": [
              0.1134916618
             ],
             "passed_time": 51.95490856,
             "remaining_time": 68.87046018,
             "test": [
              0.6658511649,
              0.151543688
             ]
            },
            {
             "iteration": 860,
             "learn": [
              0.1134671179
             ],
             "passed_time": 52.01159134,
             "remaining_time": 68.80511329,
             "test": [
              0.6658511649,
              0.1515439783
             ]
            },
            {
             "iteration": 861,
             "learn": [
              0.1134425786
             ],
             "passed_time": 52.06681294,
             "remaining_time": 68.73785746,
             "test": [
              0.6658477661,
              0.1515459275
             ]
            },
            {
             "iteration": 862,
             "learn": [
              0.1133976854
             ],
             "passed_time": 52.12507283,
             "remaining_time": 68.67463246,
             "test": [
              0.6657063731,
              0.1515547295
             ]
            },
            {
             "iteration": 863,
             "learn": [
              0.1133731641
             ],
             "passed_time": 52.1797286,
             "remaining_time": 68.6066802,
             "test": [
              0.6657063731,
              0.1515550257
             ]
            },
            {
             "iteration": 864,
             "learn": [
              0.1133486466
             ],
             "passed_time": 52.2345045,
             "remaining_time": 68.53891631,
             "test": [
              0.6657063731,
              0.1515553225
             ]
            },
            {
             "iteration": 865,
             "learn": [
              0.1133245899
             ],
             "passed_time": 52.29242548,
             "remaining_time": 68.4753008,
             "test": [
              0.6656893788,
              0.1515562292
             ]
            },
            {
             "iteration": 866,
             "learn": [
              0.1133001132
             ],
             "passed_time": 52.34929039,
             "remaining_time": 68.41031835,
             "test": [
              0.6656893788,
              0.1515565276
             ]
            },
            {
             "iteration": 867,
             "learn": [
              0.1132756584
             ],
             "passed_time": 52.40658138,
             "remaining_time": 68.34591027,
             "test": [
              0.6656893788,
              0.1515568268
             ]
            },
            {
             "iteration": 868,
             "learn": [
              0.1132512059
             ],
             "passed_time": 52.4627005,
             "remaining_time": 68.27999341,
             "test": [
              0.6656880193,
              0.151559554
             ]
            },
            {
             "iteration": 869,
             "learn": [
              0.1132267667
             ],
             "passed_time": 52.51815918,
             "remaining_time": 68.21324124,
             "test": [
              0.6656880193,
              0.1515598543
             ]
            },
            {
             "iteration": 870,
             "learn": [
              0.1132023002
             ],
             "passed_time": 52.57363778,
             "remaining_time": 68.14654081,
             "test": [
              0.6656880193,
              0.1515601553
             ]
            },
            {
             "iteration": 871,
             "learn": [
              0.1131778859
             ],
             "passed_time": 52.63008819,
             "remaining_time": 68.08112326,
             "test": [
              0.6656880193,
              0.1515604569
             ]
            },
            {
             "iteration": 872,
             "learn": [
              0.1131534971
             ],
             "passed_time": 52.68655711,
             "remaining_time": 68.01575012,
             "test": [
              0.6656880193,
              0.1515607592
             ]
            },
            {
             "iteration": 873,
             "learn": [
              0.1131299406
             ],
             "passed_time": 52.74288198,
             "remaining_time": 67.9502118,
             "test": [
              0.6656880193,
              0.1515610514
             ]
            },
            {
             "iteration": 874,
             "learn": [
              0.1131055449
             ],
             "passed_time": 52.79940019,
             "remaining_time": 67.8849431,
             "test": [
              0.665679862,
              0.1515657389
             ]
            },
            {
             "iteration": 875,
             "learn": [
              0.1130811416
             ],
             "passed_time": 52.8545547,
             "remaining_time": 67.81794462,
             "test": [
              0.665679862,
              0.1515660437
             ]
            },
            {
             "iteration": 876,
             "learn": [
              0.113056781
             ],
             "passed_time": 52.91295788,
             "remaining_time": 67.75513307,
             "test": [
              0.665679862,
              0.151566349
             ]
            },
            {
             "iteration": 877,
             "learn": [
              0.113032417
             ],
             "passed_time": 52.97030862,
             "remaining_time": 67.69098664,
             "test": [
              0.6656880193,
              0.1515505193
             ]
            },
            {
             "iteration": 878,
             "learn": [
              0.1130080653
             ],
             "passed_time": 53.0260195,
             "remaining_time": 67.62476435,
             "test": [
              0.6656880193,
              0.1515508253
             ]
            },
            {
             "iteration": 879,
             "learn": [
              0.1129849118
             ],
             "passed_time": 53.08207763,
             "remaining_time": 67.55900789,
             "test": [
              0.6656880193,
              0.1515529449
             ]
            },
            {
             "iteration": 880,
             "learn": [
              0.1129605999
             ],
             "passed_time": 53.13777335,
             "remaining_time": 67.49281314,
             "test": [
              0.6656880193,
              0.1515532531
             ]
            },
            {
             "iteration": 881,
             "learn": [
              0.1129363036
             ],
             "passed_time": 53.19315249,
             "remaining_time": 67.42624091,
             "test": [
              0.6656880193,
              0.1515535617
             ]
            },
            {
             "iteration": 882,
             "learn": [
              0.1129120193
             ],
             "passed_time": 53.24888245,
             "remaining_time": 67.36013782,
             "test": [
              0.6656880193,
              0.1515538707
             ]
            },
            {
             "iteration": 883,
             "learn": [
              0.1128877641
             ],
             "passed_time": 53.3042823,
             "remaining_time": 67.29364145,
             "test": [
              0.6656880193,
              0.1515541802
             ]
            },
            {
             "iteration": 884,
             "learn": [
              0.1128634937
             ],
             "passed_time": 53.35950544,
             "remaining_time": 67.22694753,
             "test": [
              0.6656880193,
              0.1515544903
             ]
            },
            {
             "iteration": 885,
             "learn": [
              0.1128392457
             ],
             "passed_time": 53.41522186,
             "remaining_time": 67.16089972,
             "test": [
              0.6656859799,
              0.1515559193
             ]
            },
            {
             "iteration": 886,
             "learn": [
              0.1127686158
             ],
             "passed_time": 53.47242331,
             "remaining_time": 67.09673861,
             "test": [
              0.6659966365,
              0.1515223937
             ]
            },
            {
             "iteration": 887,
             "learn": [
              0.1127443567
             ],
             "passed_time": 53.52730025,
             "remaining_time": 67.02968229,
             "test": [
              0.6659952769,
              0.1515248042
             ]
            },
            {
             "iteration": 888,
             "learn": [
              0.1127201331
             ],
             "passed_time": 53.58195035,
             "remaining_time": 66.9623699,
             "test": [
              0.6659952769,
              0.1515250926
             ]
            },
            {
             "iteration": 889,
             "learn": [
              0.11269594
             ],
             "passed_time": 53.63786965,
             "remaining_time": 66.89666889,
             "test": [
              0.6659952769,
              0.1515253826
             ]
            },
            {
             "iteration": 890,
             "learn": [
              0.1126717733
             ],
             "passed_time": 53.69382507,
             "remaining_time": 66.8310348,
             "test": [
              0.6659952769,
              0.151525674
             ]
            },
            {
             "iteration": 891,
             "learn": [
              0.112647632
             ],
             "passed_time": 53.74902563,
             "remaining_time": 66.76448475,
             "test": [
              0.6659952769,
              0.1515259669
             ]
            },
            {
             "iteration": 892,
             "learn": [
              0.1126235049
             ],
             "passed_time": 53.80439243,
             "remaining_time": 66.69816621,
             "test": [
              0.6659952769,
              0.151526261
             ]
            },
            {
             "iteration": 893,
             "learn": [
              0.1125429685
             ],
             "passed_time": 53.86439492,
             "remaining_time": 66.63760714,
             "test": [
              0.6661393889,
              0.1515237185
             ]
            },
            {
             "iteration": 894,
             "learn": [
              0.1125188342
             ],
             "passed_time": 53.92082046,
             "remaining_time": 66.57263309,
             "test": [
              0.6661393889,
              0.151523969
             ]
            },
            {
             "iteration": 895,
             "learn": [
              0.1124947339
             ],
             "passed_time": 53.97615506,
             "remaining_time": 66.50633391,
             "test": [
              0.6661346305,
              0.1515271085
             ]
            },
            {
             "iteration": 896,
             "learn": [
              0.112470633
             ],
             "passed_time": 54.03154253,
             "remaining_time": 66.44012421,
             "test": [
              0.6661346305,
              0.1515273662
             ]
            },
            {
             "iteration": 897,
             "learn": [
              0.1124465419
             ],
             "passed_time": 54.08756891,
             "remaining_time": 66.37472265,
             "test": [
              0.6661346305,
              0.1515276274
             ]
            },
            {
             "iteration": 898,
             "learn": [
              0.112358362
             ],
             "passed_time": 54.14628575,
             "remaining_time": 66.31263695,
             "test": [
              0.6663392424,
              0.1514536157
             ]
            },
            {
             "iteration": 899,
             "learn": [
              0.1123356042
             ],
             "passed_time": 54.20200505,
             "remaining_time": 66.24689507,
             "test": [
              0.6663365233,
              0.1514571741
             ]
            },
            {
             "iteration": 900,
             "learn": [
              0.1123115159
             ],
             "passed_time": 54.25756152,
             "remaining_time": 66.18097682,
             "test": [
              0.6663365233,
              0.1514573769
             ]
            },
            {
             "iteration": 901,
             "learn": [
              0.1122877307
             ],
             "passed_time": 54.31310687,
             "remaining_time": 66.115068,
             "test": [
              0.6663256469,
              0.1514580307
             ]
            },
            {
             "iteration": 902,
             "learn": [
              0.1122637032
             ],
             "passed_time": 54.36987607,
             "remaining_time": 66.05066893,
             "test": [
              0.6663256469,
              0.1514582457
             ]
            },
            {
             "iteration": 903,
             "learn": [
              0.1122397027
             ],
             "passed_time": 54.42584282,
             "remaining_time": 65.98531387,
             "test": [
              0.6663256469,
              0.1514584666
             ]
            },
            {
             "iteration": 904,
             "learn": [
              0.1122156683
             ],
             "passed_time": 54.48484583,
             "remaining_time": 65.92365324,
             "test": [
              0.6663256469,
              0.151458693
             ]
            },
            {
             "iteration": 905,
             "learn": [
              0.1121916765
             ],
             "passed_time": 54.54252135,
             "remaining_time": 65.86039554,
             "test": [
              0.6663256469,
              0.1514589247
             ]
            },
            {
             "iteration": 906,
             "learn": [
              0.112167701
             ],
             "passed_time": 54.59796257,
             "remaining_time": 65.79445766,
             "test": [
              0.6663256469,
              0.1514591613
             ]
            },
            {
             "iteration": 907,
             "learn": [
              0.1121444081
             ],
             "passed_time": 54.65392108,
             "remaining_time": 65.729165,
             "test": [
              0.6663256469,
              0.1514593942
             ]
            },
            {
             "iteration": 908,
             "learn": [
              0.1121204538
             ],
             "passed_time": 54.70964709,
             "remaining_time": 65.66361383,
             "test": [
              0.6663208885,
              0.1514611858
             ]
            },
            {
             "iteration": 909,
             "learn": [
              0.1120965258
             ],
             "passed_time": 54.76550084,
             "remaining_time": 65.59823727,
             "test": [
              0.6663208885,
              0.1514614368
             ]
            },
            {
             "iteration": 910,
             "learn": [
              0.1120726234
             ],
             "passed_time": 54.8229015,
             "remaining_time": 65.53473077,
             "test": [
              0.6663208885,
              0.151461692
             ]
            },
            {
             "iteration": 911,
             "learn": [
              0.1120486986
             ],
             "passed_time": 54.87856267,
             "remaining_time": 65.46916249,
             "test": [
              0.6663208885,
              0.1514619512
             ]
            },
            {
             "iteration": 912,
             "learn": [
              0.1120248118
             ],
             "passed_time": 54.93687902,
             "remaining_time": 65.4067771,
             "test": [
              0.6663208885,
              0.1514622141
             ]
            },
            {
             "iteration": 913,
             "learn": [
              0.1120009212
             ],
             "passed_time": 54.99240232,
             "remaining_time": 65.34108197,
             "test": [
              0.6663208885,
              0.1514624806
             ]
            },
            {
             "iteration": 914,
             "learn": [
              0.1119770333
             ],
             "passed_time": 55.04774671,
             "remaining_time": 65.27519692,
             "test": [
              0.6663188492,
              0.1514665922
             ]
            },
            {
             "iteration": 915,
             "learn": [
              0.1119532012
             ],
             "passed_time": 55.10450845,
             "remaining_time": 65.21101219,
             "test": [
              0.6663188492,
              0.1514668648
             ]
            },
            {
             "iteration": 916,
             "learn": [
              0.1119303012
             ],
             "passed_time": 55.16022192,
             "remaining_time": 65.14560561,
             "test": [
              0.6663188492,
              0.1514671283
             ]
            },
            {
             "iteration": 917,
             "learn": [
              0.1119064771
             ],
             "passed_time": 55.21607093,
             "remaining_time": 65.0803799,
             "test": [
              0.6663188492,
              0.1514674086
             ]
            },
            {
             "iteration": 918,
             "learn": [
              0.1118826424
             ],
             "passed_time": 55.27232901,
             "remaining_time": 65.01565578,
             "test": [
              0.6663188492,
              0.1514676918
             ]
            },
            {
             "iteration": 919,
             "learn": [
              0.1118588118
             ],
             "passed_time": 55.32918725,
             "remaining_time": 64.9516546,
             "test": [
              0.6663188492,
              0.1514679776
             ]
            },
            {
             "iteration": 920,
             "learn": [
              0.111835049
             ],
             "passed_time": 55.38644741,
             "remaining_time": 64.8881398,
             "test": [
              0.6663188492,
              0.1514768346
             ]
            },
            {
             "iteration": 921,
             "learn": [
              0.1118112718
             ],
             "passed_time": 55.44242475,
             "remaining_time": 64.8231387,
             "test": [
              0.6663188492,
              0.1514771252
             ]
            },
            {
             "iteration": 922,
             "learn": [
              0.1117874613
             ],
             "passed_time": 55.49824146,
             "remaining_time": 64.75796972,
             "test": [
              0.6663188492,
              0.1514774182
             ]
            },
            {
             "iteration": 923,
             "learn": [
              0.1117636915
             ],
             "passed_time": 55.55377535,
             "remaining_time": 64.69249164,
             "test": [
              0.6663188492,
              0.1514777135
             ]
            },
            {
             "iteration": 924,
             "learn": [
              0.1117399541
             ],
             "passed_time": 55.61095505,
             "remaining_time": 64.62894776,
             "test": [
              0.6663188492,
              0.1514780109
             ]
            },
            {
             "iteration": 925,
             "learn": [
              0.1117173817
             ],
             "passed_time": 55.66703455,
             "remaining_time": 64.56414158,
             "test": [
              0.6663188492,
              0.1514782966
             ]
            },
            {
             "iteration": 926,
             "learn": [
              0.1116936392
             ],
             "passed_time": 55.72277093,
             "remaining_time": 64.49895708,
             "test": [
              0.6663188492,
              0.1514785996
             ]
            },
            {
             "iteration": 927,
             "learn": [
              0.1116699179
             ],
             "passed_time": 55.77885606,
             "remaining_time": 64.43419579,
             "test": [
              0.6663188492,
              0.1514789044
             ]
            },
            {
             "iteration": 928,
             "learn": [
              0.1116461802
             ],
             "passed_time": 55.83591022,
             "remaining_time": 64.37057034,
             "test": [
              0.6663168098,
              0.1514815
             ]
            },
            {
             "iteration": 929,
             "learn": [
              0.1116224667
             ],
             "passed_time": 55.89108698,
             "remaining_time": 64.304799,
             "test": [
              0.6663154503,
              0.1514829291
             ]
            },
            {
             "iteration": 930,
             "learn": [
              0.111599343
             ],
             "passed_time": 55.9471489,
             "remaining_time": 64.24006678,
             "test": [
              0.6663154503,
              0.1514832318
             ]
            },
            {
             "iteration": 931,
             "learn": [
              0.1115756475
             ],
             "passed_time": 56.00550888,
             "remaining_time": 64.17798657,
             "test": [
              0.6663154503,
              0.1514835439
             ]
            },
            {
             "iteration": 932,
             "learn": [
              0.1115519685
             ],
             "passed_time": 56.06098043,
             "remaining_time": 64.11261106,
             "test": [
              0.6663154503,
              0.1514838574
             ]
            },
            {
             "iteration": 933,
             "learn": [
              0.1115283041
             ],
             "passed_time": 56.11703135,
             "remaining_time": 64.04791801,
             "test": [
              0.6663154503,
              0.1514841723
             ]
            },
            {
             "iteration": 934,
             "learn": [
              0.1115050916
             ],
             "passed_time": 56.17254003,
             "remaining_time": 63.98262581,
             "test": [
              0.6663032144,
              0.1514851409
             ]
            },
            {
             "iteration": 935,
             "learn": [
              0.1114814304
             ],
             "passed_time": 56.22744163,
             "remaining_time": 63.91666442,
             "test": [
              0.6663032144,
              0.1514854593
             ]
            },
            {
             "iteration": 936,
             "learn": [
              0.1114577804
             ],
             "passed_time": 56.2823939,
             "remaining_time": 63.85078411,
             "test": [
              0.6663032144,
              0.151485779
             ]
            },
            {
             "iteration": 937,
             "learn": [
              0.1114341536
             ],
             "passed_time": 56.33814203,
             "remaining_time": 63.78582818,
             "test": [
              0.6663025346,
              0.1514878635
             ]
            },
            {
             "iteration": 938,
             "learn": [
              0.1114105277
             ],
             "passed_time": 56.39347475,
             "remaining_time": 63.72042248,
             "test": [
              0.6663025346,
              0.1514881852
             ]
            },
            {
             "iteration": 939,
             "learn": [
              0.1113869343
             ],
             "passed_time": 56.45129527,
             "remaining_time": 63.65784361,
             "test": [
              0.6663025346,
              0.151488508
             ]
            },
            {
             "iteration": 940,
             "learn": [
              0.1113633339
             ],
             "passed_time": 56.50862814,
             "remaining_time": 63.59472603,
             "test": [
              0.6663025346,
              0.1514888318
             ]
            },
            {
             "iteration": 941,
             "learn": [
              0.1113397731
             ],
             "passed_time": 56.56538484,
             "remaining_time": 63.53097363,
             "test": [
              0.6663025346,
              0.1514891565
             ]
            },
            {
             "iteration": 942,
             "learn": [
              0.1113177598
             ],
             "passed_time": 56.62120659,
             "remaining_time": 63.46618809,
             "test": [
              0.6662760234,
              0.1514908858
             ]
            },
            {
             "iteration": 943,
             "learn": [
              0.1112942199
             ],
             "passed_time": 56.67685694,
             "remaining_time": 63.40122979,
             "test": [
              0.6662760234,
              0.1514912148
             ]
            },
            {
             "iteration": 944,
             "learn": [
              0.1112706757
             ],
             "passed_time": 56.73314231,
             "remaining_time": 63.33700015,
             "test": [
              0.6662760234,
              0.1514915447
             ]
            },
            {
             "iteration": 945,
             "learn": [
              0.1112471446
             ],
             "passed_time": 56.79135841,
             "remaining_time": 63.27493844,
             "test": [
              0.6662760234,
              0.1514944778
             ]
            },
            {
             "iteration": 946,
             "learn": [
              0.1112236161
             ],
             "passed_time": 56.84662693,
             "remaining_time": 63.20960734,
             "test": [
              0.6662753437,
              0.1514967827
             ]
            },
            {
             "iteration": 947,
             "learn": [
              0.1112001015
             ],
             "passed_time": 56.90187861,
             "remaining_time": 63.14427879,
             "test": [
              0.6662753437,
              0.151497115
             ]
            },
            {
             "iteration": 948,
             "learn": [
              0.1111766101
             ],
             "passed_time": 56.95754741,
             "remaining_time": 63.07943343,
             "test": [
              0.6662753437,
              0.1514974483
             ]
            },
            {
             "iteration": 949,
             "learn": [
              0.1111530991
             ],
             "passed_time": 57.01286063,
             "remaining_time": 63.01421438,
             "test": [
              0.6662753437,
              0.1514977824
             ]
            },
            {
             "iteration": 950,
             "learn": [
              0.1111296099
             ],
             "passed_time": 57.06910701,
             "remaining_time": 62.95004548,
             "test": [
              0.6662753437,
              0.1514981173
             ]
            },
            {
             "iteration": 951,
             "learn": [
              0.1111061187
             ],
             "passed_time": 57.12544842,
             "remaining_time": 62.88599784,
             "test": [
              0.6662719448,
              0.1515031525
             ]
            },
            {
             "iteration": 952,
             "learn": [
              0.1110826438
             ],
             "passed_time": 57.18174592,
             "remaining_time": 62.82191813,
             "test": [
              0.6662787425,
              0.1514880198
             ]
            },
            {
             "iteration": 953,
             "learn": [
              0.1110203803
             ],
             "passed_time": 57.23924745,
             "remaining_time": 62.75917488,
             "test": [
              0.6663487592,
              0.1514933519
             ]
            },
            {
             "iteration": 954,
             "learn": [
              0.1109969315
             ],
             "passed_time": 57.29442313,
             "remaining_time": 62.69389756,
             "test": [
              0.6663487592,
              0.1514936883
             ]
            },
            {
             "iteration": 955,
             "learn": [
              0.1109734897
             ],
             "passed_time": 57.35136146,
             "remaining_time": 62.63056628,
             "test": [
              0.6663487592,
              0.1514940254
             ]
            },
            {
             "iteration": 956,
             "learn": [
              0.1109507422
             ],
             "passed_time": 57.4068063,
             "remaining_time": 62.56562066,
             "test": [
              0.6663487592,
              0.1514943584
             ]
            },
            {
             "iteration": 957,
             "learn": [
              0.1109273255
             ],
             "passed_time": 57.46217615,
             "remaining_time": 62.5006133,
             "test": [
              0.6663487592,
              0.1514946972
             ]
            },
            {
             "iteration": 958,
             "learn": [
              0.1109039386
             ],
             "passed_time": 57.520196,
             "remaining_time": 62.43850264,
             "test": [
              0.6663487592,
              0.1514950368
             ]
            },
            {
             "iteration": 959,
             "learn": [
              0.1108805302
             ],
             "passed_time": 57.57550668,
             "remaining_time": 62.37346557,
             "test": [
              0.6663487592,
              0.1514953772
             ]
            },
            {
             "iteration": 960,
             "learn": [
              0.1108571736
             ],
             "passed_time": 57.63058716,
             "remaining_time": 62.30819985,
             "test": [
              0.6663487592,
              0.1514957182
             ]
            },
            {
             "iteration": 961,
             "learn": [
              0.1107940375
             ],
             "passed_time": 57.69738814,
             "remaining_time": 62.25560176,
             "test": [
              0.6659497321,
              0.1514784339
             ]
            },
            {
             "iteration": 962,
             "learn": [
              0.1107706365
             ],
             "passed_time": 57.75303257,
             "remaining_time": 62.1909603,
             "test": [
              0.6659497321,
              0.1514787773
             ]
            },
            {
             "iteration": 963,
             "learn": [
              0.1107472959
             ],
             "passed_time": 57.80831746,
             "remaining_time": 62.12595112,
             "test": [
              0.6659456535,
              0.151482606
             ]
            },
            {
             "iteration": 964,
             "learn": [
              0.110723947
             ],
             "passed_time": 57.86449862,
             "remaining_time": 62.0619234,
             "test": [
              0.6659456535,
              0.1514829499
             ]
            },
            {
             "iteration": 965,
             "learn": [
              0.1107006271
             ],
             "passed_time": 57.91986043,
             "remaining_time": 61.99703487,
             "test": [
              0.6659456535,
              0.1514832945
             ]
            },
            {
             "iteration": 966,
             "learn": [
              0.1106773068
             ],
             "passed_time": 57.97807382,
             "remaining_time": 61.93521226,
             "test": [
              0.6659456535,
              0.1514836397
             ]
            },
            {
             "iteration": 967,
             "learn": [
              0.1106545496
             ],
             "passed_time": 58.03362525,
             "remaining_time": 61.87055915,
             "test": [
              0.6659456535,
              0.1514839789
             ]
            },
            {
             "iteration": 968,
             "learn": [
              0.1106312701
             ],
             "passed_time": 58.09114986,
             "remaining_time": 61.80802425,
             "test": [
              0.6659436141,
              0.1514874457
             ]
            },
            {
             "iteration": 969,
             "learn": [
              0.1105284945
             ],
             "passed_time": 58.15603028,
             "remaining_time": 61.75331051,
             "test": [
              0.666961915,
              0.1514746834
             ]
            },
            {
             "iteration": 970,
             "learn": [
              0.1105062194
             ],
             "passed_time": 58.21327452,
             "remaining_time": 61.69048351,
             "test": [
              0.6669585161,
              0.1514755593
             ]
            },
            {
             "iteration": 971,
             "learn": [
              0.1104829013
             ],
             "passed_time": 58.27046276,
             "remaining_time": 61.62760876,
             "test": [
              0.6669585161,
              0.1514757789
             ]
            },
            {
             "iteration": 972,
             "learn": [
              0.1104596144
             ],
             "passed_time": 58.32693109,
             "remaining_time": 61.56398585,
             "test": [
              0.6669585161,
              0.1514760057
             ]
            },
            {
             "iteration": 973,
             "learn": [
              0.1104363402
             ],
             "passed_time": 58.38176945,
             "remaining_time": 61.49866063,
             "test": [
              0.6669585161,
              0.1514762392
             ]
            },
            {
             "iteration": 974,
             "learn": [
              0.1104131131
             ],
             "passed_time": 58.43760187,
             "remaining_time": 61.43440196,
             "test": [
              0.6669585161,
              0.151476479
             ]
            },
            {
             "iteration": 975,
             "learn": [
              0.1103899143
             ],
             "passed_time": 58.49312946,
             "remaining_time": 61.36984075,
             "test": [
              0.6669585161,
              0.1514767247
             ]
            },
            {
             "iteration": 976,
             "learn": [
              0.110366686
             ],
             "passed_time": 58.54915347,
             "remaining_time": 61.30581781,
             "test": [
              0.6669585161,
              0.1514769763
             ]
            },
            {
             "iteration": 977,
             "learn": [
              0.1103435044
             ],
             "passed_time": 58.60595254,
             "remaining_time": 61.24262117,
             "test": [
              0.6669585161,
              0.1514772336
             ]
            },
            {
             "iteration": 978,
             "learn": [
              0.1103203539
             ],
             "passed_time": 58.66052886,
             "remaining_time": 61.17711947,
             "test": [
              0.6669585161,
              0.1514774962
             ]
            },
            {
             "iteration": 979,
             "learn": [
              0.1102971995
             ],
             "passed_time": 58.71679586,
             "remaining_time": 61.11339977,
             "test": [
              0.6669585161,
              0.1514777638
             ]
            },
            {
             "iteration": 980,
             "learn": [
              0.1102740632
             ],
             "passed_time": 58.77250745,
             "remaining_time": 61.04911834,
             "test": [
              0.6669585161,
              0.1514780363
             ]
            },
            {
             "iteration": 981,
             "learn": [
              0.1102509318
             ],
             "passed_time": 58.82699727,
             "remaining_time": 60.9835878,
             "test": [
              0.6669585161,
              0.1514783137
             ]
            },
            {
             "iteration": 982,
             "learn": [
              0.1102278322
             ],
             "passed_time": 58.88159592,
             "remaining_time": 60.91819232,
             "test": [
              0.6669585161,
              0.1514785957
             ]
            },
            {
             "iteration": 983,
             "learn": [
              0.110204736
             ],
             "passed_time": 58.93834008,
             "remaining_time": 60.85503406,
             "test": [
              0.6669585161,
              0.151478882
             ]
            },
            {
             "iteration": 984,
             "learn": [
              0.1101816268
             ],
             "passed_time": 58.99585127,
             "remaining_time": 60.79267923,
             "test": [
              0.6669510386,
              0.1514828321
             ]
            },
            {
             "iteration": 985,
             "learn": [
              0.1101585276
             ],
             "passed_time": 59.05307826,
             "remaining_time": 60.73004194,
             "test": [
              0.6669510386,
              0.1514831264
             ]
            },
            {
             "iteration": 986,
             "learn": [
              0.1101354688
             ],
             "passed_time": 59.10890001,
             "remaining_time": 60.66597337,
             "test": [
              0.6669510386,
              0.1514834246
             ]
            },
            {
             "iteration": 987,
             "learn": [
              0.1101123733
             ],
             "passed_time": 59.16435169,
             "remaining_time": 60.60154242,
             "test": [
              0.6669503589,
              0.1514878359
             ]
            },
            {
             "iteration": 988,
             "learn": [
              0.1100893109
             ],
             "passed_time": 59.21955971,
             "remaining_time": 60.53688055,
             "test": [
              0.6669503589,
              0.1514881405
             ]
            },
            {
             "iteration": 989,
             "learn": [
              0.1100662854
             ],
             "passed_time": 59.27490468,
             "remaining_time": 60.4723775,
             "test": [
              0.6669503589,
              0.1514884482
             ]
            },
            {
             "iteration": 990,
             "learn": [
              0.1100432712
             ],
             "passed_time": 59.33130693,
             "remaining_time": 60.40896942,
             "test": [
              0.6669503589,
              0.1514887591
             ]
            },
            {
             "iteration": 991,
             "learn": [
              0.1100202577
             ],
             "passed_time": 59.38686081,
             "remaining_time": 60.34471341,
             "test": [
              0.6669503589,
              0.1514890731
             ]
            },
            {
             "iteration": 992,
             "learn": [
              0.1099972639
             ],
             "passed_time": 59.44541691,
             "remaining_time": 60.28351946,
             "test": [
              0.6669503589,
              0.1514981994
             ]
            },
            {
             "iteration": 993,
             "learn": [
              0.1099742706
             ],
             "passed_time": 59.50106196,
             "remaining_time": 60.21938464,
             "test": [
              0.6669503589,
              0.1514985186
             ]
            },
            {
             "iteration": 994,
             "learn": [
              0.109951833
             ],
             "passed_time": 59.55770683,
             "remaining_time": 60.15627675,
             "test": [
              0.6669503589,
              0.1514988329
             ]
            },
            {
             "iteration": 995,
             "learn": [
              0.1099288897
             ],
             "passed_time": 59.6130308,
             "remaining_time": 60.09185033,
             "test": [
              0.6669503589,
              0.1514991581
             ]
            },
            {
             "iteration": 996,
             "learn": [
              0.1099059152
             ],
             "passed_time": 59.66912631,
             "remaining_time": 60.02821834,
             "test": [
              0.6669489993,
              0.1515011284
             ]
            },
            {
             "iteration": 997,
             "learn": [
              0.1098829651
             ],
             "passed_time": 59.72531772,
             "remaining_time": 59.96469776,
             "test": [
              0.6669489993,
              0.1515014582
             ]
            },
            {
             "iteration": 998,
             "learn": [
              0.1098600302
             ],
             "passed_time": 59.782506,
             "remaining_time": 59.9021907,
             "test": [
              0.6669489993,
              0.1515017902
             ]
            },
            {
             "iteration": 999,
             "learn": [
              0.1098371068
             ],
             "passed_time": 59.83795931,
             "remaining_time": 59.83795931,
             "test": [
              0.6669489993,
              0.1515021243
             ]
            },
            {
             "iteration": 1000,
             "learn": [
              0.1098146638
             ],
             "passed_time": 59.90022319,
             "remaining_time": 59.78054242,
             "test": [
              0.6669388027,
              0.1515031464
             ]
            },
            {
             "iteration": 1001,
             "learn": [
              0.1097929972
             ],
             "passed_time": 60.01243173,
             "remaining_time": 59.77286115,
             "test": [
              0.6669238477,
              0.1515038736
             ]
            },
            {
             "iteration": 1002,
             "learn": [
              0.1097701054
             ],
             "passed_time": 60.0684332,
             "remaining_time": 59.7091006,
             "test": [
              0.6669238477,
              0.1515042156
             ]
            },
            {
             "iteration": 1003,
             "learn": [
              0.1097472161
             ],
             "passed_time": 60.12599235,
             "remaining_time": 59.64690078,
             "test": [
              0.6669170499,
              0.1515053938
             ]
            },
            {
             "iteration": 1004,
             "learn": [
              0.1097243548
             ],
             "passed_time": 60.18145765,
             "remaining_time": 59.58263718,
             "test": [
              0.6669170499,
              0.1515057389
             ]
            },
            {
             "iteration": 1005,
             "learn": [
              0.109702086
             ],
             "passed_time": 60.23771074,
             "remaining_time": 59.51916945,
             "test": [
              0.6669170499,
              0.1515060775
             ]
            },
            {
             "iteration": 1006,
             "learn": [
              0.1096796891
             ],
             "passed_time": 60.2943114,
             "remaining_time": 59.45605881,
             "test": [
              0.6669156904,
              0.1515067038
             ]
            },
            {
             "iteration": 1007,
             "learn": [
              0.1096568614
             ],
             "passed_time": 60.34982824,
             "remaining_time": 59.39189446,
             "test": [
              0.6669156904,
              0.1515070551
             ]
            },
            {
             "iteration": 1008,
             "learn": [
              0.1096340058
             ],
             "passed_time": 60.40597291,
             "remaining_time": 59.32836388,
             "test": [
              0.6669156904,
              0.1515074079
             ]
            },
            {
             "iteration": 1009,
             "learn": [
              0.1096111521
             ],
             "passed_time": 60.4624987,
             "remaining_time": 59.2652215,
             "test": [
              0.6669156904,
              0.1515077619
             ]
            },
            {
             "iteration": 1010,
             "learn": [
              0.1095883294
             ],
             "passed_time": 60.51902541,
             "remaining_time": 59.2020931,
             "test": [
              0.6669156904,
              0.1515081171
             ]
            },
            {
             "iteration": 1011,
             "learn": [
              0.1095262917
             ],
             "passed_time": 60.5813127,
             "remaining_time": 59.14460173,
             "test": [
              0.6669381229,
              0.1515138115
             ]
            },
            {
             "iteration": 1012,
             "learn": [
              0.1095034781
             ],
             "passed_time": 60.63872152,
             "remaining_time": 59.08234762,
             "test": [
              0.6669374432,
              0.1515160513
             ]
            },
            {
             "iteration": 1013,
             "learn": [
              0.1094806888
             ],
             "passed_time": 60.69447286,
             "remaining_time": 59.01849136,
             "test": [
              0.6669374432,
              0.1515164038
             ]
            },
            {
             "iteration": 1014,
             "learn": [
              0.1094579087
             ],
             "passed_time": 60.75071078,
             "remaining_time": 58.95512327,
             "test": [
              0.6669374432,
              0.1515167577
             ]
            },
            {
             "iteration": 1015,
             "learn": [
              0.109400677
             ],
             "passed_time": 60.81554204,
             "remaining_time": 58.9000919,
             "test": [
              0.6679312722,
              0.1515073346
             ]
            },
            {
             "iteration": 1016,
             "learn": [
              0.1093779005
             ],
             "passed_time": 60.87140017,
             "remaining_time": 58.83636811,
             "test": [
              0.6679312722,
              0.1515076661
             ]
            },
            {
             "iteration": 1017,
             "learn": [
              0.1093551617
             ],
             "passed_time": 60.92846362,
             "remaining_time": 58.77382247,
             "test": [
              0.6679312722,
              0.1515080001
             ]
            },
            {
             "iteration": 1018,
             "learn": [
              0.109332389
             ],
             "passed_time": 60.98430284,
             "remaining_time": 58.71010901,
             "test": [
              0.6679312722,
              0.1515083365
             ]
            },
            {
             "iteration": 1019,
             "learn": [
              0.1093096527
             ],
             "passed_time": 61.04042634,
             "remaining_time": 58.64668413,
             "test": [
              0.6679299126,
              0.1515111447
             ]
            },
            {
             "iteration": 1020,
             "learn": [
              0.1092869346
             ],
             "passed_time": 61.09841994,
             "remaining_time": 58.58506672,
             "test": [
              0.6679285531,
              0.1515135998
             ]
            },
            {
             "iteration": 1021,
             "learn": [
              0.1092642159
             ],
             "passed_time": 61.15538827,
             "remaining_time": 58.52247527,
             "test": [
              0.6679285531,
              0.1515139426
             ]
            },
            {
             "iteration": 1022,
             "learn": [
              0.1092415115
             ],
             "passed_time": 61.21154556,
             "remaining_time": 58.45912025,
             "test": [
              0.6679265138,
              0.1515170635
             ]
            },
            {
             "iteration": 1023,
             "learn": [
              0.1092197451
             ],
             "passed_time": 61.2719783,
             "remaining_time": 58.39985432,
             "test": [
              0.6678925251,
              0.1515190815
             ]
            },
            {
             "iteration": 1024,
             "learn": [
              0.1091970587
             ],
             "passed_time": 61.32763189,
             "remaining_time": 58.33604009,
             "test": [
              0.6678925251,
              0.1515194314
             ]
            },
            {
             "iteration": 1025,
             "learn": [
              0.1091744018
             ],
             "passed_time": 61.38443697,
             "remaining_time": 58.2733349,
             "test": [
              0.6678925251,
              0.1515197829
             ]
            },
            {
             "iteration": 1026,
             "learn": [
              0.1091517431
             ],
             "passed_time": 61.44083555,
             "remaining_time": 58.21025608,
             "test": [
              0.6678925251,
              0.1515201362
             ]
            },
            {
             "iteration": 1027,
             "learn": [
              0.1091291137
             ],
             "passed_time": 61.50077875,
             "remaining_time": 58.15054178,
             "test": [
              0.6678925251,
              0.151520491
             ]
            },
            {
             "iteration": 1028,
             "learn": [
              0.1091064743
             ],
             "passed_time": 61.55689138,
             "remaining_time": 58.08721237,
             "test": [
              0.6678925251,
              0.1515208473
             ]
            },
            {
             "iteration": 1029,
             "learn": [
              0.1090838622
             ],
             "passed_time": 61.62422657,
             "remaining_time": 58.0344658,
             "test": [
              0.6678925251,
              0.1515212052
             ]
            },
            {
             "iteration": 1030,
             "learn": [
              0.109061277
             ],
             "passed_time": 61.68052103,
             "remaining_time": 57.97131414,
             "test": [
              0.6678925251,
              0.1515215644
             ]
            },
            {
             "iteration": 1031,
             "learn": [
              0.1090386803
             ],
             "passed_time": 61.73626312,
             "remaining_time": 57.90765765,
             "test": [
              0.667889806,
              0.1515230636
             ]
            },
            {
             "iteration": 1032,
             "learn": [
              0.1090161125
             ],
             "passed_time": 61.79174554,
             "remaining_time": 57.84377342,
             "test": [
              0.667889806,
              0.1515234257
             ]
            },
            {
             "iteration": 1033,
             "learn": [
              0.1089935675
             ],
             "passed_time": 61.84708039,
             "remaining_time": 57.77976756,
             "test": [
              0.667889806,
              0.1515237891
             ]
            },
            {
             "iteration": 1034,
             "learn": [
              0.1089710046
             ],
             "passed_time": 61.90348847,
             "remaining_time": 57.71677911,
             "test": [
              0.667889806,
              0.151524154
             ]
            },
            {
             "iteration": 1035,
             "learn": [
              0.1089495491
             ],
             "passed_time": 61.96282206,
             "remaining_time": 57.65652554,
             "test": [
              0.6678857273,
              0.1515258097
             ]
            },
            {
             "iteration": 1036,
             "learn": [
              0.1089270316
             ],
             "passed_time": 62.02110903,
             "remaining_time": 57.59530183,
             "test": [
              0.6678857273,
              0.1515261788
             ]
            },
            {
             "iteration": 1037,
             "learn": [
              0.1089045053
             ],
             "passed_time": 62.08438261,
             "remaining_time": 57.53870527,
             "test": [
              0.6678775701,
              0.1515303526
             ]
            },
            {
             "iteration": 1038,
             "learn": [
              0.1088820133
             ],
             "passed_time": 62.14752131,
             "remaining_time": 57.4819711,
             "test": [
              0.667874851,
              0.1515357826
             ]
            },
            {
             "iteration": 1039,
             "learn": [
              0.1088595164
             ],
             "passed_time": 62.20523712,
             "remaining_time": 57.42021888,
             "test": [
              0.6678816487,
              0.1515213715
             ]
            },
            {
             "iteration": 1040,
             "learn": [
              0.108837656
             ],
             "passed_time": 62.261381,
             "remaining_time": 57.3570263,
             "test": [
              0.6678816487,
              0.1515217348
             ]
            },
            {
             "iteration": 1041,
             "learn": [
              0.1087222204
             ],
             "passed_time": 62.32543219,
             "remaining_time": 57.30111712,
             "test": [
              0.6680543112,
              0.1515506911
             ]
            },
            {
             "iteration": 1042,
             "learn": [
              0.1086997121
             ],
             "passed_time": 62.38062262,
             "remaining_time": 57.23706217,
             "test": [
              0.6680543112,
              0.1515509845
             ]
            },
            {
             "iteration": 1043,
             "learn": [
              0.1086772237
             ],
             "passed_time": 62.43617767,
             "remaining_time": 57.1733581,
             "test": [
              0.6680543112,
              0.1515512828
             ]
            },
            {
             "iteration": 1044,
             "learn": [
              0.1086547899
             ],
             "passed_time": 62.49289892,
             "remaining_time": 57.11073537,
             "test": [
              0.6680543112,
              0.1515515857
             ]
            },
            {
             "iteration": 1045,
             "learn": [
              0.108632387
             ],
             "passed_time": 62.54836335,
             "remaining_time": 57.04697766,
             "test": [
              0.6680543112,
              0.1515518931
             ]
            },
            {
             "iteration": 1046,
             "learn": [
              0.1086099672
             ],
             "passed_time": 62.60540642,
             "remaining_time": 56.9846727,
             "test": [
              0.6680543112,
              0.1515522048
             ]
            },
            {
             "iteration": 1047,
             "learn": [
              0.1085875496
             ],
             "passed_time": 62.66119768,
             "remaining_time": 56.92124064,
             "test": [
              0.6680543112,
              0.1515525207
             ]
            },
            {
             "iteration": 1048,
             "learn": [
              0.1085652001
             ],
             "passed_time": 62.71685039,
             "remaining_time": 56.85769755,
             "test": [
              0.6680543112,
              0.1515528406
             ]
            },
            {
             "iteration": 1049,
             "learn": [
              0.1085428738
             ],
             "passed_time": 62.77304531,
             "remaining_time": 56.79466005,
             "test": [
              0.6680543112,
              0.1515531641
             ]
            },
            {
             "iteration": 1050,
             "learn": [
              0.1085205147
             ],
             "passed_time": 62.82895403,
             "remaining_time": 56.73137714,
             "test": [
              0.6680543112,
              0.1515534916
             ]
            },
            {
             "iteration": 1051,
             "learn": [
              0.1084982117
             ],
             "passed_time": 62.88465966,
             "remaining_time": 56.66792525,
             "test": [
              0.6680543112,
              0.1515538228
             ]
            },
            {
             "iteration": 1052,
             "learn": [
              0.1084758829
             ],
             "passed_time": 62.93936427,
             "remaining_time": 56.60358781,
             "test": [
              0.6680475135,
              0.1515575274
             ]
            },
            {
             "iteration": 1053,
             "learn": [
              0.1084535864
             ],
             "passed_time": 62.99518681,
             "remaining_time": 56.54027204,
             "test": [
              0.6680475135,
              0.1515578652
             ]
            },
            {
             "iteration": 1054,
             "learn": [
              0.1084312801
             ],
             "passed_time": 63.05164077,
             "remaining_time": 56.47753605,
             "test": [
              0.6680475135,
              0.1515582063
             ]
            },
            {
             "iteration": 1055,
             "learn": [
              0.1084089991
             ],
             "passed_time": 63.10743815,
             "remaining_time": 56.41422502,
             "test": [
              0.6680475135,
              0.1515585503
             ]
            },
            {
             "iteration": 1056,
             "learn": [
              0.1083867415
             ],
             "passed_time": 63.16315379,
             "remaining_time": 56.35085527,
             "test": [
              0.6680475135,
              0.1515588973
             ]
            },
            {
             "iteration": 1057,
             "learn": [
              0.1083644728
             ],
             "passed_time": 63.2183398,
             "remaining_time": 56.28702844,
             "test": [
              0.6680475135,
              0.1515592471
             ]
            },
            {
             "iteration": 1058,
             "learn": [
              0.1083422076
             ],
             "passed_time": 63.27419472,
             "remaining_time": 56.22381231,
             "test": [
              0.6680475135,
              0.1515595998
             ]
            },
            {
             "iteration": 1059,
             "learn": [
              0.108319982
             ],
             "passed_time": 63.32979548,
             "remaining_time": 56.16038467,
             "test": [
              0.6680475135,
              0.151559955
             ]
            },
            {
             "iteration": 1060,
             "learn": [
              0.1082977323
             ],
             "passed_time": 63.38513796,
             "remaining_time": 56.0967432,
             "test": [
              0.6680475135,
              0.1515603126
             ]
            },
            {
             "iteration": 1061,
             "learn": [
              0.1082755138
             ],
             "passed_time": 63.44062697,
             "remaining_time": 56.03324679,
             "test": [
              0.6680475135,
              0.1515606726
             ]
            },
            {
             "iteration": 1062,
             "learn": [
              0.1082533008
             ],
             "passed_time": 63.4959681,
             "remaining_time": 55.9696351,
             "test": [
              0.668042755,
              0.151564948
             ]
            },
            {
             "iteration": 1063,
             "learn": [
              0.1082311009
             ],
             "passed_time": 63.55134528,
             "remaining_time": 55.90607066,
             "test": [
              0.668042755,
              0.1515653121
             ]
            },
            {
             "iteration": 1064,
             "learn": [
              0.1082098952
             ],
             "passed_time": 63.60622814,
             "remaining_time": 55.84208761,
             "test": [
              0.6680203225,
              0.1515718151
             ]
            },
            {
             "iteration": 1065,
             "learn": [
              0.1081877526
             ],
             "passed_time": 63.66172294,
             "remaining_time": 55.77865781,
             "test": [
              0.6680203225,
              0.1515721841
             ]
            },
            {
             "iteration": 1066,
             "learn": [
              0.1081665151
             ],
             "passed_time": 63.72035053,
             "remaining_time": 55.71798224,
             "test": [
              0.6680203225,
              0.1515725402
             ]
            },
            {
             "iteration": 1067,
             "learn": [
              0.1081443545
             ],
             "passed_time": 63.77613417,
             "remaining_time": 55.65482869,
             "test": [
              0.6680203225,
              0.1515729143
             ]
            },
            {
             "iteration": 1068,
             "learn": [
              0.1081222208
             ],
             "passed_time": 63.83351982,
             "remaining_time": 55.59308415,
             "test": [
              0.6680203225,
              0.1515732902
             ]
            },
            {
             "iteration": 1069,
             "learn": [
              0.1081001153
             ],
             "passed_time": 63.90454116,
             "remaining_time": 55.54319933,
             "test": [
              0.6680196427,
              0.1515827075
             ]
            },
            {
             "iteration": 1070,
             "learn": [
              0.1080784476
             ],
             "passed_time": 63.96266956,
             "remaining_time": 55.48209152,
             "test": [
              0.6680196427,
              0.1515830801
             ]
            },
            {
             "iteration": 1071,
             "learn": [
              0.1080563713
             ],
             "passed_time": 64.02285151,
             "remaining_time": 55.42276698,
             "test": [
              0.6680196427,
              0.1515834608
             ]
            },
            {
             "iteration": 1072,
             "learn": [
              0.1080352842
             ],
             "passed_time": 64.08050278,
             "remaining_time": 55.3612545,
             "test": [
              0.6680176034,
              0.1515858736
             ]
            },
            {
             "iteration": 1073,
             "learn": [
              0.1080131866
             ],
             "passed_time": 64.13586254,
             "remaining_time": 55.29777348,
             "test": [
              0.6680176034,
              0.151586258
             ]
            },
            {
             "iteration": 1074,
             "learn": [
              0.1079911073
             ],
             "passed_time": 64.192441,
             "remaining_time": 55.23535621,
             "test": [
              0.6680176034,
              0.1515866437
             ]
            },
            {
             "iteration": 1075,
             "learn": [
              0.1079695273
             ],
             "passed_time": 64.24805234,
             "remaining_time": 55.1721193,
             "test": [
              0.6680135248,
              0.1515877522
             ]
            },
            {
             "iteration": 1076,
             "learn": [
              0.1079474727
             ],
             "passed_time": 64.30433422,
             "remaining_time": 55.1094712,
             "test": [
              0.6680135248,
              0.1515881411
             ]
            },
            {
             "iteration": 1077,
             "learn": [
              0.1079258126
             ],
             "passed_time": 64.36010139,
             "remaining_time": 55.0463947,
             "test": [
              0.6684689731,
              0.1515737103
             ]
            },
            {
             "iteration": 1078,
             "learn": [
              0.1078339571
             ],
             "passed_time": 64.42294872,
             "remaining_time": 54.98937514,
             "test": [
              0.6689441348,
              0.151573538
             ]
            },
            {
             "iteration": 1079,
             "learn": [
              0.1078118912
             ],
             "passed_time": 64.48046741,
             "remaining_time": 54.92780557,
             "test": [
              0.6689441348,
              0.1515738857
             ]
            },
            {
             "iteration": 1080,
             "learn": [
              0.1077904119
             ],
             "passed_time": 64.5359738,
             "remaining_time": 54.86453277,
             "test": [
              0.6689441348,
              0.1515742283
             ]
            },
            {
             "iteration": 1081,
             "learn": [
              0.1077683911
             ],
             "passed_time": 64.59209918,
             "remaining_time": 54.80179949,
             "test": [
              0.6689441348,
              0.1515745832
             ]
            },
            {
             "iteration": 1082,
             "learn": [
              0.1077463582
             ],
             "passed_time": 64.64795823,
             "remaining_time": 54.7388529,
             "test": [
              0.6689441348,
              0.1515749411
             ]
            },
            {
             "iteration": 1083,
             "learn": [
              0.1077243518
             ],
             "passed_time": 64.70319391,
             "remaining_time": 54.67539264,
             "test": [
              0.6689441348,
              0.1515753018
             ]
            },
            {
             "iteration": 1084,
             "learn": [
              0.1077023368
             ],
             "passed_time": 64.76229208,
             "remaining_time": 54.61520484,
             "test": [
              0.6689427753,
              0.15157769
             ]
            },
            {
             "iteration": 1085,
             "learn": [
              0.1076803378
             ],
             "passed_time": 64.8279082,
             "remaining_time": 54.56050469,
             "test": [
              0.6689427753,
              0.151578056
             ]
            },
            {
             "iteration": 1086,
             "learn": [
              0.1076583822
             ],
             "passed_time": 64.88663859,
             "remaining_time": 54.50000095,
             "test": [
              0.6689427753,
              0.1515784246
             ]
            },
            {
             "iteration": 1087,
             "learn": [
              0.1075721833
             ],
             "passed_time": 64.94611213,
             "remaining_time": 54.4401234,
             "test": [
              0.6688136183,
              0.1515672584
             ]
            },
            {
             "iteration": 1088,
             "learn": [
              0.107550119
             ],
             "passed_time": 65.00208168,
             "remaining_time": 54.37731534,
             "test": [
              0.6688136183,
              0.1515675578
             ]
            },
            {
             "iteration": 1089,
             "learn": [
              0.1075285644
             ],
             "passed_time": 65.05834359,
             "remaining_time": 54.31476392,
             "test": [
              0.6687735117,
              0.1515689799
             ]
            },
            {
             "iteration": 1090,
             "learn": [
              0.1075066231
             ],
             "passed_time": 65.11629703,
             "remaining_time": 54.25363337,
             "test": [
              0.6687735117,
              0.1515692847
             ]
            },
            {
             "iteration": 1091,
             "learn": [
              0.1074846775
             ],
             "passed_time": 65.17256474,
             "remaining_time": 54.19110695,
             "test": [
              0.6687735117,
              0.1515695954
             ]
            },
            {
             "iteration": 1092,
             "learn": [
              0.107462761
             ],
             "passed_time": 65.22822758,
             "remaining_time": 54.12809004,
             "test": [
              0.6687735117,
              0.1515699117
             ]
            },
            {
             "iteration": 1093,
             "learn": [
              0.1074408301
             ],
             "passed_time": 65.28458546,
             "remaining_time": 54.06566218,
             "test": [
              0.6687735117,
              0.1515702333
             ]
            },
            {
             "iteration": 1094,
             "learn": [
              0.1073622789
             ],
             "passed_time": 65.34871106,
             "remaining_time": 54.00966531,
             "test": [
              0.6689366573,
              0.1515403222
             ]
            },
            {
             "iteration": 1095,
             "learn": [
              0.107340834
             ],
             "passed_time": 65.40384487,
             "remaining_time": 53.94623701,
             "test": [
              0.6689366573,
              0.1515406144
             ]
            },
            {
             "iteration": 1096,
             "learn": [
              0.1073189134
             ],
             "passed_time": 65.45994187,
             "remaining_time": 53.88361669,
             "test": [
              0.6689366573,
              0.1515409147
             ]
            },
            {
             "iteration": 1097,
             "learn": [
              0.1072970253
             ],
             "passed_time": 65.51596617,
             "remaining_time": 53.82094853,
             "test": [
              0.6689366573,
              0.1515412211
             ]
            },
            {
             "iteration": 1098,
             "learn": [
              0.1072751193
             ],
             "passed_time": 65.57091119,
             "remaining_time": 53.75740762,
             "test": [
              0.6689366573,
              0.1515415336
             ]
            },
            {
             "iteration": 1099,
             "learn": [
              0.1072532433
             ],
             "passed_time": 65.62625045,
             "remaining_time": 53.69420491,
             "test": [
              0.6689366573,
              0.1515448489
             ]
            },
            {
             "iteration": 1100,
             "learn": [
              0.1072313835
             ],
             "passed_time": 65.68284515,
             "remaining_time": 53.63204159,
             "test": [
              0.6689359776,
              0.1515474155
             ]
            },
            {
             "iteration": 1101,
             "learn": [
              0.1072095506
             ],
             "passed_time": 65.73921361,
             "remaining_time": 53.56970401,
             "test": [
              0.6689359776,
              0.1515477434
             ]
            },
            {
             "iteration": 1102,
             "learn": [
              0.1071877027
             ],
             "passed_time": 65.79668243,
             "remaining_time": 53.50827211,
             "test": [
              0.6689359776,
              0.1515480761
             ]
            },
            {
             "iteration": 1103,
             "learn": [
              0.1071659115
             ],
             "passed_time": 65.85361401,
             "remaining_time": 53.44641137,
             "test": [
              0.6689359776,
              0.1515484132
             ]
            },
            {
             "iteration": 1104,
             "learn": [
              0.1071441403
             ],
             "passed_time": 65.91119457,
             "remaining_time": 53.3850852,
             "test": [
              0.6689359776,
              0.1515487547
             ]
            },
            {
             "iteration": 1105,
             "learn": [
              0.1071223512
             ],
             "passed_time": 65.9689428,
             "remaining_time": 53.32390133,
             "test": [
              0.6689359776,
              0.1515491003
             ]
            },
            {
             "iteration": 1106,
             "learn": [
              0.1071005752
             ],
             "passed_time": 66.02655404,
             "remaining_time": 53.26261315,
             "test": [
              0.6689359776,
              0.1515494501
             ]
            },
            {
             "iteration": 1107,
             "learn": [
              0.1070788528
             ],
             "passed_time": 66.08348995,
             "remaining_time": 53.20078793,
             "test": [
              0.6689359776,
              0.1515498037
             ]
            },
            {
             "iteration": 1108,
             "learn": [
              0.1070571107
             ],
             "passed_time": 66.13856009,
             "remaining_time": 53.13747253,
             "test": [
              0.6689339382,
              0.1515543757
             ]
            },
            {
             "iteration": 1109,
             "learn": [
              0.107035421
             ],
             "passed_time": 66.19418743,
             "remaining_time": 53.07461875,
             "test": [
              0.6689339382,
              0.1515547364
             ]
            },
            {
             "iteration": 1110,
             "learn": [
              0.1070137147
             ],
             "passed_time": 66.24926778,
             "remaining_time": 53.01134028,
             "test": [
              0.6689339382,
              0.1515551005
             ]
            },
            {
             "iteration": 1111,
             "learn": [
              0.1069919844
             ],
             "passed_time": 66.30456692,
             "remaining_time": 52.94825128,
             "test": [
              0.6689285001,
              0.1515568676
             ]
            },
            {
             "iteration": 1112,
             "learn": [
              0.1069703285
             ],
             "passed_time": 66.35988481,
             "remaining_time": 52.88519122,
             "test": [
              0.6689285001,
              0.1515572381
             ]
            },
            {
             "iteration": 1113,
             "learn": [
              0.1069486507
             ],
             "passed_time": 66.41611231,
             "remaining_time": 52.8228685,
             "test": [
              0.668925781,
              0.1515601811
             ]
            },
            {
             "iteration": 1114,
             "learn": [
              0.1069269781
             ],
             "passed_time": 66.47560931,
             "remaining_time": 52.76315178,
             "test": [
              0.6689176237,
              0.1515517302
             ]
            },
            {
             "iteration": 1115,
             "learn": [
              0.1069053478
             ],
             "passed_time": 66.53098553,
             "remaining_time": 52.70017133,
             "test": [
              0.6689176237,
              0.1515521085
             ]
            },
            {
             "iteration": 1116,
             "learn": [
              0.1068837059
             ],
             "passed_time": 66.58618688,
             "remaining_time": 52.63706626,
             "test": [
              0.6689176237,
              0.1515524892
             ]
            },
            {
             "iteration": 1117,
             "learn": [
              0.106862639
             ],
             "passed_time": 66.64249059,
             "remaining_time": 52.57484499,
             "test": [
              0.6689176237,
              0.1515528644
             ]
            },
            {
             "iteration": 1118,
             "learn": [
              0.1068410571
             ],
             "passed_time": 66.69737502,
             "remaining_time": 52.51151689,
             "test": [
              0.6689176237,
              0.1515532509
             ]
            },
            {
             "iteration": 1119,
             "learn": [
              0.1068194548
             ],
             "passed_time": 66.75273066,
             "remaining_time": 52.44857409,
             "test": [
              0.6689176237,
              0.1515536398
             ]
            },
            {
             "iteration": 1120,
             "learn": [
              0.1067978784
             ],
             "passed_time": 66.80817076,
             "remaining_time": 52.38571106,
             "test": [
              0.6689176237,
              0.1515540307
             ]
            },
            {
             "iteration": 1121,
             "learn": [
              0.1067763335
             ],
             "passed_time": 66.86300357,
             "remaining_time": 52.32238604,
             "test": [
              0.6689176237,
              0.1515544238
             ]
            },
            {
             "iteration": 1122,
             "learn": [
              0.1067565584
             ],
             "passed_time": 66.91912732,
             "remaining_time": 52.26008429,
             "test": [
              0.6689176237,
              0.1515547818
             ]
            },
            {
             "iteration": 1123,
             "learn": [
              0.1067350318
             ],
             "passed_time": 66.97600252,
             "remaining_time": 52.19837919,
             "test": [
              0.6689176237,
              0.1515551819
             ]
            },
            {
             "iteration": 1124,
             "learn": [
              0.1067135453
             ],
             "passed_time": 67.03066267,
             "remaining_time": 52.13495985,
             "test": [
              0.6689176237,
              0.1515555836
             ]
            },
            {
             "iteration": 1125,
             "learn": [
              0.1066920393
             ],
             "passed_time": 67.0877337,
             "remaining_time": 52.0734274,
             "test": [
              0.6689176237,
              0.1515559869
             ]
            },
            {
             "iteration": 1126,
             "learn": [
              0.1066705496
             ],
             "passed_time": 67.14289247,
             "remaining_time": 52.01042158,
             "test": [
              0.6689176237,
              0.1515563918
             ]
            },
            {
             "iteration": 1127,
             "learn": [
              0.1066500823
             ],
             "passed_time": 67.19789782,
             "remaining_time": 51.94731108,
             "test": [
              0.6689115057,
              0.151558681
             ]
            },
            {
             "iteration": 1128,
             "learn": [
              0.1066286324
             ],
             "passed_time": 67.25437898,
             "remaining_time": 51.88535349,
             "test": [
              0.6689115057,
              0.1515590906
             ]
            },
            {
             "iteration": 1129,
             "learn": [
              0.1066071849
             ],
             "passed_time": 67.31005336,
             "remaining_time": 51.82278445,
             "test": [
              0.6689074271,
              0.1515630889
             ]
            },
            {
             "iteration": 1130,
             "learn": [
              0.1065857305
             ],
             "passed_time": 67.36600466,
             "remaining_time": 51.76044036,
             "test": [
              0.6689074271,
              0.1515635012
             ]
            },
            {
             "iteration": 1131,
             "learn": [
              0.106564334
             ],
             "passed_time": 67.42196483,
             "remaining_time": 51.69811438,
             "test": [
              0.6689074271,
              0.1515639149
             ]
            },
            {
             "iteration": 1132,
             "learn": [
              0.1065433723
             ],
             "passed_time": 67.47786038,
             "remaining_time": 51.63575018,
             "test": [
              0.6689067473,
              0.1515646179
             ]
            },
            {
             "iteration": 1133,
             "learn": [
              0.1065219605
             ],
             "passed_time": 67.53613402,
             "remaining_time": 51.57521346,
             "test": [
              0.6689067473,
              0.1515650351
             ]
            },
            {
             "iteration": 1134,
             "learn": [
              0.1065005692
             ],
             "passed_time": 67.59361946,
             "remaining_time": 51.51408003,
             "test": [
              0.6689067473,
              0.1515654533
             ]
            },
            {
             "iteration": 1135,
             "learn": [
              0.106479184
             ],
             "passed_time": 67.64904381,
             "remaining_time": 51.45138543,
             "test": [
              0.6689067473,
              0.1515658727
             ]
            },
            {
             "iteration": 1136,
             "learn": [
              0.106457792
             ],
             "passed_time": 67.70426641,
             "remaining_time": 51.38855049,
             "test": [
              0.6689067473,
              0.1515662933
             ]
            },
            {
             "iteration": 1137,
             "learn": [
              0.1064364447
             ],
             "passed_time": 67.76109928,
             "remaining_time": 51.32694866,
             "test": [
              0.6689067473,
              0.151566715
             ]
            },
            {
             "iteration": 1138,
             "learn": [
              0.1064151075
             ],
             "passed_time": 67.81796173,
             "remaining_time": 51.26537757,
             "test": [
              0.6689006293,
              0.1515759856
             ]
            },
            {
             "iteration": 1139,
             "learn": [
              0.1063937509
             ],
             "passed_time": 67.87255829,
             "remaining_time": 51.20210538,
             "test": [
              0.6689006293,
              0.1515764085
             ]
            },
            {
             "iteration": 1140,
             "learn": [
              0.1063724411
             ],
             "passed_time": 67.92828443,
             "remaining_time": 51.13969879,
             "test": [
              0.6689006293,
              0.1515768325
             ]
            },
            {
             "iteration": 1141,
             "learn": [
              0.1063151303
             ],
             "passed_time": 67.99311598,
             "remaining_time": 51.08414493,
             "test": [
              0.6684737315,
              0.1515930066
             ]
            },
            {
             "iteration": 1142,
             "learn": [
              0.1062643075
             ],
             "passed_time": 68.05242969,
             "remaining_time": 51.02443766,
             "test": [
              0.6683418554,
              0.1515994653
             ]
            },
            {
             "iteration": 1143,
             "learn": [
              0.1062429928
             ],
             "passed_time": 68.10890165,
             "remaining_time": 50.96260473,
             "test": [
              0.6683418554,
              0.1515998671
             ]
            },
            {
             "iteration": 1144,
             "learn": [
              0.1062216904
             ],
             "passed_time": 68.16517523,
             "remaining_time": 50.90063303,
             "test": [
              0.6683418554,
              0.1516002707
             ]
            },
            {
             "iteration": 1145,
             "learn": [
              0.1062003909
             ],
             "passed_time": 68.2210044,
             "remaining_time": 50.8383401,
             "test": [
              0.6683418554,
              0.1516006764
             ]
            },
            {
             "iteration": 1146,
             "learn": [
              0.1061791003
             ],
             "passed_time": 68.27663737,
             "remaining_time": 50.77591253,
             "test": [
              0.6683418554,
              0.1516010843
             ]
            },
            {
             "iteration": 1147,
             "learn": [
              0.1061578408
             ],
             "passed_time": 68.33164297,
             "remaining_time": 50.71303119,
             "test": [
              0.6683418554,
              0.1516014943
             ]
            },
            {
             "iteration": 1148,
             "learn": [
              0.1061365769
             ],
             "passed_time": 68.3867484,
             "remaining_time": 50.6502375,
             "test": [
              0.6683418554,
              0.1516019059
             ]
            },
            {
             "iteration": 1149,
             "learn": [
              0.1061153316
             ],
             "passed_time": 68.44230225,
             "remaining_time": 50.58778862,
             "test": [
              0.6683418554,
              0.1516023196
             ]
            },
            {
             "iteration": 1150,
             "learn": [
              0.1060940718
             ],
             "passed_time": 68.49810384,
             "remaining_time": 50.52553446,
             "test": [
              0.6683418554,
              0.1516119738
             ]
            },
            {
             "iteration": 1151,
             "learn": [
              0.1060728634
             ],
             "passed_time": 68.55380868,
             "remaining_time": 50.46322028,
             "test": [
              0.6683418554,
              0.1516123908
             ]
            },
            {
             "iteration": 1152,
             "learn": [
              0.1060516256
             ],
             "passed_time": 68.60932569,
             "remaining_time": 50.40077958,
             "test": [
              0.6683350577,
              0.1516137054
             ]
            },
            {
             "iteration": 1153,
             "learn": [
              0.1060304275
             ],
             "passed_time": 68.66432033,
             "remaining_time": 50.33796794,
             "test": [
              0.6683343779,
              0.1516160031
             ]
            },
            {
             "iteration": 1154,
             "learn": [
              0.1060092042
             ],
             "passed_time": 68.71995426,
             "remaining_time": 50.27563753,
             "test": [
              0.6683343779,
              0.1516164246
             ]
            },
            {
             "iteration": 1155,
             "learn": [
              0.105988023
             ],
             "passed_time": 68.77515952,
             "remaining_time": 50.21300574,
             "test": [
              0.6683343779,
              0.1516168476
             ]
            },
            {
             "iteration": 1156,
             "learn": [
              0.1059668527
             ],
             "passed_time": 68.83038387,
             "remaining_time": 50.1504007,
             "test": [
              0.6683343779,
              0.1516172719
             ]
            },
            {
             "iteration": 1157,
             "learn": [
              0.1059456833
             ],
             "passed_time": 68.88662221,
             "remaining_time": 50.08854568,
             "test": [
              0.6683343779,
              0.1516176977
             ]
            },
            {
             "iteration": 1158,
             "learn": [
              0.1059250257
             ],
             "passed_time": 68.94304258,
             "remaining_time": 50.02683245,
             "test": [
              0.6683309791,
              0.1516188847
             ]
            },
            {
             "iteration": 1159,
             "learn": [
              0.1059038707
             ],
             "passed_time": 69.00037144,
             "remaining_time": 49.96578622,
             "test": [
              0.6683309791,
              0.151619314
             ]
            },
            {
             "iteration": 1160,
             "learn": [
              0.1058827135
             ],
             "passed_time": 69.05586866,
             "remaining_time": 49.90342275,
             "test": [
              0.6683309791,
              0.1516197446
             ]
            },
            {
             "iteration": 1161,
             "learn": [
              0.1058616085
             ],
             "passed_time": 69.11260907,
             "remaining_time": 49.84196765,
             "test": [
              0.6683309791,
              0.1516223266
             ]
            },
            {
             "iteration": 1162,
             "learn": [
              0.1058404723
             ],
             "passed_time": 69.16800092,
             "remaining_time": 49.7795501,
             "test": [
              0.6683309791,
              0.1516227594
             ]
            },
            {
             "iteration": 1163,
             "learn": [
              0.1058152438
             ],
             "passed_time": 69.2245575,
             "remaining_time": 49.71798116,
             "test": [
              0.6682534849,
              0.1516256028
             ]
            },
            {
             "iteration": 1164,
             "learn": [
              0.1057941173
             ],
             "passed_time": 69.28099887,
             "remaining_time": 49.65633825,
             "test": [
              0.6682534849,
              0.1516260475
             ]
            },
            {
             "iteration": 1165,
             "learn": [
              0.1057730421
             ],
             "passed_time": 69.3377072,
             "remaining_time": 49.5948952,
             "test": [
              0.6682534849,
              0.151626493
             ]
            },
            {
             "iteration": 1166,
             "learn": [
              0.1057519393
             ],
             "passed_time": 69.39273634,
             "remaining_time": 49.53226167,
             "test": [
              0.6682534849,
              0.1516269392
             ]
            },
            {
             "iteration": 1167,
             "learn": [
              0.1057308413
             ],
             "passed_time": 69.45107665,
             "remaining_time": 49.47199981,
             "test": [
              0.6682534849,
              0.1516273857
             ]
            },
            {
             "iteration": 1168,
             "learn": [
              0.105709795
             ],
             "passed_time": 69.50826497,
             "remaining_time": 49.41092232,
             "test": [
              0.6682534849,
              0.1516278326
             ]
            },
            {
             "iteration": 1169,
             "learn": [
              0.1056887396
             ],
             "passed_time": 69.56572717,
             "remaining_time": 49.35004577,
             "test": [
              0.6682534849,
              0.1516282802
             ]
            },
            {
             "iteration": 1170,
             "learn": [
              0.1056676848
             ],
             "passed_time": 69.62139205,
             "remaining_time": 49.28790266,
             "test": [
              0.6682534849,
              0.1516287283
             ]
            },
            {
             "iteration": 1171,
             "learn": [
              0.1056470394
             ],
             "passed_time": 69.67691064,
             "remaining_time": 49.22566725,
             "test": [
              0.6682262939,
              0.1516335435
             ]
            },
            {
             "iteration": 1172,
             "learn": [
              0.1056259986
             ],
             "passed_time": 69.73203274,
             "remaining_time": 49.16316375,
             "test": [
              0.6682262939,
              0.1516339931
             ]
            },
            {
             "iteration": 1173,
             "learn": [
              0.1056050025
             ],
             "passed_time": 69.78702572,
             "remaining_time": 49.10058198,
             "test": [
              0.6682256141,
              0.1516368361
             ]
            },
            {
             "iteration": 1174,
             "learn": [
              0.1055839713
             ],
             "passed_time": 69.84291293,
             "remaining_time": 49.038641,
             "test": [
              0.6682256141,
              0.1516372866
             ]
            },
            {
             "iteration": 1175,
             "learn": [
              0.1055635515
             ],
             "passed_time": 69.8989006,
             "remaining_time": 48.9767807,
             "test": [
              0.6681773502,
              0.1516391668
             ]
            },
            {
             "iteration": 1176,
             "learn": [
              0.1055425436
             ],
             "passed_time": 69.95498119,
             "remaining_time": 48.91499534,
             "test": [
              0.6681773502,
              0.1516396182
             ]
            },
            {
             "iteration": 1177,
             "learn": [
              0.1055215909
             ],
             "passed_time": 70.01094711,
             "remaining_time": 48.85313967,
             "test": [
              0.6681773502,
              0.15164007
             ]
            },
            {
             "iteration": 1178,
             "learn": [
              0.1055011793
             ],
             "passed_time": 70.06751357,
             "remaining_time": 48.79171216,
             "test": [
              0.6681494795,
              0.1516409459
             ]
            },
            {
             "iteration": 1179,
             "learn": [
              0.1054802341
             ],
             "passed_time": 70.12406948,
             "remaining_time": 48.73028557,
             "test": [
              0.6681494795,
              0.1516413993
             ]
            },
            {
             "iteration": 1180,
             "learn": [
              0.1054229847
             ],
             "passed_time": 70.18763014,
             "remaining_time": 48.67372488,
             "test": [
              0.6693356844,
              0.1515970713
             ]
            },
            {
             "iteration": 1181,
             "learn": [
              0.1054026315
             ],
             "passed_time": 70.24273165,
             "remaining_time": 48.61129822,
             "test": [
              0.6693356844,
              0.1515974921
             ]
            },
            {
             "iteration": 1182,
             "learn": [
              0.105381721
             ],
             "passed_time": 70.29782629,
             "remaining_time": 48.54887919,
             "test": [
              0.6693356844,
              0.1515979249
             ]
            },
            {
             "iteration": 1183,
             "learn": [
              0.105360834
             ],
             "passed_time": 70.35315914,
             "remaining_time": 48.4866367,
             "test": [
              0.6693356844,
              0.1515983593
             ]
            },
            {
             "iteration": 1184,
             "learn": [
              0.1053399507
             ],
             "passed_time": 70.40881144,
             "remaining_time": 48.42462559,
             "test": [
              0.6693356844,
              0.1515987952
             ]
            },
            {
             "iteration": 1185,
             "learn": [
              0.1053190825
             ],
             "passed_time": 70.46368567,
             "remaining_time": 48.36209118,
             "test": [
              0.6693356844,
              0.1515992325
             ]
            },
            {
             "iteration": 1186,
             "learn": [
              0.1052982373
             ],
             "passed_time": 70.52085382,
             "remaining_time": 48.30114082,
             "test": [
              0.6693356844,
              0.1515996713
             ]
            },
            {
             "iteration": 1187,
             "learn": [
              0.1052779601
             ],
             "passed_time": 70.57649554,
             "remaining_time": 48.23915352,
             "test": [
              0.6693356844,
              0.1516001017
             ]
            },
            {
             "iteration": 1188,
             "learn": [
              0.1052571552
             ],
             "passed_time": 70.63209422,
             "remaining_time": 48.17714753,
             "test": [
              0.6693295665,
              0.1516050012
             ]
            },
            {
             "iteration": 1189,
             "learn": [
              0.1052363079
             ],
             "passed_time": 70.68763131,
             "remaining_time": 48.11511039,
             "test": [
              0.6693282069,
              0.1516069332
             ]
            },
            {
             "iteration": 1190,
             "learn": [
              0.1052155181
             ],
             "passed_time": 70.74302528,
             "remaining_time": 48.05298695,
             "test": [
              0.6693282069,
              0.1516073779
             ]
            },
            {
             "iteration": 1191,
             "learn": [
              0.1051947255
             ],
             "passed_time": 70.7981273,
             "remaining_time": 47.99067689,
             "test": [
              0.6693288867,
              0.1515941788
             ]
            },
            {
             "iteration": 1192,
             "learn": [
              0.1051739497
             ],
             "passed_time": 70.85294369,
             "remaining_time": 47.92818572,
             "test": [
              0.6693288867,
              0.1515973434
             ]
            },
            {
             "iteration": 1193,
             "learn": [
              0.1051536708
             ],
             "passed_time": 70.90877124,
             "remaining_time": 47.86638997,
             "test": [
              0.6693193699,
              0.1516038203
             ]
            },
            {
             "iteration": 1194,
             "learn": [
              0.1051329194
             ],
             "passed_time": 70.96463646,
             "remaining_time": 47.80462958,
             "test": [
              0.6693193699,
              0.1516042695
             ]
            },
            {
             "iteration": 1195,
             "learn": [
              0.1049350188
             ],
             "passed_time": 71.03434728,
             "remaining_time": 47.75218663,
             "test": [
              0.66838808,
              0.1516152115
             ]
            },
            {
             "iteration": 1196,
             "learn": [
              0.1049126619
             ],
             "passed_time": 71.09059028,
             "remaining_time": 47.69068003,
             "test": [
              0.6683649677,
              0.151616323
             ]
            },
            {
             "iteration": 1197,
             "learn": [
              0.1048917445
             ],
             "passed_time": 71.1459595,
             "remaining_time": 47.62859726,
             "test": [
              0.6683649677,
              0.151616421
             ]
            },
            {
             "iteration": 1198,
             "learn": [
              0.1048711295
             ],
             "passed_time": 71.20122172,
             "remaining_time": 47.56645421,
             "test": [
              0.6683452543,
              0.1516169744
             ]
            },
            {
             "iteration": 1199,
             "learn": [
              0.104850356
             ],
             "passed_time": 71.25725044,
             "remaining_time": 47.50483362,
             "test": [
              0.6683452543,
              0.1516171065
             ]
            },
            {
             "iteration": 1200,
             "learn": [
              0.1048295877
             ],
             "passed_time": 71.31279378,
             "remaining_time": 47.44289944,
             "test": [
              0.6683452543,
              0.1516172562
             ]
            },
            {
             "iteration": 1201,
             "learn": [
              0.1048088547
             ],
             "passed_time": 71.36801159,
             "remaining_time": 47.38075977,
             "test": [
              0.6683452543,
              0.1516174223
             ]
            },
            {
             "iteration": 1202,
             "learn": [
              0.1047881287
             ],
             "passed_time": 71.42379639,
             "remaining_time": 47.31900725,
             "test": [
              0.6683452543,
              0.1516176044
             ]
            },
            {
             "iteration": 1203,
             "learn": [
              0.1047674323
             ],
             "passed_time": 71.48190965,
             "remaining_time": 47.25880406,
             "test": [
              0.6683452543,
              0.1516178013
             ]
            },
            {
             "iteration": 1204,
             "learn": [
              0.1047467727
             ],
             "passed_time": 71.54052354,
             "remaining_time": 47.19893462,
             "test": [
              0.6683452543,
              0.1516180125
             ]
            },
            {
             "iteration": 1205,
             "learn": [
              0.1047261163
             ],
             "passed_time": 71.59754791,
             "remaining_time": 47.13802076,
             "test": [
              0.6683452543,
              0.1516182373
             ]
            },
            {
             "iteration": 1206,
             "learn": [
              0.1047054588
             ],
             "passed_time": 71.65387024,
             "remaining_time": 47.07665211,
             "test": [
              0.6683452543,
              0.1516184749
             ]
            },
            {
             "iteration": 1207,
             "learn": [
              0.1046848504
             ],
             "passed_time": 71.70950541,
             "remaining_time": 47.0148413,
             "test": [
              0.6683452543,
              0.1516187248
             ]
            },
            {
             "iteration": 1208,
             "learn": [
              0.1046642552
             ],
             "passed_time": 71.76533113,
             "remaining_time": 46.95316536,
             "test": [
              0.6683452543,
              0.1516189867
             ]
            },
            {
             "iteration": 1209,
             "learn": [
              0.10464476
             ],
             "passed_time": 71.82060189,
             "remaining_time": 46.89113677,
             "test": [
              0.6683241813,
              0.1516196401
             ]
            },
            {
             "iteration": 1210,
             "learn": [
              0.1046241749
             ],
             "passed_time": 71.87624044,
             "remaining_time": 46.82935897,
             "test": [
              0.6683241813,
              0.1516199257
             ]
            },
            {
             "iteration": 1211,
             "learn": [
              0.1046036121
             ],
             "passed_time": 71.93279823,
             "remaining_time": 46.76818895,
             "test": [
              0.6683241813,
              0.1516202215
             ]
            },
            {
             "iteration": 1212,
             "learn": [
              0.1045830644
             ],
             "passed_time": 71.9882257,
             "remaining_time": 46.70629318,
             "test": [
              0.6683241813,
              0.1516205266
             ]
            },
            {
             "iteration": 1213,
             "learn": [
              0.1045625326
             ],
             "passed_time": 72.04588552,
             "remaining_time": 46.64585339,
             "test": [
              0.6683241813,
              0.1516208408
             ]
            },
            {
             "iteration": 1214,
             "learn": [
              0.1045420059
             ],
             "passed_time": 72.1029038,
             "remaining_time": 46.58500369,
             "test": [
              0.668322142,
              0.1516299432
             ]
            },
            {
             "iteration": 1215,
             "learn": [
              0.1045214912
             ],
             "passed_time": 72.15799911,
             "remaining_time": 46.52292048,
             "test": [
              0.668322142,
              0.1516302739
             ]
            },
            {
             "iteration": 1216,
             "learn": [
              0.1045010257
             ],
             "passed_time": 72.21432053,
             "remaining_time": 46.46163761,
             "test": [
              0.668322142,
              0.1516306124
             ]
            },
            {
             "iteration": 1217,
             "learn": [
              0.1044805325
             ],
             "passed_time": 72.27073011,
             "remaining_time": 46.4004195,
             "test": [
              0.668322142,
              0.1516309582
             ]
            },
            {
             "iteration": 1218,
             "learn": [
              0.1044600573
             ],
             "passed_time": 72.32669178,
             "remaining_time": 46.3389223,
             "test": [
              0.668322142,
              0.1516313112
             ]
            },
            {
             "iteration": 1219,
             "learn": [
              0.1044396134
             ],
             "passed_time": 72.38257266,
             "remaining_time": 46.27738252,
             "test": [
              0.668322142,
              0.151631671
             ]
            },
            {
             "iteration": 1220,
             "learn": [
              0.104419166
             ],
             "passed_time": 72.43888883,
             "remaining_time": 46.21612973,
             "test": [
              0.668322142,
              0.1516320374
             ]
            },
            {
             "iteration": 1221,
             "learn": [
              0.1043987123
             ],
             "passed_time": 72.49456771,
             "remaining_time": 46.15447928,
             "test": [
              0.668322142,
              0.1516324101
             ]
            },
            {
             "iteration": 1222,
             "learn": [
              0.1043783128
             ],
             "passed_time": 72.55719209,
             "remaining_time": 46.09725123,
             "test": [
              0.668322142,
              0.1516327888
             ]
            },
            {
             "iteration": 1223,
             "learn": [
              0.1043578859
             ],
             "passed_time": 72.61767807,
             "remaining_time": 46.03865865,
             "test": [
              0.6683207824,
              0.1516376537
             ]
            },
            {
             "iteration": 1224,
             "learn": [
              0.1043382608
             ],
             "passed_time": 72.67346758,
             "remaining_time": 45.97709173,
             "test": [
              0.6683207824,
              0.15163803
             ]
            },
            {
             "iteration": 1225,
             "learn": [
              0.1042714786
             ],
             "passed_time": 72.73849488,
             "remaining_time": 45.92136626,
             "test": [
              0.6688843148,
              0.1516277791
             ]
            },
            {
             "iteration": 1226,
             "learn": [
              0.1042510378
             ],
             "passed_time": 72.79763889,
             "remaining_time": 45.8619192,
             "test": [
              0.6688843148,
              0.1516281076
             ]
            },
            {
             "iteration": 1227,
             "learn": [
              0.1042305921
             ],
             "passed_time": 72.85283644,
             "remaining_time": 45.79999164,
             "test": [
              0.6688802361,
              0.1516293984
             ]
            },
            {
             "iteration": 1228,
             "learn": [
              0.1042102047
             ],
             "passed_time": 72.90844954,
             "remaining_time": 45.73833571,
             "test": [
              0.6688802361,
              0.1516297427
             ]
            },
            {
             "iteration": 1229,
             "learn": [
              0.1041898149
             ],
             "passed_time": 72.96419404,
             "remaining_time": 45.67677188,
             "test": [
              0.6688802361,
              0.1516300946
             ]
            },
            {
             "iteration": 1230,
             "learn": [
              0.1041694008
             ],
             "passed_time": 73.01996001,
             "remaining_time": 45.61523091,
             "test": [
              0.6688802361,
              0.1516304538
             ]
            },
            {
             "iteration": 1231,
             "learn": [
              0.1041490423
             ],
             "passed_time": 73.07677059,
             "remaining_time": 45.5543505,
             "test": [
              0.6688802361,
              0.1516308198
             ]
            },
            {
             "iteration": 1232,
             "learn": [
              0.1041286567
             ],
             "passed_time": 73.13245197,
             "remaining_time": 45.49277426,
             "test": [
              0.6688802361,
              0.1516311921
             ]
            },
            {
             "iteration": 1233,
             "learn": [
              0.1041083337
             ],
             "passed_time": 73.1875639,
             "remaining_time": 45.43085409,
             "test": [
              0.6688795564,
              0.1516434081
             ]
            },
            {
             "iteration": 1234,
             "learn": [
              0.1040879917
             ],
             "passed_time": 73.24267304,
             "remaining_time": 45.36894322,
             "test": [
              0.6688795564,
              0.1516437918
             ]
            },
            {
             "iteration": 1235,
             "learn": [
              0.1040676766
             ],
             "passed_time": 73.29881184,
             "remaining_time": 45.30767981,
             "test": [
              0.6688795564,
              0.1516441811
             ]
            },
            {
             "iteration": 1236,
             "learn": [
              0.1040473504
             ],
             "passed_time": 73.35398748,
             "remaining_time": 45.24583059,
             "test": [
              0.6688795564,
              0.1516445758
             ]
            },
            {
             "iteration": 1237,
             "learn": [
              0.1039678831
             ],
             "passed_time": 73.41353814,
             "remaining_time": 45.18668503,
             "test": [
              0.6693112126,
              0.1515944716
             ]
            },
            {
             "iteration": 1238,
             "learn": [
              0.1039475027
             ],
             "passed_time": 73.46903653,
             "remaining_time": 45.12504988,
             "test": [
              0.6693112126,
              0.1515947918
             ]
            },
            {
             "iteration": 1239,
             "learn": [
              0.1039271692
             ],
             "passed_time": 73.52805241,
             "remaining_time": 45.06558051,
             "test": [
              0.6693112126,
              0.15159512
             ]
            },
            {
             "iteration": 1240,
             "learn": [
              0.1038798555
             ],
             "passed_time": 73.59033721,
             "remaining_time": 45.00811115,
             "test": [
              0.669381909,
              0.1515962625
             ]
            },
            {
             "iteration": 1241,
             "learn": [
              0.1038595405
             ],
             "passed_time": 73.64735145,
             "remaining_time": 44.94741739,
             "test": [
              0.669381909,
              0.1515965965
             ]
            },
            {
             "iteration": 1242,
             "learn": [
              0.1038392676
             ],
             "passed_time": 73.70456931,
             "remaining_time": 44.88685355,
             "test": [
              0.669381909,
              0.1515969389
             ]
            },
            {
             "iteration": 1243,
             "learn": [
              0.1038198439
             ],
             "passed_time": 73.75960591,
             "remaining_time": 44.82496951,
             "test": [
              0.6693615158,
              0.1515991013
             ]
            },
            {
             "iteration": 1244,
             "learn": [
              0.1037995772
             ],
             "passed_time": 73.81509492,
             "remaining_time": 44.76337082,
             "test": [
              0.6693615158,
              0.1515994606
             ]
            },
            {
             "iteration": 1245,
             "learn": [
              0.1037802284
             ],
             "passed_time": 73.87133138,
             "remaining_time": 44.70223424,
             "test": [
              0.6693615158,
              0.15159981
             ]
            },
            {
             "iteration": 1246,
             "learn": [
              0.103759968
             ],
             "passed_time": 73.92680231,
             "remaining_time": 44.64064326,
             "test": [
              0.6693615158,
              0.1516001849
             ]
            },
            {
             "iteration": 1247,
             "learn": [
              0.1037397515
             ],
             "passed_time": 73.98322468,
             "remaining_time": 44.57963539,
             "test": [
              0.6693615158,
              0.1516005662
             ]
            },
            {
             "iteration": 1248,
             "learn": [
              0.1037195286
             ],
             "passed_time": 74.0396006,
             "remaining_time": 44.51860693,
             "test": [
              0.6693615158,
              0.1516009538
             ]
            },
            {
             "iteration": 1249,
             "learn": [
              0.1036993137
             ],
             "passed_time": 74.09593997,
             "remaining_time": 44.45756398,
             "test": [
              0.6693615158,
              0.1516013473
             ]
            },
            {
             "iteration": 1250,
             "learn": [
              0.1036790907
             ],
             "passed_time": 74.15139807,
             "remaining_time": 44.39600092,
             "test": [
              0.6693608361,
              0.1516037526
             ]
            },
            {
             "iteration": 1251,
             "learn": [
              0.1036603791
             ],
             "passed_time": 74.20661929,
             "remaining_time": 44.3343061,
             "test": [
              0.6693601563,
              0.1516042994
             ]
            },
            {
             "iteration": 1252,
             "learn": [
              0.1036402267
             ],
             "passed_time": 74.26190018,
             "remaining_time": 44.27265717,
             "test": [
              0.6693601563,
              0.151604711
             ]
            },
            {
             "iteration": 1253,
             "learn": [
              0.1036200707
             ],
             "passed_time": 74.31720465,
             "remaining_time": 44.21103243,
             "test": [
              0.6693601563,
              0.1516051269
             ]
            },
            {
             "iteration": 1254,
             "learn": [
              0.1035998923
             ],
             "passed_time": 74.37268671,
             "remaining_time": 44.14952318,
             "test": [
              0.6693601563,
              0.1516055474
             ]
            },
            {
             "iteration": 1255,
             "learn": [
              0.1035797519
             ],
             "passed_time": 74.42993065,
             "remaining_time": 44.0890672,
             "test": [
              0.6693601563,
              0.1516059722
             ]
            },
            {
             "iteration": 1256,
             "learn": [
              0.1035596066
             ],
             "passed_time": 74.48607845,
             "remaining_time": 44.02796841,
             "test": [
              0.6693601563,
              0.1516064011
             ]
            },
            {
             "iteration": 1257,
             "learn": [
              0.1035391995
             ],
             "passed_time": 74.54375368,
             "remaining_time": 43.9677784,
             "test": [
              0.6693601563,
              0.1516068506
             ]
            },
            {
             "iteration": 1258,
             "learn": [
              0.1035190864
             ],
             "passed_time": 74.60022589,
             "remaining_time": 43.90688434,
             "test": [
              0.6693594765,
              0.1516106134
             ]
            },
            {
             "iteration": 1259,
             "learn": [
              0.1034989691
             ],
             "passed_time": 74.65528465,
             "remaining_time": 43.84516718,
             "test": [
              0.6693594765,
              0.1516110518
             ]
            },
            {
             "iteration": 1260,
             "learn": [
              0.1034479622
             ],
             "passed_time": 74.7150129,
             "remaining_time": 43.78619709,
             "test": [
              0.6695763243,
              0.1516089634
             ]
            },
            {
             "iteration": 1261,
             "learn": [
              0.1034278676
             ],
             "passed_time": 74.77164169,
             "remaining_time": 43.72541328,
             "test": [
              0.6695763243,
              0.1516093802
             ]
            },
            {
             "iteration": 1262,
             "learn": [
              0.1034077584
             ],
             "passed_time": 74.82696233,
             "remaining_time": 43.66387271,
             "test": [
              0.6695763243,
              0.1516098017
             ]
            },
            {
             "iteration": 1263,
             "learn": [
              0.1033881809
             ],
             "passed_time": 74.8823585,
             "remaining_time": 43.60238596,
             "test": [
              0.6695722457,
              0.1516110126
             ]
            },
            {
             "iteration": 1264,
             "learn": [
              0.1033681092
             ],
             "passed_time": 74.93714161,
             "remaining_time": 43.54055263,
             "test": [
              0.6695722457,
              0.1516114434
             ]
            },
            {
             "iteration": 1265,
             "learn": [
              0.1033480691
             ],
             "passed_time": 74.99375473,
             "remaining_time": 43.47979145,
             "test": [
              0.6695722457,
              0.1516118784
             ]
            },
            {
             "iteration": 1266,
             "learn": [
              0.1033280253
             ],
             "passed_time": 75.04901845,
             "remaining_time": 43.41825614,
             "test": [
              0.6695722457,
              0.1516123172
             ]
            },
            {
             "iteration": 1267,
             "learn": [
              0.1033080024
             ],
             "passed_time": 75.1039236,
             "remaining_time": 43.35652372,
             "test": [
              0.6695722457,
              0.1516127597
             ]
            },
            {
             "iteration": 1268,
             "learn": [
              0.1032879861
             ],
             "passed_time": 75.16002964,
             "remaining_time": 43.29549383,
             "test": [
              0.6695722457,
              0.1516132055
             ]
            },
            {
             "iteration": 1269,
             "learn": [
              0.1032679629
             ],
             "passed_time": 75.21481749,
             "remaining_time": 43.23371399,
             "test": [
              0.6695715659,
              0.1516165281
             ]
            },
            {
             "iteration": 1270,
             "learn": [
              0.1032479943
             ],
             "passed_time": 75.26982305,
             "remaining_time": 43.17207003,
             "test": [
              0.6695715659,
              0.1516169803
             ]
            },
            {
             "iteration": 1271,
             "learn": [
              0.1032280213
             ],
             "passed_time": 75.32449691,
             "remaining_time": 43.11024666,
             "test": [
              0.6695674872,
              0.1516188262
             ]
            },
            {
             "iteration": 1272,
             "learn": [
              0.1032080737
             ],
             "passed_time": 75.37964538,
             "remaining_time": 43.04870557,
             "test": [
              0.6695674872,
              0.151619284
             ]
            },
            {
             "iteration": 1273,
             "learn": [
              0.1031881147
             ],
             "passed_time": 75.43528039,
             "remaining_time": 42.98745178,
             "test": [
              0.6695668075,
              0.1516213258
             ]
            },
            {
             "iteration": 1274,
             "learn": [
              0.1031682099
             ],
             "passed_time": 75.49077015,
             "remaining_time": 42.92612421,
             "test": [
              0.6695668075,
              0.1516217889
             ]
            },
            {
             "iteration": 1275,
             "learn": [
              0.1031488121
             ],
             "passed_time": 75.54669074,
             "remaining_time": 42.86505023,
             "test": [
              0.6695668075,
              0.1516222452
             ]
            },
            {
             "iteration": 1276,
             "learn": [
              0.1031288989
             ],
             "passed_time": 75.60197609,
             "remaining_time": 42.80362468,
             "test": [
              0.6695661277,
              0.1516285796
             ]
            },
            {
             "iteration": 1277,
             "learn": [
              0.1031090068
             ],
             "passed_time": 75.65751298,
             "remaining_time": 42.74235084,
             "test": [
              0.6695661277,
              0.1516290508
             ]
            },
            {
             "iteration": 1278,
             "learn": [
              0.1030891009
             ],
             "passed_time": 75.71307094,
             "remaining_time": 42.68109785,
             "test": [
              0.6695661277,
              0.1516295244
             ]
            },
            {
             "iteration": 1279,
             "learn": [
              0.1030691957
             ],
             "passed_time": 75.76969573,
             "remaining_time": 42.62045385,
             "test": [
              0.6695430154,
              0.1516309342
             ]
            },
            {
             "iteration": 1280,
             "learn": [
              0.1030493274
             ],
             "passed_time": 75.82801029,
             "remaining_time": 42.56076456,
             "test": [
              0.6695430154,
              0.1516314108
             ]
            },
            {
             "iteration": 1281,
             "learn": [
              0.1030295141
             ],
             "passed_time": 75.88686546,
             "remaining_time": 42.50138019,
             "test": [
              0.6695430154,
              0.1516318897
             ]
            },
            {
             "iteration": 1282,
             "learn": [
              0.1030096928
             ],
             "passed_time": 75.94399145,
             "remaining_time": 42.4410303,
             "test": [
              0.6695430154,
              0.1516323703
             ]
            },
            {
             "iteration": 1283,
             "learn": [
              0.10298988
             ],
             "passed_time": 76.00294617,
             "remaining_time": 42.38170518,
             "test": [
              0.6695430154,
              0.1516328527
             ]
            },
            {
             "iteration": 1284,
             "learn": [
              0.1029700498
             ],
             "passed_time": 76.07103405,
             "remaining_time": 42.32746253,
             "test": [
              0.6695416558,
              0.1516394348
             ]
            },
            {
             "iteration": 1285,
             "learn": [
              0.1029502869
             ],
             "passed_time": 76.13417113,
             "remaining_time": 42.2704496,
             "test": [
              0.6695416558,
              0.1516399206
             ]
            },
            {
             "iteration": 1286,
             "learn": [
              0.1029305168
             ],
             "passed_time": 76.190805,
             "remaining_time": 42.20982437,
             "test": [
              0.6695443749,
              0.1516273972
             ]
            },
            {
             "iteration": 1287,
             "learn": [
              0.1029107481
             ],
             "passed_time": 76.25056341,
             "remaining_time": 42.15093257,
             "test": [
              0.6695443749,
              0.151627886
             ]
            },
            {
             "iteration": 1288,
             "learn": [
              0.1028910131
             ],
             "passed_time": 76.31163222,
             "remaining_time": 42.09276223,
             "test": [
              0.6695443749,
              0.1516283766
             ]
            },
            {
             "iteration": 1289,
             "learn": [
              0.1028712881
             ],
             "passed_time": 76.37342628,
             "remaining_time": 42.03498656,
             "test": [
              0.6695443749,
              0.151628869
             ]
            },
            {
             "iteration": 1290,
             "learn": [
              0.1028515497
             ],
             "passed_time": 76.43181842,
             "remaining_time": 41.97533637,
             "test": [
              0.6695423356,
              0.1516334065
             ]
            },
            {
             "iteration": 1291,
             "learn": [
              0.1028318408
             ],
             "passed_time": 76.49752412,
             "remaining_time": 41.91969588,
             "test": [
              0.6695423356,
              0.1516339017
             ]
            },
            {
             "iteration": 1292,
             "learn": [
              0.1027250357
             ],
             "passed_time": 76.56315025,
             "remaining_time": 41.86399631,
             "test": [
              0.6698482337,
              0.1516039694
             ]
            },
            {
             "iteration": 1293,
             "learn": [
              0.1027049689
             ],
             "passed_time": 76.62233617,
             "remaining_time": 41.80476765,
             "test": [
              0.6698482337,
              0.1516043822
             ]
            },
            {
             "iteration": 1294,
             "learn": [
              0.1026852733
             ],
             "passed_time": 76.68037877,
             "remaining_time": 41.74491663,
             "test": [
              0.6698482337,
              0.1516047843
             ]
            },
            {
             "iteration": 1295,
             "learn": [
              0.1026660859
             ],
             "passed_time": 76.73870846,
             "remaining_time": 41.68522435,
             "test": [
              0.6698482337,
              0.1516051831
             ]
            },
            {
             "iteration": 1296,
             "learn": [
              0.1026464175
             ],
             "passed_time": 76.79968452,
             "remaining_time": 41.62696856,
             "test": [
              0.6698468742,
              0.1516108319
             ]
            },
            {
             "iteration": 1297,
             "learn": [
              0.1026267699
             ],
             "passed_time": 76.86761261,
             "remaining_time": 41.57246846,
             "test": [
              0.6698468742,
              0.1516112523
             ]
            },
            {
             "iteration": 1298,
             "learn": [
              0.1026071381
             ],
             "passed_time": 76.93007603,
             "remaining_time": 41.51499869,
             "test": [
              0.6698468742,
              0.1516116782
             ]
            },
            {
             "iteration": 1299,
             "learn": [
              0.1025875075
             ],
             "passed_time": 76.99017686,
             "remaining_time": 41.45624908,
             "test": [
              0.6698468742,
              0.1516121095
             ]
            },
            {
             "iteration": 1300,
             "learn": [
              0.102567887
             ],
             "passed_time": 77.05421767,
             "remaining_time": 41.39961426,
             "test": [
              0.6698441551,
              0.1516135754
             ]
            },
            {
             "iteration": 1301,
             "learn": [
              0.1025482941
             ],
             "passed_time": 77.1161628,
             "remaining_time": 41.34184458,
             "test": [
              0.6698441551,
              0.1516140166
             ]
            },
            {
             "iteration": 1302,
             "learn": [
              0.102528682
             ],
             "passed_time": 77.17590668,
             "remaining_time": 41.28289098,
             "test": [
              0.6698441551,
              0.1516144624
             ]
            },
            {
             "iteration": 1303,
             "learn": [
              0.1025091104
             ],
             "passed_time": 77.23475585,
             "remaining_time": 41.22345864,
             "test": [
              0.6698441551,
              0.1516149129
             ]
            },
            {
             "iteration": 1304,
             "learn": [
              0.1024895099
             ],
             "passed_time": 77.30034827,
             "remaining_time": 41.16761843,
             "test": [
              0.6698441551,
              0.1516153676
             ]
            },
            {
             "iteration": 1305,
             "learn": [
              0.1024699566
             ],
             "passed_time": 77.36006589,
             "remaining_time": 41.10864145,
             "test": [
              0.6698441551,
              0.1516158266
             ]
            },
            {
             "iteration": 1306,
             "learn": [
              0.1024500289
             ],
             "passed_time": 77.41946652,
             "remaining_time": 41.04949525,
             "test": [
              0.6698441551,
              0.1516163074
             ]
            },
            {
             "iteration": 1307,
             "learn": [
              0.1024305284
             ],
             "passed_time": 77.47971651,
             "remaining_time": 40.99079803,
             "test": [
              0.6698441551,
              0.1516167721
             ]
            },
            {
             "iteration": 1308,
             "learn": [
              0.1024109441
             ],
             "passed_time": 77.5400737,
             "remaining_time": 40.93215503,
             "test": [
              0.6698441551,
              0.1516172405
             ]
            },
            {
             "iteration": 1309,
             "learn": [
              0.1023914289
             ],
             "passed_time": 77.59890775,
             "remaining_time": 40.87270714,
             "test": [
              0.6698427956,
              0.1516201056
             ]
            },
            {
             "iteration": 1310,
             "learn": [
              0.1023719011
             ],
             "passed_time": 77.65579499,
             "remaining_time": 40.81223703,
             "test": [
              0.6698427956,
              0.1516205804
             ]
            },
            {
             "iteration": 1311,
             "learn": [
              0.1023524048
             ],
             "passed_time": 77.71279503,
             "remaining_time": 40.75183154,
             "test": [
              0.6698427956,
              0.1516210583
             ]
            },
            {
             "iteration": 1312,
             "learn": [
              0.1023328967
             ],
             "passed_time": 77.76873595,
             "remaining_time": 40.69087707,
             "test": [
              0.6698427956,
              0.1516215393
             ]
            },
            {
             "iteration": 1313,
             "learn": [
              0.1023134375
             ],
             "passed_time": 77.82503341,
             "remaining_time": 40.63011638,
             "test": [
              0.6698427956,
              0.1516220231
             ]
            },
            {
             "iteration": 1314,
             "learn": [
              0.1022939285
             ],
             "passed_time": 77.88305864,
             "remaining_time": 40.57026248,
             "test": [
              0.669841436,
              0.1516272271
             ]
            },
            {
             "iteration": 1315,
             "learn": [
              0.1022744772
             ],
             "passed_time": 77.94137965,
             "remaining_time": 40.51056511,
             "test": [
              0.669841436,
              0.1516277162
             ]
            },
            {
             "iteration": 1316,
             "learn": [
              0.1022550225
             ],
             "passed_time": 78.00249255,
             "remaining_time": 40.4523177,
             "test": [
              0.669841436,
              0.151628208
             ]
            },
            {
             "iteration": 1317,
             "learn": [
              0.1022355647
             ],
             "passed_time": 78.06294424,
             "remaining_time": 40.3937238,
             "test": [
              0.669841436,
              0.1516287023
             ]
            },
            {
             "iteration": 1318,
             "learn": [
              0.1022161223
             ],
             "passed_time": 78.12082026,
             "remaining_time": 40.33379727,
             "test": [
              0.669841436,
              0.1516291993
             ]
            },
            {
             "iteration": 1319,
             "learn": [
              0.1021966948
             ],
             "passed_time": 78.18810237,
             "remaining_time": 40.2787194,
             "test": [
              0.6698407562,
              0.1516393865
             ]
            },
            {
             "iteration": 1320,
             "learn": [
              0.102177239
             ],
             "passed_time": 78.2509489,
             "remaining_time": 40.22134315,
             "test": [
              0.6698407562,
              0.1516398877
             ]
            },
            {
             "iteration": 1321,
             "learn": [
              0.1021585557
             ],
             "passed_time": 78.31020812,
             "remaining_time": 40.16211884,
             "test": [
              0.6698407562,
              0.1516403883
             ]
            },
            {
             "iteration": 1322,
             "learn": [
              0.1021391522
             ],
             "passed_time": 78.36801701,
             "remaining_time": 40.10215232,
             "test": [
              0.6698407562,
              0.1516408939
             ]
            },
            {
             "iteration": 1323,
             "learn": [
              0.1021197219
             ],
             "passed_time": 78.4275643,
             "remaining_time": 40.04307664,
             "test": [
              0.6698400765,
              0.1516435234
             ]
            },
            {
             "iteration": 1324,
             "learn": [
              0.1021003318
             ],
             "passed_time": 78.49712763,
             "remaining_time": 39.98910275,
             "test": [
              0.6698400765,
              0.1516440327
             ]
            },
            {
             "iteration": 1325,
             "learn": [
              0.1020809365
             ],
             "passed_time": 78.57192471,
             "remaining_time": 39.93776565,
             "test": [
              0.6698400765,
              0.1516445437
             ]
            },
            {
             "iteration": 1326,
             "learn": [
              0.1020615396
             ],
             "passed_time": 78.63712489,
             "remaining_time": 39.88152604,
             "test": [
              0.6698400765,
              0.1516450563
             ]
            },
            {
             "iteration": 1327,
             "learn": [
              0.1020421936
             ],
             "passed_time": 78.69496733,
             "remaining_time": 39.82154973,
             "test": [
              0.6698400765,
              0.1516455704
             ]
            },
            {
             "iteration": 1328,
             "learn": [
              0.1020228303
             ],
             "passed_time": 78.75292668,
             "remaining_time": 39.76163567,
             "test": [
              0.6698400765,
              0.1516460861
             ]
            },
            {
             "iteration": 1329,
             "learn": [
              0.1020040019
             ],
             "passed_time": 78.81069399,
             "remaining_time": 39.7016278,
             "test": [
              0.6698373574,
              0.1516474243
             ]
            },
            {
             "iteration": 1330,
             "learn": [
              0.1019846456
             ],
             "passed_time": 78.86889726,
             "remaining_time": 39.64184242,
             "test": [
              0.6698373574,
              0.1516479437
             ]
            },
            {
             "iteration": 1331,
             "learn": [
              0.1019653546
             ],
             "passed_time": 78.92926958,
             "remaining_time": 39.58314721,
             "test": [
              0.6698373574,
              0.1516484647
             ]
            },
            {
             "iteration": 1332,
             "learn": [
              0.1019460315
             ],
             "passed_time": 78.98561666,
             "remaining_time": 39.52243535,
             "test": [
              0.6698373574,
              0.1516489871
             ]
            },
            {
             "iteration": 1333,
             "learn": [
              0.1019267185
             ],
             "passed_time": 79.04219137,
             "remaining_time": 39.46184367,
             "test": [
              0.6698373574,
              0.1516495111
             ]
            },
            {
             "iteration": 1334,
             "learn": [
              0.1019072013
             ],
             "passed_time": 79.0996736,
             "remaining_time": 39.40171007,
             "test": [
              0.6698373574,
              0.1516500494
             ]
            },
            {
             "iteration": 1335,
             "learn": [
              0.1018879041
             ],
             "passed_time": 79.16386104,
             "remaining_time": 39.34491297,
             "test": [
              0.6698373574,
              0.1516505749
             ]
            },
            {
             "iteration": 1336,
             "learn": [
              0.1018685784
             ],
             "passed_time": 79.22810764,
             "remaining_time": 39.28813416,
             "test": [
              0.6698373574,
              0.1516511017
             ]
            },
            {
             "iteration": 1337,
             "learn": [
              0.1018493506
             ],
             "passed_time": 79.29345136,
             "remaining_time": 39.23188699,
             "test": [
              0.6698373574,
              0.1516516297
             ]
            },
            {
             "iteration": 1338,
             "learn": [
              0.1018300689
             ],
             "passed_time": 79.35178058,
             "remaining_time": 39.17216353,
             "test": [
              0.6698373574,
              0.1516521589
             ]
            },
            {
             "iteration": 1339,
             "learn": [
              0.1018107962
             ],
             "passed_time": 79.41777499,
             "remaining_time": 39.11621753,
             "test": [
              0.6698373574,
              0.1516526893
             ]
            },
            {
             "iteration": 1340,
             "learn": [
              0.1017915515
             ],
             "passed_time": 79.47955413,
             "remaining_time": 39.05818506,
             "test": [
              0.6698373574,
              0.1516532211
             ]
            },
            {
             "iteration": 1341,
             "learn": [
              0.1017722978
             ],
             "passed_time": 79.54181601,
             "remaining_time": 39.00038371,
             "test": [
              0.6698373574,
              0.1516537538
             ]
            },
            {
             "iteration": 1342,
             "learn": [
              0.1017530925
             ],
             "passed_time": 79.60228266,
             "remaining_time": 38.94169748,
             "test": [
              0.6698373574,
              0.1516542873
             ]
            },
            {
             "iteration": 1343,
             "learn": [
              0.1017338707
             ],
             "passed_time": 79.6642753,
             "remaining_time": 38.88375342,
             "test": [
              0.6698373574,
              0.1516582976
             ]
            },
            {
             "iteration": 1344,
             "learn": [
              0.1017146731
             ],
             "passed_time": 79.72648013,
             "remaining_time": 38.82590668,
             "test": [
              0.6698366776,
              0.1516618553
             ]
            },
            {
             "iteration": 1345,
             "learn": [
              0.1016954749
             ],
             "passed_time": 79.79241084,
             "remaining_time": 38.76986381,
             "test": [
              0.6698366776,
              0.151663867
             ]
            },
            {
             "iteration": 1346,
             "learn": [
              0.1016763237
             ],
             "passed_time": 79.84978641,
             "remaining_time": 38.70965889,
             "test": [
              0.6698366776,
              0.1516644033
             ]
            },
            {
             "iteration": 1347,
             "learn": [
              0.1016571477
             ],
             "passed_time": 79.91015319,
             "remaining_time": 38.65090495,
             "test": [
              0.6698359978,
              0.1516666163
             ]
            },
            {
             "iteration": 1348,
             "learn": [
              0.1016380425
             ],
             "passed_time": 79.96543633,
             "remaining_time": 38.58969537,
             "test": [
              0.6698359978,
              0.1516671543
             ]
            },
            {
             "iteration": 1349,
             "learn": [
              0.1016189186
             ],
             "passed_time": 80.02115534,
             "remaining_time": 38.52870442,
             "test": [
              0.6698359978,
              0.1516676934
             ]
            },
            {
             "iteration": 1350,
             "learn": [
              0.1015997855
             ],
             "passed_time": 80.0765021,
             "remaining_time": 38.46754246,
             "test": [
              0.6698359978,
              0.1516682335
             ]
            },
            {
             "iteration": 1351,
             "learn": [
              0.1015806599
             ],
             "passed_time": 80.13343197,
             "remaining_time": 38.40714787,
             "test": [
              0.6698346383,
              0.1516749666
             ]
            },
            {
             "iteration": 1352,
             "learn": [
              0.1015615737
             ],
             "passed_time": 80.19122786,
             "remaining_time": 38.34717253,
             "test": [
              0.6698346383,
              0.1516755081
             ]
            },
            {
             "iteration": 1353,
             "learn": [
              0.1015424639
             ],
             "passed_time": 80.24900834,
             "remaining_time": 38.28719305,
             "test": [
              0.6698346383,
              0.1516760506
             ]
            },
            {
             "iteration": 1354,
             "learn": [
              0.1015242112
             ],
             "passed_time": 80.30654554,
             "remaining_time": 38.22710101,
             "test": [
              0.6698278405,
              0.1516769003
             ]
            },
            {
             "iteration": 1355,
             "learn": [
              0.1015051465
             ],
             "passed_time": 80.36662865,
             "remaining_time": 38.16822187,
             "test": [
              0.6698278405,
              0.1516774457
             ]
            },
            {
             "iteration": 1356,
             "learn": [
              0.1014861103
             ],
             "passed_time": 80.43061709,
             "remaining_time": 38.11119144,
             "test": [
              0.6698278405,
              0.1516779919
             ]
            },
            {
             "iteration": 1357,
             "learn": [
              0.1014675542
             ],
             "passed_time": 80.49132895,
             "remaining_time": 38.05260176,
             "test": [
              0.6698169642,
              0.1516788739
             ]
            },
            {
             "iteration": 1358,
             "learn": [
              0.1014485361
             ],
             "passed_time": 80.55175756,
             "remaining_time": 37.99387535,
             "test": [
              0.6698169642,
              0.151679422
             ]
            },
            {
             "iteration": 1359,
             "learn": [
              0.1014295388
             ],
             "passed_time": 80.61096202,
             "remaining_time": 37.93457036,
             "test": [
              0.6698142451,
              0.1516864091
             ]
            },
            {
             "iteration": 1360,
             "learn": [
              0.1014112104
             ],
             "passed_time": 80.66949387,
             "remaining_time": 37.87494973,
             "test": [
              0.6698135653,
              0.1516871862
             ]
            },
            {
             "iteration": 1361,
             "learn": [
              0.1013927497
             ],
             "passed_time": 80.72724085,
             "remaining_time": 37.81496304,
             "test": [
              0.6698088069,
              0.1516880095
             ]
            },
            {
             "iteration": 1362,
             "learn": [
              0.1013737592
             ],
             "passed_time": 80.78608044,
             "remaining_time": 37.75549027,
             "test": [
              0.6698088069,
              0.1516885622
             ]
            },
            {
             "iteration": 1363,
             "learn": [
              0.1013548028
             ],
             "passed_time": 80.84135258,
             "remaining_time": 37.69435502,
             "test": [
              0.6698088069,
              0.1516891155
             ]
            },
            {
             "iteration": 1364,
             "learn": [
              0.1013358269
             ],
             "passed_time": 80.89893811,
             "remaining_time": 37.63430454,
             "test": [
              0.6698088069,
              0.1516896697
             ]
            },
            {
             "iteration": 1365,
             "learn": [
              0.10131688
             ],
             "passed_time": 80.95704225,
             "remaining_time": 37.57449838,
             "test": [
              0.6698088069,
              0.1516902243
             ]
            },
            {
             "iteration": 1366,
             "learn": [
              0.101297939
             ],
             "passed_time": 81.02051686,
             "remaining_time": 37.51718155,
             "test": [
              0.6698088069,
              0.1516907794
             ]
            },
            {
             "iteration": 1367,
             "learn": [
              0.1012790097
             ],
             "passed_time": 81.08393798,
             "remaining_time": 37.459831,
             "test": [
              0.6698088069,
              0.1516913353
             ]
            },
            {
             "iteration": 1368,
             "learn": [
              0.1012600754
             ],
             "passed_time": 81.14484792,
             "remaining_time": 37.40131412,
             "test": [
              0.6698088069,
              0.1516918918
             ]
            },
            {
             "iteration": 1369,
             "learn": [
              0.1012411877
             ],
             "passed_time": 81.20577427,
             "remaining_time": 37.34280131,
             "test": [
              0.6698088069,
              0.1516924488
             ]
            },
            {
             "iteration": 1370,
             "learn": [
              0.1012222731
             ],
             "passed_time": 81.26318159,
             "remaining_time": 37.28267047,
             "test": [
              0.6698088069,
              0.1516930065
             ]
            },
            {
             "iteration": 1371,
             "learn": [
              0.1012034105
             ],
             "passed_time": 81.31996867,
             "remaining_time": 37.22225971,
             "test": [
              0.6698101664,
              0.1516866506
             ]
            },
            {
             "iteration": 1372,
             "learn": [
              0.1011845439
             ],
             "passed_time": 81.37692912,
             "remaining_time": 37.1619334,
             "test": [
              0.6698101664,
              0.1516872085
             ]
            },
            {
             "iteration": 1373,
             "learn": [
              0.1011656969
             ],
             "passed_time": 81.43327399,
             "remaining_time": 37.10133153,
             "test": [
              0.6698101664,
              0.151687767
             ]
            },
            {
             "iteration": 1374,
             "learn": [
              0.1011468414
             ],
             "passed_time": 81.49297016,
             "remaining_time": 37.04225916,
             "test": [
              0.6698101664,
              0.1516883264
             ]
            },
            {
             "iteration": 1375,
             "learn": [
              0.1009984521
             ],
             "passed_time": 81.55890344,
             "remaining_time": 36.98601435,
             "test": [
              0.6700691602,
              0.1516573567
             ]
            },
            {
             "iteration": 1376,
             "learn": [
              0.1009788964
             ],
             "passed_time": 81.61594889,
             "remaining_time": 36.92573432,
             "test": [
              0.6700603231,
              0.1516582945
             ]
            },
            {
             "iteration": 1377,
             "learn": [
              0.1009599216
             ],
             "passed_time": 81.6732048,
             "remaining_time": 36.86555398,
             "test": [
              0.6700596433,
              0.1516611127
             ]
            },
            {
             "iteration": 1378,
             "learn": [
              0.1009410568
             ],
             "passed_time": 81.73131257,
             "remaining_time": 36.8057615,
             "test": [
              0.6700596433,
              0.1516614096
             ]
            },
            {
             "iteration": 1379,
             "learn": [
              0.100922229
             ],
             "passed_time": 81.78892438,
             "remaining_time": 36.74574864,
             "test": [
              0.670057604,
              0.1516628116
             ]
            },
            {
             "iteration": 1380,
             "learn": [
              0.1009033719
             ],
             "passed_time": 81.84539255,
             "remaining_time": 36.68522664,
             "test": [
              0.670057604,
              0.151663136
             ]
            },
            {
             "iteration": 1381,
             "learn": [
              0.1008845642
             ],
             "passed_time": 81.90206713,
             "remaining_time": 36.62480281,
             "test": [
              0.670057604,
              0.1516634734
             ]
            },
            {
             "iteration": 1382,
             "learn": [
              0.1008657552
             ],
             "passed_time": 81.96065047,
             "remaining_time": 36.56523597,
             "test": [
              0.670057604,
              0.1516638229
             ]
            },
            {
             "iteration": 1383,
             "learn": [
              0.1008469377
             ],
             "passed_time": 82.01654156,
             "remaining_time": 36.50447226,
             "test": [
              0.670057604,
              0.151664184
             ]
            },
            {
             "iteration": 1384,
             "learn": [
              0.1008281857
             ],
             "passed_time": 82.07289839,
             "remaining_time": 36.44392239,
             "test": [
              0.6700562445,
              0.1516688344
             ]
            },
            {
             "iteration": 1385,
             "learn": [
              0.1008094434
             ],
             "passed_time": 82.13001976,
             "remaining_time": 36.38371727,
             "test": [
              0.6700562445,
              0.151669217
             ]
            },
            {
             "iteration": 1386,
             "learn": [
              0.1007906741
             ],
             "passed_time": 82.18613101,
             "remaining_time": 36.32307016,
             "test": [
              0.6700562445,
              0.1516696098
             ]
            },
            {
             "iteration": 1387,
             "learn": [
              0.1007719533
             ],
             "passed_time": 82.24276455,
             "remaining_time": 36.26265987,
             "test": [
              0.6700562445,
              0.1516700121
             ]
            },
            {
             "iteration": 1388,
             "learn": [
              0.1007532012
             ],
             "passed_time": 82.29831814,
             "remaining_time": 36.20177997,
             "test": [
              0.6700562445,
              0.1516704237
             ]
            },
            {
             "iteration": 1389,
             "learn": [
              0.1007344957
             ],
             "passed_time": 82.35602617,
             "remaining_time": 36.14185321,
             "test": [
              0.6700562445,
              0.151670844
             ]
            },
            {
             "iteration": 1390,
             "learn": [
              0.1007157968
             ],
             "passed_time": 82.41522646,
             "remaining_time": 36.08258297,
             "test": [
              0.6700562445,
              0.1516712727
             ]
            },
            {
             "iteration": 1391,
             "learn": [
              0.1006970946
             ],
             "passed_time": 82.47529587,
             "remaining_time": 36.02369245,
             "test": [
              0.6700562445,
              0.1516717093
             ]
            },
            {
             "iteration": 1392,
             "learn": [
              0.100679454
             ],
             "passed_time": 82.53851411,
             "remaining_time": 35.96617234,
             "test": [
              0.6700562445,
              0.1516723405
             ]
            },
            {
             "iteration": 1393,
             "learn": [
              0.1006607634
             ],
             "passed_time": 82.60082424,
             "remaining_time": 35.90824927,
             "test": [
              0.6700562445,
              0.151672794
             ]
            },
            {
             "iteration": 1394,
             "learn": [
              0.1006420643
             ],
             "passed_time": 82.66152093,
             "remaining_time": 35.84962019,
             "test": [
              0.6700562445,
              0.1516732544
             ]
            },
            {
             "iteration": 1395,
             "learn": [
              0.1006234202
             ],
             "passed_time": 82.72391018,
             "remaining_time": 35.79172045,
             "test": [
              0.6700562445,
              0.151683497
             ]
            },
            {
             "iteration": 1396,
             "learn": [
              0.1006047763
             ],
             "passed_time": 82.78176212,
             "remaining_time": 35.7318558,
             "test": [
              0.6700562445,
              0.1516839696
             ]
            },
            {
             "iteration": 1397,
             "learn": [
              0.1005861193
             ],
             "passed_time": 82.84226161,
             "remaining_time": 35.67313411,
             "test": [
              0.6700562445,
              0.151684448
             ]
            },
            {
             "iteration": 1398,
             "learn": [
              0.1005674784
             ],
             "passed_time": 82.90007838,
             "remaining_time": 35.6132574,
             "test": [
              0.6700562445,
              0.1516849321
             ]
            },
            {
             "iteration": 1399,
             "learn": [
              0.10054885
             ],
             "passed_time": 82.95583555,
             "remaining_time": 35.55250095,
             "test": [
              0.6700562445,
              0.1516854214
             ]
            },
            {
             "iteration": 1400,
             "learn": [
              0.1005302145
             ],
             "passed_time": 83.01222955,
             "remaining_time": 35.49202391,
             "test": [
              0.6700562445,
              0.1516859157
             ]
            },
            {
             "iteration": 1401,
             "learn": [
              0.1005116329
             ],
             "passed_time": 83.07247842,
             "remaining_time": 35.43319693,
             "test": [
              0.6700548849,
              0.1516914233
             ]
            },
            {
             "iteration": 1402,
             "learn": [
              0.1004930161
             ],
             "passed_time": 83.13484934,
             "remaining_time": 35.37527089,
             "test": [
              0.6700548849,
              0.1516919266
             ]
            },
            {
             "iteration": 1403,
             "learn": [
              0.1004744476
             ],
             "passed_time": 83.1999036,
             "remaining_time": 35.3184776,
             "test": [
              0.6700548849,
              0.1516924342
             ]
            },
            {
             "iteration": 1404,
             "learn": [
              0.1004558438
             ],
             "passed_time": 83.26348158,
             "remaining_time": 35.26104736,
             "test": [
              0.6700548849,
              0.1516929463
             ]
            },
            {
             "iteration": 1405,
             "learn": [
              0.100437282
             ],
             "passed_time": 83.32140773,
             "remaining_time": 35.20122062,
             "test": [
              0.6700548849,
              0.1516934623
             ]
            },
            {
             "iteration": 1406,
             "learn": [
              0.1004187121
             ],
             "passed_time": 83.37845122,
             "remaining_time": 35.14102457,
             "test": [
              0.6700548849,
              0.1516939821
             ]
            },
            {
             "iteration": 1407,
             "learn": [
              0.1004001739
             ],
             "passed_time": 83.43602712,
             "remaining_time": 35.08105686,
             "test": [
              0.6700548849,
              0.1516945056
             ]
            },
            {
             "iteration": 1408,
             "learn": [
              0.1003816225
             ],
             "passed_time": 83.49315532,
             "remaining_time": 35.02090475,
             "test": [
              0.6700528456,
              0.151697281
             ]
            },
            {
             "iteration": 1409,
             "learn": [
              0.1003630761
             ],
             "passed_time": 83.54870274,
             "remaining_time": 34.96009547,
             "test": [
              0.6700528456,
              0.1516978112
             ]
            },
            {
             "iteration": 1410,
             "learn": [
              0.1003445356
             ],
             "passed_time": 83.60498504,
             "remaining_time": 34.89960042,
             "test": [
              0.6700528456,
              0.1516983446
             ]
            },
            {
             "iteration": 1411,
             "learn": [
              0.1003260564
             ],
             "passed_time": 83.66052638,
             "remaining_time": 34.83880277,
             "test": [
              0.6700528456,
              0.1516988812
             ]
            },
            {
             "iteration": 1412,
             "learn": [
              0.1003075525
             ],
             "passed_time": 83.71846353,
             "remaining_time": 34.77900785,
             "test": [
              0.6700528456,
              0.1516994205
             ]
            },
            {
             "iteration": 1413,
             "learn": [
              0.1002890417
             ],
             "passed_time": 83.78040562,
             "remaining_time": 34.72087531,
             "test": [
              0.6700528456,
              0.1516999624
             ]
            },
            {
             "iteration": 1414,
             "learn": [
              0.1002705905
             ],
             "passed_time": 83.8409301,
             "remaining_time": 34.66215131,
             "test": [
              0.6700528456,
              0.1517005071
             ]
            },
            {
             "iteration": 1415,
             "learn": [
              0.1002521004
             ],
             "passed_time": 83.90064381,
             "remaining_time": 34.60309038,
             "test": [
              0.6700528456,
              0.1517010546
             ]
            },
            {
             "iteration": 1416,
             "learn": [
              0.1002336628
             ],
             "passed_time": 83.95906574,
             "remaining_time": 34.54349705,
             "test": [
              0.6700528456,
              0.1517016046
             ]
            },
            {
             "iteration": 1417,
             "learn": [
              0.1002151837
             ],
             "passed_time": 84.01800187,
             "remaining_time": 34.48411642,
             "test": [
              0.6700528456,
              0.1517021568
             ]
            },
            {
             "iteration": 1418,
             "learn": [
              0.1001967629
             ],
             "passed_time": 84.07675042,
             "remaining_time": 34.42465962,
             "test": [
              0.6700528456,
              0.1517027113
             ]
            },
            {
             "iteration": 1419,
             "learn": [
              0.1001783416
             ],
             "passed_time": 84.13478644,
             "remaining_time": 34.36491277,
             "test": [
              0.6700521658,
              0.151706835
             ]
            },
            {
             "iteration": 1420,
             "learn": [
              0.1001599024
             ],
             "passed_time": 84.19139606,
             "remaining_time": 34.30458714,
             "test": [
              0.6700514861,
              0.1517105584
             ]
            },
            {
             "iteration": 1421,
             "learn": [
              0.1001415139
             ],
             "passed_time": 84.2464467,
             "remaining_time": 34.24363305,
             "test": [
              0.6700514861,
              0.151711119
             ]
            },
            {
             "iteration": 1422,
             "learn": [
              0.1001230987
             ],
             "passed_time": 84.30473147,
             "remaining_time": 34.18399864,
             "test": [
              0.6700514861,
              0.1517116814
             ]
            },
            {
             "iteration": 1423,
             "learn": [
              0.1001047197
             ],
             "passed_time": 84.36823296,
             "remaining_time": 34.12647625,
             "test": [
              0.6700514861,
              0.1517122456
             ]
            },
            {
             "iteration": 1424,
             "learn": [
              0.1000863477
             ],
             "passed_time": 84.43582702,
             "remaining_time": 34.07059687,
             "test": [
              0.6700514861,
              0.1517128116
             ]
            },
            {
             "iteration": 1425,
             "learn": [
              0.1000559126
             ],
             "passed_time": 84.50595317,
             "remaining_time": 34.01572028,
             "test": [
              0.6699828289,
              0.1517147849
             ]
            },
            {
             "iteration": 1426,
             "learn": [
              0.1000375478
             ],
             "passed_time": 84.56844138,
             "remaining_time": 33.95775537,
             "test": [
              0.6699821491,
              0.1517171161
             ]
            },
            {
             "iteration": 1427,
             "learn": [
              0.1000200327
             ],
             "passed_time": 84.63129683,
             "remaining_time": 33.89993122,
             "test": [
              0.6699821491,
              0.1517176601
             ]
            },
            {
             "iteration": 1428,
             "learn": [
              0.1000017318
             ],
             "passed_time": 84.6934465,
             "remaining_time": 33.84181802,
             "test": [
              0.6699821491,
              0.1517182288
             ]
            },
            {
             "iteration": 1429,
             "learn": [
              0.09998337766
             ],
             "passed_time": 84.75603959,
             "remaining_time": 33.78387592,
             "test": [
              0.6699821491,
              0.1517187993
             ]
            },
            {
             "iteration": 1430,
             "learn": [
              0.09996504414
             ],
             "passed_time": 84.81779706,
             "remaining_time": 33.72559506,
             "test": [
              0.6699821491,
              0.1517221633
             ]
            },
            {
             "iteration": 1431,
             "learn": [
              0.09994673348
             ],
             "passed_time": 84.8791917,
             "remaining_time": 33.66716542,
             "test": [
              0.6699821491,
              0.1517227368
             ]
            },
            {
             "iteration": 1432,
             "learn": [
              0.09992842984
             ],
             "passed_time": 84.93690464,
             "remaining_time": 33.6072749,
             "test": [
              0.6699821491,
              0.1517233118
             ]
            },
            {
             "iteration": 1433,
             "learn": [
              0.09991017488
             ],
             "passed_time": 84.99700963,
             "remaining_time": 33.54833155,
             "test": [
              0.6699821491,
              0.151723888
             ]
            },
            {
             "iteration": 1434,
             "learn": [
              0.09989187613
             ],
             "passed_time": 85.05827985,
             "remaining_time": 33.48984538,
             "test": [
              0.6699821491,
              0.1517244657
             ]
            },
            {
             "iteration": 1435,
             "learn": [
              0.09987364499
             ],
             "passed_time": 85.11722265,
             "remaining_time": 33.43044121,
             "test": [
              0.6699821491,
              0.1517250449
             ]
            },
            {
             "iteration": 1436,
             "learn": [
              0.09985538798
             ],
             "passed_time": 85.17377715,
             "remaining_time": 33.37010197,
             "test": [
              0.6699821491,
              0.1517256251
             ]
            },
            {
             "iteration": 1437,
             "learn": [
              0.09983717526
             ],
             "passed_time": 85.22998265,
             "remaining_time": 33.30963161,
             "test": [
              0.6699821491,
              0.1517262066
             ]
            },
            {
             "iteration": 1438,
             "learn": [
              0.09981895706
             ],
             "passed_time": 85.2858792,
             "remaining_time": 33.24904672,
             "test": [
              0.6699821491,
              0.1517267895
             ]
            },
            {
             "iteration": 1439,
             "learn": [
              0.09980079375
             ],
             "passed_time": 85.34261432,
             "remaining_time": 33.18879446,
             "test": [
              0.6699821491,
              0.1517273733
             ]
            },
            {
             "iteration": 1440,
             "learn": [
              0.09978258608
             ],
             "passed_time": 85.3975975,
             "remaining_time": 33.12786746,
             "test": [
              0.6699821491,
              0.1517279585
             ]
            },
            {
             "iteration": 1441,
             "learn": [
              0.09976442359
             ],
             "passed_time": 85.45507745,
             "remaining_time": 33.06791485,
             "test": [
              0.6699821491,
              0.1517285451
             ]
            },
            {
             "iteration": 1442,
             "learn": [
              0.09969164477
             ],
             "passed_time": 85.51641855,
             "remaining_time": 33.00945608,
             "test": [
              0.6705239287,
              0.1517244859
             ]
            },
            {
             "iteration": 1443,
             "learn": [
              0.0996734655
             ],
             "passed_time": 85.57352399,
             "remaining_time": 32.94936242,
             "test": [
              0.6705239287,
              0.1517249636
             ]
            },
            {
             "iteration": 1444,
             "learn": [
              0.09965532214
             ],
             "passed_time": 85.62918042,
             "remaining_time": 32.88871635,
             "test": [
              0.6705232489,
              0.1517291376
             ]
            },
            {
             "iteration": 1445,
             "learn": [
              0.09963718395
             ],
             "passed_time": 85.68903058,
             "remaining_time": 32.82968392,
             "test": [
              0.6705232489,
              0.1517296286
             ]
            },
            {
             "iteration": 1446,
             "learn": [
              0.09961902197
             ],
             "passed_time": 85.75156012,
             "remaining_time": 32.77167432,
             "test": [
              0.6705232489,
              0.1517301262
             ]
            },
            {
             "iteration": 1447,
             "learn": [
              0.09960087723
             ],
             "passed_time": 85.81032763,
             "remaining_time": 32.71222435,
             "test": [
              0.6705232489,
              0.1517332949
             ]
            },
            {
             "iteration": 1448,
             "learn": [
              0.09958276762
             ],
             "passed_time": 85.87182265,
             "remaining_time": 32.65381248,
             "test": [
              0.6705232489,
              0.151733804
             ]
            },
            {
             "iteration": 1449,
             "learn": [
              0.09956464848
             ],
             "passed_time": 85.93258546,
             "remaining_time": 32.59511862,
             "test": [
              0.6705232489,
              0.1517343183
             ]
            },
            {
             "iteration": 1450,
             "learn": [
              0.09954656194
             ],
             "passed_time": 85.99386023,
             "remaining_time": 32.53661562,
             "test": [
              0.6705232489,
              0.1517348378
             ]
            },
            {
             "iteration": 1451,
             "learn": [
              0.09952848585
             ],
             "passed_time": 86.05404164,
             "remaining_time": 32.47769616,
             "test": [
              0.6705218894,
              0.1517411323
             ]
            },
            {
             "iteration": 1452,
             "learn": [
              0.09948587844
             ],
             "passed_time": 86.12402462,
             "remaining_time": 32.42246488,
             "test": [
              0.6705008164,
              0.1517270475
             ]
            },
            {
             "iteration": 1453,
             "learn": [
              0.09946567635
             ],
             "passed_time": 86.18100449,
             "remaining_time": 32.36233043,
             "test": [
              0.6705008164,
              0.1517276241
             ]
            },
            {
             "iteration": 1454,
             "learn": [
              0.09944884242
             ],
             "passed_time": 86.23846668,
             "remaining_time": 32.30238099,
             "test": [
              0.6704912996,
              0.1517288146
             ]
            },
            {
             "iteration": 1455,
             "learn": [
              0.09943079885
             ],
             "passed_time": 86.29631466,
             "remaining_time": 32.2425791,
             "test": [
              0.6704912996,
              0.1517293245
             ]
            },
            {
             "iteration": 1456,
             "learn": [
              0.09941276241
             ],
             "passed_time": 86.35775689,
             "remaining_time": 32.18411942,
             "test": [
              0.6704912996,
              0.15172984
             ]
            },
            {
             "iteration": 1457,
             "learn": [
              0.09939472686
             ],
             "passed_time": 86.4184982,
             "remaining_time": 32.12539508,
             "test": [
              0.6704885805,
              0.1517371288
             ]
            },
            {
             "iteration": 1458,
             "learn": [
              0.09937671777
             ],
             "passed_time": 86.48428112,
             "remaining_time": 32.06853741,
             "test": [
              0.6704851816,
              0.151738809
             ]
            },
            {
             "iteration": 1459,
             "learn": [
              0.0993587083
             ],
             "passed_time": 86.54141636,
             "remaining_time": 32.00846906,
             "test": [
              0.6704851816,
              0.1517393392
             ]
            },
            {
             "iteration": 1460,
             "learn": [
              0.09934070571
             ],
             "passed_time": 86.60211872,
             "remaining_time": 31.94972073,
             "test": [
              0.6704879007,
              0.1517279164
             ]
            },
            {
             "iteration": 1461,
             "learn": [
              0.09932272059
             ],
             "passed_time": 86.65997824,
             "remaining_time": 31.88992359,
             "test": [
              0.6704879007,
              0.1517284555
             ]
            },
            {
             "iteration": 1462,
             "learn": [
              0.09929052003
             ],
             "passed_time": 86.72022577,
             "remaining_time": 31.83100563,
             "test": [
              0.6705395635,
              0.1517276154
             ]
            },
            {
             "iteration": 1463,
             "learn": [
              0.09927254454
             ],
             "passed_time": 86.77756896,
             "remaining_time": 31.77102252,
             "test": [
              0.6705388837,
              0.1517326775
             ]
            },
            {
             "iteration": 1464,
             "learn": [
              0.09925459118
             ],
             "passed_time": 86.8343675,
             "remaining_time": 31.7108441,
             "test": [
              0.6705388837,
              0.1517332412
             ]
            },
            {
             "iteration": 1465,
             "learn": [
              0.09923665082
             ],
             "passed_time": 86.89669909,
             "remaining_time": 31.65268575,
             "test": [
              0.6705388837,
              0.1517338081
             ]
            },
            {
             "iteration": 1466,
             "learn": [
              0.09921871352
             ],
             "passed_time": 86.95989749,
             "remaining_time": 31.59483665,
             "test": [
              0.6705388837,
              0.151734378
             ]
            },
            {
             "iteration": 1467,
             "learn": [
              0.09920076216
             ],
             "passed_time": 87.02010194,
             "remaining_time": 31.53589525,
             "test": [
              0.6705388837,
              0.1517349507
             ]
            },
            {
             "iteration": 1468,
             "learn": [
              0.09918284976
             ],
             "passed_time": 87.08159979,
             "remaining_time": 31.47741967,
             "test": [
              0.6705388837,
              0.1517355263
             ]
            },
            {
             "iteration": 1469,
             "learn": [
              0.09916493022
             ],
             "passed_time": 87.13835574,
             "remaining_time": 31.4172303,
             "test": [
              0.6705388837,
              0.1517361045
             ]
            },
            {
             "iteration": 1470,
             "learn": [
              0.09914702174
             ],
             "passed_time": 87.19757425,
             "remaining_time": 31.35793119,
             "test": [
              0.6705388837,
              0.1517366852
             ]
            },
            {
             "iteration": 1471,
             "learn": [
              0.09912912468
             ],
             "passed_time": 87.25612717,
             "remaining_time": 31.29839344,
             "test": [
              0.6705388837,
              0.1517372684
             ]
            },
            {
             "iteration": 1472,
             "learn": [
              0.09911123626
             ],
             "passed_time": 87.31294421,
             "remaining_time": 31.23823598,
             "test": [
              0.6705388837,
              0.151737854
             ]
            },
            {
             "iteration": 1473,
             "learn": [
              0.09909333086
             ],
             "passed_time": 87.36861768,
             "remaining_time": 31.17767496,
             "test": [
              0.6705388837,
              0.151738442
             ]
            },
            {
             "iteration": 1474,
             "learn": [
              0.09907545818
             ],
             "passed_time": 87.42576987,
             "remaining_time": 31.1176469,
             "test": [
              0.6705388837,
              0.1517390322
             ]
            },
            {
             "iteration": 1475,
             "learn": [
              0.0990575842
             ],
             "passed_time": 87.48428522,
             "remaining_time": 31.05810668,
             "test": [
              0.6705388837,
              0.1517396245
             ]
            },
            {
             "iteration": 1476,
             "learn": [
              0.09903972893
             ],
             "passed_time": 87.547691,
             "remaining_time": 31.00029952,
             "test": [
              0.6705388837,
              0.1517402187
             ]
            },
            {
             "iteration": 1477,
             "learn": [
              0.09902187406
             ],
             "passed_time": 87.61215406,
             "remaining_time": 30.9428582,
             "test": [
              0.6705388837,
              0.1517408149
             ]
            },
            {
             "iteration": 1478,
             "learn": [
              0.09900402614
             ],
             "passed_time": 87.67459077,
             "remaining_time": 30.88469357,
             "test": [
              0.670538204,
              0.1517512474
             ]
            },
            {
             "iteration": 1479,
             "learn": [
              0.09898619715
             ],
             "passed_time": 87.73677282,
             "remaining_time": 30.82643369,
             "test": [
              0.670538204,
              0.1517518472
             ]
            },
            {
             "iteration": 1480,
             "learn": [
              0.09896834428
             ],
             "passed_time": 87.79804025,
             "remaining_time": 30.767848,
             "test": [
              0.670538204,
              0.1517524487
             ]
            },
            {
             "iteration": 1481,
             "learn": [
              0.09895050416
             ],
             "passed_time": 87.85448962,
             "remaining_time": 30.70757465,
             "test": [
              0.670538204,
              0.1517530519
             ]
            },
            {
             "iteration": 1482,
             "learn": [
              0.09893271294
             ],
             "passed_time": 87.91018267,
             "remaining_time": 30.64704278,
             "test": [
              0.6705375242,
              0.1517589115
             ]
            },
            {
             "iteration": 1483,
             "learn": [
              0.09889672203
             ],
             "passed_time": 87.9804712,
             "remaining_time": 30.59159241,
             "test": [
              0.671351893,
              0.1517437738
             ]
            },
            {
             "iteration": 1484,
             "learn": [
              0.09887857681
             ],
             "passed_time": 88.03635791,
             "remaining_time": 30.53112749,
             "test": [
              0.671351893,
              0.1517443801
             ]
            },
            {
             "iteration": 1485,
             "learn": [
              0.09886078424
             ],
             "passed_time": 88.09161938,
             "remaining_time": 30.47045247,
             "test": [
              0.671351893,
              0.1517449622
             ]
            },
            {
             "iteration": 1486,
             "learn": [
              0.09884300437
             ],
             "passed_time": 88.14717635,
             "remaining_time": 30.40988666,
             "test": [
              0.671351893,
              0.151745547
             ]
            },
            {
             "iteration": 1487,
             "learn": [
              0.09876866963
             ],
             "passed_time": 88.20637486,
             "remaining_time": 30.3505806,
             "test": [
              0.6715734992,
              0.1517444275
             ]
            },
            {
             "iteration": 1488,
             "learn": [
              0.09875088849
             ],
             "passed_time": 88.26671272,
             "remaining_time": 30.29166568,
             "test": [
              0.6715734992,
              0.1517449202
             ]
            },
            {
             "iteration": 1489,
             "learn": [
              0.09864346824
             ],
             "passed_time": 88.3378564,
             "remaining_time": 30.23644749,
             "test": [
              0.6720316666,
              0.1517543203
             ]
            },
            {
             "iteration": 1490,
             "learn": [
              0.09862509984
             ],
             "passed_time": 88.39607912,
             "remaining_time": 30.17679696,
             "test": [
              0.6720316666,
              0.1517546757
             ]
            },
            {
             "iteration": 1491,
             "learn": [
              0.09860726666
             ],
             "passed_time": 88.46464271,
             "remaining_time": 30.12066923,
             "test": [
              0.6720316666,
              0.1517550195
             ]
            },
            {
             "iteration": 1492,
             "learn": [
              0.09858945286
             ],
             "passed_time": 88.5247162,
             "remaining_time": 30.06164174,
             "test": [
              0.6720316666,
              0.1517553781
             ]
            },
            {
             "iteration": 1493,
             "learn": [
              0.09857164351
             ],
             "passed_time": 88.58266785,
             "remaining_time": 30.0018942,
             "test": [
              0.6720316666,
              0.151755751
             ]
            },
            {
             "iteration": 1494,
             "learn": [
              0.09855386779
             ],
             "passed_time": 88.64212872,
             "remaining_time": 29.94265887,
             "test": [
              0.6720316666,
              0.1517561375
             ]
            },
            {
             "iteration": 1495,
             "learn": [
              0.09853609999
             ],
             "passed_time": 88.69978904,
             "remaining_time": 29.88281663,
             "test": [
              0.6720316666,
              0.151756537
             ]
            },
            {
             "iteration": 1496,
             "learn": [
              0.0985183421
             ],
             "passed_time": 88.75842926,
             "remaining_time": 29.82330656,
             "test": [
              0.6720309868,
              0.151759334
             ]
            },
            {
             "iteration": 1497,
             "learn": [
              0.0985006024
             ],
             "passed_time": 88.81796271,
             "remaining_time": 29.76409698,
             "test": [
              0.6720309868,
              0.1517597576
             ]
            },
            {
             "iteration": 1498,
             "learn": [
              0.09848337152
             ],
             "passed_time": 88.87475367,
             "remaining_time": 29.70397037,
             "test": [
              0.6720309868,
              0.1517601918
             ]
            },
            {
             "iteration": 1499,
             "learn": [
              0.09846566462
             ],
             "passed_time": 88.93223761,
             "remaining_time": 29.6440792,
             "test": [
              0.6720309868,
              0.1517606372
             ]
            },
            {
             "iteration": 1500,
             "learn": [
              0.09844795435
             ],
             "passed_time": 88.98963109,
             "remaining_time": 29.58416117,
             "test": [
              0.6720914867,
              0.1517503891
             ]
            },
            {
             "iteration": 1501,
             "learn": [
              0.09843024667
             ],
             "passed_time": 89.05412328,
             "remaining_time": 29.52660013,
             "test": [
              0.6720914867,
              0.1517508541
             ]
            },
            {
             "iteration": 1502,
             "learn": [
              0.09841257301
             ],
             "passed_time": 89.11342936,
             "remaining_time": 29.46731497,
             "test": [
              0.6720908069,
              0.1517531918
             ]
            },
            {
             "iteration": 1503,
             "learn": [
              0.09828866298
             ],
             "passed_time": 89.17850429,
             "remaining_time": 29.40993227,
             "test": [
              0.6730309338,
              0.1517202804
             ]
            },
            {
             "iteration": 1504,
             "learn": [
              0.09827133534
             ],
             "passed_time": 89.23685305,
             "remaining_time": 29.35032708,
             "test": [
              0.6730309338,
              0.1517205489
             ]
            },
            {
             "iteration": 1505,
             "learn": [
              0.09817806267
             ],
             "passed_time": 89.30271455,
             "remaining_time": 29.29318791,
             "test": [
              0.6730180181,
              0.1517104008
             ]
            },
            {
             "iteration": 1506,
             "learn": [
              0.09816032784
             ],
             "passed_time": 89.36264871,
             "remaining_time": 29.23409809,
             "test": [
              0.6730180181,
              0.1517105848
             ]
            },
            {
             "iteration": 1507,
             "learn": [
              0.09814264972
             ],
             "passed_time": 89.4262127,
             "remaining_time": 29.17619141,
             "test": [
              0.6730180181,
              0.1517107907
             ]
            },
            {
             "iteration": 1508,
             "learn": [
              0.09812498372
             ],
             "passed_time": 89.48692556,
             "remaining_time": 29.11734954,
             "test": [
              0.6730173383,
              0.151713895
             ]
            },
            {
             "iteration": 1509,
             "learn": [
              0.09810733464
             ],
             "passed_time": 89.54464033,
             "remaining_time": 29.05753229,
             "test": [
              0.6730173383,
              0.1517141451
             ]
            },
            {
             "iteration": 1510,
             "learn": [
              0.0980619689
             ],
             "passed_time": 89.60722595,
             "remaining_time": 28.99929417,
             "test": [
              0.6729588778,
              0.1517218745
             ]
            },
            {
             "iteration": 1511,
             "learn": [
              0.09804432798
             ],
             "passed_time": 89.66585909,
             "remaining_time": 28.93977463,
             "test": [
              0.6729575182,
              0.1517231658
             ]
            },
            {
             "iteration": 1512,
             "learn": [
              0.09802671429
             ],
             "passed_time": 89.72578342,
             "remaining_time": 28.88067186,
             "test": [
              0.6729575182,
              0.1517234453
             ]
            },
            {
             "iteration": 1513,
             "learn": [
              0.09800909295
             ],
             "passed_time": 89.78797297,
             "remaining_time": 28.82229515,
             "test": [
              0.6729575182,
              0.1517237442
             ]
            },
            {
             "iteration": 1514,
             "learn": [
              0.0979914808
             ],
             "passed_time": 89.84647473,
             "remaining_time": 28.76273283,
             "test": [
              0.6729575182,
              0.1517240616
             ]
            },
            {
             "iteration": 1515,
             "learn": [
              0.09797386945
             ],
             "passed_time": 89.90509582,
             "remaining_time": 28.70321001,
             "test": [
              0.6729575182,
              0.1517243965
             ]
            },
            {
             "iteration": 1516,
             "learn": [
              0.09795627139
             ],
             "passed_time": 89.96404612,
             "remaining_time": 28.64379319,
             "test": [
              0.6729575182,
              0.1517247478
             ]
            },
            {
             "iteration": 1517,
             "learn": [
              0.09793869437
             ],
             "passed_time": 90.0228768,
             "remaining_time": 28.58433901,
             "test": [
              0.6729568385,
              0.1517283925
             ]
            },
            {
             "iteration": 1518,
             "learn": [
              0.09792115498
             ],
             "passed_time": 90.07960196,
             "remaining_time": 28.52421892,
             "test": [
              0.6729568385,
              0.1517287737
             ]
            },
            {
             "iteration": 1519,
             "learn": [
              0.09790360744
             ],
             "passed_time": 90.15926369,
             "remaining_time": 28.47134643,
             "test": [
              0.6729568385,
              0.151729169
             ]
            },
            {
             "iteration": 1520,
             "learn": [
              0.09788607736
             ],
             "passed_time": 90.22749086,
             "remaining_time": 28.41483769,
             "test": [
              0.6729568385,
              0.1517295778
             ]
            },
            {
             "iteration": 1521,
             "learn": [
              0.09786855273
             ],
             "passed_time": 90.28469669,
             "remaining_time": 28.35485218,
             "test": [
              0.6729568385,
              0.1517299995
             ]
            },
            {
             "iteration": 1522,
             "learn": [
              0.09785102301
             ],
             "passed_time": 90.34079715,
             "remaining_time": 28.29452412,
             "test": [
              0.6729568385,
              0.1517304334
             ]
            },
            {
             "iteration": 1523,
             "learn": [
              0.097833527
             ],
             "passed_time": 90.39776626,
             "remaining_time": 28.23447293,
             "test": [
              0.6729568385,
              0.151730879
             ]
            },
            {
             "iteration": 1524,
             "learn": [
              0.09781602723
             ],
             "passed_time": 90.45510683,
             "remaining_time": 28.17454147,
             "test": [
              0.6729568385,
              0.1517313356
             ]
            },
            {
             "iteration": 1525,
             "learn": [
              0.09779854316
             ],
             "passed_time": 90.51329518,
             "remaining_time": 28.11487675,
             "test": [
              0.6729568385,
              0.1517318024
             ]
            },
            {
             "iteration": 1526,
             "learn": [
              0.09778107077
             ],
             "passed_time": 90.57737537,
             "remaining_time": 28.057039,
             "test": [
              0.6729568385,
              0.1517322792
             ]
            },
            {
             "iteration": 1527,
             "learn": [
              0.0977041914
             ],
             "passed_time": 90.64271234,
             "remaining_time": 27.9995813,
             "test": [
              0.6729493609,
              0.1517407415
             ]
            },
            {
             "iteration": 1528,
             "learn": [
              0.09768482354
             ],
             "passed_time": 90.70461834,
             "remaining_time": 27.9410564,
             "test": [
              0.6729493609,
              0.1517413922
             ]
            },
            {
             "iteration": 1529,
             "learn": [
              0.0976673544
             ],
             "passed_time": 90.76169917,
             "remaining_time": 27.88104484,
             "test": [
              0.6729493609,
              0.1517418515
             ]
            },
            {
             "iteration": 1530,
             "learn": [
              0.09764930389
             ],
             "passed_time": 90.81705747,
             "remaining_time": 27.82050944,
             "test": [
              0.6729493609,
              0.1517423544
             ]
            },
            {
             "iteration": 1531,
             "learn": [
              0.09763187492
             ],
             "passed_time": 90.87223649,
             "remaining_time": 27.75992603,
             "test": [
              0.6729493609,
              0.1517428304
             ]
            },
            {
             "iteration": 1532,
             "learn": [
              0.09761445911
             ],
             "passed_time": 90.92842591,
             "remaining_time": 27.69965747,
             "test": [
              0.6729486812,
              0.1517448405
             ]
            },
            {
             "iteration": 1533,
             "learn": [
              0.09759811385
             ],
             "passed_time": 90.9853029,
             "remaining_time": 27.6396031,
             "test": [
              0.6729446025,
              0.1517483165
             ]
            },
            {
             "iteration": 1534,
             "learn": [
              0.09758071582
             ],
             "passed_time": 91.04304425,
             "remaining_time": 27.57981471,
             "test": [
              0.6729439228,
              0.1517548186
             ]
            },
            {
             "iteration": 1535,
             "learn": [
              0.09756332412
             ],
             "passed_time": 91.10396969,
             "remaining_time": 27.52099084,
             "test": [
              0.6729439228,
              0.1517553322
             ]
            },
            {
             "iteration": 1536,
             "learn": [
              0.09754594726
             ],
             "passed_time": 91.16782864,
             "remaining_time": 27.46304792,
             "test": [
              0.6729439228,
              0.1517558536
             ]
            },
            {
             "iteration": 1537,
             "learn": [
              0.09752856848
             ],
             "passed_time": 91.22563532,
             "remaining_time": 27.40327927,
             "test": [
              0.6729439228,
              0.1517563827
             ]
            },
            {
             "iteration": 1538,
             "learn": [
              0.09751120686
             ],
             "passed_time": 91.28315281,
             "remaining_time": 27.34342654,
             "test": [
              0.6729439228,
              0.1517569191
             ]
            },
            {
             "iteration": 1539,
             "learn": [
              0.09749384139
             ],
             "passed_time": 91.33893394,
             "remaining_time": 27.28305819,
             "test": [
              0.6729439228,
              0.1517574622
             ]
            },
            {
             "iteration": 1540,
             "learn": [
              0.09747650362
             ],
             "passed_time": 91.39593318,
             "remaining_time": 27.22305862,
             "test": [
              0.6729439228,
              0.1517580119
             ]
            },
            {
             "iteration": 1541,
             "learn": [
              0.09745915171
             ],
             "passed_time": 91.45307859,
             "remaining_time": 27.16310635,
             "test": [
              0.6729391643,
              0.1517597803
             ]
            },
            {
             "iteration": 1542,
             "learn": [
              0.09744158206
             ],
             "passed_time": 91.5158435,
             "remaining_time": 27.10482209,
             "test": [
              0.6729330464,
              0.1517606575
             ]
            },
            {
             "iteration": 1543,
             "learn": [
              0.09742428111
             ],
             "passed_time": 91.5757095,
             "remaining_time": 27.04567586,
             "test": [
              0.6729330464,
              0.1517612227
             ]
            },
            {
             "iteration": 1544,
             "learn": [
              0.09740694015
             ],
             "passed_time": 91.63171775,
             "remaining_time": 26.98539261,
             "test": [
              0.6729330464,
              0.1517617934
             ]
            },
            {
             "iteration": 1545,
             "learn": [
              0.09738964618
             ],
             "passed_time": 91.68832608,
             "remaining_time": 26.9252911,
             "test": [
              0.6729330464,
              0.1517623693
             ]
            },
            {
             "iteration": 1546,
             "learn": [
              0.09737233039
             ],
             "passed_time": 91.74411413,
             "remaining_time": 26.86495391,
             "test": [
              0.6729330464,
              0.1517629501
             ]
            },
            {
             "iteration": 1547,
             "learn": [
              0.09735502757
             ],
             "passed_time": 91.80040313,
             "remaining_time": 26.80476887,
             "test": [
              0.6729330464,
              0.1517635358
             ]
            },
            {
             "iteration": 1548,
             "learn": [
              0.09733776418
             ],
             "passed_time": 91.85642622,
             "remaining_time": 26.74451144,
             "test": [
              0.6729330464,
              0.1517641261
             ]
            },
            {
             "iteration": 1549,
             "learn": [
              0.09732046026
             ],
             "passed_time": 91.91361816,
             "remaining_time": 26.68459882,
             "test": [
              0.6729330464,
              0.1517647208
             ]
            },
            {
             "iteration": 1550,
             "learn": [
              0.09730321157
             ],
             "passed_time": 91.97383195,
             "remaining_time": 26.6255645,
             "test": [
              0.6729330464,
              0.1517653193
             ]
            },
            {
             "iteration": 1551,
             "learn": [
              0.09728594607
             ],
             "passed_time": 92.03018403,
             "remaining_time": 26.56541395,
             "test": [
              0.6729330464,
              0.1517659216
             ]
            },
            {
             "iteration": 1552,
             "learn": [
              0.09726872061
             ],
             "passed_time": 92.08706865,
             "remaining_time": 26.50542156,
             "test": [
              0.6729330464,
              0.1517665276
             ]
            },
            {
             "iteration": 1553,
             "learn": [
              0.09725147059
             ],
             "passed_time": 92.14229799,
             "remaining_time": 26.44495811,
             "test": [
              0.6729330464,
              0.1517671373
             ]
            },
            {
             "iteration": 1554,
             "learn": [
              0.09723426076
             ],
             "passed_time": 92.19830946,
             "remaining_time": 26.38472521,
             "test": [
              0.6729330464,
              0.1517677499
             ]
            },
            {
             "iteration": 1555,
             "learn": [
              0.0972170787
             ],
             "passed_time": 92.25854249,
             "remaining_time": 26.32570236,
             "test": [
              0.6729330464,
              0.151768366
             ]
            },
            {
             "iteration": 1556,
             "learn": [
              0.09719988516
             ],
             "passed_time": 92.32037591,
             "remaining_time": 26.26713329,
             "test": [
              0.6729330464,
              0.1517689853
             ]
            },
            {
             "iteration": 1557,
             "learn": [
              0.09718269837
             ],
             "passed_time": 92.38182364,
             "remaining_time": 26.20845061,
             "test": [
              0.6729330464,
              0.1517696078
             ]
            },
            {
             "iteration": 1558,
             "learn": [
              0.09716551641
             ],
             "passed_time": 92.43970216,
             "remaining_time": 26.14875475,
             "test": [
              0.672928288,
              0.151771051
             ]
            },
            {
             "iteration": 1559,
             "learn": [
              0.09714835971
             ],
             "passed_time": 92.49731814,
             "remaining_time": 26.08898717,
             "test": [
              0.672928288,
              0.1517716792
             ]
            },
            {
             "iteration": 1560,
             "learn": [
              0.09713120389
             ],
             "passed_time": 92.55326877,
             "remaining_time": 26.028754,
             "test": [
              0.672928288,
              0.1517723103
             ]
            },
            {
             "iteration": 1561,
             "learn": [
              0.09711404645
             ],
             "passed_time": 92.6103623,
             "remaining_time": 25.96884679,
             "test": [
              0.672928288,
              0.151772944
             ]
            },
            {
             "iteration": 1562,
             "learn": [
              0.0970968976
             ],
             "passed_time": 92.66693147,
             "remaining_time": 25.90879658,
             "test": [
              0.6729316868,
              0.1517621857
             ]
            },
            {
             "iteration": 1563,
             "learn": [
              0.0970797545
             ],
             "passed_time": 92.72509828,
             "remaining_time": 25.84919619,
             "test": [
              0.6729316868,
              0.1517628239
             ]
            },
            {
             "iteration": 1564,
             "learn": [
              0.0970626515
             ],
             "passed_time": 92.78419432,
             "remaining_time": 25.78985593,
             "test": [
              0.6729316868,
              0.1517634643
             ]
            },
            {
             "iteration": 1565,
             "learn": [
              0.09704553934
             ],
             "passed_time": 92.84296908,
             "remaining_time": 25.73042694,
             "test": [
              0.6729316868,
              0.1517679386
             ]
            },
            {
             "iteration": 1566,
             "learn": [
              0.09702841408
             ],
             "passed_time": 92.90281649,
             "remaining_time": 25.67129518,
             "test": [
              0.6729316868,
              0.1517685834
             ]
            },
            {
             "iteration": 1567,
             "learn": [
              0.09701134394
             ],
             "passed_time": 92.96105122,
             "remaining_time": 25.61171819,
             "test": [
              0.6729316868,
              0.1517739603
             ]
            },
            {
             "iteration": 1568,
             "learn": [
              0.09699423191
             ],
             "passed_time": 93.02163662,
             "remaining_time": 25.55278864,
             "test": [
              0.6729316868,
              0.1517746088
             ]
            },
            {
             "iteration": 1569,
             "learn": [
              0.09697842591
             ],
             "passed_time": 93.08565118,
             "remaining_time": 25.49479618,
             "test": [
              0.6729303273,
              0.1517757086
             ]
            },
            {
             "iteration": 1570,
             "learn": [
              0.0969613592
             ],
             "passed_time": 93.15231426,
             "remaining_time": 25.4375193,
             "test": [
              0.6729303273,
              0.1517763633
             ]
            },
            {
             "iteration": 1571,
             "learn": [
              0.09694428953
             ],
             "passed_time": 93.22116596,
             "remaining_time": 25.38082636,
             "test": [
              0.6729303273,
              0.1517770197
             ]
            },
            {
             "iteration": 1572,
             "learn": [
              0.09692724019
             ],
             "passed_time": 93.28830936,
             "remaining_time": 25.32365423,
             "test": [
              0.6729303273,
              0.1517776776
             ]
            },
            {
             "iteration": 1573,
             "learn": [
              0.09691057396
             ],
             "passed_time": 93.35682928,
             "remaining_time": 25.26684198,
             "test": [
              0.6729303273,
              0.1517783272
             ]
            },
            {
             "iteration": 1574,
             "learn": [
              0.09689354443
             ],
             "passed_time": 93.41976849,
             "remaining_time": 25.20850896,
             "test": [
              0.6729303273,
              0.1517789884
             ]
            },
            {
             "iteration": 1575,
             "learn": [
              0.09687652818
             ],
             "passed_time": 93.49264256,
             "remaining_time": 25.15284292,
             "test": [
              0.6729303273,
              0.1517796507
             ]
            },
            {
             "iteration": 1576,
             "learn": [
              0.09685952508
             ],
             "passed_time": 93.5883652,
             "remaining_time": 25.10328375,
             "test": [
              0.6729303273,
              0.1517803144
             ]
            },
            {
             "iteration": 1577,
             "learn": [
              0.09684253308
             ],
             "passed_time": 93.70756682,
             "remaining_time": 25.05994499,
             "test": [
              0.6729303273,
              0.1517809796
             ]
            },
            {
             "iteration": 1578,
             "learn": [
              0.09682554801
             ],
             "passed_time": 93.78786875,
             "remaining_time": 25.00613853,
             "test": [
              0.6729303273,
              0.151781646
             ]
            },
            {
             "iteration": 1579,
             "learn": [
              0.09680858012
             ],
             "passed_time": 93.85468828,
             "remaining_time": 24.94871461,
             "test": [
              0.6729303273,
              0.1517823138
             ]
            },
            {
             "iteration": 1580,
             "learn": [
              0.09679161865
             ],
             "passed_time": 93.91966471,
             "remaining_time": 24.89079033,
             "test": [
              0.6729269284,
              0.151788481
             ]
            },
            {
             "iteration": 1581,
             "learn": [
              0.09677467336
             ],
             "passed_time": 93.98635644,
             "remaining_time": 24.83331036,
             "test": [
              0.6730119001,
              0.1517751446
             ]
            },
            {
             "iteration": 1582,
             "learn": [
              0.09675771974
             ],
             "passed_time": 94.05221844,
             "remaining_time": 24.77560018,
             "test": [
              0.6730119001,
              0.1517796893
             ]
            },
            {
             "iteration": 1583,
             "learn": [
              0.09674082336
             ],
             "passed_time": 94.1146109,
             "remaining_time": 24.71696852,
             "test": [
              0.6730119001,
              0.1517803606
             ]
            },
            {
             "iteration": 1584,
             "learn": [
              0.09672389358
             ],
             "passed_time": 94.17754077,
             "remaining_time": 24.65847282,
             "test": [
              0.6730119001,
              0.1517829884
             ]
            },
            {
             "iteration": 1585,
             "learn": [
              0.09670701365
             ],
             "passed_time": 94.24003206,
             "remaining_time": 24.59985705,
             "test": [
              0.6730119001,
              0.1517836616
             ]
            },
            {
             "iteration": 1586,
             "learn": [
              0.09669009304
             ],
             "passed_time": 94.30589315,
             "remaining_time": 24.54211334,
             "test": [
              0.6730119001,
              0.151784336
             ]
            },
            {
             "iteration": 1587,
             "learn": [
              0.09667322983
             ],
             "passed_time": 94.36764045,
             "remaining_time": 24.48329211,
             "test": [
              0.6730119001,
              0.1517850116
             ]
            },
            {
             "iteration": 1588,
             "learn": [
              0.09665635396
             ],
             "passed_time": 94.42572738,
             "remaining_time": 24.42352042,
             "test": [
              0.6730119001,
              0.1517856883
             ]
            },
            {
             "iteration": 1589,
             "learn": [
              0.09663977125
             ],
             "passed_time": 94.48234163,
             "remaining_time": 24.36337111,
             "test": [
              0.6730010237,
              0.1517874912
             ]
            },
            {
             "iteration": 1590,
             "learn": [
              0.09662288869
             ],
             "passed_time": 94.54066619,
             "remaining_time": 24.30366591,
             "test": [
              0.6730010237,
              0.1517881707
             ]
            },
            {
             "iteration": 1591,
             "learn": [
              0.09660606055
             ],
             "passed_time": 94.59889325,
             "remaining_time": 24.24393746,
             "test": [
              0.6730010237,
              0.1517888512
             ]
            },
            {
             "iteration": 1592,
             "learn": [
              0.09658920645
             ],
             "passed_time": 94.65576474,
             "remaining_time": 24.18386456,
             "test": [
              0.6730010237,
              0.1517995078
             ]
            },
            {
             "iteration": 1593,
             "learn": [
              0.09652237616
             ],
             "passed_time": 94.72333784,
             "remaining_time": 24.12652143,
             "test": [
              0.6735516404,
              0.1517813837
             ]
            },
            {
             "iteration": 1594,
             "learn": [
              0.09650549123
             ],
             "passed_time": 94.78156873,
             "remaining_time": 24.06679331,
             "test": [
              0.6735516404,
              0.1517819505
             ]
            },
            {
             "iteration": 1595,
             "learn": [
              0.09648861664
             ],
             "passed_time": 94.84303583,
             "remaining_time": 24.00788626,
             "test": [
              0.6735516404,
              0.1517825237
             ]
            },
            {
             "iteration": 1596,
             "learn": [
              0.09647176619
             ],
             "passed_time": 94.90540354,
             "remaining_time": 23.94920327,
             "test": [
              0.6735516404,
              0.1517831032
             ]
            },
            {
             "iteration": 1597,
             "learn": [
              0.09645495872
             ],
             "passed_time": 94.9663061,
             "remaining_time": 23.89014709,
             "test": [
              0.6735509606,
              0.1517907395
             ]
            },
            {
             "iteration": 1598,
             "learn": [
              0.09643811716
             ],
             "passed_time": 95.02455158,
             "remaining_time": 23.83042225,
             "test": [
              0.6735509606,
              0.1517913292
             ]
            },
            {
             "iteration": 1599,
             "learn": [
              0.09642035437
             ],
             "passed_time": 95.08195352,
             "remaining_time": 23.77048838,
             "test": [
              0.6737039096,
              0.1517802958
             ]
            },
            {
             "iteration": 1600,
             "learn": [
              0.09640354991
             ],
             "passed_time": 95.14155677,
             "remaining_time": 23.71110628,
             "test": [
              0.6737025501,
              0.1517843217
             ]
            },
            {
             "iteration": 1601,
             "learn": [
              0.09638677823
             ],
             "passed_time": 95.19940304,
             "remaining_time": 23.6512874,
             "test": [
              0.6737025501,
              0.151784931
             ]
            },
            {
             "iteration": 1602,
             "learn": [
              0.0963699993
             ],
             "passed_time": 95.26391718,
             "remaining_time": 23.59312235,
             "test": [
              0.6737025501,
              0.1517855453
             ]
            },
            {
             "iteration": 1603,
             "learn": [
              0.09631129815
             ],
             "passed_time": 95.32556461,
             "remaining_time": 23.53424164,
             "test": [
              0.6738181116,
              0.1517822813
             ]
            },
            {
             "iteration": 1604,
             "learn": [
              0.0962945405
             ],
             "passed_time": 95.39364879,
             "remaining_time": 23.4769416,
             "test": [
              0.6738181116,
              0.1517828798
             ]
            },
            {
             "iteration": 1605,
             "learn": [
              0.09625415234
             ],
             "passed_time": 95.45495618,
             "remaining_time": 23.41796559,
             "test": [
              0.6738942463,
              0.1517805376
             ]
            },
            {
             "iteration": 1606,
             "learn": [
              0.09623739826
             ],
             "passed_time": 95.51352615,
             "remaining_time": 23.35831722,
             "test": [
              0.6738942463,
              0.1517811646
             ]
            },
            {
             "iteration": 1607,
             "learn": [
              0.09622064177
             ],
             "passed_time": 95.56950028,
             "remaining_time": 23.29803738,
             "test": [
              0.6738942463,
              0.1517847879
             ]
            },
            {
             "iteration": 1608,
             "learn": [
              0.09620388092
             ],
             "passed_time": 95.62597928,
             "remaining_time": 23.23788558,
             "test": [
              0.6738942463,
              0.1517854229
             ]
            },
            {
             "iteration": 1609,
             "learn": [
              0.09618713408
             ],
             "passed_time": 95.68307685,
             "remaining_time": 23.17788818,
             "test": [
              0.6738922069,
              0.1517905985
             ]
            },
            {
             "iteration": 1610,
             "learn": [
              0.09617042138
             ],
             "passed_time": 95.74088696,
             "remaining_time": 23.11806643,
             "test": [
              0.6738922069,
              0.1517912404
             ]
            },
            {
             "iteration": 1611,
             "learn": [
              0.0961536962
             ],
             "passed_time": 95.79888127,
             "remaining_time": 23.05829152,
             "test": [
              0.6738901676,
              0.1517981396
             ]
            },
            {
             "iteration": 1612,
             "learn": [
              0.09613698442
             ],
             "passed_time": 95.85403541,
             "remaining_time": 22.99783739,
             "test": [
              0.6738901676,
              0.1517987879
             ]
            },
            {
             "iteration": 1613,
             "learn": [
              0.09612029084
             ],
             "passed_time": 95.90899259,
             "remaining_time": 22.93734271,
             "test": [
              0.6738901676,
              0.151799439
             ]
            },
            {
             "iteration": 1614,
             "learn": [
              0.09610358209
             ],
             "passed_time": 95.9682286,
             "remaining_time": 22.87787493,
             "test": [
              0.6738901676,
              0.1518000931
             ]
            },
            {
             "iteration": 1615,
             "learn": [
              0.09608692603
             ],
             "passed_time": 96.02750331,
             "remaining_time": 22.81841663,
             "test": [
              0.6738901676,
              0.15180075
             ]
            },
            {
             "iteration": 1616,
             "learn": [
              0.09607024742
             ],
             "passed_time": 96.08695485,
             "remaining_time": 22.75900044,
             "test": [
              0.6738894878,
              0.1518026924
             ]
            },
            {
             "iteration": 1617,
             "learn": [
              0.09605360382
             ],
             "passed_time": 96.14583127,
             "remaining_time": 22.69944842,
             "test": [
              0.6738894878,
              0.1518033548
             ]
            },
            {
             "iteration": 1618,
             "learn": [
              0.09603695669
             ],
             "passed_time": 96.20608647,
             "remaining_time": 22.64022171,
             "test": [
              0.6738894878,
              0.1518040198
             ]
            },
            {
             "iteration": 1619,
             "learn": [
              0.09598251394
             ],
             "passed_time": 96.2756758,
             "remaining_time": 22.58318321,
             "test": [
              0.6738554992,
              0.1518054115
             ]
            },
            {
             "iteration": 1620,
             "learn": [
              0.09596585211
             ],
             "passed_time": 96.33516688,
             "remaining_time": 22.5237682,
             "test": [
              0.6738554992,
              0.1518060633
             ]
            },
            {
             "iteration": 1621,
             "learn": [
              0.0959492195
             ],
             "passed_time": 96.39400176,
             "remaining_time": 22.46420016,
             "test": [
              0.6738554992,
              0.1518067186
             ]
            },
            {
             "iteration": 1622,
             "learn": [
              0.095932611
             ],
             "passed_time": 96.4520969,
             "remaining_time": 22.4044612,
             "test": [
              0.6738554992,
              0.1518073769
             ]
            },
            {
             "iteration": 1623,
             "learn": [
              0.0959159525
             ],
             "passed_time": 96.51969184,
             "remaining_time": 22.34692373,
             "test": [
              0.6738554992,
              0.1518080385
             ]
            },
            {
             "iteration": 1624,
             "learn": [
              0.09580275919
             ],
             "passed_time": 96.59350815,
             "remaining_time": 22.29080957,
             "test": [
              0.674297352,
              0.1518294628
             ]
            },
            {
             "iteration": 1625,
             "learn": [
              0.09578606553
             ],
             "passed_time": 96.65220203,
             "remaining_time": 22.2311953,
             "test": [
              0.674297352,
              0.151829903
             ]
            },
            {
             "iteration": 1626,
             "learn": [
              0.09576941388
             ],
             "passed_time": 96.71341568,
             "remaining_time": 22.17215983,
             "test": [
              0.674297352,
              0.1518303548
             ]
            },
            {
             "iteration": 1627,
             "learn": [
              0.09575276879
             ],
             "passed_time": 96.77217443,
             "remaining_time": 22.11256074,
             "test": [
              0.674297352,
              0.1518308206
             ]
            },
            {
             "iteration": 1628,
             "learn": [
              0.0957361584
             ],
             "passed_time": 96.82979863,
             "remaining_time": 22.05270429,
             "test": [
              0.674297352,
              0.1518312989
             ]
            },
            {
             "iteration": 1629,
             "learn": [
              0.09571954767
             ],
             "passed_time": 96.8858063,
             "remaining_time": 21.99248364,
             "test": [
              0.674297352,
              0.1518317898
             ]
            },
            {
             "iteration": 1630,
             "learn": [
              0.09570297815
             ],
             "passed_time": 96.94102623,
             "remaining_time": 21.93208993,
             "test": [
              0.674297352,
              0.1518322925
             ]
            },
            {
             "iteration": 1631,
             "learn": [
              0.09568638268
             ],
             "passed_time": 96.99804009,
             "remaining_time": 21.87210708,
             "test": [
              0.674297352,
              0.1518328065
             ]
            },
            {
             "iteration": 1632,
             "learn": [
              0.09566980496
             ],
             "passed_time": 97.05348294,
             "remaining_time": 21.81177479,
             "test": [
              0.674297352,
              0.1518333308
             ]
            },
            {
             "iteration": 1633,
             "learn": [
              0.09565327466
             ],
             "passed_time": 97.10913537,
             "remaining_time": 21.75149544,
             "test": [
              0.674297352,
              0.1518338654
             ]
            },
            {
             "iteration": 1634,
             "learn": [
              0.09563673636
             ],
             "passed_time": 97.16730563,
             "remaining_time": 21.69178383,
             "test": [
              0.6742939531,
              0.151835279
             ]
            },
            {
             "iteration": 1635,
             "learn": [
              0.09562020131
             ],
             "passed_time": 97.22521278,
             "remaining_time": 21.63201556,
             "test": [
              0.6742939531,
              0.1518358324
             ]
            },
            {
             "iteration": 1636,
             "learn": [
              0.09560366892
             ],
             "passed_time": 97.28516944,
             "remaining_time": 21.57270404,
             "test": [
              0.6742939531,
              0.1518363948
             ]
            },
            {
             "iteration": 1637,
             "learn": [
              0.09558716182
             ],
             "passed_time": 97.34420811,
             "remaining_time": 21.51318885,
             "test": [
              0.6742939531,
              0.1518369657
             ]
            },
            {
             "iteration": 1638,
             "learn": [
              0.09557064947
             ],
             "passed_time": 97.40136181,
             "remaining_time": 21.45325907,
             "test": [
              0.6742939531,
              0.1518375448
             ]
            },
            {
             "iteration": 1639,
             "learn": [
              0.09555417663
             ],
             "passed_time": 97.4603894,
             "remaining_time": 21.39374401,
             "test": [
              0.6742939531,
              0.1518381315
             ]
            },
            {
             "iteration": 1640,
             "learn": [
              0.09553767306
             ],
             "passed_time": 97.52012202,
             "remaining_time": 21.33438379,
             "test": [
              0.6742939531,
              0.1518387255
             ]
            },
            {
             "iteration": 1641,
             "learn": [
              0.0955211751
             ],
             "passed_time": 97.57790054,
             "remaining_time": 21.27459707,
             "test": [
              0.6742939531,
              0.1518393264
             ]
            },
            {
             "iteration": 1642,
             "learn": [
              0.09550472847
             ],
             "passed_time": 97.63501128,
             "remaining_time": 21.2146677,
             "test": [
              0.6742939531,
              0.151839934
             ]
            },
            {
             "iteration": 1643,
             "learn": [
              0.09548824672
             ],
             "passed_time": 97.6909997,
             "remaining_time": 21.15449872,
             "test": [
              0.6742939531,
              0.151840548
             ]
            },
            {
             "iteration": 1644,
             "learn": [
              0.09547180234
             ],
             "passed_time": 97.75208243,
             "remaining_time": 21.0954342,
             "test": [
              0.6742939531,
              0.1518411678
             ]
            },
            {
             "iteration": 1645,
             "learn": [
              0.09545536018
             ],
             "passed_time": 97.81385869,
             "remaining_time": 21.03651639,
             "test": [
              0.6742939531,
              0.1518417932
             ]
            },
            {
             "iteration": 1646,
             "learn": [
              0.09543891539
             ],
             "passed_time": 97.87374377,
             "remaining_time": 20.97718977,
             "test": [
              0.6742939531,
              0.151842424
             ]
            },
            {
             "iteration": 1647,
             "learn": [
              0.09542252502
             ],
             "passed_time": 97.93442271,
             "remaining_time": 20.91803204,
             "test": [
              0.6742959925,
              0.151832148
             ]
            },
            {
             "iteration": 1648,
             "learn": [
              0.09540610146
             ],
             "passed_time": 97.99241306,
             "remaining_time": 20.85830017,
             "test": [
              0.6742959925,
              0.1518327883
             ]
            },
            {
             "iteration": 1649,
             "learn": [
              0.09538973241
             ],
             "passed_time": 98.05032263,
             "remaining_time": 20.79855328,
             "test": [
              0.6742959925,
              0.151833433
             ]
            },
            {
             "iteration": 1650,
             "learn": [
              0.09537337187
             ],
             "passed_time": 98.10786873,
             "remaining_time": 20.73873179,
             "test": [
              0.6742959925,
              0.1518340819
             ]
            },
            {
             "iteration": 1651,
             "learn": [
              0.0953569818
             ],
             "passed_time": 98.16870934,
             "remaining_time": 20.67960705,
             "test": [
              0.6742959925,
              0.1518347353
             ]
            },
            {
             "iteration": 1652,
             "learn": [
              0.09534065505
             ],
             "passed_time": 98.22575262,
             "remaining_time": 20.6196831,
             "test": [
              0.6742959925,
              0.1518353929
             ]
            },
            {
             "iteration": 1653,
             "learn": [
              0.09532432213
             ],
             "passed_time": 98.28550016,
             "remaining_time": 20.56032833,
             "test": [
              0.6742959925,
              0.1518360543
             ]
            },
            {
             "iteration": 1654,
             "learn": [
              0.09530799856
             ],
             "passed_time": 98.34884473,
             "remaining_time": 20.50172292,
             "test": [
              0.6742959925,
              0.1518367194
             ]
            },
            {
             "iteration": 1655,
             "learn": [
              0.09529168271
             ],
             "passed_time": 98.49875428,
             "remaining_time": 20.46109388,
             "test": [
              0.6742959925,
              0.1518373882
             ]
            },
            {
             "iteration": 1656,
             "learn": [
              0.09527539308
             ],
             "passed_time": 98.55556269,
             "remaining_time": 20.40106096,
             "test": [
              0.6744237899,
              0.1518284189
             ]
            },
            {
             "iteration": 1657,
             "learn": [
              0.09523050438
             ],
             "passed_time": 98.61909193,
             "remaining_time": 20.34241824,
             "test": [
              0.6746372388,
              0.1518204828
             ]
            },
            {
             "iteration": 1658,
             "learn": [
              0.09521420587
             ],
             "passed_time": 98.67802777,
             "remaining_time": 20.28282548,
             "test": [
              0.6746372388,
              0.1518211384
             ]
            },
            {
             "iteration": 1659,
             "learn": [
              0.0951978849
             ],
             "passed_time": 98.73535463,
             "remaining_time": 20.22290396,
             "test": [
              0.6746372388,
              0.1518217983
             ]
            },
            {
             "iteration": 1660,
             "learn": [
              0.09518161652
             ],
             "passed_time": 98.79501238,
             "remaining_time": 20.16346129,
             "test": [
              0.6746372388,
              0.1518224625
             ]
            },
            {
             "iteration": 1661,
             "learn": [
              0.09516532257
             ],
             "passed_time": 98.85489087,
             "remaining_time": 20.10406325,
             "test": [
              0.6746372388,
              0.1518231304
             ]
            },
            {
             "iteration": 1662,
             "learn": [
              0.09514947115
             ],
             "passed_time": 98.91827932,
             "remaining_time": 20.04537591,
             "test": [
              0.6746372388,
              0.1518237902
             ]
            },
            {
             "iteration": 1663,
             "learn": [
              0.09513321755
             ],
             "passed_time": 98.98711411,
             "remaining_time": 19.98778266,
             "test": [
              0.6746372388,
              0.1518244661
             ]
            },
            {
             "iteration": 1664,
             "learn": [
              0.09511697258
             ],
             "passed_time": 99.05706655,
             "remaining_time": 19.93040078,
             "test": [
              0.6746351995,
              0.1518300304
             ]
            },
            {
             "iteration": 1665,
             "learn": [
              0.09510071058
             ],
             "passed_time": 99.11957881,
             "remaining_time": 19.8715122,
             "test": [
              0.6746351995,
              0.1518307126
             ]
            },
            {
             "iteration": 1666,
             "learn": [
              0.09508450088
             ],
             "passed_time": 99.1797783,
             "remaining_time": 19.81215727,
             "test": [
              0.6746351995,
              0.1518313978
             ]
            },
            {
             "iteration": 1667,
             "learn": [
              0.0950683064
             ],
             "passed_time": 99.23628854,
             "remaining_time": 19.75206702,
             "test": [
              0.6746351995,
              0.1518320859
             ]
            },
            {
             "iteration": 1668,
             "learn": [
              0.0950520676
             ],
             "passed_time": 99.29202376,
             "remaining_time": 19.69182736,
             "test": [
              0.6746351995,
              0.1518327766
             ]
            },
            {
             "iteration": 1669,
             "learn": [
              0.09500479217
             ],
             "passed_time": 99.35508759,
             "remaining_time": 19.63304126,
             "test": [
              0.6746467556,
              0.1518357424
             ]
            },
            {
             "iteration": 1670,
             "learn": [
              0.09498859136
             ],
             "passed_time": 99.41559491,
             "remaining_time": 19.57374669,
             "test": [
              0.6746467556,
              0.1518403751
             ]
            },
            {
             "iteration": 1671,
             "learn": [
              0.09497242659
             ],
             "passed_time": 99.47282627,
             "remaining_time": 19.51380802,
             "test": [
              0.6746467556,
              0.1518410404
             ]
            },
            {
             "iteration": 1672,
             "learn": [
              0.0949562465
             ],
             "passed_time": 99.54027283,
             "remaining_time": 19.45586923,
             "test": [
              0.6746453961,
              0.1518474837
             ]
            },
            {
             "iteration": 1673,
             "learn": [
              0.09494091005
             ],
             "passed_time": 99.5954353,
             "remaining_time": 19.39552683,
             "test": [
              0.6746453961,
              0.1518481302
             ]
            },
            {
             "iteration": 1674,
             "learn": [
              0.09492476801
             ],
             "passed_time": 99.6522955,
             "remaining_time": 19.33552002,
             "test": [
              0.6746453961,
              0.1518588908
             ]
            },
            {
             "iteration": 1675,
             "learn": [
              0.09490862057
             ],
             "passed_time": 99.71080477,
             "remaining_time": 19.27583577,
             "test": [
              0.6746453961,
              0.1518595726
             ]
            },
            {
             "iteration": 1676,
             "learn": [
              0.09489206486
             ],
             "passed_time": 99.76958382,
             "remaining_time": 19.21620487,
             "test": [
              0.6746311209,
              0.1518608194
             ]
            },
            {
             "iteration": 1677,
             "learn": [
              0.09487592603
             ],
             "passed_time": 99.82500096,
             "remaining_time": 19.15592986,
             "test": [
              0.6746311209,
              0.1518615048
             ]
            },
            {
             "iteration": 1678,
             "learn": [
              0.09485978818
             ],
             "passed_time": 99.88374884,
             "remaining_time": 19.09629743,
             "test": [
              0.6746297613,
              0.1518695418
             ]
            },
            {
             "iteration": 1679,
             "learn": [
              0.09484369509
             ],
             "passed_time": 99.94007963,
             "remaining_time": 19.03620564,
             "test": [
              0.6746297613,
              0.1518702331
             ]
            },
            {
             "iteration": 1680,
             "learn": [
              0.09482756687
             ],
             "passed_time": 99.99572997,
             "remaining_time": 18.97598921,
             "test": [
              0.6746297613,
              0.1518709276
             ]
            },
            {
             "iteration": 1681,
             "learn": [
              0.09481147372
             ],
             "passed_time": 100.0527282,
             "remaining_time": 18.91603303,
             "test": [
              0.6746290815,
              0.1518751655
             ]
            },
            {
             "iteration": 1682,
             "learn": [
              0.09479536479
             ],
             "passed_time": 100.1108584,
             "remaining_time": 18.85629358,
             "test": [
              0.6746284018,
              0.1518779355
             ]
            },
            {
             "iteration": 1683,
             "learn": [
              0.09477932867
             ],
             "passed_time": 100.1671684,
             "remaining_time": 18.79621451,
             "test": [
              0.6746284018,
              0.151878637
             ]
            },
            {
             "iteration": 1684,
             "learn": [
              0.09476324765
             ],
             "passed_time": 100.2241579,
             "remaining_time": 18.73626691,
             "test": [
              0.6746284018,
              0.1518824501
             ]
            },
            {
             "iteration": 1685,
             "learn": [
              0.09474720186
             ],
             "passed_time": 100.2814028,
             "remaining_time": 18.6763704,
             "test": [
              0.6746284018,
              0.1518831567
             ]
            },
            {
             "iteration": 1686,
             "learn": [
              0.0947311491
             ],
             "passed_time": 100.3394146,
             "remaining_time": 18.61661931,
             "test": [
              0.6746284018,
              0.1518838657
             ]
            },
            {
             "iteration": 1687,
             "learn": [
              0.09471509301
             ],
             "passed_time": 100.3958069,
             "remaining_time": 18.55657095,
             "test": [
              0.6746284018,
              0.1518845773
             ]
            },
            {
             "iteration": 1688,
             "learn": [
              0.09469907154
             ],
             "passed_time": 100.4542642,
             "remaining_time": 18.49690714,
             "test": [
              0.674627722,
              0.1518869759
             ]
            },
            {
             "iteration": 1689,
             "learn": [
              0.09468303947
             ],
             "passed_time": 100.51382,
             "remaining_time": 18.43744627,
             "test": [
              0.674627722,
              0.1518902326
             ]
            },
            {
             "iteration": 1690,
             "learn": [
              0.09466701391
             ],
             "passed_time": 100.5736872,
             "remaining_time": 18.37804218,
             "test": [
              0.674627722,
              0.1518909501
             ]
            },
            {
             "iteration": 1691,
             "learn": [
              0.09465101712
             ],
             "passed_time": 100.6304177,
             "remaining_time": 18.31806658,
             "test": [
              0.674627722,
              0.1518916694
             ]
            },
            {
             "iteration": 1692,
             "learn": [
              0.09463500192
             ],
             "passed_time": 100.6864892,
             "remaining_time": 18.2579753,
             "test": [
              0.674627722,
              0.1518954378
             ]
            },
            {
             "iteration": 1693,
             "learn": [
              0.09461903237
             ],
             "passed_time": 100.7416862,
             "remaining_time": 18.1977308,
             "test": [
              0.674627722,
              0.1518961602
             ]
            },
            {
             "iteration": 1694,
             "learn": [
              0.09460305673
             ],
             "passed_time": 100.7972811,
             "remaining_time": 18.13756385,
             "test": [
              0.674627722,
              0.1518968841
             ]
            },
            {
             "iteration": 1695,
             "learn": [
              0.09458710993
             ],
             "passed_time": 100.8590229,
             "remaining_time": 18.07850411,
             "test": [
              0.674627722,
              0.1518989539
             ]
            },
            {
             "iteration": 1696,
             "learn": [
              0.09457113011
             ],
             "passed_time": 100.9191157,
             "remaining_time": 18.01914676,
             "test": [
              0.674627722,
              0.151899681
             ]
            },
            {
             "iteration": 1697,
             "learn": [
              0.09455521175
             ],
             "passed_time": 100.9780534,
             "remaining_time": 17.95958311,
             "test": [
              0.674627722,
              0.1519004097
             ]
            },
            {
             "iteration": 1698,
             "learn": [
              0.09453924743
             ],
             "passed_time": 101.0335197,
             "remaining_time": 17.8994052,
             "test": [
              0.6746270422,
              0.1519076647
             ]
            },
            {
             "iteration": 1699,
             "learn": [
              0.0945233243
             ],
             "passed_time": 101.0895417,
             "remaining_time": 17.83933088,
             "test": [
              0.6746270422,
              0.151908396
             ]
            },
            {
             "iteration": 1700,
             "learn": [
              0.09450742535
             ],
             "passed_time": 101.1457986,
             "remaining_time": 17.77930264,
             "test": [
              0.6746270422,
              0.1519091288
             ]
            },
            {
             "iteration": 1701,
             "learn": [
              0.09449149422
             ],
             "passed_time": 101.2029806,
             "remaining_time": 17.71944078,
             "test": [
              0.6746270422,
              0.1519098633
             ]
            },
            {
             "iteration": 1702,
             "learn": [
              0.09447559391
             ],
             "passed_time": 101.2616897,
             "remaining_time": 17.6598484,
             "test": [
              0.6746270422,
              0.1519105992
             ]
            },
            {
             "iteration": 1703,
             "learn": [
              0.09446060747
             ],
             "passed_time": 101.322009,
             "remaining_time": 17.60053677,
             "test": [
              0.6746270422,
              0.1519113065
             ]
            },
            {
             "iteration": 1704,
             "learn": [
              0.09444470273
             ],
             "passed_time": 101.3821248,
             "remaining_time": 17.54118875,
             "test": [
              0.6746270422,
              0.1519120472
             ]
            },
            {
             "iteration": 1705,
             "learn": [
              0.09442884277
             ],
             "passed_time": 101.4394872,
             "remaining_time": 17.48136532,
             "test": [
              0.6746270422,
              0.1519127888
             ]
            },
            {
             "iteration": 1706,
             "learn": [
              0.09441294566
             ],
             "passed_time": 101.4987183,
             "remaining_time": 17.42186554,
             "test": [
              0.6746270422,
              0.1519135315
             ]
            },
            {
             "iteration": 1707,
             "learn": [
              0.09439710563
             ],
             "passed_time": 101.5549343,
             "remaining_time": 17.3618506,
             "test": [
              0.6746270422,
              0.1519142753
             ]
            },
            {
             "iteration": 1708,
             "learn": [
              0.09438122719
             ],
             "passed_time": 101.6112729,
             "remaining_time": 17.30186098,
             "test": [
              0.6746270422,
              0.1519150203
             ]
            },
            {
             "iteration": 1709,
             "learn": [
              0.0943653768
             ],
             "passed_time": 101.6666809,
             "remaining_time": 17.24171781,
             "test": [
              0.6746270422,
              0.1519157665
             ]
            },
            {
             "iteration": 1710,
             "learn": [
              0.09434954061
             ],
             "passed_time": 101.7218096,
             "remaining_time": 17.181533,
             "test": [
              0.6746270422,
              0.1519165133
             ]
            },
            {
             "iteration": 1711,
             "learn": [
              0.09433435084
             ],
             "passed_time": 101.7780199,
             "remaining_time": 17.12153606,
             "test": [
              0.6746270422,
              0.1519172404
             ]
            },
            {
             "iteration": 1712,
             "learn": [
              0.09431884296
             ],
             "passed_time": 101.8350919,
             "remaining_time": 17.0616879,
             "test": [
              0.6746154861,
              0.1519190442
             ]
            },
            {
             "iteration": 1713,
             "learn": [
              0.09430303333
             ],
             "passed_time": 101.8928611,
             "remaining_time": 17.00195933,
             "test": [
              0.6746154861,
              0.1519197957
             ]
            },
            {
             "iteration": 1714,
             "learn": [
              0.09428723143
             ],
             "passed_time": 101.950128,
             "remaining_time": 16.94214955,
             "test": [
              0.6746154861,
              0.1519205482
             ]
            },
            {
             "iteration": 1715,
             "learn": [
              0.09427142827
             ],
             "passed_time": 102.006014,
             "remaining_time": 16.88211421,
             "test": [
              0.6746154861,
              0.1519213016
             ]
            },
            {
             "iteration": 1716,
             "learn": [
              0.09425563986
             ],
             "passed_time": 102.061745,
             "remaining_time": 16.82205815,
             "test": [
              0.6746154861,
              0.151922056
             ]
            },
            {
             "iteration": 1717,
             "learn": [
              0.094239402
             ],
             "passed_time": 102.1179818,
             "remaining_time": 16.76209014,
             "test": [
              0.6746086883,
              0.1519248671
             ]
            },
            {
             "iteration": 1718,
             "learn": [
              0.09422363421
             ],
             "passed_time": 102.1740853,
             "remaining_time": 16.70210469,
             "test": [
              0.6746086883,
              0.1519256201
             ]
            },
            {
             "iteration": 1719,
             "learn": [
              0.09420782393
             ],
             "passed_time": 102.2322517,
             "remaining_time": 16.64245958,
             "test": [
              0.6746086883,
              0.1519263739
             ]
            },
            {
             "iteration": 1720,
             "learn": [
              0.09419209728
             ],
             "passed_time": 102.2902772,
             "remaining_time": 16.58279334,
             "test": [
              0.6746086883,
              0.1519271284
             ]
            },
            {
             "iteration": 1721,
             "learn": [
              0.09417666296
             ],
             "passed_time": 102.3486209,
             "remaining_time": 16.52318037,
             "test": [
              0.6746046097,
              0.1519283413
             ]
            },
            {
             "iteration": 1722,
             "learn": [
              0.0941609085
             ],
             "passed_time": 102.4056252,
             "remaining_time": 16.46335356,
             "test": [
              0.6746046097,
              0.1519290982
             ]
            },
            {
             "iteration": 1723,
             "learn": [
              0.0941451566
             ],
             "passed_time": 102.4635706,
             "remaining_time": 16.40368068,
             "test": [
              0.6746046097,
              0.1519298561
             ]
            },
            {
             "iteration": 1724,
             "learn": [
              0.09412944319
             ],
             "passed_time": 102.5196929,
             "remaining_time": 16.34371915,
             "test": [
              0.6746046097,
              0.1519306146
             ]
            },
            {
             "iteration": 1725,
             "learn": [
              0.09411371701
             ],
             "passed_time": 102.5764853,
             "remaining_time": 16.28386847,
             "test": [
              0.6746046097,
              0.1519313738
             ]
            },
            {
             "iteration": 1726,
             "learn": [
              0.09409802092
             ],
             "passed_time": 102.6349403,
             "remaining_time": 16.22428413,
             "test": [
              0.6746046097,
              0.1519321338
             ]
            },
            {
             "iteration": 1727,
             "learn": [
              0.09408233065
             ],
             "passed_time": 102.6966084,
             "remaining_time": 16.16520688,
             "test": [
              0.6746073288,
              0.1519224592
             ]
            },
            {
             "iteration": 1728,
             "learn": [
              0.09406662995
             ],
             "passed_time": 102.7560343,
             "remaining_time": 16.10577519,
             "test": [
              0.6746073288,
              0.1519232201
             ]
            },
            {
             "iteration": 1729,
             "learn": [
              0.09405098746
             ],
             "passed_time": 102.813027,
             "remaining_time": 16.04596376,
             "test": [
              0.6746073288,
              0.1519239818
             ]
            },
            {
             "iteration": 1730,
             "learn": [
              0.09403529344
             ],
             "passed_time": 102.8703975,
             "remaining_time": 15.98621429,
             "test": [
              0.6746073288,
              0.1519247439
             ]
            },
            {
             "iteration": 1731,
             "learn": [
              0.093930202
             ],
             "passed_time": 102.9375037,
             "remaining_time": 15.92797402,
             "test": [
              0.6754903547,
              0.1519278788
             ]
            },
            {
             "iteration": 1732,
             "learn": [
              0.09391152694
             ],
             "passed_time": 102.9960632,
             "remaining_time": 15.86840674,
             "test": [
              0.6754903547,
              0.1519286327
             ]
            },
            {
             "iteration": 1733,
             "learn": [
              0.09389583816
             ],
             "passed_time": 103.0530058,
             "remaining_time": 15.80859258,
             "test": [
              0.6754903547,
              0.1519292347
             ]
            },
            {
             "iteration": 1734,
             "learn": [
              0.09380168592
             ],
             "passed_time": 103.1207467,
             "remaining_time": 15.75043106,
             "test": [
              0.6760613645,
              0.1518930595
             ]
            },
            {
             "iteration": 1735,
             "learn": [
              0.09376752313
             ],
             "passed_time": 103.1837325,
             "remaining_time": 15.69153536,
             "test": [
              0.675909775,
              0.1518949202
             ]
            },
            {
             "iteration": 1736,
             "learn": [
              0.09375176105
             ],
             "passed_time": 103.2396539,
             "remaining_time": 15.63156532,
             "test": [
              0.675909775,
              0.1518954055
             ]
            },
            {
             "iteration": 1737,
             "learn": [
              0.09373604765
             ],
             "passed_time": 103.3164959,
             "remaining_time": 15.5747537,
             "test": [
              0.675909775,
              0.1518959022
             ]
            },
            {
             "iteration": 1738,
             "learn": [
              0.09372042357
             ],
             "passed_time": 103.3766936,
             "remaining_time": 15.51542095,
             "test": [
              0.675909775,
              0.1518964127
             ]
            },
            {
             "iteration": 1739,
             "learn": [
              0.09370478732
             ],
             "passed_time": 103.4351721,
             "remaining_time": 15.45583031,
             "test": [
              0.675909775,
              0.151896937
             ]
            },
            {
             "iteration": 1740,
             "learn": [
              0.09368913809
             ],
             "passed_time": 103.4996232,
             "remaining_time": 15.39712947,
             "test": [
              0.675909775,
              0.1518974745
             ]
            },
            {
             "iteration": 1741,
             "learn": [
              0.09367351377
             ],
             "passed_time": 103.5589165,
             "remaining_time": 15.33765813,
             "test": [
              0.675909775,
              0.1518980247
             ]
            },
            {
             "iteration": 1742,
             "learn": [
              0.09365834949
             ],
             "passed_time": 103.6184021,
             "remaining_time": 15.27821534,
             "test": [
              0.675909775,
              0.1518985732
             ]
            },
            {
             "iteration": 1743,
             "learn": [
              0.09364274249
             ],
             "passed_time": 103.6764787,
             "remaining_time": 15.21856568,
             "test": [
              0.675909775,
              0.1518991475
             ]
            },
            {
             "iteration": 1744,
             "learn": [
              0.09362714713
             ],
             "passed_time": 103.7335945,
             "remaining_time": 15.15877742,
             "test": [
              0.675909775,
              0.1518997329
             ]
            },
            {
             "iteration": 1745,
             "learn": [
              0.09361157311
             ],
             "passed_time": 103.7907083,
             "remaining_time": 15.09899193,
             "test": [
              0.675909775,
              0.1519003289
             ]
            },
            {
             "iteration": 1746,
             "learn": [
              0.09359601084
             ],
             "passed_time": 103.8462483,
             "remaining_time": 15.03898158,
             "test": [
              0.675909775,
              0.1519009346
             ]
            },
            {
             "iteration": 1747,
             "learn": [
              0.09358045063
             ],
             "passed_time": 103.9042204,
             "remaining_time": 14.97932697,
             "test": [
              0.675909775,
              0.1519015497
             ]
            },
            {
             "iteration": 1748,
             "learn": [
              0.09356490217
             ],
             "passed_time": 103.9623299,
             "remaining_time": 14.919694,
             "test": [
              0.675909775,
              0.1519021734
             ]
            },
            {
             "iteration": 1749,
             "learn": [
              0.09354935431
             ],
             "passed_time": 104.0219437,
             "remaining_time": 14.86027768,
             "test": [
              0.675909775,
              0.1519028056
             ]
            },
            {
             "iteration": 1750,
             "learn": [
              0.09353402647
             ],
             "passed_time": 104.0793459,
             "remaining_time": 14.80054661,
             "test": [
              0.675909775,
              0.1519034444
             ]
            },
            {
             "iteration": 1751,
             "learn": [
              0.09351851686
             ],
             "passed_time": 104.1374021,
             "remaining_time": 14.7409108,
             "test": [
              0.675909775,
              0.1519040926
             ]
            },
            {
             "iteration": 1752,
             "learn": [
              0.09350299198
             ],
             "passed_time": 104.1950786,
             "remaining_time": 14.68122328,
             "test": [
              0.675909775,
              0.1519047482
             ]
            },
            {
             "iteration": 1753,
             "learn": [
              0.09348747401
             ],
             "passed_time": 104.2517774,
             "remaining_time": 14.62140094,
             "test": [
              0.675909775,
              0.1519054107
             ]
            },
            {
             "iteration": 1754,
             "learn": [
              0.09339419235
             ],
             "passed_time": 104.3160437,
             "remaining_time": 14.56263857,
             "test": [
              0.6756888486,
              0.1519002521
             ]
            },
            {
             "iteration": 1755,
             "learn": [
              0.09337867982
             ],
             "passed_time": 104.3731208,
             "remaining_time": 14.502871,
             "test": [
              0.6756888486,
              0.1519008188
             ]
            },
            {
             "iteration": 1756,
             "learn": [
              0.09336405439
             ],
             "passed_time": 104.4318715,
             "remaining_time": 14.44333795,
             "test": [
              0.6756698149,
              0.1519016638
             ]
            },
            {
             "iteration": 1757,
             "learn": [
              0.09334854052
             ],
             "passed_time": 104.4894241,
             "remaining_time": 14.38364086,
             "test": [
              0.6756698149,
              0.1519022554
             ]
            },
            {
             "iteration": 1758,
             "learn": [
              0.09333305927
             ],
             "passed_time": 104.5474649,
             "remaining_time": 14.3240131,
             "test": [
              0.6756698149,
              0.1519129333
             ]
            },
            {
             "iteration": 1759,
             "learn": [
              0.09331760512
             ],
             "passed_time": 104.6053265,
             "remaining_time": 14.2643627,
             "test": [
              0.6756691352,
              0.1519227449
             ]
            },
            {
             "iteration": 1760,
             "learn": [
              0.09325641672
             ],
             "passed_time": 104.6666045,
             "remaining_time": 14.20517801,
             "test": [
              0.6757432305,
              0.1519340171
             ]
            },
            {
             "iteration": 1761,
             "learn": [
              0.09324095
             ],
             "passed_time": 104.7240861,
             "remaining_time": 14.14547815,
             "test": [
              0.6757432305,
              0.1519346467
             ]
            },
            {
             "iteration": 1762,
             "learn": [
              0.09322546598
             ],
             "passed_time": 104.7816695,
             "remaining_time": 14.08579448,
             "test": [
              0.6757432305,
              0.1519352848
             ]
            },
            {
             "iteration": 1763,
             "learn": [
              0.09321001539
             ],
             "passed_time": 104.8395612,
             "remaining_time": 14.02615445,
             "test": [
              0.6757432305,
              0.1519359311
             ]
            },
            {
             "iteration": 1764,
             "learn": [
              0.09315467187
             ],
             "passed_time": 104.9006639,
             "remaining_time": 13.96694392,
             "test": [
              0.675801691,
              0.1519280927
             ]
            },
            {
             "iteration": 1765,
             "learn": [
              0.09313952757
             ],
             "passed_time": 104.9572905,
             "remaining_time": 13.90713816,
             "test": [
              0.6757880955,
              0.1519290681
             ]
            },
            {
             "iteration": 1766,
             "learn": [
              0.09312408669
             ],
             "passed_time": 105.0171555,
             "remaining_time": 13.847763,
             "test": [
              0.6757880955,
              0.1519297427
             ]
            },
            {
             "iteration": 1767,
             "learn": [
              0.09310869326
             ],
             "passed_time": 105.0742008,
             "remaining_time": 13.7880173,
             "test": [
              0.6757874158,
              0.1519340793
             ]
            },
            {
             "iteration": 1768,
             "learn": [
              0.09309324164
             ],
             "passed_time": 105.1301917,
             "remaining_time": 13.72813697,
             "test": [
              0.6757874158,
              0.1519450173
             ]
            },
            {
             "iteration": 1769,
             "learn": [
              0.09307785159
             ],
             "passed_time": 105.1927784,
             "remaining_time": 13.66911809,
             "test": [
              0.675786736,
              0.15194747
             ]
            },
            {
             "iteration": 1770,
             "learn": [
              0.0930121732
             ],
             "passed_time": 105.2551508,
             "remaining_time": 13.6100675,
             "test": [
              0.6757072025,
              0.1519400186
             ]
            },
            {
             "iteration": 1771,
             "learn": [
              0.09299510305
             ],
             "passed_time": 105.3150409,
             "remaining_time": 13.55069375,
             "test": [
              0.6756820508,
              0.151942226
             ]
            },
            {
             "iteration": 1772,
             "learn": [
              0.09297972307
             ],
             "passed_time": 105.3713784,
             "remaining_time": 13.49086458,
             "test": [
              0.6756820508,
              0.1519428223
             ]
            },
            {
             "iteration": 1773,
             "learn": [
              0.09296388911
             ],
             "passed_time": 105.4285071,
             "remaining_time": 13.43114014,
             "test": [
              0.6756820508,
              0.151943468
             ]
            },
            {
             "iteration": 1774,
             "learn": [
              0.09294851752
             ],
             "passed_time": 105.4924096,
             "remaining_time": 13.37227727,
             "test": [
              0.6758859829,
              0.1519309075
             ]
            },
            {
             "iteration": 1775,
             "learn": [
              0.0929331767
             ],
             "passed_time": 105.5528946,
             "remaining_time": 13.31297769,
             "test": [
              0.6758859829,
              0.1519315305
             ]
            },
            {
             "iteration": 1776,
             "learn": [
              0.09291780581
             ],
             "passed_time": 105.615237,
             "remaining_time": 13.25390988,
             "test": [
              0.6758859829,
              0.15193533
             ]
            },
            {
             "iteration": 1777,
             "learn": [
              0.09285895206
             ],
             "passed_time": 105.6835073,
             "remaining_time": 13.19557853,
             "test": [
              0.6758193651,
              0.151941239
             ]
            },
            {
             "iteration": 1778,
             "learn": [
              0.09284361107
             ],
             "passed_time": 105.7426268,
             "remaining_time": 13.13609922,
             "test": [
              0.6758173258,
              0.1519526837
             ]
            },
            {
             "iteration": 1779,
             "learn": [
              0.09282826329
             ],
             "passed_time": 105.8068719,
             "remaining_time": 13.07725383,
             "test": [
              0.6758173258,
              0.1519533156
             ]
            },
            {
             "iteration": 1780,
             "learn": [
              0.09281294882
             ],
             "passed_time": 105.8689347,
             "remaining_time": 13.01813403,
             "test": [
              0.6758173258,
              0.1519539559
             ]
            },
            {
             "iteration": 1781,
             "learn": [
              0.09279764696
             ],
             "passed_time": 105.9269578,
             "remaining_time": 12.95851673,
             "test": [
              0.675816646,
              0.1519567659
             ]
            },
            {
             "iteration": 1782,
             "learn": [
              0.09278234211
             ],
             "passed_time": 105.9823331,
             "remaining_time": 12.89857895,
             "test": [
              0.675816646,
              0.1519574226
             ]
            },
            {
             "iteration": 1783,
             "learn": [
              0.09276704626
             ],
             "passed_time": 106.0399753,
             "remaining_time": 12.83892077,
             "test": [
              0.675816646,
              0.1519580873
             ]
            },
            {
             "iteration": 1784,
             "learn": [
              0.09275175386
             ],
             "passed_time": 106.0973501,
             "remaining_time": 12.77923264,
             "test": [
              0.675816646,
              0.1519587596
             ]
            },
            {
             "iteration": 1785,
             "learn": [
              0.09273648055
             ],
             "passed_time": 106.155572,
             "remaining_time": 12.7196486,
             "test": [
              0.675816646,
              0.1519594389
             ]
            },
            {
             "iteration": 1786,
             "learn": [
              0.09272122805
             ],
             "passed_time": 106.2143744,
             "remaining_time": 12.66013528,
             "test": [
              0.675816646,
              0.1519601251
             ]
            },
            {
             "iteration": 1787,
             "learn": [
              0.09261807434
             ],
             "passed_time": 106.2780899,
             "remaining_time": 12.60120529,
             "test": [
              0.6762598584,
              0.1519593516
             ]
            },
            {
             "iteration": 1788,
             "learn": [
              0.09260139484
             ],
             "passed_time": 106.3342639,
             "remaining_time": 12.54138048,
             "test": [
              0.6762571393,
              0.1519611314
             ]
            },
            {
             "iteration": 1789,
             "learn": [
              0.09257158234
             ],
             "passed_time": 106.3930319,
             "remaining_time": 12.48186408,
             "test": [
              0.6762523809,
              0.1519635509
             ]
            },
            {
             "iteration": 1790,
             "learn": [
              0.09255633552
             ],
             "passed_time": 106.4484206,
             "remaining_time": 12.42195417,
             "test": [
              0.6762523809,
              0.1519640941
             ]
            },
            {
             "iteration": 1791,
             "learn": [
              0.09254103954
             ],
             "passed_time": 106.5111991,
             "remaining_time": 12.36290704,
             "test": [
              0.6762517011,
              0.151971306
             ]
            },
            {
             "iteration": 1792,
             "learn": [
              0.09252578085
             ],
             "passed_time": 106.5690095,
             "remaining_time": 12.30328218,
             "test": [
              0.6762517011,
              0.1519718759
             ]
            },
            {
             "iteration": 1793,
             "learn": [
              0.09251053795
             ],
             "passed_time": 106.6272096,
             "remaining_time": 12.24370412,
             "test": [
              0.6762517011,
              0.1519724583
             ]
            },
            {
             "iteration": 1794,
             "learn": [
              0.09249529348
             ],
             "passed_time": 106.6855436,
             "remaining_time": 12.18414286,
             "test": [
              0.6762517011,
              0.1519730528
             ]
            },
            {
             "iteration": 1795,
             "learn": [
              0.09248007195
             ],
             "passed_time": 106.7420896,
             "remaining_time": 12.12437988,
             "test": [
              0.6762517011,
              0.1519736586
             ]
            },
            {
             "iteration": 1796,
             "learn": [
              0.09246483958
             ],
             "passed_time": 106.8037158,
             "remaining_time": 12.06519438,
             "test": [
              0.6762517011,
              0.1519742753
             ]
            },
            {
             "iteration": 1797,
             "learn": [
              0.0924496216
             ],
             "passed_time": 106.8663307,
             "remaining_time": 12.00611724,
             "test": [
              0.6762517011,
              0.151974902
             ]
            },
            {
             "iteration": 1798,
             "learn": [
              0.09243442752
             ],
             "passed_time": 106.9265716,
             "remaining_time": 11.94677093,
             "test": [
              0.6762517011,
              0.1519755383
             ]
            },
            {
             "iteration": 1799,
             "learn": [
              0.09241956663
             ],
             "passed_time": 106.9875559,
             "remaining_time": 11.88750621,
             "test": [
              0.676240145,
              0.1519772757
             ]
            },
            {
             "iteration": 1800,
             "learn": [
              0.09240439264
             ],
             "passed_time": 107.0513441,
             "remaining_time": 11.82854941,
             "test": [
              0.676240145,
              0.1519779309
             ]
            },
            {
             "iteration": 1801,
             "learn": [
              0.09238919803
             ],
             "passed_time": 107.1131337,
             "remaining_time": 11.76936763,
             "test": [
              0.676240145,
              0.1519785946
             ]
            },
            {
             "iteration": 1802,
             "learn": [
              0.09237404207
             ],
             "passed_time": 107.1744953,
             "remaining_time": 11.7101362,
             "test": [
              0.676240145,
              0.1519792662
             ]
            },
            {
             "iteration": 1803,
             "learn": [
              0.09227399249
             ],
             "passed_time": 107.2394315,
             "remaining_time": 11.65129079,
             "test": [
              0.6765528408,
              0.1519851293
             ]
            },
            {
             "iteration": 1804,
             "learn": [
              0.09225694236
             ],
             "passed_time": 107.2987959,
             "remaining_time": 11.59183668,
             "test": [
              0.6765317679,
              0.1519806485
             ]
            },
            {
             "iteration": 1805,
             "learn": [
              0.09224178769
             ],
             "passed_time": 107.3556178,
             "remaining_time": 11.53210955,
             "test": [
              0.6765317679,
              0.1519811626
             ]
            },
            {
             "iteration": 1806,
             "learn": [
              0.09222666872
             ],
             "passed_time": 107.4138917,
             "remaining_time": 11.47254073,
             "test": [
              0.6765317679,
              0.151981692
             ]
            },
            {
             "iteration": 1807,
             "learn": [
              0.09221152335
             ],
             "passed_time": 107.4730221,
             "remaining_time": 11.41306429,
             "test": [
              0.6765317679,
              0.1519822366
             ]
            },
            {
             "iteration": 1808,
             "learn": [
              0.09219640001
             ],
             "passed_time": 107.5367205,
             "remaining_time": 11.35407054,
             "test": [
              0.6765317679,
              0.1519827958
             ]
            },
            {
             "iteration": 1809,
             "learn": [
              0.09218127822
             ],
             "passed_time": 107.6048521,
             "remaining_time": 11.29553696,
             "test": [
              0.6765317679,
              0.1519833686
             ]
            },
            {
             "iteration": 1810,
             "learn": [
              0.09216707341
             ],
             "passed_time": 107.6636268,
             "remaining_time": 11.23601627,
             "test": [
              0.676522251,
              0.1519846122
             ]
            },
            {
             "iteration": 1811,
             "learn": [
              0.09215196585
             ],
             "passed_time": 107.7234281,
             "remaining_time": 11.17660292,
             "test": [
              0.676522251,
              0.1519852125
             ]
            },
            {
             "iteration": 1812,
             "learn": [
              0.09213688616
             ],
             "passed_time": 107.783489,
             "remaining_time": 11.11721591,
             "test": [
              0.676522251,
              0.1519858243
             ]
            },
            {
             "iteration": 1813,
             "learn": [
              0.0921218013
             ],
             "passed_time": 107.8559981,
             "remaining_time": 11.05910455,
             "test": [
              0.676522251,
              0.1519864471
             ]
            },
            {
             "iteration": 1814,
             "learn": [
              0.09210674859
             ],
             "passed_time": 107.9176215,
             "remaining_time": 10.99986776,
             "test": [
              0.676522251,
              0.1519870805
             ]
            },
            {
             "iteration": 1815,
             "learn": [
              0.09209167571
             ],
             "passed_time": 107.98026,
             "remaining_time": 10.94073119,
             "test": [
              0.676522251,
              0.1519877236
             ]
            },
            {
             "iteration": 1816,
             "learn": [
              0.09207663118
             ],
             "passed_time": 108.0425225,
             "remaining_time": 10.8815529,
             "test": [
              0.676522251,
              0.1519883762
             ]
            },
            {
             "iteration": 1817,
             "learn": [
              0.09206162163
             ],
             "passed_time": 108.0998397,
             "remaining_time": 10.82187615,
             "test": [
              0.676522251,
              0.1519890378
             ]
            },
            {
             "iteration": 1818,
             "learn": [
              0.09204659366
             ],
             "passed_time": 108.1574028,
             "remaining_time": 10.76222644,
             "test": [
              0.676522251,
              0.1519897078
             ]
            },
            {
             "iteration": 1819,
             "learn": [
              0.09203158089
             ],
             "passed_time": 108.2131195,
             "remaining_time": 10.70239644,
             "test": [
              0.676522251,
              0.1519903859
             ]
            },
            {
             "iteration": 1820,
             "learn": [
              0.0920166042
             ],
             "passed_time": 108.2687031,
             "remaining_time": 10.64255785,
             "test": [
              0.676522251,
              0.1519910716
             ]
            },
            {
             "iteration": 1821,
             "learn": [
              0.09198466774
             ],
             "passed_time": 108.3293684,
             "remaining_time": 10.5832204,
             "test": [
              0.676744537,
              0.1519853024
             ]
            },
            {
             "iteration": 1822,
             "learn": [
              0.09189491561
             ],
             "passed_time": 108.3937611,
             "remaining_time": 10.5242434,
             "test": [
              0.6768723344,
              0.1519947251
             ]
            },
            {
             "iteration": 1823,
             "learn": [
              0.09187989609
             ],
             "passed_time": 108.4488151,
             "remaining_time": 10.46435935,
             "test": [
              0.6768723344,
              0.1519952832
             ]
            },
            {
             "iteration": 1824,
             "learn": [
              0.09186488436
             ],
             "passed_time": 108.5046486,
             "remaining_time": 10.40455535,
             "test": [
              0.6768723344,
              0.1519958554
             ]
            },
            {
             "iteration": 1825,
             "learn": [
              0.09184991351
             ],
             "passed_time": 108.5633641,
             "remaining_time": 10.34503031,
             "test": [
              0.6768723344,
              0.1519964403
             ]
            },
            {
             "iteration": 1826,
             "learn": [
              0.09183495743
             ],
             "passed_time": 108.6268291,
             "remaining_time": 10.2859559,
             "test": [
              0.6768723344,
              0.1519970379
             ]
            },
            {
             "iteration": 1827,
             "learn": [
              0.09181997029
             ],
             "passed_time": 108.6895973,
             "remaining_time": 10.22681112,
             "test": [
              0.6768628176,
              0.1520001323
             ]
            },
            {
             "iteration": 1828,
             "learn": [
              0.09180501821
             ],
             "passed_time": 108.7524117,
             "remaining_time": 10.1676667,
             "test": [
              0.6768628176,
              0.1520007537
             ]
            },
            {
             "iteration": 1829,
             "learn": [
              0.09179013357
             ],
             "passed_time": 108.8131271,
             "remaining_time": 10.10832328,
             "test": [
              0.6768628176,
              0.1520013856
             ]
            },
            {
             "iteration": 1830,
             "learn": [
              0.09176022681
             ],
             "passed_time": 108.8769881,
             "remaining_time": 10.0492687,
             "test": [
              0.6769042838,
              0.1520023232
             ]
            },
            {
             "iteration": 1831,
             "learn": [
              0.09174529925
             ],
             "passed_time": 108.9368173,
             "remaining_time": 9.989839145,
             "test": [
              0.6769042838,
              0.1520091284
             ]
            },
            {
             "iteration": 1832,
             "learn": [
              0.09173040894
             ],
             "passed_time": 108.9947278,
             "remaining_time": 9.930234337,
             "test": [
              0.6769042838,
              0.1520097717
             ]
            },
            {
             "iteration": 1833,
             "learn": [
              0.09171550477
             ],
             "passed_time": 109.0528899,
             "remaining_time": 9.870654159,
             "test": [
              0.6769042838,
              0.1520104252
             ]
            },
            {
             "iteration": 1834,
             "learn": [
              0.09164809479
             ],
             "passed_time": 109.1189139,
             "remaining_time": 9.811782451,
             "test": [
              0.6767051101,
              0.1520375512
             ]
            },
            {
             "iteration": 1835,
             "learn": [
              0.09163318018
             ],
             "passed_time": 109.1761672,
             "remaining_time": 9.752119514,
             "test": [
              0.6767051101,
              0.1520381309
             ]
            },
            {
             "iteration": 1836,
             "learn": [
              0.09161827349
             ],
             "passed_time": 109.2326526,
             "remaining_time": 9.692391056,
             "test": [
              0.6767051101,
              0.1520387229
             ]
            },
            {
             "iteration": 1837,
             "learn": [
              0.09160341253
             ],
             "passed_time": 109.2915549,
             "remaining_time": 9.632879157,
             "test": [
              0.6767051101,
              0.1520393278
             ]
            },
            {
             "iteration": 1838,
             "learn": [
              0.09158851939
             ],
             "passed_time": 109.35024,
             "remaining_time": 9.573348908,
             "test": [
              0.6767051101,
              0.1520399448
             ]
            },
            {
             "iteration": 1839,
             "learn": [
              0.09157366649
             ],
             "passed_time": 109.4084391,
             "remaining_time": 9.51377731,
             "test": [
              0.6767051101,
              0.1520405733
             ]
            },
            {
             "iteration": 1840,
             "learn": [
              0.09155882215
             ],
             "passed_time": 109.4677519,
             "remaining_time": 9.4543034,
             "test": [
              0.6767051101,
              0.1520464912
             ]
            },
            {
             "iteration": 1841,
             "learn": [
              0.09154399482
             ],
             "passed_time": 109.5323044,
             "remaining_time": 9.395279094,
             "test": [
              0.6767044304,
              0.1520505523
             ]
            },
            {
             "iteration": 1842,
             "learn": [
              0.09152914525
             ],
             "passed_time": 109.5926999,
             "remaining_time": 9.335894678,
             "test": [
              0.6767037506,
              0.152053828
             ]
            },
            {
             "iteration": 1843,
             "learn": [
              0.09146585038
             ],
             "passed_time": 109.6548045,
             "remaining_time": 9.276653743,
             "test": [
              0.6766881158,
              0.1520591209
             ]
            },
            {
             "iteration": 1844,
             "learn": [
              0.09145098586
             ],
             "passed_time": 109.7126304,
             "remaining_time": 9.217050246,
             "test": [
              0.6766881158,
              0.1520597377
             ]
            },
            {
             "iteration": 1845,
             "learn": [
              0.09143618605
             ],
             "passed_time": 109.7710056,
             "remaining_time": 9.15749451,
             "test": [
              0.6766881158,
              0.1520603664
             ]
            },
            {
             "iteration": 1846,
             "learn": [
              0.09142135179
             ],
             "passed_time": 109.8273031,
             "remaining_time": 9.097767932,
             "test": [
              0.6766881158,
              0.1520610064
             ]
            },
            {
             "iteration": 1847,
             "learn": [
              0.0914065451
             ],
             "passed_time": 109.88295,
             "remaining_time": 9.037991559,
             "test": [
              0.6766881158,
              0.1520658571
             ]
            },
            {
             "iteration": 1848,
             "learn": [
              0.09139173755
             ],
             "passed_time": 109.9394167,
             "remaining_time": 8.978286603,
             "test": [
              0.6766881158,
              0.1520665174
             ]
            },
            {
             "iteration": 1849,
             "learn": [
              0.0913769369
             ],
             "passed_time": 109.9957895,
             "remaining_time": 8.918577527,
             "test": [
              0.6766881158,
              0.1520671875
             ]
            },
            {
             "iteration": 1850,
             "learn": [
              0.09136217463
             ],
             "passed_time": 110.0530988,
             "remaining_time": 8.858947443,
             "test": [
              0.676687436,
              0.1520716115
             ]
            },
            {
             "iteration": 1851,
             "learn": [
              0.09134738558
             ],
             "passed_time": 110.1083073,
             "remaining_time": 8.799151983,
             "test": [
              0.676687436,
              0.1520722991
             ]
            },
            {
             "iteration": 1852,
             "learn": [
              0.09133263124
             ],
             "passed_time": 110.1653118,
             "remaining_time": 8.73950396,
             "test": [
              0.6766860765,
              0.1520770828
             ]
            },
            {
             "iteration": 1853,
             "learn": [
              0.09129106163
             ],
             "passed_time": 110.2257499,
             "remaining_time": 8.680129175,
             "test": [
              0.6765861497,
              0.1520846886
             ]
            },
            {
             "iteration": 1854,
             "learn": [
              0.09125888736
             ],
             "passed_time": 110.2851167,
             "remaining_time": 8.620669499,
             "test": [
              0.6765018578,
              0.1520926321
             ]
            },
            {
             "iteration": 1855,
             "learn": [
              0.09124414625
             ],
             "passed_time": 110.3434785,
             "remaining_time": 8.561131952,
             "test": [
              0.6765018578,
              0.1520933278
             ]
            },
            {
             "iteration": 1856,
             "learn": [
              0.09122943479
             ],
             "passed_time": 110.4040141,
             "remaining_time": 8.501763065,
             "test": [
              0.6765018578,
              0.1520940314
             ]
            },
            {
             "iteration": 1857,
             "learn": [
              0.09121466255
             ],
             "passed_time": 110.464657,
             "remaining_time": 8.442401127,
             "test": [
              0.6765018578,
              0.1520947428
             ]
            },
            {
             "iteration": 1858,
             "learn": [
              0.09119992203
             ],
             "passed_time": 110.5201467,
             "remaining_time": 8.382646954,
             "test": [
              0.6765018578,
              0.1520954617
             ]
            },
            {
             "iteration": 1859,
             "learn": [
              0.09118524931
             ],
             "passed_time": 110.5764206,
             "remaining_time": 8.322956389,
             "test": [
              0.6765018578,
              0.1520961873
             ]
            },
            {
             "iteration": 1860,
             "learn": [
              0.09117099244
             ],
             "passed_time": 110.6337083,
             "remaining_time": 8.263345222,
             "test": [
              0.6764964196,
              0.1520971611
             ]
            },
            {
             "iteration": 1861,
             "learn": [
              0.09115630107
             ],
             "passed_time": 110.6910059,
             "remaining_time": 8.203737277,
             "test": [
              0.6764964196,
              0.1520979006
             ]
            },
            {
             "iteration": 1862,
             "learn": [
              0.09108656209
             ],
             "passed_time": 110.7578646,
             "remaining_time": 8.144834917,
             "test": [
              0.6756535004,
              0.1521424132
             ]
            },
            {
             "iteration": 1863,
             "learn": [
              0.09107128474
             ],
             "passed_time": 110.8166205,
             "remaining_time": 8.085332825,
             "test": [
              0.6756535004,
              0.1521431123
             ]
            },
            {
             "iteration": 1864,
             "learn": [
              0.09105657448
             ],
             "passed_time": 110.8727362,
             "remaining_time": 8.025640419,
             "test": [
              0.6756528206,
              0.1521470202
             ]
            },
            {
             "iteration": 1865,
             "learn": [
              0.09104189415
             ],
             "passed_time": 110.9301556,
             "remaining_time": 7.966045472,
             "test": [
              0.6758927807,
              0.1521349157
             ]
            },
            {
             "iteration": 1866,
             "learn": [
              0.09102766943
             ],
             "passed_time": 110.9877232,
             "remaining_time": 7.906463407,
             "test": [
              0.6758819043,
              0.1521358862
             ]
            },
            {
             "iteration": 1867,
             "learn": [
              0.09099469489
             ],
             "passed_time": 111.0517724,
             "remaining_time": 7.847341521,
             "test": [
              0.6758200449,
              0.1521410517
             ]
            },
            {
             "iteration": 1868,
             "learn": [
              0.09097998794
             ],
             "passed_time": 111.1082422,
             "remaining_time": 7.78768311,
             "test": [
              0.6758200449,
              0.1521417139
             ]
            },
            {
             "iteration": 1869,
             "learn": [
              0.0909653257
             ],
             "passed_time": 111.164033,
             "remaining_time": 7.727980906,
             "test": [
              0.6758200449,
              0.1521423862
             ]
            },
            {
             "iteration": 1870,
             "learn": [
              0.09095068581
             ],
             "passed_time": 111.2196997,
             "remaining_time": 7.668274325,
             "test": [
              0.6758200449,
              0.1521430679
             ]
            },
            {
             "iteration": 1871,
             "learn": [
              0.09093602898
             ],
             "passed_time": 111.2781489,
             "remaining_time": 7.60876232,
             "test": [
              0.6758200449,
              0.1521437586
             ]
            },
            {
             "iteration": 1872,
             "learn": [
              0.09092139619
             ],
             "passed_time": 111.3364081,
             "remaining_time": 7.549238564,
             "test": [
              0.6758200449,
              0.1521444582
             ]
            },
            {
             "iteration": 1873,
             "learn": [
              0.09090648722
             ],
             "passed_time": 111.3922429,
             "remaining_time": 7.489553152,
             "test": [
              0.6758173258,
              0.1521460198
             ]
            },
            {
             "iteration": 1874,
             "learn": [
              0.09089184011
             ],
             "passed_time": 111.4479456,
             "remaining_time": 7.429863041,
             "test": [
              0.6758186853,
              0.1521372518
             ]
            },
            {
             "iteration": 1875,
             "learn": [
              0.09087726571
             ],
             "passed_time": 111.50621,
             "remaining_time": 7.370346501,
             "test": [
              0.6758186853,
              0.1521379731
             ]
            },
            {
             "iteration": 1876,
             "learn": [
              0.09086264539
             ],
             "passed_time": 111.5647649,
             "remaining_time": 7.31085034,
             "test": [
              0.6758186853,
              0.152138702
             ]
            },
            {
             "iteration": 1877,
             "learn": [
              0.09084803417
             ],
             "passed_time": 111.6225215,
             "remaining_time": 7.251303311,
             "test": [
              0.6758186853,
              0.1521394376
             ]
            },
            {
             "iteration": 1878,
             "learn": [
              0.09083345516
             ],
             "passed_time": 111.6836495,
             "remaining_time": 7.191975302,
             "test": [
              0.6758186853,
              0.1521401795
             ]
            },
            {
             "iteration": 1879,
             "learn": [
              0.0908188824
             ],
             "passed_time": 111.7510138,
             "remaining_time": 7.133043434,
             "test": [
              0.6758186853,
              0.1521477504
             ]
            },
            {
             "iteration": 1880,
             "learn": [
              0.09080428852
             ],
             "passed_time": 111.8094913,
             "remaining_time": 7.073540386,
             "test": [
              0.6758186853,
              0.1521529262
             ]
            },
            {
             "iteration": 1881,
             "learn": [
              0.09078974365
             ],
             "passed_time": 111.8674874,
             "remaining_time": 7.014008244,
             "test": [
              0.6758186853,
              0.1521536851
             ]
            },
            {
             "iteration": 1882,
             "learn": [
              0.09077520778
             ],
             "passed_time": 111.9266795,
             "remaining_time": 6.954552048,
             "test": [
              0.6758186853,
              0.1521544495
             ]
            },
            {
             "iteration": 1883,
             "learn": [
              0.09076065411
             ],
             "passed_time": 111.9863682,
             "remaining_time": 6.895126702,
             "test": [
              0.6758186853,
              0.1521552191
             ]
            },
            {
             "iteration": 1884,
             "learn": [
              0.09074610909
             ],
             "passed_time": 112.0451624,
             "remaining_time": 6.835646514,
             "test": [
              0.6758186853,
              0.1521559939
             ]
            },
            {
             "iteration": 1885,
             "learn": [
              0.09073160047
             ],
             "passed_time": 112.101975,
             "remaining_time": 6.776047269,
             "test": [
              0.6758186853,
              0.1521567737
             ]
            },
            {
             "iteration": 1886,
             "learn": [
              0.09071706169
             ],
             "passed_time": 112.1575934,
             "remaining_time": 6.716379468,
             "test": [
              0.6758186853,
              0.1521575579
             ]
            },
            {
             "iteration": 1887,
             "learn": [
              0.09070255032
             ],
             "passed_time": 112.2150618,
             "remaining_time": 6.656825699,
             "test": [
              0.6758186853,
              0.152158346
             ]
            },
            {
             "iteration": 1888,
             "learn": [
              0.09057324205
             ],
             "passed_time": 112.2829193,
             "remaining_time": 6.597884615,
             "test": [
              0.6776472764,
              0.1520755552
             ]
            },
            {
             "iteration": 1889,
             "learn": [
              0.0905586149
             ],
             "passed_time": 112.3400901,
             "remaining_time": 6.538312121,
             "test": [
              0.6776472764,
              0.1520760998
             ]
            },
            {
             "iteration": 1890,
             "learn": [
              0.09054407431
             ],
             "passed_time": 112.3975652,
             "remaining_time": 6.478759707,
             "test": [
              0.6776472764,
              0.1520766566
             ]
            },
            {
             "iteration": 1891,
             "learn": [
              0.09052956005
             ],
             "passed_time": 112.4564449,
             "remaining_time": 6.419289664,
             "test": [
              0.6776472764,
              0.1520772286
             ]
            },
            {
             "iteration": 1892,
             "learn": [
              0.09051505343
             ],
             "passed_time": 112.5135088,
             "remaining_time": 6.359717614,
             "test": [
              0.6776472764,
              0.1520778155
             ]
            },
            {
             "iteration": 1893,
             "learn": [
              0.09050054743
             ],
             "passed_time": 112.5700193,
             "remaining_time": 6.300117235,
             "test": [
              0.6776472764,
              0.152078417
             ]
            },
            {
             "iteration": 1894,
             "learn": [
              0.09048611248
             ],
             "passed_time": 112.6309143,
             "remaining_time": 6.240763061,
             "test": [
              0.6776472764,
              0.1520790325
             ]
            },
            {
             "iteration": 1895,
             "learn": [
              0.09047161387
             ],
             "passed_time": 112.7616032,
             "remaining_time": 6.185235619,
             "test": [
              0.6776472764,
              0.1520796613
             ]
            },
            {
             "iteration": 1896,
             "learn": [
              0.09045716733
             ],
             "passed_time": 112.8229235,
             "remaining_time": 6.125862479,
             "test": [
              0.6776472764,
              0.1520803028
             ]
            },
            {
             "iteration": 1897,
             "learn": [
              0.0904426983
             ],
             "passed_time": 112.8780562,
             "remaining_time": 6.066154757,
             "test": [
              0.6776472764,
              0.1520809564
             ]
            },
            {
             "iteration": 1898,
             "learn": [
              0.09042826797
             ],
             "passed_time": 112.9347926,
             "remaining_time": 6.006537151,
             "test": [
              0.6776472764,
              0.1520816213
             ]
            },
            {
             "iteration": 1899,
             "learn": [
              0.09041321932
             ],
             "passed_time": 112.9930211,
             "remaining_time": 5.947001112,
             "test": [
              0.6776472764,
              0.152082351
             ]
            },
            {
             "iteration": 1900,
             "learn": [
              0.09039877574
             ],
             "passed_time": 113.0516861,
             "remaining_time": 5.887489179,
             "test": [
              0.6776472764,
              0.1520830329
             ]
            },
            {
             "iteration": 1901,
             "learn": [
              0.09038437898
             ],
             "passed_time": 113.1084226,
             "remaining_time": 5.827878769,
             "test": [
              0.6776472764,
              0.1520837245
             ]
            },
            {
             "iteration": 1902,
             "learn": [
              0.09036997481
             ],
             "passed_time": 113.1638189,
             "remaining_time": 5.768203068,
             "test": [
              0.6776472764,
              0.1520844254
             ]
            },
            {
             "iteration": 1903,
             "learn": [
              0.09035557519
             ],
             "passed_time": 113.2194057,
             "remaining_time": 5.708541464,
             "test": [
              0.6776472764,
              0.1520851355
             ]
            },
            {
             "iteration": 1904,
             "learn": [
              0.09034118063
             ],
             "passed_time": 113.2786049,
             "remaining_time": 5.649064287,
             "test": [
              0.6776472764,
              0.1520858544
             ]
            },
            {
             "iteration": 1905,
             "learn": [
              0.09032680978
             ],
             "passed_time": 113.3410583,
             "remaining_time": 5.589747889,
             "test": [
              0.6776472764,
              0.1520865813
             ]
            },
            {
             "iteration": 1906,
             "learn": [
              0.09031244824
             ],
             "passed_time": 113.4036353,
             "remaining_time": 5.530434235,
             "test": [
              0.6776472764,
              0.1520975353
             ]
            },
            {
             "iteration": 1907,
             "learn": [
              0.09029810108
             ],
             "passed_time": 113.463729,
             "remaining_time": 5.470997417,
             "test": [
              0.6776472764,
              0.152098277
             ]
            },
            {
             "iteration": 1908,
             "learn": [
              0.0902837646
             ],
             "passed_time": 113.5229332,
             "remaining_time": 5.411517507,
             "test": [
              0.6776472764,
              0.1520990257
             ]
            },
            {
             "iteration": 1909,
             "learn": [
              0.09026942705
             ],
             "passed_time": 113.5806624,
             "remaining_time": 5.351968383,
             "test": [
              0.6776472764,
              0.1520997809
             ]
            },
            {
             "iteration": 1910,
             "learn": [
              0.09025510302
             ],
             "passed_time": 113.637161,
             "remaining_time": 5.292363855,
             "test": [
              0.6776472764,
              0.1521005424
             ]
            },
            {
             "iteration": 1911,
             "learn": [
              0.09024080141
             ],
             "passed_time": 113.6932494,
             "remaining_time": 5.232743694,
             "test": [
              0.6776472764,
              0.1521013102
             ]
            },
            {
             "iteration": 1912,
             "learn": [
              0.09022649761
             ],
             "passed_time": 113.7499579,
             "remaining_time": 5.173155429,
             "test": [
              0.6776472764,
              0.1521020837
             ]
            },
            {
             "iteration": 1913,
             "learn": [
              0.0902122054
             ],
             "passed_time": 113.8043468,
             "remaining_time": 5.113465948,
             "test": [
              0.6776472764,
              0.1521028629
             ]
            },
            {
             "iteration": 1914,
             "learn": [
              0.09019792581
             ],
             "passed_time": 113.8596316,
             "remaining_time": 5.05382177,
             "test": [
              0.6776472764,
              0.1521036475
             ]
            },
            {
             "iteration": 1915,
             "learn": [
              0.09018365975
             ],
             "passed_time": 113.9151402,
             "remaining_time": 4.994191952,
             "test": [
              0.6776472764,
              0.1521044372
             ]
            },
            {
             "iteration": 1916,
             "learn": [
              0.09016940113
             ],
             "passed_time": 113.9708412,
             "remaining_time": 4.934574761,
             "test": [
              0.6776472764,
              0.1521052321
             ]
            },
            {
             "iteration": 1917,
             "learn": [
              0.09015513025
             ],
             "passed_time": 114.0279376,
             "remaining_time": 4.875021314,
             "test": [
              0.6776472764,
              0.1521124282
             ]
            },
            {
             "iteration": 1918,
             "learn": [
              0.09014086146
             ],
             "passed_time": 114.0835016,
             "remaining_time": 4.815405746,
             "test": [
              0.6776472764,
              0.1521132319
             ]
            },
            {
             "iteration": 1919,
             "learn": [
              0.09012663636
             ],
             "passed_time": 114.1414454,
             "remaining_time": 4.755893559,
             "test": [
              0.6776459168,
              0.1521217514
             ]
            },
            {
             "iteration": 1920,
             "learn": [
              0.09011239086
             ],
             "passed_time": 114.1980104,
             "remaining_time": 4.696326301,
             "test": [
              0.6776459168,
              0.1521225623
             ]
            },
            {
             "iteration": 1921,
             "learn": [
              0.09009819113
             ],
             "passed_time": 114.2573908,
             "remaining_time": 4.63687642,
             "test": [
              0.6776459168,
              0.152123377
             ]
            },
            {
             "iteration": 1922,
             "learn": [
              0.09008244273
             ],
             "passed_time": 114.3186142,
             "remaining_time": 4.577500414,
             "test": [
              0.6776459168,
              0.1521242775
             ]
            },
            {
             "iteration": 1923,
             "learn": [
              0.09006827249
             ],
             "passed_time": 114.3791253,
             "remaining_time": 4.518094347,
             "test": [
              0.6776459168,
              0.1521250922
             ]
            },
            {
             "iteration": 1924,
             "learn": [
              0.09005403098
             ],
             "passed_time": 114.4377579,
             "remaining_time": 4.458613946,
             "test": [
              0.677645237,
              0.1521313715
             ]
            },
            {
             "iteration": 1925,
             "learn": [
              0.09003988703
             ],
             "passed_time": 114.4938619,
             "remaining_time": 4.399037269,
             "test": [
              0.677645237,
              0.1521356996
             ]
            },
            {
             "iteration": 1926,
             "learn": [
              0.09002567641
             ],
             "passed_time": 114.5527117,
             "remaining_time": 4.339568219,
             "test": [
              0.677645237,
              0.1521365244
             ]
            },
            {
             "iteration": 1927,
             "learn": [
              0.09001149866
             ],
             "passed_time": 114.6083626,
             "remaining_time": 4.279980347,
             "test": [
              0.677645237,
              0.1521373526
             ]
            },
            {
             "iteration": 1928,
             "learn": [
              0.08999733625
             ],
             "passed_time": 114.6642067,
             "remaining_time": 4.220403667,
             "test": [
              0.677645237,
              0.1521381841
             ]
            },
            {
             "iteration": 1929,
             "learn": [
              0.0899831778
             ],
             "passed_time": 114.7203771,
             "remaining_time": 4.160842691,
             "test": [
              0.677645237,
              0.1521390188
             ]
            },
            {
             "iteration": 1930,
             "learn": [
              0.08996901844
             ],
             "passed_time": 114.7760078,
             "remaining_time": 4.101265945,
             "test": [
              0.677645237,
              0.1521398563
             ]
            },
            {
             "iteration": 1931,
             "learn": [
              0.08995488537
             ],
             "passed_time": 114.8323378,
             "remaining_time": 4.041717894,
             "test": [
              0.677645237,
              0.1521406969
             ]
            },
            {
             "iteration": 1932,
             "learn": [
              0.08994071189
             ],
             "passed_time": 114.8919447,
             "remaining_time": 3.982286753,
             "test": [
              0.677645237,
              0.1521449118
             ]
            },
            {
             "iteration": 1933,
             "learn": [
              0.08992660886
             ],
             "passed_time": 114.9525202,
             "remaining_time": 3.922888486,
             "test": [
              0.677645237,
              0.152150018
             ]
            },
            {
             "iteration": 1934,
             "learn": [
              0.0899124688
             ],
             "passed_time": 115.0183239,
             "remaining_time": 3.863664626,
             "test": [
              0.677645237,
              0.1521508653
             ]
            },
            {
             "iteration": 1935,
             "learn": [
              0.08989837434
             ],
             "passed_time": 115.0764484,
             "remaining_time": 3.804180112,
             "test": [
              0.677645237,
              0.1521555732
             ]
            },
            {
             "iteration": 1936,
             "learn": [
              0.08988426956
             ],
             "passed_time": 115.13465,
             "remaining_time": 3.744699508,
             "test": [
              0.677645237,
              0.152156425
             ]
            },
            {
             "iteration": 1937,
             "learn": [
              0.08987015299
             ],
             "passed_time": 115.1927087,
             "remaining_time": 3.685215656,
             "test": [
              0.6776445573,
              0.152159181
             ]
            },
            {
             "iteration": 1938,
             "learn": [
              0.08985607914
             ],
             "passed_time": 115.2515534,
             "remaining_time": 3.625757996,
             "test": [
              0.6776445573,
              0.152160037
             ]
            },
            {
             "iteration": 1939,
             "learn": [
              0.08981413861
             ],
             "passed_time": 115.3137474,
             "remaining_time": 3.566404559,
             "test": [
              0.6776547539,
              0.1521616271
             ]
            },
            {
             "iteration": 1940,
             "learn": [
              0.08980002806
             ],
             "passed_time": 115.3710658,
             "remaining_time": 3.506899992,
             "test": [
              0.6776547539,
              0.1521624487
             ]
            },
            {
             "iteration": 1941,
             "learn": [
              0.0897859491
             ],
             "passed_time": 115.4287536,
             "remaining_time": 3.447408706,
             "test": [
              0.6776547539,
              0.152163274
             ]
            },
            {
             "iteration": 1942,
             "learn": [
              0.08977187975
             ],
             "passed_time": 115.4873793,
             "remaining_time": 3.387946794,
             "test": [
              0.6776547539,
              0.1521667625
             ]
            },
            {
             "iteration": 1943,
             "learn": [
              0.0897578241
             ],
             "passed_time": 115.5446898,
             "remaining_time": 3.328447854,
             "test": [
              0.6776547539,
              0.1521699083
             ]
            },
            {
             "iteration": 1944,
             "learn": [
              0.08974379128
             ],
             "passed_time": 115.6012193,
             "remaining_time": 3.26892908,
             "test": [
              0.6776547539,
              0.1521707435
             ]
            },
            {
             "iteration": 1945,
             "learn": [
              0.08972972362
             ],
             "passed_time": 115.658166,
             "remaining_time": 3.209424955,
             "test": [
              0.6776547539,
              0.1521715818
             ]
            },
            {
             "iteration": 1946,
             "learn": [
              0.08971573262
             ],
             "passed_time": 115.71314,
             "remaining_time": 3.149869758,
             "test": [
              0.6776547539,
              0.1521724232
             ]
            },
            {
             "iteration": 1947,
             "learn": [
              0.08970168488
             ],
             "passed_time": 115.7715998,
             "remaining_time": 3.090412316,
             "test": [
              0.6779565733,
              0.1521608561
             ]
            },
            {
             "iteration": 1948,
             "learn": [
              0.08968766964
             ],
             "passed_time": 115.827297,
             "remaining_time": 3.030883605,
             "test": [
              0.6779565733,
              0.1521617035
             ]
            },
            {
             "iteration": 1949,
             "learn": [
              0.0896736609
             ],
             "passed_time": 115.8841052,
             "remaining_time": 2.971387312,
             "test": [
              0.6779565733,
              0.1521625539
             ]
            },
            {
             "iteration": 1950,
             "learn": [
              0.0896596395
             ],
             "passed_time": 115.9394083,
             "remaining_time": 2.911855975,
             "test": [
              0.6779565733,
              0.1521634071
             ]
            },
            {
             "iteration": 1951,
             "learn": [
              0.08961885318
             ],
             "passed_time": 115.999579,
             "remaining_time": 2.852448664,
             "test": [
              0.677867523,
              0.1521672773
             ]
            },
            {
             "iteration": 1952,
             "learn": [
              0.08960388064
             ],
             "passed_time": 116.054396,
             "remaining_time": 2.792911733,
             "test": [
              0.6778539275,
              0.1521693755
             ]
            },
            {
             "iteration": 1953,
             "learn": [
              0.08958993077
             ],
             "passed_time": 116.1099459,
             "remaining_time": 2.733396885,
             "test": [
              0.6778539275,
              0.152170176
             ]
            },
            {
             "iteration": 1954,
             "learn": [
              0.08957591236
             ],
             "passed_time": 116.1664676,
             "remaining_time": 2.673908462,
             "test": [
              0.6778539275,
              0.1521619191
             ]
            },
            {
             "iteration": 1955,
             "learn": [
              0.08956195477
             ],
             "passed_time": 116.2215306,
             "remaining_time": 2.614390258,
             "test": [
              0.6778539275,
              0.1521627295
             ]
            },
            {
             "iteration": 1956,
             "learn": [
              0.08954797658
             ],
             "passed_time": 116.2772807,
             "remaining_time": 2.554891708,
             "test": [
              0.6778539275,
              0.1521635446
             ]
            },
            {
             "iteration": 1957,
             "learn": [
              0.08951617444
             ],
             "passed_time": 116.3412351,
             "remaining_time": 2.495572969,
             "test": [
              0.6777553604,
              0.1521694224
             ]
            },
            {
             "iteration": 1958,
             "learn": [
              0.08950222328
             ],
             "passed_time": 116.3969754,
             "remaining_time": 2.436077586,
             "test": [
              0.6777553604,
              0.1521702038
             ]
            },
            {
             "iteration": 1959,
             "learn": [
              0.08948824221
             ],
             "passed_time": 116.452196,
             "remaining_time": 2.376575428,
             "test": [
              0.6777553604,
              0.1521709918
             ]
            },
            {
             "iteration": 1960,
             "learn": [
              0.08947431004
             ],
             "passed_time": 116.511586,
             "remaining_time": 2.317160558,
             "test": [
              0.6777553604,
              0.152171786
             ]
            },
            {
             "iteration": 1961,
             "learn": [
              0.08946035575
             ],
             "passed_time": 116.5673384,
             "remaining_time": 2.257675259,
             "test": [
              0.6777553604,
              0.1521725862
             ]
            },
            {
             "iteration": 1962,
             "learn": [
              0.08944641547
             ],
             "passed_time": 116.6246179,
             "remaining_time": 2.198222548,
             "test": [
              0.6777553604,
              0.1521733917
             ]
            },
            {
             "iteration": 1963,
             "learn": [
              0.08943248073
             ],
             "passed_time": 116.6799178,
             "remaining_time": 2.138735764,
             "test": [
              0.6777553604,
              0.1521742021
             ]
            },
            {
             "iteration": 1964,
             "learn": [
              0.08941857718
             ],
             "passed_time": 116.7357134,
             "remaining_time": 2.079262071,
             "test": [
              0.6777553604,
              0.1521750174
             ]
            },
            {
             "iteration": 1965,
             "learn": [
              0.08940467425
             ],
             "passed_time": 116.7919852,
             "remaining_time": 2.019800355,
             "test": [
              0.6777540008,
              0.1521841143
             ]
            },
            {
             "iteration": 1966,
             "learn": [
              0.08939077895
             ],
             "passed_time": 116.8497534,
             "remaining_time": 1.960366987,
             "test": [
              0.6777540008,
              0.1521849378
             ]
            },
            {
             "iteration": 1967,
             "learn": [
              0.08937687419
             ],
             "passed_time": 116.9050264,
             "remaining_time": 1.900894738,
             "test": [
              0.6777540008,
              0.1521857654
             ]
            },
            {
             "iteration": 1968,
             "learn": [
              0.08936303184
             ],
             "passed_time": 116.962192,
             "remaining_time": 1.841456552,
             "test": [
              0.6777540008,
              0.1521865972
             ]
            },
            {
             "iteration": 1969,
             "learn": [
              0.08934752637
             ],
             "passed_time": 117.0181047,
             "remaining_time": 1.782001594,
             "test": [
              0.6776921414,
              0.1521895263
             ]
            },
            {
             "iteration": 1970,
             "learn": [
              0.08933366966
             ],
             "passed_time": 117.0733021,
             "remaining_time": 1.722539707,
             "test": [
              0.6776921414,
              0.152190375
             ]
            },
            {
             "iteration": 1971,
             "learn": [
              0.08931981721
             ],
             "passed_time": 117.1288872,
             "remaining_time": 1.663087648,
             "test": [
              0.6776921414,
              0.1521912266
             ]
            },
            {
             "iteration": 1972,
             "learn": [
              0.0893060096
             ],
             "passed_time": 117.1840539,
             "remaining_time": 1.603633784,
             "test": [
              0.6776921414,
              0.152192081
             ]
            },
            {
             "iteration": 1973,
             "learn": [
              0.08926385654
             ],
             "passed_time": 117.246301,
             "remaining_time": 1.54427752,
             "test": [
              0.6776098888,
              0.152200813
             ]
            },
            {
             "iteration": 1974,
             "learn": [
              0.08924998188
             ],
             "passed_time": 117.3025389,
             "remaining_time": 1.484842264,
             "test": [
              0.6776098888,
              0.1522016399
             ]
            },
            {
             "iteration": 1975,
             "learn": [
              0.0892363602
             ],
             "passed_time": 117.3587559,
             "remaining_time": 1.425409991,
             "test": [
              0.6775956136,
              0.1522028587
             ]
            },
            {
             "iteration": 1976,
             "learn": [
              0.08922252043
             ],
             "passed_time": 117.4139128,
             "remaining_time": 1.365968637,
             "test": [
              0.6775956136,
              0.1522036935
             ]
            },
            {
             "iteration": 1977,
             "learn": [
              0.08920871511
             ],
             "passed_time": 117.4696264,
             "remaining_time": 1.306537806,
             "test": [
              0.6775956136,
              0.1522045325
             ]
            },
            {
             "iteration": 1978,
             "learn": [
              0.08907566953
             ],
             "passed_time": 117.534476,
             "remaining_time": 1.247207679,
             "test": [
              0.6795628784,
              0.152124641
             ]
            },
            {
             "iteration": 1979,
             "learn": [
              0.0890600404
             ],
             "passed_time": 117.5900243,
             "remaining_time": 1.187778024,
             "test": [
              0.6795628784,
              0.1521252303
             ]
            },
            {
             "iteration": 1980,
             "learn": [
              0.08904610332
             ],
             "passed_time": 117.6469966,
             "remaining_time": 1.128365944,
             "test": [
              0.6795628784,
              0.1521257233
             ]
            },
            {
             "iteration": 1981,
             "learn": [
              0.08903228771
             ],
             "passed_time": 117.7049092,
             "remaining_time": 1.068964867,
             "test": [
              0.6795628784,
              0.1521262332
             ]
            },
            {
             "iteration": 1982,
             "learn": [
              0.08898222372
             ],
             "passed_time": 117.7751199,
             "remaining_time": 1.00967072,
             "test": [
              0.6793677834,
              0.1521373844
             ]
            },
            {
             "iteration": 1983,
             "learn": [
              0.08896838618
             ],
             "passed_time": 117.8319178,
             "remaining_time": 0.9502574015,
             "test": [
              0.6793677834,
              0.1521378873
             ]
            },
            {
             "iteration": 1984,
             "learn": [
              0.08895488972
             ],
             "passed_time": 117.8890065,
             "remaining_time": 0.8908489155,
             "test": [
              0.6793677834,
              0.1521383995
             ]
            },
            {
             "iteration": 1985,
             "learn": [
              0.08894108321
             ],
             "passed_time": 117.9447686,
             "remaining_time": 0.8314334143,
             "test": [
              0.6793677834,
              0.1521389446
             ]
            },
            {
             "iteration": 1986,
             "learn": [
              0.08892731885
             ],
             "passed_time": 118.0009603,
             "remaining_time": 0.7720244008,
             "test": [
              0.6793677834,
              0.152139509
             ]
            },
            {
             "iteration": 1987,
             "learn": [
              0.08891355966
             ],
             "passed_time": 118.0583681,
             "remaining_time": 0.7126259644,
             "test": [
              0.6793677834,
              0.1521400913
             ]
            },
            {
             "iteration": 1988,
             "learn": [
              0.08889978046
             ],
             "passed_time": 118.1143471,
             "remaining_time": 0.6532216281,
             "test": [
              0.6793677834,
              0.1521406912
             ]
            },
            {
             "iteration": 1989,
             "learn": [
              0.08888603105
             ],
             "passed_time": 118.1743517,
             "remaining_time": 0.5938409635,
             "test": [
              0.6793677834,
              0.1521413076
             ]
            },
            {
             "iteration": 1990,
             "learn": [
              0.08887230593
             ],
             "passed_time": 118.2396564,
             "remaining_time": 0.5344836302,
             "test": [
              0.6793677834,
              0.1521419401
             ]
            },
            {
             "iteration": 1991,
             "learn": [
              0.08885855436
             ],
             "passed_time": 118.3088642,
             "remaining_time": 0.4751360008,
             "test": [
              0.6793677834,
              0.1521425878
             ]
            },
            {
             "iteration": 1992,
             "learn": [
              0.08884482682
             ],
             "passed_time": 118.3767367,
             "remaining_time": 0.4157737869,
             "test": [
              0.6793677834,
              0.1521432492
             ]
            },
            {
             "iteration": 1993,
             "learn": [
              0.08883112511
             ],
             "passed_time": 118.4379415,
             "remaining_time": 0.3563829735,
             "test": [
              0.6793677834,
              0.1521439243
             ]
            },
            {
             "iteration": 1994,
             "learn": [
              0.08881744215
             ],
             "passed_time": 118.4980245,
             "remaining_time": 0.29698753,
             "test": [
              0.6793677834,
              0.1521446122
             ]
            },
            {
             "iteration": 1995,
             "learn": [
              0.08880369315
             ],
             "passed_time": 118.5569165,
             "remaining_time": 0.2375890111,
             "test": [
              0.6793677834,
              0.1521453123
             ]
            },
            {
             "iteration": 1996,
             "learn": [
              0.08879003783
             ],
             "passed_time": 118.6137397,
             "remaining_time": 0.1781878914,
             "test": [
              0.6793677834,
              0.1521460237
             ]
            },
            {
             "iteration": 1997,
             "learn": [
              0.08877637027
             ],
             "passed_time": 118.6717406,
             "remaining_time": 0.1187905311,
             "test": [
              0.6793677834,
              0.1521467461
             ]
            },
            {
             "iteration": 1998,
             "learn": [
              0.08876269258
             ],
             "passed_time": 118.7297295,
             "remaining_time": 0.05939456205,
             "test": [
              0.6793677834,
              0.1521576498
             ]
            },
            {
             "iteration": 1999,
             "learn": [
              0.08874902764
             ],
             "passed_time": 118.7884628,
             "remaining_time": 0,
             "test": [
              0.6793677834,
              0.1521649823
             ]
            }
           ],
           "meta": {
            "iteration_count": 2000,
            "launch_mode": "Train",
            "learn_metrics": [
             {
              "best_value": "Min",
              "name": "Logloss"
             }
            ],
            "learn_sets": [
             "learn"
            ],
            "name": "experiment",
            "parameters": "",
            "test_metrics": [
             {
              "best_value": "Max",
              "name": "AUC"
             },
             {
              "best_value": "Min",
              "name": "Logloss"
             }
            ],
            "test_sets": [
             "test"
            ]
           }
          },
          "passed_iterations": 1999,
          "total_iterations": 2000
         },
         "name": "base",
         "path": "base"
        }
       },
       "layout": "IPY_MODEL_fa71c8a638bd4796b96663d0ad13e128"
      }
     },
     "fa71c8a638bd4796b96663d0ad13e128": {
      "model_module": "@jupyter-widgets/base",
      "model_module_version": "2.0.0",
      "model_name": "LayoutModel",
      "state": {
       "align_self": "stretch",
       "height": "500px"
      }
     }
    },
    "version_major": 2,
    "version_minor": 0
   }
  }
 },
 "nbformat": 4,
 "nbformat_minor": 4
}
